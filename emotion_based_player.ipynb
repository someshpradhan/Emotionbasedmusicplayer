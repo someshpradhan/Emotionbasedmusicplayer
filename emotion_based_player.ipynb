{
 "cells": [
  {
   "cell_type": "code",
   "execution_count": null,
   "id": "abcd9558",
   "metadata": {},
   "outputs": [],
   "source": []
  },
  {
   "cell_type": "code",
   "execution_count": 1,
   "id": "d0aadaaa",
   "metadata": {},
   "outputs": [
    {
     "name": "stdout",
     "output_type": "stream",
     "text": [
      "Requirement already satisfied: opencv-python in c:\\users\\someshp\\anaconda3\\lib\\site-packages (4.8.1.78)\n",
      "Requirement already satisfied: numpy in c:\\users\\someshp\\anaconda3\\lib\\site-packages (1.26.2)\n",
      "Requirement already satisfied: pygame in c:\\users\\someshp\\anaconda3\\lib\\site-packages (2.5.2)\n",
      "Requirement already satisfied: tensorflow in c:\\users\\someshp\\anaconda3\\lib\\site-packages (2.14.0)\n",
      "Requirement already satisfied: tensorflow-intel==2.14.0 in c:\\users\\someshp\\anaconda3\\lib\\site-packages (from tensorflow) (2.14.0)\n",
      "Requirement already satisfied: absl-py>=1.0.0 in c:\\users\\someshp\\anaconda3\\lib\\site-packages (from tensorflow-intel==2.14.0->tensorflow) (2.0.0)\n",
      "Requirement already satisfied: astunparse>=1.6.0 in c:\\users\\someshp\\anaconda3\\lib\\site-packages (from tensorflow-intel==2.14.0->tensorflow) (1.6.3)\n",
      "Requirement already satisfied: flatbuffers>=23.5.26 in c:\\users\\someshp\\anaconda3\\lib\\site-packages (from tensorflow-intel==2.14.0->tensorflow) (23.5.26)\n",
      "Requirement already satisfied: gast!=0.5.0,!=0.5.1,!=0.5.2,>=0.2.1 in c:\\users\\someshp\\anaconda3\\lib\\site-packages (from tensorflow-intel==2.14.0->tensorflow) (0.5.4)\n",
      "Requirement already satisfied: google-pasta>=0.1.1 in c:\\users\\someshp\\anaconda3\\lib\\site-packages (from tensorflow-intel==2.14.0->tensorflow) (0.2.0)\n",
      "Requirement already satisfied: h5py>=2.9.0 in c:\\users\\someshp\\anaconda3\\lib\\site-packages (from tensorflow-intel==2.14.0->tensorflow) (3.7.0)\n",
      "Requirement already satisfied: libclang>=13.0.0 in c:\\users\\someshp\\anaconda3\\lib\\site-packages (from tensorflow-intel==2.14.0->tensorflow) (16.0.6)\n",
      "Requirement already satisfied: ml-dtypes==0.2.0 in c:\\users\\someshp\\anaconda3\\lib\\site-packages (from tensorflow-intel==2.14.0->tensorflow) (0.2.0)\n",
      "Requirement already satisfied: opt-einsum>=2.3.2 in c:\\users\\someshp\\anaconda3\\lib\\site-packages (from tensorflow-intel==2.14.0->tensorflow) (3.3.0)\n",
      "Requirement already satisfied: packaging in c:\\users\\someshp\\anaconda3\\lib\\site-packages (from tensorflow-intel==2.14.0->tensorflow) (23.0)\n",
      "Requirement already satisfied: protobuf!=4.21.0,!=4.21.1,!=4.21.2,!=4.21.3,!=4.21.4,!=4.21.5,<5.0.0dev,>=3.20.3 in c:\\users\\someshp\\anaconda3\\lib\\site-packages (from tensorflow-intel==2.14.0->tensorflow) (4.23.4)\n",
      "Requirement already satisfied: setuptools in c:\\users\\someshp\\anaconda3\\lib\\site-packages (from tensorflow-intel==2.14.0->tensorflow) (69.0.2)\n",
      "Requirement already satisfied: six>=1.12.0 in c:\\users\\someshp\\anaconda3\\lib\\site-packages (from tensorflow-intel==2.14.0->tensorflow) (1.16.0)\n",
      "Requirement already satisfied: termcolor>=1.1.0 in c:\\users\\someshp\\anaconda3\\lib\\site-packages (from tensorflow-intel==2.14.0->tensorflow) (2.3.0)\n",
      "Requirement already satisfied: typing-extensions>=3.6.6 in c:\\users\\someshp\\anaconda3\\lib\\site-packages (from tensorflow-intel==2.14.0->tensorflow) (4.9.0)\n",
      "Requirement already satisfied: wrapt<1.15,>=1.11.0 in c:\\users\\someshp\\anaconda3\\lib\\site-packages (from tensorflow-intel==2.14.0->tensorflow) (1.14.1)\n",
      "Requirement already satisfied: tensorflow-io-gcs-filesystem>=0.23.1 in c:\\users\\someshp\\anaconda3\\lib\\site-packages (from tensorflow-intel==2.14.0->tensorflow) (0.31.0)\n",
      "Requirement already satisfied: grpcio<2.0,>=1.24.3 in c:\\users\\someshp\\anaconda3\\lib\\site-packages (from tensorflow-intel==2.14.0->tensorflow) (1.59.2)\n",
      "Requirement already satisfied: tensorboard<2.15,>=2.14 in c:\\users\\someshp\\anaconda3\\lib\\site-packages (from tensorflow-intel==2.14.0->tensorflow) (2.14.1)\n",
      "Requirement already satisfied: tensorflow-estimator<2.15,>=2.14.0 in c:\\users\\someshp\\anaconda3\\lib\\site-packages (from tensorflow-intel==2.14.0->tensorflow) (2.14.0)\n",
      "Requirement already satisfied: keras<2.15,>=2.14.0 in c:\\users\\someshp\\anaconda3\\lib\\site-packages (from tensorflow-intel==2.14.0->tensorflow) (2.14.0)\n",
      "Requirement already satisfied: wheel<1.0,>=0.23.0 in c:\\users\\someshp\\anaconda3\\lib\\site-packages (from astunparse>=1.6.0->tensorflow-intel==2.14.0->tensorflow) (0.38.4)\n",
      "Requirement already satisfied: google-auth<3,>=1.6.3 in c:\\users\\someshp\\anaconda3\\lib\\site-packages (from tensorboard<2.15,>=2.14->tensorflow-intel==2.14.0->tensorflow) (2.23.4)\n",
      "Requirement already satisfied: google-auth-oauthlib<1.1,>=0.5 in c:\\users\\someshp\\anaconda3\\lib\\site-packages (from tensorboard<2.15,>=2.14->tensorflow-intel==2.14.0->tensorflow) (1.0.0)\n",
      "Requirement already satisfied: markdown>=2.6.8 in c:\\users\\someshp\\anaconda3\\lib\\site-packages (from tensorboard<2.15,>=2.14->tensorflow-intel==2.14.0->tensorflow) (3.4.1)\n",
      "Requirement already satisfied: requests<3,>=2.21.0 in c:\\users\\someshp\\anaconda3\\lib\\site-packages (from tensorboard<2.15,>=2.14->tensorflow-intel==2.14.0->tensorflow) (2.29.0)\n",
      "Requirement already satisfied: tensorboard-data-server<0.8.0,>=0.7.0 in c:\\users\\someshp\\anaconda3\\lib\\site-packages (from tensorboard<2.15,>=2.14->tensorflow-intel==2.14.0->tensorflow) (0.7.2)\n",
      "Requirement already satisfied: werkzeug>=1.0.1 in c:\\users\\someshp\\anaconda3\\lib\\site-packages (from tensorboard<2.15,>=2.14->tensorflow-intel==2.14.0->tensorflow) (2.2.3)\n",
      "Requirement already satisfied: cachetools<6.0,>=2.0.0 in c:\\users\\someshp\\anaconda3\\lib\\site-packages (from google-auth<3,>=1.6.3->tensorboard<2.15,>=2.14->tensorflow-intel==2.14.0->tensorflow) (5.3.2)\n",
      "Requirement already satisfied: pyasn1-modules>=0.2.1 in c:\\users\\someshp\\anaconda3\\lib\\site-packages (from google-auth<3,>=1.6.3->tensorboard<2.15,>=2.14->tensorflow-intel==2.14.0->tensorflow) (0.2.8)\n",
      "Requirement already satisfied: rsa<5,>=3.1.4 in c:\\users\\someshp\\anaconda3\\lib\\site-packages (from google-auth<3,>=1.6.3->tensorboard<2.15,>=2.14->tensorflow-intel==2.14.0->tensorflow) (4.9)\n",
      "Requirement already satisfied: requests-oauthlib>=0.7.0 in c:\\users\\someshp\\anaconda3\\lib\\site-packages (from google-auth-oauthlib<1.1,>=0.5->tensorboard<2.15,>=2.14->tensorflow-intel==2.14.0->tensorflow) (1.3.1)\n",
      "Requirement already satisfied: charset-normalizer<4,>=2 in c:\\users\\someshp\\anaconda3\\lib\\site-packages (from requests<3,>=2.21.0->tensorboard<2.15,>=2.14->tensorflow-intel==2.14.0->tensorflow) (2.0.4)\n",
      "Requirement already satisfied: idna<4,>=2.5 in c:\\users\\someshp\\anaconda3\\lib\\site-packages (from requests<3,>=2.21.0->tensorboard<2.15,>=2.14->tensorflow-intel==2.14.0->tensorflow) (3.4)\n",
      "Requirement already satisfied: urllib3<1.27,>=1.21.1 in c:\\users\\someshp\\anaconda3\\lib\\site-packages (from requests<3,>=2.21.0->tensorboard<2.15,>=2.14->tensorflow-intel==2.14.0->tensorflow) (1.26.16)\n",
      "Requirement already satisfied: certifi>=2017.4.17 in c:\\users\\someshp\\anaconda3\\lib\\site-packages (from requests<3,>=2.21.0->tensorboard<2.15,>=2.14->tensorflow-intel==2.14.0->tensorflow) (2023.5.7)\n",
      "Requirement already satisfied: MarkupSafe>=2.1.1 in c:\\users\\someshp\\anaconda3\\lib\\site-packages (from werkzeug>=1.0.1->tensorboard<2.15,>=2.14->tensorflow-intel==2.14.0->tensorflow) (2.1.1)\n",
      "Requirement already satisfied: pyasn1<0.5.0,>=0.4.6 in c:\\users\\someshp\\anaconda3\\lib\\site-packages (from pyasn1-modules>=0.2.1->google-auth<3,>=1.6.3->tensorboard<2.15,>=2.14->tensorflow-intel==2.14.0->tensorflow) (0.4.8)\n",
      "Requirement already satisfied: oauthlib>=3.0.0 in c:\\users\\someshp\\anaconda3\\lib\\site-packages (from requests-oauthlib>=0.7.0->google-auth-oauthlib<1.1,>=0.5->tensorboard<2.15,>=2.14->tensorflow-intel==2.14.0->tensorflow) (3.2.2)\n"
     ]
    },
    {
     "name": "stderr",
     "output_type": "stream",
     "text": [
      "\n",
      "[notice] A new release of pip is available: 23.3.1 -> 23.3.2\n",
      "[notice] To update, run: python.exe -m pip install --upgrade pip\n"
     ]
    }
   ],
   "source": [
    "!pip install opencv-python numpy pygame tensorflow\n"
   ]
  },
  {
   "cell_type": "code",
   "execution_count": 2,
   "id": "6ad9fb83",
   "metadata": {},
   "outputs": [
    {
     "name": "stdout",
     "output_type": "stream",
     "text": [
      "Requirement already satisfied: imutils in c:\\users\\someshp\\anaconda3\\lib\\site-packages (0.5.4)\n"
     ]
    },
    {
     "name": "stderr",
     "output_type": "stream",
     "text": [
      "\n",
      "[notice] A new release of pip is available: 23.3.1 -> 23.3.2\n",
      "[notice] To update, run: python.exe -m pip install --upgrade pip\n"
     ]
    }
   ],
   "source": [
    "!pip install imutils\n"
   ]
  },
  {
   "cell_type": "code",
   "execution_count": 3,
   "id": "08c01b6e",
   "metadata": {},
   "outputs": [
    {
     "name": "stdout",
     "output_type": "stream",
     "text": [
      "Requirement already satisfied: pygame in c:\\users\\someshp\\anaconda3\\lib\\site-packages (2.5.2)\n"
     ]
    },
    {
     "name": "stderr",
     "output_type": "stream",
     "text": [
      "\n",
      "[notice] A new release of pip is available: 23.3.1 -> 23.3.2\n",
      "[notice] To update, run: python.exe -m pip install --upgrade pip\n"
     ]
    }
   ],
   "source": [
    "\n",
    "!pip install pygame\n"
   ]
  },
  {
   "cell_type": "code",
   "execution_count": 4,
   "id": "6a07d257",
   "metadata": {},
   "outputs": [
    {
     "name": "stdout",
     "output_type": "stream",
     "text": [
      "Requirement already satisfied: deepface in c:\\users\\someshp\\anaconda3\\lib\\site-packages (0.0.79)\n",
      "Requirement already satisfied: numpy>=1.14.0 in c:\\users\\someshp\\anaconda3\\lib\\site-packages (from deepface) (1.26.2)\n",
      "Requirement already satisfied: pandas>=0.23.4 in c:\\users\\someshp\\anaconda3\\lib\\site-packages (from deepface) (1.5.3)\n",
      "Requirement already satisfied: tqdm>=4.30.0 in c:\\users\\someshp\\anaconda3\\lib\\site-packages (from deepface) (4.65.0)\n",
      "Requirement already satisfied: gdown>=3.10.1 in c:\\users\\someshp\\anaconda3\\lib\\site-packages (from deepface) (4.7.1)\n",
      "Requirement already satisfied: Pillow>=5.2.0 in c:\\users\\someshp\\anaconda3\\lib\\site-packages (from deepface) (9.4.0)\n",
      "Requirement already satisfied: opencv-python>=4.5.5.64 in c:\\users\\someshp\\anaconda3\\lib\\site-packages (from deepface) (4.8.1.78)\n",
      "Requirement already satisfied: tensorflow>=1.9.0 in c:\\users\\someshp\\anaconda3\\lib\\site-packages (from deepface) (2.14.0)\n",
      "Requirement already satisfied: keras>=2.2.0 in c:\\users\\someshp\\anaconda3\\lib\\site-packages (from deepface) (2.14.0)\n",
      "Requirement already satisfied: Flask>=1.1.2 in c:\\users\\someshp\\anaconda3\\lib\\site-packages (from deepface) (2.2.2)\n",
      "Requirement already satisfied: mtcnn>=0.1.0 in c:\\users\\someshp\\anaconda3\\lib\\site-packages (from deepface) (0.1.1)\n",
      "Requirement already satisfied: retina-face>=0.0.1 in c:\\users\\someshp\\anaconda3\\lib\\site-packages (from deepface) (0.0.13)\n",
      "Requirement already satisfied: fire>=0.4.0 in c:\\users\\someshp\\anaconda3\\lib\\site-packages (from deepface) (0.5.0)\n",
      "Requirement already satisfied: gunicorn>=20.1.0 in c:\\users\\someshp\\anaconda3\\lib\\site-packages (from deepface) (21.2.0)\n",
      "Requirement already satisfied: six in c:\\users\\someshp\\anaconda3\\lib\\site-packages (from fire>=0.4.0->deepface) (1.16.0)\n",
      "Requirement already satisfied: termcolor in c:\\users\\someshp\\anaconda3\\lib\\site-packages (from fire>=0.4.0->deepface) (2.3.0)\n",
      "Requirement already satisfied: Werkzeug>=2.2.2 in c:\\users\\someshp\\anaconda3\\lib\\site-packages (from Flask>=1.1.2->deepface) (2.2.3)\n",
      "Requirement already satisfied: Jinja2>=3.0 in c:\\users\\someshp\\anaconda3\\lib\\site-packages (from Flask>=1.1.2->deepface) (3.1.2)\n",
      "Requirement already satisfied: itsdangerous>=2.0 in c:\\users\\someshp\\anaconda3\\lib\\site-packages (from Flask>=1.1.2->deepface) (2.0.1)\n",
      "Requirement already satisfied: click>=8.0 in c:\\users\\someshp\\anaconda3\\lib\\site-packages (from Flask>=1.1.2->deepface) (8.0.4)\n",
      "Requirement already satisfied: filelock in c:\\users\\someshp\\anaconda3\\lib\\site-packages (from gdown>=3.10.1->deepface) (3.9.0)\n",
      "Requirement already satisfied: requests[socks] in c:\\users\\someshp\\anaconda3\\lib\\site-packages (from gdown>=3.10.1->deepface) (2.29.0)\n",
      "Requirement already satisfied: beautifulsoup4 in c:\\users\\someshp\\anaconda3\\lib\\site-packages (from gdown>=3.10.1->deepface) (4.12.2)\n",
      "Requirement already satisfied: packaging in c:\\users\\someshp\\anaconda3\\lib\\site-packages (from gunicorn>=20.1.0->deepface) (23.0)\n",
      "Requirement already satisfied: python-dateutil>=2.8.1 in c:\\users\\someshp\\anaconda3\\lib\\site-packages (from pandas>=0.23.4->deepface) (2.8.2)\n",
      "Requirement already satisfied: pytz>=2020.1 in c:\\users\\someshp\\anaconda3\\lib\\site-packages (from pandas>=0.23.4->deepface) (2022.7)\n",
      "Requirement already satisfied: tensorflow-intel==2.14.0 in c:\\users\\someshp\\anaconda3\\lib\\site-packages (from tensorflow>=1.9.0->deepface) (2.14.0)\n",
      "Requirement already satisfied: absl-py>=1.0.0 in c:\\users\\someshp\\anaconda3\\lib\\site-packages (from tensorflow-intel==2.14.0->tensorflow>=1.9.0->deepface) (2.0.0)\n",
      "Requirement already satisfied: astunparse>=1.6.0 in c:\\users\\someshp\\anaconda3\\lib\\site-packages (from tensorflow-intel==2.14.0->tensorflow>=1.9.0->deepface) (1.6.3)\n",
      "Requirement already satisfied: flatbuffers>=23.5.26 in c:\\users\\someshp\\anaconda3\\lib\\site-packages (from tensorflow-intel==2.14.0->tensorflow>=1.9.0->deepface) (23.5.26)\n",
      "Requirement already satisfied: gast!=0.5.0,!=0.5.1,!=0.5.2,>=0.2.1 in c:\\users\\someshp\\anaconda3\\lib\\site-packages (from tensorflow-intel==2.14.0->tensorflow>=1.9.0->deepface) (0.5.4)\n",
      "Requirement already satisfied: google-pasta>=0.1.1 in c:\\users\\someshp\\anaconda3\\lib\\site-packages (from tensorflow-intel==2.14.0->tensorflow>=1.9.0->deepface) (0.2.0)\n",
      "Requirement already satisfied: h5py>=2.9.0 in c:\\users\\someshp\\anaconda3\\lib\\site-packages (from tensorflow-intel==2.14.0->tensorflow>=1.9.0->deepface) (3.7.0)\n",
      "Requirement already satisfied: libclang>=13.0.0 in c:\\users\\someshp\\anaconda3\\lib\\site-packages (from tensorflow-intel==2.14.0->tensorflow>=1.9.0->deepface) (16.0.6)\n",
      "Requirement already satisfied: ml-dtypes==0.2.0 in c:\\users\\someshp\\anaconda3\\lib\\site-packages (from tensorflow-intel==2.14.0->tensorflow>=1.9.0->deepface) (0.2.0)\n",
      "Requirement already satisfied: opt-einsum>=2.3.2 in c:\\users\\someshp\\anaconda3\\lib\\site-packages (from tensorflow-intel==2.14.0->tensorflow>=1.9.0->deepface) (3.3.0)\n",
      "Requirement already satisfied: protobuf!=4.21.0,!=4.21.1,!=4.21.2,!=4.21.3,!=4.21.4,!=4.21.5,<5.0.0dev,>=3.20.3 in c:\\users\\someshp\\anaconda3\\lib\\site-packages (from tensorflow-intel==2.14.0->tensorflow>=1.9.0->deepface) (4.23.4)\n",
      "Requirement already satisfied: setuptools in c:\\users\\someshp\\anaconda3\\lib\\site-packages (from tensorflow-intel==2.14.0->tensorflow>=1.9.0->deepface) (69.0.2)\n",
      "Requirement already satisfied: typing-extensions>=3.6.6 in c:\\users\\someshp\\anaconda3\\lib\\site-packages (from tensorflow-intel==2.14.0->tensorflow>=1.9.0->deepface) (4.9.0)\n",
      "Requirement already satisfied: wrapt<1.15,>=1.11.0 in c:\\users\\someshp\\anaconda3\\lib\\site-packages (from tensorflow-intel==2.14.0->tensorflow>=1.9.0->deepface) (1.14.1)\n",
      "Requirement already satisfied: tensorflow-io-gcs-filesystem>=0.23.1 in c:\\users\\someshp\\anaconda3\\lib\\site-packages (from tensorflow-intel==2.14.0->tensorflow>=1.9.0->deepface) (0.31.0)\n",
      "Requirement already satisfied: grpcio<2.0,>=1.24.3 in c:\\users\\someshp\\anaconda3\\lib\\site-packages (from tensorflow-intel==2.14.0->tensorflow>=1.9.0->deepface) (1.59.2)\n",
      "Requirement already satisfied: tensorboard<2.15,>=2.14 in c:\\users\\someshp\\anaconda3\\lib\\site-packages (from tensorflow-intel==2.14.0->tensorflow>=1.9.0->deepface) (2.14.1)\n",
      "Requirement already satisfied: tensorflow-estimator<2.15,>=2.14.0 in c:\\users\\someshp\\anaconda3\\lib\\site-packages (from tensorflow-intel==2.14.0->tensorflow>=1.9.0->deepface) (2.14.0)\n",
      "Requirement already satisfied: colorama in c:\\users\\someshp\\anaconda3\\lib\\site-packages (from tqdm>=4.30.0->deepface) (0.4.6)\n",
      "Requirement already satisfied: MarkupSafe>=2.0 in c:\\users\\someshp\\anaconda3\\lib\\site-packages (from Jinja2>=3.0->Flask>=1.1.2->deepface) (2.1.1)\n",
      "Requirement already satisfied: soupsieve>1.2 in c:\\users\\someshp\\anaconda3\\lib\\site-packages (from beautifulsoup4->gdown>=3.10.1->deepface) (2.4)\n",
      "Requirement already satisfied: charset-normalizer<4,>=2 in c:\\users\\someshp\\anaconda3\\lib\\site-packages (from requests[socks]->gdown>=3.10.1->deepface) (2.0.4)\n",
      "Requirement already satisfied: idna<4,>=2.5 in c:\\users\\someshp\\anaconda3\\lib\\site-packages (from requests[socks]->gdown>=3.10.1->deepface) (3.4)\n",
      "Requirement already satisfied: urllib3<1.27,>=1.21.1 in c:\\users\\someshp\\anaconda3\\lib\\site-packages (from requests[socks]->gdown>=3.10.1->deepface) (1.26.16)\n",
      "Requirement already satisfied: certifi>=2017.4.17 in c:\\users\\someshp\\anaconda3\\lib\\site-packages (from requests[socks]->gdown>=3.10.1->deepface) (2023.5.7)\n",
      "Requirement already satisfied: PySocks!=1.5.7,>=1.5.6 in c:\\users\\someshp\\anaconda3\\lib\\site-packages (from requests[socks]->gdown>=3.10.1->deepface) (1.7.1)\n",
      "Requirement already satisfied: wheel<1.0,>=0.23.0 in c:\\users\\someshp\\anaconda3\\lib\\site-packages (from astunparse>=1.6.0->tensorflow-intel==2.14.0->tensorflow>=1.9.0->deepface) (0.38.4)\n",
      "Requirement already satisfied: google-auth<3,>=1.6.3 in c:\\users\\someshp\\anaconda3\\lib\\site-packages (from tensorboard<2.15,>=2.14->tensorflow-intel==2.14.0->tensorflow>=1.9.0->deepface) (2.23.4)\n",
      "Requirement already satisfied: google-auth-oauthlib<1.1,>=0.5 in c:\\users\\someshp\\anaconda3\\lib\\site-packages (from tensorboard<2.15,>=2.14->tensorflow-intel==2.14.0->tensorflow>=1.9.0->deepface) (1.0.0)\n",
      "Requirement already satisfied: markdown>=2.6.8 in c:\\users\\someshp\\anaconda3\\lib\\site-packages (from tensorboard<2.15,>=2.14->tensorflow-intel==2.14.0->tensorflow>=1.9.0->deepface) (3.4.1)\n",
      "Requirement already satisfied: tensorboard-data-server<0.8.0,>=0.7.0 in c:\\users\\someshp\\anaconda3\\lib\\site-packages (from tensorboard<2.15,>=2.14->tensorflow-intel==2.14.0->tensorflow>=1.9.0->deepface) (0.7.2)\n",
      "Requirement already satisfied: cachetools<6.0,>=2.0.0 in c:\\users\\someshp\\anaconda3\\lib\\site-packages (from google-auth<3,>=1.6.3->tensorboard<2.15,>=2.14->tensorflow-intel==2.14.0->tensorflow>=1.9.0->deepface) (5.3.2)\n",
      "Requirement already satisfied: pyasn1-modules>=0.2.1 in c:\\users\\someshp\\anaconda3\\lib\\site-packages (from google-auth<3,>=1.6.3->tensorboard<2.15,>=2.14->tensorflow-intel==2.14.0->tensorflow>=1.9.0->deepface) (0.2.8)\n",
      "Requirement already satisfied: rsa<5,>=3.1.4 in c:\\users\\someshp\\anaconda3\\lib\\site-packages (from google-auth<3,>=1.6.3->tensorboard<2.15,>=2.14->tensorflow-intel==2.14.0->tensorflow>=1.9.0->deepface) (4.9)\n",
      "Requirement already satisfied: requests-oauthlib>=0.7.0 in c:\\users\\someshp\\anaconda3\\lib\\site-packages (from google-auth-oauthlib<1.1,>=0.5->tensorboard<2.15,>=2.14->tensorflow-intel==2.14.0->tensorflow>=1.9.0->deepface) (1.3.1)\n",
      "Requirement already satisfied: pyasn1<0.5.0,>=0.4.6 in c:\\users\\someshp\\anaconda3\\lib\\site-packages (from pyasn1-modules>=0.2.1->google-auth<3,>=1.6.3->tensorboard<2.15,>=2.14->tensorflow-intel==2.14.0->tensorflow>=1.9.0->deepface) (0.4.8)\n",
      "Requirement already satisfied: oauthlib>=3.0.0 in c:\\users\\someshp\\anaconda3\\lib\\site-packages (from requests-oauthlib>=0.7.0->google-auth-oauthlib<1.1,>=0.5->tensorboard<2.15,>=2.14->tensorflow-intel==2.14.0->tensorflow>=1.9.0->deepface) (3.2.2)\n"
     ]
    },
    {
     "name": "stderr",
     "output_type": "stream",
     "text": [
      "\n",
      "[notice] A new release of pip is available: 23.3.1 -> 23.3.2\n",
      "[notice] To update, run: python.exe -m pip install --upgrade pip\n"
     ]
    }
   ],
   "source": [
    "!pip install deepface"
   ]
  },
  {
   "cell_type": "code",
   "execution_count": 5,
   "id": "be02c535",
   "metadata": {
    "scrolled": false
   },
   "outputs": [
    {
     "name": "stdout",
     "output_type": "stream",
     "text": [
      "pygame 2.5.2 (SDL 2.28.3, Python 3.11.3)\n",
      "Hello from the pygame community. https://www.pygame.org/contribute.html\n"
     ]
    },
    {
     "name": "stderr",
     "output_type": "stream",
     "text": [
      "Action: emotion: 100%|██████████| 1/1 [00:00<00:00,  2.71it/s]\n"
     ]
    },
    {
     "name": "stdout",
     "output_type": "stream",
     "text": [
      "Emotion values: {'angry': 0.25857610162347555, 'disgust': 6.37451336160666e-06, 'happy': 0.17076728399842978, 'sad': 89.91284966468811, 'surprise': 0.0011189486031071283, 'neutral': 1.0791733860969543}\n",
      "Label: sad\n"
     ]
    },
    {
     "name": "stderr",
     "output_type": "stream",
     "text": [
      "Action: emotion: 100%|██████████| 1/1 [00:00<00:00, 17.15it/s]\n"
     ]
    },
    {
     "name": "stdout",
     "output_type": "stream",
     "text": [
      "Emotion values: {'angry': 0.1106039838331659, 'disgust': 9.018519965979568e-07, 'happy': 0.03086592692338056, 'sad': 77.58572368792014, 'surprise': 1.8801383451468672e-05, 'neutral': 0.030131197900703798}\n",
      "Label: sad\n"
     ]
    },
    {
     "name": "stderr",
     "output_type": "stream",
     "text": [
      "Action: emotion: 100%|██████████| 1/1 [00:00<00:00, 19.26it/s]\n"
     ]
    },
    {
     "name": "stdout",
     "output_type": "stream",
     "text": [
      "Emotion values: {'angry': 0.004212824431139485, 'disgust': 8.836254007620837e-08, 'happy': 0.009304671021180329, 'sad': 70.46708220635864, 'surprise': 1.1429259730624898e-05, 'neutral': 0.08969005525081691}\n",
      "Label: sad\n"
     ]
    },
    {
     "name": "stderr",
     "output_type": "stream",
     "text": [
      "Action: emotion: 100%|██████████| 1/1 [00:00<00:00, 19.93it/s]\n"
     ]
    },
    {
     "name": "stdout",
     "output_type": "stream",
     "text": [
      "Emotion values: {'angry': 0.03961786970394913, 'disgust': 2.2967445649656805e-06, 'happy': 0.29874137766762043, 'sad': 43.49670189658381, 'surprise': 0.0011909805324610712, 'neutral': 1.8022717622194573}\n",
      "Label: sad\n"
     ]
    },
    {
     "name": "stderr",
     "output_type": "stream",
     "text": [
      "Action: emotion: 100%|██████████| 1/1 [00:00<00:00, 20.28it/s]\n"
     ]
    },
    {
     "name": "stdout",
     "output_type": "stream",
     "text": [
      "Emotion values: {'angry': 0.0008189290028967602, 'disgust': 9.826428235167935e-09, 'happy': 0.020607574744293793, 'sad': 49.73722393582295, 'surprise': 5.886199958603357e-06, 'neutral': 0.04916470212826767}\n",
      "Label: sad\n"
     ]
    },
    {
     "name": "stderr",
     "output_type": "stream",
     "text": [
      "Action: emotion: 100%|██████████| 1/1 [00:00<00:00, 17.84it/s]\n"
     ]
    },
    {
     "name": "stdout",
     "output_type": "stream",
     "text": [
      "Emotion values: {'angry': 0.0005878229994349238, 'disgust': 2.301406707303873e-09, 'happy': 0.02014742400136751, 'sad': 79.22742018372772, 'surprise': 4.5994875309915826e-06, 'neutral': 0.24340354729848537}\n",
      "Label: sad\n"
     ]
    },
    {
     "name": "stderr",
     "output_type": "stream",
     "text": [
      "Action: emotion: 100%|██████████| 1/1 [00:00<00:00, 16.59it/s]\n"
     ]
    },
    {
     "name": "stdout",
     "output_type": "stream",
     "text": [
      "Emotion values: {'angry': 0.0024467173355770385, 'disgust': 8.313163153760904e-09, 'happy': 0.05040614933333691, 'sad': 76.9594059562329, 'surprise': 5.124899494935938e-05, 'neutral': 0.79647093170708}\n",
      "Label: sad\n"
     ]
    },
    {
     "name": "stderr",
     "output_type": "stream",
     "text": [
      "Action: emotion: 100%|██████████| 1/1 [00:00<00:00, 19.33it/s]\n"
     ]
    },
    {
     "name": "stdout",
     "output_type": "stream",
     "text": [
      "Emotion values: {'angry': 0.03655326145235449, 'disgust': 1.273418614999855e-06, 'happy': 0.07436316227540374, 'sad': 81.97945952415466, 'surprise': 0.00015605094176862622, 'neutral': 1.3398122042417526}\n",
      "Label: sad\n"
     ]
    },
    {
     "name": "stderr",
     "output_type": "stream",
     "text": [
      "Action: emotion: 100%|██████████| 1/1 [00:00<00:00, 18.14it/s]\n"
     ]
    },
    {
     "name": "stdout",
     "output_type": "stream",
     "text": [
      "Emotion values: {'angry': 0.053723069140687585, 'disgust': 7.94146473026558e-06, 'happy': 0.09288083529099822, 'sad': 71.67264819145203, 'surprise': 0.00020190175291645573, 'neutral': 0.8120032958686352}\n",
      "Label: sad\n"
     ]
    },
    {
     "name": "stderr",
     "output_type": "stream",
     "text": [
      "Action: emotion: 100%|██████████| 1/1 [00:00<00:00, 17.54it/s]\n"
     ]
    },
    {
     "name": "stdout",
     "output_type": "stream",
     "text": [
      "Emotion values: {'angry': 0.03436630358919501, 'disgust': 4.763074379354748e-07, 'happy': 0.07368424558080733, 'sad': 87.71957159042358, 'surprise': 0.00039855949580669403, 'neutral': 5.100270360708237}\n",
      "Label: sad\n"
     ]
    },
    {
     "name": "stderr",
     "output_type": "stream",
     "text": [
      "Action: emotion: 100%|██████████| 1/1 [00:00<00:00, 20.29it/s]\n"
     ]
    },
    {
     "name": "stdout",
     "output_type": "stream",
     "text": [
      "Emotion values: {'angry': 0.06526793586090207, 'disgust': 4.394481933900352e-06, 'happy': 0.0427450577262789, 'sad': 85.71069836616516, 'surprise': 0.00010009600828198018, 'neutral': 1.0341345332562923}\n",
      "Label: sad\n"
     ]
    },
    {
     "name": "stderr",
     "output_type": "stream",
     "text": [
      "Action: emotion: 100%|██████████| 1/1 [00:00<00:00, 19.64it/s]\n"
     ]
    },
    {
     "name": "stdout",
     "output_type": "stream",
     "text": [
      "Emotion values: {'angry': 0.010899340850301087, 'disgust': 4.323127134053806e-08, 'happy': 0.038205209420993924, 'sad': 90.23454189300537, 'surprise': 6.453914238591096e-05, 'neutral': 1.3855048455297947}\n",
      "Label: sad\n"
     ]
    },
    {
     "name": "stderr",
     "output_type": "stream",
     "text": [
      "Action: emotion: 100%|██████████| 1/1 [00:00<00:00, 19.49it/s]\n"
     ]
    },
    {
     "name": "stdout",
     "output_type": "stream",
     "text": [
      "Emotion values: {'angry': 0.1227525136025258, 'disgust': 4.517151722130671e-06, 'happy': 0.15782929035003723, 'sad': 85.4385546111199, 'surprise': 0.0008468149239860057, 'neutral': 3.268375069998209}\n",
      "Label: sad\n"
     ]
    },
    {
     "name": "stderr",
     "output_type": "stream",
     "text": [
      "Action: emotion: 100%|██████████| 1/1 [00:00<00:00, 19.58it/s]\n"
     ]
    },
    {
     "name": "stdout",
     "output_type": "stream",
     "text": [
      "Emotion values: {'angry': 0.06442679825547624, 'disgust': 1.8415776668822527e-06, 'happy': 0.08805212507521362, 'sad': 83.8867475918977, 'surprise': 0.00021032582370381824, 'neutral': 1.7270221472991794}\n",
      "Label: sad\n"
     ]
    },
    {
     "name": "stderr",
     "output_type": "stream",
     "text": [
      "Action: emotion: 100%|██████████| 1/1 [00:00<00:00, 20.71it/s]\n"
     ]
    },
    {
     "name": "stdout",
     "output_type": "stream",
     "text": [
      "Emotion values: {'angry': 0.09591160924173892, 'disgust': 6.830843801708397e-06, 'happy': 0.36415799986571074, 'sad': 80.92261552810669, 'surprise': 0.0010046370334748644, 'neutral': 5.48945814371109}\n",
      "Label: sad\n"
     ]
    },
    {
     "name": "stderr",
     "output_type": "stream",
     "text": [
      "Action: emotion: 100%|██████████| 1/1 [00:00<00:00, 18.41it/s]\n"
     ]
    },
    {
     "name": "stdout",
     "output_type": "stream",
     "text": [
      "Emotion values: {'angry': 0.007410476973745972, 'disgust': 4.5960524275301395e-08, 'happy': 0.022891077969688922, 'sad': 92.40739345550537, 'surprise': 1.5599650282638322e-05, 'neutral': 0.43207043781876564}\n",
      "Label: sad\n"
     ]
    },
    {
     "name": "stderr",
     "output_type": "stream",
     "text": [
      "Action: emotion: 100%|██████████| 1/1 [00:00<00:00, 17.73it/s]\n"
     ]
    },
    {
     "name": "stdout",
     "output_type": "stream",
     "text": [
      "Emotion values: {'angry': 0.039915513480082154, 'disgust': 9.295953340426877e-07, 'happy': 0.0006237417892407393, 'sad': 66.02489948272705, 'surprise': 1.0410700213014934e-05, 'neutral': 33.31652879714966}\n",
      "Label: sad\n"
     ]
    },
    {
     "name": "stderr",
     "output_type": "stream",
     "text": [
      "Action: emotion: 100%|██████████| 1/1 [00:00<00:00, 18.50it/s]\n"
     ]
    },
    {
     "name": "stdout",
     "output_type": "stream",
     "text": [
      "Emotion values: {'angry': 0.06209364510141313, 'disgust': 2.925770559158991e-06, 'happy': 0.0013883263818570413, 'sad': 75.22979378700256, 'surprise': 1.903175359529996e-05, 'neutral': 23.945650458335876}\n",
      "Label: sad\n"
     ]
    },
    {
     "name": "stderr",
     "output_type": "stream",
     "text": [
      "Action: emotion: 100%|██████████| 1/1 [00:00<00:00, 18.12it/s]\n"
     ]
    },
    {
     "name": "stdout",
     "output_type": "stream",
     "text": [
      "Emotion values: {'angry': 0.10203180744316026, 'disgust': 2.2039592798829973e-06, 'happy': 0.002465707222284062, 'sad': 15.774008081794268, 'surprise': 9.37268849997828e-05, 'neutral': 83.76735948129651}\n",
      "Label: neutral\n"
     ]
    },
    {
     "name": "stderr",
     "output_type": "stream",
     "text": [
      "Action: emotion: 100%|██████████| 1/1 [00:00<00:00, 18.28it/s]\n"
     ]
    },
    {
     "name": "stdout",
     "output_type": "stream",
     "text": [
      "Emotion values: {'angry': 0.10203180744316026, 'disgust': 2.2039592798829973e-06, 'happy': 0.002465707222284062, 'sad': 15.774008081794268, 'surprise': 9.37268849997828e-05, 'neutral': 83.76735948129651}\n",
      "Label: neutral\n"
     ]
    },
    {
     "name": "stderr",
     "output_type": "stream",
     "text": [
      "Action: emotion: 100%|██████████| 1/1 [00:00<00:00, 19.26it/s]\n"
     ]
    },
    {
     "name": "stdout",
     "output_type": "stream",
     "text": [
      "Emotion values: {'angry': 0.13721308205276728, 'disgust': 1.5804577913058893e-05, 'happy': 0.02562430454418063, 'sad': 25.580963492393494, 'surprise': 0.0006839112302259309, 'neutral': 73.37623238563538}\n",
      "Label: neutral\n"
     ]
    },
    {
     "name": "stderr",
     "output_type": "stream",
     "text": [
      "Action: emotion: 100%|██████████| 1/1 [00:00<00:00, 19.58it/s]\n"
     ]
    },
    {
     "name": "stdout",
     "output_type": "stream",
     "text": [
      "Emotion values: {'angry': 0.03952367405872792, 'disgust': 1.9475086432407807e-06, 'happy': 0.0016676149243721738, 'sad': 6.318990141153336, 'surprise': 0.0001984312575586955, 'neutral': 93.51204037666321}\n",
      "Label: neutral\n"
     ]
    },
    {
     "name": "stderr",
     "output_type": "stream",
     "text": [
      "Action: emotion: 100%|██████████| 1/1 [00:00<00:00, 18.89it/s]\n"
     ]
    },
    {
     "name": "stdout",
     "output_type": "stream",
     "text": [
      "Emotion values: {'angry': 0.18820109629096432, 'disgust': 0.012933459861219989, 'happy': 4.381922855147975, 'sad': 25.18861589567472, 'surprise': 0.18770762344209868, 'neutral': 6.328231086941828}\n",
      "Label: sad\n"
     ]
    },
    {
     "name": "stderr",
     "output_type": "stream",
     "text": [
      "Action: emotion: 100%|██████████| 1/1 [00:00<00:00, 19.35it/s]\n"
     ]
    },
    {
     "name": "stdout",
     "output_type": "stream",
     "text": [
      "Emotion values: {'angry': 0.0005002988331624068, 'disgust': 4.0248338882128995e-05, 'happy': 98.81147160393338, 'sad': 0.4871178769030718, 'surprise': 0.0457032034406345, 'neutral': 0.5430128709360516}\n",
      "Label: happy\n"
     ]
    },
    {
     "name": "stderr",
     "output_type": "stream",
     "text": [
      "Action: emotion: 100%|██████████| 1/1 [00:00<00:00, 18.24it/s]\n"
     ]
    },
    {
     "name": "stdout",
     "output_type": "stream",
     "text": [
      "Emotion values: {'angry': 8.459984996989078e-05, 'disgust': 4.106231443756769e-06, 'happy': 99.60954785346985, 'sad': 0.08557469118386507, 'surprise': 0.010229800682282075, 'neutral': 0.2598783699795604}\n",
      "Label: happy\n"
     ]
    },
    {
     "name": "stderr",
     "output_type": "stream",
     "text": [
      "Action: emotion: 100%|██████████| 1/1 [00:00<00:00, 17.50it/s]\n"
     ]
    },
    {
     "name": "stdout",
     "output_type": "stream",
     "text": [
      "Emotion values: {'angry': 0.0007655095942027401, 'disgust': 0.00016723287217246252, 'happy': 99.00863766670227, 'sad': 0.6040228065103292, 'surprise': 0.011854980402858928, 'neutral': 0.18180011538788676}\n",
      "Label: happy\n"
     ]
    },
    {
     "name": "stderr",
     "output_type": "stream",
     "text": [
      "Action: emotion: 100%|██████████| 1/1 [00:00<00:00, 19.21it/s]\n"
     ]
    },
    {
     "name": "stdout",
     "output_type": "stream",
     "text": [
      "Emotion values: {'angry': 0.0007655095942027401, 'disgust': 0.00016723287217246252, 'happy': 99.00863766670227, 'sad': 0.6040228065103292, 'surprise': 0.011854980402858928, 'neutral': 0.18180011538788676}\n",
      "Label: happy\n"
     ]
    },
    {
     "name": "stderr",
     "output_type": "stream",
     "text": [
      "Action: emotion: 100%|██████████| 1/1 [00:00<00:00, 13.08it/s]\n"
     ]
    },
    {
     "name": "stdout",
     "output_type": "stream",
     "text": [
      "Emotion values: {'angry': 0.0003656845156629053, 'disgust': 0.00017711025910630644, 'happy': 96.70060316317044, 'sad': 1.1498702250575752, 'surprise': 0.014513128278608975, 'neutral': 0.41838185530819233}\n",
      "Label: happy\n"
     ]
    },
    {
     "name": "stderr",
     "output_type": "stream",
     "text": [
      "Action: emotion: 100%|██████████| 1/1 [00:00<00:00, 16.94it/s]\n"
     ]
    },
    {
     "name": "stdout",
     "output_type": "stream",
     "text": [
      "Emotion values: {'angry': 0.000776369505037743, 'disgust': 0.0002708241841014865, 'happy': 96.7221204373693, 'sad': 1.5674252057164662, 'surprise': 0.012471599589227934, 'neutral': 0.18905411781843093}\n",
      "Label: happy\n"
     ]
    },
    {
     "name": "stderr",
     "output_type": "stream",
     "text": [
      "Action: emotion: 100%|██████████| 1/1 [00:00<00:00, 19.86it/s]\n"
     ]
    },
    {
     "name": "stdout",
     "output_type": "stream",
     "text": [
      "Emotion values: {'angry': 0.00023399122194887474, 'disgust': 3.0025577020285317e-05, 'happy': 99.33111675606766, 'sad': 0.4178400118988738, 'surprise': 0.005207067185892165, 'neutral': 0.1229549029485997}\n",
      "Label: happy\n"
     ]
    },
    {
     "name": "stderr",
     "output_type": "stream",
     "text": [
      "Action: emotion: 100%|██████████| 1/1 [00:00<00:00, 19.58it/s]\n"
     ]
    },
    {
     "name": "stdout",
     "output_type": "stream",
     "text": [
      "Emotion values: {'angry': 0.0006229678547242656, 'disgust': 0.0003454350462561706, 'happy': 95.53167819976807, 'sad': 1.6199570149183273, 'surprise': 0.021371331240516156, 'neutral': 0.33467933535575867}\n",
      "Label: happy\n"
     ]
    },
    {
     "name": "stderr",
     "output_type": "stream",
     "text": [
      "Action: emotion: 100%|██████████| 1/1 [00:00<00:00, 19.41it/s]\n"
     ]
    },
    {
     "name": "stdout",
     "output_type": "stream",
     "text": [
      "Emotion values: {'angry': 0.000191829167175972, 'disgust': 0.00019248061541582572, 'happy': 93.84837819953225, 'sad': 2.2944779194023703, 'surprise': 0.004954024325949034, 'neutral': 0.34624448109483946}\n",
      "Label: happy\n"
     ]
    },
    {
     "name": "stderr",
     "output_type": "stream",
     "text": [
      "Action: emotion: 100%|██████████| 1/1 [00:00<00:00, 16.97it/s]\n"
     ]
    },
    {
     "name": "stdout",
     "output_type": "stream",
     "text": [
      "Emotion values: {'angry': 0.00039271767491300125, 'disgust': 6.775177325835102e-05, 'happy': 98.3216643333435, 'sad': 0.8072700351476669, 'surprise': 0.004858861575485207, 'neutral': 0.09527871734462678}\n",
      "Label: happy\n"
     ]
    },
    {
     "name": "stderr",
     "output_type": "stream",
     "text": [
      "Action: emotion: 100%|██████████| 1/1 [00:00<00:00, 15.45it/s]\n"
     ]
    },
    {
     "name": "stdout",
     "output_type": "stream",
     "text": [
      "Emotion values: {'angry': 0.0005172657276497799, 'disgust': 0.00041518741962186554, 'happy': 93.93510890780581, 'sad': 2.502153329294523, 'surprise': 0.008833597205159773, 'neutral': 0.20219506613820004}\n",
      "Label: happy\n"
     ]
    },
    {
     "name": "stderr",
     "output_type": "stream",
     "text": [
      "Action: emotion: 100%|██████████| 1/1 [00:00<00:00, 17.67it/s]\n"
     ]
    },
    {
     "name": "stdout",
     "output_type": "stream",
     "text": [
      "Emotion values: {'angry': 0.0006312634013738716, 'disgust': 0.0006059232418920146, 'happy': 93.82902979850769, 'sad': 2.93840654194355, 'surprise': 0.01017535469145514, 'neutral': 0.23487161379307508}\n",
      "Label: happy\n"
     ]
    },
    {
     "name": "stderr",
     "output_type": "stream",
     "text": [
      "Action: emotion: 100%|██████████| 1/1 [00:00<00:00, 18.03it/s]\n"
     ]
    },
    {
     "name": "stdout",
     "output_type": "stream",
     "text": [
      "Emotion values: {'angry': 0.0005030721550259173, 'disgust': 0.0005491237316393874, 'happy': 94.20553514891444, 'sad': 2.674126306280338, 'surprise': 0.0075410933382716525, 'neutral': 0.22842352815138958}\n",
      "Label: happy\n"
     ]
    },
    {
     "name": "stderr",
     "output_type": "stream",
     "text": [
      "Action: emotion: 100%|██████████| 1/1 [00:00<00:00, 17.64it/s]\n"
     ]
    },
    {
     "name": "stdout",
     "output_type": "stream",
     "text": [
      "Emotion values: {'angry': 0.0004743706085719168, 'disgust': 0.00042885289985861164, 'happy': 93.8658058643341, 'sad': 2.8250275179743767, 'surprise': 0.006654418393736705, 'neutral': 0.18500006990507245}\n",
      "Label: happy\n"
     ]
    },
    {
     "name": "stderr",
     "output_type": "stream",
     "text": [
      "Action: emotion: 100%|██████████| 1/1 [00:00<00:00, 19.24it/s]\n"
     ]
    },
    {
     "name": "stdout",
     "output_type": "stream",
     "text": [
      "Emotion values: {'angry': 0.0006164190835988848, 'disgust': 0.0003069715148740215, 'happy': 96.5563178062439, 'sad': 2.042243629693985, 'surprise': 0.003429300704738125, 'neutral': 0.13117394410073757}\n",
      "Label: happy\n"
     ]
    },
    {
     "name": "stderr",
     "output_type": "stream",
     "text": [
      "Action: emotion: 100%|██████████| 1/1 [00:00<00:00, 16.23it/s]\n"
     ]
    },
    {
     "name": "stdout",
     "output_type": "stream",
     "text": [
      "Emotion values: {'angry': 0.0004409163395468691, 'disgust': 0.000498620679213482, 'happy': 92.66874877586976, 'sad': 2.8236704306399307, 'surprise': 0.010029430527922597, 'neutral': 0.3793122260347335}\n",
      "Label: happy\n"
     ]
    },
    {
     "name": "stderr",
     "output_type": "stream",
     "text": [
      "Action: emotion: 100%|██████████| 1/1 [00:00<00:00, 15.84it/s]\n"
     ]
    },
    {
     "name": "stdout",
     "output_type": "stream",
     "text": [
      "Emotion values: {'angry': 0.0010785356341174624, 'disgust': 0.0013837951798344884, 'happy': 96.70684914033706, 'sad': 2.338214171720396, 'surprise': 0.005794433290924626, 'neutral': 0.20754829820533385}\n",
      "Label: happy\n"
     ]
    },
    {
     "name": "stderr",
     "output_type": "stream",
     "text": [
      "Action: emotion: 100%|██████████| 1/1 [00:00<00:00, 15.96it/s]\n"
     ]
    },
    {
     "name": "stdout",
     "output_type": "stream",
     "text": [
      "Emotion values: {'angry': 0.000709191402124939, 'disgust': 0.001185940396174901, 'happy': 89.7842395048427, 'sad': 7.703121179714343, 'surprise': 0.003821915471186098, 'neutral': 0.38907136749581905}\n",
      "Label: happy\n"
     ]
    },
    {
     "name": "stderr",
     "output_type": "stream",
     "text": [
      "Action: emotion: 100%|██████████| 1/1 [00:00<00:00, 16.85it/s]\n"
     ]
    },
    {
     "name": "stdout",
     "output_type": "stream",
     "text": [
      "Emotion values: {'angry': 5.596696155407699e-05, 'disgust': 1.7458537726611212e-06, 'happy': 98.41966032981873, 'sad': 0.031100277556106448, 'surprise': 0.14380909269675612, 'neutral': 1.3113618828356266}\n",
      "Label: happy\n"
     ]
    },
    {
     "name": "stderr",
     "output_type": "stream",
     "text": [
      "Action: emotion: 100%|██████████| 1/1 [00:00<00:00, 17.15it/s]\n"
     ]
    },
    {
     "name": "stdout",
     "output_type": "stream",
     "text": [
      "Emotion values: {'angry': 1.7305387700616848e-05, 'disgust': 2.798956205696257e-09, 'happy': 98.6657440662384, 'sad': 0.000577928540224093, 'surprise': 1.0533422231674194, 'neutral': 0.2777599263936281}\n",
      "Label: happy\n"
     ]
    },
    {
     "name": "stderr",
     "output_type": "stream",
     "text": [
      "Action: emotion: 100%|██████████| 1/1 [00:00<00:00, 16.69it/s]\n"
     ]
    },
    {
     "name": "stdout",
     "output_type": "stream",
     "text": [
      "Emotion values: {'angry': 3.963198480505525e-06, 'disgust': 2.7113300753861536e-10, 'happy': 99.66727495193481, 'sad': 5.67909069104644e-05, 'surprise': 0.27267816476523876, 'neutral': 0.05977604305371642}\n",
      "Label: happy\n"
     ]
    },
    {
     "name": "stderr",
     "output_type": "stream",
     "text": [
      "Action: emotion: 100%|██████████| 1/1 [00:00<00:00, 17.70it/s]\n"
     ]
    },
    {
     "name": "stdout",
     "output_type": "stream",
     "text": [
      "Emotion values: {'angry': 0.00032033753631698417, 'disgust': 3.898407162965679e-05, 'happy': 94.17477215378119, 'sad': 0.010584870227548941, 'surprise': 0.4010397714251144, 'neutral': 4.587569733713253}\n",
      "Label: happy\n"
     ]
    },
    {
     "name": "stderr",
     "output_type": "stream",
     "text": [
      "Action: emotion: 100%|██████████| 1/1 [00:00<00:00, 16.97it/s]\n"
     ]
    },
    {
     "name": "stdout",
     "output_type": "stream",
     "text": [
      "Emotion values: {'angry': 4.6090264239734905e-05, 'disgust': 1.4650205523099213e-06, 'happy': 99.31071408859323, 'sad': 0.006378132788090969, 'surprise': 0.026121802308046543, 'neutral': 0.25830934004523276}\n",
      "Label: happy\n"
     ]
    },
    {
     "name": "stderr",
     "output_type": "stream",
     "text": [
      "Action: emotion: 100%|██████████| 1/1 [00:00<00:00, 16.62it/s]\n"
     ]
    },
    {
     "name": "stdout",
     "output_type": "stream",
     "text": [
      "Emotion values: {'angry': 6.91117504896353e-05, 'disgust': 1.1748670293023549e-06, 'happy': 99.83205794287073, 'sad': 0.018681093592280512, 'surprise': 0.019032875977553484, 'neutral': 0.07019776221612169}\n",
      "Label: happy\n"
     ]
    },
    {
     "name": "stderr",
     "output_type": "stream",
     "text": [
      "Action: emotion: 100%|██████████| 1/1 [00:00<00:00, 16.52it/s]\n"
     ]
    },
    {
     "name": "stdout",
     "output_type": "stream",
     "text": [
      "Emotion values: {'angry': 0.00012741036243824055, 'disgust': 3.1967999802873237e-06, 'happy': 99.56048727035522, 'sad': 0.16808267682790756, 'surprise': 0.01995097700273618, 'neutral': 0.20916492212563753}\n",
      "Label: happy\n"
     ]
    },
    {
     "name": "stderr",
     "output_type": "stream",
     "text": [
      "Action: emotion: 100%|██████████| 1/1 [00:00<00:00, 16.86it/s]\n"
     ]
    },
    {
     "name": "stdout",
     "output_type": "stream",
     "text": [
      "Emotion values: {'angry': 1.1192951718992329e-05, 'disgust': 4.5328602130554794e-07, 'happy': 99.32398804140233, 'sad': 0.004142232371186145, 'surprise': 0.02501917180842348, 'neutral': 0.6417858114944921}\n",
      "Label: happy\n"
     ]
    },
    {
     "name": "stderr",
     "output_type": "stream",
     "text": [
      "Action: emotion: 100%|██████████| 1/1 [00:00<00:00, 15.94it/s]\n"
     ]
    },
    {
     "name": "stdout",
     "output_type": "stream",
     "text": [
      "Emotion values: {'angry': 7.6206217437857655e-06, 'disgust': 2.8494464043610103e-08, 'happy': 99.94023441912141, 'sad': 0.004514472580795404, 'surprise': 0.011101922361900128, 'neutral': 0.04278070955813435}\n",
      "Label: happy\n"
     ]
    },
    {
     "name": "stderr",
     "output_type": "stream",
     "text": [
      "Action: emotion: 100%|██████████| 1/1 [00:00<00:00, 15.62it/s]\n"
     ]
    },
    {
     "name": "stdout",
     "output_type": "stream",
     "text": [
      "Emotion values: {'angry': 3.7757447420946915e-05, 'disgust': 3.03720489098624e-07, 'happy': 99.8491823583354, 'sad': 0.005955276347126519, 'surprise': 0.0382449937264245, 'neutral': 0.08982796524557264}\n",
      "Label: happy\n"
     ]
    },
    {
     "name": "stderr",
     "output_type": "stream",
     "text": [
      "Action: emotion: 100%|██████████| 1/1 [00:00<00:00, 17.02it/s]\n"
     ]
    },
    {
     "name": "stdout",
     "output_type": "stream",
     "text": [
      "Emotion values: {'angry': 1.5581178577343744e-05, 'disgust': 5.3129807104069116e-06, 'happy': 98.8118471131507, 'sad': 0.04906730025018152, 'surprise': 0.014069974491412998, 'neutral': 1.0066578827312131}\n",
      "Label: happy\n"
     ]
    },
    {
     "name": "stderr",
     "output_type": "stream",
     "text": [
      "Action: emotion: 100%|██████████| 1/1 [00:00<00:00, 16.80it/s]\n"
     ]
    },
    {
     "name": "stdout",
     "output_type": "stream",
     "text": [
      "Emotion values: {'angry': 5.1125368827342754e-05, 'disgust': 3.3645058294951014e-06, 'happy': 98.76313805580139, 'sad': 0.03805360174737871, 'surprise': 0.06602905923500657, 'neutral': 1.0148595087230206}\n",
      "Label: happy\n"
     ]
    },
    {
     "name": "stderr",
     "output_type": "stream",
     "text": [
      "Action: emotion: 100%|██████████| 1/1 [00:00<00:00, 15.43it/s]\n"
     ]
    },
    {
     "name": "stdout",
     "output_type": "stream",
     "text": [
      "Emotion values: {'angry': 7.70256349369447e-05, 'disgust': 2.052425074339226e-06, 'happy': 99.70417618751526, 'sad': 0.019627308938652277, 'surprise': 0.04448393592610955, 'neutral': 0.18238743068650365}\n",
      "Label: happy\n"
     ]
    },
    {
     "name": "stderr",
     "output_type": "stream",
     "text": [
      "Action: emotion: 100%|██████████| 1/1 [00:00<00:00, 12.38it/s]\n"
     ]
    },
    {
     "name": "stdout",
     "output_type": "stream",
     "text": [
      "Emotion values: {'angry': 6.607728376406236e-05, 'disgust': 1.709125209978747e-06, 'happy': 99.83760713563008, 'sad': 0.043216056321587044, 'surprise': 0.01364917488400563, 'neutral': 0.07099971831215729}\n",
      "Label: happy\n"
     ]
    },
    {
     "name": "stderr",
     "output_type": "stream",
     "text": [
      "Action: emotion: 100%|██████████| 1/1 [00:00<00:00, 12.99it/s]\n"
     ]
    },
    {
     "name": "stdout",
     "output_type": "stream",
     "text": [
      "Emotion values: {'angry': 0.0003184071336974102, 'disgust': 4.586695741266969e-05, 'happy': 98.19765676246028, 'sad': 0.36448666204432617, 'surprise': 0.03291156222702934, 'neutral': 0.3173615506953925}\n",
      "Label: happy\n"
     ]
    },
    {
     "name": "stderr",
     "output_type": "stream",
     "text": [
      "Action: emotion: 100%|██████████| 1/1 [00:00<00:00, 14.14it/s]\n"
     ]
    },
    {
     "name": "stdout",
     "output_type": "stream",
     "text": [
      "Emotion values: {'angry': 7.230414666992147e-05, 'disgust': 2.78826828292722e-06, 'happy': 99.77973699569702, 'sad': 0.046991207636892796, 'surprise': 0.016097926709335297, 'neutral': 0.12118278536945581}\n",
      "Label: happy\n"
     ]
    },
    {
     "name": "stderr",
     "output_type": "stream",
     "text": [
      "Action: emotion: 100%|██████████| 1/1 [00:00<00:00, 12.97it/s]\n"
     ]
    },
    {
     "name": "stdout",
     "output_type": "stream",
     "text": [
      "Emotion values: {'angry': 0.00010519466968617053, 'disgust': 5.056012497561824e-06, 'happy': 99.73747730255127, 'sad': 0.07471836870536208, 'surprise': 0.013448292156681418, 'neutral': 0.12605880619958043}\n",
      "Label: happy\n"
     ]
    },
    {
     "name": "stderr",
     "output_type": "stream",
     "text": [
      "Action: emotion: 100%|██████████| 1/1 [00:00<00:00, 12.88it/s]\n"
     ]
    },
    {
     "name": "stdout",
     "output_type": "stream",
     "text": [
      "Emotion values: {'angry': 6.327699679786747e-05, 'disgust': 1.2741615762479341e-06, 'happy': 99.80412721633911, 'sad': 0.024901001597754657, 'surprise': 0.032266112975776196, 'neutral': 0.11658234288915992}\n",
      "Label: happy\n"
     ]
    },
    {
     "name": "stderr",
     "output_type": "stream",
     "text": [
      "Action: emotion: 100%|██████████| 1/1 [00:00<00:00, 14.99it/s]\n"
     ]
    },
    {
     "name": "stdout",
     "output_type": "stream",
     "text": [
      "Emotion values: {'angry': 0.000297744208649387, 'disgust': 3.2050933419204715e-05, 'happy': 99.29916258449332, 'sad': 0.21086818398494625, 'surprise': 0.01840739969916044, 'neutral': 0.24550011447817768}\n",
      "Label: happy\n"
     ]
    },
    {
     "name": "stderr",
     "output_type": "stream",
     "text": [
      "Action: emotion: 100%|██████████| 1/1 [00:00<00:00, 16.17it/s]\n"
     ]
    },
    {
     "name": "stdout",
     "output_type": "stream",
     "text": [
      "Emotion values: {'angry': 0.00017031746771128888, 'disgust': 6.153586807187335e-06, 'happy': 99.66369269273834, 'sad': 0.10294371199644875, 'surprise': 0.0194470657101946, 'neutral': 0.1799126495741397}\n",
      "Label: happy\n"
     ]
    },
    {
     "name": "stderr",
     "output_type": "stream",
     "text": [
      "Action: emotion: 100%|██████████| 1/1 [00:00<00:00, 14.15it/s]\n"
     ]
    },
    {
     "name": "stdout",
     "output_type": "stream",
     "text": [
      "Emotion values: {'angry': 0.00012664366604491205, 'disgust': 4.158680015314979e-06, 'happy': 99.75638392491533, 'sad': 0.04401721874326095, 'surprise': 0.028928185391418886, 'neutral': 0.13020607487635913}\n",
      "Label: happy\n"
     ]
    },
    {
     "name": "stderr",
     "output_type": "stream",
     "text": [
      "Action: emotion: 100%|██████████| 1/1 [00:00<00:00, 17.80it/s]\n"
     ]
    },
    {
     "name": "stdout",
     "output_type": "stream",
     "text": [
      "Emotion values: {'angry': 7.54641940682242e-05, 'disgust': 1.3497165330670256e-06, 'happy': 99.78494646728677, 'sad': 0.03125122084733446, 'surprise': 0.03343226164176176, 'neutral': 0.13525831297685945}\n",
      "Label: happy\n"
     ]
    },
    {
     "name": "stderr",
     "output_type": "stream",
     "text": [
      "Action: emotion: 100%|██████████| 1/1 [00:00<00:00, 17.56it/s]\n"
     ]
    },
    {
     "name": "stdout",
     "output_type": "stream",
     "text": [
      "Emotion values: {'angry': 7.351102600729318e-05, 'disgust': 3.115644615037335e-06, 'happy': 99.75747468978469, 'sad': 0.027546650007393956, 'surprise': 0.026863303791263247, 'neutral': 0.15104817521370348}\n",
      "Label: happy\n"
     ]
    },
    {
     "name": "stderr",
     "output_type": "stream",
     "text": [
      "Action: emotion: 100%|██████████| 1/1 [00:00<00:00, 16.47it/s]\n"
     ]
    },
    {
     "name": "stdout",
     "output_type": "stream",
     "text": [
      "Emotion values: {'angry': 0.00041852435970213264, 'disgust': 1.428905704869976e-05, 'happy': 99.67378973960876, 'sad': 0.05469227908179164, 'surprise': 0.057219964219257236, 'neutral': 0.12923359172418714}\n",
      "Label: happy\n"
     ]
    },
    {
     "name": "stderr",
     "output_type": "stream",
     "text": [
      "Action: emotion: 100%|██████████| 1/1 [00:00<00:00, 18.64it/s]\n"
     ]
    },
    {
     "name": "stdout",
     "output_type": "stream",
     "text": [
      "Emotion values: {'angry': 0.00029714171887462726, 'disgust': 1.2668201065935136e-05, 'happy': 99.69854950904846, 'sad': 0.029044700204394758, 'surprise': 0.036578765138983727, 'neutral': 0.14771174173802137}\n",
      "Label: happy\n"
     ]
    },
    {
     "name": "stderr",
     "output_type": "stream",
     "text": [
      "Action: emotion: 100%|██████████| 1/1 [00:00<00:00, 17.76it/s]\n"
     ]
    },
    {
     "name": "stdout",
     "output_type": "stream",
     "text": [
      "Emotion values: {'angry': 0.0002081469326347044, 'disgust': 4.12186324785047e-06, 'happy': 99.79078772177843, 'sad': 0.024977678482287706, 'surprise': 0.05227227188567556, 'neutral': 0.10139391480160775}\n",
      "Label: happy\n"
     ]
    },
    {
     "name": "stderr",
     "output_type": "stream",
     "text": [
      "Action: emotion: 100%|██████████| 1/1 [00:00<00:00, 17.50it/s]\n"
     ]
    },
    {
     "name": "stdout",
     "output_type": "stream",
     "text": [
      "Emotion values: {'angry': 7.880145942302544e-05, 'disgust': 8.47352664719248e-07, 'happy': 99.81209637974544, 'sad': 0.020322243414123396, 'surprise': 0.028276029746670456, 'neutral': 0.1285633268243579}\n",
      "Label: happy\n"
     ]
    },
    {
     "name": "stderr",
     "output_type": "stream",
     "text": [
      "Action: emotion: 100%|██████████| 1/1 [00:00<00:00, 19.25it/s]\n"
     ]
    },
    {
     "name": "stdout",
     "output_type": "stream",
     "text": [
      "Emotion values: {'angry': 0.0005816155169363728, 'disgust': 1.2277436624819372e-05, 'happy': 99.56364040808197, 'sad': 0.0552748671498308, 'surprise': 0.08986815903044831, 'neutral': 0.20499417908559095}\n",
      "Label: happy\n"
     ]
    },
    {
     "name": "stderr",
     "output_type": "stream",
     "text": [
      "Action: emotion: 100%|██████████| 1/1 [00:00<00:00, 19.27it/s]\n"
     ]
    },
    {
     "name": "stdout",
     "output_type": "stream",
     "text": [
      "Emotion values: {'angry': 0.0005816155169363728, 'disgust': 1.2277436624819372e-05, 'happy': 99.56364040808197, 'sad': 0.0552748671498308, 'surprise': 0.08986815903044831, 'neutral': 0.20499417908559095}\n",
      "Label: happy\n"
     ]
    },
    {
     "name": "stderr",
     "output_type": "stream",
     "text": [
      "Action: emotion: 100%|██████████| 1/1 [00:00<00:00, 17.19it/s]\n"
     ]
    },
    {
     "name": "stdout",
     "output_type": "stream",
     "text": [
      "Emotion values: {'angry': 0.00037274598876734877, 'disgust': 7.409638586701611e-06, 'happy': 99.65413208653118, 'sad': 0.032635776258427056, 'surprise': 0.07570315239951342, 'neutral': 0.1810958475622055}\n",
      "Label: happy\n"
     ]
    },
    {
     "name": "stderr",
     "output_type": "stream",
     "text": [
      "Action: emotion: 100%|██████████| 1/1 [00:00<00:00, 18.67it/s]\n"
     ]
    },
    {
     "name": "stdout",
     "output_type": "stream",
     "text": [
      "Emotion values: {'angry': 0.00021295545593602583, 'disgust': 2.2147948186557187e-05, 'happy': 98.6281156539917, 'sad': 0.08773211156949401, 'surprise': 0.0758970039896667, 'neutral': 1.1923513375222683}\n",
      "Label: happy\n"
     ]
    },
    {
     "name": "stderr",
     "output_type": "stream",
     "text": [
      "Action: emotion: 100%|██████████| 1/1 [00:00<00:00, 17.65it/s]\n"
     ]
    },
    {
     "name": "stdout",
     "output_type": "stream",
     "text": [
      "Emotion values: {'angry': 5.629089850033809e-05, 'disgust': 4.331241401680233e-05, 'happy': 95.75588677858632, 'sad': 0.03268169433961477, 'surprise': 0.05111060759153113, 'neutral': 4.1345457216826516}\n",
      "Label: happy\n"
     ]
    },
    {
     "name": "stderr",
     "output_type": "stream",
     "text": [
      "Action: emotion: 100%|██████████| 1/1 [00:00<00:00, 16.28it/s]\n"
     ]
    },
    {
     "name": "stdout",
     "output_type": "stream",
     "text": [
      "Emotion values: {'angry': 5.629089850033809e-05, 'disgust': 4.331241401680233e-05, 'happy': 95.75588677858632, 'sad': 0.03268169433961477, 'surprise': 0.05111060759153113, 'neutral': 4.1345457216826516}\n",
      "Label: happy\n"
     ]
    },
    {
     "name": "stderr",
     "output_type": "stream",
     "text": [
      "Action: emotion: 100%|██████████| 1/1 [00:00<00:00, 16.81it/s]\n"
     ]
    },
    {
     "name": "stdout",
     "output_type": "stream",
     "text": [
      "Emotion values: {'angry': 5.2576897083490194e-05, 'disgust': 1.2778809883659127e-06, 'happy': 99.2947279986577, 'sad': 0.012533990249201075, 'surprise': 0.05518091240113451, 'neutral': 0.6352238270028726}\n",
      "Label: happy\n"
     ]
    },
    {
     "name": "stderr",
     "output_type": "stream",
     "text": [
      "Action: emotion: 100%|██████████| 1/1 [00:00<00:00, 15.98it/s]\n"
     ]
    },
    {
     "name": "stdout",
     "output_type": "stream",
     "text": [
      "Emotion values: {'angry': 0.00018171714480738082, 'disgust': 5.9255956627524255e-06, 'happy': 99.80353715377603, 'sad': 0.042218846707593294, 'surprise': 0.014094405698977476, 'neutral': 0.07371134992218316}\n",
      "Label: happy\n"
     ]
    },
    {
     "name": "stderr",
     "output_type": "stream",
     "text": [
      "Action: emotion: 100%|██████████| 1/1 [00:00<00:00, 15.45it/s]\n"
     ]
    },
    {
     "name": "stdout",
     "output_type": "stream",
     "text": [
      "Emotion values: {'angry': 2.2880874439579202e-05, 'disgust': 3.96682082737243e-06, 'happy': 97.46252298355103, 'sad': 0.017010769806802273, 'surprise': 0.04341942840255797, 'neutral': 2.4739762768149376}\n",
      "Label: happy\n"
     ]
    },
    {
     "name": "stderr",
     "output_type": "stream",
     "text": [
      "Action: emotion: 100%|██████████| 1/1 [00:00<00:00, 15.48it/s]\n"
     ]
    },
    {
     "name": "stdout",
     "output_type": "stream",
     "text": [
      "Emotion values: {'angry': 0.00010996518540196121, 'disgust': 1.7255016970807446e-06, 'happy': 99.8221218585968, 'sad': 0.034482419141568244, 'surprise': 0.01592342450749129, 'neutral': 0.1106850104406476}\n",
      "Label: happy\n"
     ]
    },
    {
     "name": "stderr",
     "output_type": "stream",
     "text": [
      "Action: emotion: 100%|██████████| 1/1 [00:00<00:00, 17.55it/s]\n"
     ]
    },
    {
     "name": "stdout",
     "output_type": "stream",
     "text": [
      "Emotion values: {'angry': 5.6866292652557604e-05, 'disgust': 1.2859167952683492e-05, 'happy': 94.16466355323792, 'sad': 0.037709312164224684, 'surprise': 0.10249897604808211, 'neutral': 5.67120835185051}\n",
      "Label: happy\n"
     ]
    },
    {
     "name": "stderr",
     "output_type": "stream",
     "text": [
      "Action: emotion: 100%|██████████| 1/1 [00:00<00:00, 17.47it/s]\n"
     ]
    },
    {
     "name": "stdout",
     "output_type": "stream",
     "text": [
      "Emotion values: {'angry': 9.782033885130659e-05, 'disgust': 4.97745773486713e-06, 'happy': 98.48195314407349, 'sad': 0.03635905450209975, 'surprise': 0.1307566766627133, 'neutral': 1.346704363822937}\n",
      "Label: happy\n"
     ]
    },
    {
     "name": "stderr",
     "output_type": "stream",
     "text": [
      "Action: emotion: 100%|██████████| 1/1 [00:00<00:00, 17.17it/s]\n"
     ]
    },
    {
     "name": "stdout",
     "output_type": "stream",
     "text": [
      "Emotion values: {'angry': 5.024759275329416e-05, 'disgust': 6.480005865228122e-07, 'happy': 99.89145994186401, 'sad': 0.0196282024262473, 'surprise': 0.009433282684767619, 'neutral': 0.06620353669859469}\n",
      "Label: happy\n"
     ]
    },
    {
     "name": "stderr",
     "output_type": "stream",
     "text": [
      "Action: emotion: 100%|██████████| 1/1 [00:00<00:00, 16.03it/s]\n"
     ]
    },
    {
     "name": "stdout",
     "output_type": "stream",
     "text": [
      "Emotion values: {'angry': 5.3947508149576606e-05, 'disgust': 8.437541332284582e-07, 'happy': 99.87831711769104, 'sad': 0.019683725258801132, 'surprise': 0.010894006845774129, 'neutral': 0.07654853980056942}\n",
      "Label: happy\n"
     ]
    },
    {
     "name": "stderr",
     "output_type": "stream",
     "text": [
      "Action: emotion: 100%|██████████| 1/1 [00:00<00:00, 17.28it/s]\n"
     ]
    },
    {
     "name": "stdout",
     "output_type": "stream",
     "text": [
      "Emotion values: {'angry': 5.3947508149576606e-05, 'disgust': 8.437541332284582e-07, 'happy': 99.87831711769104, 'sad': 0.019683725258801132, 'surprise': 0.010894006845774129, 'neutral': 0.07654853980056942}\n",
      "Label: happy\n"
     ]
    },
    {
     "name": "stderr",
     "output_type": "stream",
     "text": [
      "Action: emotion: 100%|██████████| 1/1 [00:00<00:00, 17.34it/s]\n"
     ]
    },
    {
     "name": "stdout",
     "output_type": "stream",
     "text": [
      "Emotion values: {'angry': 0.00019462784120127216, 'disgust': 4.794018832183941e-06, 'happy': 99.77555873685375, 'sad': 0.053546943837768576, 'surprise': 0.010096553411699053, 'neutral': 0.11483207140257104}\n",
      "Label: happy\n"
     ]
    },
    {
     "name": "stderr",
     "output_type": "stream",
     "text": [
      "Action: emotion: 100%|██████████| 1/1 [00:00<00:00, 17.59it/s]\n"
     ]
    },
    {
     "name": "stdout",
     "output_type": "stream",
     "text": [
      "Emotion values: {'angry': 0.00016484761999890907, 'disgust': 3.3667063803477504e-06, 'happy': 99.80823993682861, 'sad': 0.03491059469524771, 'surprise': 0.011354625166859478, 'neutral': 0.10102043161168694}\n",
      "Label: happy\n"
     ]
    },
    {
     "name": "stderr",
     "output_type": "stream",
     "text": [
      "Action: emotion: 100%|██████████| 1/1 [00:00<00:00, 17.07it/s]\n"
     ]
    },
    {
     "name": "stdout",
     "output_type": "stream",
     "text": [
      "Emotion values: {'angry': 6.624079560424434e-05, 'disgust': 1.599981125366412e-06, 'happy': 99.8532772064209, 'sad': 0.023303224588744342, 'surprise': 0.011158553388668224, 'neutral': 0.08586588664911687}\n",
      "Label: happy\n"
     ]
    },
    {
     "name": "stderr",
     "output_type": "stream",
     "text": [
      "Action: emotion: 100%|██████████| 1/1 [00:00<00:00, 18.47it/s]\n"
     ]
    },
    {
     "name": "stdout",
     "output_type": "stream",
     "text": [
      "Emotion values: {'angry': 0.00011543957043613773, 'disgust': 2.741361448954649e-06, 'happy': 99.8377799987793, 'sad': 0.027468783082440495, 'surprise': 0.006202486110851169, 'neutral': 0.08074621437117457}\n",
      "Label: happy\n"
     ]
    },
    {
     "name": "stderr",
     "output_type": "stream",
     "text": [
      "Action: emotion: 100%|██████████| 1/1 [00:00<00:00, 18.41it/s]\n"
     ]
    },
    {
     "name": "stdout",
     "output_type": "stream",
     "text": [
      "Emotion values: {'angry': 5.796886739517504e-05, 'disgust': 1.1748276129708302e-06, 'happy': 99.87213015556335, 'sad': 0.02285666123498231, 'surprise': 0.010212085180683061, 'neutral': 0.07246147142723203}\n",
      "Label: happy\n"
     ]
    },
    {
     "name": "stderr",
     "output_type": "stream",
     "text": [
      "Action: emotion: 100%|██████████| 1/1 [00:00<00:00, 18.94it/s]\n"
     ]
    },
    {
     "name": "stdout",
     "output_type": "stream",
     "text": [
      "Emotion values: {'angry': 8.173256560439768e-05, 'disgust': 1.315085462749721e-06, 'happy': 99.88685846328735, 'sad': 0.022308003099169582, 'surprise': 0.005802155646961182, 'neutral': 0.06022026063874364}\n",
      "Label: happy\n"
     ]
    },
    {
     "name": "stderr",
     "output_type": "stream",
     "text": [
      "Action: emotion: 100%|██████████| 1/1 [00:00<00:00, 18.90it/s]\n"
     ]
    },
    {
     "name": "stdout",
     "output_type": "stream",
     "text": [
      "Emotion values: {'angry': 0.00014594674518818304, 'disgust': 2.703575707425375e-06, 'happy': 99.81325270971624, 'sad': 0.04067863725883367, 'surprise': 0.016318610379209623, 'neutral': 0.10253220039967294}\n",
      "Label: happy\n"
     ]
    },
    {
     "name": "stderr",
     "output_type": "stream",
     "text": [
      "Action: emotion: 100%|██████████| 1/1 [00:00<00:00, 18.92it/s]\n"
     ]
    },
    {
     "name": "stdout",
     "output_type": "stream",
     "text": [
      "Emotion values: {'angry': 0.00043363877777569625, 'disgust': 2.2343863203629933e-05, 'happy': 99.44951530990096, 'sad': 0.092754041251036, 'surprise': 0.05404318539310607, 'neutral': 0.27670596512889656}\n",
      "Label: happy\n"
     ]
    },
    {
     "name": "stderr",
     "output_type": "stream",
     "text": [
      "Action: emotion: 100%|██████████| 1/1 [00:00<00:00, 19.65it/s]\n"
     ]
    },
    {
     "name": "stdout",
     "output_type": "stream",
     "text": [
      "Emotion values: {'angry': 0.00017577469861862483, 'disgust': 3.6068517061949024e-06, 'happy': 99.8329222202301, 'sad': 0.03806515596807003, 'surprise': 0.01431395357940346, 'neutral': 0.08467757725156844}\n",
      "Label: happy\n"
     ]
    },
    {
     "name": "stderr",
     "output_type": "stream",
     "text": [
      "Action: emotion: 100%|██████████| 1/1 [00:00<00:00, 16.59it/s]\n"
     ]
    },
    {
     "name": "stdout",
     "output_type": "stream",
     "text": [
      "Emotion values: {'angry': 0.00032594514323136536, 'disgust': 2.2916542263828887e-05, 'happy': 98.2309877872467, 'sad': 0.04162128898315132, 'surprise': 0.16639602836221457, 'neutral': 1.549131516367197}\n",
      "Label: happy\n"
     ]
    },
    {
     "name": "stderr",
     "output_type": "stream",
     "text": [
      "Action: emotion: 100%|██████████| 1/1 [00:00<00:00, 18.99it/s]\n"
     ]
    },
    {
     "name": "stdout",
     "output_type": "stream",
     "text": [
      "Emotion values: {'angry': 0.0004956182078611481, 'disgust': 4.4590370677974106e-05, 'happy': 99.53079220836116, 'sad': 0.13628949757900818, 'surprise': 0.007019767927019994, 'neutral': 0.13132927325095375}\n",
      "Label: happy\n"
     ]
    },
    {
     "name": "stderr",
     "output_type": "stream",
     "text": [
      "Action: emotion: 100%|██████████| 1/1 [00:00<00:00, 17.29it/s]\n"
     ]
    },
    {
     "name": "stdout",
     "output_type": "stream",
     "text": [
      "Emotion values: {'angry': 8.544743200239663e-05, 'disgust': 2.4092144072091735e-06, 'happy': 99.77136853082555, 'sad': 0.020575312831308652, 'surprise': 0.023930207010762303, 'neutral': 0.1472798582615127}\n",
      "Label: happy\n"
     ]
    },
    {
     "name": "stderr",
     "output_type": "stream",
     "text": [
      "Action: emotion: 100%|██████████| 1/1 [00:00<00:00, 17.66it/s]\n"
     ]
    },
    {
     "name": "stdout",
     "output_type": "stream",
     "text": [
      "Emotion values: {'angry': 0.00018258100453749648, 'disgust': 3.262033487771987e-06, 'happy': 99.82457160949707, 'sad': 0.04326995986048132, 'surprise': 0.014176865806803107, 'neutral': 0.08419802179560065}\n",
      "Label: happy\n"
     ]
    },
    {
     "name": "stderr",
     "output_type": "stream",
     "text": [
      "Action: emotion: 100%|██████████| 1/1 [00:00<00:00, 18.75it/s]\n"
     ]
    },
    {
     "name": "stdout",
     "output_type": "stream",
     "text": [
      "Emotion values: {'angry': 0.00010889327768381918, 'disgust': 2.004736288085951e-06, 'happy': 99.860280752182, 'sad': 0.025585960247553885, 'surprise': 0.0076792435720562935, 'neutral': 0.07616057991981506}\n",
      "Label: happy\n"
     ]
    },
    {
     "name": "stderr",
     "output_type": "stream",
     "text": [
      "Action: emotion: 100%|██████████| 1/1 [00:00<00:00, 18.48it/s]\n"
     ]
    },
    {
     "name": "stdout",
     "output_type": "stream",
     "text": [
      "Emotion values: {'angry': 0.00014069103983304374, 'disgust': 2.2447717912435693e-06, 'happy': 99.83504413575197, 'sad': 0.028152125237263754, 'surprise': 0.011718228022769646, 'neutral': 0.08676618971213339}\n",
      "Label: happy\n"
     ]
    },
    {
     "name": "stderr",
     "output_type": "stream",
     "text": [
      "Action: emotion: 100%|██████████| 1/1 [00:00<00:00, 17.73it/s]\n"
     ]
    },
    {
     "name": "stdout",
     "output_type": "stream",
     "text": [
      "Emotion values: {'angry': 0.0002098661650541444, 'disgust': 6.917138208174556e-06, 'happy': 99.76114629275479, 'sad': 0.04030781805487383, 'surprise': 0.020493777759002314, 'neutral': 0.133075049162659}\n",
      "Label: happy\n"
     ]
    },
    {
     "name": "stderr",
     "output_type": "stream",
     "text": [
      "Action: emotion: 100%|██████████| 1/1 [00:00<00:00, 18.83it/s]\n"
     ]
    },
    {
     "name": "stdout",
     "output_type": "stream",
     "text": [
      "Emotion values: {'angry': 0.00047116018322412856, 'disgust': 2.0173476400486834e-05, 'happy': 97.51867651939392, 'sad': 0.08321997011080384, 'surprise': 0.21083718165755272, 'neutral': 2.165479399263859}\n",
      "Label: happy\n"
     ]
    },
    {
     "name": "stderr",
     "output_type": "stream",
     "text": [
      "Action: emotion: 100%|██████████| 1/1 [00:00<00:00, 17.88it/s]\n"
     ]
    },
    {
     "name": "stdout",
     "output_type": "stream",
     "text": [
      "Emotion values: {'angry': 0.00046694998563537543, 'disgust': 9.329754700166078e-06, 'happy': 99.60361127810344, 'sad': 0.10658446592948247, 'surprise': 0.03892500653639358, 'neutral': 0.18526126051932448}\n",
      "Label: happy\n"
     ]
    },
    {
     "name": "stderr",
     "output_type": "stream",
     "text": [
      "Action: emotion: 100%|██████████| 1/1 [00:00<00:00, 19.06it/s]\n"
     ]
    },
    {
     "name": "stdout",
     "output_type": "stream",
     "text": [
      "Emotion values: {'angry': 0.0009567012735744817, 'disgust': 2.5842689172120157e-05, 'happy': 99.07225381466701, 'sad': 0.17357334986572268, 'surprise': 0.11739044913465391, 'neutral': 0.5387214767221836}\n",
      "Label: happy\n"
     ]
    },
    {
     "name": "stderr",
     "output_type": "stream",
     "text": [
      "Action: emotion: 100%|██████████| 1/1 [00:00<00:00, 17.84it/s]\n"
     ]
    },
    {
     "name": "stdout",
     "output_type": "stream",
     "text": [
      "Emotion values: {'angry': 0.0018134276615455747, 'disgust': 0.0001074585838978237, 'happy': 98.53312969207764, 'sad': 0.2524263458326459, 'surprise': 0.08965680026449263, 'neutral': 0.7488641422241926}\n",
      "Label: happy\n"
     ]
    },
    {
     "name": "stderr",
     "output_type": "stream",
     "text": [
      "Action: emotion: 100%|██████████| 1/1 [00:00<00:00, 18.38it/s]\n"
     ]
    },
    {
     "name": "stdout",
     "output_type": "stream",
     "text": [
      "Emotion values: {'angry': 0.019362939929123968, 'disgust': 0.0013225291695562191, 'happy': 91.71440005302429, 'sad': 1.6834616661071777, 'surprise': 0.5860441364347935, 'neutral': 4.768090695142746}\n",
      "Label: happy\n"
     ]
    },
    {
     "name": "stderr",
     "output_type": "stream",
     "text": [
      "Action: emotion: 100%|██████████| 1/1 [00:00<00:00, 19.76it/s]\n"
     ]
    },
    {
     "name": "stdout",
     "output_type": "stream",
     "text": [
      "Emotion values: {'angry': 0.12610826694493096, 'disgust': 0.0003874424013624095, 'happy': 0.015755214037684442, 'sad': 5.049764293418186, 'surprise': 0.0062816270762347925, 'neutral': 94.36200227510943}\n",
      "Label: neutral\n"
     ]
    },
    {
     "name": "stderr",
     "output_type": "stream",
     "text": [
      "Action: emotion: 100%|██████████| 1/1 [00:00<00:00, 18.68it/s]\n"
     ]
    },
    {
     "name": "stdout",
     "output_type": "stream",
     "text": [
      "Emotion values: {'angry': 0.019166646234225482, 'disgust': 5.870815389386053e-07, 'happy': 0.00019989756765426137, 'sad': 1.871679164469242, 'surprise': 0.0001164850800705608, 'neutral': 98.020339012146}\n",
      "Label: neutral\n"
     ]
    },
    {
     "name": "stderr",
     "output_type": "stream",
     "text": [
      "Action: emotion: 100%|██████████| 1/1 [00:00<00:00, 18.84it/s]\n"
     ]
    },
    {
     "name": "stdout",
     "output_type": "stream",
     "text": [
      "Emotion values: {'angry': 0.011381525837350637, 'disgust': 2.0580983584039814e-07, 'happy': 9.580001005815575e-05, 'sad': 3.833112120628357, 'surprise': 8.318630762005341e-05, 'neutral': 96.07157707214355}\n",
      "Label: neutral\n"
     ]
    },
    {
     "name": "stderr",
     "output_type": "stream",
     "text": [
      "Action: emotion: 100%|██████████| 1/1 [00:00<00:00, 18.92it/s]\n"
     ]
    },
    {
     "name": "stdout",
     "output_type": "stream",
     "text": [
      "Emotion values: {'angry': 0.006268457946134731, 'disgust': 4.939469944176267e-08, 'happy': 7.75917328610376e-05, 'sad': 3.1283702701330185, 'surprise': 5.044292947786744e-05, 'neutral': 96.81724309921265}\n",
      "Label: neutral\n"
     ]
    },
    {
     "name": "stderr",
     "output_type": "stream",
     "text": [
      "Action: emotion: 100%|██████████| 1/1 [00:00<00:00, 17.81it/s]\n"
     ]
    },
    {
     "name": "stdout",
     "output_type": "stream",
     "text": [
      "Emotion values: {'angry': 0.0087191911006812, 'disgust': 3.7381306383643675e-08, 'happy': 0.00019740241441468243, 'sad': 2.995700389146805, 'surprise': 4.5728415898338426e-05, 'neutral': 96.93965315818787}\n",
      "Label: neutral\n"
     ]
    },
    {
     "name": "stderr",
     "output_type": "stream",
     "text": [
      "Action: emotion: 100%|██████████| 1/1 [00:00<00:00, 19.31it/s]\n"
     ]
    },
    {
     "name": "stdout",
     "output_type": "stream",
     "text": [
      "Emotion values: {'angry': 0.009521510946797207, 'disgust': 4.651736495997483e-08, 'happy': 0.0001608094066796184, 'sad': 2.1629275754094124, 'surprise': 5.409223717833811e-05, 'neutral': 97.78293371200562}\n",
      "Label: neutral\n"
     ]
    },
    {
     "name": "stderr",
     "output_type": "stream",
     "text": [
      "Action: emotion: 100%|██████████| 1/1 [00:00<00:00, 17.19it/s]\n"
     ]
    },
    {
     "name": "stdout",
     "output_type": "stream",
     "text": [
      "Emotion values: {'angry': 0.012467370834201574, 'disgust': 1.1285999912402644e-07, 'happy': 0.00044894236452819314, 'sad': 6.666313856840134, 'surprise': 0.00011551486522876075, 'neutral': 93.23490262031555}\n",
      "Label: neutral\n"
     ]
    },
    {
     "name": "stderr",
     "output_type": "stream",
     "text": [
      "Action: emotion: 100%|██████████| 1/1 [00:00<00:00, 18.21it/s]\n"
     ]
    },
    {
     "name": "stdout",
     "output_type": "stream",
     "text": [
      "Emotion values: {'angry': 0.019861913460772485, 'disgust': 1.75243386468793e-07, 'happy': 6.462704504883732e-05, 'sad': 13.498903810977936, 'surprise': 1.308421957446626e-05, 'neutral': 86.31412386894226}\n",
      "Label: neutral\n"
     ]
    },
    {
     "name": "stderr",
     "output_type": "stream",
     "text": [
      "Action: emotion: 100%|██████████| 1/1 [00:00<00:00, 17.65it/s]\n"
     ]
    },
    {
     "name": "stdout",
     "output_type": "stream",
     "text": [
      "Emotion values: {'angry': 0.01262988371308893, 'disgust': 1.413744010747564e-07, 'happy': 7.602435516673722e-05, 'sad': 5.334510654211044, 'surprise': 3.6411472592590144e-05, 'neutral': 94.58688497543335}\n",
      "Label: neutral\n"
     ]
    },
    {
     "name": "stderr",
     "output_type": "stream",
     "text": [
      "Action: emotion: 100%|██████████| 1/1 [00:00<00:00, 18.45it/s]\n"
     ]
    },
    {
     "name": "stdout",
     "output_type": "stream",
     "text": [
      "Emotion values: {'angry': 0.008925583824748173, 'disgust': 9.199673245419149e-08, 'happy': 7.29155601675302e-05, 'sad': 2.3513203486800194, 'surprise': 5.67960114494781e-05, 'neutral': 97.60225415229797}\n",
      "Label: neutral\n"
     ]
    },
    {
     "name": "stderr",
     "output_type": "stream",
     "text": [
      "Action: emotion: 100%|██████████| 1/1 [00:00<00:00, 18.10it/s]\n"
     ]
    },
    {
     "name": "stdout",
     "output_type": "stream",
     "text": [
      "Emotion values: {'angry': 0.021851304336450994, 'disgust': 6.180146616685533e-07, 'happy': 0.0003857585852529155, 'sad': 13.621306419372559, 'surprise': 8.70432302235713e-05, 'neutral': 86.22152805328369}\n",
      "Label: neutral\n"
     ]
    },
    {
     "name": "stderr",
     "output_type": "stream",
     "text": [
      "Action: emotion: 100%|██████████| 1/1 [00:00<00:00, 18.56it/s]\n"
     ]
    },
    {
     "name": "stdout",
     "output_type": "stream",
     "text": [
      "Emotion values: {'angry': 0.03517579461913556, 'disgust': 3.074129040214757e-06, 'happy': 0.00035662867503560847, 'sad': 1.6952939331531525, 'surprise': 0.00010784347068693023, 'neutral': 98.21593165397644}\n",
      "Label: neutral\n"
     ]
    },
    {
     "name": "stderr",
     "output_type": "stream",
     "text": [
      "Action: emotion: 100%|██████████| 1/1 [00:00<00:00, 18.48it/s]\n"
     ]
    },
    {
     "name": "stdout",
     "output_type": "stream",
     "text": [
      "Emotion values: {'angry': 0.08858093060553074, 'disgust': 8.834655318423756e-06, 'happy': 0.0001052761945175007, 'sad': 42.40630269050598, 'surprise': 2.1155030083264137e-05, 'neutral': 56.525492668151855}\n",
      "Label: neutral\n"
     ]
    },
    {
     "name": "stderr",
     "output_type": "stream",
     "text": [
      "Action: emotion: 100%|██████████| 1/1 [00:00<00:00, 19.66it/s]\n"
     ]
    },
    {
     "name": "stdout",
     "output_type": "stream",
     "text": [
      "Emotion values: {'angry': 0.08858093060553074, 'disgust': 8.834655318423756e-06, 'happy': 0.0001052761945175007, 'sad': 42.40630269050598, 'surprise': 2.1155030083264137e-05, 'neutral': 56.525492668151855}\n",
      "Label: neutral\n"
     ]
    },
    {
     "name": "stderr",
     "output_type": "stream",
     "text": [
      "Action: emotion: 100%|██████████| 1/1 [00:00<00:00, 19.31it/s]\n"
     ]
    },
    {
     "name": "stdout",
     "output_type": "stream",
     "text": [
      "Emotion values: {'angry': 0.049230782315135, 'disgust': 1.2321916820212664e-06, 'happy': 0.0005673766281688586, 'sad': 3.7223976105451584, 'surprise': 0.00042561141526675783, 'neutral': 96.09911441802979}\n",
      "Label: neutral\n"
     ]
    },
    {
     "name": "stderr",
     "output_type": "stream",
     "text": [
      "Action: emotion: 100%|██████████| 1/1 [00:00<00:00, 19.03it/s]\n"
     ]
    },
    {
     "name": "stdout",
     "output_type": "stream",
     "text": [
      "Emotion values: {'angry': 0.022862017609959706, 'disgust': 4.911297909856002e-06, 'happy': 19.297199761533708, 'sad': 7.335631678775749, 'surprise': 0.7099097043913251, 'neutral': 9.75982365129276}\n",
      "Label: happy\n"
     ]
    },
    {
     "name": "stderr",
     "output_type": "stream",
     "text": [
      "Action: emotion: 100%|██████████| 1/1 [00:00<00:00, 17.26it/s]\n"
     ]
    },
    {
     "name": "stdout",
     "output_type": "stream",
     "text": [
      "Emotion values: {'angry': 0.022862017609959706, 'disgust': 4.911297909856002e-06, 'happy': 19.297199761533708, 'sad': 7.335631678775749, 'surprise': 0.7099097043913251, 'neutral': 9.75982365129276}\n",
      "Label: happy\n"
     ]
    },
    {
     "name": "stderr",
     "output_type": "stream",
     "text": [
      "Action: emotion: 100%|██████████| 1/1 [00:00<00:00, 19.03it/s]\n"
     ]
    },
    {
     "name": "stdout",
     "output_type": "stream",
     "text": [
      "Emotion values: {'angry': 0.16950846184045076, 'disgust': 6.063265889366676e-07, 'happy': 0.031113310251384974, 'sad': 11.46794706583023, 'surprise': 0.00016969194120974862, 'neutral': 88.19209337234497}\n",
      "Label: neutral\n"
     ]
    },
    {
     "name": "stderr",
     "output_type": "stream",
     "text": [
      "Action: emotion: 100%|██████████| 1/1 [00:00<00:00, 17.45it/s]\n"
     ]
    },
    {
     "name": "stdout",
     "output_type": "stream",
     "text": [
      "Emotion values: {'angry': 0.16950846184045076, 'disgust': 6.063265889366676e-07, 'happy': 0.031113310251384974, 'sad': 11.46794706583023, 'surprise': 0.00016969194120974862, 'neutral': 88.19209337234497}\n",
      "Label: neutral\n"
     ]
    },
    {
     "name": "stderr",
     "output_type": "stream",
     "text": [
      "Action: emotion: 100%|██████████| 1/1 [00:00<00:00, 17.71it/s]\n"
     ]
    },
    {
     "name": "stdout",
     "output_type": "stream",
     "text": [
      "Emotion values: {'angry': 0.698784547599229, 'disgust': 6.636827927577456e-07, 'happy': 0.028206077921380277, 'sad': 12.257099882191413, 'surprise': 0.04352708606583393, 'neutral': 86.96568530593427}\n",
      "Label: neutral\n"
     ]
    },
    {
     "name": "stderr",
     "output_type": "stream",
     "text": [
      "Action: emotion: 100%|██████████| 1/1 [00:00<00:00, 19.53it/s]\n"
     ]
    },
    {
     "name": "stdout",
     "output_type": "stream",
     "text": [
      "Emotion values: {'angry': 0.698784547599229, 'disgust': 6.636827927577456e-07, 'happy': 0.028206077921380277, 'sad': 12.257099882191413, 'surprise': 0.04352708606583393, 'neutral': 86.96568530593427}\n",
      "Label: neutral\n"
     ]
    },
    {
     "name": "stderr",
     "output_type": "stream",
     "text": [
      "Action: emotion: 100%|██████████| 1/1 [00:00<00:00, 18.09it/s]\n"
     ]
    },
    {
     "name": "stdout",
     "output_type": "stream",
     "text": [
      "Emotion values: {'angry': 0.18826856976374984, 'disgust': 7.750284441998545e-09, 'happy': 0.00039553096939926036, 'sad': 1.9312886521220207, 'surprise': 0.00032237194318440743, 'neutral': 97.8785753250122}\n",
      "Label: neutral\n"
     ]
    },
    {
     "name": "stderr",
     "output_type": "stream",
     "text": [
      "Action: emotion: 100%|██████████| 1/1 [00:00<00:00, 18.67it/s]\n"
     ]
    },
    {
     "name": "stdout",
     "output_type": "stream",
     "text": [
      "Emotion values: {'angry': 0.24224483920603032, 'disgust': 3.0146272343396145e-05, 'happy': 0.13057016381667041, 'sad': 1.6346280506031543, 'surprise': 0.8980466588167345, 'neutral': 96.75942044016244}\n",
      "Label: neutral\n"
     ]
    },
    {
     "name": "stderr",
     "output_type": "stream",
     "text": [
      "Action: emotion: 100%|██████████| 1/1 [00:00<00:00, 19.09it/s]\n"
     ]
    },
    {
     "name": "stdout",
     "output_type": "stream",
     "text": [
      "Emotion values: {'angry': 0.24224483920603032, 'disgust': 3.0146272343396145e-05, 'happy': 0.13057016381667041, 'sad': 1.6346280506031543, 'surprise': 0.8980466588167345, 'neutral': 96.75942044016244}\n",
      "Label: neutral\n"
     ]
    },
    {
     "name": "stderr",
     "output_type": "stream",
     "text": [
      "Action: emotion: 100%|██████████| 1/1 [00:00<00:00, 18.19it/s]\n"
     ]
    },
    {
     "name": "stdout",
     "output_type": "stream",
     "text": [
      "Emotion values: {'angry': 0.02048779983187019, 'disgust': 1.4572455222908433e-06, 'happy': 0.04213993048477504, 'sad': 1.7555534023376347, 'surprise': 0.011161013327590053, 'neutral': 97.96314227361334}\n",
      "Label: neutral\n"
     ]
    },
    {
     "name": "stderr",
     "output_type": "stream",
     "text": [
      "Action: emotion: 100%|██████████| 1/1 [00:00<00:00, 17.14it/s]\n"
     ]
    },
    {
     "name": "stdout",
     "output_type": "stream",
     "text": [
      "Emotion values: {'angry': 0.06630845600739121, 'disgust': 5.556865190214921e-06, 'happy': 0.06147652165964246, 'sad': 5.549589172005653, 'surprise': 0.04426704254001379, 'neutral': 93.08728575706482}\n",
      "Label: neutral\n"
     ]
    },
    {
     "name": "stderr",
     "output_type": "stream",
     "text": [
      "Action: emotion: 100%|██████████| 1/1 [00:00<00:00, 18.71it/s]\n"
     ]
    },
    {
     "name": "stdout",
     "output_type": "stream",
     "text": [
      "Emotion values: {'angry': 0.0028734621082548983, 'disgust': 1.6100337729696435e-08, 'happy': 0.07214723154902458, 'sad': 0.7831265218555927, 'surprise': 0.09502196335233748, 'neutral': 98.89182448387146}\n",
      "Label: neutral\n"
     ]
    },
    {
     "name": "stderr",
     "output_type": "stream",
     "text": [
      "Action: emotion: 100%|██████████| 1/1 [00:00<00:00, 19.01it/s]\n"
     ]
    },
    {
     "name": "stdout",
     "output_type": "stream",
     "text": [
      "Emotion values: {'angry': 0.00019550808502828465, 'disgust': 7.298966011958234e-11, 'happy': 0.03810010029785933, 'sad': 0.0889588142217734, 'surprise': 0.01518406151726836, 'neutral': 99.82198475730328}\n",
      "Label: neutral\n"
     ]
    },
    {
     "name": "stderr",
     "output_type": "stream",
     "text": [
      "Action: emotion: 100%|██████████| 1/1 [00:00<00:00, 17.41it/s]\n"
     ]
    },
    {
     "name": "stdout",
     "output_type": "stream",
     "text": [
      "Emotion values: {'angry': 0.0021342517356970347, 'disgust': 5.737062908073298e-09, 'happy': 0.40926472283899784, 'sad': 0.4769565537571907, 'surprise': 0.10561540257185698, 'neutral': 98.80602955818176}\n",
      "Label: neutral\n"
     ]
    },
    {
     "name": "stderr",
     "output_type": "stream",
     "text": [
      "Action: emotion: 100%|██████████| 1/1 [00:00<00:00, 18.29it/s]\n"
     ]
    },
    {
     "name": "stdout",
     "output_type": "stream",
     "text": [
      "Emotion values: {'angry': 0.0021342517356970347, 'disgust': 5.737062908073298e-09, 'happy': 0.40926472283899784, 'sad': 0.4769565537571907, 'surprise': 0.10561540257185698, 'neutral': 98.80602955818176}\n",
      "Label: neutral\n"
     ]
    },
    {
     "name": "stderr",
     "output_type": "stream",
     "text": [
      "Action: emotion: 100%|██████████| 1/1 [00:00<00:00, 16.72it/s]\n"
     ]
    },
    {
     "name": "stdout",
     "output_type": "stream",
     "text": [
      "Emotion values: {'angry': 0.004511537554208189, 'disgust': 1.8799459766682958e-07, 'happy': 0.2547736745327711, 'sad': 1.2004571966826916, 'surprise': 0.08302004425786436, 'neutral': 98.22972416877747}\n",
      "Label: neutral\n"
     ]
    },
    {
     "name": "stderr",
     "output_type": "stream",
     "text": [
      "Action: emotion: 100%|██████████| 1/1 [00:00<00:00, 16.91it/s]\n"
     ]
    },
    {
     "name": "stdout",
     "output_type": "stream",
     "text": [
      "Emotion values: {'angry': 0.049640462432978295, 'disgust': 3.103928250692699e-05, 'happy': 10.114383555315944, 'sad': 7.06078824763228, 'surprise': 3.267090589826738, 'neutral': 66.57973328708013}\n",
      "Label: neutral\n"
     ]
    },
    {
     "name": "stderr",
     "output_type": "stream",
     "text": [
      "Action: emotion: 100%|██████████| 1/1 [00:00<00:00, 19.20it/s]\n"
     ]
    },
    {
     "name": "stdout",
     "output_type": "stream",
     "text": [
      "Emotion values: {'angry': 0.038258530548773706, 'disgust': 4.979997356713284e-05, 'happy': 14.49032723903656, 'sad': 14.365337789058685, 'surprise': 1.4906489290297031, 'neutral': 34.03623700141907}\n",
      "Label: neutral\n"
     ]
    },
    {
     "name": "stderr",
     "output_type": "stream",
     "text": [
      "Action: emotion: 100%|██████████| 1/1 [00:00<00:00, 17.26it/s]\n"
     ]
    },
    {
     "name": "stdout",
     "output_type": "stream",
     "text": [
      "Emotion values: {'angry': 0.038258530548773706, 'disgust': 4.979997356713284e-05, 'happy': 14.49032723903656, 'sad': 14.365337789058685, 'surprise': 1.4906489290297031, 'neutral': 34.03623700141907}\n",
      "Label: neutral\n"
     ]
    },
    {
     "name": "stderr",
     "output_type": "stream",
     "text": [
      "Action: emotion: 100%|██████████| 1/1 [00:00<00:00, 19.04it/s]\n"
     ]
    },
    {
     "name": "stdout",
     "output_type": "stream",
     "text": [
      "Emotion values: {'angry': 0.08570935389529788, 'disgust': 9.935604931469975e-06, 'happy': 8.806799132037112, 'sad': 2.30269613431073, 'surprise': 26.78728263302342, 'neutral': 61.179838250865835}\n",
      "Label: neutral\n"
     ]
    },
    {
     "name": "stderr",
     "output_type": "stream",
     "text": [
      "Action: emotion: 100%|██████████| 1/1 [00:00<00:00, 14.57it/s]\n"
     ]
    },
    {
     "name": "stdout",
     "output_type": "stream",
     "text": [
      "Emotion values: {'angry': 0.10434161562273596, 'disgust': 4.734083345513578e-05, 'happy': 0.98956931692775, 'sad': 4.578851808837164, 'surprise': 6.482310979504048, 'neutral': 86.73871080510085}\n",
      "Label: neutral\n"
     ]
    },
    {
     "name": "stderr",
     "output_type": "stream",
     "text": [
      "Action: emotion: 100%|██████████| 1/1 [00:00<00:00, 17.98it/s]\n"
     ]
    },
    {
     "name": "stdout",
     "output_type": "stream",
     "text": [
      "Emotion values: {'angry': 0.4565034333767553, 'disgust': 6.6162219205586735e-06, 'happy': 0.03990844071762655, 'sad': 13.473089842384448, 'surprise': 0.761058226886882, 'neutral': 84.62741879388206}\n",
      "Label: neutral\n"
     ]
    },
    {
     "name": "stderr",
     "output_type": "stream",
     "text": [
      "Action: emotion: 100%|██████████| 1/1 [00:00<00:00, 17.46it/s]\n"
     ]
    },
    {
     "name": "stdout",
     "output_type": "stream",
     "text": [
      "Emotion values: {'angry': 0.09626972622002945, 'disgust': 1.6111099865416616e-06, 'happy': 0.2821033484216513, 'sad': 2.764121858582275, 'surprise': 10.167247335046847, 'neutral': 86.61599914836894}\n",
      "Label: neutral\n"
     ]
    },
    {
     "name": "stderr",
     "output_type": "stream",
     "text": [
      "Action: emotion: 100%|██████████| 1/1 [00:00<00:00, 16.98it/s]\n"
     ]
    },
    {
     "name": "stdout",
     "output_type": "stream",
     "text": [
      "Emotion values: {'angry': 0.19232131307944655, 'disgust': 4.3226815904517935e-06, 'happy': 0.24446703027933836, 'sad': 6.435123085975647, 'surprise': 7.264775037765503, 'neutral': 85.73392033576965}\n",
      "Label: neutral\n"
     ]
    },
    {
     "name": "stderr",
     "output_type": "stream",
     "text": [
      "Action: emotion: 100%|██████████| 1/1 [00:00<00:00, 17.83it/s]\n"
     ]
    },
    {
     "name": "stdout",
     "output_type": "stream",
     "text": [
      "Emotion values: {'angry': 0.20514728849860567, 'disgust': 1.1144920989773178e-06, 'happy': 0.16798564791477943, 'sad': 2.721146914822231, 'surprise': 3.5578362127737746, 'neutral': 93.30422958085184}\n",
      "Label: neutral\n"
     ]
    },
    {
     "name": "stderr",
     "output_type": "stream",
     "text": [
      "Action: emotion: 100%|██████████| 1/1 [00:00<00:00, 16.73it/s]\n"
     ]
    },
    {
     "name": "stdout",
     "output_type": "stream",
     "text": [
      "Emotion values: {'angry': 0.0013470179510477465, 'disgust': 1.9751398867146053e-10, 'happy': 0.0003272392405051505, 'sad': 0.058923568576574326, 'surprise': 0.06569757824763656, 'neutral': 99.87308382987976}\n",
      "Label: neutral\n"
     ]
    },
    {
     "name": "stderr",
     "output_type": "stream",
     "text": [
      "Action: emotion: 100%|██████████| 1/1 [00:00<00:00, 18.48it/s]\n"
     ]
    },
    {
     "name": "stdout",
     "output_type": "stream",
     "text": [
      "Emotion values: {'angry': 0.1205330016091466, 'disgust': 6.889036541224414e-06, 'happy': 0.4152284003794193, 'sad': 7.22762867808342, 'surprise': 6.174683198332787, 'neutral': 85.93088984489441}\n",
      "Label: neutral\n"
     ]
    },
    {
     "name": "stderr",
     "output_type": "stream",
     "text": [
      "Action: emotion: 100%|██████████| 1/1 [00:00<00:00, 18.35it/s]\n"
     ]
    },
    {
     "name": "stdout",
     "output_type": "stream",
     "text": [
      "Emotion values: {'angry': 0.23537070030693413, 'disgust': 1.7819949245879974e-06, 'happy': 0.14331732799514102, 'sad': 3.940840672900717, 'surprise': 12.311600882506424, 'neutral': 83.12916059071783}\n",
      "Label: neutral\n"
     ]
    },
    {
     "name": "stderr",
     "output_type": "stream",
     "text": [
      "Action: emotion: 100%|██████████| 1/1 [00:00<00:00, 19.52it/s]\n"
     ]
    },
    {
     "name": "stdout",
     "output_type": "stream",
     "text": [
      "Emotion values: {'angry': 0.9811447933316231, 'disgust': 2.7535887170415663e-05, 'happy': 0.10978950886055827, 'sad': 27.030029892921448, 'surprise': 9.210175275802612, 'neutral': 61.11103296279907}\n",
      "Label: neutral\n"
     ]
    },
    {
     "name": "stderr",
     "output_type": "stream",
     "text": [
      "Action: emotion: 100%|██████████| 1/1 [00:00<00:00, 19.57it/s]\n"
     ]
    },
    {
     "name": "stdout",
     "output_type": "stream",
     "text": [
      "Emotion values: {'angry': 0.1075454650128442, 'disgust': 4.5846124033455206e-08, 'happy': 0.005020465194358998, 'sad': 2.7996914073457013, 'surprise': 1.583943518572273, 'neutral': 95.41590755175442}\n",
      "Label: neutral\n"
     ]
    },
    {
     "name": "stderr",
     "output_type": "stream",
     "text": [
      "Action: emotion: 100%|██████████| 1/1 [00:00<00:00, 19.42it/s]\n"
     ]
    },
    {
     "name": "stdout",
     "output_type": "stream",
     "text": [
      "Emotion values: {'angry': 0.1311088097281754, 'disgust': 4.581591772634397e-08, 'happy': 0.0021487718186108395, 'sad': 4.128412902355194, 'surprise': 0.9915166534483433, 'neutral': 94.47792172431946}\n",
      "Label: neutral\n"
     ]
    },
    {
     "name": "stderr",
     "output_type": "stream",
     "text": [
      "Action: emotion: 100%|██████████| 1/1 [00:00<00:00, 18.49it/s]\n"
     ]
    },
    {
     "name": "stdout",
     "output_type": "stream",
     "text": [
      "Emotion values: {'angry': 0.0358119215034638, 'disgust': 2.7587095983003934e-09, 'happy': 0.010957866619474323, 'sad': 0.7331644707871114, 'surprise': 11.892805320882163, 'neutral': 86.95760524778304}\n",
      "Label: neutral\n"
     ]
    },
    {
     "name": "stderr",
     "output_type": "stream",
     "text": [
      "Action: emotion: 100%|██████████| 1/1 [00:00<00:00, 18.53it/s]\n"
     ]
    },
    {
     "name": "stdout",
     "output_type": "stream",
     "text": [
      "Emotion values: {'angry': 0.08580219582654536, 'disgust': 6.682515651945664e-09, 'happy': 0.003348437530803494, 'sad': 2.777627296745777, 'surprise': 0.44085588306188583, 'neutral': 96.64920568466187}\n",
      "Label: neutral\n"
     ]
    },
    {
     "name": "stderr",
     "output_type": "stream",
     "text": [
      "Action: emotion: 100%|██████████| 1/1 [00:00<00:00, 19.42it/s]\n"
     ]
    },
    {
     "name": "stdout",
     "output_type": "stream",
     "text": [
      "Emotion values: {'angry': 0.11911133315705258, 'disgust': 3.868317008580356e-09, 'happy': 9.820795997816901e-05, 'sad': 5.506948337373038, 'surprise': 0.04603219842171362, 'neutral': 94.25358141980061}\n",
      "Label: neutral\n"
     ]
    },
    {
     "name": "stderr",
     "output_type": "stream",
     "text": [
      "Action: emotion: 100%|██████████| 1/1 [00:00<00:00, 18.24it/s]\n"
     ]
    },
    {
     "name": "stdout",
     "output_type": "stream",
     "text": [
      "Emotion values: {'angry': 0.03848546766676009, 'disgust': 2.6244140541309413e-09, 'happy': 0.0018954486222355627, 'sad': 2.139940485358238, 'surprise': 0.9376312606036663, 'neutral': 96.63853049278259}\n",
      "Label: neutral\n"
     ]
    },
    {
     "name": "stderr",
     "output_type": "stream",
     "text": [
      "Action: emotion: 100%|██████████| 1/1 [00:00<00:00, 19.32it/s]\n"
     ]
    },
    {
     "name": "stdout",
     "output_type": "stream",
     "text": [
      "Emotion values: {'angry': 0.03848546766676009, 'disgust': 2.6244140541309413e-09, 'happy': 0.0018954486222355627, 'sad': 2.139940485358238, 'surprise': 0.9376312606036663, 'neutral': 96.63853049278259}\n",
      "Label: neutral\n"
     ]
    },
    {
     "name": "stderr",
     "output_type": "stream",
     "text": [
      "Action: emotion: 100%|██████████| 1/1 [00:00<00:00, 16.68it/s]\n"
     ]
    },
    {
     "name": "stdout",
     "output_type": "stream",
     "text": [
      "Emotion values: {'angry': 0.03014034009538591, 'disgust': 2.263100297439369e-09, 'happy': 0.0037367528420872986, 'sad': 2.4092113599181175, 'surprise': 0.7246174849569798, 'neutral': 96.55791521072388}\n",
      "Label: neutral\n"
     ]
    },
    {
     "name": "stderr",
     "output_type": "stream",
     "text": [
      "Action: emotion: 100%|██████████| 1/1 [00:00<00:00, 17.53it/s]\n"
     ]
    },
    {
     "name": "stdout",
     "output_type": "stream",
     "text": [
      "Emotion values: {'angry': 0.02280468751862645, 'disgust': 6.122863137301938e-08, 'happy': 0.00015127859334297127, 'sad': 1.0578371283612924, 'surprise': 0.00031228864415074764, 'neutral': 98.88306849497965}\n",
      "Label: neutral\n"
     ]
    },
    {
     "name": "stderr",
     "output_type": "stream",
     "text": [
      "Action: emotion: 100%|██████████| 1/1 [00:00<00:00, 17.47it/s]\n"
     ]
    },
    {
     "name": "stdout",
     "output_type": "stream",
     "text": [
      "Emotion values: {'angry': 0.052050641190709616, 'disgust': 1.09703619276909e-05, 'happy': 0.1134898416015317, 'sad': 4.644072236904172, 'surprise': 0.04529389801679081, 'neutral': 38.885395394014765}\n",
      "Label: neutral\n"
     ]
    },
    {
     "name": "stderr",
     "output_type": "stream",
     "text": [
      "Action: emotion: 100%|██████████| 1/1 [00:00<00:00, 16.40it/s]\n"
     ]
    },
    {
     "name": "stdout",
     "output_type": "stream",
     "text": [
      "Emotion values: {'angry': 0.038388988468796015, 'disgust': 3.601998921354266e-07, 'happy': 0.0009753258382261265, 'sad': 2.4791402742266655, 'surprise': 0.0034938955650432035, 'neutral': 93.65482330322266}\n",
      "Label: neutral\n"
     ]
    },
    {
     "name": "stderr",
     "output_type": "stream",
     "text": [
      "Action: emotion: 100%|██████████| 1/1 [00:00<00:00, 15.90it/s]\n"
     ]
    },
    {
     "name": "stdout",
     "output_type": "stream",
     "text": [
      "Emotion values: {'angry': 0.004681160498876125, 'disgust': 1.0248461107531526e-08, 'happy': 28.048503398895264, 'sad': 0.310800364241004, 'surprise': 0.6443948484957218, 'neutral': 21.216775476932526}\n",
      "Label: happy\n"
     ]
    },
    {
     "name": "stderr",
     "output_type": "stream",
     "text": [
      "Action: emotion: 100%|██████████| 1/1 [00:00<00:00, 18.11it/s]\n"
     ]
    },
    {
     "name": "stdout",
     "output_type": "stream",
     "text": [
      "Emotion values: {'angry': 0.05579498912371565, 'disgust': 1.4900181532933942e-06, 'happy': 0.02294823626277432, 'sad': 5.436449028426293, 'surprise': 0.02439237432295821, 'neutral': 86.17399170088669}\n",
      "Label: neutral\n"
     ]
    },
    {
     "name": "stderr",
     "output_type": "stream",
     "text": [
      "Action: emotion: 100%|██████████| 1/1 [00:00<00:00, 18.60it/s]\n"
     ]
    },
    {
     "name": "stdout",
     "output_type": "stream",
     "text": [
      "Emotion values: {'angry': 0.126567087136209, 'disgust': 6.720105716340186e-06, 'happy': 0.0023529073587269522, 'sad': 27.35579013824463, 'surprise': 0.0008556078682886437, 'neutral': 64.78841304779053}\n",
      "Label: neutral\n"
     ]
    },
    {
     "name": "stderr",
     "output_type": "stream",
     "text": [
      "Action: emotion: 100%|██████████| 1/1 [00:00<00:00, 19.24it/s]\n"
     ]
    },
    {
     "name": "stdout",
     "output_type": "stream",
     "text": [
      "Emotion values: {'angry': 0.01842628844315186, 'disgust': 8.954389452142664e-08, 'happy': 0.0010836797628144268, 'sad': 22.97464609146118, 'surprise': 0.005668104495271109, 'neutral': 75.38071274757385}\n",
      "Label: neutral\n"
     ]
    },
    {
     "name": "stderr",
     "output_type": "stream",
     "text": [
      "Action: emotion: 100%|██████████| 1/1 [00:00<00:00, 18.65it/s]\n"
     ]
    },
    {
     "name": "stdout",
     "output_type": "stream",
     "text": [
      "Emotion values: {'angry': 0.011472245387267321, 'disgust': 6.13804118643202e-08, 'happy': 0.02296965685673058, 'sad': 1.6867225989699364, 'surprise': 0.02872513432521373, 'neutral': 96.74327969551086}\n",
      "Label: neutral\n"
     ]
    },
    {
     "name": "stderr",
     "output_type": "stream",
     "text": [
      "Action: emotion: 100%|██████████| 1/1 [00:00<00:00, 17.86it/s]\n"
     ]
    },
    {
     "name": "stdout",
     "output_type": "stream",
     "text": [
      "Emotion values: {'angry': 0.07473923033103347, 'disgust': 2.0318346116710018e-06, 'happy': 0.025675984215922654, 'sad': 8.628600090742111, 'surprise': 0.022758619161322713, 'neutral': 86.6801381111145}\n",
      "Label: neutral\n"
     ]
    },
    {
     "name": "stderr",
     "output_type": "stream",
     "text": [
      "Action: emotion: 100%|██████████| 1/1 [00:00<00:00, 18.78it/s]\n"
     ]
    },
    {
     "name": "stdout",
     "output_type": "stream",
     "text": [
      "Emotion values: {'angry': 0.056693713640053434, 'disgust': 1.1308201026451093e-06, 'happy': 0.0038252145701530714, 'sad': 2.810110375570014, 'surprise': 0.003586674147197706, 'neutral': 95.88896085155477}\n",
      "Label: neutral\n"
     ]
    },
    {
     "name": "stderr",
     "output_type": "stream",
     "text": [
      "Action: emotion: 100%|██████████| 1/1 [00:00<00:00, 17.42it/s]\n"
     ]
    },
    {
     "name": "stdout",
     "output_type": "stream",
     "text": [
      "Emotion values: {'angry': 0.1214529387652874, 'disgust': 1.4887123533924296e-06, 'happy': 0.008806898404145613, 'sad': 8.667880296707153, 'surprise': 0.006349967588903382, 'neutral': 87.5461220741272}\n",
      "Label: neutral\n"
     ]
    },
    {
     "name": "stderr",
     "output_type": "stream",
     "text": [
      "Action: emotion: 100%|██████████| 1/1 [00:00<00:00, 18.60it/s]\n"
     ]
    },
    {
     "name": "stdout",
     "output_type": "stream",
     "text": [
      "Emotion values: {'angry': 0.09763630805537105, 'disgust': 3.8091618748126166e-07, 'happy': 0.0015034174793981947, 'sad': 5.379703640937805, 'surprise': 0.0011569171874725726, 'neutral': 94.07111406326294}\n",
      "Label: neutral\n"
     ]
    },
    {
     "name": "stderr",
     "output_type": "stream",
     "text": [
      "Action: emotion: 100%|██████████| 1/1 [00:00<00:00, 17.43it/s]\n"
     ]
    },
    {
     "name": "stdout",
     "output_type": "stream",
     "text": [
      "Emotion values: {'angry': 0.024376371584367007, 'disgust': 1.2960366113645705e-07, 'happy': 0.0006745703103661072, 'sad': 3.522506356239319, 'surprise': 0.0006031000339135062, 'neutral': 96.30874395370483}\n",
      "Label: neutral\n"
     ]
    },
    {
     "name": "stderr",
     "output_type": "stream",
     "text": [
      "Action: emotion: 100%|██████████| 1/1 [00:00<00:00, 19.27it/s]\n"
     ]
    },
    {
     "name": "stdout",
     "output_type": "stream",
     "text": [
      "Emotion values: {'angry': 0.15748476143926382, 'disgust': 1.918873238082597e-06, 'happy': 0.0035938741348218173, 'sad': 9.523580223321915, 'surprise': 0.002622230203996878, 'neutral': 87.11010217666626}\n",
      "Label: neutral\n"
     ]
    },
    {
     "name": "stderr",
     "output_type": "stream",
     "text": [
      "Action: emotion: 100%|██████████| 1/1 [00:00<00:00, 17.75it/s]\n"
     ]
    },
    {
     "name": "stdout",
     "output_type": "stream",
     "text": [
      "Emotion values: {'angry': 0.06667569396086037, 'disgust': 2.6811937114956663e-07, 'happy': 0.0005542251983570168, 'sad': 2.4886785075068474, 'surprise': 0.001401881490892265, 'neutral': 97.19839096069336}\n",
      "Label: neutral\n"
     ]
    },
    {
     "name": "stderr",
     "output_type": "stream",
     "text": [
      "Action: emotion: 100%|██████████| 1/1 [00:00<00:00, 17.95it/s]\n"
     ]
    },
    {
     "name": "stdout",
     "output_type": "stream",
     "text": [
      "Emotion values: {'angry': 0.004977723438059911, 'disgust': 1.2036067975618181e-08, 'happy': 0.0028816106350859627, 'sad': 0.6265160162001848, 'surprise': 0.0027015652449335903, 'neutral': 99.09114241600037}\n",
      "Label: neutral\n"
     ]
    },
    {
     "name": "stderr",
     "output_type": "stream",
     "text": [
      "Action: emotion: 100%|██████████| 1/1 [00:00<00:00, 17.69it/s]\n"
     ]
    },
    {
     "name": "stdout",
     "output_type": "stream",
     "text": [
      "Emotion values: {'angry': 0.3185086417943239, 'disgust': 2.496115847350211e-06, 'happy': 0.0005716386112908367, 'sad': 5.458506569266319, 'surprise': 0.0004805015578313032, 'neutral': 93.98954510688782}\n",
      "Label: neutral\n"
     ]
    },
    {
     "name": "stderr",
     "output_type": "stream",
     "text": [
      "Action: emotion: 100%|██████████| 1/1 [00:00<00:00, 16.63it/s]\n"
     ]
    },
    {
     "name": "stdout",
     "output_type": "stream",
     "text": [
      "Emotion values: {'angry': 0.17186837363948665, 'disgust': 4.822286502220202e-06, 'happy': 0.000392694642628736, 'sad': 7.391734116776831, 'surprise': 0.00544915815873176, 'neutral': 92.00074625019707}\n",
      "Label: neutral\n"
     ]
    },
    {
     "name": "stderr",
     "output_type": "stream",
     "text": [
      "Action: emotion: 100%|██████████| 1/1 [00:00<00:00, 18.16it/s]\n"
     ]
    },
    {
     "name": "stdout",
     "output_type": "stream",
     "text": [
      "Emotion values: {'angry': 0.3966990392655134, 'disgust': 0.00013149768847142695, 'happy': 0.002111593676090706, 'sad': 17.335526645183563, 'surprise': 0.011002541577909142, 'neutral': 77.8630256652832}\n",
      "Label: neutral\n"
     ]
    },
    {
     "name": "stderr",
     "output_type": "stream",
     "text": [
      "Action: emotion: 100%|██████████| 1/1 [00:00<00:00, 18.58it/s]\n"
     ]
    },
    {
     "name": "stdout",
     "output_type": "stream",
     "text": [
      "Emotion values: {'angry': 0.14860098017379642, 'disgust': 0.0008916424121707678, 'happy': 4.435056447982788, 'sad': 5.487394705414772, 'surprise': 3.0979538336396217, 'neutral': 15.28734266757965}\n",
      "Label: neutral\n"
     ]
    },
    {
     "name": "stderr",
     "output_type": "stream",
     "text": [
      "Action: emotion: 100%|██████████| 1/1 [00:00<00:00, 19.16it/s]\n"
     ]
    },
    {
     "name": "stdout",
     "output_type": "stream",
     "text": [
      "Emotion values: {'angry': 0.04425238003022969, 'disgust': 0.0007742765774310101, 'happy': 31.972327828407288, 'sad': 17.177799344062805, 'surprise': 1.392601802945137, 'neutral': 4.980707168579102}\n",
      "Label: happy\n"
     ]
    },
    {
     "name": "stderr",
     "output_type": "stream",
     "text": [
      "Action: emotion: 100%|██████████| 1/1 [00:00<00:00, 16.46it/s]\n"
     ]
    },
    {
     "name": "stdout",
     "output_type": "stream",
     "text": [
      "Emotion values: {'angry': 0.013765851326752454, 'disgust': 0.00022900687781657325, 'happy': 87.31902837753296, 'sad': 2.088114619255066, 'surprise': 1.3866054825484753, 'neutral': 3.520122915506363}\n",
      "Label: happy\n"
     ]
    },
    {
     "name": "stderr",
     "output_type": "stream",
     "text": [
      "Action: emotion: 100%|██████████| 1/1 [00:00<00:00, 17.94it/s]\n"
     ]
    },
    {
     "name": "stdout",
     "output_type": "stream",
     "text": [
      "Emotion values: {'angry': 0.004419521428644657, 'disgust': 0.00011474444363557268, 'happy': 95.23815512657166, 'sad': 2.169148251414299, 'surprise': 0.2226377371698618, 'neutral': 0.8497647941112518}\n",
      "Label: happy\n"
     ]
    },
    {
     "name": "stderr",
     "output_type": "stream",
     "text": [
      "Action: emotion: 100%|██████████| 1/1 [00:00<00:00, 18.05it/s]\n"
     ]
    },
    {
     "name": "stdout",
     "output_type": "stream",
     "text": [
      "Emotion values: {'angry': 0.004015628770809139, 'disgust': 0.0001259655541712683, 'happy': 97.18365039630537, 'sad': 1.0684029541495983, 'surprise': 0.1590543965426858, 'neutral': 0.6048186471842106}\n",
      "Label: happy\n"
     ]
    },
    {
     "name": "stderr",
     "output_type": "stream",
     "text": [
      "Action: emotion: 100%|██████████| 1/1 [00:00<00:00, 18.55it/s]\n"
     ]
    },
    {
     "name": "stdout",
     "output_type": "stream",
     "text": [
      "Emotion values: {'angry': 0.0046333712816704065, 'disgust': 0.0002210645334344008, 'happy': 96.35084271430969, 'sad': 0.830481294542551, 'surprise': 0.38508919533342123, 'neutral': 1.0598940774798393}\n",
      "Label: happy\n"
     ]
    },
    {
     "name": "stderr",
     "output_type": "stream",
     "text": [
      "Action: emotion: 100%|██████████| 1/1 [00:00<00:00, 19.16it/s]\n"
     ]
    },
    {
     "name": "stdout",
     "output_type": "stream",
     "text": [
      "Emotion values: {'angry': 0.002164683897963689, 'disgust': 6.182491292428041e-05, 'happy': 96.8336049516672, 'sad': 0.9166246118695006, 'surprise': 0.05424347990828992, 'neutral': 0.3176757919951329}\n",
      "Label: happy\n"
     ]
    },
    {
     "name": "stderr",
     "output_type": "stream",
     "text": [
      "Action: emotion: 100%|██████████| 1/1 [00:00<00:00, 18.26it/s]\n"
     ]
    },
    {
     "name": "stdout",
     "output_type": "stream",
     "text": [
      "Emotion values: {'angry': 0.002441775250146415, 'disgust': 6.141795956848473e-05, 'happy': 94.77159443240232, 'sad': 0.9522847627359912, 'surprise': 0.13490140692574895, 'neutral': 0.4176455052023524}\n",
      "Label: happy\n"
     ]
    },
    {
     "name": "stderr",
     "output_type": "stream",
     "text": [
      "Action: emotion: 100%|██████████| 1/1 [00:00<00:00, 17.75it/s]\n"
     ]
    },
    {
     "name": "stdout",
     "output_type": "stream",
     "text": [
      "Emotion values: {'angry': 0.0007257174685230348, 'disgust': 2.144614057759876e-05, 'happy': 94.55365473671613, 'sad': 0.8649108099831117, 'surprise': 0.07031728420463612, 'neutral': 0.2797627223745254}\n",
      "Label: happy\n"
     ]
    },
    {
     "name": "stderr",
     "output_type": "stream",
     "text": [
      "Action: emotion: 100%|██████████| 1/1 [00:00<00:00, 17.80it/s]\n"
     ]
    },
    {
     "name": "stdout",
     "output_type": "stream",
     "text": [
      "Emotion values: {'angry': 0.0015696891776962275, 'disgust': 0.00013984603962394435, 'happy': 97.31641395785891, 'sad': 0.9417870643309989, 'surprise': 0.06886595339274129, 'neutral': 0.3503048302787441}\n",
      "Label: happy\n"
     ]
    },
    {
     "name": "stderr",
     "output_type": "stream",
     "text": [
      "Action: emotion: 100%|██████████| 1/1 [00:00<00:00, 16.97it/s]\n"
     ]
    },
    {
     "name": "stdout",
     "output_type": "stream",
     "text": [
      "Emotion values: {'angry': 0.002154320570870272, 'disgust': 6.102211341541038e-05, 'happy': 96.18033216234062, 'sad': 0.7877563118629084, 'surprise': 0.12507791071201435, 'neutral': 0.44192703760540036}\n",
      "Label: happy\n"
     ]
    },
    {
     "name": "stderr",
     "output_type": "stream",
     "text": [
      "Action: emotion: 100%|██████████| 1/1 [00:00<00:00, 18.60it/s]\n"
     ]
    },
    {
     "name": "stdout",
     "output_type": "stream",
     "text": [
      "Emotion values: {'angry': 0.0011157346307300031, 'disgust': 1.58361430635523e-05, 'happy': 97.66453504562378, 'sad': 0.32513218466192484, 'surprise': 0.20750851836055517, 'neutral': 0.5320108961313963}\n",
      "Label: happy\n"
     ]
    },
    {
     "name": "stderr",
     "output_type": "stream",
     "text": [
      "Action: emotion: 100%|██████████| 1/1 [00:00<00:00, 17.49it/s]\n"
     ]
    },
    {
     "name": "stdout",
     "output_type": "stream",
     "text": [
      "Emotion values: {'angry': 0.0027584677809500135, 'disgust': 8.88900103745982e-05, 'happy': 88.7068510055542, 'sad': 1.0402494110167027, 'surprise': 0.17669277731329203, 'neutral': 0.43396418914198875}\n",
      "Label: happy\n"
     ]
    },
    {
     "name": "stderr",
     "output_type": "stream",
     "text": [
      "Action: emotion: 100%|██████████| 1/1 [00:00<00:00, 11.11it/s]"
     ]
    },
    {
     "name": "stdout",
     "output_type": "stream",
     "text": [
      "Emotion values: {'angry': 0.005145416798768565, 'disgust': 0.00011832487416540971, 'happy': 93.30333471298218, 'sad': 1.7505798488855362, 'surprise': 0.19285029266029596, 'neutral': 0.6290150806307793}\n",
      "Label: happy\n"
     ]
    },
    {
     "name": "stderr",
     "output_type": "stream",
     "text": [
      "\n",
      "Action: emotion: 100%|██████████| 1/1 [00:00<00:00, 16.16it/s]\n"
     ]
    },
    {
     "name": "stdout",
     "output_type": "stream",
     "text": [
      "Emotion values: {'angry': 0.006643158186063401, 'disgust': 0.0001266131940569217, 'happy': 91.68328543702191, 'sad': 2.323456571812221, 'surprise': 0.21693008278221879, 'neutral': 1.263394077973852}\n",
      "Label: happy\n"
     ]
    },
    {
     "name": "stderr",
     "output_type": "stream",
     "text": [
      "Action: emotion: 100%|██████████| 1/1 [00:00<00:00, 15.93it/s]\n"
     ]
    },
    {
     "name": "stdout",
     "output_type": "stream",
     "text": [
      "Emotion values: {'angry': 0.019190102155009787, 'disgust': 0.00022431946918095557, 'happy': 85.70125613816118, 'sad': 2.8035407694304446, 'surprise': 0.5719759842441072, 'neutral': 2.592343060215894}\n",
      "Label: happy\n"
     ]
    },
    {
     "name": "stderr",
     "output_type": "stream",
     "text": [
      "Action: emotion: 100%|██████████| 1/1 [00:00<00:00, 16.09it/s]\n"
     ]
    },
    {
     "name": "stdout",
     "output_type": "stream",
     "text": [
      "Emotion values: {'angry': 0.1721476553939283, 'disgust': 0.010924275557044894, 'happy': 7.835771143436432, 'sad': 32.748204469680786, 'surprise': 0.08468872401863337, 'neutral': 26.380470395088196}\n",
      "Label: sad\n"
     ]
    },
    {
     "name": "stderr",
     "output_type": "stream",
     "text": [
      "Action: emotion: 100%|██████████| 1/1 [00:00<00:00, 16.86it/s]\n"
     ]
    },
    {
     "name": "stdout",
     "output_type": "stream",
     "text": [
      "Emotion values: {'angry': 0.033885720768012106, 'disgust': 0.0004707326297648251, 'happy': 72.86176085472107, 'sad': 9.190794080495834, 'surprise': 0.23942440748214722, 'neutral': 2.093842811882496}\n",
      "Label: happy\n"
     ]
    },
    {
     "name": "stderr",
     "output_type": "stream",
     "text": [
      "Action: emotion: 100%|██████████| 1/1 [00:00<00:00, 15.73it/s]\n"
     ]
    },
    {
     "name": "stdout",
     "output_type": "stream",
     "text": [
      "Emotion values: {'angry': 0.04003805806860328, 'disgust': 0.0009104831406148151, 'happy': 83.48059058189392, 'sad': 6.954621523618698, 'surprise': 0.2787864301353693, 'neutral': 0.9714367799460888}\n",
      "Label: happy\n"
     ]
    },
    {
     "name": "stderr",
     "output_type": "stream",
     "text": [
      "Action: emotion: 100%|██████████| 1/1 [00:00<00:00, 16.51it/s]\n"
     ]
    },
    {
     "name": "stdout",
     "output_type": "stream",
     "text": [
      "Emotion values: {'angry': 0.01205529406433925, 'disgust': 0.0004144210834056139, 'happy': 93.88995170593262, 'sad': 1.9020171836018562, 'surprise': 0.2272526966407895, 'neutral': 1.0630463249981403}\n",
      "Label: happy\n"
     ]
    },
    {
     "name": "stderr",
     "output_type": "stream",
     "text": [
      "Action: emotion: 100%|██████████| 1/1 [00:00<00:00, 16.16it/s]\n"
     ]
    },
    {
     "name": "stdout",
     "output_type": "stream",
     "text": [
      "Emotion values: {'angry': 0.028130746795795858, 'disgust': 0.0009507283721177373, 'happy': 86.27845048904419, 'sad': 8.668088167905807, 'surprise': 0.1518969889730215, 'neutral': 0.8739184588193893}\n",
      "Label: happy\n"
     ]
    },
    {
     "name": "stderr",
     "output_type": "stream",
     "text": [
      "Action: emotion: 100%|██████████| 1/1 [00:00<00:00, 16.92it/s]\n"
     ]
    },
    {
     "name": "stdout",
     "output_type": "stream",
     "text": [
      "Emotion values: {'angry': 0.0033029518817784265, 'disgust': 0.000162751507559733, 'happy': 98.21938276290894, 'sad': 0.8410652168095112, 'surprise': 0.06532860570587218, 'neutral': 0.3465267363935709}\n",
      "Label: happy\n"
     ]
    },
    {
     "name": "stderr",
     "output_type": "stream",
     "text": [
      "Action: emotion: 100%|██████████| 1/1 [00:00<00:00, 16.49it/s]\n"
     ]
    },
    {
     "name": "stdout",
     "output_type": "stream",
     "text": [
      "Emotion values: {'angry': 0.007944771422137746, 'disgust': 0.000457861087840894, 'happy': 81.2028847690958, 'sad': 5.924951323872647, 'surprise': 0.05091730829569002, 'neutral': 12.185325511059103}\n",
      "Label: happy\n"
     ]
    },
    {
     "name": "stderr",
     "output_type": "stream",
     "text": [
      "Action: emotion: 100%|██████████| 1/1 [00:00<00:00, 16.36it/s]\n"
     ]
    },
    {
     "name": "stdout",
     "output_type": "stream",
     "text": [
      "Emotion values: {'angry': 0.0003980173460149672, 'disgust': 5.640810130103091e-06, 'happy': 99.4863212108612, 'sad': 0.1963942777365446, 'surprise': 0.022978188644628972, 'neutral': 0.11069177417084575}\n",
      "Label: happy\n"
     ]
    },
    {
     "name": "stderr",
     "output_type": "stream",
     "text": [
      "Action: emotion: 100%|██████████| 1/1 [00:00<00:00, 16.75it/s]\n"
     ]
    },
    {
     "name": "stdout",
     "output_type": "stream",
     "text": [
      "Emotion values: {'angry': 0.0019050934497499838, 'disgust': 0.00010379928880865918, 'happy': 98.98951649665833, 'sad': 0.42186789214611053, 'surprise': 0.025424922932870686, 'neutral': 0.1371764112263918}\n",
      "Label: happy\n"
     ]
    },
    {
     "name": "stderr",
     "output_type": "stream",
     "text": [
      "Action: emotion: 100%|██████████| 1/1 [00:00<00:00, 16.86it/s]\n"
     ]
    },
    {
     "name": "stdout",
     "output_type": "stream",
     "text": [
      "Emotion values: {'angry': 0.0016183122225426904, 'disgust': 7.739266613680753e-05, 'happy': 99.16145200499606, 'sad': 0.358042747634217, 'surprise': 0.02670315893739664, 'neutral': 0.12096106795734572}\n",
      "Label: happy\n"
     ]
    },
    {
     "name": "stderr",
     "output_type": "stream",
     "text": [
      "Action: emotion: 100%|██████████| 1/1 [00:00<00:00, 16.41it/s]\n"
     ]
    },
    {
     "name": "stdout",
     "output_type": "stream",
     "text": [
      "Emotion values: {'angry': 0.0017213345927302726, 'disgust': 9.419015327694069e-05, 'happy': 98.86005520820618, 'sad': 0.5881032440811396, 'surprise': 0.024095507978927344, 'neutral': 0.08496782393194735}\n",
      "Label: happy\n"
     ]
    },
    {
     "name": "stderr",
     "output_type": "stream",
     "text": [
      "Action: emotion: 100%|██████████| 1/1 [00:00<00:00, 17.18it/s]\n"
     ]
    },
    {
     "name": "stdout",
     "output_type": "stream",
     "text": [
      "Emotion values: {'angry': 0.5855207797139883, 'disgust': 0.02114099479513243, 'happy': 30.098792910575867, 'sad': 44.44713294506073, 'surprise': 1.092103961855173, 'neutral': 13.695947825908661}\n",
      "Label: sad\n"
     ]
    },
    {
     "name": "stderr",
     "output_type": "stream",
     "text": [
      "Action: emotion: 100%|██████████| 1/1 [00:00<00:00, 16.06it/s]\n"
     ]
    },
    {
     "name": "stdout",
     "output_type": "stream",
     "text": [
      "Emotion values: {'angry': 0.1402921126957007, 'disgust': 1.8513506143609572e-05, 'happy': 0.029165378065392558, 'sad': 17.284728126807696, 'surprise': 0.0034360802830514852, 'neutral': 82.2506119162209}\n",
      "Label: neutral\n"
     ]
    },
    {
     "name": "stderr",
     "output_type": "stream",
     "text": [
      "Action: emotion: 100%|██████████| 1/1 [00:00<00:00, 17.55it/s]\n"
     ]
    },
    {
     "name": "stdout",
     "output_type": "stream",
     "text": [
      "Emotion values: {'angry': 0.0487386656406099, 'disgust': 3.063060956483935e-05, 'happy': 5.086026271344797, 'sad': 43.64291987674951, 'surprise': 0.041093417797217834, 'neutral': 13.239128186650763}\n",
      "Label: sad\n"
     ]
    },
    {
     "name": "stderr",
     "output_type": "stream",
     "text": [
      "Action: emotion: 100%|██████████| 1/1 [00:00<00:00, 14.69it/s]\n"
     ]
    },
    {
     "name": "stdout",
     "output_type": "stream",
     "text": [
      "Emotion values: {'angry': 0.06536396685987711, 'disgust': 0.0001204047634928429, 'happy': 1.8641898408532143, 'sad': 50.324946641922, 'surprise': 0.00677542993798852, 'neutral': 2.5243548676371574}\n",
      "Label: sad\n"
     ]
    },
    {
     "name": "stderr",
     "output_type": "stream",
     "text": [
      "Action: emotion: 100%|██████████| 1/1 [00:00<00:00, 16.46it/s]\n"
     ]
    },
    {
     "name": "stdout",
     "output_type": "stream",
     "text": [
      "Emotion values: {'angry': 0.0997265454055721, 'disgust': 0.0007082408890988061, 'happy': 2.17411059726603, 'sad': 32.838148813027004, 'surprise': 0.031105310406051325, 'neutral': 7.386417822410801}\n",
      "Label: sad\n"
     ]
    },
    {
     "name": "stderr",
     "output_type": "stream",
     "text": [
      "Action: emotion: 100%|██████████| 1/1 [00:00<00:00, 16.01it/s]\n"
     ]
    },
    {
     "name": "stdout",
     "output_type": "stream",
     "text": [
      "Emotion values: {'angry': 0.0056175613281084225, 'disgust': 1.6144458214739643e-06, 'happy': 0.09209260460920632, 'sad': 68.00946593284607, 'surprise': 8.86317934600811e-05, 'neutral': 4.24145832657814}\n",
      "Label: sad\n"
     ]
    },
    {
     "name": "stderr",
     "output_type": "stream",
     "text": [
      "Action: emotion: 100%|██████████| 1/1 [00:00<00:00, 15.46it/s]\n"
     ]
    },
    {
     "name": "stdout",
     "output_type": "stream",
     "text": [
      "Emotion values: {'angry': 0.008262898828904634, 'disgust': 9.455980029731206e-06, 'happy': 0.024525883788854407, 'sad': 61.73058520141752, 'surprise': 0.00010967481301818093, 'neutral': 0.9598051769915329}\n",
      "Label: sad\n"
     ]
    },
    {
     "name": "stderr",
     "output_type": "stream",
     "text": [
      "Action: emotion: 100%|██████████| 1/1 [00:00<00:00, 17.30it/s]\n"
     ]
    },
    {
     "name": "stdout",
     "output_type": "stream",
     "text": [
      "Emotion values: {'angry': 0.8786089718341827, 'disgust': 0.010259290866088122, 'happy': 0.17014648765325546, 'sad': 61.237549781799316, 'surprise': 0.01589966268511489, 'neutral': 22.89189100265503}\n",
      "Label: sad\n"
     ]
    },
    {
     "name": "stderr",
     "output_type": "stream",
     "text": [
      "Action: emotion: 100%|██████████| 1/1 [00:00<00:00, 17.60it/s]\n"
     ]
    },
    {
     "name": "stdout",
     "output_type": "stream",
     "text": [
      "Emotion values: {'angry': 1.0065301321446896, 'disgust': 8.661436936563405e-05, 'happy': 7.822754234075546, 'sad': 70.11524438858032, 'surprise': 0.0007736968655081, 'neutral': 15.87807983160019}\n",
      "Label: sad\n"
     ]
    },
    {
     "name": "stderr",
     "output_type": "stream",
     "text": [
      "Action: emotion: 100%|██████████| 1/1 [00:00<00:00, 16.95it/s]\n"
     ]
    },
    {
     "name": "stdout",
     "output_type": "stream",
     "text": [
      "Emotion values: {'angry': 1.0065301321446896, 'disgust': 8.661436936563405e-05, 'happy': 7.822754234075546, 'sad': 70.11524438858032, 'surprise': 0.0007736968655081, 'neutral': 15.87807983160019}\n",
      "Label: sad\n"
     ]
    },
    {
     "name": "stderr",
     "output_type": "stream",
     "text": [
      "Action: emotion: 100%|██████████| 1/1 [00:00<00:00, 18.04it/s]\n"
     ]
    },
    {
     "name": "stdout",
     "output_type": "stream",
     "text": [
      "Emotion values: {'angry': 0.00031118459829705203, 'disgust': 1.0666144472905546e-08, 'happy': 9.473985621276148e-06, 'sad': 99.63460568969182, 'surprise': 5.605495954202294e-08, 'neutral': 0.03641542719102029}\n",
      "Label: sad\n"
     ]
    },
    {
     "name": "stderr",
     "output_type": "stream",
     "text": [
      "Action: emotion: 100%|██████████| 1/1 [00:00<00:00, 16.07it/s]\n"
     ]
    },
    {
     "name": "stdout",
     "output_type": "stream",
     "text": [
      "Emotion values: {'angry': 0.019835021521430463, 'disgust': 0.0001061657712853048, 'happy': 0.921332836151123, 'sad': 61.845338344573975, 'surprise': 0.003985144212492742, 'neutral': 15.782158076763153}\n",
      "Label: sad\n"
     ]
    },
    {
     "name": "stderr",
     "output_type": "stream",
     "text": [
      "Action: emotion: 100%|██████████| 1/1 [00:00<00:00, 17.78it/s]\n"
     ]
    },
    {
     "name": "stdout",
     "output_type": "stream",
     "text": [
      "Emotion values: {'angry': 0.00869652191789579, 'disgust': 2.0885348030212452e-07, 'happy': 0.0037016480224258018, 'sad': 99.5159387299978, 'surprise': 9.681908297080592e-07, 'neutral': 0.27847200894933993}\n",
      "Label: sad\n"
     ]
    },
    {
     "name": "stderr",
     "output_type": "stream",
     "text": [
      "Action: emotion: 100%|██████████| 1/1 [00:00<00:00, 17.83it/s]\n"
     ]
    },
    {
     "name": "stdout",
     "output_type": "stream",
     "text": [
      "Emotion values: {'angry': 0.00869652191789579, 'disgust': 2.0885348030212452e-07, 'happy': 0.0037016480224258018, 'sad': 99.5159387299978, 'surprise': 9.681908297080592e-07, 'neutral': 0.27847200894933993}\n",
      "Label: sad\n"
     ]
    },
    {
     "name": "stderr",
     "output_type": "stream",
     "text": [
      "Action: emotion: 100%|██████████| 1/1 [00:00<00:00, 17.78it/s]\n"
     ]
    },
    {
     "name": "stdout",
     "output_type": "stream",
     "text": [
      "Emotion values: {'angry': 0.11302866715363664, 'disgust': 0.020771455966749397, 'happy': 0.002899476739930931, 'sad': 5.528156416306282, 'surprise': 0.8222006751418516, 'neutral': 2.5537745686635116}\n",
      "Label: sad\n"
     ]
    },
    {
     "name": "stderr",
     "output_type": "stream",
     "text": [
      "Action: emotion: 100%|██████████| 1/1 [00:00<00:00, 19.10it/s]\n"
     ]
    },
    {
     "name": "stdout",
     "output_type": "stream",
     "text": [
      "Emotion values: {'angry': 0.00042399487431443397, 'disgust': 3.419090158638382e-08, 'happy': 0.00045904061137901314, 'sad': 88.90638483686628, 'surprise': 1.470239310446271e-06, 'neutral': 0.0021082986892552746}\n",
      "Label: sad\n"
     ]
    },
    {
     "name": "stderr",
     "output_type": "stream",
     "text": [
      "Action: emotion: 100%|██████████| 1/1 [00:00<00:00, 17.37it/s]\n"
     ]
    },
    {
     "name": "stdout",
     "output_type": "stream",
     "text": [
      "Emotion values: {'angry': 0.3331913612782955, 'disgust': 0.0007515166089433478, 'happy': 0.003193861630279571, 'sad': 32.84364938735962, 'surprise': 0.011155829997733235, 'neutral': 1.6248716041445732}\n",
      "Label: sad\n"
     ]
    },
    {
     "name": "stderr",
     "output_type": "stream",
     "text": [
      "Action: emotion: 100%|██████████| 1/1 [00:00<00:00, 18.24it/s]\n"
     ]
    },
    {
     "name": "stdout",
     "output_type": "stream",
     "text": [
      "Emotion values: {'angry': 4.213006421923637, 'disgust': 0.02080246340483427, 'happy': 0.19532174337655306, 'sad': 68.93522143363953, 'surprise': 0.05584239843301475, 'neutral': 2.157898433506489}\n",
      "Label: sad\n"
     ]
    },
    {
     "name": "stderr",
     "output_type": "stream",
     "text": [
      "Action: emotion: 100%|██████████| 1/1 [00:00<00:00, 18.63it/s]\n"
     ]
    },
    {
     "name": "stdout",
     "output_type": "stream",
     "text": [
      "Emotion values: {'angry': 3.566712366595199e-05, 'disgust': 1.2986321579871272e-08, 'happy': 0.0002768379442516534, 'sad': 99.60351591068317, 'surprise': 5.132960555323593e-07, 'neutral': 0.0006807630695866673}\n",
      "Label: sad\n"
     ]
    },
    {
     "name": "stderr",
     "output_type": "stream",
     "text": [
      "Action: emotion: 100%|██████████| 1/1 [00:00<00:00, 18.96it/s]\n"
     ]
    },
    {
     "name": "stdout",
     "output_type": "stream",
     "text": [
      "Emotion values: {'angry': 3.511908275299902e-06, 'disgust': 4.4530769046161045e-11, 'happy': 9.103105753638374e-05, 'sad': 99.76900815963745, 'surprise': 1.7599324220185508e-07, 'neutral': 0.017115318041760474}\n",
      "Label: sad\n"
     ]
    },
    {
     "name": "stderr",
     "output_type": "stream",
     "text": [
      "Action: emotion: 100%|██████████| 1/1 [00:00<00:00, 17.70it/s]\n"
     ]
    },
    {
     "name": "stdout",
     "output_type": "stream",
     "text": [
      "Emotion values: {'angry': 1.9659465522181563e-05, 'disgust': 7.8716688278746e-06, 'happy': 7.692526280879974, 'sad': 85.68456768989563, 'surprise': 2.738518567468873e-06, 'neutral': 4.491576924920082}\n",
      "Label: sad\n"
     ]
    },
    {
     "name": "stderr",
     "output_type": "stream",
     "text": [
      "Action: emotion: 100%|██████████| 1/1 [00:00<00:00, 18.10it/s]\n"
     ]
    },
    {
     "name": "stdout",
     "output_type": "stream",
     "text": [
      "Emotion values: {'angry': 0.0008720179721422028, 'disgust': 0.0001179436935672129, 'happy': 5.466603115200996, 'sad': 3.2024074345827103, 'surprise': 0.23659111466258764, 'neutral': 0.20537336822599173}\n",
      "Label: happy\n"
     ]
    },
    {
     "name": "stderr",
     "output_type": "stream",
     "text": [
      "Action: emotion: 100%|██████████| 1/1 [00:00<00:00, 17.49it/s]\n"
     ]
    },
    {
     "name": "stdout",
     "output_type": "stream",
     "text": [
      "Emotion values: {'angry': 0.020861587836407125, 'disgust': 1.3073206162061979e-05, 'happy': 0.00012841694569942774, 'sad': 87.40971684455872, 'surprise': 1.3410446975115065e-06, 'neutral': 0.10571472812443972}\n",
      "Label: sad\n"
     ]
    },
    {
     "name": "stderr",
     "output_type": "stream",
     "text": [
      "Action: emotion: 100%|██████████| 1/1 [00:00<00:00, 18.58it/s]\n"
     ]
    },
    {
     "name": "stdout",
     "output_type": "stream",
     "text": [
      "Emotion values: {'angry': 0.0037886078644078225, 'disgust': 2.32529178134655e-06, 'happy': 0.025240759714506567, 'sad': 97.25799560546875, 'surprise': 3.8323744178114794e-07, 'neutral': 2.1971672773361206}\n",
      "Label: sad\n"
     ]
    },
    {
     "name": "stderr",
     "output_type": "stream",
     "text": [
      "Action: emotion: 100%|██████████| 1/1 [00:00<00:00, 17.72it/s]\n"
     ]
    },
    {
     "name": "stdout",
     "output_type": "stream",
     "text": [
      "Emotion values: {'angry': 0.0019760275417883186, 'disgust': 4.56478876172446e-11, 'happy': 0.229847528432015, 'sad': 90.71333893696534, 'surprise': 1.622844416905958e-05, 'neutral': 8.195290946399087}\n",
      "Label: sad\n"
     ]
    },
    {
     "name": "stderr",
     "output_type": "stream",
     "text": [
      "Action: emotion: 100%|██████████| 1/1 [00:00<00:00, 19.20it/s]\n"
     ]
    },
    {
     "name": "stdout",
     "output_type": "stream",
     "text": [
      "Emotion values: {'angry': 0.0702046207152307, 'disgust': 4.7960472926433795e-06, 'happy': 0.002395210503891576, 'sad': 12.31510415673256, 'surprise': 0.0007712814294791315, 'neutral': 87.22949028015137}\n",
      "Label: neutral\n"
     ]
    },
    {
     "name": "stderr",
     "output_type": "stream",
     "text": [
      "Action: emotion: 100%|██████████| 1/1 [00:00<00:00, 19.32it/s]\n"
     ]
    },
    {
     "name": "stdout",
     "output_type": "stream",
     "text": [
      "Emotion values: {'angry': 0.026172513025812805, 'disgust': 2.8824487685596978e-06, 'happy': 0.0002720164047786966, 'sad': 8.918313682079315, 'surprise': 5.715601218980737e-05, 'neutral': 90.97612500190735}\n",
      "Label: neutral\n"
     ]
    },
    {
     "name": "stderr",
     "output_type": "stream",
     "text": [
      "Action: emotion: 100%|██████████| 1/1 [00:00<00:00, 17.91it/s]\n"
     ]
    },
    {
     "name": "stdout",
     "output_type": "stream",
     "text": [
      "Emotion values: {'angry': 0.07211565693765498, 'disgust': 5.648544780236933e-06, 'happy': 0.035563625113904464, 'sad': 28.60494213045333, 'surprise': 0.01186439844323974, 'neutral': 69.60613493846239}\n",
      "Label: neutral\n"
     ]
    },
    {
     "name": "stderr",
     "output_type": "stream",
     "text": [
      "Action: emotion: 100%|██████████| 1/1 [00:00<00:00, 19.19it/s]\n"
     ]
    },
    {
     "name": "stdout",
     "output_type": "stream",
     "text": [
      "Emotion values: {'angry': 0.0011545775123522617, 'disgust': 2.8484412051277275e-08, 'happy': 0.011112834181403741, 'sad': 1.425112783908844, 'surprise': 0.00024179757929232437, 'neutral': 98.3523428440094}\n",
      "Label: neutral\n"
     ]
    },
    {
     "name": "stderr",
     "output_type": "stream",
     "text": [
      "Action: emotion: 100%|██████████| 1/1 [00:00<00:00, 21.01it/s]\n"
     ]
    },
    {
     "name": "stdout",
     "output_type": "stream",
     "text": [
      "Emotion values: {'angry': 0.019717185652721562, 'disgust': 1.0835385457453136e-07, 'happy': 1.421381990395903, 'sad': 23.7000330507775, 'surprise': 0.1727225827558388, 'neutral': 7.880025826694121}\n",
      "Label: sad\n"
     ]
    },
    {
     "name": "stderr",
     "output_type": "stream",
     "text": [
      "Action: emotion: 100%|██████████| 1/1 [00:00<00:00, 19.44it/s]\n"
     ]
    },
    {
     "name": "stdout",
     "output_type": "stream",
     "text": [
      "Emotion values: {'angry': 0.38788714446127415, 'disgust': 1.3576039847862376e-06, 'happy': 0.009735448838910088, 'sad': 7.429925352334976, 'surprise': 0.47243465669453144, 'neutral': 91.52798056602478}\n",
      "Label: neutral\n"
     ]
    },
    {
     "name": "stderr",
     "output_type": "stream",
     "text": [
      "Action: emotion: 100%|██████████| 1/1 [00:00<00:00, 19.32it/s]\n"
     ]
    },
    {
     "name": "stdout",
     "output_type": "stream",
     "text": [
      "Emotion values: {'angry': 3.5793328928549824, 'disgust': 0.00014849993907054522, 'happy': 0.0449125652661586, 'sad': 48.166212330234785, 'surprise': 0.48192747015818777, 'neutral': 47.09551615092255}\n",
      "Label: sad\n"
     ]
    },
    {
     "name": "stderr",
     "output_type": "stream",
     "text": [
      "Action: emotion: 100%|██████████| 1/1 [00:00<00:00, 18.99it/s]\n"
     ]
    },
    {
     "name": "stdout",
     "output_type": "stream",
     "text": [
      "Emotion values: {'angry': 4.965293034911156, 'disgust': 7.539672886025528e-07, 'happy': 0.04699322453234345, 'sad': 28.143012523651123, 'surprise': 0.7878000847995281, 'neutral': 65.61211943626404}\n",
      "Label: neutral\n"
     ]
    },
    {
     "name": "stderr",
     "output_type": "stream",
     "text": [
      "Action: emotion: 100%|██████████| 1/1 [00:00<00:00, 19.51it/s]\n"
     ]
    },
    {
     "name": "stdout",
     "output_type": "stream",
     "text": [
      "Emotion values: {'angry': 0.5592116821362594, 'disgust': 2.8973231784276217e-09, 'happy': 0.002337103347898674, 'sad': 3.983550993627428, 'surprise': 0.004755556640994037, 'neutral': 95.44211571718641}\n",
      "Label: neutral\n"
     ]
    },
    {
     "name": "stderr",
     "output_type": "stream",
     "text": [
      "Action: emotion: 100%|██████████| 1/1 [00:00<00:00, 17.97it/s]\n"
     ]
    },
    {
     "name": "stdout",
     "output_type": "stream",
     "text": [
      "Emotion values: {'angry': 1.676914195830476, 'disgust': 4.390672531909209e-08, 'happy': 0.0027338997635241455, 'sad': 12.868974379835986, 'surprise': 0.011473751466786575, 'neutral': 85.4191890608781}\n",
      "Label: neutral\n"
     ]
    },
    {
     "name": "stderr",
     "output_type": "stream",
     "text": [
      "Action: emotion: 100%|██████████| 1/1 [00:00<00:00, 18.83it/s]\n"
     ]
    },
    {
     "name": "stdout",
     "output_type": "stream",
     "text": [
      "Emotion values: {'angry': 2.2413618862628937, 'disgust': 5.0403586859815164e-08, 'happy': 0.00934484341996722, 'sad': 10.518330335617065, 'surprise': 0.014841739903204143, 'neutral': 87.20517754554749}\n",
      "Label: neutral\n"
     ]
    },
    {
     "name": "stderr",
     "output_type": "stream",
     "text": [
      "Action: emotion: 100%|██████████| 1/1 [00:00<00:00,  9.56it/s]"
     ]
    },
    {
     "name": "stdout",
     "output_type": "stream",
     "text": [
      "Emotion values: {'angry': 5.936336517333984, 'disgust': 7.428312187585107e-06, 'happy': 0.02012057666433975, 'sad': 53.44046950340271, 'surprise': 0.0196036315173842, 'neutral': 40.54892063140869}\n",
      "Label: sad\n"
     ]
    },
    {
     "name": "stderr",
     "output_type": "stream",
     "text": [
      "\n",
      "Action: emotion: 100%|██████████| 1/1 [00:00<00:00, 19.15it/s]\n"
     ]
    },
    {
     "name": "stdout",
     "output_type": "stream",
     "text": [
      "Emotion values: {'angry': 0.9378958493471146, 'disgust': 1.19646259122419e-05, 'happy': 0.04844096256420016, 'sad': 10.108093172311783, 'surprise': 0.010451972775626928, 'neutral': 88.86054754257202}\n",
      "Label: neutral\n"
     ]
    },
    {
     "name": "stderr",
     "output_type": "stream",
     "text": [
      "Action: emotion: 100%|██████████| 1/1 [00:00<00:00, 17.64it/s]\n"
     ]
    },
    {
     "name": "stdout",
     "output_type": "stream",
     "text": [
      "Emotion values: {'angry': 3.4600792652415793, 'disgust': 2.9747949877957256e-06, 'happy': 0.011431022675554688, 'sad': 34.81511383146726, 'surprise': 0.06286951622334219, 'neutral': 61.60831818630208}\n",
      "Label: neutral\n"
     ]
    },
    {
     "name": "stderr",
     "output_type": "stream",
     "text": [
      "Action: emotion: 100%|██████████| 1/1 [00:00<00:00, 18.99it/s]\n"
     ]
    },
    {
     "name": "stdout",
     "output_type": "stream",
     "text": [
      "Emotion values: {'angry': 0.9205096401274204, 'disgust': 9.029582637154476e-09, 'happy': 0.0010443944120197557, 'sad': 6.96621835231781, 'surprise': 0.004926141264149919, 'neutral': 92.09706783294678}\n",
      "Label: neutral\n"
     ]
    },
    {
     "name": "stderr",
     "output_type": "stream",
     "text": [
      "Action: emotion: 100%|██████████| 1/1 [00:00<00:00, 19.26it/s]\n"
     ]
    },
    {
     "name": "stdout",
     "output_type": "stream",
     "text": [
      "Emotion values: {'angry': 1.3102143852540484, 'disgust': 7.681950533934922e-08, 'happy': 0.017424299896373594, 'sad': 15.985808729279562, 'surprise': 0.0019396962007885397, 'neutral': 82.68097535854432}\n",
      "Label: neutral\n"
     ]
    },
    {
     "name": "stderr",
     "output_type": "stream",
     "text": [
      "Action: emotion: 100%|██████████| 1/1 [00:00<00:00, 14.82it/s]\n"
     ]
    },
    {
     "name": "stdout",
     "output_type": "stream",
     "text": [
      "Emotion values: {'angry': 0.09058873941905733, 'disgust': 7.695232465837085e-07, 'happy': 8.175869002856189e-05, 'sad': 4.818692345541259, 'surprise': 3.0443961345713843e-05, 'neutral': 95.08891672425966}\n",
      "Label: neutral\n"
     ]
    },
    {
     "name": "stderr",
     "output_type": "stream",
     "text": [
      "Action: emotion: 100%|██████████| 1/1 [00:00<00:00, 19.02it/s]\n"
     ]
    },
    {
     "name": "stdout",
     "output_type": "stream",
     "text": [
      "Emotion values: {'angry': 0.008870579767972231, 'disgust': 4.3671031235703595e-07, 'happy': 0.038327425136230886, 'sad': 1.173356268554926, 'surprise': 0.013970067084301263, 'neutral': 98.49608540534973}\n",
      "Label: neutral\n"
     ]
    },
    {
     "name": "stderr",
     "output_type": "stream",
     "text": [
      "Action: emotion: 100%|██████████| 1/1 [00:00<00:00, 19.90it/s]\n"
     ]
    },
    {
     "name": "stdout",
     "output_type": "stream",
     "text": [
      "Emotion values: {'angry': 0.04860352200921625, 'disgust': 2.066682602830383e-07, 'happy': 0.041664260788820684, 'sad': 2.51710694283247, 'surprise': 0.13530164724215865, 'neutral': 96.51075005531311}\n",
      "Label: neutral\n"
     ]
    },
    {
     "name": "stderr",
     "output_type": "stream",
     "text": [
      "Action: emotion: 100%|██████████| 1/1 [00:00<00:00, 19.30it/s]\n"
     ]
    },
    {
     "name": "stdout",
     "output_type": "stream",
     "text": [
      "Emotion values: {'angry': 0.05620955489575863, 'disgust': 6.896549553658815e-07, 'happy': 0.788459274917841, 'sad': 6.004852429032326, 'surprise': 0.1353975385427475, 'neutral': 84.28085446357727}\n",
      "Label: neutral\n"
     ]
    },
    {
     "name": "stderr",
     "output_type": "stream",
     "text": [
      "Action: emotion: 100%|██████████| 1/1 [00:00<00:00, 16.95it/s]\n"
     ]
    },
    {
     "name": "stdout",
     "output_type": "stream",
     "text": [
      "Emotion values: {'angry': 0.16875689932994253, 'disgust': 1.5678170491383606e-05, 'happy': 0.11147821622974083, 'sad': 27.93982887985362, 'surprise': 0.15971975359681206, 'neutral': 40.23860511319576}\n",
      "Label: neutral\n"
     ]
    },
    {
     "name": "stderr",
     "output_type": "stream",
     "text": [
      "Action: emotion: 100%|██████████| 1/1 [00:00<00:00, 18.47it/s]\n"
     ]
    },
    {
     "name": "stdout",
     "output_type": "stream",
     "text": [
      "Emotion values: {'angry': 0.26489587035030127, 'disgust': 0.00045819010665582027, 'happy': 0.6187743972986937, 'sad': 25.46229362487793, 'surprise': 0.07052379078231752, 'neutral': 17.56269633769989}\n",
      "Label: sad\n"
     ]
    },
    {
     "name": "stderr",
     "output_type": "stream",
     "text": [
      "Action: emotion: 100%|██████████| 1/1 [00:00<00:00, 19.29it/s]\n"
     ]
    },
    {
     "name": "stdout",
     "output_type": "stream",
     "text": [
      "Emotion values: {'angry': 0.106494827196002, 'disgust': 0.0007921910764707718, 'happy': 2.673136442899704, 'sad': 19.830335676670074, 'surprise': 0.2076446544378996, 'neutral': 13.994927704334259}\n",
      "Label: sad\n"
     ]
    },
    {
     "name": "stderr",
     "output_type": "stream",
     "text": [
      "Action: emotion: 100%|██████████| 1/1 [00:00<00:00, 19.93it/s]\n"
     ]
    },
    {
     "name": "stdout",
     "output_type": "stream",
     "text": [
      "Emotion values: {'angry': 0.008921280095819384, 'disgust': 9.651042773839436e-05, 'happy': 37.429046630859375, 'sad': 9.620659053325653, 'surprise': 0.1834354130551219, 'neutral': 1.7742443829774857}\n",
      "Label: happy\n"
     ]
    },
    {
     "name": "stderr",
     "output_type": "stream",
     "text": [
      "Action: emotion: 100%|██████████| 1/1 [00:00<00:00, 16.59it/s]\n"
     ]
    },
    {
     "name": "stdout",
     "output_type": "stream",
     "text": [
      "Emotion values: {'angry': 0.0004139524169135519, 'disgust': 7.95396677627438e-05, 'happy': 91.96167684058227, 'sad': 1.296879196539021, 'surprise': 0.035475164031776606, 'neutral': 0.8114002609073805}\n",
      "Label: happy\n"
     ]
    },
    {
     "name": "stderr",
     "output_type": "stream",
     "text": [
      "Action: emotion: 100%|██████████| 1/1 [00:00<00:00, 17.15it/s]\n"
     ]
    },
    {
     "name": "stdout",
     "output_type": "stream",
     "text": [
      "Emotion values: {'angry': 0.0002052173735584127, 'disgust': 7.211044564958699e-05, 'happy': 81.94237839832176, 'sad': 1.52352228528394, 'surprise': 0.023217567578818953, 'neutral': 0.6083217812074292}\n",
      "Label: happy\n"
     ]
    },
    {
     "name": "stderr",
     "output_type": "stream",
     "text": [
      "Action: emotion: 100%|██████████| 1/1 [00:00<00:00, 15.64it/s]\n"
     ]
    },
    {
     "name": "stdout",
     "output_type": "stream",
     "text": [
      "Emotion values: {'angry': 0.0002052173735584127, 'disgust': 7.211044564958699e-05, 'happy': 81.94237839832176, 'sad': 1.52352228528394, 'surprise': 0.023217567578818953, 'neutral': 0.6083217812074292}\n",
      "Label: happy\n"
     ]
    },
    {
     "name": "stderr",
     "output_type": "stream",
     "text": [
      "Action: emotion: 100%|██████████| 1/1 [00:00<00:00, 16.04it/s]\n"
     ]
    },
    {
     "name": "stdout",
     "output_type": "stream",
     "text": [
      "Emotion values: {'angry': 4.4388901125656e-05, 'disgust': 6.553835092723354e-06, 'happy': 98.75864997403026, 'sad': 0.3355176719406042, 'surprise': 0.0039032706703351384, 'neutral': 0.15986118655443948}\n",
      "Label: happy\n"
     ]
    },
    {
     "name": "stderr",
     "output_type": "stream",
     "text": [
      "Action: emotion: 100%|██████████| 1/1 [00:00<00:00, 16.79it/s]\n"
     ]
    },
    {
     "name": "stdout",
     "output_type": "stream",
     "text": [
      "Emotion values: {'angry': 0.00025256673152801033, 'disgust': 7.428394359207692e-05, 'happy': 81.01386201546931, 'sad': 1.558720226880339, 'surprise': 0.02182847934918977, 'neutral': 0.7407695938074105}\n",
      "Label: happy\n"
     ]
    },
    {
     "name": "stderr",
     "output_type": "stream",
     "text": [
      "Action: emotion: 100%|██████████| 1/1 [00:00<00:00, 15.09it/s]\n"
     ]
    },
    {
     "name": "stdout",
     "output_type": "stream",
     "text": [
      "Emotion values: {'angry': 3.518927940149297e-05, 'disgust': 1.2493870826801867e-05, 'happy': 96.10839486122131, 'sad': 0.5569965578615665, 'surprise': 0.005881243487237953, 'neutral': 0.37157898768782616}\n",
      "Label: happy\n"
     ]
    },
    {
     "name": "stderr",
     "output_type": "stream",
     "text": [
      "Action: emotion: 100%|██████████| 1/1 [00:00<00:00, 14.41it/s]\n"
     ]
    },
    {
     "name": "stdout",
     "output_type": "stream",
     "text": [
      "Emotion values: {'angry': 9.067384752816113e-05, 'disgust': 2.1301813850219033e-05, 'happy': 98.71122829384973, 'sad': 0.3024818090338593, 'surprise': 0.008340173141351976, 'neutral': 0.33695869759224045}\n",
      "Label: happy\n"
     ]
    },
    {
     "name": "stderr",
     "output_type": "stream",
     "text": [
      "Action: emotion: 100%|██████████| 1/1 [00:00<00:00, 17.08it/s]\n"
     ]
    },
    {
     "name": "stdout",
     "output_type": "stream",
     "text": [
      "Emotion values: {'angry': 0.0006686765573249431, 'disgust': 0.00010660885436664103, 'happy': 92.49954223632812, 'sad': 1.22665511444211, 'surprise': 0.02304012014064938, 'neutral': 0.5979285575449467}\n",
      "Label: happy\n"
     ]
    },
    {
     "name": "stderr",
     "output_type": "stream",
     "text": [
      "Action: emotion: 100%|██████████| 1/1 [00:00<00:00, 19.29it/s]\n"
     ]
    },
    {
     "name": "stdout",
     "output_type": "stream",
     "text": [
      "Emotion values: {'angry': 0.0006686765573249431, 'disgust': 0.00010660885436664103, 'happy': 92.49954223632812, 'sad': 1.22665511444211, 'surprise': 0.02304012014064938, 'neutral': 0.5979285575449467}\n",
      "Label: happy\n"
     ]
    },
    {
     "name": "stderr",
     "output_type": "stream",
     "text": [
      "Action: emotion: 100%|██████████| 1/1 [00:00<00:00, 18.42it/s]\n"
     ]
    },
    {
     "name": "stdout",
     "output_type": "stream",
     "text": [
      "Emotion values: {'angry': 4.308357376751255e-05, 'disgust': 8.848943439192552e-06, 'happy': 98.06399929904934, 'sad': 0.17995200959679541, 'surprise': 0.006288203087118452, 'neutral': 0.4752244617923773}\n",
      "Label: happy\n"
     ]
    },
    {
     "name": "stderr",
     "output_type": "stream",
     "text": [
      "Action: emotion: 100%|██████████| 1/1 [00:00<00:00, 17.29it/s]\n"
     ]
    },
    {
     "name": "stdout",
     "output_type": "stream",
     "text": [
      "Emotion values: {'angry': 0.0012979969915845966, 'disgust': 0.00010474688621315356, 'happy': 75.525842638364, 'sad': 2.9377765841946952, 'surprise': 0.09930728129638917, 'neutral': 3.6560809556294056}\n",
      "Label: happy\n"
     ]
    },
    {
     "name": "stderr",
     "output_type": "stream",
     "text": [
      "Action: emotion: 100%|██████████| 1/1 [00:00<00:00, 16.78it/s]\n"
     ]
    },
    {
     "name": "stdout",
     "output_type": "stream",
     "text": [
      "Emotion values: {'angry': 0.0012979969915845966, 'disgust': 0.00010474688621315356, 'happy': 75.525842638364, 'sad': 2.9377765841946952, 'surprise': 0.09930728129638917, 'neutral': 3.6560809556294056}\n",
      "Label: happy\n"
     ]
    },
    {
     "name": "stderr",
     "output_type": "stream",
     "text": [
      "Action: emotion: 100%|██████████| 1/1 [00:00<00:00, 18.20it/s]\n"
     ]
    },
    {
     "name": "stdout",
     "output_type": "stream",
     "text": [
      "Emotion values: {'angry': 0.004158704061905909, 'disgust': 8.478546583910455e-05, 'happy': 21.019869805566657, 'sad': 6.777280973033963, 'surprise': 0.1375752001114309, 'neutral': 3.645420291746872}\n",
      "Label: happy\n"
     ]
    },
    {
     "name": "stderr",
     "output_type": "stream",
     "text": [
      "Action: emotion: 100%|██████████| 1/1 [00:00<00:00, 17.11it/s]\n"
     ]
    },
    {
     "name": "stdout",
     "output_type": "stream",
     "text": [
      "Emotion values: {'angry': 0.00632375996650256, 'disgust': 0.0005048960548164067, 'happy': 13.044575634275414, 'sad': 15.292608159339915, 'surprise': 0.03822415829295864, 'neutral': 4.789410816991974}\n",
      "Label: sad\n"
     ]
    },
    {
     "name": "stderr",
     "output_type": "stream",
     "text": [
      "Action: emotion: 100%|██████████| 1/1 [00:00<00:00, 17.30it/s]\n"
     ]
    },
    {
     "name": "stdout",
     "output_type": "stream",
     "text": [
      "Emotion values: {'angry': 0.00808795666671358, 'disgust': 0.0005383588359109126, 'happy': 20.66870778799057, 'sad': 20.361509919166565, 'surprise': 0.049866322660818696, 'neutral': 6.868445873260498}\n",
      "Label: happy\n"
     ]
    },
    {
     "name": "stderr",
     "output_type": "stream",
     "text": [
      "Action: emotion: 100%|██████████| 1/1 [00:00<00:00, 16.81it/s]\n"
     ]
    },
    {
     "name": "stdout",
     "output_type": "stream",
     "text": [
      "Emotion values: {'angry': 0.013550133735407144, 'disgust': 0.0011216301572858356, 'happy': 13.771107792854309, 'sad': 21.0665762424469, 'surprise': 0.05249112145975232, 'neutral': 7.742588967084885}\n",
      "Label: sad\n"
     ]
    },
    {
     "name": "stderr",
     "output_type": "stream",
     "text": [
      "Action: emotion: 100%|██████████| 1/1 [00:00<00:00, 18.32it/s]\n"
     ]
    },
    {
     "name": "stdout",
     "output_type": "stream",
     "text": [
      "Emotion values: {'angry': 0.017431542385014438, 'disgust': 0.0008851860529935522, 'happy': 22.36140354641697, 'sad': 15.704395813011873, 'surprise': 0.07568751330860038, 'neutral': 6.042470770625518}\n",
      "Label: happy\n"
     ]
    },
    {
     "name": "stderr",
     "output_type": "stream",
     "text": [
      "Action: emotion: 100%|██████████| 1/1 [00:00<00:00, 19.73it/s]\n"
     ]
    },
    {
     "name": "stdout",
     "output_type": "stream",
     "text": [
      "Emotion values: {'angry': 0.007748693315079436, 'disgust': 5.396232419241365e-09, 'happy': 17.506535351276398, 'sad': 74.47242736816406, 'surprise': 3.428160653129453e-05, 'neutral': 4.052134230732918}\n",
      "Label: sad\n"
     ]
    },
    {
     "name": "stderr",
     "output_type": "stream",
     "text": [
      "Action: emotion: 100%|██████████| 1/1 [00:00<00:00, 20.09it/s]\n"
     ]
    },
    {
     "name": "stdout",
     "output_type": "stream",
     "text": [
      "Emotion values: {'angry': 0.012424931654605318, 'disgust': 0.0001781912131772321, 'happy': 0.0868214805267281, 'sad': 38.30692628704623, 'surprise': 0.0011989890091662233, 'neutral': 0.9261491881190763}\n",
      "Label: sad\n"
     ]
    },
    {
     "name": "stderr",
     "output_type": "stream",
     "text": [
      "Action: emotion: 100%|██████████| 1/1 [00:00<00:00, 19.97it/s]\n"
     ]
    },
    {
     "name": "stdout",
     "output_type": "stream",
     "text": [
      "Emotion values: {'angry': 0.021740854163347433, 'disgust': 0.0004618847373966161, 'happy': 0.25989186645843193, 'sad': 45.11143921477327, 'surprise': 0.0024260857408154057, 'neutral': 1.6487041385526493}\n",
      "Label: sad\n"
     ]
    },
    {
     "name": "stderr",
     "output_type": "stream",
     "text": [
      "Action: emotion: 100%|██████████| 1/1 [00:00<00:00, 18.57it/s]\n"
     ]
    },
    {
     "name": "stdout",
     "output_type": "stream",
     "text": [
      "Emotion values: {'angry': 0.057336915051564574, 'disgust': 0.0009571296686772257, 'happy': 0.3435608232393861, 'sad': 43.17313730716705, 'surprise': 0.005152856829226948, 'neutral': 2.1050680428743362}\n",
      "Label: sad\n"
     ]
    },
    {
     "name": "stderr",
     "output_type": "stream",
     "text": [
      "Action: emotion: 100%|██████████| 1/1 [00:00<00:00, 16.82it/s]\n"
     ]
    },
    {
     "name": "stdout",
     "output_type": "stream",
     "text": [
      "Emotion values: {'angry': 0.07803138461337296, 'disgust': 0.0010086404164233122, 'happy': 0.08702701825623323, 'sad': 59.94168281207578, 'surprise': 0.0033324950149093576, 'neutral': 2.471875919215436}\n",
      "Label: sad\n"
     ]
    },
    {
     "name": "stderr",
     "output_type": "stream",
     "text": [
      "Action: emotion: 100%|██████████| 1/1 [00:00<00:00, 16.44it/s]\n"
     ]
    },
    {
     "name": "stdout",
     "output_type": "stream",
     "text": [
      "Emotion values: {'angry': 0.22498017642647028, 'disgust': 0.0019578332285163924, 'happy': 0.19056372111663222, 'sad': 60.779595375061035, 'surprise': 0.018418565741740167, 'neutral': 11.433452367782593}\n",
      "Label: sad\n"
     ]
    },
    {
     "name": "stderr",
     "output_type": "stream",
     "text": [
      "Action: emotion: 100%|██████████| 1/1 [00:00<00:00, 19.07it/s]\n"
     ]
    },
    {
     "name": "stdout",
     "output_type": "stream",
     "text": [
      "Emotion values: {'angry': 0.0003202931302355233, 'disgust': 1.0229978349779941e-12, 'happy': 0.023507302049051347, 'sad': 89.79217349244198, 'surprise': 6.250507151385807e-08, 'neutral': 5.193779554592345}\n",
      "Label: sad\n"
     ]
    },
    {
     "name": "stderr",
     "output_type": "stream",
     "text": [
      "Action: emotion: 100%|██████████| 1/1 [00:00<00:00, 17.44it/s]\n"
     ]
    },
    {
     "name": "stdout",
     "output_type": "stream",
     "text": [
      "Emotion values: {'angry': 0.25024220158252697, 'disgust': 3.319238887743923e-05, 'happy': 0.0002045607272410201, 'sad': 9.294029707428251, 'surprise': 0.00037325271575993615, 'neutral': 90.33751602917718}\n",
      "Label: neutral\n"
     ]
    },
    {
     "name": "stderr",
     "output_type": "stream",
     "text": [
      "Action: emotion: 100%|██████████| 1/1 [00:00<00:00, 17.10it/s]\n"
     ]
    },
    {
     "name": "stdout",
     "output_type": "stream",
     "text": [
      "Emotion values: {'angry': 0.18637815956026316, 'disgust': 4.327280578309001e-05, 'happy': 0.004770607120008208, 'sad': 18.853184580802917, 'surprise': 0.0018311524399905466, 'neutral': 80.37447929382324}\n",
      "Label: neutral\n"
     ]
    },
    {
     "name": "stderr",
     "output_type": "stream",
     "text": [
      "Action: emotion: 100%|██████████| 1/1 [00:00<00:00, 17.82it/s]\n"
     ]
    },
    {
     "name": "stdout",
     "output_type": "stream",
     "text": [
      "Emotion values: {'angry': 0.09252662482354047, 'disgust': 0.0003519186328715668, 'happy': 0.3837004079356303, 'sad': 53.12199555373245, 'surprise': 0.01945902245048911, 'neutral': 5.291359240846725}\n",
      "Label: sad\n"
     ]
    },
    {
     "name": "stderr",
     "output_type": "stream",
     "text": [
      "Action: emotion: 100%|██████████| 1/1 [00:00<00:00, 17.26it/s]\n"
     ]
    },
    {
     "name": "stdout",
     "output_type": "stream",
     "text": [
      "Emotion values: {'angry': 0.5038696806877851, 'disgust': 0.0023235854314407334, 'happy': 0.0043455689592519775, 'sad': 73.0750322341919, 'surprise': 0.0011214799087611027, 'neutral': 21.45586609840393}\n",
      "Label: sad\n"
     ]
    },
    {
     "name": "stderr",
     "output_type": "stream",
     "text": [
      "Action: emotion: 100%|██████████| 1/1 [00:00<00:00, 18.13it/s]\n"
     ]
    },
    {
     "name": "stdout",
     "output_type": "stream",
     "text": [
      "Emotion values: {'angry': 0.04806334909517318, 'disgust': 0.00044630610318563413, 'happy': 2.122063562273979, 'sad': 9.048789739608765, 'surprise': 0.06650220020674169, 'neutral': 86.82664036750793}\n",
      "Label: neutral\n"
     ]
    },
    {
     "name": "stderr",
     "output_type": "stream",
     "text": [
      "Action: emotion: 100%|██████████| 1/1 [00:00<00:00, 16.75it/s]\n"
     ]
    },
    {
     "name": "stdout",
     "output_type": "stream",
     "text": [
      "Emotion values: {'angry': 0.01507470733486116, 'disgust': 0.0003405058123462368, 'happy': 75.99705457687378, 'sad': 17.716750502586365, 'surprise': 0.08431040332652628, 'neutral': 2.3033494129776955}\n",
      "Label: happy\n"
     ]
    },
    {
     "name": "stderr",
     "output_type": "stream",
     "text": [
      "Action: emotion: 100%|██████████| 1/1 [00:00<00:00, 16.93it/s]\n"
     ]
    },
    {
     "name": "stdout",
     "output_type": "stream",
     "text": [
      "Emotion values: {'angry': 0.01507470733486116, 'disgust': 0.0003405058123462368, 'happy': 75.99705457687378, 'sad': 17.716750502586365, 'surprise': 0.08431040332652628, 'neutral': 2.3033494129776955}\n",
      "Label: happy\n"
     ]
    },
    {
     "name": "stderr",
     "output_type": "stream",
     "text": [
      "Action: emotion: 100%|██████████| 1/1 [00:00<00:00, 16.89it/s]\n"
     ]
    },
    {
     "name": "stdout",
     "output_type": "stream",
     "text": [
      "Emotion values: {'angry': 0.00010116672831833304, 'disgust': 6.315061916769898e-06, 'happy': 98.93288606005228, 'sad': 0.6325924680437128, 'surprise': 0.017535827236522868, 'neutral': 0.3203400834479978}\n",
      "Label: happy\n"
     ]
    },
    {
     "name": "stderr",
     "output_type": "stream",
     "text": [
      "Action: emotion: 100%|██████████| 1/1 [00:00<00:00, 16.79it/s]\n"
     ]
    },
    {
     "name": "stdout",
     "output_type": "stream",
     "text": [
      "Emotion values: {'angry': 0.2251474384042694, 'disgust': 4.463953296659123e-06, 'happy': 97.5440862722294, 'sad': 0.26569409853886383, 'surprise': 0.005210791748150863, 'neutral': 1.9571937150128227}\n",
      "Label: happy\n"
     ]
    },
    {
     "name": "stderr",
     "output_type": "stream",
     "text": [
      "Action: emotion: 100%|██████████| 1/1 [00:00<00:00, 17.78it/s]\n"
     ]
    },
    {
     "name": "stdout",
     "output_type": "stream",
     "text": [
      "Emotion values: {'angry': 9.115651994943619, 'disgust': 0.0006374802069331054, 'happy': 0.47758067958056927, 'sad': 12.69933134317398, 'surprise': 0.15554046258330345, 'neutral': 76.20728611946106}\n",
      "Label: neutral\n"
     ]
    },
    {
     "name": "stderr",
     "output_type": "stream",
     "text": [
      "Action: emotion: 100%|██████████| 1/1 [00:00<00:00, 17.10it/s]\n"
     ]
    },
    {
     "name": "stdout",
     "output_type": "stream",
     "text": [
      "Emotion values: {'angry': 9.115651994943619, 'disgust': 0.0006374802069331054, 'happy': 0.47758067958056927, 'sad': 12.69933134317398, 'surprise': 0.15554046258330345, 'neutral': 76.20728611946106}\n",
      "Label: neutral\n"
     ]
    },
    {
     "name": "stderr",
     "output_type": "stream",
     "text": [
      "Action: emotion: 100%|██████████| 1/1 [00:00<00:00, 18.47it/s]\n"
     ]
    },
    {
     "name": "stdout",
     "output_type": "stream",
     "text": [
      "Emotion values: {'angry': 2.4535415694117546, 'disgust': 5.738525601373112e-05, 'happy': 0.1525007770396769, 'sad': 4.923653602600098, 'surprise': 0.011819366045529023, 'neutral': 91.38012528419495}\n",
      "Label: neutral\n"
     ]
    },
    {
     "name": "stderr",
     "output_type": "stream",
     "text": [
      "Action: emotion: 100%|██████████| 1/1 [00:00<00:00, 16.40it/s]\n"
     ]
    },
    {
     "name": "stdout",
     "output_type": "stream",
     "text": [
      "Emotion values: {'angry': 8.807960897684097, 'disgust': 0.0006590682460227981, 'happy': 1.449514739215374, 'sad': 7.869688421487808, 'surprise': 0.007132050086511299, 'neutral': 81.60958290100098}\n",
      "Label: neutral\n"
     ]
    },
    {
     "name": "stderr",
     "output_type": "stream",
     "text": [
      "Action: emotion: 100%|██████████| 1/1 [00:00<00:00, 18.15it/s]\n"
     ]
    },
    {
     "name": "stdout",
     "output_type": "stream",
     "text": [
      "Emotion values: {'angry': 8.807960897684097, 'disgust': 0.0006590682460227981, 'happy': 1.449514739215374, 'sad': 7.869688421487808, 'surprise': 0.007132050086511299, 'neutral': 81.60958290100098}\n",
      "Label: neutral\n"
     ]
    },
    {
     "name": "stderr",
     "output_type": "stream",
     "text": [
      "Action: emotion: 100%|██████████| 1/1 [00:00<00:00, 17.57it/s]\n"
     ]
    },
    {
     "name": "stdout",
     "output_type": "stream",
     "text": [
      "Emotion values: {'angry': 0.0037158893974265084, 'disgust': 2.0793500254967512e-05, 'happy': 97.35775589942932, 'sad': 0.36484235897660255, 'surprise': 0.6214668042957783, 'neutral': 1.0601339861750603}\n",
      "Label: happy\n"
     ]
    },
    {
     "name": "stderr",
     "output_type": "stream",
     "text": [
      "Action: emotion: 100%|██████████| 1/1 [00:00<00:00, 18.21it/s]\n"
     ]
    },
    {
     "name": "stdout",
     "output_type": "stream",
     "text": [
      "Emotion values: {'angry': 0.0014839007285465083, 'disgust': 2.1952412824075142e-07, 'happy': 79.39428932734855, 'sad': 1.4440163179914571, 'surprise': 0.024089271066778623, 'neutral': 0.6493204430555769}\n",
      "Label: happy\n"
     ]
    },
    {
     "name": "stderr",
     "output_type": "stream",
     "text": [
      "Action: emotion: 100%|██████████| 1/1 [00:00<00:00, 16.07it/s]\n"
     ]
    },
    {
     "name": "stdout",
     "output_type": "stream",
     "text": [
      "Emotion values: {'angry': 0.016895392932826377, 'disgust': 1.110763259962403e-05, 'happy': 4.388534872110501, 'sad': 4.568711496149123, 'surprise': 0.17756619702235496, 'neutral': 3.3102419006536126}\n",
      "Label: sad\n"
     ]
    },
    {
     "name": "stderr",
     "output_type": "stream",
     "text": [
      "Action: emotion: 100%|██████████| 1/1 [00:00<00:00, 17.41it/s]\n"
     ]
    },
    {
     "name": "stdout",
     "output_type": "stream",
     "text": [
      "Emotion values: {'angry': 0.002758489608822856, 'disgust': 2.142049426723247e-07, 'happy': 53.079986572265625, 'sad': 0.3239107318222523, 'surprise': 0.21470175124704838, 'neutral': 0.2292388118803501}\n",
      "Label: happy\n"
     ]
    },
    {
     "name": "stderr",
     "output_type": "stream",
     "text": [
      "Action: emotion: 100%|██████████| 1/1 [00:00<00:00, 18.45it/s]\n"
     ]
    },
    {
     "name": "stdout",
     "output_type": "stream",
     "text": [
      "Emotion values: {'angry': 0.0029430200811475515, 'disgust': 2.6628324434341266e-06, 'happy': 90.12746810913086, 'sad': 5.338540300726891, 'surprise': 0.05786496330983937, 'neutral': 1.743672601878643}\n",
      "Label: happy\n"
     ]
    },
    {
     "name": "stderr",
     "output_type": "stream",
     "text": [
      "Action: emotion: 100%|██████████| 1/1 [00:00<00:00, 17.46it/s]\n"
     ]
    },
    {
     "name": "stdout",
     "output_type": "stream",
     "text": [
      "Emotion values: {'angry': 0.0007221586201922037, 'disgust': 1.0209765477497967e-06, 'happy': 96.7272162437439, 'sad': 1.7709854990243912, 'surprise': 0.010448555985931307, 'neutral': 0.21928877104073763}\n",
      "Label: happy\n"
     ]
    },
    {
     "name": "stderr",
     "output_type": "stream",
     "text": [
      "Action: emotion: 100%|██████████| 1/1 [00:00<00:00, 19.36it/s]\n"
     ]
    },
    {
     "name": "stdout",
     "output_type": "stream",
     "text": [
      "Emotion values: {'angry': 0.1594117027707398, 'disgust': 8.286388606393302e-05, 'happy': 9.257818758487701, 'sad': 40.32131731510162, 'surprise': 0.021775139612145722, 'neutral': 48.210251331329346}\n",
      "Label: neutral\n"
     ]
    },
    {
     "name": "stderr",
     "output_type": "stream",
     "text": [
      "Action: emotion: 100%|██████████| 1/1 [00:00<00:00, 18.91it/s]\n"
     ]
    },
    {
     "name": "stdout",
     "output_type": "stream",
     "text": [
      "Emotion values: {'angry': 0.5279598291963339, 'disgust': 0.0006240688435354969, 'happy': 0.6381996441632509, 'sad': 65.43583273887634, 'surprise': 0.0024450790078844875, 'neutral': 31.50237500667572}\n",
      "Label: sad\n"
     ]
    },
    {
     "name": "stderr",
     "output_type": "stream",
     "text": [
      "Action: emotion: 100%|██████████| 1/1 [00:00<00:00, 19.16it/s]\n"
     ]
    },
    {
     "name": "stdout",
     "output_type": "stream",
     "text": [
      "Emotion values: {'angry': 28.438299894332886, 'disgust': 0.0023867120034992695, 'happy': 12.195076048374176, 'sad': 2.3578688502311707, 'surprise': 0.14992288779467344, 'neutral': 0.7833897136151791}\n",
      "Label: angry\n"
     ]
    },
    {
     "name": "stderr",
     "output_type": "stream",
     "text": [
      "Action: emotion: 100%|██████████| 1/1 [00:00<00:00, 19.55it/s]\n"
     ]
    },
    {
     "name": "stdout",
     "output_type": "stream",
     "text": [
      "Emotion values: {'angry': 28.438299894332886, 'disgust': 0.0023867120034992695, 'happy': 12.195076048374176, 'sad': 2.3578688502311707, 'surprise': 0.14992288779467344, 'neutral': 0.7833897136151791}\n",
      "Label: angry\n"
     ]
    },
    {
     "name": "stderr",
     "output_type": "stream",
     "text": [
      "Action: emotion: 100%|██████████| 1/1 [00:00<00:00, 18.88it/s]\n"
     ]
    },
    {
     "name": "stdout",
     "output_type": "stream",
     "text": [
      "Emotion values: {'angry': 56.57739121644392, 'disgust': 0.017149796483734575, 'happy': 1.763780252788097, 'sad': 17.80158046502834, 'surprise': 0.04263872614387138, 'neutral': 8.568689503513516}\n",
      "Label: angry\n"
     ]
    },
    {
     "name": "stderr",
     "output_type": "stream",
     "text": [
      "Action: emotion: 100%|██████████| 1/1 [00:00<00:00, 16.18it/s]\n"
     ]
    },
    {
     "name": "stdout",
     "output_type": "stream",
     "text": [
      "Emotion values: {'angry': 1.4739608392119408, 'disgust': 1.4223335009777571e-08, 'happy': 0.0001886695599750965, 'sad': 1.8327893689274788, 'surprise': 9.833382819124381e-06, 'neutral': 96.64931893348694}\n",
      "Label: neutral\n"
     ]
    },
    {
     "name": "stderr",
     "output_type": "stream",
     "text": [
      "Action: emotion: 100%|██████████| 1/1 [00:00<00:00, 18.20it/s]\n"
     ]
    },
    {
     "name": "stdout",
     "output_type": "stream",
     "text": [
      "Emotion values: {'angry': 1.4739608392119408, 'disgust': 1.4223335009777571e-08, 'happy': 0.0001886695599750965, 'sad': 1.8327893689274788, 'surprise': 9.833382819124381e-06, 'neutral': 96.64931893348694}\n",
      "Label: neutral\n"
     ]
    },
    {
     "name": "stderr",
     "output_type": "stream",
     "text": [
      "Action: emotion: 100%|██████████| 1/1 [00:00<00:00, 19.69it/s]\n"
     ]
    },
    {
     "name": "stdout",
     "output_type": "stream",
     "text": [
      "Emotion values: {'angry': 1.7040397971868515, 'disgust': 0.005444081762107089, 'happy': 0.16549857100471854, 'sad': 43.07243824005127, 'surprise': 0.013054729788564146, 'neutral': 30.117526650428772}\n",
      "Label: sad\n"
     ]
    },
    {
     "name": "stderr",
     "output_type": "stream",
     "text": [
      "Action: emotion: 100%|██████████| 1/1 [00:00<00:00, 18.89it/s]\n"
     ]
    },
    {
     "name": "stdout",
     "output_type": "stream",
     "text": [
      "Emotion values: {'angry': 1.7040397971868515, 'disgust': 0.005444081762107089, 'happy': 0.16549857100471854, 'sad': 43.07243824005127, 'surprise': 0.013054729788564146, 'neutral': 30.117526650428772}\n",
      "Label: sad\n"
     ]
    },
    {
     "name": "stderr",
     "output_type": "stream",
     "text": [
      "Action: emotion: 100%|██████████| 1/1 [00:00<00:00, 18.13it/s]\n"
     ]
    },
    {
     "name": "stdout",
     "output_type": "stream",
     "text": [
      "Emotion values: {'angry': 0.28309307526797056, 'disgust': 0.000633257104709628, 'happy': 1.096917036920786, 'sad': 14.496465027332306, 'surprise': 0.04873290017712861, 'neutral': 82.86153674125671}\n",
      "Label: neutral\n"
     ]
    },
    {
     "name": "stderr",
     "output_type": "stream",
     "text": [
      "Action: emotion: 100%|██████████| 1/1 [00:00<00:00, 17.76it/s]\n"
     ]
    },
    {
     "name": "stdout",
     "output_type": "stream",
     "text": [
      "Emotion values: {'angry': 0.013030040330647101, 'disgust': 3.754686030508404e-06, 'happy': 44.45684817176152, 'sad': 1.9729214965058266, 'surprise': 0.3496689930360909, 'neutral': 50.3285020785631}\n",
      "Label: neutral\n"
     ]
    },
    {
     "name": "stderr",
     "output_type": "stream",
     "text": [
      "Action: emotion: 100%|██████████| 1/1 [00:00<00:00, 17.88it/s]\n"
     ]
    },
    {
     "name": "stdout",
     "output_type": "stream",
     "text": [
      "Emotion values: {'angry': 0.013384784547842647, 'disgust': 5.316817907176112e-07, 'happy': 61.53341394264532, 'sad': 2.2542270938483364, 'surprise': 0.21626848943311103, 'neutral': 19.20480350198704}\n",
      "Label: happy\n"
     ]
    },
    {
     "name": "stderr",
     "output_type": "stream",
     "text": [
      "Action: emotion: 100%|██████████| 1/1 [00:00<00:00, 18.49it/s]\n"
     ]
    },
    {
     "name": "stdout",
     "output_type": "stream",
     "text": [
      "Emotion values: {'angry': 0.00859229257912375, 'disgust': 2.1477707112804723e-08, 'happy': 3.7293627858161926, 'sad': 7.5826495885849, 'surprise': 0.04191554326098412, 'neutral': 43.55996549129486}\n",
      "Label: neutral\n"
     ]
    },
    {
     "name": "stderr",
     "output_type": "stream",
     "text": [
      "Action: emotion: 100%|██████████| 1/1 [00:00<00:00, 18.49it/s]\n"
     ]
    },
    {
     "name": "stdout",
     "output_type": "stream",
     "text": [
      "Emotion values: {'angry': 0.05701298941858113, 'disgust': 4.093146515060653e-05, 'happy': 17.95353591442108, 'sad': 6.243347376585007, 'surprise': 0.376714626327157, 'neutral': 20.344842970371246}\n",
      "Label: neutral\n"
     ]
    },
    {
     "name": "stderr",
     "output_type": "stream",
     "text": [
      "Action: emotion: 100%|██████████| 1/1 [00:00<00:00, 19.29it/s]\n"
     ]
    },
    {
     "name": "stdout",
     "output_type": "stream",
     "text": [
      "Emotion values: {'angry': 0.04727539489977062, 'disgust': 4.311163763759396e-05, 'happy': 12.475714087486267, 'sad': 3.6812912672758102, 'surprise': 0.5993764381855726, 'neutral': 75.35975575447083}\n",
      "Label: neutral\n"
     ]
    },
    {
     "name": "stderr",
     "output_type": "stream",
     "text": [
      "Action: emotion: 100%|██████████| 1/1 [00:00<00:00, 19.26it/s]"
     ]
    },
    {
     "name": "stdout",
     "output_type": "stream",
     "text": [
      "Emotion values: {'angry': 0.04727539489977062, 'disgust': 4.311163763759396e-05, 'happy': 12.475714087486267, 'sad': 3.6812912672758102, 'surprise': 0.5993764381855726, 'neutral': 75.35975575447083}\n",
      "Label: neutral\n"
     ]
    },
    {
     "name": "stderr",
     "output_type": "stream",
     "text": [
      "\n",
      "Action: emotion: 100%|██████████| 1/1 [00:00<00:00, 20.37it/s]\n"
     ]
    },
    {
     "name": "stdout",
     "output_type": "stream",
     "text": [
      "Emotion values: {'angry': 0.09115262073464692, 'disgust': 0.00041534162846801337, 'happy': 0.8047075942158699, 'sad': 29.397869110107422, 'surprise': 0.04145029524806887, 'neutral': 58.38465094566345}\n",
      "Label: neutral\n"
     ]
    },
    {
     "name": "stderr",
     "output_type": "stream",
     "text": [
      "Action: emotion: 100%|██████████| 1/1 [00:00<00:00, 17.46it/s]\n"
     ]
    },
    {
     "name": "stdout",
     "output_type": "stream",
     "text": [
      "Emotion values: {'angry': 0.010888107499340549, 'disgust': 7.387432106042979e-05, 'happy': 6.909656524658203, 'sad': 5.504688993096352, 'surprise': 0.04656821256503463, 'neutral': 86.71994209289551}\n",
      "Label: neutral\n"
     ]
    },
    {
     "name": "stderr",
     "output_type": "stream",
     "text": [
      "Action: emotion: 100%|██████████| 1/1 [00:00<00:00, 17.60it/s]\n"
     ]
    },
    {
     "name": "stdout",
     "output_type": "stream",
     "text": [
      "Emotion values: {'angry': 0.010888107499340549, 'disgust': 7.387432106042979e-05, 'happy': 6.909656524658203, 'sad': 5.504688993096352, 'surprise': 0.04656821256503463, 'neutral': 86.71994209289551}\n",
      "Label: neutral\n"
     ]
    },
    {
     "name": "stderr",
     "output_type": "stream",
     "text": [
      "Action: emotion: 100%|██████████| 1/1 [00:00<00:00, 17.17it/s]\n"
     ]
    },
    {
     "name": "stdout",
     "output_type": "stream",
     "text": [
      "Emotion values: {'angry': 0.14302089111879468, 'disgust': 0.00257327137660468, 'happy': 0.056872208369895816, 'sad': 28.702491521835327, 'surprise': 0.006905022746650502, 'neutral': 62.48064041137695}\n",
      "Label: neutral\n"
     ]
    },
    {
     "name": "stderr",
     "output_type": "stream",
     "text": [
      "Action: emotion: 100%|██████████| 1/1 [00:00<00:00, 17.80it/s]\n"
     ]
    },
    {
     "name": "stdout",
     "output_type": "stream",
     "text": [
      "Emotion values: {'angry': 0.38339016027748585, 'disgust': 0.002399402546870988, 'happy': 0.03142634523101151, 'sad': 16.61098450422287, 'surprise': 0.024160993052646518, 'neutral': 69.97015476226807}\n",
      "Label: neutral\n"
     ]
    },
    {
     "name": "stderr",
     "output_type": "stream",
     "text": [
      "Action: emotion: 100%|██████████| 1/1 [00:00<00:00, 17.77it/s]\n"
     ]
    },
    {
     "name": "stdout",
     "output_type": "stream",
     "text": [
      "Emotion values: {'angry': 0.2750568885424004, 'disgust': 0.00016760689911149846, 'happy': 0.009374633035578792, 'sad': 15.29144827025512, 'surprise': 0.007351913667325814, 'neutral': 77.44084923754325}\n",
      "Label: neutral\n"
     ]
    },
    {
     "name": "stderr",
     "output_type": "stream",
     "text": [
      "Action: emotion: 100%|██████████| 1/1 [00:00<00:00, 18.35it/s]\n"
     ]
    },
    {
     "name": "stdout",
     "output_type": "stream",
     "text": [
      "Emotion values: {'angry': 0.6767530801001883, 'disgust': 0.0016272917612626641, 'happy': 0.09531586519482615, 'sad': 28.637966947313185, 'surprise': 0.021388400276391988, 'neutral': 49.64103396428036}\n",
      "Label: neutral\n"
     ]
    },
    {
     "name": "stderr",
     "output_type": "stream",
     "text": [
      "Action: emotion: 100%|██████████| 1/1 [00:00<00:00, 19.42it/s]\n"
     ]
    },
    {
     "name": "stdout",
     "output_type": "stream",
     "text": [
      "Emotion values: {'angry': 0.2892477670684457, 'disgust': 0.00045474557737179566, 'happy': 0.012177256576251239, 'sad': 20.805920660495758, 'surprise': 0.0034188014979008585, 'neutral': 74.43957328796387}\n",
      "Label: neutral\n"
     ]
    },
    {
     "name": "stderr",
     "output_type": "stream",
     "text": [
      "Action: emotion: 100%|██████████| 1/1 [00:00<00:00, 19.15it/s]\n"
     ]
    },
    {
     "name": "stdout",
     "output_type": "stream",
     "text": [
      "Emotion values: {'angry': 0.010656611173900883, 'disgust': 1.2304203723197858e-06, 'happy': 7.2482326686624e-05, 'sad': 0.35740549012455286, 'surprise': 0.0004075107669510777, 'neutral': 99.5741069063012}\n",
      "Label: neutral\n"
     ]
    },
    {
     "name": "stderr",
     "output_type": "stream",
     "text": [
      "Action: emotion: 100%|██████████| 1/1 [00:00<00:00, 17.71it/s]\n"
     ]
    },
    {
     "name": "stdout",
     "output_type": "stream",
     "text": [
      "Emotion values: {'angry': 0.056795275304466486, 'disgust': 0.00027392479751142673, 'happy': 0.0017908670997712761, 'sad': 4.967609792947769, 'surprise': 0.0028456966902012937, 'neutral': 93.5595154762268}\n",
      "Label: neutral\n"
     ]
    },
    {
     "name": "stderr",
     "output_type": "stream",
     "text": [
      "Action: emotion: 100%|██████████| 1/1 [00:00<00:00, 17.96it/s]\n"
     ]
    },
    {
     "name": "stdout",
     "output_type": "stream",
     "text": [
      "Emotion values: {'angry': 0.10070452135530242, 'disgust': 0.0002711828917856492, 'happy': 0.01009569810924556, 'sad': 13.901607030725899, 'surprise': 0.0037954918741355463, 'neutral': 79.75829123009987}\n",
      "Label: neutral\n"
     ]
    },
    {
     "name": "stderr",
     "output_type": "stream",
     "text": [
      "Action: emotion: 100%|██████████| 1/1 [00:00<00:00, 18.62it/s]\n"
     ]
    },
    {
     "name": "stdout",
     "output_type": "stream",
     "text": [
      "Emotion values: {'angry': 0.5577129777520895, 'disgust': 0.0010817468137247488, 'happy': 0.0010819943781825714, 'sad': 11.061505228281021, 'surprise': 0.003972897320636548, 'neutral': 87.08621263504028}\n",
      "Label: neutral\n"
     ]
    },
    {
     "name": "stderr",
     "output_type": "stream",
     "text": [
      "Action: emotion: 100%|██████████| 1/1 [00:00<00:00, 18.74it/s]\n"
     ]
    },
    {
     "name": "stdout",
     "output_type": "stream",
     "text": [
      "Emotion values: {'angry': 0.09524193010292947, 'disgust': 0.00032788809676276287, 'happy': 0.07300425786525011, 'sad': 13.262972235679626, 'surprise': 0.00410196662414819, 'neutral': 84.81659293174744}\n",
      "Label: neutral\n"
     ]
    },
    {
     "name": "stderr",
     "output_type": "stream",
     "text": [
      "Action: emotion: 100%|██████████| 1/1 [00:00<00:00, 18.23it/s]\n"
     ]
    },
    {
     "name": "stdout",
     "output_type": "stream",
     "text": [
      "Emotion values: {'angry': 0.2916789148002863, 'disgust': 0.009021945152198896, 'happy': 3.6155425012111664, 'sad': 19.01775151491165, 'surprise': 0.427750451490283, 'neutral': 16.864891350269318}\n",
      "Label: sad\n"
     ]
    },
    {
     "name": "stderr",
     "output_type": "stream",
     "text": [
      "Action: emotion: 100%|██████████| 1/1 [00:00<00:00, 18.48it/s]\n"
     ]
    },
    {
     "name": "stdout",
     "output_type": "stream",
     "text": [
      "Emotion values: {'angry': 0.2916789148002863, 'disgust': 0.009021945152198896, 'happy': 3.6155425012111664, 'sad': 19.01775151491165, 'surprise': 0.427750451490283, 'neutral': 16.864891350269318}\n",
      "Label: sad\n"
     ]
    },
    {
     "name": "stderr",
     "output_type": "stream",
     "text": [
      "Action: emotion: 100%|██████████| 1/1 [00:00<00:00, 18.04it/s]\n"
     ]
    },
    {
     "name": "stdout",
     "output_type": "stream",
     "text": [
      "Emotion values: {'angry': 0.5117200780659914, 'disgust': 0.013404707715380937, 'happy': 0.3183302003890276, 'sad': 32.342153787612915, 'surprise': 0.03193572047166526, 'neutral': 24.60186928510666}\n",
      "Label: sad\n"
     ]
    },
    {
     "name": "stderr",
     "output_type": "stream",
     "text": [
      "Action: emotion: 100%|██████████| 1/1 [00:00<00:00, 18.16it/s]\n"
     ]
    },
    {
     "name": "stdout",
     "output_type": "stream",
     "text": [
      "Emotion values: {'angry': 0.1992850916034038, 'disgust': 0.0065899501640878716, 'happy': 0.6559202372831248, 'sad': 6.194918971950947, 'surprise': 0.0247061994915798, 'neutral': 84.88012462139872}\n",
      "Label: neutral\n"
     ]
    },
    {
     "name": "stderr",
     "output_type": "stream",
     "text": [
      "Action: emotion: 100%|██████████| 1/1 [00:00<00:00, 17.68it/s]\n"
     ]
    },
    {
     "name": "stdout",
     "output_type": "stream",
     "text": [
      "Emotion values: {'angry': 0.021193589398432005, 'disgust': 1.2564744699271811e-05, 'happy': 0.0026815272135292025, 'sad': 0.5380498421102574, 'surprise': 0.0005087564811071657, 'neutral': 99.0767299028313}\n",
      "Label: neutral\n"
     ]
    },
    {
     "name": "stderr",
     "output_type": "stream",
     "text": [
      "Action: emotion: 100%|██████████| 1/1 [00:00<00:00, 16.16it/s]\n"
     ]
    },
    {
     "name": "stdout",
     "output_type": "stream",
     "text": [
      "Emotion values: {'angry': 0.041136276558972895, 'disgust': 0.0002047647285507992, 'happy': 0.020148388284724206, 'sad': 0.9890861809253693, 'surprise': 0.002002294968406204, 'neutral': 97.5951075553894}\n",
      "Label: neutral\n"
     ]
    },
    {
     "name": "stderr",
     "output_type": "stream",
     "text": [
      "Action: emotion: 100%|██████████| 1/1 [00:00<00:00, 16.16it/s]\n"
     ]
    },
    {
     "name": "stdout",
     "output_type": "stream",
     "text": [
      "Emotion values: {'angry': 0.20143119618296623, 'disgust': 9.354542385153763e-05, 'happy': 0.008373299351660535, 'sad': 2.756398729979992, 'surprise': 0.0008629803232906852, 'neutral': 94.23714280128479}\n",
      "Label: neutral\n"
     ]
    },
    {
     "name": "stderr",
     "output_type": "stream",
     "text": [
      "Action: emotion: 100%|██████████| 1/1 [00:00<00:00, 16.31it/s]\n"
     ]
    },
    {
     "name": "stdout",
     "output_type": "stream",
     "text": [
      "Emotion values: {'angry': 0.08721681203343724, 'disgust': 1.030011508755098e-06, 'happy': 0.0007355220564874371, 'sad': 1.0013891121579275, 'surprise': 0.00014477847664565662, 'neutral': 98.60981719376836}\n",
      "Label: neutral\n"
     ]
    },
    {
     "name": "stderr",
     "output_type": "stream",
     "text": [
      "Action: emotion: 100%|██████████| 1/1 [00:00<00:00, 16.16it/s]\n"
     ]
    },
    {
     "name": "stdout",
     "output_type": "stream",
     "text": [
      "Emotion values: {'angry': 0.18368703313171864, 'disgust': 0.0006503107215394266, 'happy': 0.13123239623382688, 'sad': 2.2633299231529236, 'surprise': 0.004585394708556123, 'neutral': 95.8555519580841}\n",
      "Label: neutral\n"
     ]
    },
    {
     "name": "stderr",
     "output_type": "stream",
     "text": [
      "Action: emotion: 100%|██████████| 1/1 [00:00<00:00, 17.21it/s]\n"
     ]
    },
    {
     "name": "stdout",
     "output_type": "stream",
     "text": [
      "Emotion values: {'angry': 2.329120317592659, 'disgust': 0.016636182208947206, 'happy': 3.419464489157735, 'sad': 15.657464046175962, 'surprise': 0.07883751889802741, 'neutral': 57.43294446861082}\n",
      "Label: neutral\n"
     ]
    },
    {
     "name": "stderr",
     "output_type": "stream",
     "text": [
      "Action: emotion: 100%|██████████| 1/1 [00:00<00:00, 17.05it/s]\n"
     ]
    },
    {
     "name": "stdout",
     "output_type": "stream",
     "text": [
      "Emotion values: {'angry': 2.39790692316931, 'disgust': 0.0005642952028043968, 'happy': 56.42487147002646, 'sad': 22.442851808241116, 'surprise': 0.009774571518015654, 'neutral': 11.360499194890213}\n",
      "Label: happy\n"
     ]
    },
    {
     "name": "stderr",
     "output_type": "stream",
     "text": [
      "Action: emotion: 100%|██████████| 1/1 [00:00<00:00, 16.27it/s]\n"
     ]
    },
    {
     "name": "stdout",
     "output_type": "stream",
     "text": [
      "Emotion values: {'angry': 2.39790692316931, 'disgust': 0.0005642952028043968, 'happy': 56.42487147002646, 'sad': 22.442851808241116, 'surprise': 0.009774571518015654, 'neutral': 11.360499194890213}\n",
      "Label: happy\n"
     ]
    },
    {
     "name": "stderr",
     "output_type": "stream",
     "text": [
      "Action: emotion: 100%|██████████| 1/1 [00:00<00:00, 15.99it/s]\n"
     ]
    },
    {
     "name": "stdout",
     "output_type": "stream",
     "text": [
      "Emotion values: {'angry': 0.6518100388348103, 'disgust': 0.003040375668206252, 'happy': 19.26586627960205, 'sad': 26.100990176200867, 'surprise': 0.1236128038726747, 'neutral': 8.413755148649216}\n",
      "Label: sad\n"
     ]
    },
    {
     "name": "stderr",
     "output_type": "stream",
     "text": [
      "Action: emotion: 100%|██████████| 1/1 [00:00<00:00, 16.66it/s]\n"
     ]
    },
    {
     "name": "stdout",
     "output_type": "stream",
     "text": [
      "Emotion values: {'angry': 0.5785166165093552, 'disgust': 0.00766638450152111, 'happy': 8.883907430404868, 'sad': 4.870914585644876, 'surprise': 0.2320370076693301, 'neutral': 83.08840293219107}\n",
      "Label: neutral\n"
     ]
    },
    {
     "name": "stderr",
     "output_type": "stream",
     "text": [
      "Action: emotion: 100%|██████████| 1/1 [00:00<00:00, 16.04it/s]\n"
     ]
    },
    {
     "name": "stdout",
     "output_type": "stream",
     "text": [
      "Emotion values: {'angry': 1.1018965393304825, 'disgust': 0.01535684714326635, 'happy': 3.022449277341366, 'sad': 10.54394468665123, 'surprise': 0.2295245649293065, 'neutral': 81.41358494758606}\n",
      "Label: neutral\n"
     ]
    },
    {
     "name": "stderr",
     "output_type": "stream",
     "text": [
      "Action: emotion: 100%|██████████| 1/1 [00:00<00:00, 15.86it/s]\n"
     ]
    },
    {
     "name": "stdout",
     "output_type": "stream",
     "text": [
      "Emotion values: {'angry': 0.2690926571899465, 'disgust': 0.00045578721279440144, 'happy': 6.490557612114237, 'sad': 4.599433216520165, 'surprise': 0.027440904162418345, 'neutral': 88.24008247374505}\n",
      "Label: neutral\n"
     ]
    },
    {
     "name": "stderr",
     "output_type": "stream",
     "text": [
      "Action: emotion: 100%|██████████| 1/1 [00:00<00:00, 16.93it/s]\n"
     ]
    },
    {
     "name": "stdout",
     "output_type": "stream",
     "text": [
      "Emotion values: {'angry': 0.011742514470824972, 'disgust': 0.0019476810848573223, 'happy': 89.56130146980286, 'sad': 4.845454543828964, 'surprise': 0.5416275933384895, 'neutral': 4.729229211807251}\n",
      "Label: happy\n"
     ]
    },
    {
     "name": "stderr",
     "output_type": "stream",
     "text": [
      "Action: emotion: 100%|██████████| 1/1 [00:00<00:00, 15.52it/s]\n"
     ]
    },
    {
     "name": "stdout",
     "output_type": "stream",
     "text": [
      "Emotion values: {'angry': 0.002286196240518763, 'disgust': 9.06004285639844e-05, 'happy': 96.85845356335959, 'sad': 1.4639701635521747, 'surprise': 0.08886594389325046, 'neutral': 1.575230900957042}\n",
      "Label: happy\n"
     ]
    },
    {
     "name": "stderr",
     "output_type": "stream",
     "text": [
      "Action: emotion: 100%|██████████| 1/1 [00:00<00:00, 17.11it/s]\n"
     ]
    },
    {
     "name": "stdout",
     "output_type": "stream",
     "text": [
      "Emotion values: {'angry': 0.022588846331927925, 'disgust': 0.00045192837205831893, 'happy': 11.036377400159836, 'sad': 88.78899216651917, 'surprise': 0.00033810156310210004, 'neutral': 0.12290359009057283}\n",
      "Label: sad\n"
     ]
    },
    {
     "name": "stderr",
     "output_type": "stream",
     "text": [
      "Action: emotion: 100%|██████████| 1/1 [00:00<00:00, 17.36it/s]\n"
     ]
    },
    {
     "name": "stdout",
     "output_type": "stream",
     "text": [
      "Emotion values: {'angry': 0.0024606615625089034, 'disgust': 0.0014274693057814147, 'happy': 81.64091110229492, 'sad': 17.226415872573853, 'surprise': 0.011417319910833612, 'neutral': 0.9393074549734592}\n",
      "Label: happy\n"
     ]
    },
    {
     "name": "stderr",
     "output_type": "stream",
     "text": [
      "Action: emotion: 100%|██████████| 1/1 [00:00<00:00, 16.37it/s]\n"
     ]
    },
    {
     "name": "stdout",
     "output_type": "stream",
     "text": [
      "Emotion values: {'angry': 0.009502981831963022, 'disgust': 0.003107185151413874, 'happy': 64.22323967356918, 'sad': 34.678249637976265, 'surprise': 0.010867141747611641, 'neutral': 0.7745400998467267}\n",
      "Label: happy\n"
     ]
    },
    {
     "name": "stderr",
     "output_type": "stream",
     "text": [
      "Action: emotion: 100%|██████████| 1/1 [00:00<00:00, 16.27it/s]\n"
     ]
    },
    {
     "name": "stdout",
     "output_type": "stream",
     "text": [
      "Emotion values: {'angry': 0.0024282436409291683, 'disgust': 0.001174593629872412, 'happy': 88.945393436598, 'sad': 9.11491100369823, 'surprise': 0.04515555003183931, 'neutral': 1.472969342526119}\n",
      "Label: happy\n"
     ]
    },
    {
     "name": "stderr",
     "output_type": "stream",
     "text": [
      "Action: emotion: 100%|██████████| 1/1 [00:00<00:00, 18.58it/s]\n"
     ]
    },
    {
     "name": "stdout",
     "output_type": "stream",
     "text": [
      "Emotion values: {'angry': 0.004084723572857103, 'disgust': 0.002693032954101713, 'happy': 73.74475911322128, 'sad': 24.719215962980275, 'surprise': 0.027234319377697186, 'neutral': 1.2825633732898982}\n",
      "Label: happy\n"
     ]
    },
    {
     "name": "stderr",
     "output_type": "stream",
     "text": [
      "Action: emotion: 100%|██████████| 1/1 [00:00<00:00, 17.01it/s]\n"
     ]
    },
    {
     "name": "stdout",
     "output_type": "stream",
     "text": [
      "Emotion values: {'angry': 0.0016294212400680408, 'disgust': 0.0007043504410830792, 'happy': 82.35512375831604, 'sad': 15.485313534736633, 'surprise': 0.024924817262217402, 'neutral': 2.00988557189703}\n",
      "Label: happy\n"
     ]
    },
    {
     "name": "stderr",
     "output_type": "stream",
     "text": [
      "Action: emotion: 100%|██████████| 1/1 [00:00<00:00,  6.84it/s]\n"
     ]
    },
    {
     "name": "stdout",
     "output_type": "stream",
     "text": [
      "Emotion values: {'angry': 0.0016294212400680408, 'disgust': 0.0007043504410830792, 'happy': 82.35512375831604, 'sad': 15.485313534736633, 'surprise': 0.024924817262217402, 'neutral': 2.00988557189703}\n",
      "Label: happy\n"
     ]
    },
    {
     "name": "stderr",
     "output_type": "stream",
     "text": [
      "Action: emotion: 100%|██████████| 1/1 [00:00<00:00, 19.21it/s]\n"
     ]
    },
    {
     "name": "stdout",
     "output_type": "stream",
     "text": [
      "Emotion values: {'angry': 0.002220307677798548, 'disgust': 0.002180904370238297, 'happy': 71.38591749835997, 'sad': 23.215110812770032, 'surprise': 0.028537865236544283, 'neutral': 3.9610723899516596}\n",
      "Label: happy\n"
     ]
    },
    {
     "name": "stderr",
     "output_type": "stream",
     "text": [
      "Action: emotion: 100%|██████████| 1/1 [00:00<00:00, 17.31it/s]\n"
     ]
    },
    {
     "name": "stdout",
     "output_type": "stream",
     "text": [
      "Emotion values: {'angry': 0.0002471801508363569, 'disgust': 0.00011973831988143502, 'happy': 91.91213250160217, 'sad': 3.4588489681482315, 'surprise': 0.028734278748743236, 'neutral': 3.869381919503212}\n",
      "Label: happy\n"
     ]
    },
    {
     "name": "stderr",
     "output_type": "stream",
     "text": [
      "Action: emotion: 100%|██████████| 1/1 [00:00<00:00, 17.46it/s]\n"
     ]
    },
    {
     "name": "stdout",
     "output_type": "stream",
     "text": [
      "Emotion values: {'angry': 0.001692360638116952, 'disgust': 0.0008433063158008736, 'happy': 86.35696172714233, 'sad': 10.869846493005753, 'surprise': 0.03176641766913235, 'neutral': 2.533671259880066}\n",
      "Label: happy\n"
     ]
    },
    {
     "name": "stderr",
     "output_type": "stream",
     "text": [
      "Action: emotion: 100%|██████████| 1/1 [00:00<00:00, 17.68it/s]\n"
     ]
    },
    {
     "name": "stdout",
     "output_type": "stream",
     "text": [
      "Emotion values: {'angry': 0.0011362487829777823, 'disgust': 0.0004845595081061982, 'happy': 90.3631198839092, 'sad': 7.446555190867804, 'surprise': 0.02282799959367509, 'neutral': 2.0297067796834445}\n",
      "Label: happy\n"
     ]
    },
    {
     "name": "stderr",
     "output_type": "stream",
     "text": [
      "Action: emotion: 100%|██████████| 1/1 [00:00<00:00, 18.61it/s]\n"
     ]
    },
    {
     "name": "stdout",
     "output_type": "stream",
     "text": [
      "Emotion values: {'angry': 0.0011518738574523013, 'disgust': 0.00038451876207545865, 'happy': 91.87933206558228, 'sad': 5.869036540389061, 'surprise': 0.028816325357183814, 'neutral': 2.1033959463238716}\n",
      "Label: happy\n"
     ]
    },
    {
     "name": "stderr",
     "output_type": "stream",
     "text": [
      "Action: emotion: 100%|██████████| 1/1 [00:00<00:00, 18.07it/s]\n"
     ]
    },
    {
     "name": "stdout",
     "output_type": "stream",
     "text": [
      "Emotion values: {'angry': 0.005397279976539465, 'disgust': 0.004596821415803263, 'happy': 65.33818658135097, 'sad': 31.74863675252953, 'surprise': 0.018577132837033827, 'neutral': 1.5324075742176086}\n",
      "Label: happy\n"
     ]
    },
    {
     "name": "stderr",
     "output_type": "stream",
     "text": [
      "Action: emotion: 100%|██████████| 1/1 [00:00<00:00, 18.55it/s]\n"
     ]
    },
    {
     "name": "stdout",
     "output_type": "stream",
     "text": [
      "Emotion values: {'angry': 0.0027369093004381284, 'disgust': 0.0008757420800975524, 'happy': 70.73808908462524, 'sad': 26.792994141578674, 'surprise': 0.010809325613081455, 'neutral': 2.0307937636971474}\n",
      "Label: happy\n"
     ]
    },
    {
     "name": "stderr",
     "output_type": "stream",
     "text": [
      "Action: emotion: 100%|██████████| 1/1 [00:00<00:00, 18.49it/s]\n"
     ]
    },
    {
     "name": "stdout",
     "output_type": "stream",
     "text": [
      "Emotion values: {'angry': 0.0008535019441025787, 'disgust': 0.00012162594515917216, 'happy': 94.55758268327507, 'sad': 2.7967325951734296, 'surprise': 0.07564576545977776, 'neutral': 2.44758623958662}\n",
      "Label: happy\n"
     ]
    },
    {
     "name": "stderr",
     "output_type": "stream",
     "text": [
      "Action: emotion: 100%|██████████| 1/1 [00:00<00:00, 19.39it/s]\n"
     ]
    },
    {
     "name": "stdout",
     "output_type": "stream",
     "text": [
      "Emotion values: {'angry': 0.0009304193554271478, 'disgust': 0.00030551161671610316, 'happy': 85.74045896530151, 'sad': 11.929993331432343, 'surprise': 0.012952386168763041, 'neutral': 2.1411731839179993}\n",
      "Label: happy\n"
     ]
    },
    {
     "name": "stderr",
     "output_type": "stream",
     "text": [
      "Action: emotion: 100%|██████████| 1/1 [00:00<00:00, 16.16it/s]\n"
     ]
    },
    {
     "name": "stdout",
     "output_type": "stream",
     "text": [
      "Emotion values: {'angry': 0.007491606811527163, 'disgust': 0.0009852204129856545, 'happy': 79.76227402687073, 'sad': 19.061322510242462, 'surprise': 0.03397519758436829, 'neutral': 0.8678290992975235}\n",
      "Label: happy\n"
     ]
    },
    {
     "name": "stderr",
     "output_type": "stream",
     "text": [
      "Action: emotion: 100%|██████████| 1/1 [00:00<00:00, 17.93it/s]\n"
     ]
    },
    {
     "name": "stdout",
     "output_type": "stream",
     "text": [
      "Emotion values: {'angry': 0.0028750451747328043, 'disgust': 0.0011761603673221543, 'happy': 81.28326535224915, 'sad': 17.180688679218292, 'surprise': 0.017465217388235033, 'neutral': 1.2966626323759556}\n",
      "Label: happy\n"
     ]
    },
    {
     "name": "stderr",
     "output_type": "stream",
     "text": [
      "Action: emotion: 100%|██████████| 1/1 [00:00<00:00, 16.91it/s]\n"
     ]
    },
    {
     "name": "stdout",
     "output_type": "stream",
     "text": [
      "Emotion values: {'angry': 0.0020672200985039457, 'disgust': 0.0007644703601730084, 'happy': 83.37160845825723, 'sad': 15.582549010667146, 'surprise': 0.009859747520902977, 'neutral': 0.9039071927313324}\n",
      "Label: happy\n"
     ]
    },
    {
     "name": "stderr",
     "output_type": "stream",
     "text": [
      "Action: emotion: 100%|██████████| 1/1 [00:00<00:00, 16.45it/s]\n"
     ]
    },
    {
     "name": "stdout",
     "output_type": "stream",
     "text": [
      "Emotion values: {'angry': 0.0019071091855806185, 'disgust': 0.0003644338438639683, 'happy': 90.63045922699328, 'sad': 7.342169871459595, 'surprise': 0.040612130634650925, 'neutral': 1.7812074292425768}\n",
      "Label: happy\n"
     ]
    },
    {
     "name": "stderr",
     "output_type": "stream",
     "text": [
      "Action: emotion: 100%|██████████| 1/1 [00:00<00:00, 18.13it/s]\n"
     ]
    },
    {
     "name": "stdout",
     "output_type": "stream",
     "text": [
      "Emotion values: {'angry': 0.001952373284394285, 'disgust': 0.0008245388508266643, 'happy': 84.69989804624903, 'sad': 14.101649171212266, 'surprise': 0.012339154644595363, 'neutral': 1.0223833522131056}\n",
      "Label: happy\n"
     ]
    },
    {
     "name": "stderr",
     "output_type": "stream",
     "text": [
      "Action: emotion: 100%|██████████| 1/1 [00:00<00:00, 18.51it/s]\n"
     ]
    },
    {
     "name": "stdout",
     "output_type": "stream",
     "text": [
      "Emotion values: {'angry': 0.007282610749825835, 'disgust': 0.004855805309489369, 'happy': 54.35112714767456, 'sad': 43.50052773952484, 'surprise': 0.021301578090060502, 'neutral': 1.2332200072705746}\n",
      "Label: happy\n"
     ]
    },
    {
     "name": "stderr",
     "output_type": "stream",
     "text": [
      "Action: emotion: 100%|██████████| 1/1 [00:00<00:00, 18.70it/s]\n"
     ]
    },
    {
     "name": "stdout",
     "output_type": "stream",
     "text": [
      "Emotion values: {'angry': 0.0034931152185890824, 'disgust': 0.004828159580938518, 'happy': 53.272390365600586, 'sad': 44.58864629268646, 'surprise': 0.007882005593273789, 'neutral': 1.0490586049854755}\n",
      "Label: happy\n"
     ]
    },
    {
     "name": "stderr",
     "output_type": "stream",
     "text": [
      "Action: emotion: 100%|██████████| 1/1 [00:00<00:00, 18.15it/s]\n"
     ]
    },
    {
     "name": "stdout",
     "output_type": "stream",
     "text": [
      "Emotion values: {'angry': 0.0006863288853842275, 'disgust': 0.0004277274056795127, 'happy': 88.23819020249726, 'sad': 8.601731342283648, 'surprise': 0.027912977801506554, 'neutral': 2.5892312931098096}\n",
      "Label: happy\n"
     ]
    },
    {
     "name": "stderr",
     "output_type": "stream",
     "text": [
      "Action: emotion: 100%|██████████| 1/1 [00:00<00:00, 18.85it/s]\n"
     ]
    },
    {
     "name": "stdout",
     "output_type": "stream",
     "text": [
      "Emotion values: {'angry': 0.0026235844160866946, 'disgust': 0.0004947937963395873, 'happy': 88.71309093910997, 'sad': 8.810527402790035, 'surprise': 0.0453905229503228, 'neutral': 2.2634401403927886}\n",
      "Label: happy\n"
     ]
    },
    {
     "name": "stderr",
     "output_type": "stream",
     "text": [
      "Action: emotion: 100%|██████████| 1/1 [00:00<00:00, 17.93it/s]\n"
     ]
    },
    {
     "name": "stdout",
     "output_type": "stream",
     "text": [
      "Emotion values: {'angry': 0.0018284929316580252, 'disgust': 0.0007952271555332242, 'happy': 89.32964078541288, 'sad': 6.4286560033149724, 'surprise': 0.0783452857548339, 'neutral': 3.7266437681488713}\n",
      "Label: happy\n"
     ]
    },
    {
     "name": "stderr",
     "output_type": "stream",
     "text": [
      "Action: emotion: 100%|██████████| 1/1 [00:00<00:00, 17.81it/s]\n"
     ]
    },
    {
     "name": "stdout",
     "output_type": "stream",
     "text": [
      "Emotion values: {'angry': 0.002016353268379549, 'disgust': 0.0006961807605419423, 'happy': 87.35425321510472, 'sad': 10.728347835343818, 'surprise': 0.018425838075119324, 'neutral': 1.6837136964456674}\n",
      "Label: happy\n"
     ]
    },
    {
     "name": "stderr",
     "output_type": "stream",
     "text": [
      "Action: emotion: 100%|██████████| 1/1 [00:00<00:00, 18.48it/s]\n"
     ]
    },
    {
     "name": "stdout",
     "output_type": "stream",
     "text": [
      "Emotion values: {'angry': 0.021680505434099908, 'disgust': 0.0035736675583428923, 'happy': 69.63730273469106, 'sad': 23.485657482484427, 'surprise': 0.08772193627823509, 'neutral': 5.914508158833275}\n",
      "Label: happy\n"
     ]
    },
    {
     "name": "stderr",
     "output_type": "stream",
     "text": [
      "Action: emotion: 100%|██████████| 1/1 [00:00<00:00, 18.13it/s]\n"
     ]
    },
    {
     "name": "stdout",
     "output_type": "stream",
     "text": [
      "Emotion values: {'angry': 0.02512121864128858, 'disgust': 0.0034036282158922404, 'happy': 67.43029356002808, 'sad': 16.64019674062729, 'surprise': 0.21566469222307205, 'neutral': 12.207011133432388}\n",
      "Label: happy\n"
     ]
    },
    {
     "name": "stderr",
     "output_type": "stream",
     "text": [
      "Action: emotion: 100%|██████████| 1/1 [00:00<00:00, 17.30it/s]\n"
     ]
    },
    {
     "name": "stdout",
     "output_type": "stream",
     "text": [
      "Emotion values: {'angry': 0.12275092303752899, 'disgust': 0.005194972254685126, 'happy': 7.109995186328888, 'sad': 32.22132325172424, 'surprise': 0.29627878684550524, 'neutral': 19.86202746629715}\n",
      "Label: sad\n"
     ]
    },
    {
     "name": "stderr",
     "output_type": "stream",
     "text": [
      "Action: emotion: 100%|██████████| 1/1 [00:00<00:00, 18.31it/s]\n"
     ]
    },
    {
     "name": "stdout",
     "output_type": "stream",
     "text": [
      "Emotion values: {'angry': 0.23456566502545267, 'disgust': 0.003495837726498595, 'happy': 0.8813985217451168, 'sad': 59.93958472845463, 'surprise': 0.03644803872581057, 'neutral': 3.8731823189963293}\n",
      "Label: sad\n"
     ]
    },
    {
     "name": "stderr",
     "output_type": "stream",
     "text": [
      "Action: emotion: 100%|██████████| 1/1 [00:00<00:00, 19.13it/s]\n"
     ]
    },
    {
     "name": "stdout",
     "output_type": "stream",
     "text": [
      "Emotion values: {'angry': 0.1098156557418406, 'disgust': 0.0007054416983010015, 'happy': 0.1854598755016923, 'sad': 26.087921857833862, 'surprise': 0.010043253132607788, 'neutral': 64.92630243301392}\n",
      "Label: neutral\n"
     ]
    },
    {
     "name": "stderr",
     "output_type": "stream",
     "text": [
      "Action: emotion: 100%|██████████| 1/1 [00:00<00:00, 18.07it/s]\n"
     ]
    },
    {
     "name": "stdout",
     "output_type": "stream",
     "text": [
      "Emotion values: {'angry': 0.5815369542688131, 'disgust': 0.03753855999093503, 'happy': 0.9971008636057377, 'sad': 25.926318764686584, 'surprise': 0.19001523032784462, 'neutral': 12.803426384925842}\n",
      "Label: sad\n"
     ]
    },
    {
     "name": "stderr",
     "output_type": "stream",
     "text": [
      "Action: emotion: 100%|██████████| 1/1 [00:00<00:00, 16.25it/s]\n"
     ]
    },
    {
     "name": "stdout",
     "output_type": "stream",
     "text": [
      "Emotion values: {'angry': 0.16005922807380557, 'disgust': 0.0008281195732706692, 'happy': 1.2037879787385464, 'sad': 27.33578085899353, 'surprise': 0.08700459729880095, 'neutral': 41.67931079864502}\n",
      "Label: neutral\n"
     ]
    },
    {
     "name": "stderr",
     "output_type": "stream",
     "text": [
      "Action: emotion: 100%|██████████| 1/1 [00:00<00:00, 18.09it/s]\n"
     ]
    },
    {
     "name": "stdout",
     "output_type": "stream",
     "text": [
      "Emotion values: {'angry': 0.01601496232898457, 'disgust': 2.184327859189781e-05, 'happy': 0.02232317176635003, 'sad': 3.3382430926851145, 'surprise': 0.0032991145712199296, 'neutral': 95.47024911287416}\n",
      "Label: neutral\n"
     ]
    },
    {
     "name": "stderr",
     "output_type": "stream",
     "text": [
      "Action: emotion: 100%|██████████| 1/1 [00:00<00:00, 17.72it/s]\n"
     ]
    },
    {
     "name": "stdout",
     "output_type": "stream",
     "text": [
      "Emotion values: {'angry': 0.07821068168197165, 'disgust': 3.9124358353596065e-05, 'happy': 0.013753584881992482, 'sad': 13.637382604919827, 'surprise': 0.003950231492928989, 'neutral': 85.37841352095684}\n",
      "Label: neutral\n"
     ]
    },
    {
     "name": "stderr",
     "output_type": "stream",
     "text": [
      "Action: emotion: 100%|██████████| 1/1 [00:00<00:00, 18.86it/s]\n"
     ]
    },
    {
     "name": "stdout",
     "output_type": "stream",
     "text": [
      "Emotion values: {'angry': 0.38682681042701006, 'disgust': 0.0026166444513364695, 'happy': 24.74217265844345, 'sad': 40.482231974601746, 'surprise': 1.1340649798512459, 'neutral': 17.393772304058075}\n",
      "Label: sad\n"
     ]
    },
    {
     "name": "stderr",
     "output_type": "stream",
     "text": [
      "Action: emotion: 100%|██████████| 1/1 [00:00<00:00, 18.41it/s]\n"
     ]
    },
    {
     "name": "stdout",
     "output_type": "stream",
     "text": [
      "Emotion values: {'angry': 0.0006234552900957768, 'disgust': 4.158551084887953e-05, 'happy': 94.33968629477539, 'sad': 4.193194460463194, 'surprise': 0.007178291407796228, 'neutral': 1.3454048764946984}\n",
      "Label: happy\n"
     ]
    },
    {
     "name": "stderr",
     "output_type": "stream",
     "text": [
      "Action: emotion: 100%|██████████| 1/1 [00:00<00:00, 19.46it/s]\n"
     ]
    },
    {
     "name": "stdout",
     "output_type": "stream",
     "text": [
      "Emotion values: {'angry': 0.02259712346130982, 'disgust': 0.008002236427273601, 'happy': 57.65829086303711, 'sad': 37.98897564411163, 'surprise': 0.06974574062041938, 'neutral': 1.9319627434015274}\n",
      "Label: happy\n"
     ]
    },
    {
     "name": "stderr",
     "output_type": "stream",
     "text": [
      "Action: emotion: 100%|██████████| 1/1 [00:00<00:00, 18.41it/s]\n"
     ]
    },
    {
     "name": "stdout",
     "output_type": "stream",
     "text": [
      "Emotion values: {'angry': 0.0036594086850527674, 'disgust': 0.0027362757464288734, 'happy': 78.62665057182312, 'sad': 16.622652113437653, 'surprise': 0.028837937861680984, 'neutral': 2.815696969628334}\n",
      "Label: happy\n"
     ]
    },
    {
     "name": "stderr",
     "output_type": "stream",
     "text": [
      "Action: emotion: 100%|██████████| 1/1 [00:00<00:00,  8.83it/s]"
     ]
    },
    {
     "name": "stdout",
     "output_type": "stream",
     "text": [
      "Emotion values: {'angry': 0.02003952831728384, 'disgust': 0.001374038401991129, 'happy': 62.18000054359436, 'sad': 33.9789479970932, 'surprise': 0.05478828679770231, 'neutral': 2.7996940538287163}\n",
      "Label: happy\n"
     ]
    },
    {
     "name": "stderr",
     "output_type": "stream",
     "text": [
      "\n",
      "Action: emotion: 100%|██████████| 1/1 [00:00<00:00, 18.08it/s]\n"
     ]
    },
    {
     "name": "stdout",
     "output_type": "stream",
     "text": [
      "Emotion values: {'angry': 0.009508859511697665, 'disgust': 0.0013410708561423235, 'happy': 56.15810751914978, 'sad': 33.14473032951355, 'surprise': 0.03127088421024382, 'neutral': 9.48585793375969}\n",
      "Label: happy\n"
     ]
    },
    {
     "name": "stderr",
     "output_type": "stream",
     "text": [
      "Action: emotion: 100%|██████████| 1/1 [00:00<00:00, 17.91it/s]\n"
     ]
    },
    {
     "name": "stdout",
     "output_type": "stream",
     "text": [
      "Emotion values: {'angry': 0.0033800348319346085, 'disgust': 0.00020937263798259664, 'happy': 59.01236534118652, 'sad': 38.30237090587616, 'surprise': 0.004992700633010827, 'neutral': 2.2989213466644287}\n",
      "Label: happy\n"
     ]
    },
    {
     "name": "stderr",
     "output_type": "stream",
     "text": [
      "Action: emotion: 100%|██████████| 1/1 [00:00<00:00, 18.70it/s]\n"
     ]
    },
    {
     "name": "stdout",
     "output_type": "stream",
     "text": [
      "Emotion values: {'angry': 0.002687495405320626, 'disgust': 0.00014287839464727136, 'happy': 78.51523417052816, 'sad': 14.525426682778992, 'surprise': 0.009658523353244188, 'neutral': 6.8263842968482615}\n",
      "Label: happy\n"
     ]
    },
    {
     "name": "stderr",
     "output_type": "stream",
     "text": [
      "Action: emotion: 100%|██████████| 1/1 [00:00<00:00, 19.88it/s]\n"
     ]
    },
    {
     "name": "stdout",
     "output_type": "stream",
     "text": [
      "Emotion values: {'angry': 0.006146306625673197, 'disgust': 0.0028900467345029965, 'happy': 53.07525712700231, 'sad': 40.949341115316216, 'surprise': 0.009309810238962858, 'neutral': 0.9410846608033574}\n",
      "Label: happy\n"
     ]
    },
    {
     "name": "stderr",
     "output_type": "stream",
     "text": [
      "Action: emotion: 100%|██████████| 1/1 [00:00<00:00, 18.78it/s]\n"
     ]
    },
    {
     "name": "stdout",
     "output_type": "stream",
     "text": [
      "Emotion values: {'angry': 0.0006491283329523867, 'disgust': 8.260252002401103e-05, 'happy': 97.15198874473572, 'sad': 2.0249642431735992, 'surprise': 0.005357224654289894, 'neutral': 0.7745568174868822}\n",
      "Label: happy\n"
     ]
    },
    {
     "name": "stderr",
     "output_type": "stream",
     "text": [
      "Action: emotion: 100%|██████████| 1/1 [00:00<00:00, 16.36it/s]\n"
     ]
    },
    {
     "name": "stdout",
     "output_type": "stream",
     "text": [
      "Emotion values: {'angry': 0.43518650345504284, 'disgust': 1.8031018900188656e-07, 'happy': 19.771572947502136, 'sad': 22.903577983379364, 'surprise': 13.014981150627136, 'neutral': 4.367396980524063}\n",
      "Label: sad\n"
     ]
    },
    {
     "name": "stderr",
     "output_type": "stream",
     "text": [
      "Action: emotion: 100%|██████████| 1/1 [00:00<00:00, 19.27it/s]\n"
     ]
    },
    {
     "name": "stdout",
     "output_type": "stream",
     "text": [
      "Emotion values: {'angry': 0.43518650345504284, 'disgust': 1.8031018900188656e-07, 'happy': 19.771572947502136, 'sad': 22.903577983379364, 'surprise': 13.014981150627136, 'neutral': 4.367396980524063}\n",
      "Label: sad\n"
     ]
    },
    {
     "name": "stderr",
     "output_type": "stream",
     "text": [
      "Action: emotion: 100%|██████████| 1/1 [00:00<00:00, 19.95it/s]\n"
     ]
    },
    {
     "name": "stdout",
     "output_type": "stream",
     "text": [
      "Emotion values: {'angry': 1.4838078990578651, 'disgust': 2.9691595848646557e-07, 'happy': 35.936835408210754, 'sad': 20.323528349399567, 'surprise': 3.888644650578499, 'neutral': 0.014565454330295324}\n",
      "Label: happy\n"
     ]
    },
    {
     "name": "stderr",
     "output_type": "stream",
     "text": [
      "Action: emotion: 100%|██████████| 1/1 [00:00<00:00, 17.49it/s]\n"
     ]
    },
    {
     "name": "stdout",
     "output_type": "stream",
     "text": [
      "Emotion values: {'angry': 0.5884042239601345, 'disgust': 1.8973062524166775e-08, 'happy': 1.9747299582088043, 'sad': 31.71041825885555, 'surprise': 6.019148258072345, 'neutral': 0.008109306270032}\n",
      "Label: sad\n"
     ]
    },
    {
     "name": "stderr",
     "output_type": "stream",
     "text": [
      "Action: emotion: 100%|██████████| 1/1 [00:00<00:00, 16.80it/s]\n"
     ]
    },
    {
     "name": "stdout",
     "output_type": "stream",
     "text": [
      "Emotion values: {'angry': 0.5884042239601345, 'disgust': 1.8973062524166775e-08, 'happy': 1.9747299582088043, 'sad': 31.71041825885555, 'surprise': 6.019148258072345, 'neutral': 0.008109306270032}\n",
      "Label: sad\n"
     ]
    },
    {
     "name": "stderr",
     "output_type": "stream",
     "text": [
      "Action: emotion: 100%|██████████| 1/1 [00:00<00:00, 17.99it/s]\n"
     ]
    },
    {
     "name": "stdout",
     "output_type": "stream",
     "text": [
      "Emotion values: {'angry': 0.002513906442574237, 'disgust': 1.4799084085437039e-05, 'happy': 0.22796729075713698, 'sad': 99.54325554032657, 'surprise': 1.4423805232835093e-05, 'neutral': 0.15149761195839118}\n",
      "Label: sad\n"
     ]
    },
    {
     "name": "stderr",
     "output_type": "stream",
     "text": [
      "Action: emotion: 100%|██████████| 1/1 [00:00<00:00, 18.29it/s]\n"
     ]
    },
    {
     "name": "stdout",
     "output_type": "stream",
     "text": [
      "Emotion values: {'angry': 0.002513906442574237, 'disgust': 1.4799084085437039e-05, 'happy': 0.22796729075713698, 'sad': 99.54325554032657, 'surprise': 1.4423805232835093e-05, 'neutral': 0.15149761195839118}\n",
      "Label: sad\n"
     ]
    },
    {
     "name": "stderr",
     "output_type": "stream",
     "text": [
      "Action: emotion: 100%|██████████| 1/1 [00:00<00:00, 19.28it/s]\n"
     ]
    },
    {
     "name": "stdout",
     "output_type": "stream",
     "text": [
      "Emotion values: {'angry': 0.0025038203602889553, 'disgust': 0.00026806933419720735, 'happy': 27.50518023967743, 'sad': 34.80483293533325, 'surprise': 0.018381727568339556, 'neutral': 30.70499300956726}\n",
      "Label: sad\n"
     ]
    },
    {
     "name": "stderr",
     "output_type": "stream",
     "text": [
      "Action: emotion: 100%|██████████| 1/1 [00:00<00:00, 18.83it/s]\n"
     ]
    },
    {
     "name": "stdout",
     "output_type": "stream",
     "text": [
      "Emotion values: {'angry': 0.0025038203602889553, 'disgust': 0.00026806933419720735, 'happy': 27.50518023967743, 'sad': 34.80483293533325, 'surprise': 0.018381727568339556, 'neutral': 30.70499300956726}\n",
      "Label: sad\n"
     ]
    },
    {
     "name": "stderr",
     "output_type": "stream",
     "text": [
      "Action: emotion: 100%|██████████| 1/1 [00:00<00:00, 18.70it/s]\n"
     ]
    },
    {
     "name": "stdout",
     "output_type": "stream",
     "text": [
      "Emotion values: {'angry': 0.11714530410245061, 'disgust': 0.00048799856813275255, 'happy': 0.0004690280093200272, 'sad': 20.3183650970459, 'surprise': 0.0003012941306224093, 'neutral': 78.69817018508911}\n",
      "Label: neutral\n"
     ]
    },
    {
     "name": "stderr",
     "output_type": "stream",
     "text": [
      "Action: emotion: 100%|██████████| 1/1 [00:00<00:00, 17.80it/s]\n"
     ]
    },
    {
     "name": "stdout",
     "output_type": "stream",
     "text": [
      "Emotion values: {'angry': 0.2590183634310961, 'disgust': 0.0031487183150602505, 'happy': 0.011348781845299527, 'sad': 32.315754890441895, 'surprise': 0.002211920582340099, 'neutral': 67.23078489303589}\n",
      "Label: neutral\n"
     ]
    },
    {
     "name": "stderr",
     "output_type": "stream",
     "text": [
      "Action: emotion: 100%|██████████| 1/1 [00:00<00:00, 19.20it/s]\n"
     ]
    },
    {
     "name": "stdout",
     "output_type": "stream",
     "text": [
      "Emotion values: {'angry': 0.002696014962566551, 'disgust': 3.288525647349161e-05, 'happy': 1.009105145931244, 'sad': 2.592857927083969, 'surprise': 0.03942719486076385, 'neutral': 95.51388025283813}\n",
      "Label: neutral\n"
     ]
    },
    {
     "name": "stderr",
     "output_type": "stream",
     "text": [
      "Action: emotion: 100%|██████████| 1/1 [00:00<00:00, 15.35it/s]\n"
     ]
    },
    {
     "name": "stdout",
     "output_type": "stream",
     "text": [
      "Emotion values: {'angry': 0.0011778954805727682, 'disgust': 5.320031310614988e-06, 'happy': 4.848804613876617, 'sad': 1.0532182337771794, 'surprise': 0.07294284730995282, 'neutral': 93.42287739651664}\n",
      "Label: neutral\n"
     ]
    },
    {
     "name": "stderr",
     "output_type": "stream",
     "text": [
      "Action: emotion: 100%|██████████| 1/1 [00:00<00:00, 18.66it/s]\n"
     ]
    },
    {
     "name": "stdout",
     "output_type": "stream",
     "text": [
      "Emotion values: {'angry': 0.00091273768703104, 'disgust': 0.00016540228671146906, 'happy': 90.88703393936157, 'sad': 1.0010834783315659, 'surprise': 0.04652317438740283, 'neutral': 7.513878494501114}\n",
      "Label: happy\n"
     ]
    },
    {
     "name": "stderr",
     "output_type": "stream",
     "text": [
      "Action: emotion: 100%|██████████| 1/1 [00:00<00:00, 18.44it/s]\n"
     ]
    },
    {
     "name": "stdout",
     "output_type": "stream",
     "text": [
      "Emotion values: {'angry': 0.0005294313584243477, 'disgust': 6.345773423051112e-05, 'happy': 93.48398408198261, 'sad': 0.9422019685627203, 'surprise': 0.03192587654875228, 'neutral': 5.32846966853557}\n",
      "Label: happy\n"
     ]
    },
    {
     "name": "stderr",
     "output_type": "stream",
     "text": [
      "Action: emotion: 100%|██████████| 1/1 [00:00<00:00, 19.33it/s]\n"
     ]
    },
    {
     "name": "stdout",
     "output_type": "stream",
     "text": [
      "Emotion values: {'angry': 0.06545138894580305, 'disgust': 0.013391340326052159, 'happy': 19.77732479572296, 'sad': 69.49085593223572, 'surprise': 0.020849511201959103, 'neutral': 8.18476602435112}\n",
      "Label: sad\n"
     ]
    },
    {
     "name": "stderr",
     "output_type": "stream",
     "text": [
      "Action: emotion: 100%|██████████| 1/1 [00:00<00:00, 16.09it/s]\n"
     ]
    },
    {
     "name": "stdout",
     "output_type": "stream",
     "text": [
      "Emotion values: {'angry': 0.00014004622244101483, 'disgust': 1.404909255597886e-05, 'happy': 96.82825207710266, 'sad': 0.4062436055392027, 'surprise': 0.03961034526582807, 'neutral': 2.644626423716545}\n",
      "Label: happy\n"
     ]
    },
    {
     "name": "stderr",
     "output_type": "stream",
     "text": [
      "Action: emotion: 100%|██████████| 1/1 [00:00<00:00, 17.77it/s]\n"
     ]
    },
    {
     "name": "stdout",
     "output_type": "stream",
     "text": [
      "Emotion values: {'angry': 0.05841708043590188, 'disgust': 0.0004108818757231347, 'happy': 3.755491226911545, 'sad': 74.69397187232971, 'surprise': 0.0019393224647501484, 'neutral': 21.443267166614532}\n",
      "Label: sad\n"
     ]
    },
    {
     "name": "stderr",
     "output_type": "stream",
     "text": [
      "Action: emotion: 100%|██████████| 1/1 [00:00<00:00, 18.53it/s]\n"
     ]
    },
    {
     "name": "stdout",
     "output_type": "stream",
     "text": [
      "Emotion values: {'angry': 0.0001756472556735389, 'disgust': 2.7541543090592313e-05, 'happy': 97.78854846954346, 'sad': 0.390137848444283, 'surprise': 0.016835142741911113, 'neutral': 1.696363091468811}\n",
      "Label: happy\n"
     ]
    },
    {
     "name": "stderr",
     "output_type": "stream",
     "text": [
      "Action: emotion: 100%|██████████| 1/1 [00:00<00:00, 16.57it/s]\n"
     ]
    },
    {
     "name": "stdout",
     "output_type": "stream",
     "text": [
      "Emotion values: {'angry': 0.0007666481906198896, 'disgust': 3.843061335828679e-05, 'happy': 93.23100447654724, 'sad': 5.433020368218422, 'surprise': 0.007968729914864525, 'neutral': 0.9367429651319981}\n",
      "Label: happy\n"
     ]
    },
    {
     "name": "stderr",
     "output_type": "stream",
     "text": [
      "Action: emotion: 100%|██████████| 1/1 [00:00<00:00, 17.07it/s]\n"
     ]
    },
    {
     "name": "stdout",
     "output_type": "stream",
     "text": [
      "Emotion values: {'angry': 0.00030385858273227867, 'disgust': 2.9538138674808084e-05, 'happy': 97.52641305484849, 'sad': 0.418864448375371, 'surprise': 0.014802206142191954, 'neutral': 1.947140809723187}\n",
      "Label: happy\n"
     ]
    },
    {
     "name": "stderr",
     "output_type": "stream",
     "text": [
      "Action: emotion: 100%|██████████| 1/1 [00:00<00:00, 17.75it/s]\n"
     ]
    },
    {
     "name": "stdout",
     "output_type": "stream",
     "text": [
      "Emotion values: {'angry': 0.0004477677066461183, 'disgust': 3.729133482011093e-05, 'happy': 95.54397463798523, 'sad': 0.6757453083992004, 'surprise': 0.024180635227821767, 'neutral': 3.641490265727043}\n",
      "Label: happy\n"
     ]
    },
    {
     "name": "stderr",
     "output_type": "stream",
     "text": [
      "Action: emotion: 100%|██████████| 1/1 [00:00<00:00, 18.31it/s]\n"
     ]
    },
    {
     "name": "stdout",
     "output_type": "stream",
     "text": [
      "Emotion values: {'angry': 0.0008091014506365106, 'disgust': 0.00013148382651427168, 'happy': 95.78497384697043, 'sad': 1.638633669235329, 'surprise': 0.011807071108513093, 'neutral': 2.2750799968886373}\n",
      "Label: happy\n"
     ]
    },
    {
     "name": "stderr",
     "output_type": "stream",
     "text": [
      "Action: emotion: 100%|██████████| 1/1 [00:00<00:00, 19.34it/s]\n"
     ]
    },
    {
     "name": "stdout",
     "output_type": "stream",
     "text": [
      "Emotion values: {'angry': 0.001679921660979744, 'disgust': 6.814968855906045e-05, 'happy': 90.91156125068665, 'sad': 6.7756496369838715, 'surprise': 0.02536234969738871, 'neutral': 2.04306673258543}\n",
      "Label: happy\n"
     ]
    },
    {
     "name": "stderr",
     "output_type": "stream",
     "text": [
      "Action: emotion: 100%|██████████| 1/1 [00:00<00:00, 18.10it/s]\n"
     ]
    },
    {
     "name": "stdout",
     "output_type": "stream",
     "text": [
      "Emotion values: {'angry': 0.0018016020476352423, 'disgust': 0.00012806787026420352, 'happy': 90.77398180961609, 'sad': 5.728504061698914, 'surprise': 0.014809719868935645, 'neutral': 3.2563377171754837}\n",
      "Label: happy\n"
     ]
    },
    {
     "name": "stderr",
     "output_type": "stream",
     "text": [
      "Action: emotion: 100%|██████████| 1/1 [00:00<00:00, 19.78it/s]\n"
     ]
    },
    {
     "name": "stdout",
     "output_type": "stream",
     "text": [
      "Emotion values: {'angry': 0.0035395089652688685, 'disgust': 4.5891701247562254e-05, 'happy': 84.98213112141265, 'sad': 14.576733359901114, 'surprise': 0.006582283151831705, 'neutral': 0.38022617685510834}\n",
      "Label: happy\n"
     ]
    },
    {
     "name": "stderr",
     "output_type": "stream",
     "text": [
      "Action: emotion: 100%|██████████| 1/1 [00:00<00:00, 18.70it/s]\n"
     ]
    },
    {
     "name": "stdout",
     "output_type": "stream",
     "text": [
      "Emotion values: {'angry': 0.0014081779156971132, 'disgust': 0.00021940726526652228, 'happy': 83.3893527620645, 'sad': 13.198443543818208, 'surprise': 0.004867523893151925, 'neutral': 3.098220749093339}\n",
      "Label: happy\n"
     ]
    },
    {
     "name": "stderr",
     "output_type": "stream",
     "text": [
      "Action: emotion: 100%|██████████| 1/1 [00:00<00:00, 19.34it/s]"
     ]
    },
    {
     "name": "stdout",
     "output_type": "stream",
     "text": [
      "Emotion values: {'angry': 0.001168046989643467, 'disgust': 8.322421794367556e-05, 'happy': 27.890002382993416, 'sad': 71.16787777329948, 'surprise': 0.0005698228281400428, 'neutral': 0.45884492925167925}\n",
      "Label: sad\n"
     ]
    },
    {
     "name": "stderr",
     "output_type": "stream",
     "text": [
      "\n",
      "Action: emotion: 100%|██████████| 1/1 [00:00<00:00, 14.12it/s]\n"
     ]
    },
    {
     "name": "stdout",
     "output_type": "stream",
     "text": [
      "Emotion values: {'angry': 0.015498323773499578, 'disgust': 0.0009859664714895189, 'happy': 60.50316095352173, 'sad': 31.009355187416077, 'surprise': 0.01664018491283059, 'neutral': 8.30756202340126}\n",
      "Label: happy\n"
     ]
    },
    {
     "name": "stderr",
     "output_type": "stream",
     "text": [
      "Action: emotion: 100%|██████████| 1/1 [00:00<00:00, 14.65it/s]\n"
     ]
    },
    {
     "name": "stdout",
     "output_type": "stream",
     "text": [
      "Emotion values: {'angry': 0.015498323773499578, 'disgust': 0.0009859664714895189, 'happy': 60.50316095352173, 'sad': 31.009355187416077, 'surprise': 0.01664018491283059, 'neutral': 8.30756202340126}\n",
      "Label: happy\n"
     ]
    },
    {
     "name": "stderr",
     "output_type": "stream",
     "text": [
      "Action: emotion: 100%|██████████| 1/1 [00:00<00:00, 16.83it/s]\n"
     ]
    },
    {
     "name": "stdout",
     "output_type": "stream",
     "text": [
      "Emotion values: {'angry': 0.052597149849140636, 'disgust': 0.008088935037555027, 'happy': 24.396763706014376, 'sad': 51.35309406239355, 'surprise': 0.14555953379330241, 'neutral': 14.435532059403185}\n",
      "Label: sad\n"
     ]
    },
    {
     "name": "stderr",
     "output_type": "stream",
     "text": [
      "Action: emotion: 100%|██████████| 1/1 [00:00<00:00, 14.60it/s]\n"
     ]
    },
    {
     "name": "stdout",
     "output_type": "stream",
     "text": [
      "Emotion values: {'angry': 0.0550307831931581, 'disgust': 0.0002527518668688084, 'happy': 0.7882799491751163, 'sad': 81.73318992454945, 'surprise': 0.004832095798225264, 'neutral': 1.5095829932143088}\n",
      "Label: sad\n"
     ]
    },
    {
     "name": "stderr",
     "output_type": "stream",
     "text": [
      "Action: emotion: 100%|██████████| 1/1 [00:00<00:00, 14.75it/s]\n"
     ]
    },
    {
     "name": "stdout",
     "output_type": "stream",
     "text": [
      "Emotion values: {'angry': 0.2657852452439362, 'disgust': 0.00011633258304568183, 'happy': 0.0005995640354613509, 'sad': 68.92104374421164, 'surprise': 0.00037478343904114345, 'neutral': 27.69402595687222}\n",
      "Label: sad\n"
     ]
    },
    {
     "name": "stderr",
     "output_type": "stream",
     "text": [
      "Action: emotion: 100%|██████████| 1/1 [00:00<00:00, 15.43it/s]\n"
     ]
    },
    {
     "name": "stdout",
     "output_type": "stream",
     "text": [
      "Emotion values: {'angry': 0.9619467175837418, 'disgust': 0.0037578120941761397, 'happy': 0.30884667256136805, 'sad': 30.843196015738965, 'surprise': 0.9314052008277417, 'neutral': 44.82448933416478}\n",
      "Label: neutral\n"
     ]
    },
    {
     "name": "stderr",
     "output_type": "stream",
     "text": [
      "Action: emotion: 100%|██████████| 1/1 [00:00<00:00, 13.71it/s]\n"
     ]
    },
    {
     "name": "stdout",
     "output_type": "stream",
     "text": [
      "Emotion values: {'angry': 0.29178429394960403, 'disgust': 0.00022220406208361965, 'happy': 0.03410007921047509, 'sad': 28.665953874588013, 'surprise': 0.09927564533427358, 'neutral': 60.655587911605835}\n",
      "Label: neutral\n"
     ]
    },
    {
     "name": "stderr",
     "output_type": "stream",
     "text": [
      "Action: emotion: 100%|██████████| 1/1 [00:00<00:00, 13.47it/s]\n"
     ]
    },
    {
     "name": "stdout",
     "output_type": "stream",
     "text": [
      "Emotion values: {'angry': 0.013878698518965393, 'disgust': 3.286199534713319e-07, 'happy': 3.043536764835153e-05, 'sad': 2.5291576981544495, 'surprise': 0.0004369160706119146, 'neutral': 97.4316418170929}\n",
      "Label: neutral\n"
     ]
    },
    {
     "name": "stderr",
     "output_type": "stream",
     "text": [
      "Action: emotion: 100%|██████████| 1/1 [00:00<00:00, 13.19it/s]\n"
     ]
    },
    {
     "name": "stdout",
     "output_type": "stream",
     "text": [
      "Emotion values: {'angry': 0.00019848350710560203, 'disgust': 1.8561443570464157e-09, 'happy': 0.0005377767406685298, 'sad': 0.060455447306579674, 'surprise': 0.003963659292344573, 'neutral': 99.93284941520102}\n",
      "Label: neutral\n"
     ]
    },
    {
     "name": "stderr",
     "output_type": "stream",
     "text": [
      "Action: emotion: 100%|██████████| 1/1 [00:00<00:00, 15.84it/s]\n"
     ]
    },
    {
     "name": "stdout",
     "output_type": "stream",
     "text": [
      "Emotion values: {'angry': 0.0015712967069703154, 'disgust': 1.200744890184069e-05, 'happy': 0.6064764689654112, 'sad': 0.2881570952013135, 'surprise': 0.13226427836343646, 'neutral': 98.91279339790344}\n",
      "Label: neutral\n"
     ]
    },
    {
     "name": "stderr",
     "output_type": "stream",
     "text": [
      "Action: emotion: 100%|██████████| 1/1 [00:00<00:00, 15.95it/s]\n"
     ]
    },
    {
     "name": "stdout",
     "output_type": "stream",
     "text": [
      "Emotion values: {'angry': 0.0009337734605728155, 'disgust': 6.34640097647619e-05, 'happy': 20.923664161722165, 'sad': 0.9215055797689462, 'surprise': 0.047680203124819326, 'neutral': 78.05077099194872}\n",
      "Label: neutral\n"
     ]
    },
    {
     "name": "stderr",
     "output_type": "stream",
     "text": [
      "Action: emotion: 100%|██████████| 1/1 [00:00<00:00, 16.39it/s]\n"
     ]
    },
    {
     "name": "stdout",
     "output_type": "stream",
     "text": [
      "Emotion values: {'angry': 1.1325389692729004e-05, 'disgust': 8.358041370115643e-07, 'happy': 99.18495416641235, 'sad': 0.25691224727779627, 'surprise': 0.0024079128706944175, 'neutral': 0.5512550473213196}\n",
      "Label: happy\n"
     ]
    },
    {
     "name": "stderr",
     "output_type": "stream",
     "text": [
      "Action: emotion: 100%|██████████| 1/1 [00:00<00:00, 15.12it/s]\n"
     ]
    },
    {
     "name": "stdout",
     "output_type": "stream",
     "text": [
      "Emotion values: {'angry': 2.769945364832639e-05, 'disgust': 1.7074221954815204e-05, 'happy': 99.1198242759914, 'sad': 0.4441987659247201, 'surprise': 0.0002522024187267785, 'neutral': 0.41659506659566564}\n",
      "Label: happy\n"
     ]
    },
    {
     "name": "stderr",
     "output_type": "stream",
     "text": [
      "Action: emotion: 100%|██████████| 1/1 [00:00<00:00, 16.07it/s]\n"
     ]
    },
    {
     "name": "stdout",
     "output_type": "stream",
     "text": [
      "Emotion values: {'angry': 3.5117047125039246e-05, 'disgust': 3.6606450392509337e-06, 'happy': 99.24126276478019, 'sad': 0.38002757481901944, 'surprise': 0.0008567993861084604, 'neutral': 0.3621332148527247}\n",
      "Label: happy\n"
     ]
    },
    {
     "name": "stderr",
     "output_type": "stream",
     "text": [
      "Action: emotion: 100%|██████████| 1/1 [00:00<00:00, 15.66it/s]\n"
     ]
    },
    {
     "name": "stdout",
     "output_type": "stream",
     "text": [
      "Emotion values: {'angry': 0.00020871505057584727, 'disgust': 5.717598128285317e-05, 'happy': 98.41370582580566, 'sad': 0.7816514931619167, 'surprise': 0.011568650370463729, 'neutral': 0.7424781564623117}\n",
      "Label: happy\n"
     ]
    },
    {
     "name": "stderr",
     "output_type": "stream",
     "text": [
      "Action: emotion: 100%|██████████| 1/1 [00:00<00:00, 16.37it/s]\n"
     ]
    },
    {
     "name": "stdout",
     "output_type": "stream",
     "text": [
      "Emotion values: {'angry': 2.108717467308452e-05, 'disgust': 1.3026149048300795e-06, 'happy': 99.50002431869507, 'sad': 0.20824824459850788, 'surprise': 0.0042019004467874765, 'neutral': 0.28479204047471285}\n",
      "Label: happy\n"
     ]
    },
    {
     "name": "stderr",
     "output_type": "stream",
     "text": [
      "Action: emotion: 100%|██████████| 1/1 [00:00<00:00, 16.38it/s]\n"
     ]
    },
    {
     "name": "stdout",
     "output_type": "stream",
     "text": [
      "Emotion values: {'angry': 4.74244558290593e-05, 'disgust': 1.514869154561893e-05, 'happy': 98.92736077308655, 'sad': 0.32019224017858505, 'surprise': 0.0019282804714748636, 'neutral': 0.7279785815626383}\n",
      "Label: happy\n"
     ]
    },
    {
     "name": "stderr",
     "output_type": "stream",
     "text": [
      "Action: emotion: 100%|██████████| 1/1 [00:00<00:00, 16.91it/s]\n"
     ]
    },
    {
     "name": "stdout",
     "output_type": "stream",
     "text": [
      "Emotion values: {'angry': 1.3611939664315287e-05, 'disgust': 2.270652288416386e-06, 'happy': 99.67637062072754, 'sad': 0.12859608978033066, 'surprise': 0.000966092284215847, 'neutral': 0.1884853350929916}\n",
      "Label: happy\n"
     ]
    },
    {
     "name": "stderr",
     "output_type": "stream",
     "text": [
      "Action: emotion: 100%|██████████| 1/1 [00:00<00:00, 16.62it/s]\n"
     ]
    },
    {
     "name": "stdout",
     "output_type": "stream",
     "text": [
      "Emotion values: {'angry': 6.83704399762064e-05, 'disgust': 1.1335838223658357e-05, 'happy': 98.86074662208557, 'sad': 0.5005946848541498, 'surprise': 0.003492299947538413, 'neutral': 0.6269640289247036}\n",
      "Label: happy\n"
     ]
    },
    {
     "name": "stderr",
     "output_type": "stream",
     "text": [
      "Action: emotion: 100%|██████████| 1/1 [00:00<00:00, 16.45it/s]\n"
     ]
    },
    {
     "name": "stdout",
     "output_type": "stream",
     "text": [
      "Emotion values: {'angry': 2.5652099111539428e-05, 'disgust': 1.5350735793617787e-05, 'happy': 99.20293092727661, 'sad': 0.6653205491602421, 'surprise': 0.000311687153953244, 'neutral': 0.1193373347632587}\n",
      "Label: happy\n"
     ]
    },
    {
     "name": "stderr",
     "output_type": "stream",
     "text": [
      "Action: emotion: 100%|██████████| 1/1 [00:00<00:00, 17.56it/s]\n"
     ]
    },
    {
     "name": "stdout",
     "output_type": "stream",
     "text": [
      "Emotion values: {'angry': 1.4636800603080039e-05, 'disgust': 1.147917535186164e-06, 'happy': 99.85083939423092, 'sad': 0.06803172644408328, 'surprise': 0.0003099451390652309, 'neutral': 0.07938183479860904}\n",
      "Label: happy\n"
     ]
    },
    {
     "name": "stderr",
     "output_type": "stream",
     "text": [
      "Action: emotion: 100%|██████████| 1/1 [00:00<00:00, 16.86it/s]\n"
     ]
    },
    {
     "name": "stdout",
     "output_type": "stream",
     "text": [
      "Emotion values: {'angry': 0.0008888143913730709, 'disgust': 0.00012427577361862595, 'happy': 77.07773906455868, 'sad': 21.061222020460487, 'surprise': 0.003976439857615298, 'neutral': 1.852443552162859}\n",
      "Label: happy\n"
     ]
    },
    {
     "name": "stderr",
     "output_type": "stream",
     "text": [
      "Action: emotion: 100%|██████████| 1/1 [00:00<00:00, 17.46it/s]\n"
     ]
    },
    {
     "name": "stdout",
     "output_type": "stream",
     "text": [
      "Emotion values: {'angry': 0.0054016658395994455, 'disgust': 0.0002374915538894129, 'happy': 58.88277292251587, 'sad': 40.46948850154877, 'surprise': 0.0007332115274039097, 'neutral': 0.2405816689133644}\n",
      "Label: happy\n"
     ]
    },
    {
     "name": "stderr",
     "output_type": "stream",
     "text": [
      "Action: emotion: 100%|██████████| 1/1 [00:00<00:00, 18.84it/s]\n"
     ]
    },
    {
     "name": "stdout",
     "output_type": "stream",
     "text": [
      "Emotion values: {'angry': 0.002904781121528257, 'disgust': 3.111056712193726e-05, 'happy': 24.44614923642287, 'sad': 74.78520574746064, 'surprise': 0.0002492708902787543, 'neutral': 0.5659526936319239}\n",
      "Label: sad\n"
     ]
    },
    {
     "name": "stderr",
     "output_type": "stream",
     "text": [
      "Action: emotion: 100%|██████████| 1/1 [00:00<00:00, 18.46it/s]\n"
     ]
    },
    {
     "name": "stdout",
     "output_type": "stream",
     "text": [
      "Emotion values: {'angry': 0.02279520413139835, 'disgust': 1.9171270082551928e-05, 'happy': 1.1523791588842869, 'sad': 98.36031198501587, 'surprise': 5.909408855586662e-05, 'neutral': 0.17642272869125009}\n",
      "Label: sad\n"
     ]
    },
    {
     "name": "stderr",
     "output_type": "stream",
     "text": [
      "Action: emotion: 100%|██████████| 1/1 [00:00<00:00, 17.39it/s]\n"
     ]
    },
    {
     "name": "stdout",
     "output_type": "stream",
     "text": [
      "Emotion values: {'angry': 0.02279520413139835, 'disgust': 1.9171270082551928e-05, 'happy': 1.1523791588842869, 'sad': 98.36031198501587, 'surprise': 5.909408855586662e-05, 'neutral': 0.17642272869125009}\n",
      "Label: sad\n"
     ]
    },
    {
     "name": "stderr",
     "output_type": "stream",
     "text": [
      "Action: emotion: 100%|██████████| 1/1 [00:00<00:00, 17.86it/s]\n"
     ]
    },
    {
     "name": "stdout",
     "output_type": "stream",
     "text": [
      "Emotion values: {'angry': 0.06736414507031441, 'disgust': 0.010546578414505348, 'happy': 20.815494656562805, 'sad': 59.09063220024109, 'surprise': 0.07575330091640353, 'neutral': 15.112502872943878}\n",
      "Label: sad\n"
     ]
    },
    {
     "name": "stderr",
     "output_type": "stream",
     "text": [
      "Action: emotion: 100%|██████████| 1/1 [00:00<00:00, 18.22it/s]\n"
     ]
    },
    {
     "name": "stdout",
     "output_type": "stream",
     "text": [
      "Emotion values: {'angry': 0.01235858944710344, 'disgust': 0.002047371890512295, 'happy': 75.94355940818787, 'sad': 12.965607643127441, 'surprise': 0.03387443721294403, 'neutral': 10.790151357650757}\n",
      "Label: happy\n"
     ]
    },
    {
     "name": "stderr",
     "output_type": "stream",
     "text": [
      "Action: emotion: 100%|██████████| 1/1 [00:00<00:00, 19.76it/s]\n"
     ]
    },
    {
     "name": "stdout",
     "output_type": "stream",
     "text": [
      "Emotion values: {'angry': 0.01235858944710344, 'disgust': 0.002047371890512295, 'happy': 75.94355940818787, 'sad': 12.965607643127441, 'surprise': 0.03387443721294403, 'neutral': 10.790151357650757}\n",
      "Label: happy\n"
     ]
    },
    {
     "name": "stderr",
     "output_type": "stream",
     "text": [
      "Action: emotion: 100%|██████████| 1/1 [00:00<00:00, 18.76it/s]\n"
     ]
    },
    {
     "name": "stdout",
     "output_type": "stream",
     "text": [
      "Emotion values: {'angry': 0.0026462495952728204, 'disgust': 0.0001489829742240545, 'happy': 97.6619303226471, 'sad': 1.891639456152916, 'surprise': 0.02332999720238149, 'neutral': 0.3783181309700012}\n",
      "Label: happy\n"
     ]
    },
    {
     "name": "stderr",
     "output_type": "stream",
     "text": [
      "Action: emotion: 100%|██████████| 1/1 [00:00<00:00, 19.46it/s]\n"
     ]
    },
    {
     "name": "stdout",
     "output_type": "stream",
     "text": [
      "Emotion values: {'angry': 0.004981930032954551, 'disgust': 1.101136346334588e-14, 'happy': 1.279608685678113e-06, 'sad': 81.92043900489807, 'surprise': 1.7474205193934722e-06, 'neutral': 0.0002000432232307503}\n",
      "Label: sad\n"
     ]
    },
    {
     "name": "stderr",
     "output_type": "stream",
     "text": [
      "Action: emotion: 100%|██████████| 1/1 [00:00<00:00, 18.40it/s]\n"
     ]
    },
    {
     "name": "stdout",
     "output_type": "stream",
     "text": [
      "Emotion values: {'angry': 0.0041200415580533445, 'disgust': 0.0037309790059225634, 'happy': 82.83935785293579, 'sad': 14.258323609828949, 'surprise': 0.030850933399051428, 'neutral': 2.1570364013314247}\n",
      "Label: happy\n"
     ]
    },
    {
     "name": "stderr",
     "output_type": "stream",
     "text": [
      "Action: emotion: 100%|██████████| 1/1 [00:00<00:00, 17.95it/s]\n"
     ]
    },
    {
     "name": "stdout",
     "output_type": "stream",
     "text": [
      "Emotion values: {'angry': 7.991703654397497e-06, 'disgust': 2.658871878225e-06, 'happy': 99.69916343688965, 'sad': 0.15701580559834838, 'surprise': 0.0008471130058751442, 'neutral': 0.13367265928536654}\n",
      "Label: happy\n"
     ]
    },
    {
     "name": "stderr",
     "output_type": "stream",
     "text": [
      "Action: emotion: 100%|██████████| 1/1 [00:00<00:00, 19.21it/s]\n"
     ]
    },
    {
     "name": "stdout",
     "output_type": "stream",
     "text": [
      "Emotion values: {'angry': 0.00010092948059536866, 'disgust': 3.6836294725617336e-05, 'happy': 98.87403845787048, 'sad': 0.4902547225356102, 'surprise': 0.0041973435145337135, 'neutral': 0.6017962004989386}\n",
      "Label: happy\n"
     ]
    },
    {
     "name": "stderr",
     "output_type": "stream",
     "text": [
      "Action: emotion: 100%|██████████| 1/1 [00:00<00:00, 18.60it/s]\n"
     ]
    },
    {
     "name": "stdout",
     "output_type": "stream",
     "text": [
      "Emotion values: {'angry': 5.209716702142026e-05, 'disgust': 1.023466812352054e-05, 'happy': 99.46700331372043, 'sad': 0.10411975128917404, 'surprise': 0.010968783243561282, 'neutral': 0.40590528024168493}\n",
      "Label: happy\n"
     ]
    },
    {
     "name": "stderr",
     "output_type": "stream",
     "text": [
      "Action: emotion: 100%|██████████| 1/1 [00:00<00:00, 18.63it/s]\n"
     ]
    },
    {
     "name": "stdout",
     "output_type": "stream",
     "text": [
      "Emotion values: {'angry': 1.5583978552058397e-06, 'disgust': 1.1479245332068899e-07, 'happy': 99.94714856147766, 'sad': 0.003646921322797425, 'surprise': 0.0005241516646492528, 'neutral': 0.04729492065962404}\n",
      "Label: happy\n"
     ]
    },
    {
     "name": "stderr",
     "output_type": "stream",
     "text": [
      "Action: emotion: 100%|██████████| 1/1 [00:00<00:00, 18.70it/s]\n"
     ]
    },
    {
     "name": "stdout",
     "output_type": "stream",
     "text": [
      "Emotion values: {'angry': 1.5583978552058397e-06, 'disgust': 1.1479245332068899e-07, 'happy': 99.94714856147766, 'sad': 0.003646921322797425, 'surprise': 0.0005241516646492528, 'neutral': 0.04729492065962404}\n",
      "Label: happy\n"
     ]
    },
    {
     "name": "stderr",
     "output_type": "stream",
     "text": [
      "Action: emotion: 100%|██████████| 1/1 [00:00<00:00, 19.30it/s]\n"
     ]
    },
    {
     "name": "stdout",
     "output_type": "stream",
     "text": [
      "Emotion values: {'angry': 0.0003037911436961225, 'disgust': 2.6802202234202128e-05, 'happy': 98.82041804912198, 'sad': 0.6561635918863769, 'surprise': 0.009949852985367729, 'neutral': 0.26497439663704614}\n",
      "Label: happy\n"
     ]
    },
    {
     "name": "stderr",
     "output_type": "stream",
     "text": [
      "Action: emotion: 100%|██████████| 1/1 [00:00<00:00, 18.97it/s]\n"
     ]
    },
    {
     "name": "stdout",
     "output_type": "stream",
     "text": [
      "Emotion values: {'angry': 0.010960404473187614, 'disgust': 0.002125999636828943, 'happy': 58.72632757111459, 'sad': 29.485421838114043, 'surprise': 0.026165498793885255, 'neutral': 2.8840134207590316}\n",
      "Label: happy\n"
     ]
    },
    {
     "name": "stderr",
     "output_type": "stream",
     "text": [
      "Action: emotion: 100%|██████████| 1/1 [00:00<00:00, 19.50it/s]\n"
     ]
    },
    {
     "name": "stdout",
     "output_type": "stream",
     "text": [
      "Emotion values: {'angry': 0.0209256773814559, 'disgust': 0.0034345281164860353, 'happy': 11.338544636964798, 'sad': 63.358163833618164, 'surprise': 0.018227798864245415, 'neutral': 7.577949017286301}\n",
      "Label: sad\n"
     ]
    },
    {
     "name": "stderr",
     "output_type": "stream",
     "text": [
      "Action: emotion: 100%|██████████| 1/1 [00:00<00:00, 20.01it/s]\n"
     ]
    },
    {
     "name": "stdout",
     "output_type": "stream",
     "text": [
      "Emotion values: {'angry': 0.0209256773814559, 'disgust': 0.0034345281164860353, 'happy': 11.338544636964798, 'sad': 63.358163833618164, 'surprise': 0.018227798864245415, 'neutral': 7.577949017286301}\n",
      "Label: sad\n"
     ]
    },
    {
     "name": "stderr",
     "output_type": "stream",
     "text": [
      "Action: emotion: 100%|██████████| 1/1 [00:00<00:00, 18.13it/s]\n"
     ]
    },
    {
     "name": "stdout",
     "output_type": "stream",
     "text": [
      "Emotion values: {'angry': 0.02697455378039077, 'disgust': 0.0014275745225996142, 'happy': 30.483335910241117, 'sad': 36.658237774162025, 'surprise': 0.05761896714123692, 'neutral': 4.4225835856894955}\n",
      "Label: sad\n"
     ]
    },
    {
     "name": "stderr",
     "output_type": "stream",
     "text": [
      "Action: emotion: 100%|██████████| 1/1 [00:00<00:00, 18.49it/s]\n"
     ]
    },
    {
     "name": "stdout",
     "output_type": "stream",
     "text": [
      "Emotion values: {'angry': 0.028993914020247757, 'disgust': 0.0006743829089828068, 'happy': 9.972591698169708, 'sad': 30.548042058944702, 'surprise': 0.028128354460932314, 'neutral': 3.8797568529844284}\n",
      "Label: sad\n"
     ]
    },
    {
     "name": "stderr",
     "output_type": "stream",
     "text": [
      "Action: emotion: 100%|██████████| 1/1 [00:00<00:00, 16.56it/s]\n"
     ]
    },
    {
     "name": "stdout",
     "output_type": "stream",
     "text": [
      "Emotion values: {'angry': 0.0015254622667271178, 'disgust': 0.00014152237781672738, 'happy': 95.15292644500732, 'sad': 1.8531855195760727, 'surprise': 0.046848124475218356, 'neutral': 0.8584053255617619}\n",
      "Label: happy\n"
     ]
    },
    {
     "name": "stderr",
     "output_type": "stream",
     "text": [
      "Action: emotion: 100%|██████████| 1/1 [00:00<00:00, 17.78it/s]\n"
     ]
    },
    {
     "name": "stdout",
     "output_type": "stream",
     "text": [
      "Emotion values: {'angry': 3.127473080405321e-05, 'disgust': 1.4490568720444945e-06, 'happy': 99.56859943679568, 'sad': 0.08882135682233315, 'surprise': 0.00531836226268223, 'neutral': 0.1064255431399073}\n",
      "Label: happy\n"
     ]
    },
    {
     "name": "stderr",
     "output_type": "stream",
     "text": [
      "Action: emotion: 100%|██████████| 1/1 [00:00<00:00, 17.79it/s]\n"
     ]
    },
    {
     "name": "stdout",
     "output_type": "stream",
     "text": [
      "Emotion values: {'angry': 4.374994849599409e-06, 'disgust': 6.207734696589661e-08, 'happy': 99.93852972617923, 'sad': 0.009463053556983757, 'surprise': 0.003952382993723742, 'neutral': 0.042679893883423144}\n",
      "Label: happy\n"
     ]
    },
    {
     "name": "stderr",
     "output_type": "stream",
     "text": [
      "Action: emotion: 100%|██████████| 1/1 [00:00<00:00, 16.25it/s]\n"
     ]
    },
    {
     "name": "stdout",
     "output_type": "stream",
     "text": [
      "Emotion values: {'angry': 3.7473631766371845e-06, 'disgust': 5.3670254775317465e-08, 'happy': 99.94032978655873, 'sad': 0.005408999235882378, 'surprise': 0.004508144316283274, 'neutral': 0.04466661169069181}\n",
      "Label: happy\n"
     ]
    },
    {
     "name": "stderr",
     "output_type": "stream",
     "text": [
      "Action: emotion: 100%|██████████| 1/1 [00:00<00:00, 16.62it/s]\n"
     ]
    },
    {
     "name": "stdout",
     "output_type": "stream",
     "text": [
      "Emotion values: {'angry': 5.9264596765355795e-06, 'disgust': 1.0852619450491619e-07, 'happy': 99.92837905456895, 'sad': 0.009350161247104704, 'surprise': 0.003501588643739627, 'neutral': 0.030313972444361296}\n",
      "Label: happy\n"
     ]
    },
    {
     "name": "stderr",
     "output_type": "stream",
     "text": [
      "Action: emotion: 100%|██████████| 1/1 [00:00<00:00, 19.86it/s]\n"
     ]
    },
    {
     "name": "stdout",
     "output_type": "stream",
     "text": [
      "Emotion values: {'angry': 3.4037875348718626e-05, 'disgust': 1.1803015269228953e-06, 'happy': 99.76725576920842, 'sad': 0.06475181821185758, 'surprise': 0.008860197504565716, 'neutral': 0.09131003715455753}\n",
      "Label: happy\n"
     ]
    },
    {
     "name": "stderr",
     "output_type": "stream",
     "text": [
      "Action: emotion: 100%|██████████| 1/1 [00:00<00:00, 19.55it/s]\n"
     ]
    },
    {
     "name": "stdout",
     "output_type": "stream",
     "text": [
      "Emotion values: {'angry': 1.2777716915660756e-05, 'disgust': 3.4618337843999344e-06, 'happy': 99.43704015767095, 'sad': 0.0975028670110116, 'surprise': 0.0026470971106752473, 'neutral': 0.1204631962633793}\n",
      "Label: happy\n"
     ]
    },
    {
     "name": "stderr",
     "output_type": "stream",
     "text": [
      "Action: emotion: 100%|██████████| 1/1 [00:00<00:00, 17.12it/s]\n"
     ]
    },
    {
     "name": "stdout",
     "output_type": "stream",
     "text": [
      "Emotion values: {'angry': 1.4055888186703669e-05, 'disgust': 4.275844744938695e-06, 'happy': 99.17770624160767, 'sad': 0.09621523786336184, 'surprise': 0.0031306881282944232, 'neutral': 0.14232911635190248}\n",
      "Label: happy\n"
     ]
    },
    {
     "name": "stderr",
     "output_type": "stream",
     "text": [
      "Action: emotion: 100%|██████████| 1/1 [00:00<00:00, 19.33it/s]\n"
     ]
    },
    {
     "name": "stdout",
     "output_type": "stream",
     "text": [
      "Emotion values: {'angry': 7.171775423566464e-05, 'disgust': 3.870098428142929e-06, 'happy': 99.55478307931322, 'sad': 0.276154016772152, 'surprise': 0.0035663410323865954, 'neutral': 0.06690228873095147}\n",
      "Label: happy\n"
     ]
    },
    {
     "name": "stderr",
     "output_type": "stream",
     "text": [
      "Action: emotion: 100%|██████████| 1/1 [00:00<00:00, 18.31it/s]\n"
     ]
    },
    {
     "name": "stdout",
     "output_type": "stream",
     "text": [
      "Emotion values: {'angry': 7.171775423566464e-05, 'disgust': 3.870098428142929e-06, 'happy': 99.55478307931322, 'sad': 0.276154016772152, 'surprise': 0.0035663410323865954, 'neutral': 0.06690228873095147}\n",
      "Label: happy\n"
     ]
    },
    {
     "name": "stderr",
     "output_type": "stream",
     "text": [
      "Action: emotion: 100%|██████████| 1/1 [00:00<00:00, 17.52it/s]\n"
     ]
    },
    {
     "name": "stdout",
     "output_type": "stream",
     "text": [
      "Emotion values: {'angry': 9.667593288076398e-05, 'disgust': 5.280630414046946e-06, 'happy': 99.33146842342991, 'sad': 0.24405051373088196, 'surprise': 0.007401974862485395, 'neutral': 0.16650149243679732}\n",
      "Label: happy\n"
     ]
    },
    {
     "name": "stderr",
     "output_type": "stream",
     "text": [
      "Action: emotion: 100%|██████████| 1/1 [00:00<00:00, 18.08it/s]\n"
     ]
    },
    {
     "name": "stdout",
     "output_type": "stream",
     "text": [
      "Emotion values: {'angry': 0.12539918534457684, 'disgust': 0.015576477744616568, 'happy': 64.58054184913635, 'sad': 32.420870661735535, 'surprise': 0.11154606472700834, 'neutral': 2.46427021920681}\n",
      "Label: happy\n"
     ]
    },
    {
     "name": "stderr",
     "output_type": "stream",
     "text": [
      "Action: emotion: 100%|██████████| 1/1 [00:00<00:00, 17.56it/s]\n"
     ]
    },
    {
     "name": "stdout",
     "output_type": "stream",
     "text": [
      "Emotion values: {'angry': 0.0022598484940343604, 'disgust': 0.0009022336764770193, 'happy': 97.22812142707365, 'sad': 1.1799243754058333, 'surprise': 0.07301697912269582, 'neutral': 1.1121291130339042}\n",
      "Label: happy\n"
     ]
    },
    {
     "name": "stderr",
     "output_type": "stream",
     "text": [
      "Action: emotion: 100%|██████████| 1/1 [00:00<00:00, 18.38it/s]\n"
     ]
    },
    {
     "name": "stdout",
     "output_type": "stream",
     "text": [
      "Emotion values: {'angry': 0.0022598484940343604, 'disgust': 0.0009022336764770193, 'happy': 97.22812142707365, 'sad': 1.1799243754058333, 'surprise': 0.07301697912269582, 'neutral': 1.1121291130339042}\n",
      "Label: happy\n"
     ]
    },
    {
     "name": "stderr",
     "output_type": "stream",
     "text": [
      "Action: emotion: 100%|██████████| 1/1 [00:00<00:00, 17.65it/s]\n"
     ]
    },
    {
     "name": "stdout",
     "output_type": "stream",
     "text": [
      "Emotion values: {'angry': 0.0015028986126708332, 'disgust': 9.425690450370894e-05, 'happy': 96.01362943649292, 'sad': 2.0449884235858917, 'surprise': 0.04760776355396956, 'neutral': 1.8575292080640793}\n",
      "Label: happy\n"
     ]
    },
    {
     "name": "stderr",
     "output_type": "stream",
     "text": [
      "Action: emotion: 100%|██████████| 1/1 [00:00<00:00, 18.96it/s]\n"
     ]
    },
    {
     "name": "stdout",
     "output_type": "stream",
     "text": [
      "Emotion values: {'angry': 0.0015028986126708332, 'disgust': 9.425690450370894e-05, 'happy': 96.01362943649292, 'sad': 2.0449884235858917, 'surprise': 0.04760776355396956, 'neutral': 1.8575292080640793}\n",
      "Label: happy\n"
     ]
    },
    {
     "name": "stderr",
     "output_type": "stream",
     "text": [
      "Action: emotion: 100%|██████████| 1/1 [00:00<00:00, 18.44it/s]\n"
     ]
    },
    {
     "name": "stdout",
     "output_type": "stream",
     "text": [
      "Emotion values: {'angry': 0.0031169976864475757, 'disgust': 0.00029320701742108213, 'happy': 61.16350293159485, 'sad': 38.223206996917725, 'surprise': 0.001144280395237729, 'neutral': 0.5282281432300806}\n",
      "Label: happy\n"
     ]
    },
    {
     "name": "stderr",
     "output_type": "stream",
     "text": [
      "Action: emotion: 100%|██████████| 1/1 [00:00<00:00, 16.95it/s]\n"
     ]
    },
    {
     "name": "stdout",
     "output_type": "stream",
     "text": [
      "Emotion values: {'angry': 0.0007639987414778779, 'disgust': 0.0031614788764442354, 'happy': 87.11543236786933, 'sad': 11.177980312349758, 'surprise': 0.004473643106057944, 'neutral': 1.4170190492845716}\n",
      "Label: happy\n"
     ]
    },
    {
     "name": "stderr",
     "output_type": "stream",
     "text": [
      "Action: emotion: 100%|██████████| 1/1 [00:00<00:00, 17.59it/s]\n"
     ]
    },
    {
     "name": "stdout",
     "output_type": "stream",
     "text": [
      "Emotion values: {'angry': 0.0007639987414778779, 'disgust': 0.0031614788764442354, 'happy': 87.11543236786933, 'sad': 11.177980312349758, 'surprise': 0.004473643106057944, 'neutral': 1.4170190492845716}\n",
      "Label: happy\n"
     ]
    },
    {
     "name": "stderr",
     "output_type": "stream",
     "text": [
      "Action: emotion: 100%|██████████| 1/1 [00:00<00:00, 17.15it/s]\n"
     ]
    },
    {
     "name": "stdout",
     "output_type": "stream",
     "text": [
      "Emotion values: {'angry': 0.0003381359647391946, 'disgust': 5.60889816370036e-05, 'happy': 98.50009679794312, 'sad': 0.25664782151579857, 'surprise': 0.05760673666372895, 'neutral': 1.1507977731525898}\n",
      "Label: happy\n"
     ]
    },
    {
     "name": "stderr",
     "output_type": "stream",
     "text": [
      "Action: emotion: 100%|██████████| 1/1 [00:00<00:00, 17.99it/s]\n"
     ]
    },
    {
     "name": "stdout",
     "output_type": "stream",
     "text": [
      "Emotion values: {'angry': 0.00045393340724145633, 'disgust': 0.0007274729299309291, 'happy': 92.88691793524241, 'sad': 2.7154279384527134, 'surprise': 0.009543670285809595, 'neutral': 1.1868650577205488}\n",
      "Label: happy\n"
     ]
    },
    {
     "name": "stderr",
     "output_type": "stream",
     "text": [
      "Action: emotion: 100%|██████████| 1/1 [00:00<00:00, 18.47it/s]\n"
     ]
    },
    {
     "name": "stdout",
     "output_type": "stream",
     "text": [
      "Emotion values: {'angry': 0.0008146123036567587, 'disgust': 0.0007974807886057533, 'happy': 97.74383902549744, 'sad': 1.1702539399266243, 'surprise': 0.049931014655157924, 'neutral': 0.7925163954496384}\n",
      "Label: happy\n"
     ]
    },
    {
     "name": "stderr",
     "output_type": "stream",
     "text": [
      "Action: emotion: 100%|██████████| 1/1 [00:00<00:00, 19.43it/s]\n"
     ]
    },
    {
     "name": "stdout",
     "output_type": "stream",
     "text": [
      "Emotion values: {'angry': 0.0003973050278768236, 'disgust': 0.0005354472521665755, 'happy': 96.21093914378415, 'sad': 2.8618125558718974, 'surprise': 0.006482783601576182, 'neutral': 0.6171053005480408}\n",
      "Label: happy\n"
     ]
    },
    {
     "name": "stderr",
     "output_type": "stream",
     "text": [
      "Action: emotion: 100%|██████████| 1/1 [00:00<00:00, 18.54it/s]\n"
     ]
    },
    {
     "name": "stdout",
     "output_type": "stream",
     "text": [
      "Emotion values: {'angry': 0.0004138694748689886, 'disgust': 0.0005263599177851574, 'happy': 89.65309858322144, 'sad': 4.871413856744766, 'surprise': 0.01003326106001623, 'neutral': 1.1592162773013115}\n",
      "Label: happy\n"
     ]
    },
    {
     "name": "stderr",
     "output_type": "stream",
     "text": [
      "Action: emotion: 100%|██████████| 1/1 [00:00<00:00, 17.47it/s]\n"
     ]
    },
    {
     "name": "stdout",
     "output_type": "stream",
     "text": [
      "Emotion values: {'angry': 0.0015231937137723858, 'disgust': 0.004816055144374313, 'happy': 48.606702519262136, 'sad': 19.07766241760998, 'surprise': 0.008400999196179116, 'neutral': 4.144469770129891}\n",
      "Label: happy\n"
     ]
    },
    {
     "name": "stderr",
     "output_type": "stream",
     "text": [
      "Action: emotion: 100%|██████████| 1/1 [00:00<00:00, 18.26it/s]\n"
     ]
    },
    {
     "name": "stdout",
     "output_type": "stream",
     "text": [
      "Emotion values: {'angry': 0.0002853804175223396, 'disgust': 0.0001294738394521074, 'happy': 97.95519685211144, 'sad': 0.9404675293526088, 'surprise': 0.011749757632118628, 'neutral': 0.7435522462936933}\n",
      "Label: happy\n"
     ]
    },
    {
     "name": "stderr",
     "output_type": "stream",
     "text": [
      "Action: emotion: 100%|██████████| 1/1 [00:00<00:00, 18.95it/s]\n"
     ]
    },
    {
     "name": "stdout",
     "output_type": "stream",
     "text": [
      "Emotion values: {'angry': 0.0003896148418174593, 'disgust': 0.00011975298257651691, 'happy': 97.30660947482473, 'sad': 0.5760323500892699, 'surprise': 0.03258506670045803, 'neutral': 1.1998739525826034}\n",
      "Label: happy\n"
     ]
    },
    {
     "name": "stderr",
     "output_type": "stream",
     "text": [
      "Action: emotion: 100%|██████████| 1/1 [00:00<00:00, 18.96it/s]\n"
     ]
    },
    {
     "name": "stdout",
     "output_type": "stream",
     "text": [
      "Emotion values: {'angry': 0.00029071042631767204, 'disgust': 0.0003181853079264259, 'happy': 93.56086811786103, 'sad': 1.9401992896318012, 'surprise': 0.008432061215538455, 'neutral': 1.1782153280505734}\n",
      "Label: happy\n"
     ]
    },
    {
     "name": "stderr",
     "output_type": "stream",
     "text": [
      "Action: emotion: 100%|██████████| 1/1 [00:00<00:00, 18.26it/s]\n"
     ]
    },
    {
     "name": "stdout",
     "output_type": "stream",
     "text": [
      "Emotion values: {'angry': 0.00029249273362656135, 'disgust': 0.00037531172056982736, 'happy': 94.62167684773483, 'sad': 2.209120166704635, 'surprise': 0.00785488425248751, 'neutral': 1.015768917260299}\n",
      "Label: happy\n"
     ]
    },
    {
     "name": "stderr",
     "output_type": "stream",
     "text": [
      "Action: emotion: 100%|██████████| 1/1 [00:00<00:00, 19.14it/s]\n"
     ]
    },
    {
     "name": "stdout",
     "output_type": "stream",
     "text": [
      "Emotion values: {'angry': 0.00032171337807085365, 'disgust': 0.00041545031308487523, 'happy': 87.20405697822571, 'sad': 5.384090542793274, 'surprise': 0.003793858559220098, 'neutral': 0.9106133133172989}\n",
      "Label: happy\n"
     ]
    },
    {
     "name": "stderr",
     "output_type": "stream",
     "text": [
      "Action: emotion: 100%|██████████| 1/1 [00:00<00:00, 17.11it/s]\n"
     ]
    },
    {
     "name": "stdout",
     "output_type": "stream",
     "text": [
      "Emotion values: {'angry': 0.0010992260941192229, 'disgust': 0.0010244770848113424, 'happy': 82.14139235862449, 'sad': 6.244400515818627, 'surprise': 0.029799032520631406, 'neutral': 2.117942213591469}\n",
      "Label: happy\n"
     ]
    },
    {
     "name": "stderr",
     "output_type": "stream",
     "text": [
      "Action: emotion: 100%|██████████| 1/1 [00:00<00:00, 17.92it/s]\n"
     ]
    },
    {
     "name": "stdout",
     "output_type": "stream",
     "text": [
      "Emotion values: {'angry': 0.0009308499811519425, 'disgust': 0.00030602783216483655, 'happy': 85.29705580508043, 'sad': 10.171946415669153, 'surprise': 0.0035124954043660203, 'neutral': 0.7694527520891723}\n",
      "Label: happy\n"
     ]
    },
    {
     "name": "stderr",
     "output_type": "stream",
     "text": [
      "Action: emotion: 100%|██████████| 1/1 [00:00<00:00, 18.43it/s]\n"
     ]
    },
    {
     "name": "stdout",
     "output_type": "stream",
     "text": [
      "Emotion values: {'angry': 0.00019992501165688736, 'disgust': 1.168215320035415e-05, 'happy': 99.68611001968384, 'sad': 0.15335765201598406, 'surprise': 0.006638334889430553, 'neutral': 0.09930721716955304}\n",
      "Label: happy\n"
     ]
    },
    {
     "name": "stderr",
     "output_type": "stream",
     "text": [
      "Action: emotion: 100%|██████████| 1/1 [00:00<00:00, 19.12it/s]\n"
     ]
    },
    {
     "name": "stdout",
     "output_type": "stream",
     "text": [
      "Emotion values: {'angry': 0.00019992501165688736, 'disgust': 1.168215320035415e-05, 'happy': 99.68611001968384, 'sad': 0.15335765201598406, 'surprise': 0.006638334889430553, 'neutral': 0.09930721716955304}\n",
      "Label: happy\n"
     ]
    },
    {
     "name": "stderr",
     "output_type": "stream",
     "text": [
      "Action: emotion: 100%|██████████| 1/1 [00:00<00:00, 17.19it/s]\n"
     ]
    },
    {
     "name": "stdout",
     "output_type": "stream",
     "text": [
      "Emotion values: {'angry': 5.1445670123939635e-05, 'disgust': 2.5164278993905498e-08, 'happy': 99.69068169593811, 'sad': 0.026164742303080857, 'surprise': 6.042551459195522e-08, 'neutral': 0.2829796867445111}\n",
      "Label: happy\n"
     ]
    },
    {
     "name": "stderr",
     "output_type": "stream",
     "text": [
      "Action: emotion: 100%|██████████| 1/1 [00:00<00:00, 16.68it/s]\n"
     ]
    },
    {
     "name": "stdout",
     "output_type": "stream",
     "text": [
      "Emotion values: {'angry': 5.1445670123939635e-05, 'disgust': 2.5164278993905498e-08, 'happy': 99.69068169593811, 'sad': 0.026164742303080857, 'surprise': 6.042551459195522e-08, 'neutral': 0.2829796867445111}\n",
      "Label: happy\n"
     ]
    },
    {
     "name": "stderr",
     "output_type": "stream",
     "text": [
      "Action: emotion: 100%|██████████| 1/1 [00:00<00:00, 16.92it/s]\n"
     ]
    },
    {
     "name": "stdout",
     "output_type": "stream",
     "text": [
      "Emotion values: {'angry': 0.06799997063353658, 'disgust': 0.000209326913136465, 'happy': 2.6489518582820892, 'sad': 3.446681797504425, 'surprise': 0.07482158252969384, 'neutral': 93.39912533760071}\n",
      "Label: neutral\n"
     ]
    },
    {
     "name": "stderr",
     "output_type": "stream",
     "text": [
      "Action: emotion: 100%|██████████| 1/1 [00:00<00:00, 18.40it/s]\n"
     ]
    },
    {
     "name": "stdout",
     "output_type": "stream",
     "text": [
      "Emotion values: {'angry': 0.06799997063353658, 'disgust': 0.000209326913136465, 'happy': 2.6489518582820892, 'sad': 3.446681797504425, 'surprise': 0.07482158252969384, 'neutral': 93.39912533760071}\n",
      "Label: neutral\n"
     ]
    },
    {
     "name": "stderr",
     "output_type": "stream",
     "text": [
      "Action: emotion: 100%|██████████| 1/1 [00:00<00:00, 19.15it/s]\n"
     ]
    },
    {
     "name": "stdout",
     "output_type": "stream",
     "text": [
      "Emotion values: {'angry': 0.0039143515610075555, 'disgust': 1.4304003279553089e-08, 'happy': 2.2453933385387227e-05, 'sad': 0.2740659914354081, 'surprise': 0.0005343479506509787, 'neutral': 99.7108459300307}\n",
      "Label: neutral\n"
     ]
    },
    {
     "name": "stderr",
     "output_type": "stream",
     "text": [
      "Action: emotion: 100%|██████████| 1/1 [00:00<00:00, 19.42it/s]\n"
     ]
    },
    {
     "name": "stdout",
     "output_type": "stream",
     "text": [
      "Emotion values: {'angry': 0.02497686364222318, 'disgust': 7.696544912505487e-05, 'happy': 12.790068984031677, 'sad': 53.51959466934204, 'surprise': 0.04498007474467158, 'neutral': 7.15445950627327}\n",
      "Label: sad\n"
     ]
    },
    {
     "name": "stderr",
     "output_type": "stream",
     "text": [
      "Action: emotion: 100%|██████████| 1/1 [00:00<00:00, 19.69it/s]\n"
     ]
    },
    {
     "name": "stdout",
     "output_type": "stream",
     "text": [
      "Emotion values: {'angry': 0.04843614296987653, 'disgust': 0.0006193375611474039, 'happy': 5.307026952505112, 'sad': 27.200746536254883, 'surprise': 0.06207223632372916, 'neutral': 65.06713032722473}\n",
      "Label: neutral\n"
     ]
    },
    {
     "name": "stderr",
     "output_type": "stream",
     "text": [
      "Action: emotion: 100%|██████████| 1/1 [00:00<00:00, 16.48it/s]\n"
     ]
    },
    {
     "name": "stdout",
     "output_type": "stream",
     "text": [
      "Emotion values: {'angry': 0.010985816916157087, 'disgust': 7.747927312981418e-06, 'happy': 15.360790832136969, 'sad': 34.8032635215835, 'surprise': 0.04725085436190419, 'neutral': 41.741706936562885}\n",
      "Label: neutral\n"
     ]
    },
    {
     "name": "stderr",
     "output_type": "stream",
     "text": [
      "Action: emotion: 100%|██████████| 1/1 [00:00<00:00, 18.55it/s]\n"
     ]
    },
    {
     "name": "stdout",
     "output_type": "stream",
     "text": [
      "Emotion values: {'angry': 0.036916081444360316, 'disgust': 0.0005354587301553693, 'happy': 2.465607598423958, 'sad': 19.963183999061584, 'surprise': 0.1842737663537264, 'neutral': 74.71861839294434}\n",
      "Label: neutral\n"
     ]
    },
    {
     "name": "stderr",
     "output_type": "stream",
     "text": [
      "Action: emotion: 100%|██████████| 1/1 [00:00<00:00, 18.53it/s]\n"
     ]
    },
    {
     "name": "stdout",
     "output_type": "stream",
     "text": [
      "Emotion values: {'angry': 0.04383863997645676, 'disgust': 0.0002330675215489464, 'happy': 1.6413871198892593, 'sad': 34.1669499874115, 'surprise': 0.029279434238560498, 'neutral': 60.219359397888184}\n",
      "Label: neutral\n"
     ]
    },
    {
     "name": "stderr",
     "output_type": "stream",
     "text": [
      "Action: emotion: 100%|██████████| 1/1 [00:00<00:00, 19.62it/s]\n"
     ]
    },
    {
     "name": "stdout",
     "output_type": "stream",
     "text": [
      "Emotion values: {'angry': 0.0737349851988256, 'disgust': 0.002565260001574643, 'happy': 6.226050481200218, 'sad': 47.29606509208679, 'surprise': 0.05183969624340534, 'neutral': 11.228862404823303}\n",
      "Label: sad\n"
     ]
    },
    {
     "name": "stderr",
     "output_type": "stream",
     "text": [
      "Action: emotion: 100%|██████████| 1/1 [00:00<00:00, 18.81it/s]\n"
     ]
    },
    {
     "name": "stdout",
     "output_type": "stream",
     "text": [
      "Emotion values: {'angry': 0.07276871908195133, 'disgust': 0.0021226692652919635, 'happy': 3.756988272487418, 'sad': 30.605157053777997, 'surprise': 0.03333141993098974, 'neutral': 4.983193351816735}\n",
      "Label: sad\n"
     ]
    },
    {
     "name": "stderr",
     "output_type": "stream",
     "text": [
      "Action: emotion: 100%|██████████| 1/1 [00:00<00:00, 17.99it/s]\n"
     ]
    },
    {
     "name": "stdout",
     "output_type": "stream",
     "text": [
      "Emotion values: {'angry': 1.1990460567176342, 'disgust': 0.029604719020426273, 'happy': 0.03575846494641155, 'sad': 85.37241220474243, 'surprise': 0.004902856380795129, 'neutral': 6.148752942681313}\n",
      "Label: sad\n"
     ]
    },
    {
     "name": "stderr",
     "output_type": "stream",
     "text": [
      "Action: emotion: 100%|██████████| 1/1 [00:00<00:00, 17.20it/s]\n"
     ]
    },
    {
     "name": "stdout",
     "output_type": "stream",
     "text": [
      "Emotion values: {'angry': 1.1990460567176342, 'disgust': 0.029604719020426273, 'happy': 0.03575846494641155, 'sad': 85.37241220474243, 'surprise': 0.004902856380795129, 'neutral': 6.148752942681313}\n",
      "Label: sad\n"
     ]
    },
    {
     "name": "stderr",
     "output_type": "stream",
     "text": [
      "Action: emotion: 100%|██████████| 1/1 [00:00<00:00, 19.23it/s]\n"
     ]
    },
    {
     "name": "stdout",
     "output_type": "stream",
     "text": [
      "Emotion values: {'angry': 1.2313560977451685, 'disgust': 0.02815111321085832, 'happy': 0.012051506219345335, 'sad': 91.52770143417104, 'surprise': 0.0013164805090548422, 'neutral': 2.9952675258794397}\n",
      "Label: sad\n"
     ]
    },
    {
     "name": "stderr",
     "output_type": "stream",
     "text": [
      "Action: emotion: 100%|██████████| 1/1 [00:00<00:00, 18.58it/s]\n"
     ]
    },
    {
     "name": "stdout",
     "output_type": "stream",
     "text": [
      "Emotion values: {'angry': 2.447569264761297, 'disgust': 0.10804124052703494, 'happy': 0.25719154354136664, 'sad': 72.29968043569559, 'surprise': 0.021300089800347113, 'neutral': 19.837870319143494}\n",
      "Label: sad\n"
     ]
    },
    {
     "name": "stderr",
     "output_type": "stream",
     "text": [
      "Action: emotion: 100%|██████████| 1/1 [00:00<00:00, 18.93it/s]\n"
     ]
    },
    {
     "name": "stdout",
     "output_type": "stream",
     "text": [
      "Emotion values: {'angry': 2.447569264761297, 'disgust': 0.10804124052703494, 'happy': 0.25719154354136664, 'sad': 72.29968043569559, 'surprise': 0.021300089800347113, 'neutral': 19.837870319143494}\n",
      "Label: sad\n"
     ]
    },
    {
     "name": "stderr",
     "output_type": "stream",
     "text": [
      "Action: emotion: 100%|██████████| 1/1 [00:00<00:00, 19.05it/s]\n"
     ]
    },
    {
     "name": "stdout",
     "output_type": "stream",
     "text": [
      "Emotion values: {'angry': 6.183820970795039, 'disgust': 0.33316296278977836, 'happy': 0.17643232356446104, 'sad': 59.673790970588804, 'surprise': 0.10790064575962474, 'neutral': 21.56241279096451}\n",
      "Label: sad\n"
     ]
    },
    {
     "name": "stderr",
     "output_type": "stream",
     "text": [
      "Action: emotion: 100%|██████████| 1/1 [00:00<00:00, 17.84it/s]\n"
     ]
    },
    {
     "name": "stdout",
     "output_type": "stream",
     "text": [
      "Emotion values: {'angry': 22.381336987018585, 'disgust': 0.029190577333793044, 'happy': 0.04240859707351774, 'sad': 9.011666476726532, 'surprise': 0.027641851920634508, 'neutral': 64.15867209434509}\n",
      "Label: neutral\n"
     ]
    },
    {
     "name": "stderr",
     "output_type": "stream",
     "text": [
      "Action: emotion: 100%|██████████| 1/1 [00:00<00:00, 18.29it/s]\n"
     ]
    },
    {
     "name": "stdout",
     "output_type": "stream",
     "text": [
      "Emotion values: {'angry': 69.25594623422302, 'disgust': 0.03204888971627591, 'happy': 0.061492037666486955, 'sad': 2.75624466724662, 'surprise': 0.13372557801980245, 'neutral': 24.455377427064025}\n",
      "Label: angry\n"
     ]
    },
    {
     "name": "stderr",
     "output_type": "stream",
     "text": [
      "Action: emotion: 100%|██████████| 1/1 [00:00<00:00, 17.92it/s]\n"
     ]
    },
    {
     "name": "stdout",
     "output_type": "stream",
     "text": [
      "Emotion values: {'angry': 19.011616706848145, 'disgust': 9.483317171543604e-05, 'happy': 0.009379584662383422, 'sad': 2.067486383020878, 'surprise': 0.02943605650216341, 'neutral': 78.50791215896606}\n",
      "Label: neutral\n"
     ]
    },
    {
     "name": "stderr",
     "output_type": "stream",
     "text": [
      "Action: emotion: 100%|██████████| 1/1 [00:00<00:00, 17.20it/s]\n"
     ]
    },
    {
     "name": "stdout",
     "output_type": "stream",
     "text": [
      "Emotion values: {'angry': 29.150336980819702, 'disgust': 0.0007574941719212802, 'happy': 0.030910182977095246, 'sad': 2.044289745390415, 'surprise': 0.13034713920205832, 'neutral': 66.73312187194824}\n",
      "Label: neutral\n"
     ]
    },
    {
     "name": "stderr",
     "output_type": "stream",
     "text": [
      "Action: emotion: 100%|██████████| 1/1 [00:00<00:00, 16.53it/s]\n"
     ]
    },
    {
     "name": "stdout",
     "output_type": "stream",
     "text": [
      "Emotion values: {'angry': 59.57412833859066, 'disgust': 0.0011068808317587213, 'happy': 0.007010321240938379, 'sad': 3.321405896116006, 'surprise': 0.06015218230847207, 'neutral': 35.2959823961237}\n",
      "Label: angry\n"
     ]
    },
    {
     "name": "stderr",
     "output_type": "stream",
     "text": [
      "Action: emotion: 100%|██████████| 1/1 [00:00<00:00, 19.41it/s]\n"
     ]
    },
    {
     "name": "stdout",
     "output_type": "stream",
     "text": [
      "Emotion values: {'angry': 19.406113028526306, 'disgust': 1.3062827974863467e-05, 'happy': 0.0019518784029060043, 'sad': 0.9880273602902889, 'surprise': 0.014217894931789488, 'neutral': 79.22943234443665}\n",
      "Label: neutral\n"
     ]
    },
    {
     "name": "stderr",
     "output_type": "stream",
     "text": [
      "Action: emotion: 100%|██████████| 1/1 [00:00<00:00, 19.26it/s]\n"
     ]
    },
    {
     "name": "stdout",
     "output_type": "stream",
     "text": [
      "Emotion values: {'angry': 92.65938953515229, 'disgust': 0.00015518176966906362, 'happy': 0.00012034548298012085, 'sad': 3.0026825071980063, 'surprise': 0.0020898175871100514, 'neutral': 3.8531570198033465}\n",
      "Label: angry\n"
     ]
    },
    {
     "name": "stderr",
     "output_type": "stream",
     "text": [
      "Action: emotion: 100%|██████████| 1/1 [00:00<00:00, 19.58it/s]\n"
     ]
    },
    {
     "name": "stdout",
     "output_type": "stream",
     "text": [
      "Emotion values: {'angry': 74.5006263256073, 'disgust': 0.00039783121792424936, 'happy': 0.0007458034360752208, 'sad': 4.632630944252014, 'surprise': 0.015894570969976485, 'neutral': 20.469968020915985}\n",
      "Label: angry\n"
     ]
    },
    {
     "name": "stderr",
     "output_type": "stream",
     "text": [
      "Action: emotion: 100%|██████████| 1/1 [00:00<00:00, 18.88it/s]\n"
     ]
    },
    {
     "name": "stdout",
     "output_type": "stream",
     "text": [
      "Emotion values: {'angry': 81.62467966226814, 'disgust': 4.822822748854843e-05, 'happy': 0.00011850986108280472, 'sad': 3.4292223113311713, 'surprise': 0.0009526081725472333, 'neutral': 14.756151423224892}\n",
      "Label: angry\n"
     ]
    },
    {
     "name": "stderr",
     "output_type": "stream",
     "text": [
      "Action: emotion: 100%|██████████| 1/1 [00:00<00:00, 19.36it/s]\n"
     ]
    },
    {
     "name": "stdout",
     "output_type": "stream",
     "text": [
      "Emotion values: {'angry': 48.034852743148804, 'disgust': 2.6650343443179736e-05, 'happy': 0.0011102282769570593, 'sad': 1.8786681815981865, 'surprise': 0.011688458471326157, 'neutral': 49.64607059955597}\n",
      "Label: neutral\n"
     ]
    },
    {
     "name": "stderr",
     "output_type": "stream",
     "text": [
      "Action: emotion: 100%|██████████| 1/1 [00:00<00:00, 18.83it/s]\n"
     ]
    },
    {
     "name": "stdout",
     "output_type": "stream",
     "text": [
      "Emotion values: {'angry': 95.50669166485618, 'disgust': 0.00023909493908770484, 'happy': 0.0004413594787592363, 'sad': 0.9135666847864797, 'surprise': 0.00968748775892818, 'neutral': 3.078431633319356}\n",
      "Label: angry\n"
     ]
    },
    {
     "name": "stderr",
     "output_type": "stream",
     "text": [
      "Action: emotion: 100%|██████████| 1/1 [00:00<00:00, 17.83it/s]\n"
     ]
    },
    {
     "name": "stdout",
     "output_type": "stream",
     "text": [
      "Emotion values: {'angry': 79.71202376937583, 'disgust': 0.00014634419432547817, 'happy': 0.0002715613976814934, 'sad': 1.9303518840251108, 'surprise': 0.0193665566817678, 'neutral': 18.17488602699208}\n",
      "Label: angry\n"
     ]
    },
    {
     "name": "stderr",
     "output_type": "stream",
     "text": [
      "Action: emotion: 100%|██████████| 1/1 [00:00<00:00, 16.97it/s]\n"
     ]
    },
    {
     "name": "stdout",
     "output_type": "stream",
     "text": [
      "Emotion values: {'angry': 92.89096593856812, 'disgust': 1.7650674521973997e-05, 'happy': 0.00015055088624649215, 'sad': 0.6055270321667194, 'surprise': 0.006000580469844863, 'neutral': 6.285442411899567}\n",
      "Label: angry\n"
     ]
    },
    {
     "name": "stderr",
     "output_type": "stream",
     "text": [
      "Action: emotion: 100%|██████████| 1/1 [00:00<00:00, 17.45it/s]\n"
     ]
    },
    {
     "name": "stdout",
     "output_type": "stream",
     "text": [
      "Emotion values: {'angry': 98.32706441444543, 'disgust': 0.0010261178133511358, 'happy': 0.00040012798874412316, 'sad': 0.3673366024247767, 'surprise': 0.037184726567773614, 'neutral': 0.8258242652311483}\n",
      "Label: angry\n"
     ]
    },
    {
     "name": "stderr",
     "output_type": "stream",
     "text": [
      "Action: emotion: 100%|██████████| 1/1 [00:00<00:00, 18.77it/s]\n"
     ]
    },
    {
     "name": "stdout",
     "output_type": "stream",
     "text": [
      "Emotion values: {'angry': 96.65575623512268, 'disgust': 0.0003301556944279582, 'happy': 0.0003622235226430348, 'sad': 0.5230672191828489, 'surprise': 0.014112029748503119, 'neutral': 1.3662380166351795}\n",
      "Label: angry\n"
     ]
    },
    {
     "name": "stderr",
     "output_type": "stream",
     "text": [
      "Action: emotion: 100%|██████████| 1/1 [00:00<00:00, 16.72it/s]\n"
     ]
    },
    {
     "name": "stdout",
     "output_type": "stream",
     "text": [
      "Emotion values: {'angry': 60.7130229473114, 'disgust': 3.551471365881298e-05, 'happy': 0.00024897080947994255, 'sad': 1.4086892828345299, 'surprise': 0.014509976608678699, 'neutral': 37.72734999656677}\n",
      "Label: angry\n"
     ]
    },
    {
     "name": "stderr",
     "output_type": "stream",
     "text": [
      "Action: emotion: 100%|██████████| 1/1 [00:00<00:00, 18.58it/s]\n"
     ]
    },
    {
     "name": "stdout",
     "output_type": "stream",
     "text": [
      "Emotion values: {'angry': 90.158611536026, 'disgust': 0.0007478356565115973, 'happy': 0.0002720529437283403, 'sad': 1.9047563895583153, 'surprise': 0.04816203145310283, 'neutral': 7.645989954471588}\n",
      "Label: angry\n"
     ]
    },
    {
     "name": "stderr",
     "output_type": "stream",
     "text": [
      "Action: emotion: 100%|██████████| 1/1 [00:00<00:00, 19.20it/s]\n"
     ]
    },
    {
     "name": "stdout",
     "output_type": "stream",
     "text": [
      "Emotion values: {'angry': 80.474905996019, 'disgust': 0.00035672819501863975, 'happy': 0.0023287549562312822, 'sad': 0.7004057009014905, 'surprise': 0.15842903884077303, 'neutral': 17.685111921138283}\n",
      "Label: angry\n"
     ]
    },
    {
     "name": "stderr",
     "output_type": "stream",
     "text": [
      "Action: emotion: 100%|██████████| 1/1 [00:00<00:00, 17.43it/s]"
     ]
    },
    {
     "name": "stdout",
     "output_type": "stream",
     "text": [
      "Emotion values: {'angry': 20.113292336463928, 'disgust': 0.00014472753946392913, 'happy': 0.01737065176712349, 'sad': 0.765282055363059, 'surprise': 0.14897662913426757, 'neutral': 78.46580147743225}\n",
      "Label: neutral\n"
     ]
    },
    {
     "name": "stderr",
     "output_type": "stream",
     "text": [
      "\n",
      "Action: emotion: 100%|██████████| 1/1 [00:00<00:00, 16.91it/s]\n"
     ]
    },
    {
     "name": "stdout",
     "output_type": "stream",
     "text": [
      "Emotion values: {'angry': 85.06137043603482, 'disgust': 0.0003896809408053106, 'happy': 0.001353865617354074, 'sad': 0.9955474768905328, 'surprise': 0.1279099687805753, 'neutral': 13.252117529637667}\n",
      "Label: angry\n"
     ]
    },
    {
     "name": "stderr",
     "output_type": "stream",
     "text": [
      "Action: emotion: 100%|██████████| 1/1 [00:00<00:00, 18.86it/s]\n"
     ]
    },
    {
     "name": "stdout",
     "output_type": "stream",
     "text": [
      "Emotion values: {'angry': 61.61303520202637, 'disgust': 0.0005344440069166012, 'happy': 0.0053269432100933045, 'sad': 0.5287384148687124, 'surprise': 0.30809908639639616, 'neutral': 36.33774816989899}\n",
      "Label: angry\n"
     ]
    },
    {
     "name": "stderr",
     "output_type": "stream",
     "text": [
      "Action: emotion: 100%|██████████| 1/1 [00:00<00:00, 17.20it/s]\n"
     ]
    },
    {
     "name": "stdout",
     "output_type": "stream",
     "text": [
      "Emotion values: {'angry': 0.75481659732759, 'disgust': 3.06719556419921e-06, 'happy': 22.333000600337982, 'sad': 0.18916305853053927, 'surprise': 0.19135901238769293, 'neutral': 8.259359002113342}\n",
      "Label: happy\n"
     ]
    },
    {
     "name": "stderr",
     "output_type": "stream",
     "text": [
      "Action: emotion: 100%|██████████| 1/1 [00:00<00:00, 17.41it/s]\n"
     ]
    },
    {
     "name": "stdout",
     "output_type": "stream",
     "text": [
      "Emotion values: {'angry': 0.018831176566891372, 'disgust': 2.4650295138428646e-07, 'happy': 0.19667132291942835, 'sad': 0.5451333243399858, 'surprise': 0.009839950507739559, 'neutral': 0.04311736847739667}\n",
      "Label: sad\n"
     ]
    },
    {
     "name": "stderr",
     "output_type": "stream",
     "text": [
      "Action: emotion: 100%|██████████| 1/1 [00:00<00:00, 17.97it/s]\n"
     ]
    },
    {
     "name": "stdout",
     "output_type": "stream",
     "text": [
      "Emotion values: {'angry': 0.018831176566891372, 'disgust': 2.4650295138428646e-07, 'happy': 0.19667132291942835, 'sad': 0.5451333243399858, 'surprise': 0.009839950507739559, 'neutral': 0.04311736847739667}\n",
      "Label: sad\n"
     ]
    },
    {
     "name": "stderr",
     "output_type": "stream",
     "text": [
      "Action: emotion: 100%|██████████| 1/1 [00:00<00:00, 15.99it/s]\n"
     ]
    },
    {
     "name": "stdout",
     "output_type": "stream",
     "text": [
      "Emotion values: {'angry': 0.1695317084435647, 'disgust': 0.0009913884832454965, 'happy': 0.0006045649021150579, 'sad': 98.26529611738302, 'surprise': 2.581645771161436e-05, 'neutral': 1.3859061419013823}\n",
      "Label: sad\n"
     ]
    },
    {
     "name": "stderr",
     "output_type": "stream",
     "text": [
      "Action: emotion: 100%|██████████| 1/1 [00:00<00:00, 17.79it/s]\n"
     ]
    },
    {
     "name": "stdout",
     "output_type": "stream",
     "text": [
      "Emotion values: {'angry': 0.13657257659360766, 'disgust': 0.004284311216906644, 'happy': 0.15908959321677685, 'sad': 55.59666156768799, 'surprise': 0.02700954210013151, 'neutral': 25.79132318496704}\n",
      "Label: sad\n"
     ]
    },
    {
     "name": "stderr",
     "output_type": "stream",
     "text": [
      "Action: emotion: 100%|██████████| 1/1 [00:00<00:00, 17.43it/s]\n"
     ]
    },
    {
     "name": "stdout",
     "output_type": "stream",
     "text": [
      "Emotion values: {'angry': 0.0012962489563506097, 'disgust': 1.5025052313433207e-07, 'happy': 0.002094386400131043, 'sad': 0.8095077238976955, 'surprise': 0.003448337156441994, 'neutral': 99.12944436073303}\n",
      "Label: neutral\n"
     ]
    },
    {
     "name": "stderr",
     "output_type": "stream",
     "text": [
      "Action: emotion: 100%|██████████| 1/1 [00:00<00:00, 17.79it/s]\n"
     ]
    },
    {
     "name": "stdout",
     "output_type": "stream",
     "text": [
      "Emotion values: {'angry': 0.0012962489563506097, 'disgust': 1.5025052313433207e-07, 'happy': 0.002094386400131043, 'sad': 0.8095077238976955, 'surprise': 0.003448337156441994, 'neutral': 99.12944436073303}\n",
      "Label: neutral\n"
     ]
    },
    {
     "name": "stderr",
     "output_type": "stream",
     "text": [
      "Action: emotion: 100%|██████████| 1/1 [00:00<00:00, 19.86it/s]\n"
     ]
    },
    {
     "name": "stdout",
     "output_type": "stream",
     "text": [
      "Emotion values: {'angry': 0.007835168592490647, 'disgust': 6.142845854669675e-06, 'happy': 0.015659305379361763, 'sad': 3.5010542272264686, 'surprise': 0.02759773886528744, 'neutral': 96.07791351343232}\n",
      "Label: neutral\n"
     ]
    },
    {
     "name": "stderr",
     "output_type": "stream",
     "text": [
      "Action: emotion: 100%|██████████| 1/1 [00:00<00:00, 17.95it/s]\n"
     ]
    },
    {
     "name": "stdout",
     "output_type": "stream",
     "text": [
      "Emotion values: {'angry': 0.01966055715456605, 'disgust': 0.00019463161606836366, 'happy': 2.565099112689495, 'sad': 14.193063974380493, 'surprise': 0.20902343094348907, 'neutral': 78.12989950180054}\n",
      "Label: neutral\n"
     ]
    },
    {
     "name": "stderr",
     "output_type": "stream",
     "text": [
      "Action: emotion: 100%|██████████| 1/1 [00:00<00:00, 17.85it/s]\n"
     ]
    },
    {
     "name": "stdout",
     "output_type": "stream",
     "text": [
      "Emotion values: {'angry': 0.00023694962285729205, 'disgust': 6.089546297138901e-06, 'happy': 99.15897841209045, 'sad': 0.2696297059359971, 'surprise': 0.0829355607813931, 'neutral': 0.27007168837318946}\n",
      "Label: happy\n"
     ]
    },
    {
     "name": "stderr",
     "output_type": "stream",
     "text": [
      "Action: emotion: 100%|██████████| 1/1 [00:00<00:00, 18.37it/s]\n"
     ]
    },
    {
     "name": "stdout",
     "output_type": "stream",
     "text": [
      "Emotion values: {'angry': 0.0009238497305803611, 'disgust': 4.214763227935187e-05, 'happy': 97.85126422062686, 'sad': 0.2744570701667154, 'surprise': 0.28236956442082695, 'neutral': 1.5151972826060394}\n",
      "Label: happy\n"
     ]
    },
    {
     "name": "stderr",
     "output_type": "stream",
     "text": [
      "Action: emotion: 100%|██████████| 1/1 [00:00<00:00, 17.19it/s]\n"
     ]
    },
    {
     "name": "stdout",
     "output_type": "stream",
     "text": [
      "Emotion values: {'angry': 0.0002433905819998472, 'disgust': 2.7674404434741007e-08, 'happy': 98.08403849601746, 'sad': 0.005673258056049235, 'surprise': 1.0092475451529026, 'neutral': 0.8989407680928707}\n",
      "Label: happy\n"
     ]
    },
    {
     "name": "stderr",
     "output_type": "stream",
     "text": [
      "Action: emotion: 100%|██████████| 1/1 [00:00<00:00, 18.64it/s]\n"
     ]
    },
    {
     "name": "stdout",
     "output_type": "stream",
     "text": [
      "Emotion values: {'angry': 0.07930946303531528, 'disgust': 2.8650100603044848e-05, 'happy': 54.96056079864502, 'sad': 0.7281121797859669, 'surprise': 25.428658723831177, 'neutral': 17.743507027626038}\n",
      "Label: happy\n"
     ]
    },
    {
     "name": "stderr",
     "output_type": "stream",
     "text": [
      "Action: emotion: 100%|██████████| 1/1 [00:00<00:00, 19.77it/s]\n"
     ]
    },
    {
     "name": "stdout",
     "output_type": "stream",
     "text": [
      "Emotion values: {'angry': 0.10168424947912988, 'disgust': 9.09713489471854e-05, 'happy': 41.04855305245835, 'sad': 3.2047407749140726, 'surprise': 6.033826979030787, 'neutral': 0.23712293726938588}\n",
      "Label: happy\n"
     ]
    },
    {
     "name": "stderr",
     "output_type": "stream",
     "text": [
      "Action: emotion: 100%|██████████| 1/1 [00:00<00:00, 17.26it/s]\n"
     ]
    },
    {
     "name": "stdout",
     "output_type": "stream",
     "text": [
      "Emotion values: {'angry': 0.0009398117632295032, 'disgust': 5.643058623671541e-06, 'happy': 91.54223749293313, 'sad': 5.3232214792502806, 'surprise': 0.04138815521620394, 'neutral': 1.5749699443560805}\n",
      "Label: happy\n"
     ]
    },
    {
     "name": "stderr",
     "output_type": "stream",
     "text": [
      "Action: emotion: 100%|██████████| 1/1 [00:00<00:00, 17.13it/s]\n"
     ]
    },
    {
     "name": "stdout",
     "output_type": "stream",
     "text": [
      "Emotion values: {'angry': 1.2694908655296724, 'disgust': 0.0023166000540719303, 'happy': 75.4703550970131, 'sad': 13.985471250358671, 'surprise': 0.5392532152827721, 'neutral': 6.855852084654321}\n",
      "Label: happy\n"
     ]
    },
    {
     "name": "stderr",
     "output_type": "stream",
     "text": [
      "Action: emotion: 100%|██████████| 1/1 [00:00<00:00, 18.68it/s]\n"
     ]
    },
    {
     "name": "stdout",
     "output_type": "stream",
     "text": [
      "Emotion values: {'angry': 0.06092938128858805, 'disgust': 9.944055301414068e-09, 'happy': 0.004945152250002138, 'sad': 0.37888092920184135, 'surprise': 0.0035669243516167626, 'neutral': 99.51809644699097}\n",
      "Label: neutral\n"
     ]
    },
    {
     "name": "stderr",
     "output_type": "stream",
     "text": [
      "Action: emotion: 100%|██████████| 1/1 [00:00<00:00, 17.86it/s]\n"
     ]
    },
    {
     "name": "stdout",
     "output_type": "stream",
     "text": [
      "Emotion values: {'angry': 0.06092938128858805, 'disgust': 9.944055301414068e-09, 'happy': 0.004945152250002138, 'sad': 0.37888092920184135, 'surprise': 0.0035669243516167626, 'neutral': 99.51809644699097}\n",
      "Label: neutral\n"
     ]
    },
    {
     "name": "stderr",
     "output_type": "stream",
     "text": [
      "Action: emotion: 100%|██████████| 1/1 [00:00<00:00, 19.59it/s]\n"
     ]
    },
    {
     "name": "stdout",
     "output_type": "stream",
     "text": [
      "Emotion values: {'angry': 0.2496566390618682, 'disgust': 2.193497579128234e-05, 'happy': 0.7901881821453571, 'sad': 2.5261512026190758, 'surprise': 0.14118122635409236, 'neutral': 95.94749808311462}\n",
      "Label: neutral\n"
     ]
    },
    {
     "name": "stderr",
     "output_type": "stream",
     "text": [
      "Action: emotion: 100%|██████████| 1/1 [00:00<00:00, 16.73it/s]\n"
     ]
    },
    {
     "name": "stdout",
     "output_type": "stream",
     "text": [
      "Emotion values: {'angry': 0.013942747318651527, 'disgust': 2.9674140748781053e-10, 'happy': 0.011244371853535995, 'sad': 0.056323426542803645, 'surprise': 0.002891348412958905, 'neutral': 99.91238713264465}\n",
      "Label: neutral\n"
     ]
    },
    {
     "name": "stderr",
     "output_type": "stream",
     "text": [
      "Action: emotion: 100%|██████████| 1/1 [00:00<00:00, 17.63it/s]\n"
     ]
    },
    {
     "name": "stdout",
     "output_type": "stream",
     "text": [
      "Emotion values: {'angry': 7.510042190551758, 'disgust': 0.06567573291249573, 'happy': 5.612719804048538, 'sad': 19.95043009519577, 'surprise': 0.9058631956577301, 'neutral': 5.337587371468544}\n",
      "Label: sad\n"
     ]
    },
    {
     "name": "stderr",
     "output_type": "stream",
     "text": [
      "Action: emotion: 100%|██████████| 1/1 [00:00<00:00, 17.02it/s]\n"
     ]
    },
    {
     "name": "stdout",
     "output_type": "stream",
     "text": [
      "Emotion values: {'angry': 0.05610708612948656, 'disgust': 0.005447888179332949, 'happy': 9.962868690490723, 'sad': 26.949119567871094, 'surprise': 0.12878590496256948, 'neutral': 60.835665464401245}\n",
      "Label: neutral\n"
     ]
    },
    {
     "name": "stderr",
     "output_type": "stream",
     "text": [
      "Action: emotion: 100%|██████████| 1/1 [00:00<00:00, 19.64it/s]\n"
     ]
    },
    {
     "name": "stdout",
     "output_type": "stream",
     "text": [
      "Emotion values: {'angry': 0.05610708612948656, 'disgust': 0.005447888179332949, 'happy': 9.962868690490723, 'sad': 26.949119567871094, 'surprise': 0.12878590496256948, 'neutral': 60.835665464401245}\n",
      "Label: neutral\n"
     ]
    },
    {
     "name": "stderr",
     "output_type": "stream",
     "text": [
      "Action: emotion: 100%|██████████| 1/1 [00:00<00:00, 17.53it/s]\n"
     ]
    },
    {
     "name": "stdout",
     "output_type": "stream",
     "text": [
      "Emotion values: {'angry': 0.0065972101150280306, 'disgust': 0.002731273506466769, 'happy': 80.48295858400813, 'sad': 13.580129359968266, 'surprise': 0.06663448108789212, 'neutral': 2.641391725325091}\n",
      "Label: happy\n"
     ]
    },
    {
     "name": "stderr",
     "output_type": "stream",
     "text": [
      "Action: emotion: 100%|██████████| 1/1 [00:00<00:00, 19.10it/s]\n"
     ]
    },
    {
     "name": "stdout",
     "output_type": "stream",
     "text": [
      "Emotion values: {'angry': 0.027007266180589795, 'disgust': 0.0028711341656162404, 'happy': 38.34681212902069, 'sad': 56.99780583381653, 'surprise': 0.14045588904991746, 'neutral': 1.0832639411091805}\n",
      "Label: sad\n"
     ]
    },
    {
     "name": "stderr",
     "output_type": "stream",
     "text": [
      "Action: emotion: 100%|██████████| 1/1 [00:00<00:00, 17.32it/s]\n"
     ]
    },
    {
     "name": "stdout",
     "output_type": "stream",
     "text": [
      "Emotion values: {'angry': 0.04490624659042765, 'disgust': 0.0022530598428721167, 'happy': 5.998870327934066, 'sad': 93.26178947231644, 'surprise': 0.01548165057939596, 'neutral': 0.20217390347110076}\n",
      "Label: sad\n"
     ]
    },
    {
     "name": "stderr",
     "output_type": "stream",
     "text": [
      "Action: emotion: 100%|██████████| 1/1 [00:00<00:00, 17.61it/s]\n"
     ]
    },
    {
     "name": "stdout",
     "output_type": "stream",
     "text": [
      "Emotion values: {'angry': 0.11301316370658115, 'disgust': 0.007569763518236829, 'happy': 3.9921804228805993, 'sad': 94.1573030761119, 'surprise': 0.013439850443693942, 'neutral': 0.6269758285461868}\n",
      "Label: sad\n"
     ]
    },
    {
     "name": "stderr",
     "output_type": "stream",
     "text": [
      "Action: emotion: 100%|██████████| 1/1 [00:00<00:00, 18.94it/s]\n"
     ]
    },
    {
     "name": "stdout",
     "output_type": "stream",
     "text": [
      "Emotion values: {'angry': 0.4225261975079775, 'disgust': 0.17445961711928248, 'happy': 42.90013313293457, 'sad': 49.51311945915222, 'surprise': 0.3559625940397382, 'neutral': 3.452632948756218}\n",
      "Label: sad\n"
     ]
    },
    {
     "name": "stderr",
     "output_type": "stream",
     "text": [
      "Action: emotion: 100%|██████████| 1/1 [00:00<00:00, 19.32it/s]\n"
     ]
    },
    {
     "name": "stdout",
     "output_type": "stream",
     "text": [
      "Emotion values: {'angry': 6.705764681100845, 'disgust': 0.8202430792152882, 'happy': 8.092579245567322, 'sad': 69.57735419273376, 'surprise': 1.7984919250011444, 'neutral': 2.201049029827118}\n",
      "Label: sad\n"
     ]
    },
    {
     "name": "stderr",
     "output_type": "stream",
     "text": [
      "Action: emotion: 100%|██████████| 1/1 [00:00<00:00, 18.36it/s]\n"
     ]
    },
    {
     "name": "stdout",
     "output_type": "stream",
     "text": [
      "Emotion values: {'angry': 8.538449282831039, 'disgust': 0.18912257001950503, 'happy': 49.46600205111479, 'sad': 24.802535795863175, 'surprise': 3.6957982247116297, 'neutral': 9.538919831643124}\n",
      "Label: happy\n"
     ]
    },
    {
     "name": "stderr",
     "output_type": "stream",
     "text": [
      "Action: emotion: 100%|██████████| 1/1 [00:00<00:00, 17.74it/s]\n"
     ]
    },
    {
     "name": "stdout",
     "output_type": "stream",
     "text": [
      "Emotion values: {'angry': 7.292353237586828, 'disgust': 0.007107516165345842, 'happy': 73.40900618922636, 'sad': 2.6117932663210315, 'surprise': 2.3169922674307504, 'neutral': 13.762634842081685}\n",
      "Label: happy\n"
     ]
    },
    {
     "name": "stderr",
     "output_type": "stream",
     "text": [
      "Action: emotion: 100%|██████████| 1/1 [00:00<00:00, 18.27it/s]\n"
     ]
    },
    {
     "name": "stdout",
     "output_type": "stream",
     "text": [
      "Emotion values: {'angry': 45.17228362890677, 'disgust': 0.7596443432993479, 'happy': 1.407312713436757, 'sad': 36.15920410642575, 'surprise': 1.065642166508178, 'neutral': 6.859160142045004}\n",
      "Label: angry\n"
     ]
    },
    {
     "name": "stderr",
     "output_type": "stream",
     "text": [
      "Action: emotion: 100%|██████████| 1/1 [00:00<00:00, 18.74it/s]\n"
     ]
    },
    {
     "name": "stdout",
     "output_type": "stream",
     "text": [
      "Emotion values: {'angry': 30.855008959770203, 'disgust': 0.5123150069266558, 'happy': 3.358793258666992, 'sad': 39.453575015068054, 'surprise': 0.7332896813750267, 'neutral': 21.015633642673492}\n",
      "Label: sad\n"
     ]
    },
    {
     "name": "stderr",
     "output_type": "stream",
     "text": [
      "Action: emotion: 100%|██████████| 1/1 [00:00<00:00, 19.61it/s]\n"
     ]
    },
    {
     "name": "stdout",
     "output_type": "stream",
     "text": [
      "Emotion values: {'angry': 20.72664499282837, 'disgust': 0.16868552193045616, 'happy': 3.6746367812156677, 'sad': 30.715343356132507, 'surprise': 0.4665035754442215, 'neutral': 41.445183753967285}\n",
      "Label: neutral\n"
     ]
    },
    {
     "name": "stderr",
     "output_type": "stream",
     "text": [
      "Action: emotion: 100%|██████████| 1/1 [00:00<00:00, 19.25it/s]\n"
     ]
    },
    {
     "name": "stdout",
     "output_type": "stream",
     "text": [
      "Emotion values: {'angry': 31.284186244010925, 'disgust': 0.18115093698725104, 'happy': 0.5821603816002607, 'sad': 28.49915623664856, 'surprise': 0.5560073535889387, 'neutral': 20.315702259540558}\n",
      "Label: angry\n"
     ]
    },
    {
     "name": "stderr",
     "output_type": "stream",
     "text": [
      "Action: emotion: 100%|██████████| 1/1 [00:00<00:00, 19.17it/s]\n"
     ]
    },
    {
     "name": "stdout",
     "output_type": "stream",
     "text": [
      "Emotion values: {'angry': 35.64299471890863, 'disgust': 0.4278540189986252, 'happy': 0.9917532344762366, 'sad': 34.72744938462369, 'surprise': 0.30186934269897253, 'neutral': 25.186413548757262}\n",
      "Label: angry\n"
     ]
    },
    {
     "name": "stderr",
     "output_type": "stream",
     "text": [
      "Action: emotion: 100%|██████████| 1/1 [00:00<00:00, 17.54it/s]\n"
     ]
    },
    {
     "name": "stdout",
     "output_type": "stream",
     "text": [
      "Emotion values: {'angry': 31.450575590133667, 'disgust': 0.18566432408988476, 'happy': 1.6363207250833511, 'sad': 19.221682846546173, 'surprise': 0.5656842142343521, 'neutral': 40.79566299915314}\n",
      "Label: neutral\n"
     ]
    },
    {
     "name": "stderr",
     "output_type": "stream",
     "text": [
      "Action: emotion: 100%|██████████| 1/1 [00:00<00:00, 18.98it/s]\n"
     ]
    },
    {
     "name": "stdout",
     "output_type": "stream",
     "text": [
      "Emotion values: {'angry': 51.67850852012634, 'disgust': 0.38366427179425955, 'happy': 0.5355738569051027, 'sad': 20.704610645771027, 'surprise': 0.2351079136133194, 'neutral': 21.406179666519165}\n",
      "Label: angry\n"
     ]
    },
    {
     "name": "stderr",
     "output_type": "stream",
     "text": [
      "Action: emotion: 100%|██████████| 1/1 [00:00<00:00, 19.80it/s]\n"
     ]
    },
    {
     "name": "stdout",
     "output_type": "stream",
     "text": [
      "Emotion values: {'angry': 86.78451180458069, 'disgust': 0.03280621021986008, 'happy': 0.17011677846312523, 'sad': 1.060603465884924, 'surprise': 0.5847159773111343, 'neutral': 10.296818614006042}\n",
      "Label: angry\n"
     ]
    },
    {
     "name": "stderr",
     "output_type": "stream",
     "text": [
      "Action: emotion: 100%|██████████| 1/1 [00:00<00:00, 17.00it/s]\n"
     ]
    },
    {
     "name": "stdout",
     "output_type": "stream",
     "text": [
      "Emotion values: {'angry': 83.32827289959515, 'disgust': 0.26481264839319607, 'happy': 0.15187786711345708, 'sad': 2.0777286347474293, 'surprise': 1.7043532634552403, 'neutral': 10.238227517816124}\n",
      "Label: angry\n"
     ]
    },
    {
     "name": "stderr",
     "output_type": "stream",
     "text": [
      "Action: emotion: 100%|██████████| 1/1 [00:00<00:00, 18.72it/s]\n"
     ]
    },
    {
     "name": "stdout",
     "output_type": "stream",
     "text": [
      "Emotion values: {'angry': 61.45018935203552, 'disgust': 0.002707442399696447, 'happy': 0.06078192382119596, 'sad': 0.6248039193451405, 'surprise': 0.20534717477858067, 'neutral': 37.2208446264267}\n",
      "Label: angry\n"
     ]
    },
    {
     "name": "stderr",
     "output_type": "stream",
     "text": [
      "Action: emotion: 100%|██████████| 1/1 [00:00<00:00, 16.43it/s]\n"
     ]
    },
    {
     "name": "stdout",
     "output_type": "stream",
     "text": [
      "Emotion values: {'angry': 61.45018935203552, 'disgust': 0.002707442399696447, 'happy': 0.06078192382119596, 'sad': 0.6248039193451405, 'surprise': 0.20534717477858067, 'neutral': 37.2208446264267}\n",
      "Label: angry\n"
     ]
    },
    {
     "name": "stderr",
     "output_type": "stream",
     "text": [
      "Action: emotion: 100%|██████████| 1/1 [00:00<00:00, 17.38it/s]\n"
     ]
    },
    {
     "name": "stdout",
     "output_type": "stream",
     "text": [
      "Emotion values: {'angry': 92.38429069519043, 'disgust': 0.0008472690751659684, 'happy': 0.011673400877043605, 'sad': 0.11585827451199293, 'surprise': 0.7113809231668711, 'neutral': 5.914129316806793}\n",
      "Label: angry\n"
     ]
    },
    {
     "name": "stderr",
     "output_type": "stream",
     "text": [
      "Action: emotion: 100%|██████████| 1/1 [00:00<00:00, 16.22it/s]\n"
     ]
    },
    {
     "name": "stdout",
     "output_type": "stream",
     "text": [
      "Emotion values: {'angry': 55.58406710624695, 'disgust': 0.0036079702113056555, 'happy': 0.3051302395761013, 'sad': 0.1345285098068416, 'surprise': 2.0618677139282227, 'neutral': 41.557514667510986}\n",
      "Label: angry\n"
     ]
    },
    {
     "name": "stderr",
     "output_type": "stream",
     "text": [
      "Action: emotion: 100%|██████████| 1/1 [00:00<00:00, 17.19it/s]\n"
     ]
    },
    {
     "name": "stdout",
     "output_type": "stream",
     "text": [
      "Emotion values: {'angry': 95.17530174108158, 'disgust': 0.00099237937778214, 'happy': 0.0075347034851750575, 'sad': 0.11329837818732132, 'surprise': 0.13379980443342354, 'neutral': 4.107211775017486}\n",
      "Label: angry\n"
     ]
    },
    {
     "name": "stderr",
     "output_type": "stream",
     "text": [
      "Action: emotion: 100%|██████████| 1/1 [00:00<00:00, 17.15it/s]\n"
     ]
    },
    {
     "name": "stdout",
     "output_type": "stream",
     "text": [
      "Emotion values: {'angry': 96.23171136001213, 'disgust': 7.578862215835553e-05, 'happy': 0.00041046696078344625, 'sad': 0.14394286002527357, 'surprise': 0.03342646998019129, 'neutral': 3.4086800773525145}\n",
      "Label: angry\n"
     ]
    },
    {
     "name": "stderr",
     "output_type": "stream",
     "text": [
      "Action: emotion: 100%|██████████| 1/1 [00:00<00:00, 17.64it/s]\n"
     ]
    },
    {
     "name": "stdout",
     "output_type": "stream",
     "text": [
      "Emotion values: {'angry': 93.4800024914743, 'disgust': 0.002639433817401309, 'happy': 0.0017568273643841514, 'sad': 0.35645377152882646, 'surprise': 0.7298449489381879, 'neutral': 4.604644230284943}\n",
      "Label: angry\n"
     ]
    },
    {
     "name": "stderr",
     "output_type": "stream",
     "text": [
      "Action: emotion: 100%|██████████| 1/1 [00:00<00:00, 18.64it/s]\n"
     ]
    },
    {
     "name": "stdout",
     "output_type": "stream",
     "text": [
      "Emotion values: {'angry': 98.38894605636597, 'disgust': 0.0012770250577887055, 'happy': 0.00048320775931642856, 'sad': 0.05364811513572931, 'surprise': 0.3947343211621046, 'neutral': 0.7673555053770542}\n",
      "Label: angry\n"
     ]
    },
    {
     "name": "stderr",
     "output_type": "stream",
     "text": [
      "Action: emotion: 100%|██████████| 1/1 [00:00<00:00, 17.67it/s]\n"
     ]
    },
    {
     "name": "stdout",
     "output_type": "stream",
     "text": [
      "Emotion values: {'angry': 91.61951641803785, 'disgust': 0.0026930973463189225, 'happy': 0.0017200223506308526, 'sad': 0.12067524674680868, 'surprise': 0.7265550615274833, 'neutral': 7.12264169780711}\n",
      "Label: angry\n"
     ]
    },
    {
     "name": "stderr",
     "output_type": "stream",
     "text": [
      "Action: emotion: 100%|██████████| 1/1 [00:00<00:00, 16.88it/s]\n"
     ]
    },
    {
     "name": "stdout",
     "output_type": "stream",
     "text": [
      "Emotion values: {'angry': 96.71889543533325, 'disgust': 0.0013692299035028554, 'happy': 0.0004601447017194005, 'sad': 0.15393865760415792, 'surprise': 0.12062342138960958, 'neutral': 2.7801675722002983}\n",
      "Label: angry\n"
     ]
    },
    {
     "name": "stderr",
     "output_type": "stream",
     "text": [
      "Action: emotion: 100%|██████████| 1/1 [00:00<00:00, 11.85it/s]\n"
     ]
    },
    {
     "name": "stdout",
     "output_type": "stream",
     "text": [
      "Emotion values: {'angry': 96.9825804233551, 'disgust': 0.0008875172170519363, 'happy': 0.0004790893399331253, 'sad': 0.15904168831184506, 'surprise': 0.16304765595123172, 'neutral': 2.3575352504849434}\n",
      "Label: angry\n"
     ]
    },
    {
     "name": "stderr",
     "output_type": "stream",
     "text": [
      "Action: emotion: 100%|██████████| 1/1 [00:00<00:00, 15.96it/s]\n"
     ]
    },
    {
     "name": "stdout",
     "output_type": "stream",
     "text": [
      "Emotion values: {'angry': 93.9071900955212, 'disgust': 0.002868287650969979, 'happy': 0.0011101567492819728, 'sad': 0.4352670109698759, 'surprise': 0.12571186191298223, 'neutral': 4.8033719744238885}\n",
      "Label: angry\n"
     ]
    },
    {
     "name": "stderr",
     "output_type": "stream",
     "text": [
      "Action: emotion: 100%|██████████| 1/1 [00:00<00:00, 14.87it/s]\n"
     ]
    },
    {
     "name": "stdout",
     "output_type": "stream",
     "text": [
      "Emotion values: {'angry': 97.64307169400792, 'disgust': 0.004185218359848531, 'happy': 0.0007064354189479644, 'sad': 0.1596139204403555, 'surprise': 0.4961803429656812, 'neutral': 0.7976100760567097}\n",
      "Label: angry\n"
     ]
    },
    {
     "name": "stderr",
     "output_type": "stream",
     "text": [
      "Action: emotion: 100%|██████████| 1/1 [00:00<00:00, 17.22it/s]\n"
     ]
    },
    {
     "name": "stdout",
     "output_type": "stream",
     "text": [
      "Emotion values: {'angry': 87.44870573893716, 'disgust': 0.00663687163077335, 'happy': 0.004099239834162687, 'sad': 0.17910414801414037, 'surprise': 4.838081617584035, 'neutral': 5.765697790301109}\n",
      "Label: angry\n"
     ]
    },
    {
     "name": "stderr",
     "output_type": "stream",
     "text": [
      "Action: emotion: 100%|██████████| 1/1 [00:00<00:00, 15.22it/s]\n"
     ]
    },
    {
     "name": "stdout",
     "output_type": "stream",
     "text": [
      "Emotion values: {'angry': 60.727630766912604, 'disgust': 0.0016780751866929942, 'happy': 3.0126737564595034, 'sad': 0.1276685936920531, 'surprise': 0.2377044358978348, 'neutral': 13.094243336410125}\n",
      "Label: angry\n"
     ]
    },
    {
     "name": "stderr",
     "output_type": "stream",
     "text": [
      "Action: emotion: 100%|██████████| 1/1 [00:00<00:00, 16.76it/s]\n"
     ]
    },
    {
     "name": "stdout",
     "output_type": "stream",
     "text": [
      "Emotion values: {'angry': 59.51644778251648, 'disgust': 0.005702451380784623, 'happy': 1.9776450470089912, 'sad': 1.408552285283804, 'surprise': 17.805619537830353, 'neutral': 16.912761330604553}\n",
      "Label: angry\n"
     ]
    },
    {
     "name": "stderr",
     "output_type": "stream",
     "text": [
      "Action: emotion: 100%|██████████| 1/1 [00:00<00:00, 18.22it/s]\n"
     ]
    },
    {
     "name": "stdout",
     "output_type": "stream",
     "text": [
      "Emotion values: {'angry': 59.51644778251648, 'disgust': 0.005702451380784623, 'happy': 1.9776450470089912, 'sad': 1.408552285283804, 'surprise': 17.805619537830353, 'neutral': 16.912761330604553}\n",
      "Label: angry\n"
     ]
    },
    {
     "name": "stderr",
     "output_type": "stream",
     "text": [
      "Action: emotion: 100%|██████████| 1/1 [00:00<00:00, 17.46it/s]\n"
     ]
    },
    {
     "name": "stdout",
     "output_type": "stream",
     "text": [
      "Emotion values: {'angry': 0.7905796181356451, 'disgust': 0.0015181638436740934, 'happy': 1.548790836935143, 'sad': 17.95734828202108, 'surprise': 0.019422565806739428, 'neutral': 76.55939180366896}\n",
      "Label: neutral\n"
     ]
    },
    {
     "name": "stderr",
     "output_type": "stream",
     "text": [
      "Action: emotion: 100%|██████████| 1/1 [00:00<00:00, 18.45it/s]\n"
     ]
    },
    {
     "name": "stdout",
     "output_type": "stream",
     "text": [
      "Emotion values: {'angry': 0.7905796181356451, 'disgust': 0.0015181638436740934, 'happy': 1.548790836935143, 'sad': 17.95734828202108, 'surprise': 0.019422565806739428, 'neutral': 76.55939180366896}\n",
      "Label: neutral\n"
     ]
    },
    {
     "name": "stderr",
     "output_type": "stream",
     "text": [
      "Action: emotion: 100%|██████████| 1/1 [00:00<00:00, 19.30it/s]\n"
     ]
    },
    {
     "name": "stdout",
     "output_type": "stream",
     "text": [
      "Emotion values: {'angry': 0.0024846767701092176, 'disgust': 7.770396770467869e-07, 'happy': 0.00011109921160823433, 'sad': 0.5949920974671841, 'surprise': 0.0004241572241880931, 'neutral': 99.36500191688538}\n",
      "Label: neutral\n"
     ]
    },
    {
     "name": "stderr",
     "output_type": "stream",
     "text": [
      "Action: emotion: 100%|██████████| 1/1 [00:00<00:00, 19.23it/s]\n"
     ]
    },
    {
     "name": "stdout",
     "output_type": "stream",
     "text": [
      "Emotion values: {'angry': 0.0024846767701092176, 'disgust': 7.770396770467869e-07, 'happy': 0.00011109921160823433, 'sad': 0.5949920974671841, 'surprise': 0.0004241572241880931, 'neutral': 99.36500191688538}\n",
      "Label: neutral\n"
     ]
    },
    {
     "name": "stderr",
     "output_type": "stream",
     "text": [
      "Action: emotion: 100%|██████████| 1/1 [00:00<00:00, 18.46it/s]\n"
     ]
    },
    {
     "name": "stdout",
     "output_type": "stream",
     "text": [
      "Emotion values: {'angry': 0.01248804182978347, 'disgust': 2.8138126495491633e-06, 'happy': 1.2375831204280985e-05, 'sad': 1.2784034945070744, 'surprise': 0.00015726496940260404, 'neutral': 98.66417646408081}\n",
      "Label: neutral\n"
     ]
    },
    {
     "name": "stderr",
     "output_type": "stream",
     "text": [
      "Action: emotion: 100%|██████████| 1/1 [00:00<00:00, 16.50it/s]\n"
     ]
    },
    {
     "name": "stdout",
     "output_type": "stream",
     "text": [
      "Emotion values: {'angry': 9.826580935623497e-05, 'disgust': 1.171447487624544e-10, 'happy': 2.1601689326189444e-06, 'sad': 0.02622181491460651, 'surprise': 0.0001491323587288207, 'neutral': 99.97323155403137}\n",
      "Label: neutral\n"
     ]
    },
    {
     "name": "stderr",
     "output_type": "stream",
     "text": [
      "Action: emotion: 100%|██████████| 1/1 [00:00<00:00, 18.80it/s]\n"
     ]
    },
    {
     "name": "stdout",
     "output_type": "stream",
     "text": [
      "Emotion values: {'angry': 9.917536090142676e-05, 'disgust': 1.911008677690784e-09, 'happy': 5.788390353700379e-05, 'sad': 0.04015093436464667, 'surprise': 0.0007466758688678965, 'neutral': 99.95617270469666}\n",
      "Label: neutral\n"
     ]
    },
    {
     "name": "stderr",
     "output_type": "stream",
     "text": [
      "Action: emotion: 100%|██████████| 1/1 [00:00<00:00, 17.42it/s]\n"
     ]
    },
    {
     "name": "stdout",
     "output_type": "stream",
     "text": [
      "Emotion values: {'angry': 0.001484265612816671, 'disgust': 1.4754377719583545e-07, 'happy': 0.00015660135659345542, 'sad': 0.3322976175695658, 'surprise': 0.0005513760697795078, 'neutral': 99.65207576751709}\n",
      "Label: neutral\n"
     ]
    },
    {
     "name": "stderr",
     "output_type": "stream",
     "text": [
      "Action: emotion: 100%|██████████| 1/1 [00:00<00:00, 19.03it/s]\n"
     ]
    },
    {
     "name": "stdout",
     "output_type": "stream",
     "text": [
      "Emotion values: {'angry': 0.0044178285766309396, 'disgust': 9.04982975875494e-08, 'happy': 1.3797409193764005e-05, 'sad': 0.484735081925099, 'surprise': 7.272433187250664e-05, 'neutral': 99.49846860757283}\n",
      "Label: neutral\n"
     ]
    },
    {
     "name": "stderr",
     "output_type": "stream",
     "text": [
      "Action: emotion: 100%|██████████| 1/1 [00:00<00:00, 18.55it/s]\n"
     ]
    },
    {
     "name": "stdout",
     "output_type": "stream",
     "text": [
      "Emotion values: {'angry': 0.0044178285766309396, 'disgust': 9.04982975875494e-08, 'happy': 1.3797409193764005e-05, 'sad': 0.484735081925099, 'surprise': 7.272433187250664e-05, 'neutral': 99.49846860757283}\n",
      "Label: neutral\n"
     ]
    },
    {
     "name": "stderr",
     "output_type": "stream",
     "text": [
      "Action: emotion: 100%|██████████| 1/1 [00:00<00:00, 16.89it/s]\n"
     ]
    },
    {
     "name": "stdout",
     "output_type": "stream",
     "text": [
      "Emotion values: {'angry': 0.0014867712707200553, 'disgust': 3.2423760898403486e-08, 'happy': 0.0018264714526594616, 'sad': 0.24262473452836275, 'surprise': 0.03442090819589794, 'neutral': 99.69567060470581}\n",
      "Label: neutral\n"
     ]
    },
    {
     "name": "stderr",
     "output_type": "stream",
     "text": [
      "Action: emotion: 100%|██████████| 1/1 [00:00<00:00, 17.00it/s]\n"
     ]
    },
    {
     "name": "stdout",
     "output_type": "stream",
     "text": [
      "Emotion values: {'angry': 0.042079773265868425, 'disgust': 6.407107093764353e-05, 'happy': 0.0007523166914324975, 'sad': 6.999978423118591, 'surprise': 0.004182297925581224, 'neutral': 92.39946007728577}\n",
      "Label: neutral\n"
     ]
    },
    {
     "name": "stderr",
     "output_type": "stream",
     "text": [
      "Action: emotion: 100%|██████████| 1/1 [00:00<00:00, 18.90it/s]\n"
     ]
    },
    {
     "name": "stdout",
     "output_type": "stream",
     "text": [
      "Emotion values: {'angry': 0.012697088823188096, 'disgust': 8.758588521118327e-07, 'happy': 3.081992758779961e-05, 'sad': 4.259322211146355, 'surprise': 0.00010743401617219206, 'neutral': 95.54880261421204}\n",
      "Label: neutral\n"
     ]
    },
    {
     "name": "stderr",
     "output_type": "stream",
     "text": [
      "Action: emotion: 100%|██████████| 1/1 [00:00<00:00, 18.82it/s]\n"
     ]
    },
    {
     "name": "stdout",
     "output_type": "stream",
     "text": [
      "Emotion values: {'angry': 0.0013586848780637007, 'disgust': 7.220880670803888e-09, 'happy': 2.2598794806009e-06, 'sad': 0.4961888180000999, 'surprise': 2.4134109786877126e-05, 'neutral': 99.49073201528405}\n",
      "Label: neutral\n"
     ]
    },
    {
     "name": "stderr",
     "output_type": "stream",
     "text": [
      "Action: emotion: 100%|██████████| 1/1 [00:00<00:00, 19.66it/s]\n"
     ]
    },
    {
     "name": "stdout",
     "output_type": "stream",
     "text": [
      "Emotion values: {'angry': 0.010269610968888832, 'disgust': 8.640224051635333e-08, 'happy': 1.1011532964541242e-05, 'sad': 7.030494185119521, 'surprise': 2.9590835369403964e-05, 'neutral': 92.8743536993476}\n",
      "Label: neutral\n"
     ]
    },
    {
     "name": "stderr",
     "output_type": "stream",
     "text": [
      "Action: emotion: 100%|██████████| 1/1 [00:00<00:00, 17.91it/s]\n"
     ]
    },
    {
     "name": "stdout",
     "output_type": "stream",
     "text": [
      "Emotion values: {'angry': 0.0015299996448447928, 'disgust': 1.4756214028466275e-07, 'happy': 1.8201747309376515e-05, 'sad': 1.479981653392315, 'surprise': 1.2319371478497487e-05, 'neutral': 98.46973419189453}\n",
      "Label: neutral\n"
     ]
    },
    {
     "name": "stderr",
     "output_type": "stream",
     "text": [
      "Action: emotion: 100%|██████████| 1/1 [00:00<00:00, 19.44it/s]\n"
     ]
    },
    {
     "name": "stdout",
     "output_type": "stream",
     "text": [
      "Emotion values: {'angry': 0.0004756150075717461, 'disgust': 1.7524617524739816e-08, 'happy': 3.143190002440042e-05, 'sad': 0.37847116982765017, 'surprise': 5.577926222535982e-05, 'neutral': 99.60358140489944}\n",
      "Label: neutral\n"
     ]
    },
    {
     "name": "stderr",
     "output_type": "stream",
     "text": [
      "Action: emotion: 100%|██████████| 1/1 [00:00<00:00, 18.26it/s]\n"
     ]
    },
    {
     "name": "stdout",
     "output_type": "stream",
     "text": [
      "Emotion values: {'angry': 0.0010994654985552188, 'disgust': 4.275069742654125e-08, 'happy': 5.31655416580179e-05, 'sad': 1.8091736361384392, 'surprise': 0.00010006714319388266, 'neutral': 98.09117317199707}\n",
      "Label: neutral\n"
     ]
    },
    {
     "name": "stderr",
     "output_type": "stream",
     "text": [
      "Action: emotion: 100%|██████████| 1/1 [00:00<00:00, 18.53it/s]\n"
     ]
    },
    {
     "name": "stdout",
     "output_type": "stream",
     "text": [
      "Emotion values: {'angry': 0.0017585157504491583, 'disgust': 2.1033112062259335e-07, 'happy': 0.00010646633152407731, 'sad': 2.0630921535546873, 'surprise': 0.0004781515884461828, 'neutral': 97.87956463572768}\n",
      "Label: neutral\n"
     ]
    },
    {
     "name": "stderr",
     "output_type": "stream",
     "text": [
      "Action: emotion: 100%|██████████| 1/1 [00:00<00:00, 19.62it/s]\n"
     ]
    },
    {
     "name": "stdout",
     "output_type": "stream",
     "text": [
      "Emotion values: {'angry': 0.0015687965060351416, 'disgust': 1.263140425589171e-08, 'happy': 1.5815961873499873e-06, 'sad': 0.4962396342307329, 'surprise': 1.3577903246186906e-05, 'neutral': 99.49712753295898}\n",
      "Label: neutral\n"
     ]
    },
    {
     "name": "stderr",
     "output_type": "stream",
     "text": [
      "Action: emotion: 100%|██████████| 1/1 [00:00<00:00, 19.08it/s]\n"
     ]
    },
    {
     "name": "stdout",
     "output_type": "stream",
     "text": [
      "Emotion values: {'angry': 0.0006671439678029856, 'disgust': 3.0599595773894706e-09, 'happy': 3.607030674146472e-07, 'sad': 0.3089008154347539, 'surprise': 3.3082255157523832e-06, 'neutral': 99.68854784965515}\n",
      "Label: neutral\n"
     ]
    },
    {
     "name": "stderr",
     "output_type": "stream",
     "text": [
      "Action: emotion: 100%|██████████| 1/1 [00:00<00:00, 18.27it/s]\n"
     ]
    },
    {
     "name": "stdout",
     "output_type": "stream",
     "text": [
      "Emotion values: {'angry': 0.0009639092240831815, 'disgust': 7.890418179945513e-09, 'happy': 2.65646571406819e-07, 'sad': 0.7396429311484098, 'surprise': 6.171890021278159e-06, 'neutral': 99.25642609596252}\n",
      "Label: neutral\n"
     ]
    },
    {
     "name": "stderr",
     "output_type": "stream",
     "text": [
      "Action: emotion: 100%|██████████| 1/1 [00:00<00:00, 17.19it/s]\n"
     ]
    },
    {
     "name": "stdout",
     "output_type": "stream",
     "text": [
      "Emotion values: {'angry': 0.002186529206112715, 'disgust': 4.2825144095720395e-07, 'happy': 3.277745399482815e-05, 'sad': 1.0337987284420405, 'surprise': 3.0311182602369923e-05, 'neutral': 98.94953357571764}\n",
      "Label: neutral\n"
     ]
    },
    {
     "name": "stderr",
     "output_type": "stream",
     "text": [
      "Action: emotion: 100%|██████████| 1/1 [00:00<00:00, 18.90it/s]\n"
     ]
    },
    {
     "name": "stdout",
     "output_type": "stream",
     "text": [
      "Emotion values: {'angry': 0.004962749881087802, 'disgust': 4.252856911080016e-06, 'happy': 0.0012518035873654298, 'sad': 3.438856452703476, 'surprise': 0.0008382814485230483, 'neutral': 96.44399285316467}\n",
      "Label: neutral\n"
     ]
    },
    {
     "name": "stderr",
     "output_type": "stream",
     "text": [
      "Action: emotion: 100%|██████████| 1/1 [00:00<00:00, 18.71it/s]\n"
     ]
    },
    {
     "name": "stdout",
     "output_type": "stream",
     "text": [
      "Emotion values: {'angry': 0.01426945673301816, 'disgust': 1.315530084866623e-05, 'happy': 0.0010687018402677495, 'sad': 16.021548211574554, 'surprise': 0.00019663059447339037, 'neutral': 83.45126509666443}\n",
      "Label: neutral\n"
     ]
    },
    {
     "name": "stderr",
     "output_type": "stream",
     "text": [
      "Action: emotion: 100%|██████████| 1/1 [00:00<00:00, 17.23it/s]\n"
     ]
    },
    {
     "name": "stdout",
     "output_type": "stream",
     "text": [
      "Emotion values: {'angry': 0.010303947783540934, 'disgust': 3.925833880202845e-06, 'happy': 0.0016393858459196053, 'sad': 6.5771326422691345, 'surprise': 0.0005155836788617307, 'neutral': 93.19536685943604}\n",
      "Label: neutral\n"
     ]
    },
    {
     "name": "stderr",
     "output_type": "stream",
     "text": [
      "Action: emotion: 100%|██████████| 1/1 [00:00<00:00, 17.50it/s]\n"
     ]
    },
    {
     "name": "stdout",
     "output_type": "stream",
     "text": [
      "Emotion values: {'angry': 0.014117403770796955, 'disgust': 1.2563651807795395e-05, 'happy': 0.007149318844312802, 'sad': 4.821806773543358, 'surprise': 0.002062261955870781, 'neutral': 94.84705328941345}\n",
      "Label: neutral\n"
     ]
    },
    {
     "name": "stderr",
     "output_type": "stream",
     "text": [
      "Action: emotion: 100%|██████████| 1/1 [00:00<00:00, 17.56it/s]\n"
     ]
    },
    {
     "name": "stdout",
     "output_type": "stream",
     "text": [
      "Emotion values: {'angry': 0.012889511708635837, 'disgust': 3.2731759347370826e-05, 'happy': 0.27271383441984653, 'sad': 1.6135171055793762, 'surprise': 0.02771061845123768, 'neutral': 97.57819175720215}\n",
      "Label: neutral\n"
     ]
    },
    {
     "name": "stderr",
     "output_type": "stream",
     "text": [
      "Action: emotion: 100%|██████████| 1/1 [00:00<00:00, 18.02it/s]\n"
     ]
    },
    {
     "name": "stdout",
     "output_type": "stream",
     "text": [
      "Emotion values: {'angry': 0.012255342153366655, 'disgust': 1.8082397801322259e-06, 'happy': 0.0004965525931766024, 'sad': 2.2412702441215515, 'surprise': 5.773174507339718e-05, 'neutral': 97.71073460578918}\n",
      "Label: neutral\n"
     ]
    },
    {
     "name": "stderr",
     "output_type": "stream",
     "text": [
      "Action: emotion: 100%|██████████| 1/1 [00:00<00:00, 18.03it/s]\n"
     ]
    },
    {
     "name": "stdout",
     "output_type": "stream",
     "text": [
      "Emotion values: {'angry': 0.005623315519187599, 'disgust': 4.5099963763561846e-07, 'happy': 1.7896516624205105e-05, 'sad': 0.47179111279547215, 'surprise': 4.089566232323705e-05, 'neutral': 99.51660633087158}\n",
      "Label: neutral\n"
     ]
    },
    {
     "name": "stderr",
     "output_type": "stream",
     "text": [
      "Action: emotion: 100%|██████████| 1/1 [00:00<00:00, 17.87it/s]\n"
     ]
    },
    {
     "name": "stdout",
     "output_type": "stream",
     "text": [
      "Emotion values: {'angry': 0.002590045887465064, 'disgust': 6.542946130751732e-07, 'happy': 0.002134359365188516, 'sad': 0.38532861476860136, 'surprise': 0.0006267576655547513, 'neutral': 99.57355854353658}\n",
      "Label: neutral\n"
     ]
    },
    {
     "name": "stderr",
     "output_type": "stream",
     "text": [
      "Action: emotion: 100%|██████████| 1/1 [00:00<00:00, 18.90it/s]\n"
     ]
    },
    {
     "name": "stdout",
     "output_type": "stream",
     "text": [
      "Emotion values: {'angry': 0.006911719950009209, 'disgust': 2.0305221826309223e-06, 'happy': 0.00240832537913958, 'sad': 0.6085438550885829, 'surprise': 0.0003527144354989043, 'neutral': 99.34727545662376}\n",
      "Label: neutral\n"
     ]
    },
    {
     "name": "stderr",
     "output_type": "stream",
     "text": [
      "Action: emotion: 100%|██████████| 1/1 [00:00<00:00, 16.15it/s]\n"
     ]
    },
    {
     "name": "stdout",
     "output_type": "stream",
     "text": [
      "Emotion values: {'angry': 0.08275905856862664, 'disgust': 0.0001942381686603767, 'happy': 0.08586945477873087, 'sad': 9.031729400157928, 'surprise': 0.003802551145781763, 'neutral': 90.5607521533966}\n",
      "Label: neutral\n"
     ]
    },
    {
     "name": "stderr",
     "output_type": "stream",
     "text": [
      "Action: emotion: 100%|██████████| 1/1 [00:00<00:00, 17.61it/s]\n"
     ]
    },
    {
     "name": "stdout",
     "output_type": "stream",
     "text": [
      "Emotion values: {'angry': 21.389905893200986, 'disgust': 0.004303395218837349, 'happy': 0.6885921993012547, 'sad': 49.54132434972074, 'surprise': 0.023628564621068663, 'neutral': 5.51834809889484}\n",
      "Label: sad\n"
     ]
    },
    {
     "name": "stderr",
     "output_type": "stream",
     "text": [
      "Action: emotion: 100%|██████████| 1/1 [00:00<00:00, 15.50it/s]\n"
     ]
    },
    {
     "name": "stdout",
     "output_type": "stream",
     "text": [
      "Emotion values: {'angry': 21.389905893200986, 'disgust': 0.004303395218837349, 'happy': 0.6885921993012547, 'sad': 49.54132434972074, 'surprise': 0.023628564621068663, 'neutral': 5.51834809889484}\n",
      "Label: sad\n"
     ]
    },
    {
     "name": "stderr",
     "output_type": "stream",
     "text": [
      "Action: emotion: 100%|██████████| 1/1 [00:00<00:00, 15.48it/s]\n"
     ]
    },
    {
     "name": "stdout",
     "output_type": "stream",
     "text": [
      "Emotion values: {'angry': 0.6228826474398375, 'disgust': 1.0314703047242801e-05, 'happy': 0.34012305550277233, 'sad': 75.60406923294067, 'surprise': 0.05241946782916784, 'neutral': 2.8494110330939293}\n",
      "Label: sad\n"
     ]
    },
    {
     "name": "stderr",
     "output_type": "stream",
     "text": [
      "Action: emotion: 100%|██████████| 1/1 [00:00<00:00, 13.34it/s]\n"
     ]
    },
    {
     "name": "stdout",
     "output_type": "stream",
     "text": [
      "Emotion values: {'angry': 0.21346202120184898, 'disgust': 0.00037163290471653454, 'happy': 0.009286279237130657, 'sad': 15.354491770267487, 'surprise': 0.0003127899390165112, 'neutral': 84.36044454574585}\n",
      "Label: neutral\n"
     ]
    },
    {
     "name": "stderr",
     "output_type": "stream",
     "text": [
      "Action: emotion: 100%|██████████| 1/1 [00:00<00:00, 13.88it/s]\n"
     ]
    },
    {
     "name": "stdout",
     "output_type": "stream",
     "text": [
      "Emotion values: {'angry': 0.02105599394774401, 'disgust': 4.0319539623288936e-05, 'happy': 0.00025318303559525106, 'sad': 5.461483774273621, 'surprise': 0.0002513006997735307, 'neutral': 94.4052692893308}\n",
      "Label: neutral\n"
     ]
    },
    {
     "name": "stderr",
     "output_type": "stream",
     "text": [
      "Action: emotion: 100%|██████████| 1/1 [00:00<00:00, 12.70it/s]\n"
     ]
    },
    {
     "name": "stdout",
     "output_type": "stream",
     "text": [
      "Emotion values: {'angry': 0.031154166208580136, 'disgust': 0.0001858145651567611, 'happy': 0.038389116525650024, 'sad': 44.62574124336243, 'surprise': 0.006036803824827075, 'neutral': 53.77151966094971}\n",
      "Label: neutral\n"
     ]
    },
    {
     "name": "stderr",
     "output_type": "stream",
     "text": [
      "Action: emotion: 100%|██████████| 1/1 [00:00<00:00, 15.23it/s]\n"
     ]
    },
    {
     "name": "stdout",
     "output_type": "stream",
     "text": [
      "Emotion values: {'angry': 0.010871402628254145, 'disgust': 4.651576830383419e-05, 'happy': 0.01307305647060275, 'sad': 9.997756779193878, 'surprise': 0.006208561535459012, 'neutral': 89.6123468875885}\n",
      "Label: neutral\n"
     ]
    },
    {
     "name": "stderr",
     "output_type": "stream",
     "text": [
      "Action: emotion: 100%|██████████| 1/1 [00:00<00:00, 16.83it/s]\n"
     ]
    },
    {
     "name": "stdout",
     "output_type": "stream",
     "text": [
      "Emotion values: {'angry': 0.010871402628254145, 'disgust': 4.651576830383419e-05, 'happy': 0.01307305647060275, 'sad': 9.997756779193878, 'surprise': 0.006208561535459012, 'neutral': 89.6123468875885}\n",
      "Label: neutral\n"
     ]
    },
    {
     "name": "stderr",
     "output_type": "stream",
     "text": [
      "Action: emotion: 100%|██████████| 1/1 [00:00<00:00,  7.43it/s]\n"
     ]
    },
    {
     "name": "stdout",
     "output_type": "stream",
     "text": [
      "Emotion values: {'angry': 0.004261212090090711, 'disgust': 1.223382582616112e-06, 'happy': 7.980953186161518e-05, 'sad': 0.5634993574322036, 'surprise': 0.00017849393007458603, 'neutral': 99.39982898237359}\n",
      "Label: neutral\n"
     ]
    },
    {
     "name": "stderr",
     "output_type": "stream",
     "text": [
      "Action: emotion: 100%|██████████| 1/1 [00:00<00:00, 15.60it/s]\n"
     ]
    },
    {
     "name": "stdout",
     "output_type": "stream",
     "text": [
      "Emotion values: {'angry': 0.01456457656876575, 'disgust': 2.3595647776138553e-05, 'happy': 0.0004678115498636585, 'sad': 7.431981571676544, 'surprise': 0.000669896973882045, 'neutral': 92.40079612722442}\n",
      "Label: neutral\n"
     ]
    },
    {
     "name": "stderr",
     "output_type": "stream",
     "text": [
      "Action: emotion: 100%|██████████| 1/1 [00:00<00:00, 16.71it/s]\n"
     ]
    },
    {
     "name": "stdout",
     "output_type": "stream",
     "text": [
      "Emotion values: {'angry': 0.015189217810984701, 'disgust': 3.5019920119339076e-05, 'happy': 0.01868576364358887, 'sad': 22.063639760017395, 'surprise': 0.0005228885129326954, 'neutral': 77.13467478752136}\n",
      "Label: neutral\n"
     ]
    },
    {
     "name": "stderr",
     "output_type": "stream",
     "text": [
      "Action: emotion: 100%|██████████| 1/1 [00:00<00:00, 18.07it/s]\n"
     ]
    },
    {
     "name": "stdout",
     "output_type": "stream",
     "text": [
      "Emotion values: {'angry': 0.00700904565746896, 'disgust': 3.470248657322372e-05, 'happy': 0.10286142351105809, 'sad': 23.844890296459198, 'surprise': 0.0024340204618056305, 'neutral': 74.78131055831909}\n",
      "Label: neutral\n"
     ]
    },
    {
     "name": "stderr",
     "output_type": "stream",
     "text": [
      "Action: emotion: 100%|██████████| 1/1 [00:00<00:00, 18.84it/s]\n"
     ]
    },
    {
     "name": "stdout",
     "output_type": "stream",
     "text": [
      "Emotion values: {'angry': 0.0368908338714391, 'disgust': 0.00036158949114906136, 'happy': 0.821978971362114, 'sad': 86.48076057434082, 'surprise': 0.008694401185493916, 'neutral': 7.186620682477951}\n",
      "Label: sad\n"
     ]
    },
    {
     "name": "stderr",
     "output_type": "stream",
     "text": [
      "Action: emotion: 100%|██████████| 1/1 [00:00<00:00, 16.89it/s]\n"
     ]
    },
    {
     "name": "stdout",
     "output_type": "stream",
     "text": [
      "Emotion values: {'angry': 0.03109187528025359, 'disgust': 0.00041791590774664655, 'happy': 0.17654519760981202, 'sad': 31.26528561115265, 'surprise': 0.00491287573822774, 'neutral': 66.39043688774109}\n",
      "Label: neutral\n"
     ]
    },
    {
     "name": "stderr",
     "output_type": "stream",
     "text": [
      "Action: emotion: 100%|██████████| 1/1 [00:00<00:00, 18.19it/s]\n"
     ]
    },
    {
     "name": "stdout",
     "output_type": "stream",
     "text": [
      "Emotion values: {'angry': 0.017530270904651542, 'disgust': 6.50792365195827e-05, 'happy': 0.1469878072984883, 'sad': 81.84522173943779, 'surprise': 0.0008053809374931828, 'neutral': 14.97386425422004}\n",
      "Label: sad\n"
     ]
    },
    {
     "name": "stderr",
     "output_type": "stream",
     "text": [
      "Action: emotion: 100%|██████████| 1/1 [00:00<00:00, 16.57it/s]\n"
     ]
    },
    {
     "name": "stdout",
     "output_type": "stream",
     "text": [
      "Emotion values: {'angry': 0.03106203406394476, 'disgust': 0.000780777237349882, 'happy': 5.519721240980699, 'sad': 89.75056944790896, 'surprise': 0.0029288239529190892, 'neutral': 2.2505746633156933}\n",
      "Label: sad\n"
     ]
    },
    {
     "name": "stderr",
     "output_type": "stream",
     "text": [
      "Action: emotion: 100%|██████████| 1/1 [00:00<00:00, 17.33it/s]\n"
     ]
    },
    {
     "name": "stdout",
     "output_type": "stream",
     "text": [
      "Emotion values: {'angry': 0.020125757657366822, 'disgust': 0.00018149207900157327, 'happy': 5.0989919782886535, 'sad': 80.60794107819306, 'surprise': 0.003038821707100907, 'neutral': 2.8013823939702043}\n",
      "Label: sad\n"
     ]
    },
    {
     "name": "stderr",
     "output_type": "stream",
     "text": [
      "Action: emotion: 100%|██████████| 1/1 [00:00<00:00, 17.32it/s]\n"
     ]
    },
    {
     "name": "stdout",
     "output_type": "stream",
     "text": [
      "Emotion values: {'angry': 0.07236833916977048, 'disgust': 0.0030792143661528826, 'happy': 1.1823831126093864, 'sad': 49.686408042907715, 'surprise': 0.006396241951733828, 'neutral': 20.521146059036255}\n",
      "Label: sad\n"
     ]
    },
    {
     "name": "stderr",
     "output_type": "stream",
     "text": [
      "Action: emotion: 100%|██████████| 1/1 [00:00<00:00, 18.61it/s]\n"
     ]
    },
    {
     "name": "stdout",
     "output_type": "stream",
     "text": [
      "Emotion values: {'angry': 0.020922152907587588, 'disgust': 4.3414711825562335e-06, 'happy': 0.1651780679821968, 'sad': 73.97721409797668, 'surprise': 0.00038703769860148896, 'neutral': 24.757489562034607}\n",
      "Label: sad\n"
     ]
    },
    {
     "name": "stderr",
     "output_type": "stream",
     "text": [
      "Action: emotion: 100%|██████████| 1/1 [00:00<00:00, 16.75it/s]\n"
     ]
    },
    {
     "name": "stdout",
     "output_type": "stream",
     "text": [
      "Emotion values: {'angry': 0.023670731841257144, 'disgust': 3.6446972647192886e-05, 'happy': 0.2825493354664045, 'sad': 91.60926442035861, 'surprise': 0.00017915158561503938, 'neutral': 4.24238094778288}\n",
      "Label: sad\n"
     ]
    },
    {
     "name": "stderr",
     "output_type": "stream",
     "text": [
      "Action: emotion: 100%|██████████| 1/1 [00:00<00:00, 17.97it/s]\n"
     ]
    },
    {
     "name": "stdout",
     "output_type": "stream",
     "text": [
      "Emotion values: {'angry': 0.04649319453164935, 'disgust': 1.9585961297252652e-05, 'happy': 0.8393437601625919, 'sad': 39.310985803604126, 'surprise': 0.002552769183239434, 'neutral': 58.418208360672}\n",
      "Label: neutral\n"
     ]
    },
    {
     "name": "stderr",
     "output_type": "stream",
     "text": [
      "Action: emotion: 100%|██████████| 1/1 [00:00<00:00, 18.01it/s]\n"
     ]
    },
    {
     "name": "stdout",
     "output_type": "stream",
     "text": [
      "Emotion values: {'angry': 0.03586832240277215, 'disgust': 3.480266948902476e-05, 'happy': 0.11120653442779388, 'sad': 70.26164354453347, 'surprise': 0.00044902497341108813, 'neutral': 20.236172988186656}\n",
      "Label: sad\n"
     ]
    },
    {
     "name": "stderr",
     "output_type": "stream",
     "text": [
      "Action: emotion: 100%|██████████| 1/1 [00:00<00:00, 16.88it/s]\n"
     ]
    },
    {
     "name": "stdout",
     "output_type": "stream",
     "text": [
      "Emotion values: {'angry': 0.03340996045153588, 'disgust': 1.5686178755913716e-05, 'happy': 0.28307181783020496, 'sad': 65.66736102104187, 'surprise': 0.0001380251546834188, 'neutral': 31.630995869636536}\n",
      "Label: sad\n"
     ]
    },
    {
     "name": "stderr",
     "output_type": "stream",
     "text": [
      "Action: emotion: 100%|██████████| 1/1 [00:00<00:00, 19.51it/s]\n"
     ]
    },
    {
     "name": "stdout",
     "output_type": "stream",
     "text": [
      "Emotion values: {'angry': 0.025846908101812005, 'disgust': 2.0694797342457605e-05, 'happy': 1.0005810298025608, 'sad': 6.073323637247086, 'surprise': 0.00836098042782396, 'neutral': 87.92141079902649}\n",
      "Label: neutral\n"
     ]
    },
    {
     "name": "stderr",
     "output_type": "stream",
     "text": [
      "Action: emotion: 100%|██████████| 1/1 [00:00<00:00, 18.31it/s]\n"
     ]
    },
    {
     "name": "stdout",
     "output_type": "stream",
     "text": [
      "Emotion values: {'angry': 0.07792756659910083, 'disgust': 0.00022426652321883012, 'happy': 1.1435122229158878, 'sad': 45.39158642292023, 'surprise': 0.004205107688903809, 'neutral': 45.521992444992065}\n",
      "Label: neutral\n"
     ]
    },
    {
     "name": "stderr",
     "output_type": "stream",
     "text": [
      "Action: emotion: 100%|██████████| 1/1 [00:00<00:00, 19.03it/s]\n"
     ]
    },
    {
     "name": "stdout",
     "output_type": "stream",
     "text": [
      "Emotion values: {'angry': 0.006618093175347894, 'disgust': 3.209025711825575e-07, 'happy': 4.304000735282898, 'sad': 22.226133942604065, 'surprise': 0.003793429641518742, 'neutral': 70.78603506088257}\n",
      "Label: neutral\n"
     ]
    },
    {
     "name": "stderr",
     "output_type": "stream",
     "text": [
      "Action: emotion: 100%|██████████| 1/1 [00:00<00:00, 16.99it/s]\n"
     ]
    },
    {
     "name": "stdout",
     "output_type": "stream",
     "text": [
      "Emotion values: {'angry': 0.12413411168381572, 'disgust': 0.00013615033367386786, 'happy': 0.33834504429250956, 'sad': 44.30469274520874, 'surprise': 0.0008150615940394346, 'neutral': 49.204930663108826}\n",
      "Label: neutral\n"
     ]
    },
    {
     "name": "stderr",
     "output_type": "stream",
     "text": [
      "Action: emotion: 100%|██████████| 1/1 [00:00<00:00, 16.46it/s]\n"
     ]
    },
    {
     "name": "stdout",
     "output_type": "stream",
     "text": [
      "Emotion values: {'angry': 0.06145165384205832, 'disgust': 7.153546732634206e-05, 'happy': 0.1716198078660896, 'sad': 49.88312126599297, 'surprise': 0.0059673355443459475, 'neutral': 43.38633198901034}\n",
      "Label: sad\n"
     ]
    },
    {
     "name": "stderr",
     "output_type": "stream",
     "text": [
      "Action: emotion: 100%|██████████| 1/1 [00:00<00:00, 17.24it/s]\n"
     ]
    },
    {
     "name": "stdout",
     "output_type": "stream",
     "text": [
      "Emotion values: {'angry': 0.02364027895964682, 'disgust': 1.5722307011856174e-06, 'happy': 0.14809385174885392, 'sad': 9.742232412099838, 'surprise': 0.0008792957487457898, 'neutral': 89.71195816993713}\n",
      "Label: neutral\n"
     ]
    },
    {
     "name": "stderr",
     "output_type": "stream",
     "text": [
      "Action: emotion: 100%|██████████| 1/1 [00:00<00:00, 16.87it/s]\n"
     ]
    },
    {
     "name": "stdout",
     "output_type": "stream",
     "text": [
      "Emotion values: {'angry': 0.06183137884363532, 'disgust': 1.3589762204446743e-05, 'happy': 1.986643671989441, 'sad': 16.45517498254776, 'surprise': 0.009704382682684809, 'neutral': 74.58313703536987}\n",
      "Label: neutral\n"
     ]
    },
    {
     "name": "stderr",
     "output_type": "stream",
     "text": [
      "Action: emotion: 100%|██████████| 1/1 [00:00<00:00, 17.52it/s]\n"
     ]
    },
    {
     "name": "stdout",
     "output_type": "stream",
     "text": [
      "Emotion values: {'angry': 0.039605050729329926, 'disgust': 7.337513789817698e-06, 'happy': 1.058628473200111, 'sad': 51.67017291010457, 'surprise': 0.0018433723387781807, 'neutral': 26.165647874215118}\n",
      "Label: sad\n"
     ]
    },
    {
     "name": "stderr",
     "output_type": "stream",
     "text": [
      "Action: emotion: 100%|██████████| 1/1 [00:00<00:00, 17.30it/s]\n"
     ]
    },
    {
     "name": "stdout",
     "output_type": "stream",
     "text": [
      "Emotion values: {'angry': 0.012335048093873148, 'disgust': 1.0084762071451193e-06, 'happy': 1.4945114922232325, 'sad': 56.29023649038294, 'surprise': 0.000998248711240401, 'neutral': 32.1169991562962}\n",
      "Label: sad\n"
     ]
    },
    {
     "name": "stderr",
     "output_type": "stream",
     "text": [
      "Action: emotion: 100%|██████████| 1/1 [00:00<00:00, 18.42it/s]\n"
     ]
    },
    {
     "name": "stdout",
     "output_type": "stream",
     "text": [
      "Emotion values: {'angry': 0.01130064410972409, 'disgust': 7.237433763407353e-07, 'happy': 0.26681695599108934, 'sad': 22.681522369384766, 'surprise': 0.0004476166850508889, 'neutral': 75.35337209701538}\n",
      "Label: neutral\n"
     ]
    },
    {
     "name": "stderr",
     "output_type": "stream",
     "text": [
      "Action: emotion: 100%|██████████| 1/1 [00:00<00:00, 17.51it/s]\n"
     ]
    },
    {
     "name": "stdout",
     "output_type": "stream",
     "text": [
      "Emotion values: {'angry': 0.016337796114385128, 'disgust': 8.079714675091054e-07, 'happy': 0.8888778276741505, 'sad': 3.967117518186569, 'surprise': 0.007911238208180293, 'neutral': 94.00206804275513}\n",
      "Label: neutral\n"
     ]
    },
    {
     "name": "stderr",
     "output_type": "stream",
     "text": [
      "Action: emotion: 100%|██████████| 1/1 [00:00<00:00, 19.48it/s]\n"
     ]
    },
    {
     "name": "stdout",
     "output_type": "stream",
     "text": [
      "Emotion values: {'angry': 0.057921744883060455, 'disgust': 4.260217281171208e-05, 'happy': 0.9241760708391666, 'sad': 19.708791375160217, 'surprise': 0.013962561206426471, 'neutral': 67.1349048614502}\n",
      "Label: neutral\n"
     ]
    },
    {
     "name": "stderr",
     "output_type": "stream",
     "text": [
      "Action: emotion: 100%|██████████| 1/1 [00:00<00:00, 19.54it/s]\n"
     ]
    },
    {
     "name": "stdout",
     "output_type": "stream",
     "text": [
      "Emotion values: {'angry': 0.04765412595588714, 'disgust': 2.0609749640243535e-05, 'happy': 0.9452641010284424, 'sad': 37.48297989368439, 'surprise': 0.007467941759387031, 'neutral': 35.5523407459259}\n",
      "Label: sad\n"
     ]
    },
    {
     "name": "stderr",
     "output_type": "stream",
     "text": [
      "Action: emotion: 100%|██████████| 1/1 [00:00<00:00, 18.16it/s]\n"
     ]
    },
    {
     "name": "stdout",
     "output_type": "stream",
     "text": [
      "Emotion values: {'angry': 0.012718571754659354, 'disgust': 4.322994335639338e-07, 'happy': 1.286261189131595, 'sad': 33.01609062956683, 'surprise': 0.0032521540322101527, 'neutral': 51.066905132901056}\n",
      "Label: neutral\n"
     ]
    },
    {
     "name": "stderr",
     "output_type": "stream",
     "text": [
      "Action: emotion: 100%|██████████| 1/1 [00:00<00:00, 17.10it/s]\n"
     ]
    },
    {
     "name": "stdout",
     "output_type": "stream",
     "text": [
      "Emotion values: {'angry': 0.008366732072317973, 'disgust': 1.6951875458914856e-07, 'happy': 0.28203530237078667, 'sad': 37.25878298282623, 'surprise': 0.0008825109034660272, 'neutral': 54.45126295089722}\n",
      "Label: neutral\n"
     ]
    },
    {
     "name": "stderr",
     "output_type": "stream",
     "text": [
      "Action: emotion: 100%|██████████| 1/1 [00:00<00:00, 17.75it/s]\n"
     ]
    },
    {
     "name": "stdout",
     "output_type": "stream",
     "text": [
      "Emotion values: {'angry': 0.09450753568671644, 'disgust': 2.6546700837570825e-05, 'happy': 1.049856934696436, 'sad': 18.417710065841675, 'surprise': 0.004799877569894306, 'neutral': 67.56439805030823}\n",
      "Label: neutral\n"
     ]
    },
    {
     "name": "stderr",
     "output_type": "stream",
     "text": [
      "Action: emotion: 100%|██████████| 1/1 [00:00<00:00, 16.23it/s]\n"
     ]
    },
    {
     "name": "stdout",
     "output_type": "stream",
     "text": [
      "Emotion values: {'angry': 0.016863208570746097, 'disgust': 1.774480401802382e-06, 'happy': 2.511348352512619, 'sad': 18.824815382052385, 'surprise': 0.010210861245631352, 'neutral': 18.6899509245128}\n",
      "Label: sad\n"
     ]
    },
    {
     "name": "stderr",
     "output_type": "stream",
     "text": [
      "Action: emotion: 100%|██████████| 1/1 [00:00<00:00, 16.88it/s]\n"
     ]
    },
    {
     "name": "stdout",
     "output_type": "stream",
     "text": [
      "Emotion values: {'angry': 0.07387163350358605, 'disgust': 1.0200031397289422e-05, 'happy': 0.6316051818430424, 'sad': 18.252454698085785, 'surprise': 0.002703284553717822, 'neutral': 56.996625661849976}\n",
      "Label: neutral\n"
     ]
    },
    {
     "name": "stderr",
     "output_type": "stream",
     "text": [
      "Action: emotion: 100%|██████████| 1/1 [00:00<00:00, 15.82it/s]\n"
     ]
    },
    {
     "name": "stdout",
     "output_type": "stream",
     "text": [
      "Emotion values: {'angry': 0.040080249891616404, 'disgust': 2.5429582706237852e-05, 'happy': 0.21559016313403845, 'sad': 39.87797200679779, 'surprise': 0.0038906502595636994, 'neutral': 46.13965451717377}\n",
      "Label: neutral\n"
     ]
    },
    {
     "name": "stderr",
     "output_type": "stream",
     "text": [
      "Action: emotion: 100%|██████████| 1/1 [00:00<00:00, 17.07it/s]\n"
     ]
    },
    {
     "name": "stdout",
     "output_type": "stream",
     "text": [
      "Emotion values: {'angry': 0.03526556166540454, 'disgust': 6.6897197549837745e-06, 'happy': 0.4432065210912538, 'sad': 35.56188854944042, 'surprise': 0.005829940693794009, 'neutral': 45.708879572682356}\n",
      "Label: neutral\n"
     ]
    },
    {
     "name": "stderr",
     "output_type": "stream",
     "text": [
      "Action: emotion: 100%|██████████| 1/1 [00:00<00:00, 16.15it/s]\n"
     ]
    },
    {
     "name": "stdout",
     "output_type": "stream",
     "text": [
      "Emotion values: {'angry': 0.033035751102886965, 'disgust': 7.081926733469754e-06, 'happy': 0.47454148461920204, 'sad': 35.8403997611523, 'surprise': 0.00413984549357535, 'neutral': 30.201052999370933}\n",
      "Label: sad\n"
     ]
    },
    {
     "name": "stderr",
     "output_type": "stream",
     "text": [
      "Action: emotion: 100%|██████████| 1/1 [00:00<00:00, 18.51it/s]\n"
     ]
    },
    {
     "name": "stdout",
     "output_type": "stream",
     "text": [
      "Emotion values: {'angry': 0.07065472891554236, 'disgust': 4.671450710702629e-05, 'happy': 0.5498748272657394, 'sad': 11.933904886245728, 'surprise': 0.020105164730921388, 'neutral': 74.37330484390259}\n",
      "Label: neutral\n"
     ]
    },
    {
     "name": "stderr",
     "output_type": "stream",
     "text": [
      "Action: emotion: 100%|██████████| 1/1 [00:00<00:00, 16.97it/s]\n"
     ]
    },
    {
     "name": "stdout",
     "output_type": "stream",
     "text": [
      "Emotion values: {'angry': 0.052513304399326444, 'disgust': 4.393082519982272e-05, 'happy': 0.5246181972324848, 'sad': 47.207602858543396, 'surprise': 0.005412062819232233, 'neutral': 22.53030836582184}\n",
      "Label: sad\n"
     ]
    },
    {
     "name": "stderr",
     "output_type": "stream",
     "text": [
      "Action: emotion: 100%|██████████| 1/1 [00:00<00:00, 17.75it/s]\n"
     ]
    },
    {
     "name": "stdout",
     "output_type": "stream",
     "text": [
      "Emotion values: {'angry': 0.050612757438064065, 'disgust': 2.044337585609999e-05, 'happy': 1.3177930231567039, 'sad': 46.329816957105216, 'surprise': 0.005295503021485353, 'neutral': 27.886112206346525}\n",
      "Label: sad\n"
     ]
    },
    {
     "name": "stderr",
     "output_type": "stream",
     "text": [
      "Action: emotion: 100%|██████████| 1/1 [00:00<00:00, 17.81it/s]\n"
     ]
    },
    {
     "name": "stdout",
     "output_type": "stream",
     "text": [
      "Emotion values: {'angry': 0.03897145215887576, 'disgust': 1.7573647426161187e-05, 'happy': 0.5003758706152439, 'sad': 34.543707966804504, 'surprise': 0.006566464435309172, 'neutral': 25.79992115497589}\n",
      "Label: sad\n"
     ]
    },
    {
     "name": "stderr",
     "output_type": "stream",
     "text": [
      "Action: emotion: 100%|██████████| 1/1 [00:00<00:00, 18.75it/s]\n"
     ]
    },
    {
     "name": "stdout",
     "output_type": "stream",
     "text": [
      "Emotion values: {'angry': 0.020355707965791225, 'disgust': 5.719712703466939e-07, 'happy': 0.30215575825423, 'sad': 8.342793583869934, 'surprise': 0.003263821781729348, 'neutral': 88.80149126052856}\n",
      "Label: neutral\n"
     ]
    },
    {
     "name": "stderr",
     "output_type": "stream",
     "text": [
      "Action: emotion: 100%|██████████| 1/1 [00:00<00:00, 17.02it/s]\n"
     ]
    },
    {
     "name": "stdout",
     "output_type": "stream",
     "text": [
      "Emotion values: {'angry': 0.05362592694733166, 'disgust': 2.606676927518818e-05, 'happy': 1.8523330214420584, 'sad': 15.093693446361238, 'surprise': 0.013396614081940244, 'neutral': 60.27913812150218}\n",
      "Label: neutral\n"
     ]
    },
    {
     "name": "stderr",
     "output_type": "stream",
     "text": [
      "Action: emotion: 100%|██████████| 1/1 [00:00<00:00, 16.96it/s]\n"
     ]
    },
    {
     "name": "stdout",
     "output_type": "stream",
     "text": [
      "Emotion values: {'angry': 0.04068056005053222, 'disgust': 6.838419608357071e-06, 'happy': 1.4537500217556953, 'sad': 37.15273439884186, 'surprise': 0.005699338726117276, 'neutral': 37.382882833480835}\n",
      "Label: neutral\n"
     ]
    },
    {
     "name": "stderr",
     "output_type": "stream",
     "text": [
      "Action: emotion: 100%|██████████| 1/1 [00:00<00:00, 18.44it/s]\n"
     ]
    },
    {
     "name": "stdout",
     "output_type": "stream",
     "text": [
      "Emotion values: {'angry': 0.03386605822015554, 'disgust': 2.1032212416116636e-06, 'happy': 1.588003896176815, 'sad': 15.722401440143585, 'surprise': 0.008860311936587095, 'neutral': 60.189735889434814}\n",
      "Label: neutral\n"
     ]
    },
    {
     "name": "stderr",
     "output_type": "stream",
     "text": [
      "Action: emotion: 100%|██████████| 1/1 [00:00<00:00, 17.50it/s]\n"
     ]
    },
    {
     "name": "stdout",
     "output_type": "stream",
     "text": [
      "Emotion values: {'angry': 0.07393345003947616, 'disgust': 1.595482643779178e-05, 'happy': 1.7475755885243416, 'sad': 15.045906603336334, 'surprise': 0.011042993719456717, 'neutral': 66.81232452392578}\n",
      "Label: neutral\n"
     ]
    },
    {
     "name": "stderr",
     "output_type": "stream",
     "text": [
      "Action: emotion: 100%|██████████| 1/1 [00:00<00:00, 15.35it/s]\n"
     ]
    },
    {
     "name": "stdout",
     "output_type": "stream",
     "text": [
      "Emotion values: {'angry': 0.024273875169456005, 'disgust': 7.594408657496388e-07, 'happy': 0.4662228748202324, 'sad': 43.92677843570709, 'surprise': 0.0009960936949937604, 'neutral': 48.74050319194794}\n",
      "Label: neutral\n"
     ]
    },
    {
     "name": "stderr",
     "output_type": "stream",
     "text": [
      "Action: emotion: 100%|██████████| 1/1 [00:00<00:00, 16.86it/s]\n"
     ]
    },
    {
     "name": "stdout",
     "output_type": "stream",
     "text": [
      "Emotion values: {'angry': 0.12779491551115604, 'disgust': 2.5607493209003154e-07, 'happy': 0.16993112943656025, 'sad': 12.103222286893265, 'surprise': 0.00010882878962748106, 'neutral': 87.15209884358042}\n",
      "Label: neutral\n"
     ]
    },
    {
     "name": "stderr",
     "output_type": "stream",
     "text": [
      "Action: emotion: 100%|██████████| 1/1 [00:00<00:00, 17.99it/s]\n"
     ]
    },
    {
     "name": "stdout",
     "output_type": "stream",
     "text": [
      "Emotion values: {'angry': 1.4393960125744343, 'disgust': 0.00046852755986037664, 'happy': 0.11591375805437565, 'sad': 45.6682413816452, 'surprise': 0.00014868936659695464, 'neutral': 48.80410134792328}\n",
      "Label: neutral\n"
     ]
    },
    {
     "name": "stderr",
     "output_type": "stream",
     "text": [
      "Action: emotion: 100%|██████████| 1/1 [00:00<00:00, 18.40it/s]\n"
     ]
    },
    {
     "name": "stdout",
     "output_type": "stream",
     "text": [
      "Emotion values: {'angry': 0.19501382485032082, 'disgust': 8.543050711296019e-06, 'happy': 0.0006422164005925879, 'sad': 91.96348190307617, 'surprise': 6.394957008382107e-07, 'neutral': 5.112621933221817}\n",
      "Label: sad\n"
     ]
    },
    {
     "name": "stderr",
     "output_type": "stream",
     "text": [
      "Action: emotion: 100%|██████████| 1/1 [00:00<00:00, 17.74it/s]\n"
     ]
    },
    {
     "name": "stdout",
     "output_type": "stream",
     "text": [
      "Emotion values: {'angry': 0.8374704048037529, 'disgust': 6.785877531001461e-05, 'happy': 0.0011354516573192086, 'sad': 68.16012263298035, 'surprise': 7.908011667723258e-06, 'neutral': 26.680174469947815}\n",
      "Label: sad\n"
     ]
    },
    {
     "name": "stderr",
     "output_type": "stream",
     "text": [
      "Action: emotion: 100%|██████████| 1/1 [00:00<00:00, 16.85it/s]\n"
     ]
    },
    {
     "name": "stdout",
     "output_type": "stream",
     "text": [
      "Emotion values: {'angry': 0.009796815280344005, 'disgust': 7.583422984831674e-08, 'happy': 0.003001791998530388, 'sad': 35.23920652398985, 'surprise': 5.693415193379846e-06, 'neutral': 0.05880528359946208}\n",
      "Label: sad\n"
     ]
    },
    {
     "name": "stderr",
     "output_type": "stream",
     "text": [
      "Action: emotion: 100%|██████████| 1/1 [00:00<00:00, 18.40it/s]\n"
     ]
    },
    {
     "name": "stdout",
     "output_type": "stream",
     "text": [
      "Emotion values: {'angry': 0.009253853932023048, 'disgust': 2.188978304173972e-08, 'happy': 0.00047962394091882743, 'sad': 68.61826777458191, 'surprise': 4.882766635461167e-07, 'neutral': 0.09461665176786482}\n",
      "Label: sad\n"
     ]
    },
    {
     "name": "stderr",
     "output_type": "stream",
     "text": [
      "Action: emotion: 100%|██████████| 1/1 [00:00<00:00, 18.70it/s]\n"
     ]
    },
    {
     "name": "stdout",
     "output_type": "stream",
     "text": [
      "Emotion values: {'angry': 0.10533458461721723, 'disgust': 1.0996618126365564e-05, 'happy': 0.0072217421379098725, 'sad': 82.72073474875275, 'surprise': 3.444352090393188e-05, 'neutral': 4.316237054319733}\n",
      "Label: sad\n"
     ]
    },
    {
     "name": "stderr",
     "output_type": "stream",
     "text": [
      "Action: emotion: 100%|██████████| 1/1 [00:00<00:00, 18.36it/s]\n"
     ]
    },
    {
     "name": "stdout",
     "output_type": "stream",
     "text": [
      "Emotion values: {'angry': 0.29789998661726713, 'disgust': 4.413528245095222e-05, 'happy': 0.003412911610212177, 'sad': 80.9863805770874, 'surprise': 2.779950705189549e-05, 'neutral': 9.616407006978989}\n",
      "Label: sad\n"
     ]
    },
    {
     "name": "stderr",
     "output_type": "stream",
     "text": [
      "Action: emotion: 100%|██████████| 1/1 [00:00<00:00, 19.02it/s]\n"
     ]
    },
    {
     "name": "stdout",
     "output_type": "stream",
     "text": [
      "Emotion values: {'angry': 1.7711250111460686, 'disgust': 0.0071960130298975855, 'happy': 0.009661561489338055, 'sad': 48.21297824382782, 'surprise': 0.0004354862994659925, 'neutral': 23.4536349773407}\n",
      "Label: sad\n"
     ]
    },
    {
     "name": "stderr",
     "output_type": "stream",
     "text": [
      "Action: emotion: 100%|██████████| 1/1 [00:00<00:00, 14.97it/s]\n"
     ]
    },
    {
     "name": "stdout",
     "output_type": "stream",
     "text": [
      "Emotion values: {'angry': 0.42450076636676587, 'disgust': 0.0002788496824675283, 'happy': 0.01191639019539484, 'sad': 54.82703178090046, 'surprise': 0.00039778804063593, 'neutral': 6.885315888244861}\n",
      "Label: sad\n"
     ]
    },
    {
     "name": "stderr",
     "output_type": "stream",
     "text": [
      "Action: emotion: 100%|██████████| 1/1 [00:00<00:00, 17.14it/s]\n"
     ]
    },
    {
     "name": "stdout",
     "output_type": "stream",
     "text": [
      "Emotion values: {'angry': 0.3197247712642227, 'disgust': 0.0002535602941546541, 'happy': 0.006547194008677422, 'sad': 80.07681011237977, 'surprise': 7.03434950809764e-05, 'neutral': 6.412623803302789}\n",
      "Label: sad\n"
     ]
    },
    {
     "name": "stderr",
     "output_type": "stream",
     "text": [
      "Action: emotion: 100%|██████████| 1/1 [00:00<00:00, 15.67it/s]\n"
     ]
    },
    {
     "name": "stdout",
     "output_type": "stream",
     "text": [
      "Emotion values: {'angry': 0.08344328962266445, 'disgust': 1.7464541812728385e-06, 'happy': 0.0031567000405630097, 'sad': 82.01346397399902, 'surprise': 3.304015478988731e-05, 'neutral': 11.47240400314331}\n",
      "Label: sad\n"
     ]
    },
    {
     "name": "stderr",
     "output_type": "stream",
     "text": [
      "Action: emotion: 100%|██████████| 1/1 [00:00<00:00, 17.12it/s]\n"
     ]
    },
    {
     "name": "stdout",
     "output_type": "stream",
     "text": [
      "Emotion values: {'angry': 0.6882800831460854, 'disgust': 0.0005767903752702586, 'happy': 0.004136207151404102, 'sad': 57.79949929720172, 'surprise': 9.28221428090329e-05, 'neutral': 30.803381704880987}\n",
      "Label: sad\n"
     ]
    },
    {
     "name": "stderr",
     "output_type": "stream",
     "text": [
      "Action: emotion: 100%|██████████| 1/1 [00:00<00:00, 16.45it/s]\n"
     ]
    },
    {
     "name": "stdout",
     "output_type": "stream",
     "text": [
      "Emotion values: {'angry': 0.6882800831460854, 'disgust': 0.0005767903752702586, 'happy': 0.004136207151404102, 'sad': 57.79949929720172, 'surprise': 9.28221428090329e-05, 'neutral': 30.803381704880987}\n",
      "Label: sad\n"
     ]
    },
    {
     "name": "stderr",
     "output_type": "stream",
     "text": [
      "Action: emotion: 100%|██████████| 1/1 [00:00<00:00, 17.01it/s]\n"
     ]
    },
    {
     "name": "stdout",
     "output_type": "stream",
     "text": [
      "Emotion values: {'angry': 1.324073253682464, 'disgust': 0.005971054285839248, 'happy': 0.032493779636729704, 'sad': 50.17814038060422, 'surprise': 0.0008032490720475267, 'neutral': 17.853193837023515}\n",
      "Label: sad\n"
     ]
    },
    {
     "name": "stderr",
     "output_type": "stream",
     "text": [
      "Action: emotion: 100%|██████████| 1/1 [00:00<00:00, 17.28it/s]\n"
     ]
    },
    {
     "name": "stdout",
     "output_type": "stream",
     "text": [
      "Emotion values: {'angry': 0.611923019553603, 'disgust': 0.004701484711510149, 'happy': 0.008840616446267303, 'sad': 70.9334594567692, 'surprise': 0.0002495219554045169, 'neutral': 2.6936316605586805}\n",
      "Label: sad\n"
     ]
    },
    {
     "name": "stderr",
     "output_type": "stream",
     "text": [
      "Action: emotion: 100%|██████████| 1/1 [00:00<00:00, 16.34it/s]\n"
     ]
    },
    {
     "name": "stdout",
     "output_type": "stream",
     "text": [
      "Emotion values: {'angry': 0.054747372632846236, 'disgust': 2.0438008618839376e-05, 'happy': 0.0015291647287085652, 'sad': 85.69109439849854, 'surprise': 8.983435151321828e-06, 'neutral': 0.4503185395151377}\n",
      "Label: sad\n"
     ]
    },
    {
     "name": "stderr",
     "output_type": "stream",
     "text": [
      "Action: emotion: 100%|██████████| 1/1 [00:00<00:00, 17.59it/s]\n"
     ]
    },
    {
     "name": "stdout",
     "output_type": "stream",
     "text": [
      "Emotion values: {'angry': 0.10850559920072556, 'disgust': 2.8189495537844778e-05, 'happy': 0.0004069964688824257, 'sad': 91.1522924900055, 'surprise': 1.413606725009231e-05, 'neutral': 0.8037297986447811}\n",
      "Label: sad\n"
     ]
    },
    {
     "name": "stderr",
     "output_type": "stream",
     "text": [
      "Action: emotion: 100%|██████████| 1/1 [00:00<00:00, 18.47it/s]\n"
     ]
    },
    {
     "name": "stdout",
     "output_type": "stream",
     "text": [
      "Emotion values: {'angry': 0.0223826179234195, 'disgust': 5.887694594190137e-06, 'happy': 0.006826794240078732, 'sad': 71.75890038960578, 'surprise': 1.7942526756888978e-05, 'neutral': 0.22355610440260795}\n",
      "Label: sad\n"
     ]
    },
    {
     "name": "stderr",
     "output_type": "stream",
     "text": [
      "Action: emotion: 100%|██████████| 1/1 [00:00<00:00, 15.16it/s]\n"
     ]
    },
    {
     "name": "stdout",
     "output_type": "stream",
     "text": [
      "Emotion values: {'angry': 0.2415914964641337, 'disgust': 0.0002141697877308048, 'happy': 0.011559567869757594, 'sad': 62.855718987498406, 'surprise': 0.0002654528681946992, 'neutral': 0.9927195244765848}\n",
      "Label: sad\n"
     ]
    },
    {
     "name": "stderr",
     "output_type": "stream",
     "text": [
      "Action: emotion: 100%|██████████| 1/1 [00:00<00:00, 17.73it/s]\n"
     ]
    },
    {
     "name": "stdout",
     "output_type": "stream",
     "text": [
      "Emotion values: {'angry': 0.5212279502302408, 'disgust': 0.0013800797205476556, 'happy': 0.016788122593425214, 'sad': 56.533050537109375, 'surprise': 0.0006747306997567648, 'neutral': 1.3166721910238266}\n",
      "Label: sad\n"
     ]
    },
    {
     "name": "stderr",
     "output_type": "stream",
     "text": [
      "Action: emotion: 100%|██████████| 1/1 [00:00<00:00, 16.52it/s]\n"
     ]
    },
    {
     "name": "stdout",
     "output_type": "stream",
     "text": [
      "Emotion values: {'angry': 0.18917818161211233, 'disgust': 0.0013708210829679402, 'happy': 0.005743610788316297, 'sad': 72.73933020361302, 'surprise': 0.0001700140525971784, 'neutral': 0.31614576888581886}\n",
      "Label: sad\n"
     ]
    },
    {
     "name": "stderr",
     "output_type": "stream",
     "text": [
      "Action: emotion: 100%|██████████| 1/1 [00:00<00:00, 17.95it/s]\n"
     ]
    },
    {
     "name": "stdout",
     "output_type": "stream",
     "text": [
      "Emotion values: {'angry': 0.455113360658288, 'disgust': 0.0030111306841718033, 'happy': 0.007751421071588993, 'sad': 55.38206696510315, 'surprise': 0.0001942657718245755, 'neutral': 0.6401234772056341}\n",
      "Label: sad\n"
     ]
    },
    {
     "name": "stderr",
     "output_type": "stream",
     "text": [
      "Action: emotion: 100%|██████████| 1/1 [00:00<00:00, 18.08it/s]\n"
     ]
    },
    {
     "name": "stdout",
     "output_type": "stream",
     "text": [
      "Emotion values: {'angry': 0.5453257215217185, 'disgust': 0.0038430911916846745, 'happy': 0.01618503252821237, 'sad': 69.33495219558192, 'surprise': 0.0006820270707042492, 'neutral': 1.0108577690039735}\n",
      "Label: sad\n"
     ]
    },
    {
     "name": "stderr",
     "output_type": "stream",
     "text": [
      "Action: emotion: 100%|██████████| 1/1 [00:00<00:00, 17.67it/s]\n"
     ]
    },
    {
     "name": "stdout",
     "output_type": "stream",
     "text": [
      "Emotion values: {'angry': 0.2878401894122362, 'disgust': 0.0034631859307410195, 'happy': 0.007860026380512863, 'sad': 75.94659924507141, 'surprise': 0.00024219241367973154, 'neutral': 0.26770257391035557}\n",
      "Label: sad\n"
     ]
    },
    {
     "name": "stderr",
     "output_type": "stream",
     "text": [
      "Action: emotion: 100%|██████████| 1/1 [00:00<00:00, 17.78it/s]\n"
     ]
    },
    {
     "name": "stdout",
     "output_type": "stream",
     "text": [
      "Emotion values: {'angry': 0.2878401894122362, 'disgust': 0.0034631859307410195, 'happy': 0.007860026380512863, 'sad': 75.94659924507141, 'surprise': 0.00024219241367973154, 'neutral': 0.26770257391035557}\n",
      "Label: sad\n"
     ]
    },
    {
     "name": "stderr",
     "output_type": "stream",
     "text": [
      "Action: emotion: 100%|██████████| 1/1 [00:00<00:00, 17.49it/s]\n"
     ]
    },
    {
     "name": "stdout",
     "output_type": "stream",
     "text": [
      "Emotion values: {'angry': 0.3850918961688876, 'disgust': 0.0006978305009397445, 'happy': 0.004028118928545155, 'sad': 76.2578010559082, 'surprise': 0.00015708127421021345, 'neutral': 0.8606893010437489}\n",
      "Label: sad\n"
     ]
    },
    {
     "name": "stderr",
     "output_type": "stream",
     "text": [
      "Action: emotion: 100%|██████████| 1/1 [00:00<00:00, 18.12it/s]\n"
     ]
    },
    {
     "name": "stdout",
     "output_type": "stream",
     "text": [
      "Emotion values: {'angry': 0.45227669179439545, 'disgust': 0.0008351963515451644, 'happy': 0.004444737351150252, 'sad': 82.84768462181091, 'surprise': 0.00016406030454163556, 'neutral': 1.1572492308914661}\n",
      "Label: sad\n"
     ]
    },
    {
     "name": "stderr",
     "output_type": "stream",
     "text": [
      "Action: emotion: 100%|██████████| 1/1 [00:00<00:00, 17.22it/s]\n"
     ]
    },
    {
     "name": "stdout",
     "output_type": "stream",
     "text": [
      "Emotion values: {'angry': 0.45227669179439545, 'disgust': 0.0008351963515451644, 'happy': 0.004444737351150252, 'sad': 82.84768462181091, 'surprise': 0.00016406030454163556, 'neutral': 1.1572492308914661}\n",
      "Label: sad\n"
     ]
    },
    {
     "name": "stderr",
     "output_type": "stream",
     "text": [
      "Action: emotion: 100%|██████████| 1/1 [00:00<00:00, 18.34it/s]\n"
     ]
    },
    {
     "name": "stdout",
     "output_type": "stream",
     "text": [
      "Emotion values: {'angry': 0.6059766281396151, 'disgust': 0.00038730813685106114, 'happy': 0.0032125801226357, 'sad': 87.97875642776489, 'surprise': 5.0800178996723844e-05, 'neutral': 2.3310085758566856}\n",
      "Label: sad\n"
     ]
    },
    {
     "name": "stderr",
     "output_type": "stream",
     "text": [
      "Action: emotion: 100%|██████████| 1/1 [00:00<00:00, 17.26it/s]\n"
     ]
    },
    {
     "name": "stdout",
     "output_type": "stream",
     "text": [
      "Emotion values: {'angry': 0.2667873166501522, 'disgust': 0.0019778839487116784, 'happy': 0.000330964053318894, 'sad': 56.95103406906128, 'surprise': 1.4877474541208358e-05, 'neutral': 0.32323950435966253}\n",
      "Label: sad\n"
     ]
    },
    {
     "name": "stderr",
     "output_type": "stream",
     "text": [
      "Action: emotion: 100%|██████████| 1/1 [00:00<00:00, 18.85it/s]\n"
     ]
    },
    {
     "name": "stdout",
     "output_type": "stream",
     "text": [
      "Emotion values: {'angry': 0.11599406134337187, 'disgust': 0.0013878528989152983, 'happy': 4.268568716270238e-05, 'sad': 93.34596395492554, 'surprise': 9.067404604934381e-07, 'neutral': 0.06348813767544925}\n",
      "Label: sad\n"
     ]
    },
    {
     "name": "stderr",
     "output_type": "stream",
     "text": [
      "Action: emotion: 100%|██████████| 1/1 [00:00<00:00, 17.15it/s]\n"
     ]
    },
    {
     "name": "stdout",
     "output_type": "stream",
     "text": [
      "Emotion values: {'angry': 0.3251938808824945, 'disgust': 0.003681789022529961, 'happy': 0.00041706905661434364, 'sad': 92.23924232955231, 'surprise': 3.1284772194593486e-05, 'neutral': 0.15898655185023258}\n",
      "Label: sad\n"
     ]
    },
    {
     "name": "stderr",
     "output_type": "stream",
     "text": [
      "Action: emotion: 100%|██████████| 1/1 [00:00<00:00, 16.39it/s]\n"
     ]
    },
    {
     "name": "stdout",
     "output_type": "stream",
     "text": [
      "Emotion values: {'angry': 0.0690655474739103, 'disgust': 0.0007853822821478509, 'happy': 2.9618177055505704e-05, 'sad': 91.40851446440902, 'surprise': 1.0326494941814118e-06, 'neutral': 0.05466403998294711}\n",
      "Label: sad\n"
     ]
    },
    {
     "name": "stderr",
     "output_type": "stream",
     "text": [
      "Action: emotion: 100%|██████████| 1/1 [00:00<00:00, 16.77it/s]\n"
     ]
    },
    {
     "name": "stdout",
     "output_type": "stream",
     "text": [
      "Emotion values: {'angry': 0.2772357945731756, 'disgust': 0.0071727675004462895, 'happy': 9.242554011252668e-05, 'sad': 91.50710651320854, 'surprise': 6.09668867314448e-06, 'neutral': 0.11952676125775345}\n",
      "Label: sad\n"
     ]
    },
    {
     "name": "stderr",
     "output_type": "stream",
     "text": [
      "Action: emotion: 100%|██████████| 1/1 [00:00<00:00, 18.14it/s]\n"
     ]
    },
    {
     "name": "stdout",
     "output_type": "stream",
     "text": [
      "Emotion values: {'angry': 0.5683591589331627, 'disgust': 0.001025126130116405, 'happy': 0.00015068932270878577, 'sad': 96.05281949043274, 'surprise': 2.6724052304416546e-05, 'neutral': 0.5638896487653255}\n",
      "Label: sad\n"
     ]
    },
    {
     "name": "stderr",
     "output_type": "stream",
     "text": [
      "Action: emotion: 100%|██████████| 1/1 [00:00<00:00, 17.59it/s]\n"
     ]
    },
    {
     "name": "stdout",
     "output_type": "stream",
     "text": [
      "Emotion values: {'angry': 0.5945602431893349, 'disgust': 0.003710926466737874, 'happy': 0.0017156327885459177, 'sad': 93.09875965118408, 'surprise': 2.497285436220409e-05, 'neutral': 0.347541575320065}\n",
      "Label: sad\n"
     ]
    },
    {
     "name": "stderr",
     "output_type": "stream",
     "text": [
      "Action: emotion: 100%|██████████| 1/1 [00:00<00:00, 16.99it/s]\n"
     ]
    },
    {
     "name": "stdout",
     "output_type": "stream",
     "text": [
      "Emotion values: {'angry': 0.2834781538695097, 'disgust': 0.0006916211532370653, 'happy': 0.00041457224142504856, 'sad': 96.23401165008545, 'surprise': 3.0261809058629296e-06, 'neutral': 0.08494569337926805}\n",
      "Label: sad\n"
     ]
    },
    {
     "name": "stderr",
     "output_type": "stream",
     "text": [
      "Action: emotion: 100%|██████████| 1/1 [00:00<00:00, 16.86it/s]\n"
     ]
    },
    {
     "name": "stdout",
     "output_type": "stream",
     "text": [
      "Emotion values: {'angry': 0.4062662143269905, 'disgust': 0.002209083818137985, 'happy': 0.020477003765318767, 'sad': 88.39243581249927, 'surprise': 0.0002337356275512303, 'neutral': 1.389530290784257}\n",
      "Label: sad\n"
     ]
    },
    {
     "name": "stderr",
     "output_type": "stream",
     "text": [
      "Action: emotion: 100%|██████████| 1/1 [00:00<00:00, 16.91it/s]\n"
     ]
    },
    {
     "name": "stdout",
     "output_type": "stream",
     "text": [
      "Emotion values: {'angry': 3.675961494445801, 'disgust': 0.020459922961890697, 'happy': 0.025770498905330896, 'sad': 89.41288590431213, 'surprise': 0.0009769943972059991, 'neutral': 0.463737640529871}\n",
      "Label: sad\n"
     ]
    },
    {
     "name": "stderr",
     "output_type": "stream",
     "text": [
      "Action: emotion: 100%|██████████| 1/1 [00:00<00:00, 17.23it/s]\n"
     ]
    },
    {
     "name": "stdout",
     "output_type": "stream",
     "text": [
      "Emotion values: {'angry': 0.005639191294903867, 'disgust': 1.5747855242054243e-07, 'happy': 0.0018544384147389792, 'sad': 40.50165116786957, 'surprise': 2.8683206210189383e-05, 'neutral': 0.47292308881878853}\n",
      "Label: sad\n"
     ]
    },
    {
     "name": "stderr",
     "output_type": "stream",
     "text": [
      "Action: emotion: 100%|██████████| 1/1 [00:00<00:00, 16.34it/s]\n"
     ]
    },
    {
     "name": "stdout",
     "output_type": "stream",
     "text": [
      "Emotion values: {'angry': 0.005639191294903867, 'disgust': 1.5747855242054243e-07, 'happy': 0.0018544384147389792, 'sad': 40.50165116786957, 'surprise': 2.8683206210189383e-05, 'neutral': 0.47292308881878853}\n",
      "Label: sad\n"
     ]
    },
    {
     "name": "stderr",
     "output_type": "stream",
     "text": [
      "Action: emotion: 100%|██████████| 1/1 [00:00<00:00, 17.84it/s]\n"
     ]
    },
    {
     "name": "stdout",
     "output_type": "stream",
     "text": [
      "Emotion values: {'angry': 0.38318999488681493, 'disgust': 0.0007646474843785427, 'happy': 6.201949337357203, 'sad': 30.22520306410826, 'surprise': 0.0032564734527409096, 'neutral': 46.41028003815175}\n",
      "Label: neutral\n"
     ]
    },
    {
     "name": "stderr",
     "output_type": "stream",
     "text": [
      "Action: emotion: 100%|██████████| 1/1 [00:00<00:00, 15.78it/s]\n"
     ]
    },
    {
     "name": "stdout",
     "output_type": "stream",
     "text": [
      "Emotion values: {'angry': 0.0055751806939952075, 'disgust': 0.00018859062720366637, 'happy': 69.63083744049072, 'sad': 5.424473434686661, 'surprise': 0.013205218419898301, 'neutral': 16.347132623195648}\n",
      "Label: happy\n"
     ]
    },
    {
     "name": "stderr",
     "output_type": "stream",
     "text": [
      "Action: emotion: 100%|██████████| 1/1 [00:00<00:00, 17.72it/s]\n"
     ]
    },
    {
     "name": "stdout",
     "output_type": "stream",
     "text": [
      "Emotion values: {'angry': 0.043051104876212776, 'disgust': 0.0007711637408647221, 'happy': 3.083042800426483, 'sad': 83.37398171424866, 'surprise': 0.0021642861611326225, 'neutral': 9.706274420022964}\n",
      "Label: sad\n"
     ]
    },
    {
     "name": "stderr",
     "output_type": "stream",
     "text": [
      "Action: emotion: 100%|██████████| 1/1 [00:00<00:00, 18.68it/s]\n"
     ]
    },
    {
     "name": "stdout",
     "output_type": "stream",
     "text": [
      "Emotion values: {'angry': 0.043051104876212776, 'disgust': 0.0007711637408647221, 'happy': 3.083042800426483, 'sad': 83.37398171424866, 'surprise': 0.0021642861611326225, 'neutral': 9.706274420022964}\n",
      "Label: sad\n"
     ]
    },
    {
     "name": "stderr",
     "output_type": "stream",
     "text": [
      "Action: emotion: 100%|██████████| 1/1 [00:00<00:00, 18.57it/s]\n"
     ]
    },
    {
     "name": "stdout",
     "output_type": "stream",
     "text": [
      "Emotion values: {'angry': 0.01133868785754407, 'disgust': 3.2446978595039753e-06, 'happy': 0.00028435651405342335, 'sad': 4.7270632372536205, 'surprise': 0.00012063225804536675, 'neutral': 95.23679585676169}\n",
      "Label: neutral\n"
     ]
    },
    {
     "name": "stderr",
     "output_type": "stream",
     "text": [
      "Action: emotion: 100%|██████████| 1/1 [00:00<00:00, 17.48it/s]\n"
     ]
    },
    {
     "name": "stdout",
     "output_type": "stream",
     "text": [
      "Emotion values: {'angry': 0.01364245981676504, 'disgust': 8.910621573932076e-06, 'happy': 0.0002121411171174259, 'sad': 12.811271846294403, 'surprise': 7.637844987584685e-05, 'neutral': 86.9488000869751}\n",
      "Label: neutral\n"
     ]
    },
    {
     "name": "stderr",
     "output_type": "stream",
     "text": [
      "Action: emotion: 100%|██████████| 1/1 [00:00<00:00, 17.71it/s]\n"
     ]
    },
    {
     "name": "stdout",
     "output_type": "stream",
     "text": [
      "Emotion values: {'angry': 0.004236545282765292, 'disgust': 1.4675335613389962e-06, 'happy': 0.0007322980764001841, 'sad': 2.1202392876148224, 'surprise': 0.00020631830466300016, 'neutral': 97.78083562850952}\n",
      "Label: neutral\n"
     ]
    },
    {
     "name": "stderr",
     "output_type": "stream",
     "text": [
      "Action: emotion: 100%|██████████| 1/1 [00:00<00:00, 18.28it/s]\n"
     ]
    },
    {
     "name": "stdout",
     "output_type": "stream",
     "text": [
      "Emotion values: {'angry': 0.011580457869173394, 'disgust': 4.0874011476772985e-05, 'happy': 0.0002802266301570263, 'sad': 6.206043069834343, 'surprise': 0.0002527366558509139, 'neutral': 93.56593566346936}\n",
      "Label: neutral\n"
     ]
    },
    {
     "name": "stderr",
     "output_type": "stream",
     "text": [
      "Action: emotion: 100%|██████████| 1/1 [00:00<00:00, 16.98it/s]\n"
     ]
    },
    {
     "name": "stdout",
     "output_type": "stream",
     "text": [
      "Emotion values: {'angry': 0.010288265070131947, 'disgust': 9.371136106116661e-05, 'happy': 0.1420597281230824, 'sad': 8.075432960714874, 'surprise': 0.011860561769293577, 'neutral': 90.28144420870807}\n",
      "Label: neutral\n"
     ]
    },
    {
     "name": "stderr",
     "output_type": "stream",
     "text": [
      "Action: emotion: 100%|██████████| 1/1 [00:00<00:00, 19.19it/s]\n"
     ]
    },
    {
     "name": "stdout",
     "output_type": "stream",
     "text": [
      "Emotion values: {'angry': 0.005461063808885481, 'disgust': 1.500183604608567e-05, 'happy': 0.0016806002441988473, 'sad': 3.9129229732109887, 'surprise': 0.0006649182010515499, 'neutral': 95.92778658436457}\n",
      "Label: neutral\n"
     ]
    },
    {
     "name": "stderr",
     "output_type": "stream",
     "text": [
      "Action: emotion: 100%|██████████| 1/1 [00:00<00:00, 17.54it/s]\n"
     ]
    },
    {
     "name": "stdout",
     "output_type": "stream",
     "text": [
      "Emotion values: {'angry': 0.006603638423963319, 'disgust': 2.7164137448702525e-06, 'happy': 0.0005936402784798786, 'sad': 1.4965176543007883, 'surprise': 0.000847925871830439, 'neutral': 98.44545712741954}\n",
      "Label: neutral\n"
     ]
    },
    {
     "name": "stderr",
     "output_type": "stream",
     "text": [
      "Action: emotion: 100%|██████████| 1/1 [00:00<00:00, 17.61it/s]\n"
     ]
    },
    {
     "name": "stdout",
     "output_type": "stream",
     "text": [
      "Emotion values: {'angry': 0.0025790495783439837, 'disgust': 1.7050354017555946e-06, 'happy': 0.0012814307410735637, 'sad': 1.8947288393974304, 'surprise': 0.0009201691682392266, 'neutral': 98.02464246749878}\n",
      "Label: neutral\n"
     ]
    },
    {
     "name": "stderr",
     "output_type": "stream",
     "text": [
      "Action: emotion: 100%|██████████| 1/1 [00:00<00:00, 17.63it/s]\n"
     ]
    },
    {
     "name": "stdout",
     "output_type": "stream",
     "text": [
      "Emotion values: {'angry': 0.0062268125475384295, 'disgust': 3.708248073053255e-05, 'happy': 0.019168849394191056, 'sad': 9.729951620101929, 'surprise': 0.002746681639109738, 'neutral': 89.11972641944885}\n",
      "Label: neutral\n"
     ]
    },
    {
     "name": "stderr",
     "output_type": "stream",
     "text": [
      "Action: emotion: 100%|██████████| 1/1 [00:00<00:00, 18.25it/s]\n"
     ]
    },
    {
     "name": "stdout",
     "output_type": "stream",
     "text": [
      "Emotion values: {'angry': 0.024338808725588024, 'disgust': 0.0004886824626737507, 'happy': 0.016066854004748166, 'sad': 61.56926155090332, 'surprise': 0.0009973628948500846, 'neutral': 36.20317578315735}\n",
      "Label: sad\n"
     ]
    },
    {
     "name": "stderr",
     "output_type": "stream",
     "text": [
      "Action: emotion: 100%|██████████| 1/1 [00:00<00:00, 16.41it/s]\n"
     ]
    },
    {
     "name": "stdout",
     "output_type": "stream",
     "text": [
      "Emotion values: {'angry': 0.010713297524489462, 'disgust': 3.837283486518572e-05, 'happy': 0.022344704484567046, 'sad': 18.77545714378357, 'surprise': 0.0010546786143095233, 'neutral': 80.49673438072205}\n",
      "Label: neutral\n"
     ]
    },
    {
     "name": "stderr",
     "output_type": "stream",
     "text": [
      "Action: emotion: 100%|██████████| 1/1 [00:00<00:00, 19.48it/s]\n"
     ]
    },
    {
     "name": "stdout",
     "output_type": "stream",
     "text": [
      "Emotion values: {'angry': 0.00833408412290737, 'disgust': 2.3382554559248092e-05, 'happy': 0.14833169989287853, 'sad': 9.39023420214653, 'surprise': 0.0015063906175782904, 'neutral': 90.07813930511475}\n",
      "Label: neutral\n"
     ]
    },
    {
     "name": "stderr",
     "output_type": "stream",
     "text": [
      "Action: emotion: 100%|██████████| 1/1 [00:00<00:00, 17.29it/s]\n"
     ]
    },
    {
     "name": "stdout",
     "output_type": "stream",
     "text": [
      "Emotion values: {'angry': 0.003203129381290637, 'disgust': 2.3853425545894424e-05, 'happy': 0.4397156182676554, 'sad': 48.659542202949524, 'surprise': 0.00033222238471353194, 'neutral': 49.99833703041077}\n",
      "Label: neutral\n"
     ]
    },
    {
     "name": "stderr",
     "output_type": "stream",
     "text": [
      "Action: emotion: 100%|██████████| 1/1 [00:00<00:00, 18.43it/s]\n"
     ]
    },
    {
     "name": "stdout",
     "output_type": "stream",
     "text": [
      "Emotion values: {'angry': 0.005553054110282532, 'disgust': 7.850974170215926e-05, 'happy': 1.9226013897419805, 'sad': 66.5881196610999, 'surprise': 0.0004888987696544698, 'neutral': 30.317385811649906}\n",
      "Label: sad\n"
     ]
    },
    {
     "name": "stderr",
     "output_type": "stream",
     "text": [
      "Action: emotion: 100%|██████████| 1/1 [00:00<00:00, 18.03it/s]\n"
     ]
    },
    {
     "name": "stdout",
     "output_type": "stream",
     "text": [
      "Emotion values: {'angry': 0.0034640463127288967, 'disgust': 4.905052009007704e-06, 'happy': 0.08918149396777153, 'sad': 19.864854216575623, 'surprise': 0.00022358217393048108, 'neutral': 79.91746664047241}\n",
      "Label: neutral\n"
     ]
    },
    {
     "name": "stderr",
     "output_type": "stream",
     "text": [
      "Action: emotion: 100%|██████████| 1/1 [00:00<00:00, 17.85it/s]\n"
     ]
    },
    {
     "name": "stdout",
     "output_type": "stream",
     "text": [
      "Emotion values: {'angry': 0.0004585941496770829, 'disgust': 1.3856586633664847e-05, 'happy': 4.244661331176758, 'sad': 3.827550634741783, 'surprise': 0.015123392222449183, 'neutral': 91.37851595878601}\n",
      "Label: neutral\n"
     ]
    },
    {
     "name": "stderr",
     "output_type": "stream",
     "text": [
      "Action: emotion: 100%|██████████| 1/1 [00:00<00:00, 17.28it/s]\n"
     ]
    },
    {
     "name": "stdout",
     "output_type": "stream",
     "text": [
      "Emotion values: {'angry': 0.0056761309679131955, 'disgust': 6.365605997871171e-06, 'happy': 0.45860549435019493, 'sad': 18.019483983516693, 'surprise': 0.0010304706847819034, 'neutral': 81.20871782302856}\n",
      "Label: neutral\n"
     ]
    },
    {
     "name": "stderr",
     "output_type": "stream",
     "text": [
      "Action: emotion: 100%|██████████| 1/1 [00:00<00:00, 19.16it/s]\n"
     ]
    },
    {
     "name": "stdout",
     "output_type": "stream",
     "text": [
      "Emotion values: {'angry': 0.002605739973660093, 'disgust': 2.286426870057312e-06, 'happy': 24.362103641033173, 'sad': 8.30194354057312, 'surprise': 0.07536475313827395, 'neutral': 67.04253554344177}\n",
      "Label: neutral\n"
     ]
    },
    {
     "name": "stderr",
     "output_type": "stream",
     "text": [
      "Action: emotion: 100%|██████████| 1/1 [00:00<00:00, 19.10it/s]\n"
     ]
    },
    {
     "name": "stdout",
     "output_type": "stream",
     "text": [
      "Emotion values: {'angry': 0.003107197699137032, 'disgust': 1.7384925854457833e-05, 'happy': 15.701964497566223, 'sad': 9.92528423666954, 'surprise': 0.022750975040253252, 'neutral': 73.12742471694946}\n",
      "Label: neutral\n"
     ]
    },
    {
     "name": "stderr",
     "output_type": "stream",
     "text": [
      "Action: emotion: 100%|██████████| 1/1 [00:00<00:00, 16.71it/s]\n"
     ]
    },
    {
     "name": "stdout",
     "output_type": "stream",
     "text": [
      "Emotion values: {'angry': 0.0014479601211742456, 'disgust': 2.3383994064249118e-05, 'happy': 32.37235037950878, 'sad': 7.389341430585555, 'surprise': 0.01793288461203615, 'neutral': 59.700490200577995}\n",
      "Label: neutral\n"
     ]
    },
    {
     "name": "stderr",
     "output_type": "stream",
     "text": [
      "Action: emotion: 100%|██████████| 1/1 [00:00<00:00, 18.02it/s]\n"
     ]
    },
    {
     "name": "stdout",
     "output_type": "stream",
     "text": [
      "Emotion values: {'angry': 0.0016930748742719107, 'disgust': 9.214701871219133e-05, 'happy': 61.476246206536665, 'sad': 8.945075210635377, 'surprise': 0.025681387417585397, 'neutral': 27.59221956683514}\n",
      "Label: happy\n"
     ]
    },
    {
     "name": "stderr",
     "output_type": "stream",
     "text": [
      "Action: emotion: 100%|██████████| 1/1 [00:00<00:00, 16.46it/s]\n"
     ]
    },
    {
     "name": "stdout",
     "output_type": "stream",
     "text": [
      "Emotion values: {'angry': 0.0006993321221671067, 'disgust': 1.711689812111672e-06, 'happy': 2.373281866312027, 'sad': 3.8668882101774216, 'surprise': 0.0038971258618403226, 'neutral': 93.70383620262146}\n",
      "Label: neutral\n"
     ]
    },
    {
     "name": "stderr",
     "output_type": "stream",
     "text": [
      "Action: emotion: 100%|██████████| 1/1 [00:00<00:00, 19.25it/s]\n"
     ]
    },
    {
     "name": "stdout",
     "output_type": "stream",
     "text": [
      "Emotion values: {'angry': 0.0020750223484355956, 'disgust': 1.5511434980908234e-05, 'happy': 2.2990401834249496, 'sad': 27.584674954414368, 'surprise': 0.0033049560443032533, 'neutral': 69.72466707229614}\n",
      "Label: neutral\n"
     ]
    },
    {
     "name": "stderr",
     "output_type": "stream",
     "text": [
      "Action: emotion: 100%|██████████| 1/1 [00:00<00:00, 19.08it/s]\n"
     ]
    },
    {
     "name": "stdout",
     "output_type": "stream",
     "text": [
      "Emotion values: {'angry': 0.010045707313111052, 'disgust': 0.00016628853245492792, 'happy': 4.418209940195084, 'sad': 65.21804332733154, 'surprise': 0.004548656215774827, 'neutral': 25.374236702919006}\n",
      "Label: sad\n"
     ]
    },
    {
     "name": "stderr",
     "output_type": "stream",
     "text": [
      "Action: emotion: 100%|██████████| 1/1 [00:00<00:00, 18.79it/s]\n"
     ]
    },
    {
     "name": "stdout",
     "output_type": "stream",
     "text": [
      "Emotion values: {'angry': 0.017276023572776467, 'disgust': 0.0002575583494035527, 'happy': 0.04174356290604919, 'sad': 55.95353841781616, 'surprise': 0.0006671667051705299, 'neutral': 42.07773208618164}\n",
      "Label: sad\n"
     ]
    },
    {
     "name": "stderr",
     "output_type": "stream",
     "text": [
      "Action: emotion: 100%|██████████| 1/1 [00:00<00:00, 17.59it/s]\n"
     ]
    },
    {
     "name": "stdout",
     "output_type": "stream",
     "text": [
      "Emotion values: {'angry': 0.013709769700653851, 'disgust': 2.6862718982556544e-05, 'happy': 0.01610030303709209, 'sad': 23.583881556987762, 'surprise': 0.0003078541112699895, 'neutral': 75.80965161323547}\n",
      "Label: neutral\n"
     ]
    },
    {
     "name": "stderr",
     "output_type": "stream",
     "text": [
      "Action: emotion: 100%|██████████| 1/1 [00:00<00:00, 19.34it/s]\n"
     ]
    },
    {
     "name": "stdout",
     "output_type": "stream",
     "text": [
      "Emotion values: {'angry': 0.01648659963393584, 'disgust': 0.001278349373023957, 'happy': 3.049028292298317, 'sad': 74.73593950271606, 'surprise': 0.003529625610099174, 'neutral': 12.747129797935486}\n",
      "Label: sad\n"
     ]
    },
    {
     "name": "stderr",
     "output_type": "stream",
     "text": [
      "Action: emotion: 100%|██████████| 1/1 [00:00<00:00, 17.65it/s]\n"
     ]
    },
    {
     "name": "stdout",
     "output_type": "stream",
     "text": [
      "Emotion values: {'angry': 0.0028139223872251182, 'disgust': 7.219843926722835e-05, 'happy': 63.27299852806321, 'sad': 36.474808244395746, 'surprise': 0.0008098200424432128, 'neutral': 0.08507060044865909}\n",
      "Label: happy\n"
     ]
    },
    {
     "name": "stderr",
     "output_type": "stream",
     "text": [
      "Action: emotion: 100%|██████████| 1/1 [00:00<00:00, 16.86it/s]\n"
     ]
    },
    {
     "name": "stdout",
     "output_type": "stream",
     "text": [
      "Emotion values: {'angry': 0.0005651981155097019, 'disgust': 7.988400341218949e-06, 'happy': 69.67564821243286, 'sad': 30.194979906082153, 'surprise': 0.00017397900364812813, 'neutral': 0.06006830953992903}\n",
      "Label: happy\n"
     ]
    },
    {
     "name": "stderr",
     "output_type": "stream",
     "text": [
      "Action: emotion: 100%|██████████| 1/1 [00:00<00:00, 16.10it/s]\n"
     ]
    },
    {
     "name": "stdout",
     "output_type": "stream",
     "text": [
      "Emotion values: {'angry': 0.001819584248093221, 'disgust': 2.729235616449269e-05, 'happy': 2.7670131569520424, 'sad': 97.07231486705719, 'surprise': 3.7540486842323565e-05, 'neutral': 0.13105898795235013}\n",
      "Label: sad\n"
     ]
    },
    {
     "name": "stderr",
     "output_type": "stream",
     "text": [
      "Action: emotion: 100%|██████████| 1/1 [00:00<00:00, 16.74it/s]\n"
     ]
    },
    {
     "name": "stdout",
     "output_type": "stream",
     "text": [
      "Emotion values: {'angry': 0.0017435182599001564, 'disgust': 4.645237368094968e-05, 'happy': 1.9216733053326607, 'sad': 97.93155193328857, 'surprise': 2.506289042969456e-06, 'neutral': 0.045901318662799895}\n",
      "Label: sad\n"
     ]
    },
    {
     "name": "stderr",
     "output_type": "stream",
     "text": [
      "Action: emotion: 100%|██████████| 1/1 [00:00<00:00, 16.37it/s]\n"
     ]
    },
    {
     "name": "stdout",
     "output_type": "stream",
     "text": [
      "Emotion values: {'angry': 0.0020341160052339546, 'disgust': 0.0003878466486639809, 'happy': 22.853529453277588, 'sad': 76.05581283569336, 'surprise': 0.0003092451379416161, 'neutral': 0.6675909738987684}\n",
      "Label: sad\n"
     ]
    },
    {
     "name": "stderr",
     "output_type": "stream",
     "text": [
      "Action: emotion: 100%|██████████| 1/1 [00:00<00:00, 16.67it/s]\n"
     ]
    },
    {
     "name": "stdout",
     "output_type": "stream",
     "text": [
      "Emotion values: {'angry': 0.003921751964269903, 'disgust': 0.000274848333879235, 'happy': 13.136847241300673, 'sad': 85.34550245457858, 'surprise': 0.0002684494709808777, 'neutral': 0.9635698764240889}\n",
      "Label: sad\n"
     ]
    },
    {
     "name": "stderr",
     "output_type": "stream",
     "text": [
      "Action: emotion: 100%|██████████| 1/1 [00:00<00:00, 14.93it/s]\n"
     ]
    },
    {
     "name": "stdout",
     "output_type": "stream",
     "text": [
      "Emotion values: {'angry': 0.00020239237844364304, 'disgust': 5.799140920050833e-07, 'happy': 96.43807453655307, 'sad': 1.1512427149721725, 'surprise': 0.008993226603015322, 'neutral': 2.2965828944345836}\n",
      "Label: happy\n"
     ]
    },
    {
     "name": "stderr",
     "output_type": "stream",
     "text": [
      "Action: emotion: 100%|██████████| 1/1 [00:00<00:00, 14.71it/s]"
     ]
    },
    {
     "name": "stdout",
     "output_type": "stream",
     "text": [
      "Emotion values: {'angry': 0.08841239142530961, 'disgust': 0.01264342567337818, 'happy': 2.02855350481826, 'sad': 93.82947160846334, 'surprise': 0.00022513754219359914, 'neutral': 1.5643481162967543}\n",
      "Label: sad\n"
     ]
    },
    {
     "name": "stderr",
     "output_type": "stream",
     "text": [
      "\n",
      "Action: emotion: 100%|██████████| 1/1 [00:00<00:00, 15.75it/s]\n"
     ]
    },
    {
     "name": "stdout",
     "output_type": "stream",
     "text": [
      "Emotion values: {'angry': 0.03540439516607432, 'disgust': 0.00010801510219811873, 'happy': 12.12432388969375, 'sad': 74.52619975492958, 'surprise': 0.003847879903015096, 'neutral': 9.941549159103733}\n",
      "Label: sad\n"
     ]
    },
    {
     "name": "stderr",
     "output_type": "stream",
     "text": [
      "Action: emotion: 100%|██████████| 1/1 [00:00<00:00, 15.61it/s]\n"
     ]
    },
    {
     "name": "stdout",
     "output_type": "stream",
     "text": [
      "Emotion values: {'angry': 0.07897438122078702, 'disgust': 0.0005190698011251543, 'happy': 9.313533089931836, 'sad': 69.79937913425218, 'surprise': 0.0039139932477929296, 'neutral': 12.097622502133548}\n",
      "Label: sad\n"
     ]
    },
    {
     "name": "stderr",
     "output_type": "stream",
     "text": [
      "Action: emotion: 100%|██████████| 1/1 [00:00<00:00, 15.59it/s]\n"
     ]
    },
    {
     "name": "stdout",
     "output_type": "stream",
     "text": [
      "Emotion values: {'angry': 0.022675657133797236, 'disgust': 1.4101920827837134e-05, 'happy': 0.828770504371554, 'sad': 51.84728812261153, 'surprise': 0.002490505870098598, 'neutral': 43.22748441859987}\n",
      "Label: sad\n"
     ]
    },
    {
     "name": "stderr",
     "output_type": "stream",
     "text": [
      "Action: emotion: 100%|██████████| 1/1 [00:00<00:00, 13.92it/s]\n"
     ]
    },
    {
     "name": "stdout",
     "output_type": "stream",
     "text": [
      "Emotion values: {'angry': 0.052223907550796866, 'disgust': 5.23233779858856e-05, 'happy': 0.27240097988396883, 'sad': 26.699715852737427, 'surprise': 0.0009322337973571848, 'neutral': 72.04689979553223}\n",
      "Label: neutral\n"
     ]
    },
    {
     "name": "stderr",
     "output_type": "stream",
     "text": [
      "Action: emotion: 100%|██████████| 1/1 [00:00<00:00, 16.05it/s]\n"
     ]
    },
    {
     "name": "stdout",
     "output_type": "stream",
     "text": [
      "Emotion values: {'angry': 0.041665544267743826, 'disgust': 7.377217059456598e-06, 'happy': 0.022833968978375196, 'sad': 54.09802794456482, 'surprise': 8.577302423873334e-05, 'neutral': 44.67420279979706}\n",
      "Label: sad\n"
     ]
    },
    {
     "name": "stderr",
     "output_type": "stream",
     "text": [
      "Action: emotion: 100%|██████████| 1/1 [00:00<00:00, 15.90it/s]\n"
     ]
    },
    {
     "name": "stdout",
     "output_type": "stream",
     "text": [
      "Emotion values: {'angry': 0.23351022973656654, 'disgust': 9.750151264142914e-06, 'happy': 0.0010017980457632802, 'sad': 96.52008414268494, 'surprise': 1.743034516721309e-05, 'neutral': 1.5061715617775917}\n",
      "Label: sad\n"
     ]
    },
    {
     "name": "stderr",
     "output_type": "stream",
     "text": [
      "Action: emotion: 100%|██████████| 1/1 [00:00<00:00, 17.12it/s]\n"
     ]
    },
    {
     "name": "stdout",
     "output_type": "stream",
     "text": [
      "Emotion values: {'angry': 0.036184075698983714, 'disgust': 1.0094584437180116e-06, 'happy': 0.00782190810479421, 'sad': 10.376874975971877, 'surprise': 0.00016758900618070867, 'neutral': 89.1770654426256}\n",
      "Label: neutral\n"
     ]
    },
    {
     "name": "stderr",
     "output_type": "stream",
     "text": [
      "Action: emotion: 100%|██████████| 1/1 [00:00<00:00, 15.71it/s]"
     ]
    },
    {
     "name": "stdout",
     "output_type": "stream",
     "text": [
      "Emotion values: {'angry': 0.021529455261770636, 'disgust': 2.829848577690086e-07, 'happy': 0.002761376163107343, 'sad': 5.378342419862747, 'surprise': 0.00014604083844460547, 'neutral': 94.42200064659119}\n",
      "Label: neutral\n"
     ]
    },
    {
     "name": "stderr",
     "output_type": "stream",
     "text": [
      "\n",
      "Action: emotion: 100%|██████████| 1/1 [00:00<00:00, 16.22it/s]\n"
     ]
    },
    {
     "name": "stdout",
     "output_type": "stream",
     "text": [
      "Emotion values: {'angry': 0.02154472895199433, 'disgust': 1.2842388485978518e-06, 'happy': 0.0016314595995936543, 'sad': 4.635531082749367, 'surprise': 0.00012930787534060073, 'neutral': 95.12342810630798}\n",
      "Label: neutral\n"
     ]
    },
    {
     "name": "stderr",
     "output_type": "stream",
     "text": [
      "Action: emotion: 100%|██████████| 1/1 [00:00<00:00, 16.56it/s]\n"
     ]
    },
    {
     "name": "stdout",
     "output_type": "stream",
     "text": [
      "Emotion values: {'angry': 0.036479224218055606, 'disgust': 8.76014816242332e-07, 'happy': 0.0014818773706792854, 'sad': 5.899963900446892, 'surprise': 0.0001682912056821806, 'neutral': 93.83242130279541}\n",
      "Label: neutral\n"
     ]
    },
    {
     "name": "stderr",
     "output_type": "stream",
     "text": [
      "Action: emotion: 100%|██████████| 1/1 [00:00<00:00, 15.75it/s]\n"
     ]
    },
    {
     "name": "stdout",
     "output_type": "stream",
     "text": [
      "Emotion values: {'angry': 0.04684802261181176, 'disgust': 1.952457040488298e-06, 'happy': 0.0017094111171900295, 'sad': 6.39587789773941, 'surprise': 0.0002412473577351193, 'neutral': 93.20584535598755}\n",
      "Label: neutral\n"
     ]
    },
    {
     "name": "stderr",
     "output_type": "stream",
     "text": [
      "Action: emotion: 100%|██████████| 1/1 [00:00<00:00, 14.99it/s]\n"
     ]
    },
    {
     "name": "stdout",
     "output_type": "stream",
     "text": [
      "Emotion values: {'angry': 0.020349422993604094, 'disgust': 1.2761238732394986e-07, 'happy': 0.0010103235581482295, 'sad': 1.3521641492843628, 'surprise': 0.0002905466999436612, 'neutral': 98.60281944274902}\n",
      "Label: neutral\n"
     ]
    },
    {
     "name": "stderr",
     "output_type": "stream",
     "text": [
      "Action: emotion: 100%|██████████| 1/1 [00:00<00:00, 15.33it/s]\n"
     ]
    },
    {
     "name": "stdout",
     "output_type": "stream",
     "text": [
      "Emotion values: {'angry': 0.16552021261304617, 'disgust': 2.0290636371100845e-05, 'happy': 0.0018427730537950993, 'sad': 6.397621333599091, 'surprise': 0.0007177041425165953, 'neutral': 93.02751421928406}\n",
      "Label: neutral\n"
     ]
    },
    {
     "name": "stderr",
     "output_type": "stream",
     "text": [
      "Action: emotion: 100%|██████████| 1/1 [00:00<00:00, 16.03it/s]\n"
     ]
    },
    {
     "name": "stdout",
     "output_type": "stream",
     "text": [
      "Emotion values: {'angry': 0.026870642760508823, 'disgust': 5.507492568314349e-07, 'happy': 0.000444647757049493, 'sad': 1.944647472777812, 'surprise': 5.7163007337507997e-05, 'neutral': 98.00283300893504}\n",
      "Label: neutral\n"
     ]
    },
    {
     "name": "stderr",
     "output_type": "stream",
     "text": [
      "Action: emotion: 100%|██████████| 1/1 [00:00<00:00, 15.96it/s]\n"
     ]
    },
    {
     "name": "stdout",
     "output_type": "stream",
     "text": [
      "Emotion values: {'angry': 0.2118457341566682, 'disgust': 0.0001520298610557802, 'happy': 0.0011157552762597334, 'sad': 5.979417264461517, 'surprise': 0.0004548210199573077, 'neutral': 93.48058104515076}\n",
      "Label: neutral\n"
     ]
    },
    {
     "name": "stderr",
     "output_type": "stream",
     "text": [
      "Action: emotion: 100%|██████████| 1/1 [00:00<00:00, 16.00it/s]\n"
     ]
    },
    {
     "name": "stdout",
     "output_type": "stream",
     "text": [
      "Emotion values: {'angry': 0.031474851743522075, 'disgust': 1.3616961045281806e-06, 'happy': 0.00066911230742163, 'sad': 1.6098611000345826, 'surprise': 0.0001741396906028626, 'neutral': 98.32806607150243}\n",
      "Label: neutral\n"
     ]
    },
    {
     "name": "stderr",
     "output_type": "stream",
     "text": [
      "Action: emotion: 100%|██████████| 1/1 [00:00<00:00, 16.47it/s]\n"
     ]
    },
    {
     "name": "stdout",
     "output_type": "stream",
     "text": [
      "Emotion values: {'angry': 0.014593252853956074, 'disgust': 2.0466097705451602e-07, 'happy': 0.00013037604276178172, 'sad': 2.122996188700199, 'surprise': 8.44841508751415e-05, 'neutral': 97.83479571342468}\n",
      "Label: neutral\n"
     ]
    },
    {
     "name": "stderr",
     "output_type": "stream",
     "text": [
      "Action: emotion: 100%|██████████| 1/1 [00:00<00:00, 17.78it/s]\n"
     ]
    },
    {
     "name": "stdout",
     "output_type": "stream",
     "text": [
      "Emotion values: {'angry': 0.029412099982029198, 'disgust': 9.687894619986183e-07, 'happy': 0.0008217655284672452, 'sad': 8.823872883550697, 'surprise': 9.541710710732835e-05, 'neutral': 91.00658839980295}\n",
      "Label: neutral\n"
     ]
    },
    {
     "name": "stderr",
     "output_type": "stream",
     "text": [
      "Action: emotion: 100%|██████████| 1/1 [00:00<00:00, 17.66it/s]\n"
     ]
    },
    {
     "name": "stdout",
     "output_type": "stream",
     "text": [
      "Emotion values: {'angry': 0.012040558794979006, 'disgust': 7.706877358515385e-08, 'happy': 0.00015277596503437962, 'sad': 1.3743964955210686, 'surprise': 4.097730084140494e-05, 'neutral': 98.59435558319092}\n",
      "Label: neutral\n"
     ]
    },
    {
     "name": "stderr",
     "output_type": "stream",
     "text": [
      "Action: emotion: 100%|██████████| 1/1 [00:00<00:00, 16.75it/s]\n"
     ]
    },
    {
     "name": "stdout",
     "output_type": "stream",
     "text": [
      "Emotion values: {'angry': 0.07428042869279639, 'disgust': 4.900140153475904e-06, 'happy': 0.0003594677108447724, 'sad': 6.137651963513855, 'surprise': 0.00013437836049593854, 'neutral': 93.68222431156346}\n",
      "Label: neutral\n"
     ]
    },
    {
     "name": "stderr",
     "output_type": "stream",
     "text": [
      "Action: emotion: 100%|██████████| 1/1 [00:00<00:00, 16.07it/s]\n"
     ]
    },
    {
     "name": "stdout",
     "output_type": "stream",
     "text": [
      "Emotion values: {'angry': 0.14157702680677176, 'disgust': 1.251444814442948e-05, 'happy': 0.0014374003512784839, 'sad': 24.520424008369446, 'surprise': 0.00013416090496320976, 'neutral': 74.98687505722046}\n",
      "Label: neutral\n"
     ]
    },
    {
     "name": "stderr",
     "output_type": "stream",
     "text": [
      "Action: emotion: 100%|██████████| 1/1 [00:00<00:00, 17.67it/s]\n"
     ]
    },
    {
     "name": "stdout",
     "output_type": "stream",
     "text": [
      "Emotion values: {'angry': 0.16457810200192308, 'disgust': 4.1644330659977904e-05, 'happy': 0.0008090294558850393, 'sad': 3.619553089791168, 'surprise': 0.0006637502456223299, 'neutral': 95.89362193422056}\n",
      "Label: neutral\n"
     ]
    },
    {
     "name": "stderr",
     "output_type": "stream",
     "text": [
      "Action: emotion: 100%|██████████| 1/1 [00:00<00:00, 18.08it/s]\n"
     ]
    },
    {
     "name": "stdout",
     "output_type": "stream",
     "text": [
      "Emotion values: {'angry': 0.028048385865986347, 'disgust': 8.811715446199742e-06, 'happy': 0.0013803765796183143, 'sad': 6.67322650551796, 'surprise': 0.00020304244117141934, 'neutral': 92.9272711277008}\n",
      "Label: neutral\n"
     ]
    },
    {
     "name": "stderr",
     "output_type": "stream",
     "text": [
      "Action: emotion: 100%|██████████| 1/1 [00:00<00:00, 17.47it/s]\n"
     ]
    },
    {
     "name": "stdout",
     "output_type": "stream",
     "text": [
      "Emotion values: {'angry': 1.4705807901918888, 'disgust': 0.0033252039429498836, 'happy': 0.00722640470485203, 'sad': 2.771223895251751, 'surprise': 0.025361927691847086, 'neutral': 91.2038266658783}\n",
      "Label: neutral\n"
     ]
    },
    {
     "name": "stderr",
     "output_type": "stream",
     "text": [
      "Action: emotion: 100%|██████████| 1/1 [00:00<00:00, 18.36it/s]\n"
     ]
    },
    {
     "name": "stdout",
     "output_type": "stream",
     "text": [
      "Emotion values: {'angry': 23.386794232535017, 'disgust': 0.01769028563953776, 'happy': 0.005759353714388458, 'sad': 0.7869836412062431, 'surprise': 17.25303782540785, 'neutral': 2.9788672836939862}\n",
      "Label: angry\n"
     ]
    },
    {
     "name": "stderr",
     "output_type": "stream",
     "text": [
      "Action: emotion: 100%|██████████| 1/1 [00:00<00:00, 17.49it/s]\n"
     ]
    },
    {
     "name": "stdout",
     "output_type": "stream",
     "text": [
      "Emotion values: {'angry': 8.955450778549817, 'disgust': 0.0013014068185129922, 'happy': 0.0011362585165155211, 'sad': 0.2978191355980473, 'surprise': 13.200706159984332, 'neutral': 0.7285288132245763}\n",
      "Label: surprise\n"
     ]
    },
    {
     "name": "stderr",
     "output_type": "stream",
     "text": [
      "Action: emotion: 100%|██████████| 1/1 [00:00<00:00, 18.65it/s]\n"
     ]
    },
    {
     "name": "stdout",
     "output_type": "stream",
     "text": [
      "Emotion values: {'angry': 0.8207921775776916, 'disgust': 0.00024733520618843585, 'happy': 0.00027769661046795567, 'sad': 0.017475948169508267, 'surprise': 9.852171575505357, 'neutral': 0.013824402027254068}\n",
      "Label: surprise\n"
     ]
    },
    {
     "name": "stderr",
     "output_type": "stream",
     "text": [
      "Action: emotion: 100%|██████████| 1/1 [00:00<00:00, 15.99it/s]\n"
     ]
    },
    {
     "name": "stdout",
     "output_type": "stream",
     "text": [
      "Emotion values: {'angry': 1.3012265630797484, 'disgust': 0.0010372204705847987, 'happy': 0.001092703743426166, 'sad': 0.020647834529132963, 'surprise': 5.580881570630167, 'neutral': 0.01062788496393211}\n",
      "Label: surprise\n"
     ]
    },
    {
     "name": "stderr",
     "output_type": "stream",
     "text": [
      "Action: emotion: 100%|██████████| 1/1 [00:00<00:00, 17.00it/s]\n"
     ]
    },
    {
     "name": "stdout",
     "output_type": "stream",
     "text": [
      "Emotion values: {'angry': 2.378123626112938, 'disgust': 0.004946972330799326, 'happy': 0.0017873006072477438, 'sad': 0.038709878572262824, 'surprise': 3.3857639878988266, 'neutral': 0.019684650760609657}\n",
      "Label: surprise\n"
     ]
    },
    {
     "name": "stderr",
     "output_type": "stream",
     "text": [
      "Action: emotion: 100%|██████████| 1/1 [00:00<00:00, 16.42it/s]\n"
     ]
    },
    {
     "name": "stdout",
     "output_type": "stream",
     "text": [
      "Emotion values: {'angry': 17.672568559646606, 'disgust': 0.10010343976318836, 'happy': 0.012379717372823507, 'sad': 7.878261059522629, 'surprise': 11.101692169904709, 'neutral': 1.7439894378185272}\n",
      "Label: angry\n"
     ]
    },
    {
     "name": "stderr",
     "output_type": "stream",
     "text": [
      "Action: emotion: 100%|██████████| 1/1 [00:00<00:00, 17.41it/s]\n"
     ]
    },
    {
     "name": "stdout",
     "output_type": "stream",
     "text": [
      "Emotion values: {'angry': 4.191239051075095, 'disgust': 0.050056550971010215, 'happy': 0.011847763423329482, 'sad': 0.6932827283253994, 'surprise': 1.1521859583632996, 'neutral': 0.12081047476852241}\n",
      "Label: angry\n"
     ]
    },
    {
     "name": "stderr",
     "output_type": "stream",
     "text": [
      "Action: emotion: 100%|██████████| 1/1 [00:00<00:00, 16.55it/s]\n"
     ]
    },
    {
     "name": "stdout",
     "output_type": "stream",
     "text": [
      "Emotion values: {'angry': 2.088274185267188, 'disgust': 0.010441073601639438, 'happy': 0.0009957921697419157, 'sad': 1.9461603377866343, 'surprise': 0.04502956044042135, 'neutral': 0.5431795776570347}\n",
      "Label: angry\n"
     ]
    },
    {
     "name": "stderr",
     "output_type": "stream",
     "text": [
      "Action: emotion: 100%|██████████| 1/1 [00:00<00:00, 18.04it/s]\n"
     ]
    },
    {
     "name": "stdout",
     "output_type": "stream",
     "text": [
      "Emotion values: {'angry': 2.3246224969625473, 'disgust': 0.0014342796021082904, 'happy': 0.0006467973889812129, 'sad': 4.113107547163963, 'surprise': 0.06680351798422635, 'neutral': 2.423684112727642}\n",
      "Label: sad\n"
     ]
    },
    {
     "name": "stderr",
     "output_type": "stream",
     "text": [
      "Action: emotion: 100%|██████████| 1/1 [00:00<00:00, 16.48it/s]\n"
     ]
    },
    {
     "name": "stdout",
     "output_type": "stream",
     "text": [
      "Emotion values: {'angry': 3.8260314613580704, 'disgust': 0.002034627141256351, 'happy': 0.00042456758819753304, 'sad': 1.0982738807797432, 'surprise': 1.0857649147510529, 'neutral': 1.047123596072197}\n",
      "Label: angry\n"
     ]
    },
    {
     "name": "stderr",
     "output_type": "stream",
     "text": [
      "Action: emotion: 100%|██████████| 1/1 [00:00<00:00, 18.37it/s]\n"
     ]
    },
    {
     "name": "stdout",
     "output_type": "stream",
     "text": [
      "Emotion values: {'angry': 1.6378367319703102, 'disgust': 0.005367161793401465, 'happy': 0.0024982626200653613, 'sad': 0.8805561810731888, 'surprise': 0.12034169631078839, 'neutral': 0.09228378185071051}\n",
      "Label: angry\n"
     ]
    },
    {
     "name": "stderr",
     "output_type": "stream",
     "text": [
      "Action: emotion: 100%|██████████| 1/1 [00:00<00:00, 17.36it/s]\n"
     ]
    },
    {
     "name": "stdout",
     "output_type": "stream",
     "text": [
      "Emotion values: {'angry': 0.9174559812221516, 'disgust': 0.0031549358088903984, 'happy': 0.001217403841823196, 'sad': 0.7942365955851433, 'surprise': 0.053829935793872824, 'neutral': 0.14070201106828517}\n",
      "Label: angry\n"
     ]
    },
    {
     "name": "stderr",
     "output_type": "stream",
     "text": [
      "Action: emotion: 100%|██████████| 1/1 [00:00<00:00, 17.59it/s]\n"
     ]
    },
    {
     "name": "stdout",
     "output_type": "stream",
     "text": [
      "Emotion values: {'angry': 1.403615064918995, 'disgust': 0.006150195258669555, 'happy': 0.0021834746803506278, 'sad': 0.28533851727843285, 'surprise': 0.4729623906314373, 'neutral': 0.040189383435063064}\n",
      "Label: angry\n"
     ]
    },
    {
     "name": "stderr",
     "output_type": "stream",
     "text": [
      "Action: emotion: 100%|██████████| 1/1 [00:00<00:00, 17.71it/s]\n"
     ]
    },
    {
     "name": "stdout",
     "output_type": "stream",
     "text": [
      "Emotion values: {'angry': 1.7415421083569527, 'disgust': 0.001761034582159482, 'happy': 0.0003387925289644045, 'sad': 4.246554896235466, 'surprise': 0.0302247324725613, 'neutral': 0.16788187203928828}\n",
      "Label: sad\n"
     ]
    },
    {
     "name": "stderr",
     "output_type": "stream",
     "text": [
      "Action: emotion: 100%|██████████| 1/1 [00:00<00:00, 17.33it/s]\n"
     ]
    },
    {
     "name": "stdout",
     "output_type": "stream",
     "text": [
      "Emotion values: {'angry': 5.243052169680595, 'disgust': 0.0061190148699097335, 'happy': 0.0030545175832230598, 'sad': 22.540481388568878, 'surprise': 0.01819966419134289, 'neutral': 21.431206166744232}\n",
      "Label: sad\n"
     ]
    },
    {
     "name": "stderr",
     "output_type": "stream",
     "text": [
      "Action: emotion: 100%|██████████| 1/1 [00:00<00:00, 17.88it/s]\n"
     ]
    },
    {
     "name": "stdout",
     "output_type": "stream",
     "text": [
      "Emotion values: {'angry': 2.8789300178205988, 'disgust': 0.03742608687890612, 'happy': 0.00317325686039578, 'sad': 1.213453668469628, 'surprise': 0.20270301117187872, 'neutral': 0.11974427879533515}\n",
      "Label: angry\n"
     ]
    },
    {
     "name": "stderr",
     "output_type": "stream",
     "text": [
      "Action: emotion: 100%|██████████| 1/1 [00:00<00:00, 17.45it/s]\n"
     ]
    },
    {
     "name": "stdout",
     "output_type": "stream",
     "text": [
      "Emotion values: {'angry': 10.985130071640015, 'disgust': 0.08952327189035714, 'happy': 0.001966006493603345, 'sad': 14.559902250766754, 'surprise': 0.04337191057857126, 'neutral': 16.130881011486053}\n",
      "Label: neutral\n"
     ]
    },
    {
     "name": "stderr",
     "output_type": "stream",
     "text": [
      "Action: emotion: 100%|██████████| 1/1 [00:00<00:00, 15.85it/s]\n"
     ]
    },
    {
     "name": "stdout",
     "output_type": "stream",
     "text": [
      "Emotion values: {'angry': 0.10462547652423382, 'disgust': 0.0039411952457157895, 'happy': 0.3234344068914652, 'sad': 28.659242391586304, 'surprise': 0.00811850477475673, 'neutral': 39.328792691230774}\n",
      "Label: neutral\n"
     ]
    },
    {
     "name": "stderr",
     "output_type": "stream",
     "text": [
      "Action: emotion: 100%|██████████| 1/1 [00:00<00:00, 17.25it/s]\n"
     ]
    },
    {
     "name": "stdout",
     "output_type": "stream",
     "text": [
      "Emotion values: {'angry': 0.05634621237978115, 'disgust': 0.0024709433654932075, 'happy': 0.7258214489115148, 'sad': 49.37160309383888, 'surprise': 0.0007515662212014321, 'neutral': 6.636633374490343}\n",
      "Label: sad\n"
     ]
    },
    {
     "name": "stderr",
     "output_type": "stream",
     "text": [
      "Action: emotion: 100%|██████████| 1/1 [00:00<00:00, 18.41it/s]\n"
     ]
    },
    {
     "name": "stdout",
     "output_type": "stream",
     "text": [
      "Emotion values: {'angry': 0.06070672314169843, 'disgust': 0.003918849558272745, 'happy': 0.2141181972842334, 'sad': 18.772136793860007, 'surprise': 0.003267000478541507, 'neutral': 26.61475101797289}\n",
      "Label: neutral\n"
     ]
    },
    {
     "name": "stderr",
     "output_type": "stream",
     "text": [
      "Action: emotion: 100%|██████████| 1/1 [00:00<00:00, 16.78it/s]\n"
     ]
    },
    {
     "name": "stdout",
     "output_type": "stream",
     "text": [
      "Emotion values: {'angry': 0.2100757215589715, 'disgust': 0.04309476610092915, 'happy': 0.041525568959895905, 'sad': 85.66769872115246, 'surprise': 0.00032707195844976726, 'neutral': 4.525067554418299}\n",
      "Label: sad\n"
     ]
    },
    {
     "name": "stderr",
     "output_type": "stream",
     "text": [
      "Action: emotion: 100%|██████████| 1/1 [00:00<00:00, 17.62it/s]\n"
     ]
    },
    {
     "name": "stdout",
     "output_type": "stream",
     "text": [
      "Emotion values: {'angry': 0.6139412987977266, 'disgust': 0.02016207145061344, 'happy': 0.008927517774282023, 'sad': 90.9489393234253, 'surprise': 0.00031559166018269025, 'neutral': 0.5044930148869753}\n",
      "Label: sad\n"
     ]
    },
    {
     "name": "stderr",
     "output_type": "stream",
     "text": [
      "Action: emotion: 100%|██████████| 1/1 [00:00<00:00, 17.69it/s]\n"
     ]
    },
    {
     "name": "stdout",
     "output_type": "stream",
     "text": [
      "Emotion values: {'angry': 0.24824307765811682, 'disgust': 0.0027495956601342186, 'happy': 0.003585225567803718, 'sad': 93.39069128036499, 'surprise': 0.00012355686749287997, 'neutral': 1.2459782883524895}\n",
      "Label: sad\n"
     ]
    },
    {
     "name": "stderr",
     "output_type": "stream",
     "text": [
      "Action: emotion: 100%|██████████| 1/1 [00:00<00:00, 16.70it/s]\n"
     ]
    },
    {
     "name": "stdout",
     "output_type": "stream",
     "text": [
      "Emotion values: {'angry': 0.24824307765811682, 'disgust': 0.0027495956601342186, 'happy': 0.003585225567803718, 'sad': 93.39069128036499, 'surprise': 0.00012355686749287997, 'neutral': 1.2459782883524895}\n",
      "Label: sad\n"
     ]
    },
    {
     "name": "stderr",
     "output_type": "stream",
     "text": [
      "Action: emotion: 100%|██████████| 1/1 [00:00<00:00, 18.81it/s]\n"
     ]
    },
    {
     "name": "stdout",
     "output_type": "stream",
     "text": [
      "Emotion values: {'angry': 0.15127756632864475, 'disgust': 0.004319445724831894, 'happy': 0.5021657329052687, 'sad': 47.89697825908661, 'surprise': 0.003282215038780123, 'neutral': 10.606033354997635}\n",
      "Label: sad\n"
     ]
    },
    {
     "name": "stderr",
     "output_type": "stream",
     "text": [
      "Action: emotion: 100%|██████████| 1/1 [00:00<00:00, 18.18it/s]\n"
     ]
    },
    {
     "name": "stdout",
     "output_type": "stream",
     "text": [
      "Emotion values: {'angry': 0.5002894271337645, 'disgust': 0.02605992350060037, 'happy': 0.005652896261806936, 'sad': 55.72001074075763, 'surprise': 0.0007539803840817135, 'neutral': 2.287985334574302}\n",
      "Label: sad\n"
     ]
    },
    {
     "name": "stderr",
     "output_type": "stream",
     "text": [
      "Action: emotion: 100%|██████████| 1/1 [00:00<00:00, 17.79it/s]\n"
     ]
    },
    {
     "name": "stdout",
     "output_type": "stream",
     "text": [
      "Emotion values: {'angry': 0.08091321697313887, 'disgust': 0.001539490677616469, 'happy': 0.0022294708706891496, 'sad': 81.77410255516186, 'surprise': 7.625563853024644e-05, 'neutral': 0.6581677050541463}\n",
      "Label: sad\n"
     ]
    },
    {
     "name": "stderr",
     "output_type": "stream",
     "text": [
      "Action: emotion: 100%|██████████| 1/1 [00:00<00:00, 16.72it/s]\n"
     ]
    },
    {
     "name": "stdout",
     "output_type": "stream",
     "text": [
      "Emotion values: {'angry': 0.6116627249866724, 'disgust': 0.013648091407958418, 'happy': 0.20214440301060677, 'sad': 36.207640171051025, 'surprise': 0.005476851583807729, 'neutral': 22.459064424037933}\n",
      "Label: sad\n"
     ]
    },
    {
     "name": "stderr",
     "output_type": "stream",
     "text": [
      "Action: emotion: 100%|██████████| 1/1 [00:00<00:00, 16.59it/s]\n"
     ]
    },
    {
     "name": "stdout",
     "output_type": "stream",
     "text": [
      "Emotion values: {'angry': 2.371608279645443, 'disgust': 0.06231043371371925, 'happy': 0.012857760884799063, 'sad': 23.771938681602478, 'surprise': 0.0014038751942280214, 'neutral': 66.95394515991211}\n",
      "Label: neutral\n"
     ]
    },
    {
     "name": "stderr",
     "output_type": "stream",
     "text": [
      "Action: emotion: 100%|██████████| 1/1 [00:00<00:00, 19.16it/s]\n"
     ]
    },
    {
     "name": "stdout",
     "output_type": "stream",
     "text": [
      "Emotion values: {'angry': 0.128199381288141, 'disgust': 8.079890534418155e-06, 'happy': 0.03093024715781212, 'sad': 10.448483377695084, 'surprise': 0.0006124188530520769, 'neutral': 88.11531662940979}\n",
      "Label: neutral\n"
     ]
    },
    {
     "name": "stderr",
     "output_type": "stream",
     "text": [
      "Action: emotion: 100%|██████████| 1/1 [00:00<00:00, 18.29it/s]\n"
     ]
    },
    {
     "name": "stdout",
     "output_type": "stream",
     "text": [
      "Emotion values: {'angry': 0.3095855237916112, 'disgust': 0.00010398483709650463, 'happy': 0.07041860953904688, 'sad': 11.481093615293503, 'surprise': 0.0017197906345245428, 'neutral': 86.85634136199951}\n",
      "Label: neutral\n"
     ]
    },
    {
     "name": "stderr",
     "output_type": "stream",
     "text": [
      "Action: emotion: 100%|██████████| 1/1 [00:00<00:00, 18.59it/s]\n"
     ]
    },
    {
     "name": "stdout",
     "output_type": "stream",
     "text": [
      "Emotion values: {'angry': 0.21917088604171442, 'disgust': 7.594326750310214e-06, 'happy': 0.023745725127446635, 'sad': 3.0662885005726217, 'surprise': 0.003993056340388756, 'neutral': 95.949274784413}\n",
      "Label: neutral\n"
     ]
    },
    {
     "name": "stderr",
     "output_type": "stream",
     "text": [
      "Action: emotion: 100%|██████████| 1/1 [00:00<00:00, 15.84it/s]\n"
     ]
    },
    {
     "name": "stdout",
     "output_type": "stream",
     "text": [
      "Emotion values: {'angry': 0.13229100356495402, 'disgust': 9.708724359162224e-06, 'happy': 0.0249281977027698, 'sad': 2.169269080118482, 'surprise': 0.004067452997846522, 'neutral': 97.29540331932326}\n",
      "Label: neutral\n"
     ]
    },
    {
     "name": "stderr",
     "output_type": "stream",
     "text": [
      "Action: emotion: 100%|██████████| 1/1 [00:00<00:00, 16.76it/s]\n"
     ]
    },
    {
     "name": "stdout",
     "output_type": "stream",
     "text": [
      "Emotion values: {'angry': 0.6525488027959349, 'disgust': 0.00011166172936815482, 'happy': 0.025754170281129793, 'sad': 17.99291330533703, 'surprise': 0.0029742757714503903, 'neutral': 79.06707400483334}\n",
      "Label: neutral\n"
     ]
    },
    {
     "name": "stderr",
     "output_type": "stream",
     "text": [
      "Action: emotion: 100%|██████████| 1/1 [00:00<00:00, 18.89it/s]\n"
     ]
    },
    {
     "name": "stdout",
     "output_type": "stream",
     "text": [
      "Emotion values: {'angry': 0.3922862932085991, 'disgust': 2.947048471924063e-05, 'happy': 0.0088246822997462, 'sad': 3.4689363092184067, 'surprise': 0.003723166446434334, 'neutral': 95.00271081924438}\n",
      "Label: neutral\n"
     ]
    },
    {
     "name": "stderr",
     "output_type": "stream",
     "text": [
      "Action: emotion: 100%|██████████| 1/1 [00:00<00:00, 18.41it/s]\n"
     ]
    },
    {
     "name": "stdout",
     "output_type": "stream",
     "text": [
      "Emotion values: {'angry': 0.20551627967506647, 'disgust': 1.3450438984818902e-05, 'happy': 0.003184288289048709, 'sad': 9.56495851278305, 'surprise': 0.0007666907549719326, 'neutral': 89.43513631820679}\n",
      "Label: neutral\n"
     ]
    },
    {
     "name": "stderr",
     "output_type": "stream",
     "text": [
      "Action: emotion: 100%|██████████| 1/1 [00:00<00:00, 17.52it/s]\n"
     ]
    },
    {
     "name": "stdout",
     "output_type": "stream",
     "text": [
      "Emotion values: {'angry': 0.17611802322790027, 'disgust': 1.8074324259487184e-05, 'happy': 0.003887569619109854, 'sad': 4.385927319526672, 'surprise': 0.0022125410396256484, 'neutral': 94.50917840003967}\n",
      "Label: neutral\n"
     ]
    },
    {
     "name": "stderr",
     "output_type": "stream",
     "text": [
      "Action: emotion: 100%|██████████| 1/1 [00:00<00:00, 17.74it/s]\n"
     ]
    },
    {
     "name": "stdout",
     "output_type": "stream",
     "text": [
      "Emotion values: {'angry': 0.27930896193576316, 'disgust': 2.7081244593689107e-05, 'happy': 0.04379813095446605, 'sad': 5.540128509386956, 'surprise': 0.007702319808633127, 'neutral': 91.35269029704448}\n",
      "Label: neutral\n"
     ]
    },
    {
     "name": "stderr",
     "output_type": "stream",
     "text": [
      "Action: emotion: 100%|██████████| 1/1 [00:00<00:00, 18.31it/s]\n"
     ]
    },
    {
     "name": "stdout",
     "output_type": "stream",
     "text": [
      "Emotion values: {'angry': 3.5958885585202505, 'disgust': 5.605636956950505e-05, 'happy': 0.018910511354407803, 'sad': 12.792761588959504, 'surprise': 0.1968257360219078, 'neutral': 0.37053243962288623}\n",
      "Label: sad\n"
     ]
    },
    {
     "name": "stderr",
     "output_type": "stream",
     "text": [
      "Action: emotion: 100%|██████████| 1/1 [00:00<00:00, 16.30it/s]"
     ]
    },
    {
     "name": "stdout",
     "output_type": "stream",
     "text": [
      "Emotion values: {'angry': 0.2310388721525669, 'disgust': 6.1939169071489886e-09, 'happy': 0.006376721285050735, 'sad': 0.16616445500403643, 'surprise': 1.287399884313345, 'neutral': 0.0015015350982139353}\n",
      "Label: surprise\n"
     ]
    },
    {
     "name": "stderr",
     "output_type": "stream",
     "text": [
      "\n",
      "Action: emotion: 100%|██████████| 1/1 [00:00<00:00, 17.91it/s]\n"
     ]
    },
    {
     "name": "stdout",
     "output_type": "stream",
     "text": [
      "Emotion values: {'angry': 0.42713237926363945, 'disgust': 1.814088790297319e-05, 'happy': 0.026591445202939212, 'sad': 95.80711126327515, 'surprise': 9.200095405503816e-05, 'neutral': 0.010977907368214801}\n",
      "Label: sad\n"
     ]
    },
    {
     "name": "stderr",
     "output_type": "stream",
     "text": [
      "Action: emotion: 100%|██████████| 1/1 [00:00<00:00, 17.83it/s]\n"
     ]
    },
    {
     "name": "stdout",
     "output_type": "stream",
     "text": [
      "Emotion values: {'angry': 0.42713237926363945, 'disgust': 1.814088790297319e-05, 'happy': 0.026591445202939212, 'sad': 95.80711126327515, 'surprise': 9.200095405503816e-05, 'neutral': 0.010977907368214801}\n",
      "Label: sad\n"
     ]
    },
    {
     "name": "stderr",
     "output_type": "stream",
     "text": [
      "Action: emotion: 100%|██████████| 1/1 [00:00<00:00, 18.89it/s]\n"
     ]
    },
    {
     "name": "stdout",
     "output_type": "stream",
     "text": [
      "Emotion values: {'angry': 3.478008178235075, 'disgust': 0.010232927653533164, 'happy': 0.06839870126455441, 'sad': 83.35187832735518, 'surprise': 0.005033584838894996, 'neutral': 2.261049942499392}\n",
      "Label: sad\n"
     ]
    },
    {
     "name": "stderr",
     "output_type": "stream",
     "text": [
      "Action: emotion: 100%|██████████| 1/1 [00:00<00:00, 18.13it/s]\n"
     ]
    },
    {
     "name": "stdout",
     "output_type": "stream",
     "text": [
      "Emotion values: {'angry': 0.5523546133190393, 'disgust': 0.00021195553472352913, 'happy': 0.006135632429504767, 'sad': 93.87879967689514, 'surprise': 0.00017345925016343244, 'neutral': 0.09483831818215549}\n",
      "Label: sad\n"
     ]
    },
    {
     "name": "stderr",
     "output_type": "stream",
     "text": [
      "Action: emotion: 100%|██████████| 1/1 [00:00<00:00, 19.53it/s]\n"
     ]
    },
    {
     "name": "stdout",
     "output_type": "stream",
     "text": [
      "Emotion values: {'angry': 2.2938022390007973, 'disgust': 0.0015186153177637607, 'happy': 0.050893594743683934, 'sad': 84.96856093406677, 'surprise': 0.0021346988432924263, 'neutral': 0.7649868726730347}\n",
      "Label: sad\n"
     ]
    },
    {
     "name": "stderr",
     "output_type": "stream",
     "text": [
      "Action: emotion: 100%|██████████| 1/1 [00:00<00:00, 17.46it/s]\n"
     ]
    },
    {
     "name": "stdout",
     "output_type": "stream",
     "text": [
      "Emotion values: {'angry': 2.2938022390007973, 'disgust': 0.0015186153177637607, 'happy': 0.050893594743683934, 'sad': 84.96856093406677, 'surprise': 0.0021346988432924263, 'neutral': 0.7649868726730347}\n",
      "Label: sad\n"
     ]
    },
    {
     "name": "stderr",
     "output_type": "stream",
     "text": [
      "Action: emotion: 100%|██████████| 1/1 [00:00<00:00, 18.72it/s]\n"
     ]
    },
    {
     "name": "stdout",
     "output_type": "stream",
     "text": [
      "Emotion values: {'angry': 3.8657505065202713, 'disgust': 0.00019193466869182885, 'happy': 0.02871326287277043, 'sad': 42.606452107429504, 'surprise': 0.007443602953571826, 'neutral': 0.46667521819472313}\n",
      "Label: sad\n"
     ]
    },
    {
     "name": "stderr",
     "output_type": "stream",
     "text": [
      "Action: emotion: 100%|██████████| 1/1 [00:00<00:00, 16.59it/s]\n"
     ]
    },
    {
     "name": "stdout",
     "output_type": "stream",
     "text": [
      "Emotion values: {'angry': 3.378349542617798, 'disgust': 8.07079686637735e-05, 'happy': 0.0058633821026887745, 'sad': 34.93238091468811, 'surprise': 0.003065108830924146, 'neutral': 0.1654584426432848}\n",
      "Label: sad\n"
     ]
    },
    {
     "name": "stderr",
     "output_type": "stream",
     "text": [
      "Action: emotion: 100%|██████████| 1/1 [00:00<00:00, 17.22it/s]"
     ]
    },
    {
     "name": "stdout",
     "output_type": "stream",
     "text": [
      "Emotion values: {'angry': 3.1170303011500478, 'disgust': 0.00023650679304462903, 'happy': 0.011602131489130826, 'sad': 24.95683134116753, 'surprise': 0.0049244250063072885, 'neutral': 0.37110448116308675}\n",
      "Label: sad\n"
     ]
    },
    {
     "name": "stderr",
     "output_type": "stream",
     "text": [
      "\n",
      "Action: emotion: 100%|██████████| 1/1 [00:00<00:00, 19.47it/s]\n"
     ]
    },
    {
     "name": "stdout",
     "output_type": "stream",
     "text": [
      "Emotion values: {'angry': 0.868598175066927, 'disgust': 6.713064858654581e-05, 'happy': 0.048367041800188505, 'sad': 32.18286845888275, 'surprise': 0.004521891066639631, 'neutral': 0.028857861814269505}\n",
      "Label: sad\n"
     ]
    },
    {
     "name": "stderr",
     "output_type": "stream",
     "text": [
      "Action: emotion: 100%|██████████| 1/1 [00:00<00:00, 17.74it/s]\n"
     ]
    },
    {
     "name": "stdout",
     "output_type": "stream",
     "text": [
      "Emotion values: {'angry': 0.868598175066927, 'disgust': 6.713064858654581e-05, 'happy': 0.048367041800188505, 'sad': 32.18286845888275, 'surprise': 0.004521891066639631, 'neutral': 0.028857861814269505}\n",
      "Label: sad\n"
     ]
    },
    {
     "name": "stderr",
     "output_type": "stream",
     "text": [
      "Action: emotion: 100%|██████████| 1/1 [00:00<00:00, 18.39it/s]\n"
     ]
    },
    {
     "name": "stdout",
     "output_type": "stream",
     "text": [
      "Emotion values: {'angry': 3.520965948700905, 'disgust': 0.004038451152155176, 'happy': 0.06504578632302582, 'sad': 84.7139060497284, 'surprise': 0.0013298691555974074, 'neutral': 0.9221522137522697}\n",
      "Label: sad\n"
     ]
    },
    {
     "name": "stderr",
     "output_type": "stream",
     "text": [
      "Action: emotion: 100%|██████████| 1/1 [00:00<00:00, 17.99it/s]\n"
     ]
    },
    {
     "name": "stdout",
     "output_type": "stream",
     "text": [
      "Emotion values: {'angry': 2.4489227682352066, 'disgust': 0.00015826427670617704, 'happy': 0.00104656146504567, 'sad': 88.79575729370117, 'surprise': 0.0004772312877321383, 'neutral': 2.814064361155033}\n",
      "Label: sad\n"
     ]
    },
    {
     "name": "stderr",
     "output_type": "stream",
     "text": [
      "Action: emotion: 100%|██████████| 1/1 [00:00<00:00, 16.06it/s]\n"
     ]
    },
    {
     "name": "stdout",
     "output_type": "stream",
     "text": [
      "Emotion values: {'angry': 0.1754702301695943, 'disgust': 6.433546104744892e-05, 'happy': 0.0035730885429074988, 'sad': 4.274061322212219, 'surprise': 0.0002805291160257184, 'neutral': 95.34872174263}\n",
      "Label: neutral\n"
     ]
    },
    {
     "name": "stderr",
     "output_type": "stream",
     "text": [
      "Action: emotion: 100%|██████████| 1/1 [00:00<00:00, 19.79it/s]\n"
     ]
    },
    {
     "name": "stdout",
     "output_type": "stream",
     "text": [
      "Emotion values: {'angry': 0.17897779955955145, 'disgust': 0.00011548123217669675, 'happy': 0.005998577392458872, 'sad': 13.235374583922301, 'surprise': 0.0005102365170740635, 'neutral': 85.48086795096802}\n",
      "Label: neutral\n"
     ]
    },
    {
     "name": "stderr",
     "output_type": "stream",
     "text": [
      "Action: emotion: 100%|██████████| 1/1 [00:00<00:00, 19.12it/s]\n"
     ]
    },
    {
     "name": "stdout",
     "output_type": "stream",
     "text": [
      "Emotion values: {'angry': 0.17897779955955145, 'disgust': 0.00011548123217669675, 'happy': 0.005998577392458872, 'sad': 13.235374583922301, 'surprise': 0.0005102365170740635, 'neutral': 85.48086795096802}\n",
      "Label: neutral\n"
     ]
    },
    {
     "name": "stderr",
     "output_type": "stream",
     "text": [
      "Action: emotion: 100%|██████████| 1/1 [00:00<00:00, 18.65it/s]\n"
     ]
    },
    {
     "name": "stdout",
     "output_type": "stream",
     "text": [
      "Emotion values: {'angry': 0.07207480375654995, 'disgust': 2.7434742833065684e-05, 'happy': 0.0002889615871026763, 'sad': 2.807970345020294, 'surprise': 0.0001320062665399746, 'neutral': 96.94143533706665}\n",
      "Label: neutral\n"
     ]
    },
    {
     "name": "stderr",
     "output_type": "stream",
     "text": [
      "Action: emotion: 100%|██████████| 1/1 [00:00<00:00, 17.50it/s]\n"
     ]
    },
    {
     "name": "stdout",
     "output_type": "stream",
     "text": [
      "Emotion values: {'angry': 0.8395090268259661, 'disgust': 7.651291754368737e-05, 'happy': 0.000527874712674745, 'sad': 28.725968523381265, 'surprise': 0.0008285719143725955, 'neutral': 68.68012956858453}\n",
      "Label: neutral\n"
     ]
    },
    {
     "name": "stderr",
     "output_type": "stream",
     "text": [
      "Action: emotion: 100%|██████████| 1/1 [00:00<00:00, 18.98it/s]\n"
     ]
    },
    {
     "name": "stdout",
     "output_type": "stream",
     "text": [
      "Emotion values: {'angry': 0.6760085001587868, 'disgust': 0.00034693155157583533, 'happy': 0.001311079176957719, 'sad': 21.52697443962097, 'surprise': 0.00033097433060902404, 'neutral': 77.01504230499268}\n",
      "Label: neutral\n"
     ]
    },
    {
     "name": "stderr",
     "output_type": "stream",
     "text": [
      "Action: emotion: 100%|██████████| 1/1 [00:00<00:00, 18.22it/s]\n"
     ]
    },
    {
     "name": "stdout",
     "output_type": "stream",
     "text": [
      "Emotion values: {'angry': 0.05081684794276953, 'disgust': 5.698843619228455e-07, 'happy': 0.00023386839984596008, 'sad': 6.808098405599594, 'surprise': 0.00012058046650054166, 'neutral': 93.0013358592987}\n",
      "Label: neutral\n"
     ]
    },
    {
     "name": "stderr",
     "output_type": "stream",
     "text": [
      "Action: emotion: 100%|██████████| 1/1 [00:00<00:00, 19.33it/s]\n"
     ]
    },
    {
     "name": "stdout",
     "output_type": "stream",
     "text": [
      "Emotion values: {'angry': 15.405738353729248, 'disgust': 0.02679276221897453, 'happy': 0.16841627657413483, 'sad': 38.94641697406769, 'surprise': 0.007963926327647641, 'neutral': 36.9710236787796}\n",
      "Label: sad\n"
     ]
    },
    {
     "name": "stderr",
     "output_type": "stream",
     "text": [
      "Action: emotion: 100%|██████████| 1/1 [00:00<00:00, 19.25it/s]\n"
     ]
    },
    {
     "name": "stdout",
     "output_type": "stream",
     "text": [
      "Emotion values: {'angry': 1.054534688591957, 'disgust': 4.951770105066089e-07, 'happy': 0.03404530871193856, 'sad': 13.392657041549683, 'surprise': 0.015614558651577681, 'neutral': 0.020225363550707698}\n",
      "Label: sad\n"
     ]
    },
    {
     "name": "stderr",
     "output_type": "stream",
     "text": [
      "Action: emotion: 100%|██████████| 1/1 [00:00<00:00, 17.79it/s]\n"
     ]
    },
    {
     "name": "stdout",
     "output_type": "stream",
     "text": [
      "Emotion values: {'angry': 0.09997376473620534, 'disgust': 9.928432831429745e-06, 'happy': 0.010781978198792785, 'sad': 99.21767115592957, 'surprise': 4.3988075049128383e-05, 'neutral': 0.005394766776589677}\n",
      "Label: sad\n"
     ]
    },
    {
     "name": "stderr",
     "output_type": "stream",
     "text": [
      "Action: emotion: 100%|██████████| 1/1 [00:00<00:00, 17.07it/s]\n"
     ]
    },
    {
     "name": "stdout",
     "output_type": "stream",
     "text": [
      "Emotion values: {'angry': 0.09997376473620534, 'disgust': 9.928432831429745e-06, 'happy': 0.010781978198792785, 'sad': 99.21767115592957, 'surprise': 4.3988075049128383e-05, 'neutral': 0.005394766776589677}\n",
      "Label: sad\n"
     ]
    },
    {
     "name": "stderr",
     "output_type": "stream",
     "text": [
      "Action: emotion: 100%|██████████| 1/1 [00:00<00:00, 16.68it/s]\n"
     ]
    },
    {
     "name": "stdout",
     "output_type": "stream",
     "text": [
      "Emotion values: {'angry': 0.17846459422422017, 'disgust': 7.951958215143835e-05, 'happy': 1.2794740963287171e-05, 'sad': 95.25594683026951, 'surprise': 3.99586121360836e-07, 'neutral': 4.3716314060468315}\n",
      "Label: sad\n"
     ]
    },
    {
     "name": "stderr",
     "output_type": "stream",
     "text": [
      "Action: emotion: 100%|██████████| 1/1 [00:00<00:00, 18.85it/s]\n"
     ]
    },
    {
     "name": "stdout",
     "output_type": "stream",
     "text": [
      "Emotion values: {'angry': 0.17846459422422017, 'disgust': 7.951958215143835e-05, 'happy': 1.2794740963287171e-05, 'sad': 95.25594683026951, 'surprise': 3.99586121360836e-07, 'neutral': 4.3716314060468315}\n",
      "Label: sad\n"
     ]
    },
    {
     "name": "stderr",
     "output_type": "stream",
     "text": [
      "Action: emotion: 100%|██████████| 1/1 [00:00<00:00, 18.91it/s]\n"
     ]
    },
    {
     "name": "stdout",
     "output_type": "stream",
     "text": [
      "Emotion values: {'angry': 0.18631246639415622, 'disgust': 0.0007101064966263948, 'happy': 9.95424784377974e-05, 'sad': 46.85000777244568, 'surprise': 2.388347581927519e-05, 'neutral': 52.55034565925598}\n",
      "Label: neutral\n"
     ]
    },
    {
     "name": "stderr",
     "output_type": "stream",
     "text": [
      "Action: emotion: 100%|██████████| 1/1 [00:00<00:00, 18.34it/s]\n"
     ]
    },
    {
     "name": "stdout",
     "output_type": "stream",
     "text": [
      "Emotion values: {'angry': 0.22704205475747585, 'disgust': 0.0006568939625140047, 'happy': 0.0005892308763577603, 'sad': 89.45860862731934, 'surprise': 7.548907632326518e-06, 'neutral': 9.523168951272964}\n",
      "Label: sad\n"
     ]
    },
    {
     "name": "stderr",
     "output_type": "stream",
     "text": [
      "Action: emotion: 100%|██████████| 1/1 [00:00<00:00, 19.61it/s]\n"
     ]
    },
    {
     "name": "stdout",
     "output_type": "stream",
     "text": [
      "Emotion values: {'angry': 0.22907191887497902, 'disgust': 0.0003367302724655019, 'happy': 3.4687579386627476e-05, 'sad': 35.4485958814621, 'surprise': 6.7525768088216864e-06, 'neutral': 63.58587145805359}\n",
      "Label: neutral\n"
     ]
    },
    {
     "name": "stderr",
     "output_type": "stream",
     "text": [
      "Action: emotion: 100%|██████████| 1/1 [00:00<00:00, 18.49it/s]\n"
     ]
    },
    {
     "name": "stdout",
     "output_type": "stream",
     "text": [
      "Emotion values: {'angry': 0.22907191887497902, 'disgust': 0.0003367302724655019, 'happy': 3.4687579386627476e-05, 'sad': 35.4485958814621, 'surprise': 6.7525768088216864e-06, 'neutral': 63.58587145805359}\n",
      "Label: neutral\n"
     ]
    },
    {
     "name": "stderr",
     "output_type": "stream",
     "text": [
      "Action: emotion: 100%|██████████| 1/1 [00:00<00:00, 15.49it/s]\n"
     ]
    },
    {
     "name": "stdout",
     "output_type": "stream",
     "text": [
      "Emotion values: {'angry': 0.10809508385136724, 'disgust': 6.174067834763264e-05, 'happy': 0.00014757229109818581, 'sad': 53.149646520614624, 'surprise': 1.5546648057807033e-05, 'neutral': 43.86535882949829}\n",
      "Label: sad\n"
     ]
    },
    {
     "name": "stderr",
     "output_type": "stream",
     "text": [
      "Action: emotion: 100%|██████████| 1/1 [00:00<00:00, 17.67it/s]\n"
     ]
    },
    {
     "name": "stdout",
     "output_type": "stream",
     "text": [
      "Emotion values: {'angry': 0.2823759930728682, 'disgust': 0.0002078176955919107, 'happy': 6.907449432789497e-05, 'sad': 96.03544520909247, 'surprise': 5.175145028427679e-06, 'neutral': 3.276509028493282}\n",
      "Label: sad\n"
     ]
    },
    {
     "name": "stderr",
     "output_type": "stream",
     "text": [
      "Action: emotion: 100%|██████████| 1/1 [00:00<00:00, 17.80it/s]\n"
     ]
    },
    {
     "name": "stdout",
     "output_type": "stream",
     "text": [
      "Emotion values: {'angry': 0.17157151455113379, 'disgust': 5.752233166257022e-05, 'happy': 3.325191342850976e-06, 'sad': 98.46850028446319, 'surprise': 4.7632594043784305e-07, 'neutral': 1.044339096953815}\n",
      "Label: sad\n"
     ]
    },
    {
     "name": "stderr",
     "output_type": "stream",
     "text": [
      "Action: emotion: 100%|██████████| 1/1 [00:00<00:00, 19.66it/s]\n"
     ]
    },
    {
     "name": "stdout",
     "output_type": "stream",
     "text": [
      "Emotion values: {'angry': 0.015196102322079241, 'disgust': 4.019817367861833e-05, 'happy': 0.012892461381852627, 'sad': 3.2401807606220245, 'surprise': 0.0010690238013921771, 'neutral': 96.21574282646179}\n",
      "Label: neutral\n"
     ]
    },
    {
     "name": "stderr",
     "output_type": "stream",
     "text": [
      "Action: emotion: 100%|██████████| 1/1 [00:00<00:00, 18.95it/s]"
     ]
    },
    {
     "name": "stdout",
     "output_type": "stream",
     "text": [
      "Emotion values: {'angry': 0.1575272879563272, 'disgust': 0.00012973104048796813, 'happy': 0.0001036944922816474, 'sad': 57.545799016952515, 'surprise': 2.191456900391131e-05, 'neutral': 41.680559515953064}\n",
      "Label: sad\n"
     ]
    },
    {
     "name": "stderr",
     "output_type": "stream",
     "text": [
      "\n",
      "Action: emotion: 100%|██████████| 1/1 [00:00<00:00, 18.68it/s]\n"
     ]
    },
    {
     "name": "stdout",
     "output_type": "stream",
     "text": [
      "Emotion values: {'angry': 0.6227823905646801, 'disgust': 0.0006760796168236993, 'happy': 0.0013793917787552346, 'sad': 33.36054980754852, 'surprise': 0.00011788389429057133, 'neutral': 65.5282974243164}\n",
      "Label: neutral\n"
     ]
    },
    {
     "name": "stderr",
     "output_type": "stream",
     "text": [
      "Action: emotion: 100%|██████████| 1/1 [00:00<00:00, 18.80it/s]\n"
     ]
    },
    {
     "name": "stdout",
     "output_type": "stream",
     "text": [
      "Emotion values: {'angry': 0.2999912606541825, 'disgust': 4.442094013697121e-05, 'happy': 0.0006599795019654569, 'sad': 51.64269824537018, 'surprise': 9.118149882973868e-05, 'neutral': 47.557609982205626}\n",
      "Label: sad\n"
     ]
    },
    {
     "name": "stderr",
     "output_type": "stream",
     "text": [
      "Action: emotion: 100%|██████████| 1/1 [00:00<00:00, 18.22it/s]\n"
     ]
    },
    {
     "name": "stdout",
     "output_type": "stream",
     "text": [
      "Emotion values: {'angry': 0.01980713541168409, 'disgust': 4.336352193774635e-05, 'happy': 0.011376005518775762, 'sad': 1.6211574000810027, 'surprise': 0.0024744036292418206, 'neutral': 97.94710862321308}\n",
      "Label: neutral\n"
     ]
    },
    {
     "name": "stderr",
     "output_type": "stream",
     "text": [
      "Action: emotion: 100%|██████████| 1/1 [00:00<00:00, 18.09it/s]\n"
     ]
    },
    {
     "name": "stdout",
     "output_type": "stream",
     "text": [
      "Emotion values: {'angry': 0.0734655128326267, 'disgust': 2.3750627065055596e-05, 'happy': 0.0011342634024913423, 'sad': 32.52592086791992, 'surprise': 5.9230563920209534e-05, 'neutral': 67.19260811805725}\n",
      "Label: neutral\n"
     ]
    },
    {
     "name": "stderr",
     "output_type": "stream",
     "text": [
      "Action: emotion: 100%|██████████| 1/1 [00:00<00:00, 18.50it/s]\n"
     ]
    },
    {
     "name": "stdout",
     "output_type": "stream",
     "text": [
      "Emotion values: {'angry': 0.06354779267409698, 'disgust': 1.6284871667035395e-05, 'happy': 0.0008288114752913214, 'sad': 26.886321716685398, 'surprise': 3.957501300518566e-05, 'neutral': 72.65062169138322}\n",
      "Label: neutral\n"
     ]
    },
    {
     "name": "stderr",
     "output_type": "stream",
     "text": [
      "Action: emotion: 100%|██████████| 1/1 [00:00<00:00, 18.16it/s]\n"
     ]
    },
    {
     "name": "stdout",
     "output_type": "stream",
     "text": [
      "Emotion values: {'angry': 0.4977480339406749, 'disgust': 0.0021059622104224575, 'happy': 0.0014550934750886936, 'sad': 88.75095777219282, 'surprise': 3.879723298506675e-05, 'neutral': 10.290181505094857}\n",
      "Label: sad\n"
     ]
    },
    {
     "name": "stderr",
     "output_type": "stream",
     "text": [
      "Action: emotion: 100%|██████████| 1/1 [00:00<00:00, 16.61it/s]\n"
     ]
    },
    {
     "name": "stdout",
     "output_type": "stream",
     "text": [
      "Emotion values: {'angry': 0.4977480339406749, 'disgust': 0.0021059622104224575, 'happy': 0.0014550934750886936, 'sad': 88.75095777219282, 'surprise': 3.879723298506675e-05, 'neutral': 10.290181505094857}\n",
      "Label: sad\n"
     ]
    },
    {
     "name": "stderr",
     "output_type": "stream",
     "text": [
      "Action: emotion: 100%|██████████| 1/1 [00:00<00:00, 18.28it/s]\n"
     ]
    },
    {
     "name": "stdout",
     "output_type": "stream",
     "text": [
      "Emotion values: {'angry': 0.31130096867984347, 'disgust': 0.0002576731429934326, 'happy': 0.00256212821833436, 'sad': 82.43091597741342, 'surprise': 5.892188493044582e-05, 'neutral': 16.679824392785097}\n",
      "Label: sad\n"
     ]
    },
    {
     "name": "stderr",
     "output_type": "stream",
     "text": [
      "Action: emotion: 100%|██████████| 1/1 [00:00<00:00, 19.25it/s]\n"
     ]
    },
    {
     "name": "stdout",
     "output_type": "stream",
     "text": [
      "Emotion values: {'angry': 0.8858506164461741, 'disgust': 0.00021548761571666216, 'happy': 0.0671273020991565, 'sad': 0.9279677266161279, 'surprise': 0.11293134393878841, 'neutral': 96.04265666262249}\n",
      "Label: neutral\n"
     ]
    },
    {
     "name": "stderr",
     "output_type": "stream",
     "text": [
      "Action: emotion: 100%|██████████| 1/1 [00:00<00:00, 17.78it/s]\n"
     ]
    },
    {
     "name": "stdout",
     "output_type": "stream",
     "text": [
      "Emotion values: {'angry': 0.6657162077833662, 'disgust': 0.00012439499305828624, 'happy': 0.029972918062967726, 'sad': 1.0956551323121944, 'surprise': 0.02599700256494463, 'neutral': 97.66790839051109}\n",
      "Label: neutral\n"
     ]
    },
    {
     "name": "stderr",
     "output_type": "stream",
     "text": [
      "Action: emotion: 100%|██████████| 1/1 [00:00<00:00, 17.62it/s]\n"
     ]
    },
    {
     "name": "stdout",
     "output_type": "stream",
     "text": [
      "Emotion values: {'angry': 0.6619785446673632, 'disgust': 7.530841230618535e-05, 'happy': 0.04900333005934954, 'sad': 0.7264406885951757, 'surprise': 0.12007214827463031, 'neutral': 96.17335200309753}\n",
      "Label: neutral\n"
     ]
    },
    {
     "name": "stderr",
     "output_type": "stream",
     "text": [
      "Action: emotion: 100%|██████████| 1/1 [00:00<00:00, 16.53it/s]\n"
     ]
    },
    {
     "name": "stdout",
     "output_type": "stream",
     "text": [
      "Emotion values: {'angry': 0.16854078276082873, 'disgust': 1.542541099297523e-05, 'happy': 0.04546850686892867, 'sad': 1.1122355237603188, 'surprise': 0.01111106394091621, 'neutral': 98.33152294158936}\n",
      "Label: neutral\n"
     ]
    },
    {
     "name": "stderr",
     "output_type": "stream",
     "text": [
      "Action: emotion: 100%|██████████| 1/1 [00:00<00:00, 18.75it/s]\n"
     ]
    },
    {
     "name": "stdout",
     "output_type": "stream",
     "text": [
      "Emotion values: {'angry': 0.3918083384633064, 'disgust': 4.301055014366284e-05, 'happy': 0.04406566149555147, 'sad': 0.7868032902479172, 'surprise': 0.06500394665636122, 'neutral': 97.78795838356018}\n",
      "Label: neutral\n"
     ]
    },
    {
     "name": "stderr",
     "output_type": "stream",
     "text": [
      "Action: emotion: 100%|██████████| 1/1 [00:00<00:00, 17.77it/s]\n"
     ]
    },
    {
     "name": "stdout",
     "output_type": "stream",
     "text": [
      "Emotion values: {'angry': 0.6572384387254715, 'disgust': 0.0001177300305243989, 'happy': 0.1072328188456595, 'sad': 1.675911620259285, 'surprise': 0.10032394202426076, 'neutral': 96.3821530342102}\n",
      "Label: neutral\n"
     ]
    },
    {
     "name": "stderr",
     "output_type": "stream",
     "text": [
      "Action: emotion: 100%|██████████| 1/1 [00:00<00:00, 16.74it/s]\n"
     ]
    },
    {
     "name": "stdout",
     "output_type": "stream",
     "text": [
      "Emotion values: {'angry': 0.0769557140301913, 'disgust': 2.75371565550131e-06, 'happy': 0.016679624968674034, 'sad': 1.037974189966917, 'surprise': 0.0018241169527755119, 'neutral': 98.81823658943176}\n",
      "Label: neutral\n"
     ]
    },
    {
     "name": "stderr",
     "output_type": "stream",
     "text": [
      "Action: emotion: 100%|██████████| 1/1 [00:00<00:00, 17.29it/s]\n"
     ]
    },
    {
     "name": "stdout",
     "output_type": "stream",
     "text": [
      "Emotion values: {'angry': 0.9453115053474903, 'disgust': 0.0001963822114703362, 'happy': 0.14022475806996226, 'sad': 3.4754060208797455, 'surprise': 0.058677903143689036, 'neutral': 92.99319386482239}\n",
      "Label: neutral\n"
     ]
    },
    {
     "name": "stderr",
     "output_type": "stream",
     "text": [
      "Action: emotion: 100%|██████████| 1/1 [00:00<00:00, 16.77it/s]\n"
     ]
    },
    {
     "name": "stdout",
     "output_type": "stream",
     "text": [
      "Emotion values: {'angry': 0.3470200786453532, 'disgust': 2.666316322338122e-05, 'happy': 0.08457595171673309, 'sad': 1.7438951056537095, 'surprise': 0.09518793070877675, 'neutral': 93.8959773716913}\n",
      "Label: neutral\n"
     ]
    },
    {
     "name": "stderr",
     "output_type": "stream",
     "text": [
      "Action: emotion: 100%|██████████| 1/1 [00:00<00:00, 18.09it/s]\n"
     ]
    },
    {
     "name": "stdout",
     "output_type": "stream",
     "text": [
      "Emotion values: {'angry': 6.336260576693943, 'disgust': 0.025954562987029493, 'happy': 0.08228167027043756, 'sad': 13.633939488656582, 'surprise': 0.02469921888643874, 'neutral': 1.149125539615686}\n",
      "Label: sad\n"
     ]
    },
    {
     "name": "stderr",
     "output_type": "stream",
     "text": [
      "Action: emotion: 100%|██████████| 1/1 [00:00<00:00, 19.32it/s]\n"
     ]
    },
    {
     "name": "stdout",
     "output_type": "stream",
     "text": [
      "Emotion values: {'angry': 1.9044479355216026, 'disgust': 0.055346451699733734, 'happy': 0.0017108119209297001, 'sad': 92.42479205131531, 'surprise': 6.5196047671634e-05, 'neutral': 3.3710669726133347}\n",
      "Label: sad\n"
     ]
    },
    {
     "name": "stderr",
     "output_type": "stream",
     "text": [
      "Action: emotion: 100%|██████████| 1/1 [00:00<00:00, 18.33it/s]\n"
     ]
    },
    {
     "name": "stdout",
     "output_type": "stream",
     "text": [
      "Emotion values: {'angry': 5.103564262390137, 'disgust': 0.014671192911919206, 'happy': 0.00985909573500976, 'sad': 44.31464374065399, 'surprise': 0.0013594403753813822, 'neutral': 42.55910515785217}\n",
      "Label: sad\n"
     ]
    },
    {
     "name": "stderr",
     "output_type": "stream",
     "text": [
      "Action: emotion: 100%|██████████| 1/1 [00:00<00:00, 18.54it/s]\n"
     ]
    },
    {
     "name": "stdout",
     "output_type": "stream",
     "text": [
      "Emotion values: {'angry': 0.30596412252634764, 'disgust': 1.8142145563615486e-05, 'happy': 5.6514630841775215e-05, 'sad': 39.959001541137695, 'surprise': 5.8021709037348046e-05, 'neutral': 57.66827464103699}\n",
      "Label: neutral\n"
     ]
    },
    {
     "name": "stderr",
     "output_type": "stream",
     "text": [
      "Action: emotion: 100%|██████████| 1/1 [00:00<00:00, 11.02it/s]\n"
     ]
    },
    {
     "name": "stdout",
     "output_type": "stream",
     "text": [
      "Emotion values: {'angry': 0.19090639014167904, 'disgust': 0.00014005784727700105, 'happy': 0.00010203359499996862, 'sad': 12.818056307070696, 'surprise': 2.9247390708847894e-05, 'neutral': 84.8678487696828}\n",
      "Label: neutral\n"
     ]
    },
    {
     "name": "stderr",
     "output_type": "stream",
     "text": [
      "Action: emotion: 100%|██████████| 1/1 [00:00<00:00, 15.46it/s]\n"
     ]
    },
    {
     "name": "stdout",
     "output_type": "stream",
     "text": [
      "Emotion values: {'angry': 0.033080993096515125, 'disgust': 4.676921031665822e-05, 'happy': 0.05952608544348689, 'sad': 92.61197403740728, 'surprise': 4.8815033505108694e-05, 'neutral': 0.3743160739133402}\n",
      "Label: sad\n"
     ]
    },
    {
     "name": "stderr",
     "output_type": "stream",
     "text": [
      "Action: emotion: 100%|██████████| 1/1 [00:00<00:00, 15.35it/s]\n"
     ]
    },
    {
     "name": "stdout",
     "output_type": "stream",
     "text": [
      "Emotion values: {'angry': 0.1721772392851425, 'disgust': 5.0388484528849e-05, 'happy': 0.0012813179928844766, 'sad': 9.63234786601688, 'surprise': 0.00020103272950131037, 'neutral': 89.56587438990184}\n",
      "Label: neutral\n"
     ]
    },
    {
     "name": "stderr",
     "output_type": "stream",
     "text": [
      "Action: emotion: 100%|██████████| 1/1 [00:00<00:00, 16.54it/s]\n"
     ]
    },
    {
     "name": "stdout",
     "output_type": "stream",
     "text": [
      "Emotion values: {'angry': 0.21275023464113474, 'disgust': 1.1245264630588281e-05, 'happy': 0.00353493305738084, 'sad': 1.3493411242961884, 'surprise': 0.0009250473340216558, 'neutral': 97.84738421440125}\n",
      "Label: neutral\n"
     ]
    },
    {
     "name": "stderr",
     "output_type": "stream",
     "text": [
      "Action: emotion: 100%|██████████| 1/1 [00:00<00:00, 16.30it/s]\n"
     ]
    },
    {
     "name": "stdout",
     "output_type": "stream",
     "text": [
      "Emotion values: {'angry': 6.853640079498291, 'disgust': 0.0036783556424779817, 'happy': 0.02441590477246791, 'sad': 1.9499778747558594, 'surprise': 0.04148127045482397, 'neutral': 84.31910276412964}\n",
      "Label: neutral\n"
     ]
    },
    {
     "name": "stderr",
     "output_type": "stream",
     "text": [
      "Action: emotion: 100%|██████████| 1/1 [00:00<00:00, 15.36it/s]\n"
     ]
    },
    {
     "name": "stdout",
     "output_type": "stream",
     "text": [
      "Emotion values: {'angry': 12.900216925170055, 'disgust': 0.00914919983115753, 'happy': 0.02128106097129714, 'sad': 0.48893253559560007, 'surprise': 1.0432037837152224, 'neutral': 25.46922570100137}\n",
      "Label: neutral\n"
     ]
    },
    {
     "name": "stderr",
     "output_type": "stream",
     "text": [
      "Action: emotion: 100%|██████████| 1/1 [00:00<00:00, 16.63it/s]\n"
     ]
    },
    {
     "name": "stdout",
     "output_type": "stream",
     "text": [
      "Emotion values: {'angry': 1.0637166909873486, 'disgust': 0.00025455922241235385, 'happy': 0.003062158793909475, 'sad': 0.00944712883210741, 'surprise': 3.7657324224710464, 'neutral': 0.0835510203614831}\n",
      "Label: surprise\n"
     ]
    },
    {
     "name": "stderr",
     "output_type": "stream",
     "text": [
      "Action: emotion: 100%|██████████| 1/1 [00:00<00:00, 15.58it/s]\n"
     ]
    },
    {
     "name": "stdout",
     "output_type": "stream",
     "text": [
      "Emotion values: {'angry': 1.066893246024847, 'disgust': 0.00026372481443104334, 'happy': 4.597524181008339, 'sad': 0.1123407855629921, 'surprise': 50.811928510665894, 'neutral': 1.5055877156555653}\n",
      "Label: surprise\n"
     ]
    },
    {
     "name": "stderr",
     "output_type": "stream",
     "text": [
      "Action: emotion: 100%|██████████| 1/1 [00:00<00:00, 15.40it/s]\n"
     ]
    },
    {
     "name": "stdout",
     "output_type": "stream",
     "text": [
      "Emotion values: {'angry': 0.30239006624936265, 'disgust': 0.0006537869142510695, 'happy': 0.019290975498273164, 'sad': 0.00927756226153302, 'surprise': 4.345735016973613, 'neutral': 0.008914072924757996}\n",
      "Label: surprise\n"
     ]
    },
    {
     "name": "stderr",
     "output_type": "stream",
     "text": [
      "Action: emotion: 100%|██████████| 1/1 [00:00<00:00, 15.71it/s]\n"
     ]
    },
    {
     "name": "stdout",
     "output_type": "stream",
     "text": [
      "Emotion values: {'angry': 0.6173458783981728, 'disgust': 0.0008483831657937473, 'happy': 13.15429438080158, 'sad': 0.24662636293478984, 'surprise': 54.60760918901021, 'neutral': 2.0015544519754918}\n",
      "Label: surprise\n"
     ]
    },
    {
     "name": "stderr",
     "output_type": "stream",
     "text": [
      "Action: emotion: 100%|██████████| 1/1 [00:00<00:00, 16.89it/s]\n"
     ]
    },
    {
     "name": "stdout",
     "output_type": "stream",
     "text": [
      "Emotion values: {'angry': 1.1786121417417694, 'disgust': 0.002722400819794093, 'happy': 2.4206356237096336, 'sad': 0.11253376901552307, 'surprise': 42.8095034133796, 'neutral': 0.8803938633673029}\n",
      "Label: surprise\n"
     ]
    },
    {
     "name": "stderr",
     "output_type": "stream",
     "text": [
      "Action: emotion: 100%|██████████| 1/1 [00:00<00:00, 15.45it/s]\n"
     ]
    },
    {
     "name": "stdout",
     "output_type": "stream",
     "text": [
      "Emotion values: {'angry': 2.097054323378463, 'disgust': 0.0025991715759476467, 'happy': 0.0028614756843395937, 'sad': 0.04396978736768141, 'surprise': 3.2556569281611996, 'neutral': 0.07999654521213741}\n",
      "Label: surprise\n"
     ]
    },
    {
     "name": "stderr",
     "output_type": "stream",
     "text": [
      "Action: emotion: 100%|██████████| 1/1 [00:00<00:00, 16.39it/s]\n"
     ]
    },
    {
     "name": "stdout",
     "output_type": "stream",
     "text": [
      "Emotion values: {'angry': 6.808308511972427, 'disgust': 0.05287942476570606, 'happy': 0.009569826943334192, 'sad': 0.25674598291516304, 'surprise': 1.2426039204001427, 'neutral': 0.2539322478696704}\n",
      "Label: angry\n"
     ]
    },
    {
     "name": "stderr",
     "output_type": "stream",
     "text": [
      "Action: emotion: 100%|██████████| 1/1 [00:00<00:00, 16.37it/s]\n"
     ]
    },
    {
     "name": "stdout",
     "output_type": "stream",
     "text": [
      "Emotion values: {'angry': 13.466790318489075, 'disgust': 0.01614346547285095, 'happy': 0.06572663551196456, 'sad': 1.4314687810838223, 'surprise': 4.43226620554924, 'neutral': 1.889837346971035}\n",
      "Label: angry\n"
     ]
    },
    {
     "name": "stderr",
     "output_type": "stream",
     "text": [
      "Action: emotion: 100%|██████████| 1/1 [00:00<00:00, 15.85it/s]\n"
     ]
    },
    {
     "name": "stdout",
     "output_type": "stream",
     "text": [
      "Emotion values: {'angry': 12.55045682793341, 'disgust': 0.024903702491590678, 'happy': 0.17252973940577976, 'sad': 1.1846255060583957, 'surprise': 12.080262551338977, 'neutral': 1.0462072993764042}\n",
      "Label: angry\n"
     ]
    },
    {
     "name": "stderr",
     "output_type": "stream",
     "text": [
      "Action: emotion: 100%|██████████| 1/1 [00:00<00:00, 16.63it/s]\n"
     ]
    },
    {
     "name": "stdout",
     "output_type": "stream",
     "text": [
      "Emotion values: {'angry': 3.4896671772003174, 'disgust': 0.10460183257237077, 'happy': 0.03584591904655099, 'sad': 0.2773570129647851, 'surprise': 1.6581475734710693, 'neutral': 0.08671582327224314}\n",
      "Label: angry\n"
     ]
    },
    {
     "name": "stderr",
     "output_type": "stream",
     "text": [
      "Action: emotion: 100%|██████████| 1/1 [00:00<00:00, 14.90it/s]\n"
     ]
    },
    {
     "name": "stdout",
     "output_type": "stream",
     "text": [
      "Emotion values: {'angry': 3.708080271849665, 'disgust': 0.016056802000636847, 'happy': 0.02582866307913221, 'sad': 1.4062722958650942, 'surprise': 1.223809790469383, 'neutral': 1.4212317596354198}\n",
      "Label: angry\n"
     ]
    },
    {
     "name": "stderr",
     "output_type": "stream",
     "text": [
      "Action: emotion: 100%|██████████| 1/1 [00:00<00:00, 15.26it/s]\n"
     ]
    },
    {
     "name": "stdout",
     "output_type": "stream",
     "text": [
      "Emotion values: {'angry': 12.80020998717606, 'disgust': 0.027360125562220845, 'happy': 0.04109580431145753, 'sad': 7.9127502687424585, 'surprise': 0.5795139233478263, 'neutral': 17.559827420701232}\n",
      "Label: neutral\n"
     ]
    },
    {
     "name": "stderr",
     "output_type": "stream",
     "text": [
      "Action: emotion: 100%|██████████| 1/1 [00:00<00:00, 15.32it/s]\n"
     ]
    },
    {
     "name": "stdout",
     "output_type": "stream",
     "text": [
      "Emotion values: {'angry': 12.532316148281097, 'disgust': 0.0728266139049083, 'happy': 0.03372898499947041, 'sad': 3.070545941591263, 'surprise': 1.2503641657531261, 'neutral': 4.703076928853989}\n",
      "Label: angry\n"
     ]
    },
    {
     "name": "stderr",
     "output_type": "stream",
     "text": [
      "Action: emotion: 100%|██████████| 1/1 [00:00<00:00, 16.57it/s]\n"
     ]
    },
    {
     "name": "stdout",
     "output_type": "stream",
     "text": [
      "Emotion values: {'angry': 1.0884276308672207, 'disgust': 0.00400546074388501, 'happy': 3.3188296597498455, 'sad': 0.995151571640466, 'surprise': 11.374878816299368, 'neutral': 9.915070081655388}\n",
      "Label: surprise\n"
     ]
    },
    {
     "name": "stderr",
     "output_type": "stream",
     "text": [
      "Action: emotion: 100%|██████████| 1/1 [00:00<00:00, 16.73it/s]\n"
     ]
    },
    {
     "name": "stdout",
     "output_type": "stream",
     "text": [
      "Emotion values: {'angry': 3.9321672171354294, 'disgust': 0.0006867334832350025, 'happy': 0.010527181439101696, 'sad': 0.2628264017403126, 'surprise': 8.625761419534683, 'neutral': 1.1928291991353035}\n",
      "Label: surprise\n"
     ]
    },
    {
     "name": "stderr",
     "output_type": "stream",
     "text": [
      "Action: emotion: 100%|██████████| 1/1 [00:00<00:00, 15.79it/s]\n"
     ]
    },
    {
     "name": "stdout",
     "output_type": "stream",
     "text": [
      "Emotion values: {'angry': 10.17996505975515, 'disgust': 0.0010306633771920634, 'happy': 0.012674698546697113, 'sad': 1.8185707893115752, 'surprise': 1.5987969025252404, 'neutral': 11.228081508164495}\n",
      "Label: neutral\n"
     ]
    },
    {
     "name": "stderr",
     "output_type": "stream",
     "text": [
      "Action: emotion: 100%|██████████| 1/1 [00:00<00:00, 15.13it/s]\n"
     ]
    },
    {
     "name": "stdout",
     "output_type": "stream",
     "text": [
      "Emotion values: {'angry': 2.4865051731467247, 'disgust': 3.2435079333481553e-05, 'happy': 0.005470938413054682, 'sad': 1.112684328109026, 'surprise': 2.4334855377674103, 'neutral': 6.314072012901306}\n",
      "Label: neutral\n"
     ]
    },
    {
     "name": "stderr",
     "output_type": "stream",
     "text": [
      "Action: emotion: 100%|██████████| 1/1 [00:00<00:00, 15.79it/s]\n"
     ]
    },
    {
     "name": "stdout",
     "output_type": "stream",
     "text": [
      "Emotion values: {'angry': 8.272573351860046, 'disgust': 0.0006982707873248728, 'happy': 0.027631779084913433, 'sad': 2.3028193041682243, 'surprise': 1.3313191011548042, 'neutral': 12.37221360206604}\n",
      "Label: neutral\n"
     ]
    },
    {
     "name": "stderr",
     "output_type": "stream",
     "text": [
      "Action: emotion: 100%|██████████| 1/1 [00:00<00:00, 17.58it/s]\n"
     ]
    },
    {
     "name": "stdout",
     "output_type": "stream",
     "text": [
      "Emotion values: {'angry': 5.769483000040054, 'disgust': 0.00020146662791376002, 'happy': 0.017092740745283663, 'sad': 1.3430840335786343, 'surprise': 2.47487835586071, 'neutral': 26.366814970970154}\n",
      "Label: neutral\n"
     ]
    },
    {
     "name": "stderr",
     "output_type": "stream",
     "text": [
      "Action: emotion: 100%|██████████| 1/1 [00:00<00:00, 17.79it/s]\n"
     ]
    },
    {
     "name": "stdout",
     "output_type": "stream",
     "text": [
      "Emotion values: {'angry': 3.410254418849945, 'disgust': 8.434058713646664e-05, 'happy': 0.012050807708874345, 'sad': 0.8041970431804657, 'surprise': 2.8040358796715736, 'neutral': 28.171831369400024}\n",
      "Label: neutral\n"
     ]
    },
    {
     "name": "stderr",
     "output_type": "stream",
     "text": [
      "Action: emotion: 100%|██████████| 1/1 [00:00<00:00, 17.00it/s]\n"
     ]
    },
    {
     "name": "stdout",
     "output_type": "stream",
     "text": [
      "Emotion values: {'angry': 18.231151594588255, 'disgust': 0.02301868072077219, 'happy': 0.016992799204345, 'sad': 2.442634996332824, 'surprise': 0.2221367919973607, 'neutral': 7.677398334586521}\n",
      "Label: angry\n"
     ]
    },
    {
     "name": "stderr",
     "output_type": "stream",
     "text": [
      "Action: emotion: 100%|██████████| 1/1 [00:00<00:00, 18.08it/s]\n"
     ]
    },
    {
     "name": "stdout",
     "output_type": "stream",
     "text": [
      "Emotion values: {'angry': 0.0054898664529901, 'disgust': 4.6521571317459376e-10, 'happy': 5.264135077595711, 'sad': 0.06281905225478113, 'surprise': 0.0011699327842507046, 'neutral': 94.66336369514465}\n",
      "Label: neutral\n"
     ]
    },
    {
     "name": "stderr",
     "output_type": "stream",
     "text": [
      "Action: emotion: 100%|██████████| 1/1 [00:00<00:00, 17.04it/s]\n"
     ]
    },
    {
     "name": "stdout",
     "output_type": "stream",
     "text": [
      "Emotion values: {'angry': 0.10977390920743346, 'disgust': 2.4630431028072053e-08, 'happy': 18.41941922903061, 'sad': 0.7567028515040874, 'surprise': 0.004207883102935739, 'neutral': 80.70269227027893}\n",
      "Label: neutral\n"
     ]
    },
    {
     "name": "stderr",
     "output_type": "stream",
     "text": [
      "Action: emotion: 100%|██████████| 1/1 [00:00<00:00, 16.15it/s]"
     ]
    },
    {
     "name": "stdout",
     "output_type": "stream",
     "text": [
      "Emotion values: {'angry': 0.025602176901884377, 'disgust': 2.494924711271551e-07, 'happy': 85.09520888328552, 'sad': 0.03091842809226364, 'surprise': 0.026187329785898328, 'neutral': 14.82134461402893}\n",
      "Label: happy\n"
     ]
    },
    {
     "name": "stderr",
     "output_type": "stream",
     "text": [
      "\n",
      "Action: emotion: 100%|██████████| 1/1 [00:00<00:00, 18.53it/s]\n"
     ]
    },
    {
     "name": "stdout",
     "output_type": "stream",
     "text": [
      "Emotion values: {'angry': 0.019816242274828255, 'disgust': 3.5645498996927927e-06, 'happy': 0.8901472203433514, 'sad': 0.010980722436215729, 'surprise': 89.45426940917969, 'neutral': 0.011346209794282913}\n",
      "Label: surprise\n"
     ]
    },
    {
     "name": "stderr",
     "output_type": "stream",
     "text": [
      "Action: emotion: 100%|██████████| 1/1 [00:00<00:00, 17.54it/s]\n"
     ]
    },
    {
     "name": "stdout",
     "output_type": "stream",
     "text": [
      "Emotion values: {'angry': 0.019816242274828255, 'disgust': 3.5645498996927927e-06, 'happy': 0.8901472203433514, 'sad': 0.010980722436215729, 'surprise': 89.45426940917969, 'neutral': 0.011346209794282913}\n",
      "Label: surprise\n"
     ]
    },
    {
     "name": "stderr",
     "output_type": "stream",
     "text": [
      "Action: emotion: 100%|██████████| 1/1 [00:00<00:00, 18.07it/s]\n"
     ]
    },
    {
     "name": "stdout",
     "output_type": "stream",
     "text": [
      "Emotion values: {'angry': 9.684069454669952, 'disgust': 0.05320797790773213, 'happy': 0.9455814026296139, 'sad': 22.395500540733337, 'surprise': 0.0809923221822828, 'neutral': 25.920668244361877}\n",
      "Label: neutral\n"
     ]
    },
    {
     "name": "stderr",
     "output_type": "stream",
     "text": [
      "Action: emotion: 100%|██████████| 1/1 [00:00<00:00, 17.25it/s]\n"
     ]
    },
    {
     "name": "stdout",
     "output_type": "stream",
     "text": [
      "Emotion values: {'angry': 9.684069454669952, 'disgust': 0.05320797790773213, 'happy': 0.9455814026296139, 'sad': 22.395500540733337, 'surprise': 0.0809923221822828, 'neutral': 25.920668244361877}\n",
      "Label: neutral\n"
     ]
    },
    {
     "name": "stderr",
     "output_type": "stream",
     "text": [
      "Action: emotion: 100%|██████████| 1/1 [00:00<00:00, 16.54it/s]\n"
     ]
    },
    {
     "name": "stdout",
     "output_type": "stream",
     "text": [
      "Emotion values: {'angry': 1.8301846459507942, 'disgust': 0.20445878617465496, 'happy': 0.2904917346313596, 'sad': 38.188233971595764, 'surprise': 0.973191112279892, 'neutral': 41.28023087978363}\n",
      "Label: neutral\n"
     ]
    },
    {
     "name": "stderr",
     "output_type": "stream",
     "text": [
      "Action: emotion: 100%|██████████| 1/1 [00:00<00:00, 18.55it/s]\n"
     ]
    },
    {
     "name": "stdout",
     "output_type": "stream",
     "text": [
      "Emotion values: {'angry': 1.8301846459507942, 'disgust': 0.20445878617465496, 'happy': 0.2904917346313596, 'sad': 38.188233971595764, 'surprise': 0.973191112279892, 'neutral': 41.28023087978363}\n",
      "Label: neutral\n"
     ]
    },
    {
     "name": "stderr",
     "output_type": "stream",
     "text": [
      "Action: emotion: 100%|██████████| 1/1 [00:00<00:00, 17.39it/s]\n"
     ]
    },
    {
     "name": "stdout",
     "output_type": "stream",
     "text": [
      "Emotion values: {'angry': 1.6274857373527132, 'disgust': 0.20849147191592884, 'happy': 0.06186639443919924, 'sad': 52.41535022350253, 'surprise': 0.14893492640167036, 'neutral': 23.205424738253637}\n",
      "Label: sad\n"
     ]
    },
    {
     "name": "stderr",
     "output_type": "stream",
     "text": [
      "Action: emotion: 100%|██████████| 1/1 [00:00<00:00, 17.73it/s]\n"
     ]
    },
    {
     "name": "stdout",
     "output_type": "stream",
     "text": [
      "Emotion values: {'angry': 0.6142753542527768, 'disgust': 0.009797176464478759, 'happy': 0.08675063080344383, 'sad': 58.015642047860744, 'surprise': 0.047659984487331476, 'neutral': 8.958489236741617}\n",
      "Label: sad\n"
     ]
    },
    {
     "name": "stderr",
     "output_type": "stream",
     "text": [
      "Action: emotion: 100%|██████████| 1/1 [00:00<00:00, 17.53it/s]\n"
     ]
    },
    {
     "name": "stdout",
     "output_type": "stream",
     "text": [
      "Emotion values: {'angry': 0.7575949653983116, 'disgust': 0.010895554441958666, 'happy': 0.029109171009622514, 'sad': 64.91320133209229, 'surprise': 0.009110411338042468, 'neutral': 24.99045431613922}\n",
      "Label: sad\n"
     ]
    },
    {
     "name": "stderr",
     "output_type": "stream",
     "text": [
      "Action: emotion: 100%|██████████| 1/1 [00:00<00:00, 18.91it/s]\n"
     ]
    },
    {
     "name": "stdout",
     "output_type": "stream",
     "text": [
      "Emotion values: {'angry': 0.3888217731235488, 'disgust': 0.0001121376566052763, 'happy': 0.00596137068958741, 'sad': 82.78368012807847, 'surprise': 0.00022368159503384686, 'neutral': 7.38929777677642}\n",
      "Label: sad\n"
     ]
    },
    {
     "name": "stderr",
     "output_type": "stream",
     "text": [
      "Action: emotion: 100%|██████████| 1/1 [00:00<00:00, 18.99it/s]\n"
     ]
    },
    {
     "name": "stdout",
     "output_type": "stream",
     "text": [
      "Emotion values: {'angry': 0.27625723741948605, 'disgust': 3.7466406865860336e-05, 'happy': 0.0038146281440276653, 'sad': 80.92884421348572, 'surprise': 0.0003993121481471462, 'neutral': 1.993117481470108}\n",
      "Label: sad\n"
     ]
    },
    {
     "name": "stderr",
     "output_type": "stream",
     "text": [
      "Action: emotion: 100%|██████████| 1/1 [00:00<00:00, 18.15it/s]\n"
     ]
    },
    {
     "name": "stdout",
     "output_type": "stream",
     "text": [
      "Emotion values: {'angry': 0.7382076233625412, 'disgust': 0.00013382619954427355, 'happy': 0.013388608931563795, 'sad': 80.55724501609802, 'surprise': 0.002182060416089371, 'neutral': 12.55524605512619}\n",
      "Label: sad\n"
     ]
    },
    {
     "name": "stderr",
     "output_type": "stream",
     "text": [
      "Action: emotion: 100%|██████████| 1/1 [00:00<00:00, 16.76it/s]\n"
     ]
    },
    {
     "name": "stdout",
     "output_type": "stream",
     "text": [
      "Emotion values: {'angry': 0.8273863178627112, 'disgust': 0.0001606079117198531, 'happy': 0.020269661529905465, 'sad': 78.80457892363323, 'surprise': 0.0028390646801909627, 'neutral': 9.48383769585637}\n",
      "Label: sad\n"
     ]
    },
    {
     "name": "stderr",
     "output_type": "stream",
     "text": [
      "Action: emotion: 100%|██████████| 1/1 [00:00<00:00, 17.45it/s]\n"
     ]
    },
    {
     "name": "stdout",
     "output_type": "stream",
     "text": [
      "Emotion values: {'angry': 0.8273863178627112, 'disgust': 0.0001606079117198531, 'happy': 0.020269661529905465, 'sad': 78.80457892363323, 'surprise': 0.0028390646801909627, 'neutral': 9.48383769585637}\n",
      "Label: sad\n"
     ]
    },
    {
     "name": "stderr",
     "output_type": "stream",
     "text": [
      "Action: emotion: 100%|██████████| 1/1 [00:00<00:00, 18.70it/s]\n"
     ]
    },
    {
     "name": "stdout",
     "output_type": "stream",
     "text": [
      "Emotion values: {'angry': 0.47776433639228344, 'disgust': 7.104519568201795e-05, 'happy': 0.022431295656133443, 'sad': 83.67787003517151, 'surprise': 0.0030206507290131412, 'neutral': 5.897585302591324}\n",
      "Label: sad\n"
     ]
    },
    {
     "name": "stderr",
     "output_type": "stream",
     "text": [
      "Action: emotion: 100%|██████████| 1/1 [00:00<00:00, 17.67it/s]\n"
     ]
    },
    {
     "name": "stdout",
     "output_type": "stream",
     "text": [
      "Emotion values: {'angry': 1.0572956272716079, 'disgust': 5.23586498845843e-05, 'happy': 0.009726302664463168, 'sad': 73.16999115586175, 'surprise': 0.0020630865678075523, 'neutral': 10.623402669835409}\n",
      "Label: sad\n"
     ]
    },
    {
     "name": "stderr",
     "output_type": "stream",
     "text": [
      "Action: emotion: 100%|██████████| 1/1 [00:00<00:00, 18.66it/s]"
     ]
    },
    {
     "name": "stdout",
     "output_type": "stream",
     "text": [
      "Emotion values: {'angry': 1.0572956272716079, 'disgust': 5.23586498845843e-05, 'happy': 0.009726302664463168, 'sad': 73.16999115586175, 'surprise': 0.0020630865678075523, 'neutral': 10.623402669835409}\n",
      "Label: sad\n"
     ]
    },
    {
     "name": "stderr",
     "output_type": "stream",
     "text": [
      "\n",
      "Action: emotion: 100%|██████████| 1/1 [00:00<00:00, 18.14it/s]"
     ]
    },
    {
     "name": "stdout",
     "output_type": "stream",
     "text": [
      "Emotion values: {'angry': 0.2662187907844782, 'disgust': 1.1511215802784136e-05, 'happy': 0.012140117905801162, 'sad': 89.26976323127747, 'surprise': 0.0013273320291773416, 'neutral': 5.17297126352787}\n",
      "Label: sad\n"
     ]
    },
    {
     "name": "stderr",
     "output_type": "stream",
     "text": [
      "\n",
      "Action: emotion: 100%|██████████| 1/1 [00:00<00:00, 15.38it/s]\n"
     ]
    },
    {
     "name": "stdout",
     "output_type": "stream",
     "text": [
      "Emotion values: {'angry': 0.2662187907844782, 'disgust': 1.1511215802784136e-05, 'happy': 0.012140117905801162, 'sad': 89.26976323127747, 'surprise': 0.0013273320291773416, 'neutral': 5.17297126352787}\n",
      "Label: sad\n"
     ]
    },
    {
     "name": "stderr",
     "output_type": "stream",
     "text": [
      "Action: emotion: 100%|██████████| 1/1 [00:00<00:00, 16.96it/s]\n"
     ]
    },
    {
     "name": "stdout",
     "output_type": "stream",
     "text": [
      "Emotion values: {'angry': 0.3369503188878298, 'disgust': 4.1522977767272096e-05, 'happy': 0.0018078564608003944, 'sad': 75.33597946166992, 'surprise': 0.000259552757597703, 'neutral': 11.485212296247482}\n",
      "Label: sad\n"
     ]
    },
    {
     "name": "stderr",
     "output_type": "stream",
     "text": [
      "Action: emotion: 100%|██████████| 1/1 [00:00<00:00, 17.13it/s]\n"
     ]
    },
    {
     "name": "stdout",
     "output_type": "stream",
     "text": [
      "Emotion values: {'angry': 0.6019239313900471, 'disgust': 1.9843341192427033e-05, 'happy': 0.03740427491720766, 'sad': 70.15085220336914, 'surprise': 0.01666683965595439, 'neutral': 13.744205236434937}\n",
      "Label: sad\n"
     ]
    },
    {
     "name": "stderr",
     "output_type": "stream",
     "text": [
      "Action: emotion: 100%|██████████| 1/1 [00:00<00:00, 16.46it/s]\n"
     ]
    },
    {
     "name": "stdout",
     "output_type": "stream",
     "text": [
      "Emotion values: {'angry': 0.6019239313900471, 'disgust': 1.9843341192427033e-05, 'happy': 0.03740427491720766, 'sad': 70.15085220336914, 'surprise': 0.01666683965595439, 'neutral': 13.744205236434937}\n",
      "Label: sad\n"
     ]
    },
    {
     "name": "stderr",
     "output_type": "stream",
     "text": [
      "Action: emotion: 100%|██████████| 1/1 [00:00<00:00, 16.18it/s]\n"
     ]
    },
    {
     "name": "stdout",
     "output_type": "stream",
     "text": [
      "Emotion values: {'angry': 0.39422824047505856, 'disgust': 3.367876217907906e-05, 'happy': 0.006587991811102256, 'sad': 83.63062143325806, 'surprise': 0.002825556293828413, 'neutral': 9.222158789634705}\n",
      "Label: sad\n"
     ]
    },
    {
     "name": "stderr",
     "output_type": "stream",
     "text": [
      "Action: emotion: 100%|██████████| 1/1 [00:00<00:00, 17.94it/s]\n"
     ]
    },
    {
     "name": "stdout",
     "output_type": "stream",
     "text": [
      "Emotion values: {'angry': 0.11022418038919568, 'disgust': 3.352250743660079e-06, 'happy': 0.0006534522526635556, 'sad': 62.09232211112976, 'surprise': 5.203064574743621e-05, 'neutral': 2.386590465903282}\n",
      "Label: sad\n"
     ]
    },
    {
     "name": "stderr",
     "output_type": "stream",
     "text": [
      "Action: emotion: 100%|██████████| 1/1 [00:00<00:00, 15.59it/s]\n"
     ]
    },
    {
     "name": "stdout",
     "output_type": "stream",
     "text": [
      "Emotion values: {'angry': 0.11022418038919568, 'disgust': 3.352250743660079e-06, 'happy': 0.0006534522526635556, 'sad': 62.09232211112976, 'surprise': 5.203064574743621e-05, 'neutral': 2.386590465903282}\n",
      "Label: sad\n"
     ]
    },
    {
     "name": "stderr",
     "output_type": "stream",
     "text": [
      "Action: emotion: 100%|██████████| 1/1 [00:00<00:00, 18.77it/s]\n"
     ]
    },
    {
     "name": "stdout",
     "output_type": "stream",
     "text": [
      "Emotion values: {'angry': 0.37930945332702715, 'disgust': 5.090296843238951e-06, 'happy': 0.0068346479091955965, 'sad': 73.0239554061863, 'surprise': 0.000975823117143176, 'neutral': 14.72284881608777}\n",
      "Label: sad\n"
     ]
    },
    {
     "name": "stderr",
     "output_type": "stream",
     "text": [
      "Action: emotion: 100%|██████████| 1/1 [00:00<00:00, 17.55it/s]\n"
     ]
    },
    {
     "name": "stdout",
     "output_type": "stream",
     "text": [
      "Emotion values: {'angry': 0.1798315322957933, 'disgust': 3.0936572414930197e-06, 'happy': 0.006055796620785259, 'sad': 58.82430076599121, 'surprise': 0.0019394938135519624, 'neutral': 29.856547713279724}\n",
      "Label: sad\n"
     ]
    },
    {
     "name": "stderr",
     "output_type": "stream",
     "text": [
      "Action: emotion: 100%|██████████| 1/1 [00:00<00:00, 17.08it/s]\n"
     ]
    },
    {
     "name": "stdout",
     "output_type": "stream",
     "text": [
      "Emotion values: {'angry': 0.1798315322957933, 'disgust': 3.0936572414930197e-06, 'happy': 0.006055796620785259, 'sad': 58.82430076599121, 'surprise': 0.0019394938135519624, 'neutral': 29.856547713279724}\n",
      "Label: sad\n"
     ]
    },
    {
     "name": "stderr",
     "output_type": "stream",
     "text": [
      "Action: emotion: 100%|██████████| 1/1 [00:00<00:00, 16.02it/s]\n"
     ]
    },
    {
     "name": "stdout",
     "output_type": "stream",
     "text": [
      "Emotion values: {'angry': 0.24741420056670904, 'disgust': 2.1045872600211624e-06, 'happy': 0.008988663466880098, 'sad': 69.5593774318695, 'surprise': 0.0020506387954810634, 'neutral': 11.201416701078415}\n",
      "Label: sad\n"
     ]
    },
    {
     "name": "stderr",
     "output_type": "stream",
     "text": [
      "Action: emotion: 100%|██████████| 1/1 [00:00<00:00, 16.93it/s]\n"
     ]
    },
    {
     "name": "stdout",
     "output_type": "stream",
     "text": [
      "Emotion values: {'angry': 0.2959281438961625, 'disgust': 6.173006283916038e-06, 'happy': 0.004728485509986058, 'sad': 66.77868962287903, 'surprise': 0.0011729958714568056, 'neutral': 23.926392197608948}\n",
      "Label: sad\n"
     ]
    },
    {
     "name": "stderr",
     "output_type": "stream",
     "text": [
      "Action: emotion: 100%|██████████| 1/1 [00:00<00:00, 16.89it/s]\n"
     ]
    },
    {
     "name": "stdout",
     "output_type": "stream",
     "text": [
      "Emotion values: {'angry': 0.26194409001618624, 'disgust': 7.084157971348759e-06, 'happy': 0.014364971139002591, 'sad': 84.2460572719574, 'surprise': 0.0036902358260704204, 'neutral': 7.945599406957626}\n",
      "Label: sad\n"
     ]
    },
    {
     "name": "stderr",
     "output_type": "stream",
     "text": [
      "Action: emotion: 100%|██████████| 1/1 [00:00<00:00, 17.18it/s]\n"
     ]
    },
    {
     "name": "stdout",
     "output_type": "stream",
     "text": [
      "Emotion values: {'angry': 0.27997746520013034, 'disgust': 1.1209729052069082e-05, 'happy': 0.005046695276650605, 'sad': 77.37008602975773, 'surprise': 0.0017383108317118264, 'neutral': 15.484237315149628}\n",
      "Label: sad\n"
     ]
    },
    {
     "name": "stderr",
     "output_type": "stream",
     "text": [
      "Action: emotion: 100%|██████████| 1/1 [00:00<00:00, 16.66it/s]\n"
     ]
    },
    {
     "name": "stdout",
     "output_type": "stream",
     "text": [
      "Emotion values: {'angry': 0.23106203880161047, 'disgust': 3.4940580206921368e-06, 'happy': 0.009324071288574487, 'sad': 78.15580368041992, 'surprise': 0.0018697379346122034, 'neutral': 13.936769962310791}\n",
      "Label: sad\n"
     ]
    },
    {
     "name": "stderr",
     "output_type": "stream",
     "text": [
      "Action: emotion: 100%|██████████| 1/1 [00:00<00:00, 16.74it/s]\n"
     ]
    },
    {
     "name": "stdout",
     "output_type": "stream",
     "text": [
      "Emotion values: {'angry': 0.22050393444997854, 'disgust': 4.953291585945558e-06, 'happy': 0.012324945405038994, 'sad': 88.32199116683111, 'surprise': 0.002287872757846291, 'neutral': 8.32803969645027}\n",
      "Label: sad\n"
     ]
    },
    {
     "name": "stderr",
     "output_type": "stream",
     "text": [
      "Action: emotion: 100%|██████████| 1/1 [00:00<00:00, 15.95it/s]\n"
     ]
    },
    {
     "name": "stdout",
     "output_type": "stream",
     "text": [
      "Emotion values: {'angry': 0.009665080718523978, 'disgust': 4.6035125679790836e-08, 'happy': 0.16594560409013057, 'sad': 78.28171123753258, 'surprise': 0.003984356099971375, 'neutral': 14.661701897484177}\n",
      "Label: sad\n"
     ]
    },
    {
     "name": "stderr",
     "output_type": "stream",
     "text": [
      "Action: emotion: 100%|██████████| 1/1 [00:00<00:00, 15.12it/s]\n"
     ]
    },
    {
     "name": "stdout",
     "output_type": "stream",
     "text": [
      "Emotion values: {'angry': 0.06264197872951627, 'disgust': 5.1379907972659566e-05, 'happy': 0.11384481331333518, 'sad': 76.29863619804382, 'surprise': 0.0003119835582765518, 'neutral': 6.290649622678757}\n",
      "Label: sad\n"
     ]
    },
    {
     "name": "stderr",
     "output_type": "stream",
     "text": [
      "Action: emotion: 100%|██████████| 1/1 [00:00<00:00, 14.71it/s]\n"
     ]
    },
    {
     "name": "stdout",
     "output_type": "stream",
     "text": [
      "Emotion values: {'angry': 0.031246489379554987, 'disgust': 3.1291900626229108e-06, 'happy': 0.019144162070006132, 'sad': 94.2732572555542, 'surprise': 0.0001509728122073284, 'neutral': 0.4800737835466862}\n",
      "Label: sad\n"
     ]
    },
    {
     "name": "stderr",
     "output_type": "stream",
     "text": [
      "Action: emotion: 100%|██████████| 1/1 [00:00<00:00, 15.67it/s]\n"
     ]
    },
    {
     "name": "stdout",
     "output_type": "stream",
     "text": [
      "Emotion values: {'angry': 0.038360640714020476, 'disgust': 9.86113205471761e-07, 'happy': 0.008098437438765538, 'sad': 96.64078334813019, 'surprise': 0.00023042308848835775, 'neutral': 0.797617296732503}\n",
      "Label: sad\n"
     ]
    },
    {
     "name": "stderr",
     "output_type": "stream",
     "text": [
      "Action: emotion: 100%|██████████| 1/1 [00:00<00:00, 14.71it/s]\n"
     ]
    },
    {
     "name": "stdout",
     "output_type": "stream",
     "text": [
      "Emotion values: {'angry': 0.019318039994686842, 'disgust': 5.6476495702284524e-08, 'happy': 0.002636304998304695, 'sad': 90.97790718078613, 'surprise': 1.0379358883483292e-05, 'neutral': 4.9750663340091705}\n",
      "Label: sad\n"
     ]
    },
    {
     "name": "stderr",
     "output_type": "stream",
     "text": [
      "Action: emotion: 100%|██████████| 1/1 [00:00<00:00, 13.74it/s]\n"
     ]
    },
    {
     "name": "stdout",
     "output_type": "stream",
     "text": [
      "Emotion values: {'angry': 0.009612052963348106, 'disgust': 2.8116783901133147e-08, 'happy': 0.2731740241870284, 'sad': 42.17868447303772, 'surprise': 0.003304634810774587, 'neutral': 57.120054960250854}\n",
      "Label: neutral\n"
     ]
    },
    {
     "name": "stderr",
     "output_type": "stream",
     "text": [
      "Action: emotion: 100%|██████████| 1/1 [00:00<00:00, 14.59it/s]\n"
     ]
    },
    {
     "name": "stdout",
     "output_type": "stream",
     "text": [
      "Emotion values: {'angry': 0.10900733759626746, 'disgust': 4.551630539140206e-06, 'happy': 0.10072510922327638, 'sad': 19.51947808265686, 'surprise': 0.018399163673166186, 'neutral': 78.02147269248962}\n",
      "Label: neutral\n"
     ]
    },
    {
     "name": "stderr",
     "output_type": "stream",
     "text": [
      "Action: emotion: 100%|██████████| 1/1 [00:00<00:00, 15.70it/s]\n"
     ]
    },
    {
     "name": "stdout",
     "output_type": "stream",
     "text": [
      "Emotion values: {'angry': 5.921607464551926, 'disgust': 0.0003479764018265996, 'happy': 0.0054058175010140985, 'sad': 17.530862987041473, 'surprise': 0.02195411070715636, 'neutral': 67.42801666259766}\n",
      "Label: neutral\n"
     ]
    },
    {
     "name": "stderr",
     "output_type": "stream",
     "text": [
      "Action: emotion: 100%|██████████| 1/1 [00:00<00:00, 17.90it/s]\n"
     ]
    },
    {
     "name": "stdout",
     "output_type": "stream",
     "text": [
      "Emotion values: {'angry': 0.934212151718864, 'disgust': 1.0696660906220466e-05, 'happy': 0.004720768183124404, 'sad': 5.279984639882126, 'surprise': 0.00841189153223397, 'neutral': 90.4562467608599}\n",
      "Label: neutral\n"
     ]
    },
    {
     "name": "stderr",
     "output_type": "stream",
     "text": [
      "Action: emotion: 100%|██████████| 1/1 [00:00<00:00, 17.88it/s]\n"
     ]
    },
    {
     "name": "stdout",
     "output_type": "stream",
     "text": [
      "Emotion values: {'angry': 0.9193677619836047, 'disgust': 5.9202967813554456e-05, 'happy': 0.012887745187274539, 'sad': 21.982226906088222, 'surprise': 0.004428333505011805, 'neutral': 70.9369445964032}\n",
      "Label: neutral\n"
     ]
    },
    {
     "name": "stderr",
     "output_type": "stream",
     "text": [
      "Action: emotion: 100%|██████████| 1/1 [00:00<00:00, 17.59it/s]\n"
     ]
    },
    {
     "name": "stdout",
     "output_type": "stream",
     "text": [
      "Emotion values: {'angry': 1.943639222898437, 'disgust': 0.0003444783238371487, 'happy': 0.022576558585185324, 'sad': 68.05841136326858, 'surprise': 0.002826490877156999, 'neutral': 14.923223252488569}\n",
      "Label: sad\n"
     ]
    },
    {
     "name": "stderr",
     "output_type": "stream",
     "text": [
      "Action: emotion: 100%|██████████| 1/1 [00:00<00:00, 15.80it/s]\n"
     ]
    },
    {
     "name": "stdout",
     "output_type": "stream",
     "text": [
      "Emotion values: {'angry': 0.41654612869024277, 'disgust': 8.486176206190521e-07, 'happy': 0.005376209082896821, 'sad': 37.75632977485657, 'surprise': 0.0007573008588224184, 'neutral': 49.94603395462036}\n",
      "Label: neutral\n"
     ]
    },
    {
     "name": "stderr",
     "output_type": "stream",
     "text": [
      "Action: emotion: 100%|██████████| 1/1 [00:00<00:00, 17.98it/s]\n"
     ]
    },
    {
     "name": "stdout",
     "output_type": "stream",
     "text": [
      "Emotion values: {'angry': 0.42592426761984825, 'disgust': 4.318736657182853e-06, 'happy': 0.009105866774916649, 'sad': 17.0915424823761, 'surprise': 0.005970742859062739, 'neutral': 79.45249080657959}\n",
      "Label: neutral\n"
     ]
    },
    {
     "name": "stderr",
     "output_type": "stream",
     "text": [
      "Action: emotion: 100%|██████████| 1/1 [00:00<00:00, 18.99it/s]\n"
     ]
    },
    {
     "name": "stdout",
     "output_type": "stream",
     "text": [
      "Emotion values: {'angry': 0.6298528984189034, 'disgust': 8.384772343106306e-06, 'happy': 0.016289090854115784, 'sad': 12.259791791439056, 'surprise': 0.012042638991260901, 'neutral': 82.01214075088501}\n",
      "Label: neutral\n"
     ]
    },
    {
     "name": "stderr",
     "output_type": "stream",
     "text": [
      "Action: emotion: 100%|██████████| 1/1 [00:00<00:00, 17.36it/s]\n"
     ]
    },
    {
     "name": "stdout",
     "output_type": "stream",
     "text": [
      "Emotion values: {'angry': 0.6917920429259539, 'disgust': 2.2503986940591858e-05, 'happy': 0.005997332482365891, 'sad': 5.654621496796608, 'surprise': 0.008689097012393177, 'neutral': 92.59849786758423}\n",
      "Label: neutral\n"
     ]
    },
    {
     "name": "stderr",
     "output_type": "stream",
     "text": [
      "Action: emotion: 100%|██████████| 1/1 [00:00<00:00, 16.47it/s]\n"
     ]
    },
    {
     "name": "stdout",
     "output_type": "stream",
     "text": [
      "Emotion values: {'angry': 2.4637332186102867, 'disgust': 0.0004995747985958587, 'happy': 0.036539530265145004, 'sad': 13.145224750041962, 'surprise': 0.08994704694487154, 'neutral': 60.471248626708984}\n",
      "Label: neutral\n"
     ]
    },
    {
     "name": "stderr",
     "output_type": "stream",
     "text": [
      "Action: emotion: 100%|██████████| 1/1 [00:00<00:00, 17.46it/s]\n"
     ]
    },
    {
     "name": "stdout",
     "output_type": "stream",
     "text": [
      "Emotion values: {'angry': 1.2535478551444834, 'disgust': 0.00033365203647230346, 'happy': 0.07574222720694271, 'sad': 27.084663758833855, 'surprise': 0.02469874165154894, 'neutral': 12.617866708978022}\n",
      "Label: sad\n"
     ]
    },
    {
     "name": "stderr",
     "output_type": "stream",
     "text": [
      "Action: emotion: 100%|██████████| 1/1 [00:00<00:00, 18.69it/s]\n"
     ]
    },
    {
     "name": "stdout",
     "output_type": "stream",
     "text": [
      "Emotion values: {'angry': 3.1332433223724365, 'disgust': 0.004116959826205857, 'happy': 0.33615236170589924, 'sad': 17.2943115234375, 'surprise': 0.33485349267721176, 'neutral': 10.422419756650925}\n",
      "Label: sad\n"
     ]
    },
    {
     "name": "stderr",
     "output_type": "stream",
     "text": [
      "Action: emotion: 100%|██████████| 1/1 [00:00<00:00, 18.77it/s]\n"
     ]
    },
    {
     "name": "stdout",
     "output_type": "stream",
     "text": [
      "Emotion values: {'angry': 7.5238598854708805, 'disgust': 0.0026982359907713653, 'happy': 0.063646920587117, 'sad': 19.78199544167573, 'surprise': 0.14837956382652356, 'neutral': 50.547659331839164}\n",
      "Label: neutral\n"
     ]
    },
    {
     "name": "stderr",
     "output_type": "stream",
     "text": [
      "Action: emotion: 100%|██████████| 1/1 [00:00<00:00, 19.58it/s]\n"
     ]
    },
    {
     "name": "stdout",
     "output_type": "stream",
     "text": [
      "Emotion values: {'angry': 2.4898855772750883, 'disgust': 9.211418653322594e-05, 'happy': 0.0037239401643962217, 'sad': 39.264921633610534, 'surprise': 0.010805585937933066, 'neutral': 3.2863769487885297}\n",
      "Label: sad\n"
     ]
    },
    {
     "name": "stderr",
     "output_type": "stream",
     "text": [
      "Action: emotion: 100%|██████████| 1/1 [00:00<00:00, 15.98it/s]\n"
     ]
    },
    {
     "name": "stdout",
     "output_type": "stream",
     "text": [
      "Emotion values: {'angry': 2.4898855772750883, 'disgust': 9.211418653322594e-05, 'happy': 0.0037239401643962217, 'sad': 39.264921633610534, 'surprise': 0.010805585937933066, 'neutral': 3.2863769487885297}\n",
      "Label: sad\n"
     ]
    },
    {
     "name": "stderr",
     "output_type": "stream",
     "text": [
      "Action: emotion: 100%|██████████| 1/1 [00:00<00:00, 16.22it/s]\n"
     ]
    },
    {
     "name": "stdout",
     "output_type": "stream",
     "text": [
      "Emotion values: {'angry': 0.0010381329957454, 'disgust': 6.536058361206187e-07, 'happy': 1.7189133912324905, 'sad': 47.2270131111145, 'surprise': 5.434325771602744e-05, 'neutral': 0.23245783522725105}\n",
      "Label: sad\n"
     ]
    },
    {
     "name": "stderr",
     "output_type": "stream",
     "text": [
      "Action: emotion: 100%|██████████| 1/1 [00:00<00:00, 15.82it/s]\n"
     ]
    },
    {
     "name": "stdout",
     "output_type": "stream",
     "text": [
      "Emotion values: {'angry': 0.0010381329957454, 'disgust': 6.536058361206187e-07, 'happy': 1.7189133912324905, 'sad': 47.2270131111145, 'surprise': 5.434325771602744e-05, 'neutral': 0.23245783522725105}\n",
      "Label: sad\n"
     ]
    },
    {
     "name": "stderr",
     "output_type": "stream",
     "text": [
      "Action: emotion: 100%|██████████| 1/1 [00:00<00:00, 17.23it/s]\n"
     ]
    },
    {
     "name": "stdout",
     "output_type": "stream",
     "text": [
      "Emotion values: {'angry': 0.004585958868615672, 'disgust': 7.447017752247566e-09, 'happy': 19.51424744810149, 'sad': 1.0798377628527738, 'surprise': 0.15302333961566328, 'neutral': 0.3591430587555801}\n",
      "Label: happy\n"
     ]
    },
    {
     "name": "stderr",
     "output_type": "stream",
     "text": [
      "Action: emotion: 100%|██████████| 1/1 [00:00<00:00, 17.99it/s]\n"
     ]
    },
    {
     "name": "stdout",
     "output_type": "stream",
     "text": [
      "Emotion values: {'angry': 0.01853369758464396, 'disgust': 1.0425944552139299e-07, 'happy': 0.024954031687229872, 'sad': 69.70741748809814, 'surprise': 0.0004227401404932607, 'neutral': 18.13359409570694}\n",
      "Label: sad\n"
     ]
    },
    {
     "name": "stderr",
     "output_type": "stream",
     "text": [
      "Action: emotion: 100%|██████████| 1/1 [00:00<00:00, 16.38it/s]\n"
     ]
    },
    {
     "name": "stdout",
     "output_type": "stream",
     "text": [
      "Emotion values: {'angry': 0.018926481425296515, 'disgust': 4.706184331126906e-07, 'happy': 1.0154464282095432, 'sad': 62.45012879371643, 'surprise': 0.002382084494456649, 'neutral': 2.8130779042840004}\n",
      "Label: sad\n"
     ]
    },
    {
     "name": "stderr",
     "output_type": "stream",
     "text": [
      "Action: emotion: 100%|██████████| 1/1 [00:00<00:00, 17.31it/s]\n"
     ]
    },
    {
     "name": "stdout",
     "output_type": "stream",
     "text": [
      "Emotion values: {'angry': 0.018926481425296515, 'disgust': 4.706184331126906e-07, 'happy': 1.0154464282095432, 'sad': 62.45012879371643, 'surprise': 0.002382084494456649, 'neutral': 2.8130779042840004}\n",
      "Label: sad\n"
     ]
    },
    {
     "name": "stderr",
     "output_type": "stream",
     "text": [
      "Action: emotion: 100%|██████████| 1/1 [00:00<00:00, 17.33it/s]\n"
     ]
    },
    {
     "name": "stdout",
     "output_type": "stream",
     "text": [
      "Emotion values: {'angry': 0.01565102097500983, 'disgust': 3.7223371943862906e-06, 'happy': 41.18364558414869, 'sad': 29.698365366653757, 'surprise': 0.06670693770191816, 'neutral': 1.369841699172056}\n",
      "Label: happy\n"
     ]
    },
    {
     "name": "stderr",
     "output_type": "stream",
     "text": [
      "Action: emotion: 100%|██████████| 1/1 [00:00<00:00, 17.54it/s]\n"
     ]
    },
    {
     "name": "stdout",
     "output_type": "stream",
     "text": [
      "Emotion values: {'angry': 0.0005712179473715161, 'disgust': 3.7145336597210592e-06, 'happy': 94.89553631597325, 'sad': 3.7788092310656034, 'surprise': 0.0015774721698449572, 'neutral': 0.25597088247139665}\n",
      "Label: happy\n"
     ]
    },
    {
     "name": "stderr",
     "output_type": "stream",
     "text": [
      "Action: emotion: 100%|██████████| 1/1 [00:00<00:00, 17.30it/s]\n"
     ]
    },
    {
     "name": "stdout",
     "output_type": "stream",
     "text": [
      "Emotion values: {'angry': 6.857375800609589, 'disgust': 0.2835291903465986, 'happy': 0.07810028037056327, 'sad': 36.51084005832672, 'surprise': 0.006607274553971365, 'neutral': 45.2587366104126}\n",
      "Label: neutral\n"
     ]
    },
    {
     "name": "stderr",
     "output_type": "stream",
     "text": [
      "Action: emotion: 100%|██████████| 1/1 [00:00<00:00, 18.94it/s]\n"
     ]
    },
    {
     "name": "stdout",
     "output_type": "stream",
     "text": [
      "Emotion values: {'angry': 0.01894042652565986, 'disgust': 2.19685297730976e-08, 'happy': 0.010603379632811993, 'sad': 16.643325984477997, 'surprise': 0.00029250438728922745, 'neutral': 82.44889974594116}\n",
      "Label: neutral\n"
     ]
    },
    {
     "name": "stderr",
     "output_type": "stream",
     "text": [
      "Action: emotion: 100%|██████████| 1/1 [00:00<00:00, 18.90it/s]"
     ]
    },
    {
     "name": "stdout",
     "output_type": "stream",
     "text": [
      "Emotion values: {'angry': 0.15491944504901767, 'disgust': 2.9480662355751974e-07, 'happy': 0.07797992439009249, 'sad': 42.376428842544556, 'surprise': 0.14303050702437758, 'neutral': 0.519738532602787}\n",
      "Label: sad\n"
     ]
    },
    {
     "name": "stderr",
     "output_type": "stream",
     "text": [
      "\n",
      "Action: emotion: 100%|██████████| 1/1 [00:00<00:00, 19.20it/s]\n"
     ]
    },
    {
     "name": "stdout",
     "output_type": "stream",
     "text": [
      "Emotion values: {'angry': 1.8658703193068504, 'disgust': 0.00010614930943120271, 'happy': 0.10734118986874819, 'sad': 50.05119442939758, 'surprise': 0.005991977013763972, 'neutral': 30.275997519493103}\n",
      "Label: sad\n"
     ]
    },
    {
     "name": "stderr",
     "output_type": "stream",
     "text": [
      "Action: emotion: 100%|██████████| 1/1 [00:00<00:00, 16.64it/s]\n"
     ]
    },
    {
     "name": "stdout",
     "output_type": "stream",
     "text": [
      "Emotion values: {'angry': 1.8658703193068504, 'disgust': 0.00010614930943120271, 'happy': 0.10734118986874819, 'sad': 50.05119442939758, 'surprise': 0.005991977013763972, 'neutral': 30.275997519493103}\n",
      "Label: sad\n"
     ]
    },
    {
     "name": "stderr",
     "output_type": "stream",
     "text": [
      "Action: emotion: 100%|██████████| 1/1 [00:00<00:00, 18.93it/s]\n"
     ]
    },
    {
     "name": "stdout",
     "output_type": "stream",
     "text": [
      "Emotion values: {'angry': 0.015435153909493238, 'disgust': 1.1741646543939055e-08, 'happy': 0.000664876779410406, 'sad': 1.1752226389944553, 'surprise': 0.02008578449022025, 'neutral': 0.743744894862175}\n",
      "Label: sad\n"
     ]
    },
    {
     "name": "stderr",
     "output_type": "stream",
     "text": [
      "Action: emotion: 100%|██████████| 1/1 [00:00<00:00, 17.24it/s]\n"
     ]
    },
    {
     "name": "stdout",
     "output_type": "stream",
     "text": [
      "Emotion values: {'angry': 0.00020873211604290913, 'disgust': 1.1530610223306828e-12, 'happy': 0.24613415892476792, 'sad': 10.052957239923312, 'surprise': 0.09701341619608797, 'neutral': 17.736550732645437}\n",
      "Label: neutral\n"
     ]
    },
    {
     "name": "stderr",
     "output_type": "stream",
     "text": [
      "Action: emotion: 100%|██████████| 1/1 [00:00<00:00, 19.74it/s]\n"
     ]
    },
    {
     "name": "stdout",
     "output_type": "stream",
     "text": [
      "Emotion values: {'angry': 9.035668854197127, 'disgust': 0.32127240311621463, 'happy': 0.84252758682103, 'sad': 1.8325602957678193, 'surprise': 6.473515954436774, 'neutral': 0.986656105417741}\n",
      "Label: angry\n"
     ]
    },
    {
     "name": "stderr",
     "output_type": "stream",
     "text": [
      "Action: emotion: 100%|██████████| 1/1 [00:00<00:00, 18.62it/s]\n"
     ]
    },
    {
     "name": "stdout",
     "output_type": "stream",
     "text": [
      "Emotion values: {'angry': 0.012857136607635766, 'disgust': 5.870232633320427e-08, 'happy': 0.00043128961806360167, 'sad': 92.84667372703552, 'surprise': 6.521712236917665e-06, 'neutral': 1.9816046580672264}\n",
      "Label: sad\n"
     ]
    },
    {
     "name": "stderr",
     "output_type": "stream",
     "text": [
      "Action: emotion: 100%|██████████| 1/1 [00:00<00:00, 17.02it/s]\n"
     ]
    },
    {
     "name": "stdout",
     "output_type": "stream",
     "text": [
      "Emotion values: {'angry': 0.012857136607635766, 'disgust': 5.870232633320427e-08, 'happy': 0.00043128961806360167, 'sad': 92.84667372703552, 'surprise': 6.521712236917665e-06, 'neutral': 1.9816046580672264}\n",
      "Label: sad\n"
     ]
    },
    {
     "name": "stderr",
     "output_type": "stream",
     "text": [
      "Action: emotion: 100%|██████████| 1/1 [00:00<00:00, 16.56it/s]"
     ]
    },
    {
     "name": "stdout",
     "output_type": "stream",
     "text": [
      "Emotion values: {'angry': 0.0044033738959115, 'disgust': 1.060136076147522e-08, 'happy': 0.0034094624425051734, 'sad': 95.49452662467957, 'surprise': 2.540597563438496e-05, 'neutral': 2.7868958190083504}\n",
      "Label: sad\n"
     ]
    },
    {
     "name": "stderr",
     "output_type": "stream",
     "text": [
      "\n",
      "Action: emotion: 100%|██████████| 1/1 [00:00<00:00, 13.67it/s]\n"
     ]
    },
    {
     "name": "stdout",
     "output_type": "stream",
     "text": [
      "Emotion values: {'angry': 0.001103777776734205, 'disgust': 1.7304383620464492e-09, 'happy': 8.046489341495544e-06, 'sad': 98.08252453804016, 'surprise': 3.612734555957786e-08, 'neutral': 0.018190921400673687}\n",
      "Label: sad\n"
     ]
    },
    {
     "name": "stderr",
     "output_type": "stream",
     "text": [
      "Action: emotion: 100%|██████████| 1/1 [00:00<00:00, 15.64it/s]\n"
     ]
    },
    {
     "name": "stdout",
     "output_type": "stream",
     "text": [
      "Emotion values: {'angry': 0.0066626817654569315, 'disgust': 1.7162853047478015e-09, 'happy': 0.0006053913506092204, 'sad': 95.24674954971665, 'surprise': 1.2479082367379565e-06, 'neutral': 1.0093830797830916}\n",
      "Label: sad\n"
     ]
    },
    {
     "name": "stderr",
     "output_type": "stream",
     "text": [
      "Action: emotion: 100%|██████████| 1/1 [00:00<00:00, 16.03it/s]\n"
     ]
    },
    {
     "name": "stdout",
     "output_type": "stream",
     "text": [
      "Emotion values: {'angry': 0.008033449309077817, 'disgust': 1.6516363914548843e-09, 'happy': 0.0004932652085032066, 'sad': 95.05140155860195, 'surprise': 1.0264124384929942e-06, 'neutral': 1.5192459311631876}\n",
      "Label: sad\n"
     ]
    },
    {
     "name": "stderr",
     "output_type": "stream",
     "text": [
      "Action: emotion: 100%|██████████| 1/1 [00:00<00:00, 17.54it/s]\n"
     ]
    },
    {
     "name": "stdout",
     "output_type": "stream",
     "text": [
      "Emotion values: {'angry': 4.257364198565483, 'disgust': 1.5205530701223324e-05, 'happy': 0.00012202773405078915, 'sad': 42.895495891571045, 'surprise': 0.0019441142285359092, 'neutral': 23.786132037639618}\n",
      "Label: sad\n"
     ]
    },
    {
     "name": "stderr",
     "output_type": "stream",
     "text": [
      "Action: emotion: 100%|██████████| 1/1 [00:00<00:00, 15.94it/s]\n"
     ]
    },
    {
     "name": "stdout",
     "output_type": "stream",
     "text": [
      "Emotion values: {'angry': 4.257364198565483, 'disgust': 1.5205530701223324e-05, 'happy': 0.00012202773405078915, 'sad': 42.895495891571045, 'surprise': 0.0019441142285359092, 'neutral': 23.786132037639618}\n",
      "Label: sad\n"
     ]
    },
    {
     "name": "stderr",
     "output_type": "stream",
     "text": [
      "Action: emotion: 100%|██████████| 1/1 [00:00<00:00, 17.08it/s]\n"
     ]
    },
    {
     "name": "stdout",
     "output_type": "stream",
     "text": [
      "Emotion values: {'angry': 0.036129200423386715, 'disgust': 1.1216290787452484e-06, 'happy': 5.02102032429101, 'sad': 12.648420789743708, 'surprise': 0.0015429265669056216, 'neutral': 82.11464179245483}\n",
      "Label: neutral\n"
     ]
    },
    {
     "name": "stderr",
     "output_type": "stream",
     "text": [
      "Action: emotion: 100%|██████████| 1/1 [00:00<00:00, 17.80it/s]\n"
     ]
    },
    {
     "name": "stdout",
     "output_type": "stream",
     "text": [
      "Emotion values: {'angry': 1.909300426203038, 'disgust': 6.729006375728351e-06, 'happy': 1.7198844906618889, 'sad': 11.74491713910801, 'surprise': 0.0010877620036695323, 'neutral': 84.5836987843334}\n",
      "Label: neutral\n"
     ]
    },
    {
     "name": "stderr",
     "output_type": "stream",
     "text": [
      "Action: emotion: 100%|██████████| 1/1 [00:00<00:00, 17.41it/s]\n"
     ]
    },
    {
     "name": "stdout",
     "output_type": "stream",
     "text": [
      "Emotion values: {'angry': 6.297203153371811, 'disgust': 0.0026682311727199703, 'happy': 0.4423367790877819, 'sad': 27.558231353759766, 'surprise': 0.001178367620013887, 'neutral': 64.93867635726929}\n",
      "Label: neutral\n"
     ]
    },
    {
     "name": "stderr",
     "output_type": "stream",
     "text": [
      "Action: emotion: 100%|██████████| 1/1 [00:00<00:00, 16.48it/s]\n"
     ]
    },
    {
     "name": "stdout",
     "output_type": "stream",
     "text": [
      "Emotion values: {'angry': 1.0299579240381718, 'disgust': 0.0005886833150725579, 'happy': 0.367863941937685, 'sad': 32.693225145339966, 'surprise': 0.005977823821012862, 'neutral': 61.09910011291504}\n",
      "Label: neutral\n"
     ]
    },
    {
     "name": "stderr",
     "output_type": "stream",
     "text": [
      "Action: emotion: 100%|██████████| 1/1 [00:00<00:00, 14.07it/s]\n"
     ]
    },
    {
     "name": "stdout",
     "output_type": "stream",
     "text": [
      "Emotion values: {'angry': 0.3867598946696457, 'disgust': 0.001975808599569602, 'happy': 0.07726888749302253, 'sad': 48.25528253646389, 'surprise': 0.0045226747683027625, 'neutral': 5.854013166070769}\n",
      "Label: sad\n"
     ]
    },
    {
     "name": "stderr",
     "output_type": "stream",
     "text": [
      "Action: emotion: 100%|██████████| 1/1 [00:00<00:00, 17.04it/s]\n"
     ]
    },
    {
     "name": "stdout",
     "output_type": "stream",
     "text": [
      "Emotion values: {'angry': 0.018987870781731364, 'disgust': 5.470511568859463e-06, 'happy': 0.2654564948953396, 'sad': 44.49913865338103, 'surprise': 0.0016679514204754663, 'neutral': 3.166382009818314}\n",
      "Label: sad\n"
     ]
    },
    {
     "name": "stderr",
     "output_type": "stream",
     "text": [
      "Action: emotion: 100%|██████████| 1/1 [00:00<00:00, 17.34it/s]\n"
     ]
    },
    {
     "name": "stdout",
     "output_type": "stream",
     "text": [
      "Emotion values: {'angry': 0.0486338569317013, 'disgust': 1.2959085893271549e-05, 'happy': 0.7423600181937218, 'sad': 67.29767918586731, 'surprise': 0.008723254723008722, 'neutral': 13.444221019744873}\n",
      "Label: sad\n"
     ]
    },
    {
     "name": "stderr",
     "output_type": "stream",
     "text": [
      "Action: emotion: 100%|██████████| 1/1 [00:00<00:00, 15.15it/s]\n"
     ]
    },
    {
     "name": "stdout",
     "output_type": "stream",
     "text": [
      "Emotion values: {'angry': 0.015294915279141482, 'disgust': 1.939271623032973e-06, 'happy': 1.3594596888769044, 'sad': 29.74356356339889, 'surprise': 0.005755659408891197, 'neutral': 8.416014651535194}\n",
      "Label: sad\n"
     ]
    },
    {
     "name": "stderr",
     "output_type": "stream",
     "text": [
      "Action: emotion: 100%|██████████| 1/1 [00:00<00:00, 16.99it/s]\n"
     ]
    },
    {
     "name": "stdout",
     "output_type": "stream",
     "text": [
      "Emotion values: {'angry': 0.07130274316295981, 'disgust': 4.0724725813845453e-07, 'happy': 0.04816296568606049, 'sad': 32.1271687746048, 'surprise': 0.0008945882655098103, 'neutral': 66.98525547981262}\n",
      "Label: neutral\n"
     ]
    },
    {
     "name": "stderr",
     "output_type": "stream",
     "text": [
      "Action: emotion: 100%|██████████| 1/1 [00:00<00:00, 15.00it/s]\n"
     ]
    },
    {
     "name": "stdout",
     "output_type": "stream",
     "text": [
      "Emotion values: {'angry': 0.1063979061408583, 'disgust': 5.585064743846991e-07, 'happy': 0.11263926952044782, 'sad': 18.343735834582795, 'surprise': 0.005260973871175505, 'neutral': 80.7018566549931}\n",
      "Label: neutral\n"
     ]
    },
    {
     "name": "stderr",
     "output_type": "stream",
     "text": [
      "Action: emotion: 100%|██████████| 1/1 [00:00<00:00, 12.29it/s]"
     ]
    },
    {
     "name": "stdout",
     "output_type": "stream",
     "text": [
      "Emotion values: {'angry': 0.2130772198793626, 'disgust': 1.2969844095793264e-06, 'happy': 0.09136968949314184, 'sad': 36.615018652079264, 'surprise': 0.0029829077984907682, 'neutral': 61.627601191091394}\n",
      "Label: neutral\n"
     ]
    },
    {
     "name": "stderr",
     "output_type": "stream",
     "text": [
      "\n",
      "Action: emotion: 100%|██████████| 1/1 [00:00<00:00, 14.50it/s]\n"
     ]
    },
    {
     "name": "stdout",
     "output_type": "stream",
     "text": [
      "Emotion values: {'angry': 0.06780168849845987, 'disgust': 5.057033173322181e-07, 'happy': 0.4474322844961029, 'sad': 39.359747095077886, 'surprise': 0.009993904413860073, 'neutral': 58.51667624910787}\n",
      "Label: neutral\n"
     ]
    },
    {
     "name": "stderr",
     "output_type": "stream",
     "text": [
      "Action: emotion: 100%|██████████| 1/1 [00:00<00:00, 14.22it/s]\n"
     ]
    },
    {
     "name": "stdout",
     "output_type": "stream",
     "text": [
      "Emotion values: {'angry': 0.03793072407611896, 'disgust': 2.483694435323102e-07, 'happy': 0.025849070687481247, 'sad': 93.79430339268487, 'surprise': 0.00014227250053221833, 'neutral': 2.99622098311436}\n",
      "Label: sad\n"
     ]
    },
    {
     "name": "stderr",
     "output_type": "stream",
     "text": [
      "Action: emotion: 100%|██████████| 1/1 [00:00<00:00, 14.98it/s]\n"
     ]
    },
    {
     "name": "stdout",
     "output_type": "stream",
     "text": [
      "Emotion values: {'angry': 0.37152881268411875, 'disgust': 2.276782851140524e-05, 'happy': 0.5532491020858288, 'sad': 59.018105268478394, 'surprise': 0.003942149123759009, 'neutral': 33.08292031288147}\n",
      "Label: sad\n"
     ]
    },
    {
     "name": "stderr",
     "output_type": "stream",
     "text": [
      "Action: emotion: 100%|██████████| 1/1 [00:00<00:00, 14.70it/s]\n"
     ]
    },
    {
     "name": "stdout",
     "output_type": "stream",
     "text": [
      "Emotion values: {'angry': 2.3343466222286224, 'disgust': 0.00012119008943045628, 'happy': 0.05599953583441675, 'sad': 12.103530019521713, 'surprise': 0.00042430601752130315, 'neutral': 82.78306722640991}\n",
      "Label: neutral\n"
     ]
    },
    {
     "name": "stderr",
     "output_type": "stream",
     "text": [
      "Action: emotion: 100%|██████████| 1/1 [00:00<00:00, 15.45it/s]\n"
     ]
    },
    {
     "name": "stdout",
     "output_type": "stream",
     "text": [
      "Emotion values: {'angry': 1.126848068088293, 'disgust': 0.00030220230655686464, 'happy': 0.02549008058849722, 'sad': 23.61718714237213, 'surprise': 0.0005063832759333309, 'neutral': 73.7242043018341}\n",
      "Label: neutral\n"
     ]
    },
    {
     "name": "stderr",
     "output_type": "stream",
     "text": [
      "Action: emotion: 100%|██████████| 1/1 [00:00<00:00, 15.53it/s]\n"
     ]
    },
    {
     "name": "stdout",
     "output_type": "stream",
     "text": [
      "Emotion values: {'angry': 0.005738090818387282, 'disgust': 4.3358506038639963e-07, 'happy': 0.0029833619878605632, 'sad': 89.9507516593189, 'surprise': 2.9402213972983642e-06, 'neutral': 0.704123168311904}\n",
      "Label: sad\n"
     ]
    },
    {
     "name": "stderr",
     "output_type": "stream",
     "text": [
      "Action: emotion: 100%|██████████| 1/1 [00:00<00:00, 15.04it/s]\n"
     ]
    },
    {
     "name": "stdout",
     "output_type": "stream",
     "text": [
      "Emotion values: {'angry': 0.23290365934371948, 'disgust': 0.00018218532886749017, 'happy': 0.0239867833442986, 'sad': 82.06852674484253, 'surprise': 0.00022695442112308228, 'neutral': 8.767468482255936}\n",
      "Label: sad\n"
     ]
    },
    {
     "name": "stderr",
     "output_type": "stream",
     "text": [
      "Action: emotion: 100%|██████████| 1/1 [00:00<00:00, 17.18it/s]\n"
     ]
    },
    {
     "name": "stdout",
     "output_type": "stream",
     "text": [
      "Emotion values: {'angry': 0.2075470874859147, 'disgust': 1.4287768975794486e-05, 'happy': 0.0020146505740123214, 'sad': 2.389550724002762, 'surprise': 0.0004007316204136691, 'neutral': 97.28590233837976}\n",
      "Label: neutral\n"
     ]
    },
    {
     "name": "stderr",
     "output_type": "stream",
     "text": [
      "Action: emotion: 100%|██████████| 1/1 [00:00<00:00, 17.93it/s]\n"
     ]
    },
    {
     "name": "stdout",
     "output_type": "stream",
     "text": [
      "Emotion values: {'angry': 0.03952534115372396, 'disgust': 7.530280848076914e-07, 'happy': 0.0016500648672614726, 'sad': 0.3032512212247384, 'surprise': 0.00039297531271043236, 'neutral': 99.63909385437333}\n",
      "Label: neutral\n"
     ]
    },
    {
     "name": "stderr",
     "output_type": "stream",
     "text": [
      "Action: emotion: 100%|██████████| 1/1 [00:00<00:00, 15.97it/s]\n"
     ]
    },
    {
     "name": "stdout",
     "output_type": "stream",
     "text": [
      "Emotion values: {'angry': 0.017328018598717815, 'disgust': 2.4908681048068795e-07, 'happy': 0.002877125178706843, 'sad': 0.1519926448609021, 'surprise': 0.0013004617223733106, 'neutral': 99.80278013961197}\n",
      "Label: neutral\n"
     ]
    },
    {
     "name": "stderr",
     "output_type": "stream",
     "text": [
      "Action: emotion: 100%|██████████| 1/1 [00:00<00:00, 18.37it/s]\n"
     ]
    },
    {
     "name": "stdout",
     "output_type": "stream",
     "text": [
      "Emotion values: {'angry': 0.06931103829844525, 'disgust': 1.1146973786733792e-06, 'happy': 0.0018251684374392778, 'sad': 0.239519300245899, 'surprise': 0.004815047864721216, 'neutral': 99.63614938474592}\n",
      "Label: neutral\n"
     ]
    },
    {
     "name": "stderr",
     "output_type": "stream",
     "text": [
      "Action: emotion: 100%|██████████| 1/1 [00:00<00:00, 17.58it/s]\n"
     ]
    },
    {
     "name": "stdout",
     "output_type": "stream",
     "text": [
      "Emotion values: {'angry': 0.11983625140927741, 'disgust': 2.1388193114668522e-05, 'happy': 0.013671373832009663, 'sad': 1.110330662747065, 'surprise': 0.002728840426095563, 'neutral': 98.61914507264764}\n",
      "Label: neutral\n"
     ]
    },
    {
     "name": "stderr",
     "output_type": "stream",
     "text": [
      "Action: emotion: 100%|██████████| 1/1 [00:00<00:00, 16.61it/s]\n"
     ]
    },
    {
     "name": "stdout",
     "output_type": "stream",
     "text": [
      "Emotion values: {'angry': 0.021615877631120384, 'disgust': 1.4975121587212925e-06, 'happy': 0.026560662081465125, 'sad': 0.33175351563841105, 'surprise': 0.0027769856387749314, 'neutral': 99.5621383190155}\n",
      "Label: neutral\n"
     ]
    },
    {
     "name": "stderr",
     "output_type": "stream",
     "text": [
      "Action: emotion: 100%|██████████| 1/1 [00:00<00:00, 16.78it/s]\n"
     ]
    },
    {
     "name": "stdout",
     "output_type": "stream",
     "text": [
      "Emotion values: {'angry': 0.017510683392174542, 'disgust': 4.1988617027755026e-07, 'happy': 0.08359773783013225, 'sad': 0.1873261178843677, 'surprise': 0.0012627726391656324, 'neutral': 99.67016577720642}\n",
      "Label: neutral\n"
     ]
    },
    {
     "name": "stderr",
     "output_type": "stream",
     "text": [
      "Action: emotion: 100%|██████████| 1/1 [00:00<00:00, 16.48it/s]\n"
     ]
    },
    {
     "name": "stdout",
     "output_type": "stream",
     "text": [
      "Emotion values: {'angry': 0.039561152165916304, 'disgust': 1.7577492209132235e-05, 'happy': 1.1947150780600215, 'sad': 0.7203631641282839, 'surprise': 0.00944382442155897, 'neutral': 97.79744174510935}\n",
      "Label: neutral\n"
     ]
    },
    {
     "name": "stderr",
     "output_type": "stream",
     "text": [
      "Action: emotion: 100%|██████████| 1/1 [00:00<00:00, 16.16it/s]\n"
     ]
    },
    {
     "name": "stdout",
     "output_type": "stream",
     "text": [
      "Emotion values: {'angry': 0.015723005763762385, 'disgust': 7.573203412343826e-07, 'happy': 0.32595828335979976, 'sad': 0.22509240434675268, 'surprise': 0.009496969546295798, 'neutral': 99.20463552530235}\n",
      "Label: neutral\n"
     ]
    },
    {
     "name": "stderr",
     "output_type": "stream",
     "text": [
      "Action: emotion: 100%|██████████| 1/1 [00:00<00:00, 16.31it/s]\n"
     ]
    },
    {
     "name": "stdout",
     "output_type": "stream",
     "text": [
      "Emotion values: {'angry': 0.01170602269273167, 'disgust': 8.411620618719155e-07, 'happy': 0.12353887705786502, 'sad': 0.2266449117934809, 'surprise': 0.001656160004971567, 'neutral': 99.60073833456775}\n",
      "Label: neutral\n"
     ]
    },
    {
     "name": "stderr",
     "output_type": "stream",
     "text": [
      "Action: emotion: 100%|██████████| 1/1 [00:00<00:00, 15.53it/s]\n"
     ]
    },
    {
     "name": "stdout",
     "output_type": "stream",
     "text": [
      "Emotion values: {'angry': 0.022819644073024392, 'disgust': 2.223680573010256e-07, 'happy': 0.0067744782427325845, 'sad': 0.3870573593303561, 'surprise': 0.0005745836915593827, 'neutral': 99.48887228965759}\n",
      "Label: neutral\n"
     ]
    },
    {
     "name": "stderr",
     "output_type": "stream",
     "text": [
      "Action: emotion: 100%|██████████| 1/1 [00:00<00:00, 15.16it/s]\n"
     ]
    },
    {
     "name": "stdout",
     "output_type": "stream",
     "text": [
      "Emotion values: {'angry': 0.14787433901801705, 'disgust': 5.611014231021727e-06, 'happy': 0.01349314843537286, 'sad': 2.3443564772605896, 'surprise': 0.0008595579856773838, 'neutral': 97.21365571022034}\n",
      "Label: neutral\n"
     ]
    },
    {
     "name": "stderr",
     "output_type": "stream",
     "text": [
      "Action: emotion: 100%|██████████| 1/1 [00:00<00:00, 16.01it/s]\n"
     ]
    },
    {
     "name": "stdout",
     "output_type": "stream",
     "text": [
      "Emotion values: {'angry': 0.02227125793030533, 'disgust': 2.4954793053922066e-07, 'happy': 0.02044643746555969, 'sad': 0.21208369971565602, 'surprise': 0.0006765310848433193, 'neutral': 99.6861040405097}\n",
      "Label: neutral\n"
     ]
    },
    {
     "name": "stderr",
     "output_type": "stream",
     "text": [
      "Action: emotion: 100%|██████████| 1/1 [00:00<00:00, 16.99it/s]\n"
     ]
    },
    {
     "name": "stdout",
     "output_type": "stream",
     "text": [
      "Emotion values: {'angry': 0.02308293042005971, 'disgust': 2.1234560776406397e-07, 'happy': 0.007362530595855787, 'sad': 0.48144389875233173, 'surprise': 0.0002663305394889903, 'neutral': 99.40967559814453}\n",
      "Label: neutral\n"
     ]
    },
    {
     "name": "stderr",
     "output_type": "stream",
     "text": [
      "Action: emotion: 100%|██████████| 1/1 [00:00<00:00, 17.40it/s]\n"
     ]
    },
    {
     "name": "stdout",
     "output_type": "stream",
     "text": [
      "Emotion values: {'angry': 0.10322342859581113, 'disgust': 1.3596557835171552e-05, 'happy': 0.17054150812327862, 'sad': 1.4687757939100266, 'surprise': 0.008122287545120344, 'neutral': 97.21375703811646}\n",
      "Label: neutral\n"
     ]
    },
    {
     "name": "stderr",
     "output_type": "stream",
     "text": [
      "Action: emotion: 100%|██████████| 1/1 [00:00<00:00, 17.25it/s]\n"
     ]
    },
    {
     "name": "stdout",
     "output_type": "stream",
     "text": [
      "Emotion values: {'angry': 0.025661896581166778, 'disgust': 2.478220887445727e-07, 'happy': 0.0036490111953222347, 'sad': 0.5951835662981013, 'surprise': 0.0002032335608592936, 'neutral': 99.20309181231808}\n",
      "Label: neutral\n"
     ]
    },
    {
     "name": "stderr",
     "output_type": "stream",
     "text": [
      "Action: emotion: 100%|██████████| 1/1 [00:00<00:00, 17.16it/s]\n"
     ]
    },
    {
     "name": "stdout",
     "output_type": "stream",
     "text": [
      "Emotion values: {'angry': 0.15844833105802536, 'disgust': 1.3147110955458174e-06, 'happy': 0.0054235515563050285, 'sad': 0.6138352677226067, 'surprise': 0.0004989079116057837, 'neutral': 99.07508492469788}\n",
      "Label: neutral\n"
     ]
    },
    {
     "name": "stderr",
     "output_type": "stream",
     "text": [
      "Action: emotion: 100%|██████████| 1/1 [00:00<00:00, 17.28it/s]\n"
     ]
    },
    {
     "name": "stdout",
     "output_type": "stream",
     "text": [
      "Emotion values: {'angry': 0.15844833105802536, 'disgust': 1.3147110955458174e-06, 'happy': 0.0054235515563050285, 'sad': 0.6138352677226067, 'surprise': 0.0004989079116057837, 'neutral': 99.07508492469788}\n",
      "Label: neutral\n"
     ]
    },
    {
     "name": "stderr",
     "output_type": "stream",
     "text": [
      "Action: emotion: 100%|██████████| 1/1 [00:00<00:00, 16.16it/s]\n"
     ]
    },
    {
     "name": "stdout",
     "output_type": "stream",
     "text": [
      "Emotion values: {'angry': 0.15388663159683347, 'disgust': 9.177971271867591e-07, 'happy': 0.0029049597287666984, 'sad': 0.5690489429980516, 'surprise': 0.00017735278561303858, 'neutral': 99.1609275341034}\n",
      "Label: neutral\n"
     ]
    },
    {
     "name": "stderr",
     "output_type": "stream",
     "text": [
      "Action: emotion: 100%|██████████| 1/1 [00:00<00:00, 17.04it/s]\n"
     ]
    },
    {
     "name": "stdout",
     "output_type": "stream",
     "text": [
      "Emotion values: {'angry': 0.05934913642704487, 'disgust': 8.168425047472283e-07, 'happy': 0.01172604170278646, 'sad': 0.19880777690559626, 'surprise': 0.00039957590161066037, 'neutral': 99.62189793586731}\n",
      "Label: neutral\n"
     ]
    },
    {
     "name": "stderr",
     "output_type": "stream",
     "text": [
      "Action: emotion: 100%|██████████| 1/1 [00:00<00:00, 16.63it/s]\n"
     ]
    },
    {
     "name": "stdout",
     "output_type": "stream",
     "text": [
      "Emotion values: {'angry': 0.05478031234815717, 'disgust': 3.923890545820541e-06, 'happy': 0.02502630522940308, 'sad': 0.47844829969108105, 'surprise': 0.000711590155333397, 'neutral': 99.2804229259491}\n",
      "Label: neutral\n"
     ]
    },
    {
     "name": "stderr",
     "output_type": "stream",
     "text": [
      "Action: emotion: 100%|██████████| 1/1 [00:00<00:00, 16.95it/s]\n"
     ]
    },
    {
     "name": "stdout",
     "output_type": "stream",
     "text": [
      "Emotion values: {'angry': 0.19190566381439567, 'disgust': 6.124639639892848e-06, 'happy': 0.04774102126248181, 'sad': 1.4227250590920448, 'surprise': 0.0020911526007694192, 'neutral': 97.76787757873535}\n",
      "Label: neutral\n"
     ]
    },
    {
     "name": "stderr",
     "output_type": "stream",
     "text": [
      "Action: emotion: 100%|██████████| 1/1 [00:00<00:00, 16.76it/s]\n"
     ]
    },
    {
     "name": "stdout",
     "output_type": "stream",
     "text": [
      "Emotion values: {'angry': 0.25889792013913393, 'disgust': 3.91352550366264e-06, 'happy': 0.005501155101228505, 'sad': 1.3417811132967472, 'surprise': 0.00030446203709288966, 'neutral': 97.9123592376709}\n",
      "Label: neutral\n"
     ]
    },
    {
     "name": "stderr",
     "output_type": "stream",
     "text": [
      "Action: emotion: 100%|██████████| 1/1 [00:00<00:00, 17.91it/s]\n"
     ]
    },
    {
     "name": "stdout",
     "output_type": "stream",
     "text": [
      "Emotion values: {'angry': 0.07404149951288101, 'disgust': 3.204161038741311e-06, 'happy': 0.03447967961588828, 'sad': 0.36356812181729803, 'surprise': 0.0009774110949871224, 'neutral': 99.17532796712685}\n",
      "Label: neutral\n"
     ]
    },
    {
     "name": "stderr",
     "output_type": "stream",
     "text": [
      "Action: emotion: 100%|██████████| 1/1 [00:00<00:00, 17.01it/s]\n"
     ]
    },
    {
     "name": "stdout",
     "output_type": "stream",
     "text": [
      "Emotion values: {'angry': 0.09746121359057724, 'disgust': 2.0409659740039388e-06, 'happy': 0.015506698400713503, 'sad': 0.6817454472184181, 'surprise': 0.0009959551789506804, 'neutral': 99.01031255722046}\n",
      "Label: neutral\n"
     ]
    },
    {
     "name": "stderr",
     "output_type": "stream",
     "text": [
      "Action: emotion: 100%|██████████| 1/1 [00:00<00:00, 16.94it/s]\n"
     ]
    },
    {
     "name": "stdout",
     "output_type": "stream",
     "text": [
      "Emotion values: {'angry': 0.04445039085112512, 'disgust': 1.8658361966572556e-06, 'happy': 0.011712954437825829, 'sad': 0.829584151506424, 'surprise': 0.0006604229383810889, 'neutral': 98.764568567276}\n",
      "Label: neutral\n"
     ]
    },
    {
     "name": "stderr",
     "output_type": "stream",
     "text": [
      "Action: emotion: 100%|██████████| 1/1 [00:00<00:00, 18.40it/s]\n"
     ]
    },
    {
     "name": "stdout",
     "output_type": "stream",
     "text": [
      "Emotion values: {'angry': 0.020550798217300326, 'disgust': 3.150710137234114e-07, 'happy': 0.007803224434610456, 'sad': 0.1650984981097281, 'surprise': 0.00048155370677704923, 'neutral': 99.75195527076721}\n",
      "Label: neutral\n"
     ]
    },
    {
     "name": "stderr",
     "output_type": "stream",
     "text": [
      "Action: emotion: 100%|██████████| 1/1 [00:00<00:00, 19.40it/s]\n"
     ]
    },
    {
     "name": "stdout",
     "output_type": "stream",
     "text": [
      "Emotion values: {'angry': 0.020550798217300326, 'disgust': 3.150710137234114e-07, 'happy': 0.007803224434610456, 'sad': 0.1650984981097281, 'surprise': 0.00048155370677704923, 'neutral': 99.75195527076721}\n",
      "Label: neutral\n"
     ]
    },
    {
     "name": "stderr",
     "output_type": "stream",
     "text": [
      "Action: emotion: 100%|██████████| 1/1 [00:00<00:00, 16.76it/s]\n"
     ]
    },
    {
     "name": "stdout",
     "output_type": "stream",
     "text": [
      "Emotion values: {'angry': 0.9697074070572853, 'disgust': 0.0001029431132337777, 'happy': 0.05609325016848743, 'sad': 5.296407639980316, 'surprise': 0.001971150231838692, 'neutral': 92.2159492969513}\n",
      "Label: neutral\n"
     ]
    },
    {
     "name": "stderr",
     "output_type": "stream",
     "text": [
      "Action: emotion: 100%|██████████| 1/1 [00:00<00:00, 17.27it/s]\n"
     ]
    },
    {
     "name": "stdout",
     "output_type": "stream",
     "text": [
      "Emotion values: {'angry': 0.12228005798533559, 'disgust': 5.093141464129758e-07, 'happy': 0.004499017813941464, 'sad': 0.8416060358285904, 'surprise': 0.00028420784019544953, 'neutral': 98.94513487815857}\n",
      "Label: neutral\n"
     ]
    },
    {
     "name": "stderr",
     "output_type": "stream",
     "text": [
      "Action: emotion: 100%|██████████| 1/1 [00:00<00:00, 17.60it/s]\n"
     ]
    },
    {
     "name": "stdout",
     "output_type": "stream",
     "text": [
      "Emotion values: {'angry': 0.11135757504611313, 'disgust': 2.944806358544466e-06, 'happy': 0.018071903497256667, 'sad': 0.4796425240167947, 'surprise': 0.0014205572495527305, 'neutral': 99.24502381741716}\n",
      "Label: neutral\n"
     ]
    },
    {
     "name": "stderr",
     "output_type": "stream",
     "text": [
      "Action: emotion: 100%|██████████| 1/1 [00:00<00:00, 17.49it/s]\n"
     ]
    },
    {
     "name": "stdout",
     "output_type": "stream",
     "text": [
      "Emotion values: {'angry': 0.015127790712917788, 'disgust': 7.319454368115668e-08, 'happy': 0.0024025266224743836, 'sad': 0.17202953902063006, 'surprise': 0.0003940733002545929, 'neutral': 99.77075456206528}\n",
      "Label: neutral\n"
     ]
    },
    {
     "name": "stderr",
     "output_type": "stream",
     "text": [
      "Action: emotion: 100%|██████████| 1/1 [00:00<00:00, 16.93it/s]\n"
     ]
    },
    {
     "name": "stdout",
     "output_type": "stream",
     "text": [
      "Emotion values: {'angry': 0.06949548842385411, 'disgust': 4.677210618808658e-07, 'happy': 0.0038544054405065253, 'sad': 0.5083857569843531, 'surprise': 0.0003032360609722673, 'neutral': 99.22188520431519}\n",
      "Label: neutral\n"
     ]
    },
    {
     "name": "stderr",
     "output_type": "stream",
     "text": [
      "Action: emotion: 100%|██████████| 1/1 [00:00<00:00, 16.40it/s]\n"
     ]
    },
    {
     "name": "stdout",
     "output_type": "stream",
     "text": [
      "Emotion values: {'angry': 0.025736542089971427, 'disgust': 1.580624725393713e-07, 'happy': 0.0029897777457682188, 'sad': 0.47118978589414273, 'surprise': 0.0003740654160671976, 'neutral': 99.38658472219615}\n",
      "Label: neutral\n"
     ]
    },
    {
     "name": "stderr",
     "output_type": "stream",
     "text": [
      "Action: emotion: 100%|██████████| 1/1 [00:00<00:00, 17.27it/s]\n"
     ]
    },
    {
     "name": "stdout",
     "output_type": "stream",
     "text": [
      "Emotion values: {'angry': 0.022568798158317804, 'disgust': 1.3947120125479273e-07, 'happy': 0.005737470928579569, 'sad': 0.24927263148128986, 'surprise': 0.00026309235181543045, 'neutral': 99.68743324279785}\n",
      "Label: neutral\n"
     ]
    },
    {
     "name": "stderr",
     "output_type": "stream",
     "text": [
      "Action: emotion: 100%|██████████| 1/1 [00:00<00:00, 17.98it/s]\n"
     ]
    },
    {
     "name": "stdout",
     "output_type": "stream",
     "text": [
      "Emotion values: {'angry': 0.01892813597805798, 'disgust': 3.6233314126832283e-07, 'happy': 0.00526697222085204, 'sad': 0.3774500684812665, 'surprise': 0.00047496009756287094, 'neutral': 99.45552349090576}\n",
      "Label: neutral\n"
     ]
    },
    {
     "name": "stderr",
     "output_type": "stream",
     "text": [
      "Action: emotion: 100%|██████████| 1/1 [00:00<00:00, 17.58it/s]\n"
     ]
    },
    {
     "name": "stdout",
     "output_type": "stream",
     "text": [
      "Emotion values: {'angry': 0.022591819179594914, 'disgust': 3.90057431843892e-07, 'happy': 0.009365919517044768, 'sad': 0.26180887758337723, 'surprise': 0.0006229365142869641, 'neutral': 99.5949804541457}\n",
      "Label: neutral\n"
     ]
    },
    {
     "name": "stderr",
     "output_type": "stream",
     "text": [
      "Action: emotion: 100%|██████████| 1/1 [00:00<00:00, 16.90it/s]\n"
     ]
    },
    {
     "name": "stdout",
     "output_type": "stream",
     "text": [
      "Emotion values: {'angry': 0.018777996592689306, 'disgust': 2.1874377864605776e-07, 'happy': 0.053945486433804035, 'sad': 0.11455786880105734, 'surprise': 0.0007491602900699945, 'neutral': 99.7102677822113}\n",
      "Label: neutral\n"
     ]
    },
    {
     "name": "stderr",
     "output_type": "stream",
     "text": [
      "Action: emotion: 100%|██████████| 1/1 [00:00<00:00, 19.16it/s]\n"
     ]
    },
    {
     "name": "stdout",
     "output_type": "stream",
     "text": [
      "Emotion values: {'angry': 0.21856936066266064, 'disgust': 2.8341581439025397e-06, 'happy': 0.024143417233301982, 'sad': 2.133333065112416, 'surprise': 0.0004859920698890858, 'neutral': 97.35919817442883}\n",
      "Label: neutral\n"
     ]
    },
    {
     "name": "stderr",
     "output_type": "stream",
     "text": [
      "Action: emotion: 100%|██████████| 1/1 [00:00<00:00, 16.68it/s]\n"
     ]
    },
    {
     "name": "stdout",
     "output_type": "stream",
     "text": [
      "Emotion values: {'angry': 0.01025939272949472, 'disgust': 3.639820111978054e-08, 'happy': 0.006134581781225279, 'sad': 0.13174200430512428, 'surprise': 0.0006024514277669368, 'neutral': 99.82340335845947}\n",
      "Label: neutral\n"
     ]
    },
    {
     "name": "stderr",
     "output_type": "stream",
     "text": [
      "Action: emotion: 100%|██████████| 1/1 [00:00<00:00, 17.74it/s]\n"
     ]
    },
    {
     "name": "stdout",
     "output_type": "stream",
     "text": [
      "Emotion values: {'angry': 0.029517243396587275, 'disgust': 1.6647146876255117e-06, 'happy': 0.06704448423427249, 'sad': 0.660996690675419, 'surprise': 0.0022191411930485966, 'neutral': 99.14431566860173}\n",
      "Label: neutral\n"
     ]
    },
    {
     "name": "stderr",
     "output_type": "stream",
     "text": [
      "Action: emotion: 100%|██████████| 1/1 [00:00<00:00, 17.18it/s]\n"
     ]
    },
    {
     "name": "stdout",
     "output_type": "stream",
     "text": [
      "Emotion values: {'angry': 0.3485884026714207, 'disgust': 4.896466244549458e-05, 'happy': 0.10703443023395122, 'sad': 2.271768586144959, 'surprise': 0.0018460691726286216, 'neutral': 96.86031918885226}\n",
      "Label: neutral\n"
     ]
    },
    {
     "name": "stderr",
     "output_type": "stream",
     "text": [
      "Action: emotion: 100%|██████████| 1/1 [00:00<00:00, 16.11it/s]\n"
     ]
    },
    {
     "name": "stdout",
     "output_type": "stream",
     "text": [
      "Emotion values: {'angry': 1.849890686571598, 'disgust': 0.00037445558973558946, 'happy': 3.0563421547412872, 'sad': 5.009279027581215, 'surprise': 0.009090632374864072, 'neutral': 65.2993381023407}\n",
      "Label: neutral\n"
     ]
    },
    {
     "name": "stderr",
     "output_type": "stream",
     "text": [
      "Action: emotion: 100%|██████████| 1/1 [00:00<00:00, 16.77it/s]\n"
     ]
    },
    {
     "name": "stdout",
     "output_type": "stream",
     "text": [
      "Emotion values: {'angry': 3.2639440149068832, 'disgust': 0.0025002920665428974, 'happy': 0.7000463083386421, 'sad': 6.101062521338463, 'surprise': 0.0018523198377806693, 'neutral': 86.55645847320557}\n",
      "Label: neutral\n"
     ]
    },
    {
     "name": "stderr",
     "output_type": "stream",
     "text": [
      "Action: emotion: 100%|██████████| 1/1 [00:00<00:00, 16.06it/s]\n"
     ]
    },
    {
     "name": "stdout",
     "output_type": "stream",
     "text": [
      "Emotion values: {'angry': 4.897519573569298, 'disgust': 0.0024196402591769584, 'happy': 1.622854731976986, 'sad': 10.300666093826294, 'surprise': 0.021729091531597078, 'neutral': 58.21040868759155}\n",
      "Label: neutral\n"
     ]
    },
    {
     "name": "stderr",
     "output_type": "stream",
     "text": [
      "Action: emotion: 100%|██████████| 1/1 [00:00<00:00, 15.89it/s]\n"
     ]
    },
    {
     "name": "stdout",
     "output_type": "stream",
     "text": [
      "Emotion values: {'angry': 1.0282161351184684, 'disgust': 0.0002117521009906601, 'happy': 0.5518287228103015, 'sad': 0.804542467946712, 'surprise': 0.24759740876735345, 'neutral': 5.343277860489146}\n",
      "Label: neutral\n"
     ]
    },
    {
     "name": "stderr",
     "output_type": "stream",
     "text": [
      "Action: emotion: 100%|██████████| 1/1 [00:00<00:00, 16.21it/s]\n"
     ]
    },
    {
     "name": "stdout",
     "output_type": "stream",
     "text": [
      "Emotion values: {'angry': 0.008795766595650348, 'disgust': 8.332552542732444e-08, 'happy': 0.034866995911136754, 'sad': 0.2617270373729423, 'surprise': 0.0012865527709154368, 'neutral': 14.723147186857798}\n",
      "Label: neutral\n"
     ]
    },
    {
     "name": "stderr",
     "output_type": "stream",
     "text": [
      "Action: emotion: 100%|██████████| 1/1 [00:00<00:00, 16.05it/s]\n"
     ]
    },
    {
     "name": "stdout",
     "output_type": "stream",
     "text": [
      "Emotion values: {'angry': 0.029510033225905386, 'disgust': 4.6946327981549167e-07, 'happy': 0.011635674241107239, 'sad': 1.1938087202678584, 'surprise': 0.00028233824833172447, 'neutral': 0.6151524640056448}\n",
      "Label: sad\n"
     ]
    },
    {
     "name": "stderr",
     "output_type": "stream",
     "text": [
      "Action: emotion: 100%|██████████| 1/1 [00:00<00:00, 16.84it/s]\n"
     ]
    },
    {
     "name": "stdout",
     "output_type": "stream",
     "text": [
      "Emotion values: {'angry': 0.8013630285859108, 'disgust': 1.0406890993408524e-05, 'happy': 0.03990484110545367, 'sad': 25.953316688537598, 'surprise': 0.003102278060396202, 'neutral': 1.076022908091545}\n",
      "Label: sad\n"
     ]
    },
    {
     "name": "stderr",
     "output_type": "stream",
     "text": [
      "Action: emotion: 100%|██████████| 1/1 [00:00<00:00, 18.73it/s]\n"
     ]
    },
    {
     "name": "stdout",
     "output_type": "stream",
     "text": [
      "Emotion values: {'angry': 0.8013630285859108, 'disgust': 1.0406890993408524e-05, 'happy': 0.03990484110545367, 'sad': 25.953316688537598, 'surprise': 0.003102278060396202, 'neutral': 1.076022908091545}\n",
      "Label: sad\n"
     ]
    },
    {
     "name": "stderr",
     "output_type": "stream",
     "text": [
      "Action: emotion: 100%|██████████| 1/1 [00:00<00:00, 16.83it/s]\n"
     ]
    },
    {
     "name": "stdout",
     "output_type": "stream",
     "text": [
      "Emotion values: {'angry': 11.587494611740112, 'disgust': 0.005858874283148907, 'happy': 0.03321707190480083, 'sad': 31.998106837272644, 'surprise': 0.001515731401013909, 'neutral': 45.842599868774414}\n",
      "Label: neutral\n"
     ]
    },
    {
     "name": "stderr",
     "output_type": "stream",
     "text": [
      "Action: emotion: 100%|██████████| 1/1 [00:00<00:00, 18.38it/s]\n"
     ]
    },
    {
     "name": "stdout",
     "output_type": "stream",
     "text": [
      "Emotion values: {'angry': 11.587494611740112, 'disgust': 0.005858874283148907, 'happy': 0.03321707190480083, 'sad': 31.998106837272644, 'surprise': 0.001515731401013909, 'neutral': 45.842599868774414}\n",
      "Label: neutral\n"
     ]
    },
    {
     "name": "stderr",
     "output_type": "stream",
     "text": [
      "Action: emotion: 100%|██████████| 1/1 [00:00<00:00, 19.12it/s]"
     ]
    },
    {
     "name": "stdout",
     "output_type": "stream",
     "text": [
      "Emotion values: {'angry': 0.6928485352545977, 'disgust': 0.00018074248373523005, 'happy': 0.3874337999150157, 'sad': 4.988237097859383, 'surprise': 0.007961400115163997, 'neutral': 91.58554077148438}\n",
      "Label: neutral\n"
     ]
    },
    {
     "name": "stderr",
     "output_type": "stream",
     "text": [
      "\n",
      "Action: emotion: 100%|██████████| 1/1 [00:00<00:00, 18.07it/s]\n"
     ]
    },
    {
     "name": "stdout",
     "output_type": "stream",
     "text": [
      "Emotion values: {'angry': 2.1228374315999408, 'disgust': 0.00036521932900997303, 'happy': 0.7656677151124308, 'sad': 9.295828449477462, 'surprise': 0.04857207821552922, 'neutral': 71.45198413443471}\n",
      "Label: neutral\n"
     ]
    },
    {
     "name": "stderr",
     "output_type": "stream",
     "text": [
      "Action: emotion: 100%|██████████| 1/1 [00:00<00:00, 18.82it/s]\n"
     ]
    },
    {
     "name": "stdout",
     "output_type": "stream",
     "text": [
      "Emotion values: {'angry': 7.362060248851776, 'disgust': 0.00015489023326153983, 'happy': 0.12556950096040964, 'sad': 29.048696160316467, 'surprise': 0.179099733941257, 'neutral': 10.933694988489151}\n",
      "Label: sad\n"
     ]
    },
    {
     "name": "stderr",
     "output_type": "stream",
     "text": [
      "Action: emotion: 100%|██████████| 1/1 [00:00<00:00, 17.61it/s]\n"
     ]
    },
    {
     "name": "stdout",
     "output_type": "stream",
     "text": [
      "Emotion values: {'angry': 0.6479478441178799, 'disgust': 6.949886710572173e-05, 'happy': 0.12003331212326884, 'sad': 7.522307336330414, 'surprise': 0.008488594176014885, 'neutral': 86.5666151046753}\n",
      "Label: neutral\n"
     ]
    },
    {
     "name": "stderr",
     "output_type": "stream",
     "text": [
      "Action: emotion: 100%|██████████| 1/1 [00:00<00:00, 16.51it/s]\n"
     ]
    },
    {
     "name": "stdout",
     "output_type": "stream",
     "text": [
      "Emotion values: {'angry': 0.31754779629409313, 'disgust': 1.1519643550172987e-05, 'happy': 0.061529804952442646, 'sad': 2.6111623272299767, 'surprise': 0.019526411779224873, 'neutral': 95.09809613227844}\n",
      "Label: neutral\n"
     ]
    },
    {
     "name": "stderr",
     "output_type": "stream",
     "text": [
      "Action: emotion: 100%|██████████| 1/1 [00:00<00:00, 19.61it/s]\n"
     ]
    },
    {
     "name": "stdout",
     "output_type": "stream",
     "text": [
      "Emotion values: {'angry': 0.5069084465503693, 'disgust': 1.8744140106718987e-05, 'happy': 0.05598740535788238, 'sad': 6.953166425228119, 'surprise': 0.001993776095332578, 'neutral': 91.1555528640747}\n",
      "Label: neutral\n"
     ]
    },
    {
     "name": "stderr",
     "output_type": "stream",
     "text": [
      "Action: emotion: 100%|██████████| 1/1 [00:00<00:00, 17.78it/s]\n"
     ]
    },
    {
     "name": "stdout",
     "output_type": "stream",
     "text": [
      "Emotion values: {'angry': 0.1937463297508657, 'disgust': 5.569675209926572e-06, 'happy': 0.2905761357396841, 'sad': 3.585066646337509, 'surprise': 0.012073963443981484, 'neutral': 92.00406074523926}\n",
      "Label: neutral\n"
     ]
    },
    {
     "name": "stderr",
     "output_type": "stream",
     "text": [
      "Action: emotion: 100%|██████████| 1/1 [00:00<00:00, 18.10it/s]\n"
     ]
    },
    {
     "name": "stdout",
     "output_type": "stream",
     "text": [
      "Emotion values: {'angry': 1.6181088984012604, 'disgust': 3.068777516546106e-05, 'happy': 0.0853062083479017, 'sad': 11.129885166883469, 'surprise': 0.12251377338543534, 'neutral': 75.6684958934784}\n",
      "Label: neutral\n"
     ]
    },
    {
     "name": "stderr",
     "output_type": "stream",
     "text": [
      "Action: emotion: 100%|██████████| 1/1 [00:00<00:00, 18.70it/s]\n"
     ]
    },
    {
     "name": "stdout",
     "output_type": "stream",
     "text": [
      "Emotion values: {'angry': 1.6181088984012604, 'disgust': 3.068777516546106e-05, 'happy': 0.0853062083479017, 'sad': 11.129885166883469, 'surprise': 0.12251377338543534, 'neutral': 75.6684958934784}\n",
      "Label: neutral\n"
     ]
    },
    {
     "name": "stderr",
     "output_type": "stream",
     "text": [
      "Action: emotion: 100%|██████████| 1/1 [00:00<00:00, 18.46it/s]"
     ]
    },
    {
     "name": "stdout",
     "output_type": "stream",
     "text": [
      "Emotion values: {'angry': 0.29136575758457184, 'disgust': 3.5293489020205016e-06, 'happy': 0.03561677294783294, 'sad': 6.128382682800293, 'surprise': 0.004660560080083087, 'neutral': 92.83883571624756}\n",
      "Label: neutral\n"
     ]
    },
    {
     "name": "stderr",
     "output_type": "stream",
     "text": [
      "\n",
      "Action: emotion: 100%|██████████| 1/1 [00:00<00:00, 16.17it/s]\n"
     ]
    },
    {
     "name": "stdout",
     "output_type": "stream",
     "text": [
      "Emotion values: {'angry': 0.29136575758457184, 'disgust': 3.5293489020205016e-06, 'happy': 0.03561677294783294, 'sad': 6.128382682800293, 'surprise': 0.004660560080083087, 'neutral': 92.83883571624756}\n",
      "Label: neutral\n"
     ]
    },
    {
     "name": "stderr",
     "output_type": "stream",
     "text": [
      "Action: emotion: 100%|██████████| 1/1 [00:00<00:00, 19.26it/s]\n"
     ]
    },
    {
     "name": "stdout",
     "output_type": "stream",
     "text": [
      "Emotion values: {'angry': 0.3941149450838566, 'disgust': 1.7960910980718836e-06, 'happy': 0.03031122323591262, 'sad': 5.261610448360443, 'surprise': 0.013652662164531648, 'neutral': 93.35023760795593}\n",
      "Label: neutral\n"
     ]
    },
    {
     "name": "stderr",
     "output_type": "stream",
     "text": [
      "Action: emotion: 100%|██████████| 1/1 [00:00<00:00, 18.49it/s]\n"
     ]
    },
    {
     "name": "stdout",
     "output_type": "stream",
     "text": [
      "Emotion values: {'angry': 0.054169903478467674, 'disgust': 2.1827596587820262e-07, 'happy': 0.007636423561471615, 'sad': 1.7480149044403377, 'surprise': 0.0038119482722503034, 'neutral': 1.144228291912573}\n",
      "Label: sad\n"
     ]
    },
    {
     "name": "stderr",
     "output_type": "stream",
     "text": [
      "Action: emotion: 100%|██████████| 1/1 [00:00<00:00, 18.67it/s]\n"
     ]
    },
    {
     "name": "stdout",
     "output_type": "stream",
     "text": [
      "Emotion values: {'angry': 0.054169903478467674, 'disgust': 2.1827596587820262e-07, 'happy': 0.007636423561471615, 'sad': 1.7480149044403377, 'surprise': 0.0038119482722503034, 'neutral': 1.144228291912573}\n",
      "Label: sad\n"
     ]
    },
    {
     "name": "stderr",
     "output_type": "stream",
     "text": [
      "Action: emotion: 100%|██████████| 1/1 [00:00<00:00, 17.35it/s]\n"
     ]
    },
    {
     "name": "stdout",
     "output_type": "stream",
     "text": [
      "Emotion values: {'angry': 0.835346200933826, 'disgust': 0.001222173232323571, 'happy': 0.7521284261124388, 'sad': 41.18298537629756, 'surprise': 0.0006990721392998164, 'neutral': 16.475620357729216}\n",
      "Label: sad\n"
     ]
    },
    {
     "name": "stderr",
     "output_type": "stream",
     "text": [
      "Action: emotion: 100%|██████████| 1/1 [00:00<00:00, 17.21it/s]\n"
     ]
    },
    {
     "name": "stdout",
     "output_type": "stream",
     "text": [
      "Emotion values: {'angry': 0.4829516922206695, 'disgust': 0.0001452467900152384, 'happy': 0.08321197733801468, 'sad': 36.231516971082506, 'surprise': 0.0024976046585679966, 'neutral': 58.29694618564523}\n",
      "Label: neutral\n"
     ]
    },
    {
     "name": "stderr",
     "output_type": "stream",
     "text": [
      "Action: emotion: 100%|██████████| 1/1 [00:00<00:00, 18.63it/s]\n"
     ]
    },
    {
     "name": "stdout",
     "output_type": "stream",
     "text": [
      "Emotion values: {'angry': 0.13550502029746528, 'disgust': 0.00011877611717116158, 'happy': 1.4382800235414477, 'sad': 4.429268681494155, 'surprise': 0.015450176920161913, 'neutral': 91.80050590032269}\n",
      "Label: neutral\n"
     ]
    },
    {
     "name": "stderr",
     "output_type": "stream",
     "text": [
      "Action: emotion: 100%|██████████| 1/1 [00:00<00:00, 18.64it/s]\n"
     ]
    },
    {
     "name": "stdout",
     "output_type": "stream",
     "text": [
      "Emotion values: {'angry': 4.0146705823744036, 'disgust': 0.0027828145582580598, 'happy': 0.011571840802156947, 'sad': 89.60944290273702, 'surprise': 0.0003508016070375272, 'neutral': 3.266181441090279}\n",
      "Label: sad\n"
     ]
    },
    {
     "name": "stderr",
     "output_type": "stream",
     "text": [
      "Action: emotion: 100%|██████████| 1/1 [00:00<00:00, 17.37it/s]\n"
     ]
    },
    {
     "name": "stdout",
     "output_type": "stream",
     "text": [
      "Emotion values: {'angry': 0.0689283968627777, 'disgust': 5.522765126333862e-05, 'happy': 0.857164161016245, 'sad': 6.008034170631667, 'surprise': 0.004480835366222939, 'neutral': 91.63038630847768}\n",
      "Label: neutral\n"
     ]
    },
    {
     "name": "stderr",
     "output_type": "stream",
     "text": [
      "Action: emotion: 100%|██████████| 1/1 [00:00<00:00, 18.71it/s]\n"
     ]
    },
    {
     "name": "stdout",
     "output_type": "stream",
     "text": [
      "Emotion values: {'angry': 0.09131294209510088, 'disgust': 4.198396084120759e-05, 'happy': 0.4550113808363676, 'sad': 3.286547213792801, 'surprise': 0.003034892142750323, 'neutral': 95.82669734954834}\n",
      "Label: neutral\n"
     ]
    },
    {
     "name": "stderr",
     "output_type": "stream",
     "text": [
      "Action: emotion: 100%|██████████| 1/1 [00:00<00:00, 18.15it/s]"
     ]
    },
    {
     "name": "stdout",
     "output_type": "stream",
     "text": [
      "Emotion values: {'angry': 0.07784594081541543, 'disgust': 4.886437501670632e-06, 'happy': 0.07121838704494458, 'sad': 1.009478666453282, 'surprise': 0.0038434702690989682, 'neutral': 98.76108162171136}\n",
      "Label: neutral\n"
     ]
    },
    {
     "name": "stderr",
     "output_type": "stream",
     "text": [
      "\n",
      "Action: emotion: 100%|██████████| 1/1 [00:00<00:00, 18.34it/s]"
     ]
    },
    {
     "name": "stdout",
     "output_type": "stream",
     "text": [
      "Emotion values: {'angry': 0.12894313549622893, 'disgust': 8.941000118056763e-06, 'happy': 0.06992235430516303, 'sad': 2.9329221695661545, 'surprise': 0.0014699298844789155, 'neutral': 96.72945737838745}\n",
      "Label: neutral\n"
     ]
    },
    {
     "name": "stderr",
     "output_type": "stream",
     "text": [
      "\n",
      "Action: emotion: 100%|██████████| 1/1 [00:00<00:00, 18.89it/s]\n"
     ]
    },
    {
     "name": "stdout",
     "output_type": "stream",
     "text": [
      "Emotion values: {'angry': 0.016355198749806732, 'disgust': 2.2952013623012135e-07, 'happy': 0.028026715153828263, 'sad': 0.49632368609309196, 'surprise': 0.0011004266525560524, 'neutral': 99.36888217926025}\n",
      "Label: neutral\n"
     ]
    },
    {
     "name": "stderr",
     "output_type": "stream",
     "text": [
      "Action: emotion: 100%|██████████| 1/1 [00:00<00:00, 16.04it/s]\n"
     ]
    },
    {
     "name": "stdout",
     "output_type": "stream",
     "text": [
      "Emotion values: {'angry': 0.18241783759998306, 'disgust': 2.391904417214253e-05, 'happy': 0.201897451580909, 'sad': 2.444750402554894, 'surprise': 0.01656533957941619, 'neutral': 96.72334174652944}\n",
      "Label: neutral\n"
     ]
    },
    {
     "name": "stderr",
     "output_type": "stream",
     "text": [
      "Action: emotion: 100%|██████████| 1/1 [00:00<00:00, 17.05it/s]\n"
     ]
    },
    {
     "name": "stdout",
     "output_type": "stream",
     "text": [
      "Emotion values: {'angry': 4.210129623397633, 'disgust': 2.3914486737776672e-05, 'happy': 0.023084665166831445, 'sad': 51.9931612022923, 'surprise': 0.04276340841435243, 'neutral': 28.052955501919328}\n",
      "Label: sad\n"
     ]
    },
    {
     "name": "stderr",
     "output_type": "stream",
     "text": [
      "Action: emotion: 100%|██████████| 1/1 [00:00<00:00, 19.04it/s]\n"
     ]
    },
    {
     "name": "stdout",
     "output_type": "stream",
     "text": [
      "Emotion values: {'angry': 0.1579628486938359, 'disgust': 1.3247998095774522e-05, 'happy': 0.1053289384747817, 'sad': 2.1893442792482043, 'surprise': 0.006208410183036231, 'neutral': 97.20812473200264}\n",
      "Label: neutral\n"
     ]
    },
    {
     "name": "stderr",
     "output_type": "stream",
     "text": [
      "Action: emotion: 100%|██████████| 1/1 [00:00<00:00, 15.95it/s]\n"
     ]
    },
    {
     "name": "stdout",
     "output_type": "stream",
     "text": [
      "Emotion values: {'angry': 0.29198952263718575, 'disgust': 1.812708273887166e-05, 'happy': 0.0520057157550644, 'sad': 4.092852283376183, 'surprise': 0.003253640146375691, 'neutral': 95.2400034379955}\n",
      "Label: neutral\n"
     ]
    },
    {
     "name": "stderr",
     "output_type": "stream",
     "text": [
      "Action: emotion: 100%|██████████| 1/1 [00:00<00:00, 17.81it/s]\n"
     ]
    },
    {
     "name": "stdout",
     "output_type": "stream",
     "text": [
      "Emotion values: {'angry': 1.1188218370079994, 'disgust': 0.00013906736739954795, 'happy': 0.060498801758512855, 'sad': 7.284478843212128, 'surprise': 0.004026974784210324, 'neutral': 91.12828373908997}\n",
      "Label: neutral\n"
     ]
    },
    {
     "name": "stderr",
     "output_type": "stream",
     "text": [
      "Action: emotion: 100%|██████████| 1/1 [00:00<00:00, 17.30it/s]"
     ]
    },
    {
     "name": "stdout",
     "output_type": "stream",
     "text": [
      "Emotion values: {'angry': 1.1188218370079994, 'disgust': 0.00013906736739954795, 'happy': 0.060498801758512855, 'sad': 7.284478843212128, 'surprise': 0.004026974784210324, 'neutral': 91.12828373908997}\n",
      "Label: neutral\n"
     ]
    },
    {
     "name": "stderr",
     "output_type": "stream",
     "text": [
      "\n",
      "Action: emotion: 100%|██████████| 1/1 [00:00<00:00, 17.25it/s]"
     ]
    },
    {
     "name": "stdout",
     "output_type": "stream",
     "text": [
      "Emotion values: {'angry': 0.5928990672259411, 'disgust': 3.221003439360505e-05, 'happy': 0.03293062137916641, 'sad': 18.25329282919083, 'surprise': 0.009563380129740253, 'neutral': 2.9758319080867657}\n",
      "Label: sad\n"
     ]
    },
    {
     "name": "stderr",
     "output_type": "stream",
     "text": [
      "\n",
      "Action: emotion: 100%|██████████| 1/1 [00:00<00:00, 17.70it/s]\n"
     ]
    },
    {
     "name": "stdout",
     "output_type": "stream",
     "text": [
      "Emotion values: {'angry': 0.10735959513112903, 'disgust': 2.765392252968013e-05, 'happy': 0.011077489034505561, 'sad': 18.93363445997238, 'surprise': 0.00033036690183507744, 'neutral': 1.425134763121605}\n",
      "Label: sad\n"
     ]
    },
    {
     "name": "stderr",
     "output_type": "stream",
     "text": [
      "Action: emotion: 100%|██████████| 1/1 [00:00<00:00, 13.56it/s]\n"
     ]
    },
    {
     "name": "stdout",
     "output_type": "stream",
     "text": [
      "Emotion values: {'angry': 0.10735959513112903, 'disgust': 2.765392252968013e-05, 'happy': 0.011077489034505561, 'sad': 18.93363445997238, 'surprise': 0.00033036690183507744, 'neutral': 1.425134763121605}\n",
      "Label: sad\n"
     ]
    },
    {
     "name": "stderr",
     "output_type": "stream",
     "text": [
      "Action: emotion: 100%|██████████| 1/1 [00:00<00:00, 16.54it/s]\n"
     ]
    },
    {
     "name": "stdout",
     "output_type": "stream",
     "text": [
      "Emotion values: {'angry': 0.08866474381648004, 'disgust': 4.97273013877475e-06, 'happy': 0.13628160813823342, 'sad': 36.018213629722595, 'surprise': 0.0003533946937750443, 'neutral': 10.008977353572845}\n",
      "Label: sad\n"
     ]
    },
    {
     "name": "stderr",
     "output_type": "stream",
     "text": [
      "Action: emotion: 100%|██████████| 1/1 [00:00<00:00, 15.57it/s]\n"
     ]
    },
    {
     "name": "stdout",
     "output_type": "stream",
     "text": [
      "Emotion values: {'angry': 0.3116196348450023, 'disgust': 9.028864045893654e-06, 'happy': 0.036293933265261855, 'sad': 42.46958285932745, 'surprise': 0.00026076017167874193, 'neutral': 48.00564372472242}\n",
      "Label: neutral\n"
     ]
    },
    {
     "name": "stderr",
     "output_type": "stream",
     "text": [
      "Action: emotion: 100%|██████████| 1/1 [00:00<00:00, 16.56it/s]\n"
     ]
    },
    {
     "name": "stdout",
     "output_type": "stream",
     "text": [
      "Emotion values: {'angry': 0.08439932717010379, 'disgust': 1.1944352706905192e-05, 'happy': 0.10230069747194648, 'sad': 36.03905141353607, 'surprise': 0.0001508397190264077, 'neutral': 35.48450469970703}\n",
      "Label: sad\n"
     ]
    },
    {
     "name": "stderr",
     "output_type": "stream",
     "text": [
      "Action: emotion: 100%|██████████| 1/1 [00:00<00:00, 16.73it/s]\n"
     ]
    },
    {
     "name": "stdout",
     "output_type": "stream",
     "text": [
      "Emotion values: {'angry': 0.08439932717010379, 'disgust': 1.1944352706905192e-05, 'happy': 0.10230069747194648, 'sad': 36.03905141353607, 'surprise': 0.0001508397190264077, 'neutral': 35.48450469970703}\n",
      "Label: sad\n"
     ]
    },
    {
     "name": "stderr",
     "output_type": "stream",
     "text": [
      "Action: emotion: 100%|██████████| 1/1 [00:00<00:00, 15.37it/s]\n"
     ]
    },
    {
     "name": "stdout",
     "output_type": "stream",
     "text": [
      "Emotion values: {'angry': 0.10388744994997978, 'disgust': 3.5979024914922775e-05, 'happy': 0.05338077899068594, 'sad': 15.24173617362976, 'surprise': 0.0004324374913267093, 'neutral': 16.662655770778656}\n",
      "Label: neutral\n"
     ]
    },
    {
     "name": "stderr",
     "output_type": "stream",
     "text": [
      "Action: emotion: 100%|██████████| 1/1 [00:00<00:00, 18.20it/s]\n"
     ]
    },
    {
     "name": "stdout",
     "output_type": "stream",
     "text": [
      "Emotion values: {'angry': 0.5999959073960781, 'disgust': 0.000510905329065281, 'happy': 0.13286271132528782, 'sad': 34.53849256038666, 'surprise': 0.0030926079489290714, 'neutral': 37.2431218624115}\n",
      "Label: neutral\n"
     ]
    },
    {
     "name": "stderr",
     "output_type": "stream",
     "text": [
      "Action: emotion: 100%|██████████| 1/1 [00:00<00:00, 16.56it/s]\n"
     ]
    },
    {
     "name": "stdout",
     "output_type": "stream",
     "text": [
      "Emotion values: {'angry': 0.5999959073960781, 'disgust': 0.000510905329065281, 'happy': 0.13286271132528782, 'sad': 34.53849256038666, 'surprise': 0.0030926079489290714, 'neutral': 37.2431218624115}\n",
      "Label: neutral\n"
     ]
    },
    {
     "name": "stderr",
     "output_type": "stream",
     "text": [
      "Action: emotion: 100%|██████████| 1/1 [00:00<00:00, 18.83it/s]"
     ]
    },
    {
     "name": "stdout",
     "output_type": "stream",
     "text": [
      "Emotion values: {'angry': 1.230686603825486, 'disgust': 9.182067494071794e-05, 'happy': 0.08670253381036423, 'sad': 18.424556757483288, 'surprise': 0.005922889966461768, 'neutral': 77.75342331847091}\n",
      "Label: neutral\n"
     ]
    },
    {
     "name": "stderr",
     "output_type": "stream",
     "text": [
      "\n",
      "Action: emotion: 100%|██████████| 1/1 [00:00<00:00, 18.21it/s]\n"
     ]
    },
    {
     "name": "stdout",
     "output_type": "stream",
     "text": [
      "Emotion values: {'angry': 1.230686603825486, 'disgust': 9.182067494071794e-05, 'happy': 0.08670253381036423, 'sad': 18.424556757483288, 'surprise': 0.005922889966461768, 'neutral': 77.75342331847091}\n",
      "Label: neutral\n"
     ]
    },
    {
     "name": "stderr",
     "output_type": "stream",
     "text": [
      "Action: emotion: 100%|██████████| 1/1 [00:00<00:00, 19.03it/s]\n"
     ]
    },
    {
     "name": "stdout",
     "output_type": "stream",
     "text": [
      "Emotion values: {'angry': 12.173742800951004, 'disgust': 0.00020942395622114418, 'happy': 0.041902996599674225, 'sad': 21.983841061592102, 'surprise': 0.16985107213258743, 'neutral': 10.552548617124557}\n",
      "Label: sad\n"
     ]
    },
    {
     "name": "stderr",
     "output_type": "stream",
     "text": [
      "Action: emotion: 100%|██████████| 1/1 [00:00<00:00, 18.98it/s]\n"
     ]
    },
    {
     "name": "stdout",
     "output_type": "stream",
     "text": [
      "Emotion values: {'angry': 2.2892832257916464, 'disgust': 9.943889291828535e-05, 'happy': 0.11286998141899594, 'sad': 19.199561727020843, 'surprise': 0.07467995027966501, 'neutral': 71.56518528253945}\n",
      "Label: neutral\n"
     ]
    },
    {
     "name": "stderr",
     "output_type": "stream",
     "text": [
      "Action: emotion: 100%|██████████| 1/1 [00:00<00:00, 19.16it/s]\n"
     ]
    },
    {
     "name": "stdout",
     "output_type": "stream",
     "text": [
      "Emotion values: {'angry': 2.2892832257916464, 'disgust': 9.943889291828535e-05, 'happy': 0.11286998141899594, 'sad': 19.199561727020843, 'surprise': 0.07467995027966501, 'neutral': 71.56518528253945}\n",
      "Label: neutral\n"
     ]
    },
    {
     "name": "stderr",
     "output_type": "stream",
     "text": [
      "Action: emotion: 100%|██████████| 1/1 [00:00<00:00, 19.11it/s]\n"
     ]
    },
    {
     "name": "stdout",
     "output_type": "stream",
     "text": [
      "Emotion values: {'angry': 0.8741200901567936, 'disgust': 0.00017722575194056844, 'happy': 0.04611446929629892, 'sad': 12.441999465227127, 'surprise': 0.0013482927897712216, 'neutral': 85.93568205833435}\n",
      "Label: neutral\n"
     ]
    },
    {
     "name": "stderr",
     "output_type": "stream",
     "text": [
      "Action: emotion: 100%|██████████| 1/1 [00:00<00:00, 18.21it/s]\n"
     ]
    },
    {
     "name": "stdout",
     "output_type": "stream",
     "text": [
      "Emotion values: {'angry': 0.6321014370769262, 'disgust': 2.948124233626004e-05, 'happy': 0.056607171427458525, 'sad': 9.94468405842781, 'surprise': 0.006209901766851544, 'neutral': 88.06872963905334}\n",
      "Label: neutral\n"
     ]
    },
    {
     "name": "stderr",
     "output_type": "stream",
     "text": [
      "Action: emotion: 100%|██████████| 1/1 [00:00<00:00, 16.99it/s]\n"
     ]
    },
    {
     "name": "stdout",
     "output_type": "stream",
     "text": [
      "Emotion values: {'angry': 0.6321014370769262, 'disgust': 2.948124233626004e-05, 'happy': 0.056607171427458525, 'sad': 9.94468405842781, 'surprise': 0.006209901766851544, 'neutral': 88.06872963905334}\n",
      "Label: neutral\n"
     ]
    },
    {
     "name": "stderr",
     "output_type": "stream",
     "text": [
      "Action: emotion: 100%|██████████| 1/1 [00:00<00:00, 11.88it/s]\n"
     ]
    },
    {
     "name": "stdout",
     "output_type": "stream",
     "text": [
      "Emotion values: {'angry': 3.9138220250606537, 'disgust': 8.839213592182205e-05, 'happy': 0.023717241128906608, 'sad': 16.56045913696289, 'surprise': 0.07466324605047703, 'neutral': 74.01820421218872}\n",
      "Label: neutral\n"
     ]
    },
    {
     "name": "stderr",
     "output_type": "stream",
     "text": [
      "Action: emotion: 100%|██████████| 1/1 [00:00<00:00, 15.52it/s]\n"
     ]
    },
    {
     "name": "stdout",
     "output_type": "stream",
     "text": [
      "Emotion values: {'angry': 0.973822083324194, 'disgust': 7.832325650269922e-05, 'happy': 0.03384296142030507, 'sad': 10.79694926738739, 'surprise': 0.0026648936909623444, 'neutral': 86.19604110717773}\n",
      "Label: neutral\n"
     ]
    },
    {
     "name": "stderr",
     "output_type": "stream",
     "text": [
      "Action: emotion: 100%|██████████| 1/1 [00:00<00:00, 16.13it/s]\n"
     ]
    },
    {
     "name": "stdout",
     "output_type": "stream",
     "text": [
      "Emotion values: {'angry': 0.3224607789888978, 'disgust': 2.142061816812202e-05, 'happy': 0.019659544341266155, 'sad': 10.934177786111832, 'surprise': 0.000887757141754264, 'neutral': 85.44266819953918}\n",
      "Label: neutral\n"
     ]
    },
    {
     "name": "stderr",
     "output_type": "stream",
     "text": [
      "Action: emotion: 100%|██████████| 1/1 [00:00<00:00, 16.38it/s]\n"
     ]
    },
    {
     "name": "stdout",
     "output_type": "stream",
     "text": [
      "Emotion values: {'angry': 0.6010474171489477, 'disgust': 2.966741021737107e-05, 'happy': 0.03028262872248888, 'sad': 8.538621664047241, 'surprise': 0.002687439882720355, 'neutral': 89.45397138595581}\n",
      "Label: neutral\n"
     ]
    },
    {
     "name": "stderr",
     "output_type": "stream",
     "text": [
      "Action: emotion: 100%|██████████| 1/1 [00:00<00:00, 16.32it/s]\n"
     ]
    },
    {
     "name": "stdout",
     "output_type": "stream",
     "text": [
      "Emotion values: {'angry': 0.179524056147784, 'disgust': 3.1621326002095884e-06, 'happy': 0.0011069700121879578, 'sad': 6.49147555232048, 'surprise': 0.0007007707608863711, 'neutral': 1.1341569013893604}\n",
      "Label: sad\n"
     ]
    },
    {
     "name": "stderr",
     "output_type": "stream",
     "text": [
      "Action: emotion: 100%|██████████| 1/1 [00:00<00:00, 16.17it/s]\n"
     ]
    },
    {
     "name": "stdout",
     "output_type": "stream",
     "text": [
      "Emotion values: {'angry': 0.179524056147784, 'disgust': 3.1621326002095884e-06, 'happy': 0.0011069700121879578, 'sad': 6.49147555232048, 'surprise': 0.0007007707608863711, 'neutral': 1.1341569013893604}\n",
      "Label: sad\n"
     ]
    },
    {
     "name": "stderr",
     "output_type": "stream",
     "text": [
      "Action: emotion: 100%|██████████| 1/1 [00:00<00:00, 14.92it/s]\n"
     ]
    },
    {
     "name": "stdout",
     "output_type": "stream",
     "text": [
      "Emotion values: {'angry': 0.6288171280175447, 'disgust': 1.688800068677665e-05, 'happy': 0.0018838902178686112, 'sad': 91.3797378540039, 'surprise': 2.15299905903521e-05, 'neutral': 0.028473156271502376}\n",
      "Label: sad\n"
     ]
    },
    {
     "name": "stderr",
     "output_type": "stream",
     "text": [
      "Action: emotion: 100%|██████████| 1/1 [00:00<00:00, 15.87it/s]\n"
     ]
    },
    {
     "name": "stdout",
     "output_type": "stream",
     "text": [
      "Emotion values: {'angry': 0.6288171280175447, 'disgust': 1.688800068677665e-05, 'happy': 0.0018838902178686112, 'sad': 91.3797378540039, 'surprise': 2.15299905903521e-05, 'neutral': 0.028473156271502376}\n",
      "Label: sad\n"
     ]
    },
    {
     "name": "stderr",
     "output_type": "stream",
     "text": [
      "Action: emotion: 100%|██████████| 1/1 [00:00<00:00, 14.80it/s]\n"
     ]
    },
    {
     "name": "stdout",
     "output_type": "stream",
     "text": [
      "Emotion values: {'angry': 0.2515676897019148, 'disgust': 0.00012544984429041506, 'happy': 0.0033459178666817024, 'sad': 96.54057025909424, 'surprise': 2.3988184238987742e-05, 'neutral': 0.27110944502055645}\n",
      "Label: sad\n"
     ]
    },
    {
     "name": "stderr",
     "output_type": "stream",
     "text": [
      "Action: emotion: 100%|██████████| 1/1 [00:00<00:00, 15.27it/s]\n"
     ]
    },
    {
     "name": "stdout",
     "output_type": "stream",
     "text": [
      "Emotion values: {'angry': 0.49365153536200523, 'disgust': 0.0002315312713108142, 'happy': 0.005351989238988608, 'sad': 91.50575399398804, 'surprise': 7.450773864547955e-05, 'neutral': 0.9841529652476311}\n",
      "Label: sad\n"
     ]
    },
    {
     "name": "stderr",
     "output_type": "stream",
     "text": [
      "Action: emotion: 100%|██████████| 1/1 [00:00<00:00, 15.23it/s]\n"
     ]
    },
    {
     "name": "stdout",
     "output_type": "stream",
     "text": [
      "Emotion values: {'angry': 0.49365153536200523, 'disgust': 0.0002315312713108142, 'happy': 0.005351989238988608, 'sad': 91.50575399398804, 'surprise': 7.450773864547955e-05, 'neutral': 0.9841529652476311}\n",
      "Label: sad\n"
     ]
    },
    {
     "name": "stderr",
     "output_type": "stream",
     "text": [
      "Action: emotion: 100%|██████████| 1/1 [00:00<00:00, 14.68it/s]\n"
     ]
    },
    {
     "name": "stdout",
     "output_type": "stream",
     "text": [
      "Emotion values: {'angry': 0.8170469664037228, 'disgust': 0.0002754975639618351, 'happy': 0.016232856432907283, 'sad': 63.74502182006836, 'surprise': 0.0006319537533272523, 'neutral': 1.1209947057068348}\n",
      "Label: sad\n"
     ]
    },
    {
     "name": "stderr",
     "output_type": "stream",
     "text": [
      "Action: emotion: 100%|██████████| 1/1 [00:00<00:00, 15.71it/s]\n"
     ]
    },
    {
     "name": "stdout",
     "output_type": "stream",
     "text": [
      "Emotion values: {'angry': 0.6861306261271238, 'disgust': 0.0010382656000729185, 'happy': 0.14489081222563982, 'sad': 38.37710916996002, 'surprise': 0.002828706055879593, 'neutral': 34.07329022884369}\n",
      "Label: sad\n"
     ]
    },
    {
     "name": "stderr",
     "output_type": "stream",
     "text": [
      "Action: emotion: 100%|██████████| 1/1 [00:00<00:00, 13.05it/s]\n"
     ]
    },
    {
     "name": "stdout",
     "output_type": "stream",
     "text": [
      "Emotion values: {'angry': 0.40870215743780136, 'disgust': 0.00016991474467431544, 'happy': 0.1927325502038002, 'sad': 10.332858562469482, 'surprise': 0.0022406693460652605, 'neutral': 84.97598171234131}\n",
      "Label: neutral\n"
     ]
    },
    {
     "name": "stderr",
     "output_type": "stream",
     "text": [
      "Action: emotion: 100%|██████████| 1/1 [00:00<00:00, 15.90it/s]\n"
     ]
    },
    {
     "name": "stdout",
     "output_type": "stream",
     "text": [
      "Emotion values: {'angry': 0.41366433999411345, 'disgust': 0.0004934330851713288, 'happy': 0.6945292362009569, 'sad': 12.3685687623702, 'surprise': 0.005884945104618532, 'neutral': 81.28260746986955}\n",
      "Label: neutral\n"
     ]
    },
    {
     "name": "stderr",
     "output_type": "stream",
     "text": [
      "Action: emotion: 100%|██████████| 1/1 [00:00<00:00, 16.07it/s]\n"
     ]
    },
    {
     "name": "stdout",
     "output_type": "stream",
     "text": [
      "Emotion values: {'angry': 0.030263265944086015, 'disgust': 0.00018005993069891701, 'happy': 1.7082497477531433, 'sad': 62.196147441864014, 'surprise': 0.001534332477604039, 'neutral': 32.363393902778625}\n",
      "Label: sad\n"
     ]
    },
    {
     "name": "stderr",
     "output_type": "stream",
     "text": [
      "Action: emotion: 100%|██████████| 1/1 [00:00<00:00, 16.76it/s]\n"
     ]
    },
    {
     "name": "stdout",
     "output_type": "stream",
     "text": [
      "Emotion values: {'angry': 0.03244136751163751, 'disgust': 2.5000070991154644e-05, 'happy': 0.04645881417673081, 'sad': 88.64707350730896, 'surprise': 7.521304610236257e-05, 'neutral': 0.07026105304248631}\n",
      "Label: sad\n"
     ]
    },
    {
     "name": "stderr",
     "output_type": "stream",
     "text": [
      "Action: emotion: 100%|██████████| 1/1 [00:00<00:00, 15.30it/s]\n"
     ]
    },
    {
     "name": "stdout",
     "output_type": "stream",
     "text": [
      "Emotion values: {'angry': 0.005554707175239472, 'disgust': 3.83579521464103e-05, 'happy': 0.047481650675322194, 'sad': 91.03740346877616, 'surprise': 2.9288253894146706e-05, 'neutral': 0.052890176204911016}\n",
      "Label: sad\n"
     ]
    },
    {
     "name": "stderr",
     "output_type": "stream",
     "text": [
      "Action: emotion: 100%|██████████| 1/1 [00:00<00:00, 15.68it/s]"
     ]
    },
    {
     "name": "stdout",
     "output_type": "stream",
     "text": [
      "Emotion values: {'angry': 0.006623175098917639, 'disgust': 0.0001332286353602029, 'happy': 0.35316089410548773, 'sad': 84.40397884869449, 'surprise': 0.0007041029640677988, 'neutral': 0.2500596139615544}\n",
      "Label: sad\n"
     ]
    },
    {
     "name": "stderr",
     "output_type": "stream",
     "text": [
      "\n",
      "Action: emotion: 100%|██████████| 1/1 [00:00<00:00, 17.16it/s]\n"
     ]
    },
    {
     "name": "stdout",
     "output_type": "stream",
     "text": [
      "Emotion values: {'angry': 0.0012044399945208893, 'disgust': 3.471389427432748e-05, 'happy': 3.655121693320375, 'sad': 70.25534333320519, 'surprise': 0.0016217699397059868, 'neutral': 1.1946027879180185}\n",
      "Label: sad\n"
     ]
    },
    {
     "name": "stderr",
     "output_type": "stream",
     "text": [
      "Action: emotion: 100%|██████████| 1/1 [00:00<00:00, 16.36it/s]\n"
     ]
    },
    {
     "name": "stdout",
     "output_type": "stream",
     "text": [
      "Emotion values: {'angry': 0.0012044399945208893, 'disgust': 3.471389427432748e-05, 'happy': 3.655121693320375, 'sad': 70.25534333320519, 'surprise': 0.0016217699397059868, 'neutral': 1.1946027879180185}\n",
      "Label: sad\n"
     ]
    },
    {
     "name": "stderr",
     "output_type": "stream",
     "text": [
      "Action: emotion: 100%|██████████| 1/1 [00:00<00:00, 17.36it/s]\n"
     ]
    },
    {
     "name": "stdout",
     "output_type": "stream",
     "text": [
      "Emotion values: {'angry': 0.017985186423175037, 'disgust': 0.000402698287871317, 'happy': 0.1630477956496179, 'sad': 71.54061198234558, 'surprise': 0.0008318383152072784, 'neutral': 1.0012521408498287}\n",
      "Label: sad\n"
     ]
    },
    {
     "name": "stderr",
     "output_type": "stream",
     "text": [
      "Action: emotion: 100%|██████████| 1/1 [00:00<00:00, 16.23it/s]\n"
     ]
    },
    {
     "name": "stdout",
     "output_type": "stream",
     "text": [
      "Emotion values: {'angry': 0.014507437299471349, 'disgust': 0.00044789217099605594, 'happy': 0.34580749925225973, 'sad': 63.68950009346008, 'surprise': 0.0010236808520858176, 'neutral': 3.7913408130407333}\n",
      "Label: sad\n"
     ]
    },
    {
     "name": "stderr",
     "output_type": "stream",
     "text": [
      "Action: emotion: 100%|██████████| 1/1 [00:00<00:00, 17.92it/s]"
     ]
    },
    {
     "name": "stdout",
     "output_type": "stream",
     "text": [
      "Emotion values: {'angry': 0.005926025187363848, 'disgust': 0.00011000032600350096, 'happy': 0.6156414747238159, 'sad': 25.721898674964905, 'surprise': 0.00014686942222397192, 'neutral': 0.10980082442983985}\n",
      "Label: sad\n"
     ]
    },
    {
     "name": "stderr",
     "output_type": "stream",
     "text": [
      "\n",
      "Action: emotion: 100%|██████████| 1/1 [00:00<00:00, 17.67it/s]\n"
     ]
    },
    {
     "name": "stdout",
     "output_type": "stream",
     "text": [
      "Emotion values: {'angry': 0.0027080028303316794, 'disgust': 3.315020080663089e-05, 'happy': 0.0836702180095017, 'sad': 92.95902252197266, 'surprise': 9.84949792837142e-05, 'neutral': 0.12500653974711895}\n",
      "Label: sad\n"
     ]
    },
    {
     "name": "stderr",
     "output_type": "stream",
     "text": [
      "Action: emotion: 100%|██████████| 1/1 [00:00<00:00, 18.25it/s]\n"
     ]
    },
    {
     "name": "stdout",
     "output_type": "stream",
     "text": [
      "Emotion values: {'angry': 0.0027080028303316794, 'disgust': 3.315020080663089e-05, 'happy': 0.0836702180095017, 'sad': 92.95902252197266, 'surprise': 9.84949792837142e-05, 'neutral': 0.12500653974711895}\n",
      "Label: sad\n"
     ]
    },
    {
     "name": "stderr",
     "output_type": "stream",
     "text": [
      "Action: emotion: 100%|██████████| 1/1 [00:00<00:00, 16.41it/s]\n"
     ]
    },
    {
     "name": "stdout",
     "output_type": "stream",
     "text": [
      "Emotion values: {'angry': 0.01447458575840433, 'disgust': 0.0001578738400407201, 'happy': 1.2210929562802886, 'sad': 29.67870412341977, 'surprise': 0.07879883520596237, 'neutral': 12.07996827840616}\n",
      "Label: sad\n"
     ]
    },
    {
     "name": "stderr",
     "output_type": "stream",
     "text": [
      "Action: emotion: 100%|██████████| 1/1 [00:00<00:00, 15.70it/s]\n"
     ]
    },
    {
     "name": "stdout",
     "output_type": "stream",
     "text": [
      "Emotion values: {'angry': 0.01447458575840433, 'disgust': 0.0001578738400407201, 'happy': 1.2210929562802886, 'sad': 29.67870412341977, 'surprise': 0.07879883520596237, 'neutral': 12.07996827840616}\n",
      "Label: sad\n"
     ]
    },
    {
     "name": "stderr",
     "output_type": "stream",
     "text": [
      "Action: emotion: 100%|██████████| 1/1 [00:00<00:00, 16.60it/s]\n"
     ]
    },
    {
     "name": "stdout",
     "output_type": "stream",
     "text": [
      "Emotion values: {'angry': 0.05609437357634306, 'disgust': 0.0006333102192002116, 'happy': 2.2146811708807945, 'sad': 25.89399218559265, 'surprise': 0.046428048517555, 'neutral': 45.57056128978729}\n",
      "Label: neutral\n"
     ]
    },
    {
     "name": "stderr",
     "output_type": "stream",
     "text": [
      "Action: emotion: 100%|██████████| 1/1 [00:00<00:00, 16.25it/s]\n"
     ]
    },
    {
     "name": "stdout",
     "output_type": "stream",
     "text": [
      "Emotion values: {'angry': 0.04295438120607287, 'disgust': 0.0003720218273883802, 'happy': 1.0404394008219242, 'sad': 26.6544371843338, 'surprise': 0.04234828520566225, 'neutral': 37.7718061208725}\n",
      "Label: neutral\n"
     ]
    },
    {
     "name": "stderr",
     "output_type": "stream",
     "text": [
      "Action: emotion: 100%|██████████| 1/1 [00:00<00:00, 16.69it/s]\n"
     ]
    },
    {
     "name": "stdout",
     "output_type": "stream",
     "text": [
      "Emotion values: {'angry': 0.03367592580616474, 'disgust': 0.0002812724005707423, 'happy': 0.6219266913831234, 'sad': 23.158182203769684, 'surprise': 0.04096147895324975, 'neutral': 28.10879349708557}\n",
      "Label: neutral\n"
     ]
    },
    {
     "name": "stderr",
     "output_type": "stream",
     "text": [
      "Action: emotion: 100%|██████████| 1/1 [00:00<00:00, 18.28it/s]\n"
     ]
    },
    {
     "name": "stdout",
     "output_type": "stream",
     "text": [
      "Emotion values: {'angry': 0.15038503962502356, 'disgust': 0.0004411062562364161, 'happy': 0.6488642963158245, 'sad': 5.4133514807643275, 'surprise': 0.005860576828270065, 'neutral': 2.6868834569315263}\n",
      "Label: sad\n"
     ]
    },
    {
     "name": "stderr",
     "output_type": "stream",
     "text": [
      "Action: emotion: 100%|██████████| 1/1 [00:00<00:00, 16.63it/s]\n"
     ]
    },
    {
     "name": "stdout",
     "output_type": "stream",
     "text": [
      "Emotion values: {'angry': 0.0003282197572212954, 'disgust': 4.2645361540434573e-07, 'happy': 0.002469391152319127, 'sad': 0.18309744555010418, 'surprise': 0.02652686854652945, 'neutral': 0.004258704245599187}\n",
      "Label: sad\n"
     ]
    },
    {
     "name": "stderr",
     "output_type": "stream",
     "text": [
      "Action: emotion: 100%|██████████| 1/1 [00:00<00:00, 18.78it/s]\n"
     ]
    },
    {
     "name": "stdout",
     "output_type": "stream",
     "text": [
      "Emotion values: {'angry': 0.0003282197572212954, 'disgust': 4.2645361540434573e-07, 'happy': 0.002469391152319127, 'sad': 0.18309744555010418, 'surprise': 0.02652686854652945, 'neutral': 0.004258704245599187}\n",
      "Label: sad\n"
     ]
    },
    {
     "name": "stderr",
     "output_type": "stream",
     "text": [
      "Action: emotion: 100%|██████████| 1/1 [00:00<00:00, 18.70it/s]\n"
     ]
    },
    {
     "name": "stdout",
     "output_type": "stream",
     "text": [
      "Emotion values: {'angry': 0.0011431283382989932, 'disgust': 2.552600797400828e-06, 'happy': 0.1113615813665092, 'sad': 0.33227617386728525, 'surprise': 0.0237207452300936, 'neutral': 0.060126453172415495}\n",
      "Label: sad\n"
     ]
    },
    {
     "name": "stderr",
     "output_type": "stream",
     "text": [
      "Action: emotion: 100%|██████████| 1/1 [00:00<00:00, 17.18it/s]\n"
     ]
    },
    {
     "name": "stdout",
     "output_type": "stream",
     "text": [
      "Emotion values: {'angry': 0.01577133371029049, 'disgust': 2.020064897578777e-05, 'happy': 1.675901748239994, 'sad': 2.4109046906232834, 'surprise': 0.538617791607976, 'neutral': 3.3083532005548477}\n",
      "Label: neutral\n"
     ]
    },
    {
     "name": "stderr",
     "output_type": "stream",
     "text": [
      "Action: emotion: 100%|██████████| 1/1 [00:00<00:00, 18.75it/s]\n"
     ]
    },
    {
     "name": "stdout",
     "output_type": "stream",
     "text": [
      "Emotion values: {'angry': 0.05643937620334327, 'disgust': 0.00015266946320480201, 'happy': 5.640675127506256, 'sad': 9.704509377479553, 'surprise': 0.05844002589583397, 'neutral': 71.19066119194031}\n",
      "Label: neutral\n"
     ]
    },
    {
     "name": "stderr",
     "output_type": "stream",
     "text": [
      "Action: emotion: 100%|██████████| 1/1 [00:00<00:00, 18.92it/s]\n"
     ]
    },
    {
     "name": "stdout",
     "output_type": "stream",
     "text": [
      "Emotion values: {'angry': 0.18661374924704432, 'disgust': 0.000262312119048147, 'happy': 2.336403541266918, 'sad': 33.21036100387573, 'surprise': 0.02048862079391256, 'neutral': 41.379907727241516}\n",
      "Label: neutral\n"
     ]
    },
    {
     "name": "stderr",
     "output_type": "stream",
     "text": [
      "Action: emotion: 100%|██████████| 1/1 [00:00<00:00, 18.40it/s]"
     ]
    },
    {
     "name": "stdout",
     "output_type": "stream",
     "text": [
      "Emotion values: {'angry': 0.741339847445488, 'disgust': 0.000682107065586024, 'happy': 1.4847207814455032, 'sad': 46.14996016025543, 'surprise': 0.0069982706918381155, 'neutral': 24.692444503307343}\n",
      "Label: sad\n"
     ]
    },
    {
     "name": "stderr",
     "output_type": "stream",
     "text": [
      "\n",
      "Action: emotion: 100%|██████████| 1/1 [00:00<00:00, 17.20it/s]"
     ]
    },
    {
     "name": "stdout",
     "output_type": "stream",
     "text": [
      "Emotion values: {'angry': 0.5640693733460458, 'disgust': 0.00027079146503349065, 'happy': 0.3400153307970964, 'sad': 71.01385342909653, 'surprise': 0.00117985295706086, 'neutral': 21.64737473161522}\n",
      "Label: sad\n"
     ]
    },
    {
     "name": "stderr",
     "output_type": "stream",
     "text": [
      "\n",
      "Action: emotion: 100%|██████████| 1/1 [00:00<00:00, 17.82it/s]\n"
     ]
    },
    {
     "name": "stdout",
     "output_type": "stream",
     "text": [
      "Emotion values: {'angry': 0.43496713042259216, 'disgust': 0.000175252955614269, 'happy': 1.971181482076645, 'sad': 15.41801393032074, 'surprise': 0.02208538498962298, 'neutral': 77.50808000564575}\n",
      "Label: neutral\n"
     ]
    },
    {
     "name": "stderr",
     "output_type": "stream",
     "text": [
      "Action: emotion: 100%|██████████| 1/1 [00:00<00:00, 18.33it/s]\n"
     ]
    },
    {
     "name": "stdout",
     "output_type": "stream",
     "text": [
      "Emotion values: {'angry': 0.7575263734906912, 'disgust': 0.0006292262696661055, 'happy': 0.8921238593757153, 'sad': 44.80964541435242, 'surprise': 0.001614607208466623, 'neutral': 51.09345316886902}\n",
      "Label: neutral\n"
     ]
    },
    {
     "name": "stderr",
     "output_type": "stream",
     "text": [
      "Action: emotion: 100%|██████████| 1/1 [00:00<00:00, 18.05it/s]\n"
     ]
    },
    {
     "name": "stdout",
     "output_type": "stream",
     "text": [
      "Emotion values: {'angry': 0.07579142111353576, 'disgust': 3.1831842761675944e-05, 'happy': 2.0484650507569313, 'sad': 10.10270044207573, 'surprise': 0.002222439070465043, 'neutral': 87.30801939964294}\n",
      "Label: neutral\n"
     ]
    },
    {
     "name": "stderr",
     "output_type": "stream",
     "text": [
      "Action: emotion: 100%|██████████| 1/1 [00:00<00:00, 16.14it/s]\n"
     ]
    },
    {
     "name": "stdout",
     "output_type": "stream",
     "text": [
      "Emotion values: {'angry': 0.021642852516379207, 'disgust': 4.502458139654664e-06, 'happy': 5.780448764562607, 'sad': 1.5849161893129349, 'surprise': 0.018866559548769146, 'neutral': 92.29934811592102}\n",
      "Label: neutral\n"
     ]
    },
    {
     "name": "stderr",
     "output_type": "stream",
     "text": [
      "Action: emotion: 100%|██████████| 1/1 [00:00<00:00, 17.85it/s]\n"
     ]
    },
    {
     "name": "stdout",
     "output_type": "stream",
     "text": [
      "Emotion values: {'angry': 5.854957154688665, 'disgust': 0.004390568472208811, 'happy': 0.05289482384479486, 'sad': 83.65961811897863, 'surprise': 0.006053785906934457, 'neutral': 4.024435074593727}\n",
      "Label: sad\n"
     ]
    },
    {
     "name": "stderr",
     "output_type": "stream",
     "text": [
      "Action: emotion: 100%|██████████| 1/1 [00:00<00:00, 18.44it/s]\n"
     ]
    },
    {
     "name": "stdout",
     "output_type": "stream",
     "text": [
      "Emotion values: {'angry': 0.0435371297983232, 'disgust': 2.9189495228786434e-06, 'happy': 0.06381461660762826, 'sad': 1.1132847249975637, 'surprise': 0.001145466535553437, 'neutral': 98.75580661033432}\n",
      "Label: neutral\n"
     ]
    },
    {
     "name": "stderr",
     "output_type": "stream",
     "text": [
      "Action: emotion: 100%|██████████| 1/1 [00:00<00:00, 16.60it/s]\n"
     ]
    },
    {
     "name": "stdout",
     "output_type": "stream",
     "text": [
      "Emotion values: {'angry': 2.2393309914667006, 'disgust': 0.0006813952446972678, 'happy': 0.009347966090561663, 'sad': 85.84699546378823, 'surprise': 0.002535452373343475, 'neutral': 6.496381401800001}\n",
      "Label: sad\n"
     ]
    },
    {
     "name": "stderr",
     "output_type": "stream",
     "text": [
      "Action: emotion: 100%|██████████| 1/1 [00:00<00:00, 17.08it/s]\n"
     ]
    },
    {
     "name": "stdout",
     "output_type": "stream",
     "text": [
      "Emotion values: {'angry': 0.07140828954999384, 'disgust': 1.2102922941371305e-06, 'happy': 0.00775573253875308, 'sad': 1.9632264279262082, 'surprise': 0.0021551476868260206, 'neutral': 97.63725981934427}\n",
      "Label: neutral\n"
     ]
    },
    {
     "name": "stderr",
     "output_type": "stream",
     "text": [
      "Action: emotion: 100%|██████████| 1/1 [00:00<00:00, 16.59it/s]\n"
     ]
    },
    {
     "name": "stdout",
     "output_type": "stream",
     "text": [
      "Emotion values: {'angry': 0.07140828954999384, 'disgust': 1.2102922941371305e-06, 'happy': 0.00775573253875308, 'sad': 1.9632264279262082, 'surprise': 0.0021551476868260206, 'neutral': 97.63725981934427}\n",
      "Label: neutral\n"
     ]
    },
    {
     "name": "stderr",
     "output_type": "stream",
     "text": [
      "Action: emotion: 100%|██████████| 1/1 [00:00<00:00, 16.89it/s]\n"
     ]
    },
    {
     "name": "stdout",
     "output_type": "stream",
     "text": [
      "Emotion values: {'angry': 0.2204005140811205, 'disgust': 1.9998606148874387e-05, 'happy': 0.027817889349535108, 'sad': 3.7489403039216995, 'surprise': 0.0038604910514550284, 'neutral': 95.26847004890442}\n",
      "Label: neutral\n"
     ]
    },
    {
     "name": "stderr",
     "output_type": "stream",
     "text": [
      "Action: emotion: 100%|██████████| 1/1 [00:00<00:00, 17.37it/s]\n"
     ]
    },
    {
     "name": "stdout",
     "output_type": "stream",
     "text": [
      "Emotion values: {'angry': 0.42502067722503406, 'disgust': 3.950710572133874e-06, 'happy': 0.00404680492030039, 'sad': 3.722904471928148, 'surprise': 0.004385540785197737, 'neutral': 95.67909811014522}\n",
      "Label: neutral\n"
     ]
    },
    {
     "name": "stderr",
     "output_type": "stream",
     "text": [
      "Action: emotion: 100%|██████████| 1/1 [00:00<00:00, 18.46it/s]\n"
     ]
    },
    {
     "name": "stdout",
     "output_type": "stream",
     "text": [
      "Emotion values: {'angry': 0.03398300816762496, 'disgust': 2.8405143043241383e-06, 'happy': 0.08833603295824129, 'sad': 1.0551292146819362, 'surprise': 0.0032692454753971757, 'neutral': 98.74998323619266}\n",
      "Label: neutral\n"
     ]
    },
    {
     "name": "stderr",
     "output_type": "stream",
     "text": [
      "Action: emotion: 100%|██████████| 1/1 [00:00<00:00, 18.47it/s]\n"
     ]
    },
    {
     "name": "stdout",
     "output_type": "stream",
     "text": [
      "Emotion values: {'angry': 0.021125591592863202, 'disgust': 5.4699089702126e-07, 'happy': 0.04842950729653239, 'sad': 0.5976001732051373, 'surprise': 0.0025269302568631247, 'neutral': 99.29848313331604}\n",
      "Label: neutral\n"
     ]
    },
    {
     "name": "stderr",
     "output_type": "stream",
     "text": [
      "Action: emotion: 100%|██████████| 1/1 [00:00<00:00, 17.03it/s]\n"
     ]
    },
    {
     "name": "stdout",
     "output_type": "stream",
     "text": [
      "Emotion values: {'angry': 0.19854637755645782, 'disgust': 8.248956977791032e-07, 'happy': 0.0042080073839752515, 'sad': 2.4368357733683856, 'surprise': 0.008691373351033973, 'neutral': 96.38382239534587}\n",
      "Label: neutral\n"
     ]
    },
    {
     "name": "stderr",
     "output_type": "stream",
     "text": [
      "Action: emotion: 100%|██████████| 1/1 [00:00<00:00, 15.60it/s]\n"
     ]
    },
    {
     "name": "stdout",
     "output_type": "stream",
     "text": [
      "Emotion values: {'angry': 0.022536353431965, 'disgust': 1.3817245255048447e-06, 'happy': 0.09464653011899828, 'sad': 0.7186727672907391, 'surprise': 0.0038459230344480384, 'neutral': 99.11387573315194}\n",
      "Label: neutral\n"
     ]
    },
    {
     "name": "stderr",
     "output_type": "stream",
     "text": [
      "Action: emotion: 100%|██████████| 1/1 [00:00<00:00, 16.40it/s]\n"
     ]
    },
    {
     "name": "stdout",
     "output_type": "stream",
     "text": [
      "Emotion values: {'angry': 2.792045474052429, 'disgust': 0.0003443736204644665, 'happy': 0.7402601651847363, 'sad': 8.07190015912056, 'surprise': 0.45012705959379673, 'neutral': 61.79150938987732}\n",
      "Label: neutral\n"
     ]
    },
    {
     "name": "stderr",
     "output_type": "stream",
     "text": [
      "Action: emotion: 100%|██████████| 1/1 [00:00<00:00, 17.51it/s]\n"
     ]
    },
    {
     "name": "stdout",
     "output_type": "stream",
     "text": [
      "Emotion values: {'angry': 0.22353455424308777, 'disgust': 6.387134732221966e-06, 'happy': 0.0054097916290629655, 'sad': 1.1332794092595577, 'surprise': 0.005839157529408112, 'neutral': 0.06788858445361257}\n",
      "Label: sad\n"
     ]
    },
    {
     "name": "stderr",
     "output_type": "stream",
     "text": [
      "Action: emotion: 100%|██████████| 1/1 [00:00<00:00, 16.86it/s]\n"
     ]
    },
    {
     "name": "stdout",
     "output_type": "stream",
     "text": [
      "Emotion values: {'angry': 0.022158843326538852, 'disgust': 5.372087911377724e-07, 'happy': 0.0003170713020525275, 'sad': 93.60097126949177, 'surprise': 3.7684290303463694e-06, 'neutral': 0.023174725504252255}\n",
      "Label: sad\n"
     ]
    },
    {
     "name": "stderr",
     "output_type": "stream",
     "text": [
      "Action: emotion: 100%|██████████| 1/1 [00:00<00:00, 17.72it/s]\n"
     ]
    },
    {
     "name": "stdout",
     "output_type": "stream",
     "text": [
      "Emotion values: {'angry': 0.022158843326538852, 'disgust': 5.372087911377724e-07, 'happy': 0.0003170713020525275, 'sad': 93.60097126949177, 'surprise': 3.7684290303463694e-06, 'neutral': 0.023174725504252255}\n",
      "Label: sad\n"
     ]
    },
    {
     "name": "stderr",
     "output_type": "stream",
     "text": [
      "Action: emotion: 100%|██████████| 1/1 [00:00<00:00, 17.54it/s]"
     ]
    },
    {
     "name": "stdout",
     "output_type": "stream",
     "text": [
      "Emotion values: {'angry': 0.8649501949548721, 'disgust': 0.0007344719961110968, 'happy': 0.004165530117461458, 'sad': 98.06868433952332, 'surprise': 4.4959222122997744e-05, 'neutral': 0.4638101439923048}\n",
      "Label: sad\n"
     ]
    },
    {
     "name": "stderr",
     "output_type": "stream",
     "text": [
      "\n",
      "Action: emotion: 100%|██████████| 1/1 [00:00<00:00, 16.86it/s]\n"
     ]
    },
    {
     "name": "stdout",
     "output_type": "stream",
     "text": [
      "Emotion values: {'angry': 0.8649501949548721, 'disgust': 0.0007344719961110968, 'happy': 0.004165530117461458, 'sad': 98.06868433952332, 'surprise': 4.4959222122997744e-05, 'neutral': 0.4638101439923048}\n",
      "Label: sad\n"
     ]
    },
    {
     "name": "stderr",
     "output_type": "stream",
     "text": [
      "Action: emotion: 100%|██████████| 1/1 [00:00<00:00, 17.18it/s]\n"
     ]
    },
    {
     "name": "stdout",
     "output_type": "stream",
     "text": [
      "Emotion values: {'angry': 0.012904266664640108, 'disgust': 5.21131924256021e-07, 'happy': 0.01007441011118912, 'sad': 1.0150152863571218, 'surprise': 0.0002706624334115379, 'neutral': 98.92725342078528}\n",
      "Label: neutral\n"
     ]
    },
    {
     "name": "stderr",
     "output_type": "stream",
     "text": [
      "Action: emotion: 100%|██████████| 1/1 [00:00<00:00, 16.94it/s]\n"
     ]
    },
    {
     "name": "stdout",
     "output_type": "stream",
     "text": [
      "Emotion values: {'angry': 0.2520511077076857, 'disgust': 7.362012736372768e-05, 'happy': 0.13071464688120168, 'sad': 22.61243299319941, 'surprise': 0.0010913546898546165, 'neutral': 76.47890904420072}\n",
      "Label: neutral\n"
     ]
    },
    {
     "name": "stderr",
     "output_type": "stream",
     "text": [
      "Action: emotion: 100%|██████████| 1/1 [00:00<00:00, 14.06it/s]\n"
     ]
    },
    {
     "name": "stdout",
     "output_type": "stream",
     "text": [
      "Emotion values: {'angry': 0.19345536129549146, 'disgust': 0.00011875641803271719, 'happy': 0.1769390539266169, 'sad': 8.676782995462418, 'surprise': 0.0012650135431613307, 'neutral': 90.26899933815002}\n",
      "Label: neutral\n"
     ]
    },
    {
     "name": "stderr",
     "output_type": "stream",
     "text": [
      "Action: emotion: 100%|██████████| 1/1 [00:00<00:00, 15.61it/s]\n"
     ]
    },
    {
     "name": "stdout",
     "output_type": "stream",
     "text": [
      "Emotion values: {'angry': 1.9129008054733276, 'disgust': 0.007350421947194263, 'happy': 0.2156355418264866, 'sad': 23.41943234205246, 'surprise': 0.0026117193556274287, 'neutral': 70.89139819145203}\n",
      "Label: neutral\n"
     ]
    },
    {
     "name": "stderr",
     "output_type": "stream",
     "text": [
      "Action: emotion: 100%|██████████| 1/1 [00:00<00:00, 12.58it/s]\n"
     ]
    },
    {
     "name": "stdout",
     "output_type": "stream",
     "text": [
      "Emotion values: {'angry': 0.362128671258688, 'disgust': 0.00014504067848974955, 'happy': 0.022615454508922994, 'sad': 11.693636327981949, 'surprise': 0.0009847821274888702, 'neutral': 87.03334331512451}\n",
      "Label: neutral\n"
     ]
    },
    {
     "name": "stderr",
     "output_type": "stream",
     "text": [
      "Action: emotion: 100%|██████████| 1/1 [00:00<00:00, 18.95it/s]\n"
     ]
    },
    {
     "name": "stdout",
     "output_type": "stream",
     "text": [
      "Emotion values: {'angry': 0.00997466472990675, 'disgust': 1.5356715704026189e-07, 'happy': 0.004132552449692373, 'sad': 0.4689941927936192, 'surprise': 0.0003344171745232997, 'neutral': 99.4878709011001}\n",
      "Label: neutral\n"
     ]
    },
    {
     "name": "stderr",
     "output_type": "stream",
     "text": [
      "Action: emotion: 100%|██████████| 1/1 [00:00<00:00, 18.39it/s]\n"
     ]
    },
    {
     "name": "stdout",
     "output_type": "stream",
     "text": [
      "Emotion values: {'angry': 0.045510160073312225, 'disgust': 3.2991648714315208e-06, 'happy': 0.01297989879335605, 'sad': 2.1825497408240877, 'surprise': 0.0003905921181265922, 'neutral': 97.59200200986874}\n",
      "Label: neutral\n"
     ]
    },
    {
     "name": "stderr",
     "output_type": "stream",
     "text": [
      "Action: emotion: 100%|██████████| 1/1 [00:00<00:00, 18.28it/s]\n"
     ]
    },
    {
     "name": "stdout",
     "output_type": "stream",
     "text": [
      "Emotion values: {'angry': 0.06364482105709612, 'disgust': 2.8241109006899023e-06, 'happy': 0.024987285723909736, 'sad': 3.2872166484594345, 'surprise': 0.0011386835467419587, 'neutral': 96.50800228118896}\n",
      "Label: neutral\n"
     ]
    },
    {
     "name": "stderr",
     "output_type": "stream",
     "text": [
      "Action: emotion: 100%|██████████| 1/1 [00:00<00:00, 15.40it/s]\n"
     ]
    },
    {
     "name": "stdout",
     "output_type": "stream",
     "text": [
      "Emotion values: {'angry': 0.06364482105709612, 'disgust': 2.8241109006899023e-06, 'happy': 0.024987285723909736, 'sad': 3.2872166484594345, 'surprise': 0.0011386835467419587, 'neutral': 96.50800228118896}\n",
      "Label: neutral\n"
     ]
    },
    {
     "name": "stderr",
     "output_type": "stream",
     "text": [
      "Action: emotion: 100%|██████████| 1/1 [00:00<00:00, 18.70it/s]\n"
     ]
    },
    {
     "name": "stdout",
     "output_type": "stream",
     "text": [
      "Emotion values: {'angry': 0.6208416540175676, 'disgust': 0.0001285697408093256, 'happy': 0.045601496822200716, 'sad': 6.817041337490082, 'surprise': 0.0034013050026260316, 'neutral': 91.73546433448792}\n",
      "Label: neutral\n"
     ]
    },
    {
     "name": "stderr",
     "output_type": "stream",
     "text": [
      "Action: emotion: 100%|██████████| 1/1 [00:00<00:00, 18.23it/s]\n"
     ]
    },
    {
     "name": "stdout",
     "output_type": "stream",
     "text": [
      "Emotion values: {'angry': 8.798475563526154, 'disgust': 0.019892246928066015, 'happy': 0.06141644553281367, 'sad': 22.725792229175568, 'surprise': 0.04288088239263743, 'neutral': 54.78735566139221}\n",
      "Label: neutral\n"
     ]
    },
    {
     "name": "stderr",
     "output_type": "stream",
     "text": [
      "Action: emotion: 100%|██████████| 1/1 [00:00<00:00, 17.31it/s]\n"
     ]
    },
    {
     "name": "stdout",
     "output_type": "stream",
     "text": [
      "Emotion values: {'angry': 0.8183141238987446, 'disgust': 0.00116486717161024, 'happy': 0.006024661342962645, 'sad': 0.08639024454168975, 'surprise': 1.8698643893003464, 'neutral': 0.03300563839729875}\n",
      "Label: surprise\n"
     ]
    },
    {
     "name": "stderr",
     "output_type": "stream",
     "text": [
      "Action: emotion: 100%|██████████| 1/1 [00:00<00:00, 17.80it/s]\n"
     ]
    },
    {
     "name": "stdout",
     "output_type": "stream",
     "text": [
      "Emotion values: {'angry': 2.160050719976425, 'disgust': 0.00013550190942623885, 'happy': 0.01336529094260186, 'sad': 0.13624149141833186, 'surprise': 54.19170260429382, 'neutral': 0.01407012459821999}\n",
      "Label: surprise\n"
     ]
    },
    {
     "name": "stderr",
     "output_type": "stream",
     "text": [
      "Action: emotion: 100%|██████████| 1/1 [00:00<00:00, 18.67it/s]\n"
     ]
    },
    {
     "name": "stdout",
     "output_type": "stream",
     "text": [
      "Emotion values: {'angry': 1.2305224116457947, 'disgust': 9.248101502938497e-06, 'happy': 5.739433164435006e-05, 'sad': 0.1019317135434874, 'surprise': 5.93266634241738, 'neutral': 0.10182400608131326}\n",
      "Label: surprise\n"
     ]
    },
    {
     "name": "stderr",
     "output_type": "stream",
     "text": [
      "Action: emotion: 100%|██████████| 1/1 [00:00<00:00, 15.45it/s]\n"
     ]
    },
    {
     "name": "stdout",
     "output_type": "stream",
     "text": [
      "Emotion values: {'angry': 8.84913556868646, 'disgust': 0.0006073459097051651, 'happy': 0.0010685572943011457, 'sad': 0.836243157758901, 'surprise': 16.36667945186373, 'neutral': 0.1831093330113192}\n",
      "Label: surprise\n"
     ]
    },
    {
     "name": "stderr",
     "output_type": "stream",
     "text": [
      "Action: emotion: 100%|██████████| 1/1 [00:00<00:00, 15.84it/s]\n"
     ]
    },
    {
     "name": "stdout",
     "output_type": "stream",
     "text": [
      "Emotion values: {'angry': 2.2160401026034418, 'disgust': 0.00016706422770650645, 'happy': 0.0002639637998974027, 'sad': 0.204778661118666, 'surprise': 24.59598926281865, 'neutral': 0.019299098916950013}\n",
      "Label: surprise\n"
     ]
    },
    {
     "name": "stderr",
     "output_type": "stream",
     "text": [
      "Action: emotion: 100%|██████████| 1/1 [00:00<00:00, 16.98it/s]\n"
     ]
    },
    {
     "name": "stdout",
     "output_type": "stream",
     "text": [
      "Emotion values: {'angry': 5.783662255565852, 'disgust': 0.003868256583682408, 'happy': 0.0018748814493442648, 'sad': 0.42965607252346605, 'surprise': 2.284947882896914, 'neutral': 0.09509522964042667}\n",
      "Label: angry\n"
     ]
    },
    {
     "name": "stderr",
     "output_type": "stream",
     "text": [
      "Action: emotion: 100%|██████████| 1/1 [00:00<00:00, 17.30it/s]\n"
     ]
    },
    {
     "name": "stdout",
     "output_type": "stream",
     "text": [
      "Emotion values: {'angry': 5.223684012889862, 'disgust': 0.007195102807600051, 'happy': 0.002141014192602597, 'sad': 0.3295070957392454, 'surprise': 2.189837768673897, 'neutral': 0.053786864737048745}\n",
      "Label: angry\n"
     ]
    },
    {
     "name": "stderr",
     "output_type": "stream",
     "text": [
      "Action: emotion: 100%|██████████| 1/1 [00:00<00:00, 18.70it/s]\n"
     ]
    },
    {
     "name": "stdout",
     "output_type": "stream",
     "text": [
      "Emotion values: {'angry': 0.7204172201454639, 'disgust': 1.716360884529422e-05, 'happy': 0.00016910900058064726, 'sad': 0.03348471946083009, 'surprise': 13.9030322432518, 'neutral': 0.005924006836721674}\n",
      "Label: surprise\n"
     ]
    },
    {
     "name": "stderr",
     "output_type": "stream",
     "text": [
      "Action: emotion: 100%|██████████| 1/1 [00:00<00:00, 19.09it/s]\n"
     ]
    },
    {
     "name": "stdout",
     "output_type": "stream",
     "text": [
      "Emotion values: {'angry': 1.890173480819075, 'disgust': 0.0002513774156561979, 'happy': 0.003936511218838131, 'sad': 0.024442216092070406, 'surprise': 49.97819065917675, 'neutral': 0.0018680683955842419}\n",
      "Label: surprise\n"
     ]
    },
    {
     "name": "stderr",
     "output_type": "stream",
     "text": [
      "Action: emotion: 100%|██████████| 1/1 [00:00<00:00, 17.33it/s]\n"
     ]
    },
    {
     "name": "stdout",
     "output_type": "stream",
     "text": [
      "Emotion values: {'angry': 2.878442592918873, 'disgust': 0.0007414053925458575, 'happy': 0.007032219582470134, 'sad': 0.006649189890595153, 'surprise': 19.91003155708313, 'neutral': 0.004211321720504202}\n",
      "Label: surprise\n"
     ]
    },
    {
     "name": "stderr",
     "output_type": "stream",
     "text": [
      "Action: emotion: 100%|██████████| 1/1 [00:00<00:00, 17.97it/s]\n"
     ]
    },
    {
     "name": "stdout",
     "output_type": "stream",
     "text": [
      "Emotion values: {'angry': 0.12399118859320879, 'disgust': 0.0002998049239977263, 'happy': 0.20901306997984648, 'sad': 82.57566094398499, 'surprise': 0.0021694591850973666, 'neutral': 1.0497351177036762}\n",
      "Label: sad\n"
     ]
    },
    {
     "name": "stderr",
     "output_type": "stream",
     "text": [
      "Action: emotion: 100%|██████████| 1/1 [00:00<00:00, 17.15it/s]\n"
     ]
    },
    {
     "name": "stdout",
     "output_type": "stream",
     "text": [
      "Emotion values: {'angry': 0.12399118859320879, 'disgust': 0.0002998049239977263, 'happy': 0.20901306997984648, 'sad': 82.57566094398499, 'surprise': 0.0021694591850973666, 'neutral': 1.0497351177036762}\n",
      "Label: sad\n"
     ]
    },
    {
     "name": "stderr",
     "output_type": "stream",
     "text": [
      "Action: emotion: 100%|██████████| 1/1 [00:00<00:00, 17.19it/s]\n"
     ]
    },
    {
     "name": "stdout",
     "output_type": "stream",
     "text": [
      "Emotion values: {'angry': 0.03158334584441036, 'disgust': 2.1992748600041523e-05, 'happy': 4.991638287901878, 'sad': 0.2835256280377507, 'surprise': 0.11886248830705881, 'neutral': 94.46465969085693}\n",
      "Label: neutral\n"
     ]
    },
    {
     "name": "stderr",
     "output_type": "stream",
     "text": [
      "Action: emotion: 100%|██████████| 1/1 [00:00<00:00, 17.64it/s]\n"
     ]
    },
    {
     "name": "stdout",
     "output_type": "stream",
     "text": [
      "Emotion values: {'angry': 0.00039915903471410275, 'disgust': 1.0739974881657233e-09, 'happy': 2.635768794334581e-05, 'sad': 0.043873401591554284, 'surprise': 0.00041512857933412306, 'neutral': 99.95473027229309}\n",
      "Label: neutral\n"
     ]
    },
    {
     "name": "stderr",
     "output_type": "stream",
     "text": [
      "Action: emotion: 100%|██████████| 1/1 [00:00<00:00, 19.05it/s]\n"
     ]
    },
    {
     "name": "stdout",
     "output_type": "stream",
     "text": [
      "Emotion values: {'angry': 0.00015685021506154563, 'disgust': 5.0771423514167685e-11, 'happy': 1.6436019747880883e-06, 'sad': 0.02129764015604646, 'surprise': 1.9252533160610267e-05, 'neutral': 99.97838735451623}\n",
      "Label: neutral\n"
     ]
    },
    {
     "name": "stderr",
     "output_type": "stream",
     "text": [
      "Action: emotion: 100%|██████████| 1/1 [00:00<00:00, 19.08it/s]\n"
     ]
    },
    {
     "name": "stdout",
     "output_type": "stream",
     "text": [
      "Emotion values: {'angry': 0.00015685021506154563, 'disgust': 5.0771423514167685e-11, 'happy': 1.6436019747880883e-06, 'sad': 0.02129764015604646, 'surprise': 1.9252533160610267e-05, 'neutral': 99.97838735451623}\n",
      "Label: neutral\n"
     ]
    },
    {
     "name": "stderr",
     "output_type": "stream",
     "text": [
      "Action: emotion: 100%|██████████| 1/1 [00:00<00:00, 19.34it/s]\n"
     ]
    },
    {
     "name": "stdout",
     "output_type": "stream",
     "text": [
      "Emotion values: {'angry': 3.711483316237718e-05, 'disgust': 4.256495397575617e-12, 'happy': 2.2777615349411917e-07, 'sad': 0.008185827027773485, 'surprise': 2.7282158754360353e-06, 'neutral': 99.99173879623413}\n",
      "Label: neutral\n"
     ]
    },
    {
     "name": "stderr",
     "output_type": "stream",
     "text": [
      "Action: emotion: 100%|██████████| 1/1 [00:00<00:00, 18.69it/s]\n"
     ]
    },
    {
     "name": "stdout",
     "output_type": "stream",
     "text": [
      "Emotion values: {'angry': 4.257307458926837e-07, 'disgust': 7.201052137141102e-12, 'happy': 0.5366889002697349, 'sad': 0.00017452531244578656, 'surprise': 0.032668090245235294, 'neutral': 99.43044774895283}\n",
      "Label: neutral\n"
     ]
    },
    {
     "name": "stderr",
     "output_type": "stream",
     "text": [
      "Action: emotion: 100%|██████████| 1/1 [00:00<00:00, 16.47it/s]\n"
     ]
    },
    {
     "name": "stdout",
     "output_type": "stream",
     "text": [
      "Emotion values: {'angry': 7.747623875786758e-07, 'disgust': 3.3512811124271347e-11, 'happy': 99.81675148010254, 'sad': 2.7304372096637053e-06, 'surprise': 0.14113395009189844, 'neutral': 0.04207271849736571}\n",
      "Label: happy\n"
     ]
    },
    {
     "name": "stderr",
     "output_type": "stream",
     "text": [
      "Action: emotion: 100%|██████████| 1/1 [00:00<00:00, 18.61it/s]\n"
     ]
    },
    {
     "name": "stdout",
     "output_type": "stream",
     "text": [
      "Emotion values: {'angry': 7.131739643284618e-08, 'disgust': 1.923719952264189e-14, 'happy': 99.98424053192139, 'sad': 2.5770202638497608e-08, 'surprise': 0.0013935652532381937, 'neutral': 0.014368101255968213}\n",
      "Label: happy\n"
     ]
    },
    {
     "name": "stderr",
     "output_type": "stream",
     "text": [
      "Action: emotion: 100%|██████████| 1/1 [00:00<00:00, 17.92it/s]"
     ]
    },
    {
     "name": "stdout",
     "output_type": "stream",
     "text": [
      "Emotion values: {'angry': 1.6179376061131734e-06, 'disgust': 3.4183268195209227e-10, 'happy': 99.87351298332214, 'sad': 2.8606132218556013e-05, 'surprise': 0.06652968586422503, 'neutral': 0.05991801735945046}\n",
      "Label: happy\n"
     ]
    },
    {
     "name": "stderr",
     "output_type": "stream",
     "text": [
      "\n",
      "Action: emotion: 100%|██████████| 1/1 [00:00<00:00, 17.79it/s]\n"
     ]
    },
    {
     "name": "stdout",
     "output_type": "stream",
     "text": [
      "Emotion values: {'angry': 1.8693275808195678e-05, 'disgust': 1.7522541049843055e-08, 'happy': 99.24287208999728, 'sad': 0.0005215956495098135, 'surprise': 0.6587462645773572, 'neutral': 0.09704889969689849}\n",
      "Label: happy\n"
     ]
    },
    {
     "name": "stderr",
     "output_type": "stream",
     "text": [
      "Action: emotion: 100%|██████████| 1/1 [00:00<00:00, 18.61it/s]\n"
     ]
    },
    {
     "name": "stdout",
     "output_type": "stream",
     "text": [
      "Emotion values: {'angry': 0.0002412195044598775, 'disgust': 1.2290665374337095e-06, 'happy': 97.11598753929138, 'sad': 0.0051966180762974545, 'surprise': 2.3811474442481995, 'neutral': 0.4647646099328995}\n",
      "Label: happy\n"
     ]
    },
    {
     "name": "stderr",
     "output_type": "stream",
     "text": [
      "Action: emotion: 100%|██████████| 1/1 [00:00<00:00, 19.33it/s]\n"
     ]
    },
    {
     "name": "stdout",
     "output_type": "stream",
     "text": [
      "Emotion values: {'angry': 0.0001091161607291724, 'disgust': 3.381725732776175e-08, 'happy': 99.16236996650696, 'sad': 0.0006775521796953399, 'surprise': 0.5291161593049765, 'neutral': 0.30754213221371174}\n",
      "Label: happy\n"
     ]
    },
    {
     "name": "stderr",
     "output_type": "stream",
     "text": [
      "Action: emotion: 100%|██████████| 1/1 [00:00<00:00, 16.69it/s]\n"
     ]
    },
    {
     "name": "stdout",
     "output_type": "stream",
     "text": [
      "Emotion values: {'angry': 0.0030803039374026433, 'disgust': 3.81802455211881e-06, 'happy': 89.90193129754886, 'sad': 0.004445665597175065, 'surprise': 9.856789874221102, 'neutral': 0.17224145396900725}\n",
      "Label: happy\n"
     ]
    },
    {
     "name": "stderr",
     "output_type": "stream",
     "text": [
      "Action: emotion: 100%|██████████| 1/1 [00:00<00:00, 18.68it/s]\n"
     ]
    },
    {
     "name": "stdout",
     "output_type": "stream",
     "text": [
      "Emotion values: {'angry': 0.001468702427021419, 'disgust': 7.155146590930314e-06, 'happy': 85.85469638435222, 'sad': 0.008117828594558901, 'surprise': 12.991214572859679, 'neutral': 0.427557693201762}\n",
      "Label: happy\n"
     ]
    },
    {
     "name": "stderr",
     "output_type": "stream",
     "text": [
      "Action: emotion: 100%|██████████| 1/1 [00:00<00:00, 16.87it/s]\n"
     ]
    },
    {
     "name": "stdout",
     "output_type": "stream",
     "text": [
      "Emotion values: {'angry': 7.080054160724103e-05, 'disgust': 1.8477862573362813e-07, 'happy': 97.96432852745056, 'sad': 0.003150224802084267, 'surprise': 1.5197680331766605, 'neutral': 0.3930568229407072}\n",
      "Label: happy\n"
     ]
    },
    {
     "name": "stderr",
     "output_type": "stream",
     "text": [
      "Action: emotion: 100%|██████████| 1/1 [00:00<00:00, 18.10it/s]\n"
     ]
    },
    {
     "name": "stdout",
     "output_type": "stream",
     "text": [
      "Emotion values: {'angry': 0.0001270232360184309, 'disgust': 7.395823953260106e-08, 'happy': 96.04086875915527, 'sad': 0.0024252150979009457, 'surprise': 3.3856958150863647, 'neutral': 0.5167961120605469}\n",
      "Label: happy\n"
     ]
    },
    {
     "name": "stderr",
     "output_type": "stream",
     "text": [
      "Action: emotion: 100%|██████████| 1/1 [00:00<00:00, 17.82it/s]\n"
     ]
    },
    {
     "name": "stdout",
     "output_type": "stream",
     "text": [
      "Emotion values: {'angry': 0.00010320826504539582, 'disgust': 3.841562346007521e-08, 'happy': 94.5999264717102, 'sad': 0.0035274308174848557, 'surprise': 2.803215943276882, 'neutral': 2.565521001815796}\n",
      "Label: happy\n"
     ]
    },
    {
     "name": "stderr",
     "output_type": "stream",
     "text": [
      "Action: emotion: 100%|██████████| 1/1 [00:00<00:00, 18.49it/s]\n"
     ]
    },
    {
     "name": "stdout",
     "output_type": "stream",
     "text": [
      "Emotion values: {'angry': 0.044569585588760674, 'disgust': 1.087137135868943e-05, 'happy': 15.85945188999176, 'sad': 0.0032552947232034057, 'surprise': 83.3755373954773, 'neutral': 0.10060534114018083}\n",
      "Label: surprise\n"
     ]
    },
    {
     "name": "stderr",
     "output_type": "stream",
     "text": [
      "Action: emotion: 100%|██████████| 1/1 [00:00<00:00, 16.97it/s]\n"
     ]
    },
    {
     "name": "stdout",
     "output_type": "stream",
     "text": [
      "Emotion values: {'angry': 0.4729735665023327, 'disgust': 0.0004974001512891846, 'happy': 3.0653422698378563, 'sad': 0.15258623752743006, 'surprise': 57.90700912475586, 'neutral': 8.304870128631592}\n",
      "Label: surprise\n"
     ]
    },
    {
     "name": "stderr",
     "output_type": "stream",
     "text": [
      "Action: emotion: 100%|██████████| 1/1 [00:00<00:00, 16.62it/s]\n"
     ]
    },
    {
     "name": "stdout",
     "output_type": "stream",
     "text": [
      "Emotion values: {'angry': 0.12780610345380264, 'disgust': 1.7560906722571267e-05, 'happy': 0.9352907354783135, 'sad': 0.0027545682668944464, 'surprise': 92.04691147245032, 'neutral': 0.01667235720990065}\n",
      "Label: surprise\n"
     ]
    },
    {
     "name": "stderr",
     "output_type": "stream",
     "text": [
      "Action: emotion: 100%|██████████| 1/1 [00:00<00:00, 17.97it/s]\n"
     ]
    },
    {
     "name": "stdout",
     "output_type": "stream",
     "text": [
      "Emotion values: {'angry': 4.501621693469387, 'disgust': 0.0001996064730350643, 'happy': 0.08193321897995287, 'sad': 0.0729855135279455, 'surprise': 76.59112671560804, 'neutral': 5.913566777918743}\n",
      "Label: surprise\n"
     ]
    },
    {
     "name": "stderr",
     "output_type": "stream",
     "text": [
      "Action: emotion: 100%|██████████| 1/1 [00:00<00:00, 16.38it/s]\n"
     ]
    },
    {
     "name": "stdout",
     "output_type": "stream",
     "text": [
      "Emotion values: {'angry': 0.029706020723097026, 'disgust': 7.474250907080204e-06, 'happy': 41.31790101528168, 'sad': 0.041896034963428974, 'surprise': 46.08190953731537, 'neutral': 11.086729913949966}\n",
      "Label: surprise\n"
     ]
    },
    {
     "name": "stderr",
     "output_type": "stream",
     "text": [
      "Action: emotion: 100%|██████████| 1/1 [00:00<00:00, 16.48it/s]\n"
     ]
    },
    {
     "name": "stdout",
     "output_type": "stream",
     "text": [
      "Emotion values: {'angry': 0.04033606091979891, 'disgust': 1.4314831275896722e-05, 'happy': 43.32529306411743, 'sad': 0.04986851126886904, 'surprise': 51.06163024902344, 'neutral': 4.097930341959}\n",
      "Label: surprise\n"
     ]
    },
    {
     "name": "stderr",
     "output_type": "stream",
     "text": [
      "Action: emotion: 100%|██████████| 1/1 [00:00<00:00, 16.09it/s]\n"
     ]
    },
    {
     "name": "stdout",
     "output_type": "stream",
     "text": [
      "Emotion values: {'angry': 2.141660579541956, 'disgust': 0.00018552559564214373, 'happy': 1.4188540082486873, 'sad': 0.024350277086177593, 'surprise': 90.6781489061206, 'neutral': 4.725514633984246}\n",
      "Label: surprise\n"
     ]
    },
    {
     "name": "stderr",
     "output_type": "stream",
     "text": [
      "Action: emotion: 100%|██████████| 1/1 [00:00<00:00, 12.29it/s]\n"
     ]
    },
    {
     "name": "stdout",
     "output_type": "stream",
     "text": [
      "Emotion values: {'angry': 1.3306270629910155, 'disgust': 0.00010041053368603618, 'happy': 0.054466962374959904, 'sad': 0.026991608012536705, 'surprise': 90.25051113957034, 'neutral': 2.9650157508235275}\n",
      "Label: surprise\n"
     ]
    },
    {
     "name": "stderr",
     "output_type": "stream",
     "text": [
      "Action: emotion: 100%|██████████| 1/1 [00:00<00:00, 15.90it/s]\n"
     ]
    },
    {
     "name": "stdout",
     "output_type": "stream",
     "text": [
      "Emotion values: {'angry': 3.8241710513830185, 'disgust': 5.593953460447665e-05, 'happy': 0.012213776062708348, 'sad': 0.038723828038200736, 'surprise': 70.28285264968872, 'neutral': 23.62833321094513}\n",
      "Label: surprise\n"
     ]
    },
    {
     "name": "stderr",
     "output_type": "stream",
     "text": [
      "Action: emotion: 100%|██████████| 1/1 [00:00<00:00, 14.76it/s]\n"
     ]
    },
    {
     "name": "stdout",
     "output_type": "stream",
     "text": [
      "Emotion values: {'angry': 3.020657040178776, 'disgust': 0.0023921604224597104, 'happy': 72.09639549255371, 'sad': 0.41653113439679146, 'surprise': 12.439562380313873, 'neutral': 11.076482385396957}\n",
      "Label: happy\n"
     ]
    },
    {
     "name": "stderr",
     "output_type": "stream",
     "text": [
      "Action: emotion: 100%|██████████| 1/1 [00:00<00:00, 16.50it/s]\n"
     ]
    },
    {
     "name": "stdout",
     "output_type": "stream",
     "text": [
      "Emotion values: {'angry': 0.0565422456828808, 'disgust': 1.0367598875835102e-06, 'happy': 0.1102161811593257, 'sad': 0.014693611296096587, 'surprise': 86.69761577873042, 'neutral': 6.4030289467538655}\n",
      "Label: surprise\n"
     ]
    },
    {
     "name": "stderr",
     "output_type": "stream",
     "text": [
      "Action: emotion: 100%|██████████| 1/1 [00:00<00:00, 16.43it/s]\n"
     ]
    },
    {
     "name": "stdout",
     "output_type": "stream",
     "text": [
      "Emotion values: {'angry': 0.18353033951308256, 'disgust': 3.32399028645154e-06, 'happy': 0.0023848139675625712, 'sad': 0.05898163532870885, 'surprise': 61.78520777401832, 'neutral': 0.6238200889444245}\n",
      "Label: surprise\n"
     ]
    },
    {
     "name": "stderr",
     "output_type": "stream",
     "text": [
      "Action: emotion: 100%|██████████| 1/1 [00:00<00:00, 15.81it/s]\n"
     ]
    },
    {
     "name": "stdout",
     "output_type": "stream",
     "text": [
      "Emotion values: {'angry': 0.40191260699406905, 'disgust': 1.9241072105599324e-06, 'happy': 0.013538458085582888, 'sad': 0.11225451685887676, 'surprise': 67.22289724486454, 'neutral': 16.20207376492463}\n",
      "Label: surprise\n"
     ]
    },
    {
     "name": "stderr",
     "output_type": "stream",
     "text": [
      "Action: emotion: 100%|██████████| 1/1 [00:00<00:00, 16.16it/s]\n"
     ]
    },
    {
     "name": "stdout",
     "output_type": "stream",
     "text": [
      "Emotion values: {'angry': 0.005720642002415843, 'disgust': 1.087902268270824e-08, 'happy': 0.014044830459170043, 'sad': 0.040129758417606354, 'surprise': 0.33496576361358166, 'neutral': 99.30009841918945}\n",
      "Label: neutral\n"
     ]
    },
    {
     "name": "stderr",
     "output_type": "stream",
     "text": [
      "Action: emotion: 100%|██████████| 1/1 [00:00<00:00, 15.86it/s]\n"
     ]
    },
    {
     "name": "stdout",
     "output_type": "stream",
     "text": [
      "Emotion values: {'angry': 0.009360824163623849, 'disgust': 1.0225327861066568e-07, 'happy': 0.33554415821547257, 'sad': 0.06016640467629759, 'surprise': 4.775389568530891, 'neutral': 92.99677568654869}\n",
      "Label: neutral\n"
     ]
    },
    {
     "name": "stderr",
     "output_type": "stream",
     "text": [
      "Action: emotion: 100%|██████████| 1/1 [00:00<00:00, 15.41it/s]\n"
     ]
    },
    {
     "name": "stdout",
     "output_type": "stream",
     "text": [
      "Emotion values: {'angry': 0.0012375814549159259, 'disgust': 1.4320927256561422e-09, 'happy': 0.031113316072151065, 'sad': 0.01562762336106971, 'surprise': 2.475573495030403, 'neutral': 97.24423885345459}\n",
      "Label: neutral\n"
     ]
    },
    {
     "name": "stderr",
     "output_type": "stream",
     "text": [
      "Action: emotion: 100%|██████████| 1/1 [00:00<00:00, 13.75it/s]\n"
     ]
    },
    {
     "name": "stdout",
     "output_type": "stream",
     "text": [
      "Emotion values: {'angry': 0.024086270423140377, 'disgust': 6.224955662048615e-07, 'happy': 0.3378313733264804, 'sad': 0.11665213387459517, 'surprise': 44.99707520008087, 'neutral': 45.62405347824097}\n",
      "Label: neutral\n"
     ]
    },
    {
     "name": "stderr",
     "output_type": "stream",
     "text": [
      "Action: emotion: 100%|██████████| 1/1 [00:00<00:00, 15.07it/s]\n",
      "Action: emotion: 100%|██████████| 1/1 [00:00<00:00, 15.47it/s]\n"
     ]
    },
    {
     "name": "stdout",
     "output_type": "stream",
     "text": [
      "Emotion values: {'angry': 80.08114695549011, 'disgust': 8.435371290360649e-08, 'happy': 19.846735894680023, 'sad': 0.05198346916586161, 'surprise': 1.6288696613742104e-06, 'neutral': 0.004605321737471968}\n",
      "Label: angry\n"
     ]
    },
    {
     "name": "stderr",
     "output_type": "stream",
     "text": [
      "Action: emotion: 100%|██████████| 1/1 [00:00<00:00, 15.19it/s]\n"
     ]
    },
    {
     "name": "stdout",
     "output_type": "stream",
     "text": [
      "Emotion values: {'angry': 2.9953073864808815, 'disgust': 0.0007869739391478577, 'happy': 14.216086063851588, 'sad': 0.6689016375509933, 'surprise': 69.18363938526637, 'neutral': 7.687136359556155}\n",
      "Label: surprise\n"
     ]
    },
    {
     "name": "stderr",
     "output_type": "stream",
     "text": [
      "Action: emotion: 100%|██████████| 1/1 [00:00<00:00, 15.58it/s]\n"
     ]
    },
    {
     "name": "stdout",
     "output_type": "stream",
     "text": [
      "Emotion values: {'angry': 0.0909421643154668, 'disgust': 1.0041650486918308e-05, 'happy': 0.5928659121383324, 'sad': 0.4686033911828269, 'surprise': 25.32097105037821, 'neutral': 29.20821359255476}\n",
      "Label: neutral\n"
     ]
    },
    {
     "name": "stderr",
     "output_type": "stream",
     "text": [
      "Action: emotion: 100%|██████████| 1/1 [00:00<00:00, 15.63it/s]\n"
     ]
    },
    {
     "name": "stdout",
     "output_type": "stream",
     "text": [
      "Emotion values: {'angry': 2.444923482835293, 'disgust': 0.004344706394476816, 'happy': 23.35919737815857, 'sad': 0.8021852932870388, 'surprise': 61.81802749633789, 'neutral': 1.6457077115774155}\n",
      "Label: surprise\n"
     ]
    },
    {
     "name": "stderr",
     "output_type": "stream",
     "text": [
      "Action: emotion: 100%|██████████| 1/1 [00:00<00:00, 16.51it/s]\n"
     ]
    },
    {
     "name": "stdout",
     "output_type": "stream",
     "text": [
      "Emotion values: {'angry': 1.6718612983822823, 'disgust': 0.00033559160783624975, 'happy': 9.01881530880928, 'sad': 0.23596007376909256, 'surprise': 80.37142753601074, 'neutral': 3.71941439807415}\n",
      "Label: surprise\n"
     ]
    },
    {
     "name": "stderr",
     "output_type": "stream",
     "text": [
      "Action: emotion: 100%|██████████| 1/1 [00:00<00:00, 15.82it/s]\n"
     ]
    },
    {
     "name": "stdout",
     "output_type": "stream",
     "text": [
      "Emotion values: {'angry': 0.00526038020325359, 'disgust': 1.7603857260795053e-07, 'happy': 0.5819743033498526, 'sad': 0.13289686758071184, 'surprise': 6.080462783575058, 'neutral': 89.11325931549072}\n",
      "Label: neutral\n"
     ]
    },
    {
     "name": "stderr",
     "output_type": "stream",
     "text": [
      "Action: emotion: 100%|██████████| 1/1 [00:00<00:00, 16.22it/s]"
     ]
    },
    {
     "name": "stdout",
     "output_type": "stream",
     "text": [
      "Emotion values: {'angry': 0.0016344237402459787, 'disgust': 3.789173922885387e-08, 'happy': 0.05403957651791433, 'sad': 0.05583133648448208, 'surprise': 0.4210684233795657, 'neutral': 98.98474210409773}\n",
      "Label: neutral\n"
     ]
    },
    {
     "name": "stderr",
     "output_type": "stream",
     "text": [
      "\n",
      "Action: emotion: 100%|██████████| 1/1 [00:00<00:00, 15.93it/s]\n"
     ]
    },
    {
     "name": "stdout",
     "output_type": "stream",
     "text": [
      "Emotion values: {'angry': 0.0011161492693645414, 'disgust': 2.905507778816485e-08, 'happy': 0.12907846830785275, 'sad': 0.03844862221740186, 'surprise': 1.3948088511824608, 'neutral': 98.36677312850952}\n",
      "Label: neutral\n"
     ]
    },
    {
     "name": "stderr",
     "output_type": "stream",
     "text": [
      "Action: emotion: 100%|██████████| 1/1 [00:00<00:00, 16.59it/s]\n"
     ]
    },
    {
     "name": "stdout",
     "output_type": "stream",
     "text": [
      "Emotion values: {'angry': 0.0028479138563852757, 'disgust': 1.3523878683585622e-07, 'happy': 0.0971977598965168, 'sad': 0.11957136448472738, 'surprise': 0.11960945557802916, 'neutral': 99.21956062316895}\n",
      "Label: neutral\n"
     ]
    },
    {
     "name": "stderr",
     "output_type": "stream",
     "text": [
      "Action: emotion: 100%|██████████| 1/1 [00:00<00:00, 14.75it/s]\n"
     ]
    },
    {
     "name": "stdout",
     "output_type": "stream",
     "text": [
      "Emotion values: {'angry': 0.0028479138563852757, 'disgust': 1.3523878683585622e-07, 'happy': 0.0971977598965168, 'sad': 0.11957136448472738, 'surprise': 0.11960945557802916, 'neutral': 99.21956062316895}\n",
      "Label: neutral\n"
     ]
    },
    {
     "name": "stderr",
     "output_type": "stream",
     "text": [
      "Action: emotion: 100%|██████████| 1/1 [00:00<00:00, 16.74it/s]\n",
      "Action: emotion: 100%|██████████| 1/1 [00:00<00:00, 15.06it/s]\n"
     ]
    },
    {
     "name": "stdout",
     "output_type": "stream",
     "text": [
      "Emotion values: {'angry': 0.009120952017838135, 'disgust': 5.0011272900718495e-08, 'happy': 0.044556145439855754, 'sad': 0.11890853056684136, 'surprise': 4.816297814249992, 'neutral': 90.12214541435242}\n",
      "Label: neutral\n"
     ]
    },
    {
     "name": "stderr",
     "output_type": "stream",
     "text": [
      "Action: emotion: 100%|██████████| 1/1 [00:00<00:00, 17.18it/s]\n"
     ]
    },
    {
     "name": "stdout",
     "output_type": "stream",
     "text": [
      "Emotion values: {'angry': 0.4690561815731309, 'disgust': 0.0001350463615373913, 'happy': 13.60499696671999, 'sad': 0.14544755116357788, 'surprise': 68.68677512564956, 'neutral': 4.795370424345681}\n",
      "Label: surprise\n"
     ]
    },
    {
     "name": "stderr",
     "output_type": "stream",
     "text": [
      "Action: emotion: 100%|██████████| 1/1 [00:00<00:00, 17.98it/s]\n"
     ]
    },
    {
     "name": "stdout",
     "output_type": "stream",
     "text": [
      "Emotion values: {'angry': 79.76552844047546, 'disgust': 1.822007362761724e-05, 'happy': 5.063686519861221, 'sad': 0.5232452880591154, 'surprise': 0.006129883695393801, 'neutral': 0.002491790655767545}\n",
      "Label: angry\n"
     ]
    },
    {
     "name": "stderr",
     "output_type": "stream",
     "text": [
      "Action: emotion: 100%|██████████| 1/1 [00:00<00:00, 16.03it/s]\n"
     ]
    },
    {
     "name": "stdout",
     "output_type": "stream",
     "text": [
      "Emotion values: {'angry': 79.76552844047546, 'disgust': 1.822007362761724e-05, 'happy': 5.063686519861221, 'sad': 0.5232452880591154, 'surprise': 0.006129883695393801, 'neutral': 0.002491790655767545}\n",
      "Label: angry\n"
     ]
    },
    {
     "name": "stderr",
     "output_type": "stream",
     "text": [
      "Action: emotion: 100%|██████████| 1/1 [00:00<00:00, 15.45it/s]\n"
     ]
    },
    {
     "name": "stdout",
     "output_type": "stream",
     "text": [
      "Emotion values: {'angry': 0.11902019614353776, 'disgust': 1.6680493652998507e-07, 'happy': 94.97379660606384, 'sad': 0.004278555206838064, 'surprise': 4.778096824884415, 'neutral': 0.0828118238132447}\n",
      "Label: happy\n"
     ]
    },
    {
     "name": "stderr",
     "output_type": "stream",
     "text": [
      "Action: emotion: 100%|██████████| 1/1 [00:00<00:00, 14.66it/s]\n"
     ]
    },
    {
     "name": "stdout",
     "output_type": "stream",
     "text": [
      "Emotion values: {'angry': 5.285593867301941, 'disgust': 0.0007008753982518101, 'happy': 74.00818467140198, 'sad': 0.5592973902821541, 'surprise': 15.031328797340393, 'neutral': 0.25908059906214476}\n",
      "Label: happy\n"
     ]
    },
    {
     "name": "stderr",
     "output_type": "stream",
     "text": [
      "Action: emotion: 100%|██████████| 1/1 [00:00<00:00, 15.52it/s]\n"
     ]
    },
    {
     "name": "stdout",
     "output_type": "stream",
     "text": [
      "Emotion values: {'angry': 3.536851331591606, 'disgust': 0.00028073059183952864, 'happy': 6.9681137800216675, 'sad': 0.12464458122849464, 'surprise': 79.1292130947113, 'neutral': 0.29283128678798676}\n",
      "Label: surprise\n"
     ]
    },
    {
     "name": "stderr",
     "output_type": "stream",
     "text": [
      "Action: emotion: 100%|██████████| 1/1 [00:00<00:00, 15.54it/s]\n"
     ]
    },
    {
     "name": "stdout",
     "output_type": "stream",
     "text": [
      "Emotion values: {'angry': 0.2583365188911557, 'disgust': 8.943742386691156e-05, 'happy': 87.4423086643219, 'sad': 0.018301889940630645, 'surprise': 11.83546558022499, 'neutral': 0.15560612082481384}\n",
      "Label: happy\n"
     ]
    },
    {
     "name": "stderr",
     "output_type": "stream",
     "text": [
      "Action: emotion: 100%|██████████| 1/1 [00:00<00:00, 15.37it/s]\n"
     ]
    },
    {
     "name": "stdout",
     "output_type": "stream",
     "text": [
      "Emotion values: {'angry': 1.0631048120558262, 'disgust': 2.3553626249395165e-05, 'happy': 41.07164740562439, 'sad': 0.020999007392674685, 'surprise': 55.1009476184845, 'neutral': 0.47512645833194256}\n",
      "Label: surprise\n"
     ]
    },
    {
     "name": "stderr",
     "output_type": "stream",
     "text": [
      "Action: emotion: 100%|██████████| 1/1 [00:00<00:00, 13.87it/s]\n"
     ]
    },
    {
     "name": "stdout",
     "output_type": "stream",
     "text": [
      "Emotion values: {'angry': 9.939701855182648, 'disgust': 0.040559787885285914, 'happy': 33.87017548084259, 'sad': 1.0448956862092018, 'surprise': 34.39925014972687, 'neutral': 1.2899970635771751}\n",
      "Label: surprise\n"
     ]
    },
    {
     "name": "stderr",
     "output_type": "stream",
     "text": [
      "Action: emotion: 100%|██████████| 1/1 [00:00<00:00, 18.24it/s]\n"
     ]
    },
    {
     "name": "stdout",
     "output_type": "stream",
     "text": [
      "Emotion values: {'angry': 11.722364230296863, 'disgust': 0.00011271607253271262, 'happy': 48.541131528683394, 'sad': 0.4579980199335825, 'surprise': 14.050922635252633, 'neutral': 0.53063098710066}\n",
      "Label: happy\n"
     ]
    },
    {
     "name": "stderr",
     "output_type": "stream",
     "text": [
      "Action: emotion: 100%|██████████| 1/1 [00:00<00:00, 16.76it/s]\n"
     ]
    },
    {
     "name": "stdout",
     "output_type": "stream",
     "text": [
      "Emotion values: {'angry': 15.122592136550887, 'disgust': 0.00038921339090395343, 'happy': 83.02431904979717, 'sad': 0.21114058138244374, 'surprise': 0.5562937620975063, 'neutral': 0.07202639550028497}\n",
      "Label: happy\n"
     ]
    },
    {
     "name": "stderr",
     "output_type": "stream",
     "text": [
      "Action: emotion: 100%|██████████| 1/1 [00:00<00:00, 16.76it/s]\n"
     ]
    },
    {
     "name": "stdout",
     "output_type": "stream",
     "text": [
      "Emotion values: {'angry': 5.201318860054016, 'disgust': 1.2453413944513159e-05, 'happy': 71.93986773490906, 'sad': 0.02768724225461483, 'surprise': 19.182151556015015, 'neutral': 0.07193461060523987}\n",
      "Label: happy\n"
     ]
    },
    {
     "name": "stderr",
     "output_type": "stream",
     "text": [
      "Action: emotion: 100%|██████████| 1/1 [00:00<00:00, 17.11it/s]\n"
     ]
    },
    {
     "name": "stdout",
     "output_type": "stream",
     "text": [
      "Emotion values: {'angry': 0.19135639351455647, 'disgust': 8.905892560903204e-06, 'happy': 91.69685343541462, 'sad': 0.011089458118005992, 'surprise': 7.843398857903616, 'neutral': 0.1768550857552784}\n",
      "Label: happy\n"
     ]
    },
    {
     "name": "stderr",
     "output_type": "stream",
     "text": [
      "Action: emotion: 100%|██████████| 1/1 [00:00<00:00, 17.50it/s]\n"
     ]
    },
    {
     "name": "stdout",
     "output_type": "stream",
     "text": [
      "Emotion values: {'angry': 0.02168860810343176, 'disgust': 0.0011790480130002834, 'happy': 89.08444046974182, 'sad': 0.5248633213341236, 'surprise': 0.7837449200451374, 'neutral': 5.605144426226616}\n",
      "Label: happy\n"
     ]
    },
    {
     "name": "stderr",
     "output_type": "stream",
     "text": [
      "Action: emotion: 100%|██████████| 1/1 [00:00<00:00, 17.10it/s]\n"
     ]
    },
    {
     "name": "stdout",
     "output_type": "stream",
     "text": [
      "Emotion values: {'angry': 1.1320793973855773e-05, 'disgust': 4.049687879668168e-09, 'happy': 99.29260023920533, 'sad': 6.374543012931007e-05, 'surprise': 0.18896615441174455, 'neutral': 0.5182800662332694}\n",
      "Label: happy\n"
     ]
    },
    {
     "name": "stderr",
     "output_type": "stream",
     "text": [
      "Action: emotion: 100%|██████████| 1/1 [00:00<00:00, 16.83it/s]\n"
     ]
    },
    {
     "name": "stdout",
     "output_type": "stream",
     "text": [
      "Emotion values: {'angry': 6.023745204194862e-05, 'disgust': 3.1668911604456334e-07, 'happy': 98.71507279366689, 'sad': 0.004892438956295227, 'surprise': 0.061801236779689, 'neutral': 1.2153988497196941}\n",
      "Label: happy\n"
     ]
    },
    {
     "name": "stderr",
     "output_type": "stream",
     "text": [
      "Action: emotion: 100%|██████████| 1/1 [00:00<00:00, 18.14it/s]\n"
     ]
    },
    {
     "name": "stdout",
     "output_type": "stream",
     "text": [
      "Emotion values: {'angry': 6.023745204194862e-05, 'disgust': 3.1668911604456334e-07, 'happy': 98.71507279366689, 'sad': 0.004892438956295227, 'surprise': 0.061801236779689, 'neutral': 1.2153988497196941}\n",
      "Label: happy\n"
     ]
    },
    {
     "name": "stderr",
     "output_type": "stream",
     "text": [
      "Action: emotion: 100%|██████████| 1/1 [00:00<00:00, 17.57it/s]\n"
     ]
    },
    {
     "name": "stdout",
     "output_type": "stream",
     "text": [
      "Emotion values: {'angry': 0.0033813854512140798, 'disgust': 5.170345242589743e-05, 'happy': 0.22493660393724466, 'sad': 0.4116639274605469, 'surprise': 0.03867783464992551, 'neutral': 99.08681506435961}\n",
      "Label: neutral\n"
     ]
    },
    {
     "name": "stderr",
     "output_type": "stream",
     "text": [
      "Action: emotion: 100%|██████████| 1/1 [00:00<00:00, 15.91it/s]\n"
     ]
    },
    {
     "name": "stdout",
     "output_type": "stream",
     "text": [
      "Emotion values: {'angry': 2.504085649945864e-06, 'disgust': 7.62176693286376e-10, 'happy': 98.5139787197113, 'sad': 0.0005192071057535941, 'surprise': 0.04494520544540137, 'neutral': 1.4405465684831142}\n",
      "Label: happy\n"
     ]
    },
    {
     "name": "stderr",
     "output_type": "stream",
     "text": [
      "Action: emotion: 100%|██████████| 1/1 [00:00<00:00, 16.18it/s]\n"
     ]
    },
    {
     "name": "stdout",
     "output_type": "stream",
     "text": [
      "Emotion values: {'angry': 4.4196295334586466e-05, 'disgust': 4.2377160808237946e-09, 'happy': 0.023777141177561134, 'sad': 0.09810423944145441, 'surprise': 0.003932129766326398, 'neutral': 99.86955523490906}\n",
      "Label: neutral\n"
     ]
    },
    {
     "name": "stderr",
     "output_type": "stream",
     "text": [
      "Action: emotion: 100%|██████████| 1/1 [00:00<00:00, 17.75it/s]\n"
     ]
    },
    {
     "name": "stdout",
     "output_type": "stream",
     "text": [
      "Emotion values: {'angry': 0.0003771935553231742, 'disgust': 1.0677307649142875e-08, 'happy': 0.050463899970054626, 'sad': 0.05981536232866347, 'surprise': 0.05518753896467388, 'neutral': 99.82909560203552}\n",
      "Label: neutral\n"
     ]
    },
    {
     "name": "stderr",
     "output_type": "stream",
     "text": [
      "Action: emotion: 100%|██████████| 1/1 [00:00<00:00, 18.18it/s]\n"
     ]
    },
    {
     "name": "stdout",
     "output_type": "stream",
     "text": [
      "Emotion values: {'angry': 0.00494725202245091, 'disgust': 3.1222370995552006e-07, 'happy': 0.006685510414301107, 'sad': 0.19131295824798691, 'surprise': 0.21003215894294733, 'neutral': 99.52816960383473}\n",
      "Label: neutral\n"
     ]
    },
    {
     "name": "stderr",
     "output_type": "stream",
     "text": [
      "Action: emotion: 100%|██████████| 1/1 [00:00<00:00, 15.91it/s]\n"
     ]
    },
    {
     "name": "stdout",
     "output_type": "stream",
     "text": [
      "Emotion values: {'angry': 0.0001760077680046379, 'disgust': 1.5813437365119754e-09, 'happy': 0.0014859320799587294, 'sad': 0.027169621898792684, 'surprise': 0.07561432430520654, 'neutral': 99.88390803337097}\n",
      "Label: neutral\n"
     ]
    },
    {
     "name": "stderr",
     "output_type": "stream",
     "text": [
      "Action: emotion: 100%|██████████| 1/1 [00:00<00:00, 16.64it/s]\n"
     ]
    },
    {
     "name": "stdout",
     "output_type": "stream",
     "text": [
      "Emotion values: {'angry': 0.0010909177035500761, 'disgust': 8.339527957090809e-08, 'happy': 0.023546245938632637, 'sad': 0.16476426972076297, 'surprise': 0.19841440953314304, 'neutral': 99.49525594711304}\n",
      "Label: neutral\n"
     ]
    },
    {
     "name": "stderr",
     "output_type": "stream",
     "text": [
      "Action: emotion: 100%|██████████| 1/1 [00:00<00:00, 17.31it/s]\n"
     ]
    },
    {
     "name": "stdout",
     "output_type": "stream",
     "text": [
      "Emotion values: {'angry': 0.0010909177035500761, 'disgust': 8.339527957090809e-08, 'happy': 0.023546245938632637, 'sad': 0.16476426972076297, 'surprise': 0.19841440953314304, 'neutral': 99.49525594711304}\n",
      "Label: neutral\n"
     ]
    },
    {
     "name": "stderr",
     "output_type": "stream",
     "text": [
      "Action: emotion: 100%|██████████| 1/1 [00:00<00:00, 17.69it/s]\n"
     ]
    },
    {
     "name": "stdout",
     "output_type": "stream",
     "text": [
      "Emotion values: {'angry': 0.00012111153904440091, 'disgust': 1.394051515542306e-10, 'happy': 7.430313518810204e-05, 'sad': 0.008211613511008457, 'surprise': 0.004004838649471917, 'neutral': 99.98438954260287}\n",
      "Label: neutral\n"
     ]
    },
    {
     "name": "stderr",
     "output_type": "stream",
     "text": [
      "Action: emotion: 100%|██████████| 1/1 [00:00<00:00, 18.11it/s]\n"
     ]
    },
    {
     "name": "stdout",
     "output_type": "stream",
     "text": [
      "Emotion values: {'angry': 0.0008933424019652081, 'disgust': 7.081005093566091e-08, 'happy': 0.005461640428560774, 'sad': 0.25945139732667194, 'surprise': 0.041249411427380825, 'neutral': 99.667590836739}\n",
      "Label: neutral\n"
     ]
    },
    {
     "name": "stderr",
     "output_type": "stream",
     "text": [
      "Action: emotion: 100%|██████████| 1/1 [00:00<00:00, 17.64it/s]\n"
     ]
    },
    {
     "name": "stdout",
     "output_type": "stream",
     "text": [
      "Emotion values: {'angry': 0.008276098847304795, 'disgust': 6.597768655380848e-06, 'happy': 0.027250442897848143, 'sad': 1.04420293713177, 'surprise': 0.16991504537954386, 'neutral': 98.38408847044843}\n",
      "Label: neutral\n"
     ]
    },
    {
     "name": "stderr",
     "output_type": "stream",
     "text": [
      "Action: emotion: 100%|██████████| 1/1 [00:00<00:00, 16.59it/s]\n"
     ]
    },
    {
     "name": "stdout",
     "output_type": "stream",
     "text": [
      "Emotion values: {'angry': 0.010332864621886984, 'disgust': 3.2615946565783815e-05, 'happy': 0.13860997278243303, 'sad': 2.3996947333216667, 'surprise': 0.3256444586440921, 'neutral': 96.54473662376404}\n",
      "Label: neutral\n"
     ]
    },
    {
     "name": "stderr",
     "output_type": "stream",
     "text": [
      "Action: emotion: 100%|██████████| 1/1 [00:00<00:00, 16.13it/s]\n"
     ]
    },
    {
     "name": "stdout",
     "output_type": "stream",
     "text": [
      "Emotion values: {'angry': 6.412182074200246e-05, 'disgust': 3.6113882609205283e-11, 'happy': 3.2404653893536306e-05, 'sad': 0.012372010678518564, 'surprise': 0.0013088593732391018, 'neutral': 99.98562335968018}\n",
      "Label: neutral\n"
     ]
    },
    {
     "name": "stderr",
     "output_type": "stream",
     "text": [
      "Action: emotion: 100%|██████████| 1/1 [00:00<00:00, 18.31it/s]\n"
     ]
    },
    {
     "name": "stdout",
     "output_type": "stream",
     "text": [
      "Emotion values: {'angry': 0.0012014215826638974, 'disgust': 1.5672477760020342e-07, 'happy': 0.0018519815057516098, 'sad': 0.2646074630320072, 'surprise': 0.01290562649955973, 'neutral': 99.69396591186523}\n",
      "Label: neutral\n"
     ]
    },
    {
     "name": "stderr",
     "output_type": "stream",
     "text": [
      "Action: emotion: 100%|██████████| 1/1 [00:00<00:00, 17.72it/s]\n"
     ]
    },
    {
     "name": "stdout",
     "output_type": "stream",
     "text": [
      "Emotion values: {'angry': 0.0038337881517246752, 'disgust': 4.9539830748345685e-08, 'happy': 0.0005610826399525757, 'sad': 0.16935523444668857, 'surprise': 0.016767272153501787, 'neutral': 99.79765413985575}\n",
      "Label: neutral\n"
     ]
    },
    {
     "name": "stderr",
     "output_type": "stream",
     "text": [
      "Action: emotion: 100%|██████████| 1/1 [00:00<00:00, 17.50it/s]\n"
     ]
    },
    {
     "name": "stdout",
     "output_type": "stream",
     "text": [
      "Emotion values: {'angry': 0.0008101228559098672, 'disgust': 6.785329242919858e-10, 'happy': 2.232222939824169e-06, 'sad': 0.07548076682724059, 'surprise': 0.00024376340661547147, 'neutral': 99.92284774780273}\n",
      "Label: neutral\n"
     ]
    },
    {
     "name": "stderr",
     "output_type": "stream",
     "text": [
      "Action: emotion: 100%|██████████| 1/1 [00:00<00:00, 16.83it/s]\n"
     ]
    },
    {
     "name": "stdout",
     "output_type": "stream",
     "text": [
      "Emotion values: {'angry': 0.00026206820818961394, 'disgust': 7.924379398816661e-11, 'happy': 1.199798909572129e-06, 'sad': 0.044143004645735305, 'surprise': 9.532382705141784e-05, 'neutral': 99.95504617423094}\n",
      "Label: neutral\n"
     ]
    },
    {
     "name": "stderr",
     "output_type": "stream",
     "text": [
      "Action: emotion: 100%|██████████| 1/1 [00:00<00:00, 17.47it/s]\n"
     ]
    },
    {
     "name": "stdout",
     "output_type": "stream",
     "text": [
      "Emotion values: {'angry': 0.07173777866881743, 'disgust': 1.7788131156952726e-05, 'happy': 0.004821083137440829, 'sad': 2.3087753955989605, 'surprise': 0.018456264643555625, 'neutral': 97.40510017811057}\n",
      "Label: neutral\n"
     ]
    },
    {
     "name": "stderr",
     "output_type": "stream",
     "text": [
      "Action: emotion: 100%|██████████| 1/1 [00:00<00:00, 17.90it/s]\n"
     ]
    },
    {
     "name": "stdout",
     "output_type": "stream",
     "text": [
      "Emotion values: {'angry': 0.9377139248081401, 'disgust': 0.0002245382026697695, 'happy': 0.2789298005881787, 'sad': 6.624743737265094, 'surprise': 1.3895874739937468, 'neutral': 83.02664059559349}\n",
      "Label: neutral\n"
     ]
    },
    {
     "name": "stderr",
     "output_type": "stream",
     "text": [
      "Action: emotion: 100%|██████████| 1/1 [00:00<00:00, 16.34it/s]\n"
     ]
    },
    {
     "name": "stdout",
     "output_type": "stream",
     "text": [
      "Emotion values: {'angry': 0.011311448906781152, 'disgust': 1.764161039474743e-07, 'happy': 0.00039487085814471357, 'sad': 0.45981332659721375, 'surprise': 0.0028427555662347004, 'neutral': 99.51646327972412}\n",
      "Label: neutral\n"
     ]
    },
    {
     "name": "stderr",
     "output_type": "stream",
     "text": [
      "Action: emotion: 100%|██████████| 1/1 [00:00<00:00, 17.56it/s]\n"
     ]
    },
    {
     "name": "stdout",
     "output_type": "stream",
     "text": [
      "Emotion values: {'angry': 0.001200881960086008, 'disgust': 2.415885517694634e-09, 'happy': 1.3260174904661492e-05, 'sad': 0.12478304140839228, 'surprise': 0.0006392589892989028, 'neutral': 99.8712360782168}\n",
      "Label: neutral\n"
     ]
    },
    {
     "name": "stderr",
     "output_type": "stream",
     "text": [
      "Action: emotion: 100%|██████████| 1/1 [00:00<00:00, 17.04it/s]\n"
     ]
    },
    {
     "name": "stdout",
     "output_type": "stream",
     "text": [
      "Emotion values: {'angry': 0.14039895868444197, 'disgust': 8.35472683096248e-06, 'happy': 17.270718054218175, 'sad': 17.2245617046691, 'surprise': 2.6421608115530497, 'neutral': 0.5355601983851312}\n",
      "Label: happy\n"
     ]
    },
    {
     "name": "stderr",
     "output_type": "stream",
     "text": [
      "Action: emotion: 100%|██████████| 1/1 [00:00<00:00, 16.95it/s]\n"
     ]
    },
    {
     "name": "stdout",
     "output_type": "stream",
     "text": [
      "Emotion values: {'angry': 0.1090336125344038, 'disgust': 3.424962642384344e-05, 'happy': 15.058548748493195, 'sad': 1.2875407002866268, 'surprise': 0.8029471151530743, 'neutral': 0.15732947504147887}\n",
      "Label: happy\n"
     ]
    },
    {
     "name": "stderr",
     "output_type": "stream",
     "text": [
      "Action: emotion: 100%|██████████| 1/1 [00:00<00:00, 18.91it/s]\n"
     ]
    },
    {
     "name": "stdout",
     "output_type": "stream",
     "text": [
      "Emotion values: {'angry': 0.39787294851976324, 'disgust': 0.00041500350307403056, 'happy': 6.596193855774036, 'sad': 38.448917177254984, 'surprise': 0.24754148055115227, 'neutral': 11.229672207216751}\n",
      "Label: sad\n"
     ]
    },
    {
     "name": "stderr",
     "output_type": "stream",
     "text": [
      "Action: emotion: 100%|██████████| 1/1 [00:00<00:00, 18.12it/s]\n"
     ]
    },
    {
     "name": "stdout",
     "output_type": "stream",
     "text": [
      "Emotion values: {'angry': 0.016270804433000306, 'disgust': 1.7676307197979043e-07, 'happy': 0.06992959282268968, 'sad': 5.142138657910984, 'surprise': 0.09382629696301556, 'neutral': 93.30092748392492}\n",
      "Label: neutral\n"
     ]
    },
    {
     "name": "stderr",
     "output_type": "stream",
     "text": [
      "Action: emotion: 100%|██████████| 1/1 [00:00<00:00, 17.58it/s]\n"
     ]
    },
    {
     "name": "stdout",
     "output_type": "stream",
     "text": [
      "Emotion values: {'angry': 0.03352983039803803, 'disgust': 2.9781670463080445e-07, 'happy': 0.0005700668680219678, 'sad': 31.266885995864868, 'surprise': 0.0032821040804265067, 'neutral': 68.41060519218445}\n",
      "Label: neutral\n"
     ]
    },
    {
     "name": "stderr",
     "output_type": "stream",
     "text": [
      "Action: emotion: 100%|██████████| 1/1 [00:00<00:00, 17.01it/s]\n"
     ]
    },
    {
     "name": "stdout",
     "output_type": "stream",
     "text": [
      "Emotion values: {'angry': 0.00418442491676529, 'disgust': 1.1577620814120982e-08, 'happy': 0.00042828245920114704, 'sad': 5.265714345489222, 'surprise': 0.0018372187325367724, 'neutral': 94.64073245039792}\n",
      "Label: neutral\n"
     ]
    },
    {
     "name": "stderr",
     "output_type": "stream",
     "text": [
      "Action: emotion: 100%|██████████| 1/1 [00:00<00:00, 17.65it/s]\n"
     ]
    },
    {
     "name": "stdout",
     "output_type": "stream",
     "text": [
      "Emotion values: {'angry': 0.00418442491676529, 'disgust': 1.1577620814120982e-08, 'happy': 0.00042828245920114704, 'sad': 5.265714345489222, 'surprise': 0.0018372187325367724, 'neutral': 94.64073245039792}\n",
      "Label: neutral\n"
     ]
    },
    {
     "name": "stderr",
     "output_type": "stream",
     "text": [
      "Action: emotion: 100%|██████████| 1/1 [00:00<00:00, 17.16it/s]\n"
     ]
    },
    {
     "name": "stdout",
     "output_type": "stream",
     "text": [
      "Emotion values: {'angry': 0.008727647946216166, 'disgust': 1.0525699201124894e-07, 'happy': 5.615660469970862e-06, 'sad': 15.548862516880035, 'surprise': 0.00022659003207081696, 'neutral': 84.14776921272278}\n",
      "Label: neutral\n"
     ]
    },
    {
     "name": "stderr",
     "output_type": "stream",
     "text": [
      "Action: emotion: 100%|██████████| 1/1 [00:00<00:00, 17.59it/s]\n"
     ]
    },
    {
     "name": "stdout",
     "output_type": "stream",
     "text": [
      "Emotion values: {'angry': 0.052300490956322436, 'disgust': 1.27936055375167e-06, 'happy': 0.00012194561487953649, 'sad': 24.382717981014494, 'surprise': 0.0004105370373418641, 'neutral': 74.96927678951302}\n",
      "Label: neutral\n"
     ]
    },
    {
     "name": "stderr",
     "output_type": "stream",
     "text": [
      "Action: emotion: 100%|██████████| 1/1 [00:00<00:00, 17.08it/s]\n"
     ]
    },
    {
     "name": "stdout",
     "output_type": "stream",
     "text": [
      "Emotion values: {'angry': 0.06486428706097824, 'disgust': 9.70649041266784e-06, 'happy': 0.00028466280914986954, 'sad': 6.980156569490228, 'surprise': 0.0016506904177546378, 'neutral': 92.22965790210115}\n",
      "Label: neutral\n"
     ]
    },
    {
     "name": "stderr",
     "output_type": "stream",
     "text": [
      "Action: emotion: 100%|██████████| 1/1 [00:00<00:00, 16.69it/s]\n"
     ]
    },
    {
     "name": "stdout",
     "output_type": "stream",
     "text": [
      "Emotion values: {'angry': 0.12638275511562824, 'disgust': 6.578530928891269e-05, 'happy': 0.0155294532305561, 'sad': 16.652588546276093, 'surprise': 0.11305552907288074, 'neutral': 79.24448251724243}\n",
      "Label: neutral\n"
     ]
    },
    {
     "name": "stderr",
     "output_type": "stream",
     "text": [
      "Action: emotion: 100%|██████████| 1/1 [00:00<00:00, 15.93it/s]\n"
     ]
    },
    {
     "name": "stdout",
     "output_type": "stream",
     "text": [
      "Emotion values: {'angry': 0.0030395338413675022, 'disgust': 8.607149521793596e-08, 'happy': 0.0004558667480965902, 'sad': 1.0421186374582485, 'surprise': 0.0011625876573974079, 'neutral': 98.88181103684771}\n",
      "Label: neutral\n"
     ]
    },
    {
     "name": "stderr",
     "output_type": "stream",
     "text": [
      "Action: emotion: 100%|██████████| 1/1 [00:00<00:00, 15.75it/s]\n"
     ]
    },
    {
     "name": "stdout",
     "output_type": "stream",
     "text": [
      "Emotion values: {'angry': 0.0569832103792578, 'disgust': 2.2674709043712937e-05, 'happy': 0.03946562355849892, 'sad': 9.005788713693619, 'surprise': 0.06507965736091137, 'neutral': 89.98075723648071}\n",
      "Label: neutral\n"
     ]
    },
    {
     "name": "stderr",
     "output_type": "stream",
     "text": [
      "Action: emotion: 100%|██████████| 1/1 [00:00<00:00, 18.10it/s]\n"
     ]
    },
    {
     "name": "stdout",
     "output_type": "stream",
     "text": [
      "Emotion values: {'angry': 0.2041501813247908, 'disgust': 3.850824102635314e-05, 'happy': 1.765645773151265, 'sad': 31.85625862218491, 'surprise': 1.1775624708868546, 'neutral': 53.04826218177451}\n",
      "Label: neutral\n"
     ]
    },
    {
     "name": "stderr",
     "output_type": "stream",
     "text": [
      "Action: emotion: 100%|██████████| 1/1 [00:00<00:00, 18.32it/s]\n"
     ]
    },
    {
     "name": "stdout",
     "output_type": "stream",
     "text": [
      "Emotion values: {'angry': 0.0055540705943712965, 'disgust': 8.186571420765176e-07, 'happy': 0.008522403368260711, 'sad': 1.7081014811992645, 'surprise': 0.0169465274666436, 'neutral': 98.1540322303772}\n",
      "Label: neutral\n"
     ]
    },
    {
     "name": "stderr",
     "output_type": "stream",
     "text": [
      "Action: emotion: 100%|██████████| 1/1 [00:00<00:00, 17.81it/s]\n"
     ]
    },
    {
     "name": "stdout",
     "output_type": "stream",
     "text": [
      "Emotion values: {'angry': 0.03830171772278845, 'disgust': 1.4789301872042415e-05, 'happy': 0.0030245568268583156, 'sad': 6.010866537690163, 'surprise': 0.008507061284035444, 'neutral': 93.27671527862549}\n",
      "Label: neutral\n"
     ]
    },
    {
     "name": "stderr",
     "output_type": "stream",
     "text": [
      "Action: emotion: 100%|██████████| 1/1 [00:00<00:00, 17.07it/s]\n"
     ]
    },
    {
     "name": "stdout",
     "output_type": "stream",
     "text": [
      "Emotion values: {'angry': 0.059266050811856985, 'disgust': 5.067220172350062e-05, 'happy': 0.013564077380578965, 'sad': 11.306112259626389, 'surprise': 0.014665843627881259, 'neutral': 87.39122152328491}\n",
      "Label: neutral\n"
     ]
    },
    {
     "name": "stderr",
     "output_type": "stream",
     "text": [
      "Action: emotion: 100%|██████████| 1/1 [00:00<00:00, 18.14it/s]\n"
     ]
    },
    {
     "name": "stdout",
     "output_type": "stream",
     "text": [
      "Emotion values: {'angry': 0.054414544471102624, 'disgust': 7.118830891649579e-05, 'happy': 0.009250635599755383, 'sad': 11.847552618238486, 'surprise': 0.0027437428614702475, 'neutral': 87.0938352998397}\n",
      "Label: neutral\n"
     ]
    },
    {
     "name": "stderr",
     "output_type": "stream",
     "text": [
      "Action: emotion: 100%|██████████| 1/1 [00:00<00:00, 15.88it/s]\n"
     ]
    },
    {
     "name": "stdout",
     "output_type": "stream",
     "text": [
      "Emotion values: {'angry': 0.09393427798190379, 'disgust': 7.599129165980178e-05, 'happy': 0.3655349632832452, 'sad': 18.49375593736697, 'surprise': 0.04775203428020665, 'neutral': 79.70575336149295}\n",
      "Label: neutral\n"
     ]
    },
    {
     "name": "stderr",
     "output_type": "stream",
     "text": [
      "Action: emotion: 100%|██████████| 1/1 [00:00<00:00, 17.38it/s]\n"
     ]
    },
    {
     "name": "stdout",
     "output_type": "stream",
     "text": [
      "Emotion values: {'angry': 0.06927071615741744, 'disgust': 1.1323439892235832e-05, 'happy': 16.42339574377486, 'sad': 15.952729100314272, 'surprise': 11.236635444955283, 'neutral': 3.8763915153016466}\n",
      "Label: happy\n"
     ]
    },
    {
     "name": "stderr",
     "output_type": "stream",
     "text": [
      "Action: emotion: 100%|██████████| 1/1 [00:00<00:00, 18.40it/s]\n"
     ]
    },
    {
     "name": "stdout",
     "output_type": "stream",
     "text": [
      "Emotion values: {'angry': 0.10372375836595893, 'disgust': 0.00015483259403481497, 'happy': 13.797654211521149, 'sad': 6.544696539640427, 'surprise': 0.3156393999233842, 'neutral': 0.6397680845111609}\n",
      "Label: happy\n"
     ]
    },
    {
     "name": "stderr",
     "output_type": "stream",
     "text": [
      "Action: emotion: 100%|██████████| 1/1 [00:00<00:00, 17.25it/s]\n"
     ]
    },
    {
     "name": "stdout",
     "output_type": "stream",
     "text": [
      "Emotion values: {'angry': 0.060263661633942915, 'disgust': 6.860771969063629e-06, 'happy': 20.145347135704416, 'sad': 78.9437805347181, 'surprise': 0.0013726666838175948, 'neutral': 0.5562037426923206}\n",
      "Label: sad\n"
     ]
    },
    {
     "name": "stderr",
     "output_type": "stream",
     "text": [
      "Action: emotion: 100%|██████████| 1/1 [00:00<00:00, 17.40it/s]\n"
     ]
    },
    {
     "name": "stdout",
     "output_type": "stream",
     "text": [
      "Emotion values: {'angry': 0.01322794851148501, 'disgust': 2.2002103250429172e-06, 'happy': 12.470661848783493, 'sad': 75.73301196098328, 'surprise': 0.0009650138963479549, 'neutral': 11.189272999763489}\n",
      "Label: sad\n"
     ]
    },
    {
     "name": "stderr",
     "output_type": "stream",
     "text": [
      "Action: emotion: 100%|██████████| 1/1 [00:00<00:00, 18.23it/s]\n"
     ]
    },
    {
     "name": "stdout",
     "output_type": "stream",
     "text": [
      "Emotion values: {'angry': 0.0002697555146369268, 'disgust': 6.822564648650831e-10, 'happy': 0.002985182436532341, 'sad': 99.81393814086914, 'surprise': 1.4690778371573288e-06, 'neutral': 0.0007719994755461812}\n",
      "Label: sad\n"
     ]
    },
    {
     "name": "stderr",
     "output_type": "stream",
     "text": [
      "Action: emotion: 100%|██████████| 1/1 [00:00<00:00, 17.98it/s]\n"
     ]
    },
    {
     "name": "stdout",
     "output_type": "stream",
     "text": [
      "Emotion values: {'angry': 0.0002697555146369268, 'disgust': 6.822564648650831e-10, 'happy': 0.002985182436532341, 'sad': 99.81393814086914, 'surprise': 1.4690778371573288e-06, 'neutral': 0.0007719994755461812}\n",
      "Label: sad\n"
     ]
    },
    {
     "name": "stderr",
     "output_type": "stream",
     "text": [
      "Action: emotion: 100%|██████████| 1/1 [00:00<00:00, 17.64it/s]\n"
     ]
    },
    {
     "name": "stdout",
     "output_type": "stream",
     "text": [
      "Emotion values: {'angry': 0.002114348465391338, 'disgust': 8.194108023400871e-05, 'happy': 77.53403454613274, 'sad': 14.933600731658847, 'surprise': 0.007795173385849043, 'neutral': 7.125320181212404}\n",
      "Label: happy\n"
     ]
    },
    {
     "name": "stderr",
     "output_type": "stream",
     "text": [
      "Action: emotion: 100%|██████████| 1/1 [00:00<00:00, 18.63it/s]\n"
     ]
    },
    {
     "name": "stdout",
     "output_type": "stream",
     "text": [
      "Emotion values: {'angry': 0.038786520599387586, 'disgust': 0.00014659176486020442, 'happy': 0.04129165899939835, 'sad': 23.6670583486557, 'surprise': 0.0015820740372873843, 'neutral': 75.96897482872009}\n",
      "Label: neutral\n"
     ]
    },
    {
     "name": "stderr",
     "output_type": "stream",
     "text": [
      "Action: emotion: 100%|██████████| 1/1 [00:00<00:00, 16.73it/s]\n"
     ]
    },
    {
     "name": "stdout",
     "output_type": "stream",
     "text": [
      "Emotion values: {'angry': 0.038786520599387586, 'disgust': 0.00014659176486020442, 'happy': 0.04129165899939835, 'sad': 23.6670583486557, 'surprise': 0.0015820740372873843, 'neutral': 75.96897482872009}\n",
      "Label: neutral\n"
     ]
    },
    {
     "name": "stderr",
     "output_type": "stream",
     "text": [
      "Action: emotion: 100%|██████████| 1/1 [00:00<00:00, 16.35it/s]\n"
     ]
    },
    {
     "name": "stdout",
     "output_type": "stream",
     "text": [
      "Emotion values: {'angry': 0.002412760439367656, 'disgust': 8.678823732944708e-08, 'happy': 0.00041567934862720156, 'sad': 1.8231815813888061, 'surprise': 4.5763357433449885e-05, 'neutral': 98.16225160135339}\n",
      "Label: neutral\n"
     ]
    },
    {
     "name": "stderr",
     "output_type": "stream",
     "text": [
      "Action: emotion: 100%|██████████| 1/1 [00:00<00:00, 17.00it/s]\n"
     ]
    },
    {
     "name": "stdout",
     "output_type": "stream",
     "text": [
      "Emotion values: {'angry': 0.03413836529944092, 'disgust': 3.519363929171959e-05, 'happy': 0.012554851127788424, 'sad': 9.71812978386879, 'surprise': 0.0005230429451330565, 'neutral': 89.90013003349304}\n",
      "Label: neutral\n"
     ]
    },
    {
     "name": "stderr",
     "output_type": "stream",
     "text": [
      "Action: emotion: 100%|██████████| 1/1 [00:00<00:00, 17.62it/s]\n"
     ]
    },
    {
     "name": "stdout",
     "output_type": "stream",
     "text": [
      "Emotion values: {'angry': 0.0008155781870300416, 'disgust': 1.3646540564238308e-07, 'happy': 0.007646206358913332, 'sad': 0.5943428725004196, 'surprise': 0.00038317061807902064, 'neutral': 99.35322999954224}\n",
      "Label: neutral\n"
     ]
    },
    {
     "name": "stderr",
     "output_type": "stream",
     "text": [
      "Action: emotion: 100%|██████████| 1/1 [00:00<00:00, 17.61it/s]\n"
     ]
    },
    {
     "name": "stdout",
     "output_type": "stream",
     "text": [
      "Emotion values: {'angry': 0.0032837452003214376, 'disgust': 5.025157334217667e-07, 'happy': 0.0021508624576361797, 'sad': 2.428891613053276, 'surprise': 0.0001240787276067267, 'neutral': 97.51051038628941}\n",
      "Label: neutral\n"
     ]
    },
    {
     "name": "stderr",
     "output_type": "stream",
     "text": [
      "Action: emotion: 100%|██████████| 1/1 [00:00<00:00, 18.55it/s]\n"
     ]
    },
    {
     "name": "stdout",
     "output_type": "stream",
     "text": [
      "Emotion values: {'angry': 0.4441442835605999, 'disgust': 0.0013201334940890436, 'happy': 0.003658204077975711, 'sad': 8.68602217006419, 'surprise': 0.014896101172360638, 'neutral': 85.90499330699524}\n",
      "Label: neutral\n"
     ]
    },
    {
     "name": "stderr",
     "output_type": "stream",
     "text": [
      "Action: emotion: 100%|██████████| 1/1 [00:00<00:00, 16.61it/s]\n"
     ]
    },
    {
     "name": "stdout",
     "output_type": "stream",
     "text": [
      "Emotion values: {'angry': 1.7633438110351562, 'disgust': 0.01193861389765516, 'happy': 0.0413350120652467, 'sad': 24.171489477157593, 'surprise': 0.07509312708862126, 'neutral': 13.416722416877747}\n",
      "Label: sad\n"
     ]
    },
    {
     "name": "stderr",
     "output_type": "stream",
     "text": [
      "Action: emotion: 100%|██████████| 1/1 [00:00<00:00, 19.14it/s]\n"
     ]
    },
    {
     "name": "stdout",
     "output_type": "stream",
     "text": [
      "Emotion values: {'angry': 0.5703284405171871, 'disgust': 0.0006592152658413397, 'happy': 0.048250178224407136, 'sad': 5.061469227075577, 'surprise': 0.09422206203453243, 'neutral': 89.7218406200409}\n",
      "Label: neutral\n"
     ]
    },
    {
     "name": "stderr",
     "output_type": "stream",
     "text": [
      "Action: emotion: 100%|██████████| 1/1 [00:00<00:00, 19.03it/s]\n"
     ]
    },
    {
     "name": "stdout",
     "output_type": "stream",
     "text": [
      "Emotion values: {'angry': 0.016770681667443017, 'disgust': 1.5168120109190494e-06, 'happy': 0.0021803292319328253, 'sad': 1.8030834527661475, 'surprise': 0.0011572222100218958, 'neutral': 98.06136477359324}\n",
      "Label: neutral\n"
     ]
    },
    {
     "name": "stderr",
     "output_type": "stream",
     "text": [
      "Action: emotion: 100%|██████████| 1/1 [00:00<00:00, 18.35it/s]\n"
     ]
    },
    {
     "name": "stdout",
     "output_type": "stream",
     "text": [
      "Emotion values: {'angry': 0.02228421508334577, 'disgust': 4.380564178063651e-06, 'happy': 0.04356680146884173, 'sad': 1.2056823819875717, 'surprise': 0.0027279493224341422, 'neutral': 98.61552119255066}\n",
      "Label: neutral\n"
     ]
    },
    {
     "name": "stderr",
     "output_type": "stream",
     "text": [
      "Action: emotion: 100%|██████████| 1/1 [00:00<00:00, 18.48it/s]\n"
     ]
    },
    {
     "name": "stdout",
     "output_type": "stream",
     "text": [
      "Emotion values: {'angry': 0.02228421508334577, 'disgust': 4.380564178063651e-06, 'happy': 0.04356680146884173, 'sad': 1.2056823819875717, 'surprise': 0.0027279493224341422, 'neutral': 98.61552119255066}\n",
      "Label: neutral\n"
     ]
    },
    {
     "name": "stderr",
     "output_type": "stream",
     "text": [
      "Action: emotion: 100%|██████████| 1/1 [00:00<00:00, 18.22it/s]\n"
     ]
    },
    {
     "name": "stdout",
     "output_type": "stream",
     "text": [
      "Emotion values: {'angry': 0.06477722585736072, 'disgust': 3.4864361655191536e-05, 'happy': 0.03320464363796375, 'sad': 6.971385000430644, 'surprise': 0.0004962808657403573, 'neutral': 92.69596294736641}\n",
      "Label: neutral\n"
     ]
    },
    {
     "name": "stderr",
     "output_type": "stream",
     "text": [
      "Action: emotion: 100%|██████████| 1/1 [00:00<00:00, 16.10it/s]\n"
     ]
    },
    {
     "name": "stdout",
     "output_type": "stream",
     "text": [
      "Emotion values: {'angry': 0.005670037768883785, 'disgust': 2.5184620273479553e-07, 'happy': 0.005975967739430377, 'sad': 1.362089370985106, 'surprise': 0.0005121985239976448, 'neutral': 98.54210036491152}\n",
      "Label: neutral\n"
     ]
    },
    {
     "name": "stderr",
     "output_type": "stream",
     "text": [
      "Action: emotion: 100%|██████████| 1/1 [00:00<00:00, 17.05it/s]\n"
     ]
    },
    {
     "name": "stdout",
     "output_type": "stream",
     "text": [
      "Emotion values: {'angry': 0.060880137607455254, 'disgust': 3.2565026231168304e-05, 'happy': 0.01948311983142048, 'sad': 10.09352132678032, 'surprise': 0.0014529465261148289, 'neutral': 89.25673961639404}\n",
      "Label: neutral\n"
     ]
    },
    {
     "name": "stderr",
     "output_type": "stream",
     "text": [
      "Action: emotion: 100%|██████████| 1/1 [00:00<00:00, 16.98it/s]\n"
     ]
    },
    {
     "name": "stdout",
     "output_type": "stream",
     "text": [
      "Emotion values: {'angry': 0.07410842226818204, 'disgust': 6.814636890339898e-05, 'happy': 0.023953619529493153, 'sad': 4.257318750023842, 'surprise': 0.0007406511485896772, 'neutral': 95.4238772392273}\n",
      "Label: neutral\n"
     ]
    },
    {
     "name": "stderr",
     "output_type": "stream",
     "text": [
      "Action: emotion: 100%|██████████| 1/1 [00:00<00:00, 17.81it/s]\n"
     ]
    },
    {
     "name": "stdout",
     "output_type": "stream",
     "text": [
      "Emotion values: {'angry': 2.286628633737564, 'disgust': 0.0036149453080724925, 'happy': 0.1835843315348029, 'sad': 75.37944912910461, 'surprise': 0.002715575465117581, 'neutral': 15.823772549629211}\n",
      "Label: sad\n"
     ]
    },
    {
     "name": "stderr",
     "output_type": "stream",
     "text": [
      "Action: emotion: 100%|██████████| 1/1 [00:00<00:00, 17.64it/s]\n"
     ]
    },
    {
     "name": "stdout",
     "output_type": "stream",
     "text": [
      "Emotion values: {'angry': 0.5526663599262452, 'disgust': 0.00021417482824850735, 'happy': 1.184295467841355, 'sad': 3.28388755225465, 'surprise': 0.03675037224499865, 'neutral': 90.99436348643086}\n",
      "Label: neutral\n"
     ]
    },
    {
     "name": "stderr",
     "output_type": "stream",
     "text": [
      "Action: emotion: 100%|██████████| 1/1 [00:00<00:00,  5.37it/s]\n"
     ]
    },
    {
     "name": "stdout",
     "output_type": "stream",
     "text": [
      "Emotion values: {'angry': 0.00021310327156243147, 'disgust': 3.158765349980941e-10, 'happy': 0.003983657734352164, 'sad': 82.27539658546448, 'surprise': 1.4586663610316464e-05, 'neutral': 0.24428116157650948}\n",
      "Label: sad\n"
     ]
    },
    {
     "name": "stderr",
     "output_type": "stream",
     "text": [
      "Action: emotion: 100%|██████████| 1/1 [00:00<00:00, 17.93it/s]\n"
     ]
    },
    {
     "name": "stdout",
     "output_type": "stream",
     "text": [
      "Emotion values: {'angry': 0.01823317397332111, 'disgust': 2.9413944323707488e-05, 'happy': 0.6343029817523349, 'sad': 98.88845079472368, 'surprise': 2.301459142771297e-05, 'neutral': 0.11199304803046871}\n",
      "Label: sad\n"
     ]
    },
    {
     "name": "stderr",
     "output_type": "stream",
     "text": [
      "Action: emotion: 100%|██████████| 1/1 [00:00<00:00, 16.54it/s]\n"
     ]
    },
    {
     "name": "stdout",
     "output_type": "stream",
     "text": [
      "Emotion values: {'angry': 0.021297079009445278, 'disgust': 2.652179741629422e-05, 'happy': 5.505412533234056, 'sad': 75.96084166039924, 'surprise': 0.0006103178930101541, 'neutral': 0.18276573541200336}\n",
      "Label: sad\n"
     ]
    },
    {
     "name": "stderr",
     "output_type": "stream",
     "text": [
      "Action: emotion: 100%|██████████| 1/1 [00:00<00:00, 18.61it/s]\n"
     ]
    },
    {
     "name": "stdout",
     "output_type": "stream",
     "text": [
      "Emotion values: {'angry': 0.003176964878199861, 'disgust': 7.788019445285433e-06, 'happy': 2.4455087907031996, 'sad': 93.59748845055493, 'surprise': 6.451155644161926e-05, 'neutral': 0.10793448493203252}\n",
      "Label: sad\n"
     ]
    },
    {
     "name": "stderr",
     "output_type": "stream",
     "text": [
      "Action: emotion: 100%|██████████| 1/1 [00:00<00:00, 16.60it/s]\n"
     ]
    },
    {
     "name": "stdout",
     "output_type": "stream",
     "text": [
      "Emotion values: {'angry': 0.10455880006008149, 'disgust': 7.413737976882413e-05, 'happy': 0.3735080816825081, 'sad': 84.56669357816538, 'surprise': 0.000759216754664548, 'neutral': 5.225798054087046}\n",
      "Label: sad\n"
     ]
    },
    {
     "name": "stderr",
     "output_type": "stream",
     "text": [
      "Action: emotion: 100%|██████████| 1/1 [00:00<00:00, 18.54it/s]\n"
     ]
    },
    {
     "name": "stdout",
     "output_type": "stream",
     "text": [
      "Emotion values: {'angry': 0.04992617475360184, 'disgust': 9.62947041769164e-06, 'happy': 0.061867255912632105, 'sad': 10.84070642833152, 'surprise': 0.0027862708362600148, 'neutral': 85.74302111524469}\n",
      "Label: neutral\n"
     ]
    },
    {
     "name": "stderr",
     "output_type": "stream",
     "text": [
      "Action: emotion: 100%|██████████| 1/1 [00:00<00:00, 19.06it/s]\n"
     ]
    },
    {
     "name": "stdout",
     "output_type": "stream",
     "text": [
      "Emotion values: {'angry': 0.012262785458005965, 'disgust': 4.263473840637744e-06, 'happy': 0.021685838873963803, 'sad': 1.6199974343180656, 'surprise': 0.0006915868198120734, 'neutral': 97.9764461517334}\n",
      "Label: neutral\n"
     ]
    },
    {
     "name": "stderr",
     "output_type": "stream",
     "text": [
      "Action: emotion: 100%|██████████| 1/1 [00:00<00:00, 18.05it/s]\n"
     ]
    },
    {
     "name": "stdout",
     "output_type": "stream",
     "text": [
      "Emotion values: {'angry': 0.6706329194446898, 'disgust': 0.001733220026674994, 'happy': 0.11874567465908234, 'sad': 59.829835912008775, 'surprise': 0.0020631901221109224, 'neutral': 20.835644503158985}\n",
      "Label: sad\n"
     ]
    },
    {
     "name": "stderr",
     "output_type": "stream",
     "text": [
      "Action: emotion: 100%|██████████| 1/1 [00:00<00:00, 17.66it/s]\n"
     ]
    },
    {
     "name": "stdout",
     "output_type": "stream",
     "text": [
      "Emotion values: {'angry': 0.16152632127015934, 'disgust': 0.0002505457515876217, 'happy': 0.23296719433758326, 'sad': 11.647922647246999, 'surprise': 0.0031079016413433384, 'neutral': 84.77903189909078}\n",
      "Label: neutral\n"
     ]
    },
    {
     "name": "stderr",
     "output_type": "stream",
     "text": [
      "Action: emotion: 100%|██████████| 1/1 [00:00<00:00, 17.46it/s]\n"
     ]
    },
    {
     "name": "stdout",
     "output_type": "stream",
     "text": [
      "Emotion values: {'angry': 0.3999845363190494, 'disgust': 0.0020128526847786937, 'happy': 17.100184685002844, 'sad': 26.356797001170932, 'surprise': 0.007869956348954892, 'neutral': 12.20331637283065}\n",
      "Label: sad\n"
     ]
    },
    {
     "name": "stderr",
     "output_type": "stream",
     "text": [
      "Action: emotion: 100%|██████████| 1/1 [00:00<00:00, 16.77it/s]\n"
     ]
    },
    {
     "name": "stdout",
     "output_type": "stream",
     "text": [
      "Emotion values: {'angry': 0.19560896325856447, 'disgust': 0.00014692838021801435, 'happy': 0.2620689570903778, 'sad': 1.0484167374670506, 'surprise': 0.0704671605490148, 'neutral': 96.17282152175903}\n",
      "Label: neutral\n"
     ]
    },
    {
     "name": "stderr",
     "output_type": "stream",
     "text": [
      "Action: emotion: 100%|██████████| 1/1 [00:00<00:00, 16.98it/s]\n"
     ]
    },
    {
     "name": "stdout",
     "output_type": "stream",
     "text": [
      "Emotion values: {'angry': 0.2508590230718255, 'disgust': 0.00017230478306373698, 'happy': 1.2401326559484005, 'sad': 0.8935467340052128, 'surprise': 0.14969951007515192, 'neutral': 92.61523485183716}\n",
      "Label: neutral\n"
     ]
    },
    {
     "name": "stderr",
     "output_type": "stream",
     "text": [
      "Action: emotion: 100%|██████████| 1/1 [00:00<00:00, 17.09it/s]\n"
     ]
    },
    {
     "name": "stdout",
     "output_type": "stream",
     "text": [
      "Emotion values: {'angry': 1.6135232523083687, 'disgust': 0.00045292999857338145, 'happy': 0.24457043036818504, 'sad': 1.132013089954853, 'surprise': 0.051264429930597544, 'neutral': 91.78265333175659}\n",
      "Label: neutral\n"
     ]
    },
    {
     "name": "stderr",
     "output_type": "stream",
     "text": [
      "Action: emotion: 100%|██████████| 1/1 [00:00<00:00, 17.50it/s]\n"
     ]
    },
    {
     "name": "stdout",
     "output_type": "stream",
     "text": [
      "Emotion values: {'angry': 1.7900783297326173, 'disgust': 0.003569726624945171, 'happy': 1.8535365934924373, 'sad': 2.175511160431962, 'surprise': 0.2720635292826856, 'neutral': 78.77421632120415}\n",
      "Label: neutral\n"
     ]
    },
    {
     "name": "stderr",
     "output_type": "stream",
     "text": [
      "Action: emotion: 100%|██████████| 1/1 [00:00<00:00, 17.55it/s]\n"
     ]
    },
    {
     "name": "stdout",
     "output_type": "stream",
     "text": [
      "Emotion values: {'angry': 0.13695830712094903, 'disgust': 7.66031632792874e-05, 'happy': 0.13336967676877975, 'sad': 0.9526221081614494, 'surprise': 0.03702558751683682, 'neutral': 97.25975394248962}\n",
      "Label: neutral\n"
     ]
    },
    {
     "name": "stderr",
     "output_type": "stream",
     "text": [
      "Action: emotion: 100%|██████████| 1/1 [00:00<00:00, 16.18it/s]\n"
     ]
    },
    {
     "name": "stdout",
     "output_type": "stream",
     "text": [
      "Emotion values: {'angry': 0.05810332368128002, 'disgust': 9.969042480406642e-06, 'happy': 0.3642334835603833, 'sad': 0.14933242928236723, 'surprise': 0.03631880390457809, 'neutral': 98.90214800834656}\n",
      "Label: neutral\n"
     ]
    },
    {
     "name": "stderr",
     "output_type": "stream",
     "text": [
      "Action: emotion: 100%|██████████| 1/1 [00:00<00:00, 17.88it/s]\n"
     ]
    },
    {
     "name": "stdout",
     "output_type": "stream",
     "text": [
      "Emotion values: {'angry': 0.012694582983385772, 'disgust': 5.337280839512459e-07, 'happy': 0.011049943714169785, 'sad': 0.14453527983278036, 'surprise': 0.009318492084275931, 'neutral': 99.47724938392639}\n",
      "Label: neutral\n"
     ]
    },
    {
     "name": "stderr",
     "output_type": "stream",
     "text": [
      "Action: emotion: 100%|██████████| 1/1 [00:00<00:00, 17.85it/s]\n"
     ]
    },
    {
     "name": "stdout",
     "output_type": "stream",
     "text": [
      "Emotion values: {'angry': 0.01990521268453449, 'disgust': 7.203594609705988e-07, 'happy': 0.009601144847692922, 'sad': 0.1889636623673141, 'surprise': 0.012457884440664202, 'neutral': 99.0899920463562}\n",
      "Label: neutral\n"
     ]
    },
    {
     "name": "stderr",
     "output_type": "stream",
     "text": [
      "Action: emotion: 100%|██████████| 1/1 [00:00<00:00, 16.86it/s]\n"
     ]
    },
    {
     "name": "stdout",
     "output_type": "stream",
     "text": [
      "Emotion values: {'angry': 1.7471449449658394, 'disgust': 0.0003960406047553988, 'happy': 0.07618340314365923, 'sad': 1.0008186101913452, 'surprise': 0.12442822335287929, 'neutral': 88.25129866600037}\n",
      "Label: neutral\n"
     ]
    },
    {
     "name": "stderr",
     "output_type": "stream",
     "text": [
      "Action: emotion: 100%|██████████| 1/1 [00:00<00:00, 17.36it/s]\n"
     ]
    },
    {
     "name": "stdout",
     "output_type": "stream",
     "text": [
      "Emotion values: {'angry': 0.09464279864914715, 'disgust': 4.534380693144158e-06, 'happy': 0.01277856936212629, 'sad': 0.6475172005593777, 'surprise': 0.018473899399396032, 'neutral': 98.65515232086182}\n",
      "Label: neutral\n"
     ]
    },
    {
     "name": "stderr",
     "output_type": "stream",
     "text": [
      "Action: emotion: 100%|██████████| 1/1 [00:00<00:00, 17.31it/s]\n"
     ]
    },
    {
     "name": "stdout",
     "output_type": "stream",
     "text": [
      "Emotion values: {'angry': 0.2595542697235942, 'disgust': 2.825361491431977e-05, 'happy': 0.16661020927131176, 'sad': 1.2306338176131248, 'surprise': 0.01238652621395886, 'neutral': 96.15684747695923}\n",
      "Label: neutral\n"
     ]
    },
    {
     "name": "stderr",
     "output_type": "stream",
     "text": [
      "Action: emotion: 100%|██████████| 1/1 [00:00<00:00, 18.02it/s]\n"
     ]
    },
    {
     "name": "stdout",
     "output_type": "stream",
     "text": [
      "Emotion values: {'angry': 0.019339026766829193, 'disgust': 2.3745418964438159e-07, 'happy': 0.012391278869472444, 'sad': 0.1188107649795711, 'surprise': 0.009241161023965105, 'neutral': 99.72344040870667}\n",
      "Label: neutral\n"
     ]
    },
    {
     "name": "stderr",
     "output_type": "stream",
     "text": [
      "Action: emotion: 100%|██████████| 1/1 [00:00<00:00, 17.52it/s]\n"
     ]
    },
    {
     "name": "stdout",
     "output_type": "stream",
     "text": [
      "Emotion values: {'angry': 0.2745794761675284, 'disgust': 5.601716900049831e-05, 'happy': 0.1453080883247011, 'sad': 0.7639339183380555, 'surprise': 0.09160560403276109, 'neutral': 97.40143998869895}\n",
      "Label: neutral\n"
     ]
    },
    {
     "name": "stderr",
     "output_type": "stream",
     "text": [
      "Action: emotion: 100%|██████████| 1/1 [00:00<00:00, 16.67it/s]\n"
     ]
    },
    {
     "name": "stdout",
     "output_type": "stream",
     "text": [
      "Emotion values: {'angry': 0.046425184700638056, 'disgust': 6.119444950769548e-07, 'happy': 0.0005264805622573476, 'sad': 0.49330852925777435, 'surprise': 0.0004899136456515407, 'neutral': 99.37958717346191}\n",
      "Label: neutral\n"
     ]
    },
    {
     "name": "stderr",
     "output_type": "stream",
     "text": [
      "Action: emotion: 100%|██████████| 1/1 [00:00<00:00, 18.11it/s]\n"
     ]
    },
    {
     "name": "stdout",
     "output_type": "stream",
     "text": [
      "Emotion values: {'angry': 0.029257909045554698, 'disgust': 1.5440897449536806e-07, 'happy': 0.003833683513221331, 'sad': 0.22958030458539724, 'surprise': 0.0020995195882278495, 'neutral': 99.64571595191956}\n",
      "Label: neutral\n"
     ]
    },
    {
     "name": "stderr",
     "output_type": "stream",
     "text": [
      "Action: emotion: 100%|██████████| 1/1 [00:00<00:00,  7.53it/s]"
     ]
    },
    {
     "name": "stdout",
     "output_type": "stream",
     "text": [
      "Emotion values: {'angry': 0.09712274768389761, 'disgust': 1.8785755173666985e-06, 'happy': 0.010242472490062937, 'sad': 0.22464350331574678, 'surprise': 0.003535864016157575, 'neutral': 99.44819211959839}\n",
      "Label: neutral\n"
     ]
    },
    {
     "name": "stderr",
     "output_type": "stream",
     "text": [
      "\n",
      "Action: emotion: 100%|██████████| 1/1 [00:00<00:00, 16.59it/s]\n"
     ]
    },
    {
     "name": "stdout",
     "output_type": "stream",
     "text": [
      "Emotion values: {'angry': 1.2968098586386358, 'disgust': 0.0001225089891056533, 'happy': 0.02933772513886393, 'sad': 0.8916745493814081, 'surprise': 0.004439733212131937, 'neutral': 97.67363653621891}\n",
      "Label: neutral\n"
     ]
    },
    {
     "name": "stderr",
     "output_type": "stream",
     "text": [
      "Action: emotion: 100%|██████████| 1/1 [00:00<00:00, 17.73it/s]\n"
     ]
    },
    {
     "name": "stdout",
     "output_type": "stream",
     "text": [
      "Emotion values: {'angry': 0.7619585376232862, 'disgust': 0.00011490069482533727, 'happy': 0.004792990876012482, 'sad': 49.5306670665741, 'surprise': 0.00011468744105513906, 'neutral': 48.86334240436554}\n",
      "Label: sad\n"
     ]
    },
    {
     "name": "stderr",
     "output_type": "stream",
     "text": [
      "Action: emotion: 100%|██████████| 1/1 [00:00<00:00, 15.46it/s]\n"
     ]
    },
    {
     "name": "stdout",
     "output_type": "stream",
     "text": [
      "Emotion values: {'angry': 0.3486216999590397, 'disgust': 7.6103319202047714e-06, 'happy': 0.0019281069398857653, 'sad': 16.91557765007019, 'surprise': 3.241670754050574e-05, 'neutral': 82.64007568359375}\n",
      "Label: neutral\n"
     ]
    },
    {
     "name": "stderr",
     "output_type": "stream",
     "text": [
      "Action: emotion: 100%|██████████| 1/1 [00:00<00:00, 16.88it/s]\n"
     ]
    },
    {
     "name": "stdout",
     "output_type": "stream",
     "text": [
      "Emotion values: {'angry': 0.2777752233669162, 'disgust': 2.0143441759046254e-05, 'happy': 0.0029435288524837233, 'sad': 60.300493240356445, 'surprise': 7.516628102166578e-05, 'neutral': 38.15942704677582}\n",
      "Label: sad\n"
     ]
    },
    {
     "name": "stderr",
     "output_type": "stream",
     "text": [
      "Action: emotion: 100%|██████████| 1/1 [00:00<00:00, 16.76it/s]\n"
     ]
    },
    {
     "name": "stdout",
     "output_type": "stream",
     "text": [
      "Emotion values: {'angry': 0.14356389874592423, 'disgust': 0.00012077058499926352, 'happy': 0.01599767419975251, 'sad': 97.45517373085022, 'surprise': 3.084027468958084e-05, 'neutral': 0.6021301262080669}\n",
      "Label: sad\n"
     ]
    },
    {
     "name": "stderr",
     "output_type": "stream",
     "text": [
      "Action: emotion: 100%|██████████| 1/1 [00:00<00:00, 17.88it/s]\n"
     ]
    },
    {
     "name": "stdout",
     "output_type": "stream",
     "text": [
      "Emotion values: {'angry': 0.9501560792512989, 'disgust': 1.7363713960454986e-05, 'happy': 0.0023409392332101446, 'sad': 62.72588523934903, 'surprise': 8.963050038168962e-06, 'neutral': 36.02218163277884}\n",
      "Label: sad\n"
     ]
    },
    {
     "name": "stderr",
     "output_type": "stream",
     "text": [
      "Action: emotion: 100%|██████████| 1/1 [00:00<00:00, 16.62it/s]\n"
     ]
    },
    {
     "name": "stdout",
     "output_type": "stream",
     "text": [
      "Emotion values: {'angry': 0.7985707372426987, 'disgust': 1.805571798740857e-05, 'happy': 0.004527823330136016, 'sad': 84.62929725646973, 'surprise': 1.124224837667498e-05, 'neutral': 14.303581416606903}\n",
      "Label: sad\n"
     ]
    },
    {
     "name": "stderr",
     "output_type": "stream",
     "text": [
      "Action: emotion: 100%|██████████| 1/1 [00:00<00:00, 15.74it/s]\n"
     ]
    },
    {
     "name": "stdout",
     "output_type": "stream",
     "text": [
      "Emotion values: {'angry': 0.13501113280653954, 'disgust': 6.994398518145317e-05, 'happy': 0.00032814759833854623, 'sad': 98.17792773246765, 'surprise': 7.027628257105789e-07, 'neutral': 0.46845683827996254}\n",
      "Label: sad\n"
     ]
    },
    {
     "name": "stderr",
     "output_type": "stream",
     "text": [
      "Action: emotion: 100%|██████████| 1/1 [00:00<00:00, 15.54it/s]\n"
     ]
    },
    {
     "name": "stdout",
     "output_type": "stream",
     "text": [
      "Emotion values: {'angry': 1.0066500864923, 'disgust': 0.00011294812338746851, 'happy': 0.002904894972743932, 'sad': 59.001922607421875, 'surprise': 0.00032285904580930946, 'neutral': 38.372209668159485}\n",
      "Label: sad\n"
     ]
    },
    {
     "name": "stderr",
     "output_type": "stream",
     "text": [
      "Action: emotion: 100%|██████████| 1/1 [00:00<00:00, 16.42it/s]\n"
     ]
    },
    {
     "name": "stdout",
     "output_type": "stream",
     "text": [
      "Emotion values: {'angry': 1.8663492053747177, 'disgust': 0.000281307893601479, 'happy': 0.018554968119133264, 'sad': 75.83969235420227, 'surprise': 7.258756227201957e-05, 'neutral': 21.737036108970642}\n",
      "Label: sad\n"
     ]
    },
    {
     "name": "stderr",
     "output_type": "stream",
     "text": [
      "Action: emotion: 100%|██████████| 1/1 [00:00<00:00, 15.23it/s]\n"
     ]
    },
    {
     "name": "stdout",
     "output_type": "stream",
     "text": [
      "Emotion values: {'angry': 0.5973287392407656, 'disgust': 0.0013747569937549997, 'happy': 0.00013037349617661675, 'sad': 98.64571690559387, 'surprise': 2.588978631479222e-06, 'neutral': 0.514935189858079}\n",
      "Label: sad\n"
     ]
    },
    {
     "name": "stderr",
     "output_type": "stream",
     "text": [
      "Action: emotion: 100%|██████████| 1/1 [00:00<00:00, 14.65it/s]\n"
     ]
    },
    {
     "name": "stdout",
     "output_type": "stream",
     "text": [
      "Emotion values: {'angry': 25.292168575058493, 'disgust': 0.038043240140906875, 'happy': 0.01667875284789147, 'sad': 67.26947231706812, 'surprise': 0.0018715433931479019, 'neutral': 2.963525047214332}\n",
      "Label: sad\n"
     ]
    },
    {
     "name": "stderr",
     "output_type": "stream",
     "text": [
      "Action: emotion: 100%|██████████| 1/1 [00:00<00:00, 14.86it/s]\n"
     ]
    },
    {
     "name": "stdout",
     "output_type": "stream",
     "text": [
      "Emotion values: {'angry': 33.09967517852783, 'disgust': 0.06933296681381762, 'happy': 0.024026172468438745, 'sad': 56.150978803634644, 'surprise': 0.008719205652596429, 'neutral': 5.3170546889305115}\n",
      "Label: sad\n"
     ]
    },
    {
     "name": "stderr",
     "output_type": "stream",
     "text": [
      "Action: emotion: 100%|██████████| 1/1 [00:00<00:00, 16.13it/s]\n"
     ]
    },
    {
     "name": "stdout",
     "output_type": "stream",
     "text": [
      "Emotion values: {'angry': 33.8018000125885, 'disgust': 0.2058445243164897, 'happy': 0.1698179985396564, 'sad': 62.114983797073364, 'surprise': 0.007430843834299594, 'neutral': 2.5905299931764603}\n",
      "Label: sad\n"
     ]
    },
    {
     "name": "stderr",
     "output_type": "stream",
     "text": [
      "Action: emotion: 100%|██████████| 1/1 [00:00<00:00, 15.14it/s]\n"
     ]
    },
    {
     "name": "stdout",
     "output_type": "stream",
     "text": [
      "Emotion values: {'angry': 33.8018000125885, 'disgust': 0.2058445243164897, 'happy': 0.1698179985396564, 'sad': 62.114983797073364, 'surprise': 0.007430843834299594, 'neutral': 2.5905299931764603}\n",
      "Label: sad\n"
     ]
    },
    {
     "name": "stderr",
     "output_type": "stream",
     "text": [
      "Action: emotion: 100%|██████████| 1/1 [00:00<00:00, 14.71it/s]\n"
     ]
    },
    {
     "name": "stdout",
     "output_type": "stream",
     "text": [
      "Emotion values: {'angry': 9.541193003512262, 'disgust': 0.5325424315729819, 'happy': 0.41182646275145257, 'sad': 87.45101243841499, 'surprise': 0.015091197221378569, 'neutral': 0.9672233613165186}\n",
      "Label: sad\n"
     ]
    },
    {
     "name": "stderr",
     "output_type": "stream",
     "text": [
      "Action: emotion: 100%|██████████| 1/1 [00:00<00:00, 13.31it/s]\n"
     ]
    },
    {
     "name": "stdout",
     "output_type": "stream",
     "text": [
      "Emotion values: {'angry': 32.351917028427124, 'disgust': 2.4687903001904488, 'happy': 9.82620194554329, 'sad': 46.521443128585815, 'surprise': 0.1607176847755909, 'neutral': 1.7356336116790771}\n",
      "Label: sad\n"
     ]
    },
    {
     "name": "stderr",
     "output_type": "stream",
     "text": [
      "Action: emotion: 100%|██████████| 1/1 [00:00<00:00, 15.70it/s]\n"
     ]
    },
    {
     "name": "stdout",
     "output_type": "stream",
     "text": [
      "Emotion values: {'angry': 3.842712108169543, 'disgust': 2.597865525142488, 'happy': 55.01606404589843, 'sad': 30.135073645702168, 'surprise': 0.45711765204457616, 'neutral': 2.6482733534844694}\n",
      "Label: happy\n"
     ]
    },
    {
     "name": "stderr",
     "output_type": "stream",
     "text": [
      "Action: emotion: 100%|██████████| 1/1 [00:00<00:00, 15.63it/s]\n"
     ]
    },
    {
     "name": "stdout",
     "output_type": "stream",
     "text": [
      "Emotion values: {'angry': 0.32342867525241825, 'disgust': 0.08800649026633742, 'happy': 95.39200040054324, 'sad': 2.3517816797960807, 'surprise': 0.12626826817278672, 'neutral': 0.7666299576538776}\n",
      "Label: happy\n"
     ]
    },
    {
     "name": "stderr",
     "output_type": "stream",
     "text": [
      "Action: emotion: 100%|██████████| 1/1 [00:00<00:00, 16.68it/s]\n"
     ]
    },
    {
     "name": "stdout",
     "output_type": "stream",
     "text": [
      "Emotion values: {'angry': 3.95516035495277, 'disgust': 2.989622966692094, 'happy': 44.4139010412811, 'sad': 27.1808234237643, 'surprise': 0.2634082606842207, 'neutral': 4.4681484141172865}\n",
      "Label: happy\n"
     ]
    },
    {
     "name": "stderr",
     "output_type": "stream",
     "text": [
      "Action: emotion: 100%|██████████| 1/1 [00:00<00:00, 15.76it/s]\n"
     ]
    },
    {
     "name": "stdout",
     "output_type": "stream",
     "text": [
      "Emotion values: {'angry': 0.11465377174317837, 'disgust': 0.037328494363464415, 'happy': 95.21013498306274, 'sad': 1.9454805180430412, 'surprise': 0.030951929511502385, 'neutral': 0.6070722360163927}\n",
      "Label: happy\n"
     ]
    },
    {
     "name": "stderr",
     "output_type": "stream",
     "text": [
      "Action: emotion: 100%|██████████| 1/1 [00:00<00:00, 15.49it/s]\n"
     ]
    },
    {
     "name": "stdout",
     "output_type": "stream",
     "text": [
      "Emotion values: {'angry': 0.05597725891034199, 'disgust': 0.007298583517113058, 'happy': 74.17296479070606, 'sad': 23.801447593993235, 'surprise': 0.15168537440176316, 'neutral': 1.534683353789645}\n",
      "Label: happy\n"
     ]
    },
    {
     "name": "stderr",
     "output_type": "stream",
     "text": [
      "Action: emotion: 100%|██████████| 1/1 [00:00<00:00, 14.56it/s]\n"
     ]
    },
    {
     "name": "stdout",
     "output_type": "stream",
     "text": [
      "Emotion values: {'angry': 0.04888384137302637, 'disgust': 0.0007139138688216917, 'happy': 6.848897039890289, 'sad': 37.400299310684204, 'surprise': 0.11520819971337914, 'neutral': 4.9824584275484085}\n",
      "Label: sad\n"
     ]
    },
    {
     "name": "stderr",
     "output_type": "stream",
     "text": [
      "Action: emotion: 100%|██████████| 1/1 [00:00<00:00, 14.76it/s]\n"
     ]
    },
    {
     "name": "stdout",
     "output_type": "stream",
     "text": [
      "Emotion values: {'angry': 0.766478106379509, 'disgust': 0.006311509059742093, 'happy': 0.8437513373792171, 'sad': 8.583034574985504, 'surprise': 0.09032223606482148, 'neutral': 0.4620589781552553}\n",
      "Label: sad\n"
     ]
    },
    {
     "name": "stderr",
     "output_type": "stream",
     "text": [
      "Action: emotion: 100%|██████████| 1/1 [00:00<00:00, 15.27it/s]\n",
      "Action: emotion: 100%|██████████| 1/1 [00:00<00:00, 15.23it/s]\n"
     ]
    },
    {
     "name": "stdout",
     "output_type": "stream",
     "text": [
      "Emotion values: {'angry': 1.9498955458402634, 'disgust': 4.5408530269241965e-07, 'happy': 98.03933501243591, 'sad': 0.0014022171853866894, 'surprise': 1.079504663437092e-06, 'neutral': 7.722697432654968e-05}\n",
      "Label: happy\n"
     ]
    },
    {
     "name": "stderr",
     "output_type": "stream",
     "text": [
      "Action: emotion: 100%|██████████| 1/1 [00:00<00:00, 15.36it/s]\n",
      "Action: emotion: 100%|██████████| 1/1 [00:00<00:00, 15.87it/s]\n"
     ]
    },
    {
     "name": "stdout",
     "output_type": "stream",
     "text": [
      "Emotion values: {'angry': 40.822006366013724, 'disgust': 5.129934975897561e-07, 'happy': 59.110443698114906, 'sad': 0.012151795096760828, 'surprise': 1.112168358054868e-06, 'neutral': 4.0304315432179256e-05}\n",
      "Label: happy\n"
     ]
    },
    {
     "name": "stderr",
     "output_type": "stream",
     "text": [
      "Action: emotion: 100%|██████████| 1/1 [00:00<00:00, 14.19it/s]\n"
     ]
    },
    {
     "name": "stdout",
     "output_type": "stream",
     "text": [
      "Emotion values: {'angry': 0.9233321994543076, 'disgust': 0.009628834231989458, 'happy': 0.17799257766455412, 'sad': 33.08177590370178, 'surprise': 0.5489092320203781, 'neutral': 34.42213833332062}\n",
      "Label: neutral\n"
     ]
    },
    {
     "name": "stderr",
     "output_type": "stream",
     "text": [
      "Action: emotion: 100%|██████████| 1/1 [00:00<00:00, 15.89it/s]\n",
      "Action: emotion: 100%|██████████| 1/1 [00:00<00:00, 16.71it/s]\n"
     ]
    },
    {
     "name": "stdout",
     "output_type": "stream",
     "text": [
      "Emotion values: {'angry': 23.904861509799957, 'disgust': 1.8622642317112081e-07, 'happy': 76.0623574256897, 'sad': 0.012751317990478128, 'surprise': 1.1758181983623217e-06, 'neutral': 0.00021603211735055083}\n",
      "Label: happy\n"
     ]
    },
    {
     "name": "stderr",
     "output_type": "stream",
     "text": [
      "Action: emotion: 100%|██████████| 1/1 [00:00<00:00, 16.32it/s]\n",
      "Action: emotion: 100%|██████████| 1/1 [00:00<00:00, 15.76it/s]\n"
     ]
    },
    {
     "name": "stdout",
     "output_type": "stream",
     "text": [
      "Emotion values: {'angry': 61.38269075052087, 'disgust': 6.489661639642659e-07, 'happy': 38.55363956413505, 'sad': 0.025770814762760087, 'surprise': 1.7580839166546752e-06, 'neutral': 0.0008819112352256841}\n",
      "Label: angry\n"
     ]
    },
    {
     "name": "stderr",
     "output_type": "stream",
     "text": [
      "Action: emotion: 100%|██████████| 1/1 [00:00<00:00, 16.09it/s]\n",
      "Action: emotion: 100%|██████████| 1/1 [00:00<00:00, 15.54it/s]\n"
     ]
    },
    {
     "name": "stdout",
     "output_type": "stream",
     "text": [
      "Emotion values: {'angry': 6.79138119765408, 'disgust': 0.04535602908840949, 'happy': 0.7930630359389207, 'sad': 28.841586639975706, 'surprise': 4.026249663606266, 'neutral': 45.52753839060893}\n",
      "Label: neutral\n"
     ]
    },
    {
     "name": "stderr",
     "output_type": "stream",
     "text": [
      "Action: emotion: 100%|██████████| 1/1 [00:00<00:00, 18.36it/s]\n"
     ]
    },
    {
     "name": "stdout",
     "output_type": "stream",
     "text": [
      "Emotion values: {'angry': 0.6200848612934351, 'disgust': 0.00034583258639031556, 'happy': 0.0019702532881638035, 'sad': 21.93937450647354, 'surprise': 0.01789175148587674, 'neutral': 76.17713212966919}\n",
      "Label: neutral\n"
     ]
    },
    {
     "name": "stderr",
     "output_type": "stream",
     "text": [
      "Action: emotion: 100%|██████████| 1/1 [00:00<00:00, 17.39it/s]\n",
      "Action: emotion: 100%|██████████| 1/1 [00:00<00:00, 18.08it/s]"
     ]
    },
    {
     "name": "stdout",
     "output_type": "stream",
     "text": [
      "Emotion values: {'angry': 0.6792924832552671, 'disgust': 0.0002682677404663991, 'happy': 0.002440031857986469, 'sad': 18.51135492324829, 'surprise': 0.05192512762732804, 'neutral': 79.94996905326843}\n",
      "Label: neutral\n"
     ]
    },
    {
     "name": "stderr",
     "output_type": "stream",
     "text": [
      "\n",
      "Action: emotion: 100%|██████████| 1/1 [00:00<00:00, 16.01it/s]\n",
      "Action: emotion: 100%|██████████| 1/1 [00:00<00:00, 18.31it/s]"
     ]
    },
    {
     "name": "stdout",
     "output_type": "stream",
     "text": [
      "Emotion values: {'angry': 97.512734232815, 'disgust': 5.0975301809162595e-05, 'happy': 1.9389245210379933, 'sad': 0.026664914644221705, 'surprise': 1.1181833858131243e-05, 'neutral': 0.0014336674322169914}\n",
      "Label: angry\n"
     ]
    },
    {
     "name": "stderr",
     "output_type": "stream",
     "text": [
      "\n",
      "Action: emotion: 100%|██████████| 1/1 [00:00<00:00, 17.47it/s]\n"
     ]
    },
    {
     "name": "stdout",
     "output_type": "stream",
     "text": [
      "Emotion values: {'angry': 1.4059990644454956, 'disgust': 0.0005365921879274538, 'happy': 0.0003630677838373231, 'sad': 7.025428116321564, 'surprise': 0.06037554703652859, 'neutral': 89.46846723556519}\n",
      "Label: neutral\n"
     ]
    },
    {
     "name": "stderr",
     "output_type": "stream",
     "text": [
      "Action: emotion: 100%|██████████| 1/1 [00:00<00:00, 16.42it/s]\n",
      "Action: emotion: 100%|██████████| 1/1 [00:00<00:00, 15.49it/s]\n"
     ]
    },
    {
     "name": "stdout",
     "output_type": "stream",
     "text": [
      "Emotion values: {'angry': 73.61181974411011, 'disgust': 6.817234066147648e-06, 'happy': 24.749982357025146, 'sad': 0.003243814717279747, 'surprise': 1.0634744285198394e-05, 'neutral': 0.00015230291410261998}\n",
      "Label: angry\n"
     ]
    },
    {
     "name": "stderr",
     "output_type": "stream",
     "text": [
      "Action: emotion: 100%|██████████| 1/1 [00:00<00:00, 18.34it/s]\n"
     ]
    },
    {
     "name": "stdout",
     "output_type": "stream",
     "text": [
      "Emotion values: {'angry': 0.6072557893249863, 'disgust': 0.0002296589082570119, 'happy': 0.0006497988057028256, 'sad': 16.09417296017247, 'surprise': 0.043361045792798446, 'neutral': 81.71383629523731}\n",
      "Label: neutral\n"
     ]
    },
    {
     "name": "stderr",
     "output_type": "stream",
     "text": [
      "Action: emotion: 100%|██████████| 1/1 [00:00<00:00, 17.05it/s]\n",
      "Action: emotion: 100%|██████████| 1/1 [00:00<00:00, 16.41it/s]\n"
     ]
    },
    {
     "name": "stdout",
     "output_type": "stream",
     "text": [
      "Emotion values: {'angry': 10.385294751560062, 'disgust': 0.01132688183555461, 'happy': 0.008219079133860887, 'sad': 41.1172528406683, 'surprise': 0.3362069772877666, 'neutral': 8.458960319633523}\n",
      "Label: sad\n"
     ]
    },
    {
     "name": "stderr",
     "output_type": "stream",
     "text": [
      "Action: emotion: 100%|██████████| 1/1 [00:00<00:00, 17.84it/s]\n"
     ]
    },
    {
     "name": "stdout",
     "output_type": "stream",
     "text": [
      "Emotion values: {'angry': 9.069419316122614, 'disgust': 0.0005159696523795226, 'happy': 0.022176346368089007, 'sad': 25.983050348395068, 'surprise': 1.0017079038372154, 'neutral': 20.381559982113842}\n",
      "Label: sad\n"
     ]
    },
    {
     "name": "stderr",
     "output_type": "stream",
     "text": [
      "Action: emotion: 100%|██████████| 1/1 [00:00<00:00, 17.46it/s]\n"
     ]
    },
    {
     "name": "stdout",
     "output_type": "stream",
     "text": [
      "Emotion values: {'angry': 35.99592447280884, 'disgust': 0.0006925924481038237, 'happy': 0.0211258782655932, 'sad': 14.363318681716919, 'surprise': 0.6646281573921442, 'neutral': 40.19061028957367}\n",
      "Label: neutral\n"
     ]
    },
    {
     "name": "stderr",
     "output_type": "stream",
     "text": [
      "Action: emotion: 100%|██████████| 1/1 [00:00<00:00, 16.36it/s]\n"
     ]
    },
    {
     "name": "stdout",
     "output_type": "stream",
     "text": [
      "Emotion values: {'angry': 69.77729797363281, 'disgust': 0.0016501437130500562, 'happy': 0.004659718251787126, 'sad': 10.002575069665909, 'surprise': 0.14663293259218335, 'neutral': 1.1291003786027431}\n",
      "Label: angry\n"
     ]
    },
    {
     "name": "stderr",
     "output_type": "stream",
     "text": [
      "Action: emotion: 100%|██████████| 1/1 [00:00<00:00, 18.30it/s]\n",
      "Action: emotion: 100%|██████████| 1/1 [00:00<00:00, 16.83it/s]\n"
     ]
    },
    {
     "name": "stdout",
     "output_type": "stream",
     "text": [
      "Emotion values: {'angry': 99.58395957946777, 'disgust': 4.062555376549426e-05, 'happy': 0.01392016711179167, 'sad': 0.010119297803612426, 'surprise': 2.453009351199853e-07, 'neutral': 1.5776406314671476e-05}\n",
      "Label: angry\n"
     ]
    },
    {
     "name": "stderr",
     "output_type": "stream",
     "text": [
      "Action: emotion: 100%|██████████| 1/1 [00:00<00:00, 17.09it/s]\n"
     ]
    },
    {
     "name": "stdout",
     "output_type": "stream",
     "text": [
      "Emotion values: {'angry': 8.459612245513469, 'disgust': 0.007785631369623184, 'happy': 0.008011466934548475, 'sad': 23.331159154314893, 'surprise': 1.4992607682062111, 'neutral': 54.247558623261284}\n",
      "Label: neutral\n"
     ]
    },
    {
     "name": "stderr",
     "output_type": "stream",
     "text": [
      "Action: emotion: 100%|██████████| 1/1 [00:00<00:00, 17.00it/s]\n"
     ]
    },
    {
     "name": "stdout",
     "output_type": "stream",
     "text": [
      "Emotion values: {'angry': 3.3017616508291185, 'disgust': 0.0011046699502991943, 'happy': 0.0009831473754610734, 'sad': 18.486029686209, 'surprise': 0.31331801777267243, 'neutral': 74.86346067625753}\n",
      "Label: neutral\n"
     ]
    },
    {
     "name": "stderr",
     "output_type": "stream",
     "text": [
      "Action: emotion: 100%|██████████| 1/1 [00:00<00:00, 15.91it/s]\n"
     ]
    },
    {
     "name": "stdout",
     "output_type": "stream",
     "text": [
      "Emotion values: {'angry': 3.0945168844441313, 'disgust': 0.04017162822003624, 'happy': 4.856351556616836, 'sad': 18.469540063197606, 'surprise': 3.4458070610991642, 'neutral': 3.2214775566485456}\n",
      "Label: sad\n"
     ]
    },
    {
     "name": "stderr",
     "output_type": "stream",
     "text": [
      "Action: emotion: 100%|██████████| 1/1 [00:00<00:00, 16.81it/s]\n"
     ]
    },
    {
     "name": "stdout",
     "output_type": "stream",
     "text": [
      "Emotion values: {'angry': 1.935064721707387, 'disgust': 0.002743558234034783, 'happy': 0.015694157108129984, 'sad': 36.63155356833658, 'surprise': 0.26816860042772295, 'neutral': 57.183066438619285}\n",
      "Label: neutral\n"
     ]
    },
    {
     "name": "stderr",
     "output_type": "stream",
     "text": [
      "Action: emotion: 100%|██████████| 1/1 [00:00<00:00, 18.25it/s]\n"
     ]
    },
    {
     "name": "stdout",
     "output_type": "stream",
     "text": [
      "Emotion values: {'angry': 2.0660027861595154, 'disgust': 0.004211498890072107, 'happy': 0.004380727841635235, 'sad': 32.31343328952789, 'surprise': 0.33209749963134527, 'neutral': 22.47612178325653}\n",
      "Label: sad\n"
     ]
    },
    {
     "name": "stderr",
     "output_type": "stream",
     "text": [
      "Action: emotion: 100%|██████████| 1/1 [00:00<00:00, 16.35it/s]\n",
      "Action: emotion: 100%|██████████| 1/1 [00:00<00:00, 17.70it/s]\n"
     ]
    },
    {
     "name": "stdout",
     "output_type": "stream",
     "text": [
      "Emotion values: {'angry': 98.78436355963622, 'disgust': 4.996399968239281e-06, 'happy': 0.9639966797240545, 'sad': 0.0015887980985154274, 'surprise': 1.410348035169113e-06, 'neutral': 0.00019123344815789002}\n",
      "Label: angry\n"
     ]
    },
    {
     "name": "stderr",
     "output_type": "stream",
     "text": [
      "Action: emotion: 100%|██████████| 1/1 [00:00<00:00, 17.88it/s]\n"
     ]
    },
    {
     "name": "stdout",
     "output_type": "stream",
     "text": [
      "Emotion values: {'angry': 13.698317110538483, 'disgust': 0.0002713300773393712, 'happy': 9.39776668928971e-05, 'sad': 2.4775559082627296, 'surprise': 0.09238794445991516, 'neutral': 83.59927535057068}\n",
      "Label: neutral\n"
     ]
    },
    {
     "name": "stderr",
     "output_type": "stream",
     "text": [
      "Action: emotion: 100%|██████████| 1/1 [00:00<00:00, 17.50it/s]\n",
      "Action: emotion: 100%|██████████| 1/1 [00:00<00:00, 17.61it/s]\n"
     ]
    },
    {
     "name": "stdout",
     "output_type": "stream",
     "text": [
      "Emotion values: {'angry': 99.47417968203779, 'disgust': 3.8469316766111465e-07, 'happy': 0.5195637387262272, 'sad': 0.00038791208757576274, 'surprise': 7.241044183704747e-08, 'neutral': 3.4454909169720716e-05}\n",
      "Label: angry\n"
     ]
    },
    {
     "name": "stderr",
     "output_type": "stream",
     "text": [
      "Action: emotion: 100%|██████████| 1/1 [00:00<00:00, 18.54it/s]\n",
      "Action: emotion: 100%|██████████| 1/1 [00:00<00:00, 18.42it/s]"
     ]
    },
    {
     "name": "stdout",
     "output_type": "stream",
     "text": [
      "Emotion values: {'angry': 96.59944772720337, 'disgust': 0.01664891606196761, 'happy': 1.6548192128539085, 'sad': 0.2781831659376621, 'surprise': 0.0006822358045610599, 'neutral': 0.0004884627287538024}\n",
      "Label: angry\n"
     ]
    },
    {
     "name": "stderr",
     "output_type": "stream",
     "text": [
      "\n",
      "Action: emotion: 100%|██████████| 1/1 [00:00<00:00, 18.08it/s]\n",
      "Action: emotion: 100%|██████████| 1/1 [00:00<00:00, 17.75it/s]"
     ]
    },
    {
     "name": "stdout",
     "output_type": "stream",
     "text": [
      "Emotion values: {'angry': 0.09649553685449064, 'disgust': 9.659117949922802e-06, 'happy': 0.00015487801192648476, 'sad': 1.1513921432197094, 'surprise': 0.43774708174169064, 'neutral': 96.67925834655762}\n",
      "Label: neutral\n"
     ]
    },
    {
     "name": "stderr",
     "output_type": "stream",
     "text": [
      "\n",
      "Action: emotion: 100%|██████████| 1/1 [00:00<00:00, 15.55it/s]\n",
      "Action: emotion: 100%|██████████| 1/1 [00:00<00:00, 17.24it/s]\n"
     ]
    },
    {
     "name": "stdout",
     "output_type": "stream",
     "text": [
      "Emotion values: {'angry': 93.42747887536757, 'disgust': 0.8073873367838464, 'happy': 1.0545959393439257, 'sad': 0.8463254702881259, 'surprise': 0.00040808838707060254, 'neutral': 0.002594124789546697}\n",
      "Label: angry\n"
     ]
    },
    {
     "name": "stderr",
     "output_type": "stream",
     "text": [
      "Action: emotion: 100%|██████████| 1/1 [00:00<00:00, 16.09it/s]\n",
      "Action: emotion: 100%|██████████| 1/1 [00:00<00:00, 14.29it/s]\n"
     ]
    },
    {
     "name": "stdout",
     "output_type": "stream",
     "text": [
      "Emotion values: {'angry': 58.62643122673035, 'disgust': 1.3009642252370668e-06, 'happy': 41.35422706604004, 'sad': 0.009427503391634673, 'surprise': 5.9430815824157435e-08, 'neutral': 1.5533076691554015e-05}\n",
      "Label: angry\n"
     ]
    },
    {
     "name": "stderr",
     "output_type": "stream",
     "text": [
      "Action: emotion: 100%|██████████| 1/1 [00:00<00:00, 17.88it/s]\n",
      "Action: emotion: 100%|██████████| 1/1 [00:00<00:00, 17.52it/s]\n"
     ]
    },
    {
     "name": "stdout",
     "output_type": "stream",
     "text": [
      "Emotion values: {'angry': 95.23634967370633, 'disgust': 0.0031017530940944367, 'happy': 3.669784153129559, 'sad': 0.36613205739771637, 'surprise': 1.7485739836601267e-05, 'neutral': 0.004495099538706485}\n",
      "Label: angry\n"
     ]
    },
    {
     "name": "stderr",
     "output_type": "stream",
     "text": [
      "Action: emotion: 100%|██████████| 1/1 [00:00<00:00, 16.73it/s]\n",
      "Action: emotion: 100%|██████████| 1/1 [00:00<00:00, 17.33it/s]"
     ]
    },
    {
     "name": "stdout",
     "output_type": "stream",
     "text": [
      "Emotion values: {'angry': 3.3995866775512695, 'disgust': 0.0009962086551240645, 'happy': 0.00023506927391281351, 'sad': 8.050835132598877, 'surprise': 0.7193764671683311, 'neutral': 60.36468744277954}\n",
      "Label: neutral\n"
     ]
    },
    {
     "name": "stderr",
     "output_type": "stream",
     "text": [
      "\n",
      "Action: emotion: 100%|██████████| 1/1 [00:00<00:00, 17.00it/s]\n",
      "Action: emotion: 100%|██████████| 1/1 [00:00<00:00, 17.25it/s]\n"
     ]
    },
    {
     "name": "stdout",
     "output_type": "stream",
     "text": [
      "Emotion values: {'angry': 98.19748390898013, 'disgust': 0.015722889866461, 'happy': 0.7500349059721771, 'sad': 0.27597175693343623, 'surprise': 0.00036573444410239293, 'neutral': 0.008205378742557242}\n",
      "Label: angry\n"
     ]
    },
    {
     "name": "stderr",
     "output_type": "stream",
     "text": [
      "Action: emotion: 100%|██████████| 1/1 [00:00<00:00, 18.18it/s]\n",
      "Action: emotion: 100%|██████████| 1/1 [00:00<00:00, 17.34it/s]\n"
     ]
    },
    {
     "name": "stdout",
     "output_type": "stream",
     "text": [
      "Emotion values: {'angry': 1.5619761310517788, 'disgust': 0.00029390628242254024, 'happy': 9.559018963045673e-05, 'sad': 2.2079404443502426, 'surprise': 0.708367582410574, 'neutral': 83.53005051612854}\n",
      "Label: neutral\n"
     ]
    },
    {
     "name": "stderr",
     "output_type": "stream",
     "text": [
      "Action: emotion: 100%|██████████| 1/1 [00:00<00:00, 16.10it/s]\n",
      "Action: emotion: 100%|██████████| 1/1 [00:00<00:00, 16.95it/s]\n"
     ]
    },
    {
     "name": "stdout",
     "output_type": "stream",
     "text": [
      "Emotion values: {'angry': 99.27943940636155, 'disgust': 0.0005151346920318858, 'happy': 0.5326199197095585, 'sad': 0.051899775463701815, 'surprise': 1.3515610770135997e-05, 'neutral': 0.0009146795127384726}\n",
      "Label: angry\n"
     ]
    },
    {
     "name": "stderr",
     "output_type": "stream",
     "text": [
      "Action: emotion: 100%|██████████| 1/1 [00:00<00:00, 17.87it/s]\n"
     ]
    },
    {
     "name": "stdout",
     "output_type": "stream",
     "text": [
      "Emotion values: {'angry': 11.145327078739056, 'disgust': 0.01397817271221998, 'happy': 0.0005442285522195787, 'sad': 0.826367927505723, 'surprise': 6.735685525618258, 'neutral': 3.1691744976251717}\n",
      "Label: angry\n"
     ]
    },
    {
     "name": "stderr",
     "output_type": "stream",
     "text": [
      "Action: emotion: 100%|██████████| 1/1 [00:00<00:00, 17.77it/s]\n"
     ]
    },
    {
     "name": "stdout",
     "output_type": "stream",
     "text": [
      "Emotion values: {'angry': 1.0119852609932423, 'disgust': 0.0001423759272256575, 'happy': 0.0049272453907178715, 'sad': 2.1851591765880585, 'surprise': 12.423353642225266, 'neutral': 19.25347149372101}\n",
      "Label: neutral\n"
     ]
    },
    {
     "name": "stderr",
     "output_type": "stream",
     "text": [
      "Action: emotion: 100%|██████████| 1/1 [00:00<00:00, 17.36it/s]\n"
     ]
    },
    {
     "name": "stdout",
     "output_type": "stream",
     "text": [
      "Emotion values: {'angry': 1.1616205318713821, 'disgust': 1.1525063522970528e-05, 'happy': 0.0001011423257813721, 'sad': 0.6791790825640062, 'surprise': 0.015948247610475582, 'neutral': 96.6342087548028}\n",
      "Label: neutral\n"
     ]
    },
    {
     "name": "stderr",
     "output_type": "stream",
     "text": [
      "Action: emotion: 100%|██████████| 1/1 [00:00<00:00, 17.04it/s]\n"
     ]
    },
    {
     "name": "stdout",
     "output_type": "stream",
     "text": [
      "Emotion values: {'angry': 2.8250580474768907, 'disgust': 0.00011755223131686128, 'happy': 0.0009006275459101079, 'sad': 0.2729635149889299, 'surprise': 15.17688424449469, 'neutral': 4.062421116973228}\n",
      "Label: surprise\n"
     ]
    },
    {
     "name": "stderr",
     "output_type": "stream",
     "text": [
      "Action: emotion: 100%|██████████| 1/1 [00:00<00:00, 16.85it/s]\n"
     ]
    },
    {
     "name": "stdout",
     "output_type": "stream",
     "text": [
      "Emotion values: {'angry': 2.311122976243496, 'disgust': 0.00016012847936508479, 'happy': 0.003673375249491073, 'sad': 0.0398093689000234, 'surprise': 31.20115101337433, 'neutral': 0.09686924167908728}\n",
      "Label: surprise\n"
     ]
    },
    {
     "name": "stderr",
     "output_type": "stream",
     "text": [
      "Action: emotion: 100%|██████████| 1/1 [00:00<00:00, 16.92it/s]\n"
     ]
    },
    {
     "name": "stdout",
     "output_type": "stream",
     "text": [
      "Emotion values: {'angry': 11.710524653133792, 'disgust': 0.0024738465760928935, 'happy': 0.03674645411917369, 'sad': 0.016522842119518863, 'surprise': 75.61175517895757, 'neutral': 0.1397854016232012}\n",
      "Label: surprise\n"
     ]
    },
    {
     "name": "stderr",
     "output_type": "stream",
     "text": [
      "Action: emotion: 100%|██████████| 1/1 [00:00<00:00, 16.71it/s]\n"
     ]
    },
    {
     "name": "stdout",
     "output_type": "stream",
     "text": [
      "Emotion values: {'angry': 0.3548721084371209, 'disgust': 1.9277432272701844e-05, 'happy': 0.004812205588677898, 'sad': 0.0007609571639477508, 'surprise': 67.6313579082489, 'neutral': 0.0018174023352912627}\n",
      "Label: surprise\n"
     ]
    },
    {
     "name": "stderr",
     "output_type": "stream",
     "text": [
      "Action: emotion: 100%|██████████| 1/1 [00:00<00:00, 16.67it/s]\n"
     ]
    },
    {
     "name": "stdout",
     "output_type": "stream",
     "text": [
      "Emotion values: {'angry': 2.081502787768841, 'disgust': 0.00041792031879595015, 'happy': 0.006029866563039832, 'sad': 0.0012375591722957324, 'surprise': 72.69150614738464, 'neutral': 0.0016307001715176739}\n",
      "Label: surprise\n"
     ]
    },
    {
     "name": "stderr",
     "output_type": "stream",
     "text": [
      "Action: emotion: 100%|██████████| 1/1 [00:00<00:00, 17.27it/s]\n"
     ]
    },
    {
     "name": "stdout",
     "output_type": "stream",
     "text": [
      "Emotion values: {'angry': 0.16130991685421267, 'disgust': 7.981585853338019e-05, 'happy': 0.002767426519556349, 'sad': 0.0009687713582217844, 'surprise': 82.06858848707813, 'neutral': 0.0006299630217013026}\n",
      "Label: surprise\n"
     ]
    },
    {
     "name": "stderr",
     "output_type": "stream",
     "text": [
      "Action: emotion: 100%|██████████| 1/1 [00:00<00:00, 16.78it/s]\n"
     ]
    },
    {
     "name": "stdout",
     "output_type": "stream",
     "text": [
      "Emotion values: {'angry': 0.5017813162617306, 'disgust': 1.9948403926557877e-05, 'happy': 0.002920114290877591, 'sad': 0.0009773325217784729, 'surprise': 69.4307125293359, 'neutral': 0.002344389479472904}\n",
      "Label: surprise\n"
     ]
    },
    {
     "name": "stderr",
     "output_type": "stream",
     "text": [
      "Action: emotion: 100%|██████████| 1/1 [00:00<00:00, 16.86it/s]\n"
     ]
    },
    {
     "name": "stdout",
     "output_type": "stream",
     "text": [
      "Emotion values: {'angry': 0.6332660559564829, 'disgust': 5.2918869641871424e-05, 'happy': 0.002821696580213029, 'sad': 0.0008086793968686834, 'surprise': 77.2351622581482, 'neutral': 0.0009277145181840751}\n",
      "Label: surprise\n"
     ]
    },
    {
     "name": "stderr",
     "output_type": "stream",
     "text": [
      "Action: emotion: 100%|██████████| 1/1 [00:00<00:00, 17.52it/s]\n"
     ]
    },
    {
     "name": "stdout",
     "output_type": "stream",
     "text": [
      "Emotion values: {'angry': 1.0614246129989624, 'disgust': 5.512153506970208e-05, 'happy': 0.002854589001799468, 'sad': 0.0010425886102893855, 'surprise': 71.03077173233032, 'neutral': 0.001636995148146525}\n",
      "Label: surprise\n"
     ]
    },
    {
     "name": "stderr",
     "output_type": "stream",
     "text": [
      "Action: emotion: 100%|██████████| 1/1 [00:00<00:00, 15.09it/s]\n"
     ]
    },
    {
     "name": "stdout",
     "output_type": "stream",
     "text": [
      "Emotion values: {'angry': 0.21629295204090787, 'disgust': 6.304984999090717e-06, 'happy': 0.0011106043282639486, 'sad': 0.00041556288782369793, 'surprise': 65.7824078668599, 'neutral': 0.00045759900784942927}\n",
      "Label: surprise\n"
     ]
    },
    {
     "name": "stderr",
     "output_type": "stream",
     "text": [
      "Action: emotion: 100%|██████████| 1/1 [00:00<00:00, 17.46it/s]\n"
     ]
    },
    {
     "name": "stdout",
     "output_type": "stream",
     "text": [
      "Emotion values: {'angry': 0.06701669190078974, 'disgust': 1.11089647703011e-05, 'happy': 0.0011123531294288114, 'sad': 0.00012169487035862403, 'surprise': 84.58686470985413, 'neutral': 6.005575414747e-05}\n",
      "Label: surprise\n"
     ]
    },
    {
     "name": "stderr",
     "output_type": "stream",
     "text": [
      "Action: emotion: 100%|██████████| 1/1 [00:00<00:00, 16.78it/s]\n"
     ]
    },
    {
     "name": "stdout",
     "output_type": "stream",
     "text": [
      "Emotion values: {'angry': 0.32053735011370776, 'disgust': 0.00014181992483952745, 'happy': 0.01374699477142158, 'sad': 0.004114026761059253, 'surprise': 53.81363584832718, 'neutral': 0.0021590264777951976}\n",
      "Label: surprise\n"
     ]
    },
    {
     "name": "stderr",
     "output_type": "stream",
     "text": [
      "Action: emotion: 100%|██████████| 1/1 [00:00<00:00, 18.74it/s]\n"
     ]
    },
    {
     "name": "stdout",
     "output_type": "stream",
     "text": [
      "Emotion values: {'angry': 0.00295266417515977, 'disgust': 3.8527996424848674e-07, 'happy': 0.8408574888621264, 'sad': 0.002617362744359966, 'surprise': 7.154503891140455, 'neutral': 0.04221849336939266}\n",
      "Label: surprise\n"
     ]
    },
    {
     "name": "stderr",
     "output_type": "stream",
     "text": [
      "Action: emotion: 100%|██████████| 1/1 [00:00<00:00, 18.04it/s]\n"
     ]
    },
    {
     "name": "stdout",
     "output_type": "stream",
     "text": [
      "Emotion values: {'angry': 2.274663444268299e-05, 'disgust': 2.3482110700356884e-08, 'happy': 97.16192483901978, 'sad': 0.002333672273380216, 'surprise': 0.0008215235538955312, 'neutral': 2.834724634885788}\n",
      "Label: happy\n"
     ]
    },
    {
     "name": "stderr",
     "output_type": "stream",
     "text": [
      "Action: emotion: 100%|██████████| 1/1 [00:00<00:00, 16.86it/s]\n"
     ]
    },
    {
     "name": "stdout",
     "output_type": "stream",
     "text": [
      "Emotion values: {'angry': 4.49623523697433, 'disgust': 0.02436546492969663, 'happy': 0.1028040185022034, 'sad': 2.9849827456494875, 'surprise': 0.2505208998297572, 'neutral': 5.372388392998172}\n",
      "Label: neutral\n"
     ]
    },
    {
     "name": "stderr",
     "output_type": "stream",
     "text": [
      "Action: emotion: 100%|██████████| 1/1 [00:00<00:00, 18.11it/s]\n"
     ]
    },
    {
     "name": "stdout",
     "output_type": "stream",
     "text": [
      "Emotion values: {'angry': 1.4867247037127438, 'disgust': 0.04208172573077534, 'happy': 3.4543940993782343, 'sad': 1.86442352768323, 'surprise': 0.49922669488052696, 'neutral': 2.2741345181545327}\n",
      "Label: happy\n"
     ]
    },
    {
     "name": "stderr",
     "output_type": "stream",
     "text": [
      "Action: emotion: 100%|██████████| 1/1 [00:00<00:00, 18.23it/s]\n"
     ]
    },
    {
     "name": "stdout",
     "output_type": "stream",
     "text": [
      "Emotion values: {'angry': 23.591624200344086, 'disgust': 0.3313838969916105, 'happy': 0.012433114170562476, 'sad': 6.334060430526733, 'surprise': 0.1571889966726303, 'neutral': 31.71808123588562}\n",
      "Label: neutral\n"
     ]
    },
    {
     "name": "stderr",
     "output_type": "stream",
     "text": [
      "Action: emotion: 100%|██████████| 1/1 [00:00<00:00, 16.65it/s]\n"
     ]
    },
    {
     "name": "stdout",
     "output_type": "stream",
     "text": [
      "Emotion values: {'angry': 0.13255735393613577, 'disgust': 0.016536905604880303, 'happy': 3.05466465651989, 'sad': 22.37560600042343, 'surprise': 0.06135679432190955, 'neutral': 62.62280344963074}\n",
      "Label: neutral\n"
     ]
    },
    {
     "name": "stderr",
     "output_type": "stream",
     "text": [
      "Action: emotion: 100%|██████████| 1/1 [00:00<00:00, 18.55it/s]\n"
     ]
    },
    {
     "name": "stdout",
     "output_type": "stream",
     "text": [
      "Emotion values: {'angry': 0.5428063217550516, 'disgust': 0.002115727693308145, 'happy': 0.023482876713387668, 'sad': 4.936575889587402, 'surprise': 0.040340417763218284, 'neutral': 93.08581352233887}\n",
      "Label: neutral\n"
     ]
    },
    {
     "name": "stderr",
     "output_type": "stream",
     "text": [
      "Action: emotion: 100%|██████████| 1/1 [00:00<00:00, 18.32it/s]\n"
     ]
    },
    {
     "name": "stdout",
     "output_type": "stream",
     "text": [
      "Emotion values: {'angry': 0.147490605133397, 'disgust': 0.0003726615194368521, 'happy': 0.08035951553473061, 'sad': 80.90213309551872, 'surprise': 0.00041980452353947704, 'neutral': 4.024327653566319}\n",
      "Label: sad\n"
     ]
    },
    {
     "name": "stderr",
     "output_type": "stream",
     "text": [
      "Action: emotion: 100%|██████████| 1/1 [00:00<00:00, 16.20it/s]\n"
     ]
    },
    {
     "name": "stdout",
     "output_type": "stream",
     "text": [
      "Emotion values: {'angry': 0.0015520801721920613, 'disgust': 1.987557898916576e-05, 'happy': 0.010632590607533606, 'sad': 69.30765875486627, 'surprise': 1.743211589326866e-06, 'neutral': 0.2611523415637205}\n",
      "Label: sad\n"
     ]
    },
    {
     "name": "stderr",
     "output_type": "stream",
     "text": [
      "Action: emotion: 100%|██████████| 1/1 [00:00<00:00, 17.61it/s]\n"
     ]
    },
    {
     "name": "stdout",
     "output_type": "stream",
     "text": [
      "Emotion values: {'angry': 0.03763221902772784, 'disgust': 0.0008960468221630435, 'happy': 0.43160635977983475, 'sad': 46.75018787384033, 'surprise': 0.0005157960003998596, 'neutral': 8.99120345711708}\n",
      "Label: sad\n"
     ]
    },
    {
     "name": "stderr",
     "output_type": "stream",
     "text": [
      "Action: emotion: 100%|██████████| 1/1 [00:00<00:00, 18.11it/s]\n"
     ]
    },
    {
     "name": "stdout",
     "output_type": "stream",
     "text": [
      "Emotion values: {'angry': 0.5616449081426969, 'disgust': 0.06188127289451386, 'happy': 2.285472217443917, 'sad': 70.63024394151641, 'surprise': 0.0029395787484677695, 'neutral': 4.520449621027753}\n",
      "Label: sad\n"
     ]
    },
    {
     "name": "stderr",
     "output_type": "stream",
     "text": [
      "Action: emotion: 100%|██████████| 1/1 [00:00<00:00, 18.18it/s]\n"
     ]
    },
    {
     "name": "stdout",
     "output_type": "stream",
     "text": [
      "Emotion values: {'angry': 0.3815919626504183, 'disgust': 0.037714827340096235, 'happy': 3.8285888731479645, 'sad': 71.0649311542511, 'surprise': 0.0054764772357884794, 'neutral': 10.630219429731369}\n",
      "Label: sad\n"
     ]
    },
    {
     "name": "stderr",
     "output_type": "stream",
     "text": [
      "Action: emotion: 100%|██████████| 1/1 [00:00<00:00, 17.93it/s]\n"
     ]
    },
    {
     "name": "stdout",
     "output_type": "stream",
     "text": [
      "Emotion values: {'angry': 0.15794513747096062, 'disgust': 0.04809455422218889, 'happy': 1.8512897193431854, 'sad': 50.88768005371094, 'surprise': 0.006351315096253529, 'neutral': 8.341751992702484}\n",
      "Label: sad\n"
     ]
    },
    {
     "name": "stderr",
     "output_type": "stream",
     "text": [
      "Action: emotion: 100%|██████████| 1/1 [00:00<00:00, 14.93it/s]\n"
     ]
    },
    {
     "name": "stdout",
     "output_type": "stream",
     "text": [
      "Emotion values: {'angry': 0.024755073556978913, 'disgust': 3.875622898242747e-06, 'happy': 0.020282921949966816, 'sad': 0.47626158267328633, 'surprise': 0.0004303720999858942, 'neutral': 99.45303198415232}\n",
      "Label: neutral\n"
     ]
    }
   ],
   "source": [
    "from keras.preprocessing.image import img_to_array\n",
    "import imutils\n",
    "import cv2\n",
    "import numpy as np\n",
    "import os\n",
    "import pygame\n",
    "from deepface import DeepFace\n",
    "import tempfile\n",
    "\n",
    "\n",
    "pygame.mixer.init()\n",
    "\n",
    "detection_model_path = os.path.abspath(r\"C:\\Users\\SomeshP\\Downloads\\haarcascade_files\\haarcascade_frontalface_default.xml\")\n",
    "emotion_model_path = r'C:\\Users\\SomeshP\\.deepface\\weights\\facial_expression_model_weights.h5'\n",
    "preds = ''\n",
    "\n",
    "\n",
    "face_detection = cv2.CascadeClassifier(detection_model_path)\n",
    "EMOTIONS = [\"angry\", \"disgust\", \"scared\", \"happy\", \"sad\", \"surprised\", \"neutral\"]\n",
    "EMOTIONS_EXCLUDE = [\"fear\"]\n",
    "label = ''\n",
    "\n",
    "# Load music files\n",
    "happy_music = pygame.mixer.Sound(r\"C:\\Users\\SomeshP\\happ_music.wav\\jaaniye.mp3\")\n",
    "sad_music = pygame.mixer.Sound(r\"C:\\Users\\SomeshP\\sad_music.wav\\phirbichaunga.mp3\")\n",
    "surprised_music = pygame.mixer.Sound(r\"C:\\Users\\SomeshP\\surprise_music.wav\\aedilmushkil.mp3\")\n",
    "neutral_music = pygame.mixer.Sound(r\"C:\\Users\\SomeshP\\songs\\neutral_music.wav\\zindabanda.mp3\")\n",
    "angry_music = pygame.mixer.Sound(r\"C:\\Users\\SomeshP\\angry_music.wav\\zinda.mp3\")\n",
    "\n",
    "# Starting video streaming\n",
    "cv2.namedWindow('your_face')\n",
    "camera = cv2.VideoCapture(0)\n",
    "\n",
    "face_scaleFactor = 1.1\n",
    "face_minNeighbors = 5\n",
    "face_minSize = (30, 30)\n",
    "\n",
    "while True:\n",
    "    frame = camera.read()[1]\n",
    "    frame = imutils.resize(frame, width=400)\n",
    "    gray = cv2.cvtColor(frame, cv2.COLOR_BGR2GRAY)\n",
    "\n",
    "    \n",
    "    faces = face_detection.detectMultiScale(gray, scaleFactor=face_scaleFactor, minNeighbors=face_minNeighbors, minSize=face_minSize, flags=cv2.CASCADE_SCALE_IMAGE)\n",
    "\n",
    "    canvas = np.zeros((250, 300, 3), dtype=\"uint8\")\n",
    "    frameClone = frame.copy()\n",
    "\n",
    "\n",
    "    if len(faces) > 0:\n",
    "        fX, fY, fW, fH = faces[0] \n",
    "\n",
    "        cv2.rectangle(frameClone, (fX, fY), (fX + fW, fY + fH), (255, 0, 0), 2)\n",
    "\n",
    "        roi_gray = gray[fY:fY + fH, fX:fX + fW]\n",
    "\n",
    "        \n",
    "        temp_filename = tempfile.NamedTemporaryFile(delete=False).name + '.jpg'\n",
    "        cv2.imwrite(temp_filename, roi_gray)\n",
    "\n",
    "        \n",
    "        result = DeepFace.analyze(img_path=temp_filename, actions=['emotion'], enforce_detection=False)\n",
    "\n",
    "        \n",
    "        if result and 'emotion' in result[0]:\n",
    "            emotion_values = result[0]['emotion']\n",
    "\n",
    "            \n",
    "            emotion_values = {emotion: prob for emotion, prob in emotion_values.items() if emotion not in EMOTIONS_EXCLUDE}\n",
    "\n",
    "            print(\"Emotion values:\", emotion_values)\n",
    "\n",
    "            if emotion_values:\n",
    "                label = max(emotion_values, key=emotion_values.get)\n",
    "                print(\"Label:\", label)\n",
    "\n",
    "                \n",
    "                pygame.mixer.music.stop()  #\n",
    "\n",
    "                if label == \"happy\":\n",
    "                    pygame.mixer.music.load(r\"C:\\Users\\SomeshP\\happ_music.wav\\jaaniye.mp3\")\n",
    "                elif label == \"sad\":\n",
    "                    pygame.mixer.music.load(r\"C:\\Users\\SomeshP\\sad_music.wav\\phirbichaunga.mp3\")\n",
    "                elif label == \"surprised\":\n",
    "                    pygame.mixer.music.load(r\"C:\\Users\\SomeshP\\surprise_music.wav\\aedilmushkil.mp3\")\n",
    "                elif label == \"neutral\":\n",
    "                    pygame.mixer.music.load(r\"C:\\Users\\SomeshP\\songs\\neutral_music.wav\\zindabanda.mp3\")\n",
    "                elif label == \"angry\":\n",
    "                    pygame.mixer.music.load(r\"C:\\Users\\SomeshP\\angry_music.wav\\zinda.mp3\")\n",
    "\n",
    "                pygame.mixer.music.play()\n",
    "\n",
    "                \n",
    "                cv2.putText(frameClone, f'Emotion: {label}', (10, 50), cv2.FONT_HERSHEY_SIMPLEX, 1, (0, 255, 0), 2)\n",
    "\n",
    "        \n",
    "        os.remove(temp_filename)\n",
    "\n",
    "    cv2.imshow('your_face', frameClone)\n",
    "\n",
    "    key = cv2.waitKey(1)\n",
    "    if key & 0xFF == ord('q'):\n",
    "        pygame.mixer.music.stop()\n",
    "        pygame.mixer.quit()  \n",
    "        break\n",
    "\n",
    "\n",
    "camera.release()\n",
    "cv2.destroyAllWindows()\n"
   ]
  },
  {
   "cell_type": "code",
   "execution_count": null,
   "id": "42f52a4d",
   "metadata": {},
   "outputs": [],
   "source": []
  }
 ],
 "metadata": {
  "kernelspec": {
   "display_name": "Python 3 (ipykernel)",
   "language": "python",
   "name": "python3"
  },
  "language_info": {
   "codemirror_mode": {
    "name": "ipython",
    "version": 3
   },
   "file_extension": ".py",
   "mimetype": "text/x-python",
   "name": "python",
   "nbconvert_exporter": "python",
   "pygments_lexer": "ipython3",
   "version": "3.11.3"
  }
 },
 "nbformat": 4,
 "nbformat_minor": 5
}
